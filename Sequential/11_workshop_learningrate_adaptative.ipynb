{
  "nbformat": 4,
  "nbformat_minor": 0,
  "metadata": {
    "colab": {
      "name": "11_workshop_learningrate_adaptative.ipynb",
      "provenance": [],
      "authorship_tag": "ABX9TyNhFX9O8oxP0QWkCgHAqIlv",
      "include_colab_link": true
    },
    "kernelspec": {
      "name": "python3",
      "display_name": "Python 3"
    },
    "language_info": {
      "name": "python"
    }
  },
  "cells": [
    {
      "cell_type": "markdown",
      "metadata": {
        "id": "view-in-github",
        "colab_type": "text"
      },
      "source": [
        "<a href=\"https://colab.research.google.com/github/Kaiziferr/-Miner_Detector/blob/master/Sequential/11_workshop_learningrate_adaptative.ipynb\" target=\"_parent\"><img src=\"https://colab.research.google.com/assets/colab-badge.svg\" alt=\"Open In Colab\"/></a>"
      ]
    },
    {
      "cell_type": "code",
      "metadata": {
        "id": "7P5ttScbT-Fu"
      },
      "source": [
        "import pandas as pd"
      ],
      "execution_count": 1,
      "outputs": []
    },
    {
      "cell_type": "code",
      "metadata": {
        "id": "2kHsWJGsUFcW"
      },
      "source": [
        "url = 'https://raw.githubusercontent.com/jbrownlee/Datasets/master/ionosphere.csv'\n",
        "data = pd.read_csv(url)\n",
        "data_values = data.values"
      ],
      "execution_count": 2,
      "outputs": []
    },
    {
      "cell_type": "markdown",
      "metadata": {
        "id": "p3sl56c3UigX"
      },
      "source": [
        "# Planificación de learning rate en función del tiempo"
      ]
    },
    {
      "cell_type": "code",
      "metadata": {
        "id": "A5QMAwlXUlyN"
      },
      "source": [
        "from keras.models import Sequential\n",
        "from keras.layers import Dense\n",
        "from keras.optimizers import SGD\n",
        "from sklearn.preprocessing import LabelEncoder, StandardScaler\n",
        "from keras.callbacks import LearningRateScheduler\n",
        "import math"
      ],
      "execution_count": 3,
      "outputs": []
    },
    {
      "cell_type": "code",
      "metadata": {
        "id": "PMwuxZVmYxOe"
      },
      "source": [
        "X = data_values[:, 0:34].astype('float')\n",
        "y  = data_values[:, 34]"
      ],
      "execution_count": 4,
      "outputs": []
    },
    {
      "cell_type": "code",
      "metadata": {
        "id": "U1zHf9tvZJAf"
      },
      "source": [
        "#Encode\n",
        "encoder = LabelEncoder()\n",
        "encoder.fit(y)\n",
        "y_encode = encoder.transform(y)"
      ],
      "execution_count": 5,
      "outputs": []
    },
    {
      "cell_type": "code",
      "metadata": {
        "id": "VxkfnlPAZYOj"
      },
      "source": [
        "#Create model\n",
        "model = Sequential()\n",
        "model.add(Dense(34, input_dim = 34, activation='relu'))\n",
        "model.add(Dense(1, activation='sigmoid'))"
      ],
      "execution_count": 6,
      "outputs": []
    },
    {
      "cell_type": "code",
      "metadata": {
        "id": "kXLT6voKZrkT"
      },
      "source": [
        "epoch = 50\n",
        "lr = 0.1\n",
        "decay_rate = lr/epoch\n",
        "momentum = 0.8\n",
        "\n",
        "sgd = SGD(learning_rate=lr, momentum=momentum, decay=decay_rate, nesterov = False)\n",
        "model.compile(loss = 'binary_crossentropy', optimizer=sgd, metrics=['accuracy'])"
      ],
      "execution_count": 7,
      "outputs": []
    },
    {
      "cell_type": "code",
      "metadata": {
        "colab": {
          "base_uri": "https://localhost:8080/"
        },
        "id": "uidKV_FXaU4G",
        "outputId": "75c5ee65-df56-4324-bf3e-94cc1d5a3bcb"
      },
      "source": [
        "model.fit(X, y_encode, validation_split=0.33, epochs=epoch, batch_size=28, verbose=2)"
      ],
      "execution_count": 8,
      "outputs": [
        {
          "output_type": "stream",
          "text": [
            "Epoch 1/50\n",
            "9/9 - 14s - loss: 0.6529 - accuracy: 0.6453 - val_loss: 0.4901 - val_accuracy: 0.7672\n",
            "Epoch 2/50\n",
            "9/9 - 0s - loss: 0.4497 - accuracy: 0.8462 - val_loss: 0.3516 - val_accuracy: 0.9828\n",
            "Epoch 3/50\n",
            "9/9 - 0s - loss: 0.3309 - accuracy: 0.8932 - val_loss: 0.2065 - val_accuracy: 0.9741\n",
            "Epoch 4/50\n",
            "9/9 - 0s - loss: 0.2715 - accuracy: 0.9060 - val_loss: 0.1598 - val_accuracy: 0.9828\n",
            "Epoch 5/50\n",
            "9/9 - 0s - loss: 0.2283 - accuracy: 0.9188 - val_loss: 0.1656 - val_accuracy: 0.9741\n",
            "Epoch 6/50\n",
            "9/9 - 0s - loss: 0.2017 - accuracy: 0.9274 - val_loss: 0.1115 - val_accuracy: 0.9828\n",
            "Epoch 7/50\n",
            "9/9 - 0s - loss: 0.1833 - accuracy: 0.9316 - val_loss: 0.1342 - val_accuracy: 0.9828\n",
            "Epoch 8/50\n",
            "9/9 - 0s - loss: 0.1880 - accuracy: 0.9274 - val_loss: 0.0883 - val_accuracy: 0.9741\n",
            "Epoch 9/50\n",
            "9/9 - 0s - loss: 0.1691 - accuracy: 0.9402 - val_loss: 0.1312 - val_accuracy: 0.9828\n",
            "Epoch 10/50\n",
            "9/9 - 0s - loss: 0.1438 - accuracy: 0.9487 - val_loss: 0.1344 - val_accuracy: 0.9828\n",
            "Epoch 11/50\n",
            "9/9 - 0s - loss: 0.1344 - accuracy: 0.9573 - val_loss: 0.0850 - val_accuracy: 0.9914\n",
            "Epoch 12/50\n",
            "9/9 - 0s - loss: 0.1306 - accuracy: 0.9530 - val_loss: 0.1835 - val_accuracy: 0.9483\n",
            "Epoch 13/50\n",
            "9/9 - 0s - loss: 0.1308 - accuracy: 0.9573 - val_loss: 0.0929 - val_accuracy: 0.9914\n",
            "Epoch 14/50\n",
            "9/9 - 0s - loss: 0.1168 - accuracy: 0.9615 - val_loss: 0.1003 - val_accuracy: 0.9914\n",
            "Epoch 15/50\n",
            "9/9 - 0s - loss: 0.1080 - accuracy: 0.9615 - val_loss: 0.0742 - val_accuracy: 0.9914\n",
            "Epoch 16/50\n",
            "9/9 - 0s - loss: 0.1159 - accuracy: 0.9530 - val_loss: 0.1218 - val_accuracy: 0.9741\n",
            "Epoch 17/50\n",
            "9/9 - 0s - loss: 0.1029 - accuracy: 0.9744 - val_loss: 0.0918 - val_accuracy: 0.9914\n",
            "Epoch 18/50\n",
            "9/9 - 0s - loss: 0.0949 - accuracy: 0.9701 - val_loss: 0.1026 - val_accuracy: 0.9914\n",
            "Epoch 19/50\n",
            "9/9 - 0s - loss: 0.0968 - accuracy: 0.9701 - val_loss: 0.0740 - val_accuracy: 0.9914\n",
            "Epoch 20/50\n",
            "9/9 - 0s - loss: 0.0939 - accuracy: 0.9786 - val_loss: 0.1532 - val_accuracy: 0.9569\n",
            "Epoch 21/50\n",
            "9/9 - 0s - loss: 0.0930 - accuracy: 0.9701 - val_loss: 0.0763 - val_accuracy: 0.9914\n",
            "Epoch 22/50\n",
            "9/9 - 0s - loss: 0.0839 - accuracy: 0.9786 - val_loss: 0.0882 - val_accuracy: 0.9914\n",
            "Epoch 23/50\n",
            "9/9 - 0s - loss: 0.0801 - accuracy: 0.9786 - val_loss: 0.0826 - val_accuracy: 0.9914\n",
            "Epoch 24/50\n",
            "9/9 - 0s - loss: 0.0779 - accuracy: 0.9829 - val_loss: 0.0813 - val_accuracy: 0.9914\n",
            "Epoch 25/50\n",
            "9/9 - 0s - loss: 0.0762 - accuracy: 0.9829 - val_loss: 0.0858 - val_accuracy: 0.9914\n",
            "Epoch 26/50\n",
            "9/9 - 0s - loss: 0.0723 - accuracy: 0.9829 - val_loss: 0.0838 - val_accuracy: 0.9914\n",
            "Epoch 27/50\n",
            "9/9 - 0s - loss: 0.0701 - accuracy: 0.9829 - val_loss: 0.0705 - val_accuracy: 0.9914\n",
            "Epoch 28/50\n",
            "9/9 - 0s - loss: 0.0702 - accuracy: 0.9829 - val_loss: 0.0746 - val_accuracy: 0.9914\n",
            "Epoch 29/50\n",
            "9/9 - 0s - loss: 0.0674 - accuracy: 0.9829 - val_loss: 0.0868 - val_accuracy: 0.9914\n",
            "Epoch 30/50\n",
            "9/9 - 0s - loss: 0.0702 - accuracy: 0.9872 - val_loss: 0.0769 - val_accuracy: 0.9914\n",
            "Epoch 31/50\n",
            "9/9 - 0s - loss: 0.0683 - accuracy: 0.9872 - val_loss: 0.0586 - val_accuracy: 0.9914\n",
            "Epoch 32/50\n",
            "9/9 - 0s - loss: 0.0647 - accuracy: 0.9829 - val_loss: 0.0703 - val_accuracy: 0.9914\n",
            "Epoch 33/50\n",
            "9/9 - 0s - loss: 0.0620 - accuracy: 0.9829 - val_loss: 0.0583 - val_accuracy: 0.9828\n",
            "Epoch 34/50\n",
            "9/9 - 0s - loss: 0.0599 - accuracy: 0.9829 - val_loss: 0.0733 - val_accuracy: 0.9914\n",
            "Epoch 35/50\n",
            "9/9 - 0s - loss: 0.0601 - accuracy: 0.9829 - val_loss: 0.0716 - val_accuracy: 0.9914\n",
            "Epoch 36/50\n",
            "9/9 - 0s - loss: 0.0591 - accuracy: 0.9829 - val_loss: 0.0609 - val_accuracy: 0.9914\n",
            "Epoch 37/50\n",
            "9/9 - 0s - loss: 0.0574 - accuracy: 0.9829 - val_loss: 0.0630 - val_accuracy: 0.9914\n",
            "Epoch 38/50\n",
            "9/9 - 0s - loss: 0.0579 - accuracy: 0.9829 - val_loss: 0.0652 - val_accuracy: 0.9914\n",
            "Epoch 39/50\n",
            "9/9 - 0s - loss: 0.0592 - accuracy: 0.9829 - val_loss: 0.0666 - val_accuracy: 0.9914\n",
            "Epoch 40/50\n",
            "9/9 - 0s - loss: 0.0560 - accuracy: 0.9915 - val_loss: 0.0584 - val_accuracy: 0.9914\n",
            "Epoch 41/50\n",
            "9/9 - 0s - loss: 0.0554 - accuracy: 0.9872 - val_loss: 0.0681 - val_accuracy: 0.9914\n",
            "Epoch 42/50\n",
            "9/9 - 0s - loss: 0.0532 - accuracy: 0.9872 - val_loss: 0.0636 - val_accuracy: 0.9914\n",
            "Epoch 43/50\n",
            "9/9 - 0s - loss: 0.0492 - accuracy: 0.9915 - val_loss: 0.0654 - val_accuracy: 0.9914\n",
            "Epoch 44/50\n",
            "9/9 - 0s - loss: 0.0488 - accuracy: 0.9915 - val_loss: 0.0579 - val_accuracy: 0.9914\n",
            "Epoch 45/50\n",
            "9/9 - 0s - loss: 0.0480 - accuracy: 0.9915 - val_loss: 0.0666 - val_accuracy: 0.9914\n",
            "Epoch 46/50\n",
            "9/9 - 0s - loss: 0.0494 - accuracy: 0.9915 - val_loss: 0.0592 - val_accuracy: 0.9914\n",
            "Epoch 47/50\n",
            "9/9 - 0s - loss: 0.0467 - accuracy: 0.9915 - val_loss: 0.0699 - val_accuracy: 0.9914\n",
            "Epoch 48/50\n",
            "9/9 - 0s - loss: 0.0523 - accuracy: 0.9872 - val_loss: 0.0522 - val_accuracy: 0.9914\n",
            "Epoch 49/50\n",
            "9/9 - 0s - loss: 0.0473 - accuracy: 0.9829 - val_loss: 0.0741 - val_accuracy: 0.9914\n",
            "Epoch 50/50\n",
            "9/9 - 0s - loss: 0.0565 - accuracy: 0.9829 - val_loss: 0.0572 - val_accuracy: 0.9914\n"
          ],
          "name": "stdout"
        },
        {
          "output_type": "execute_result",
          "data": {
            "text/plain": [
              "<keras.callbacks.History at 0x7f163467d110>"
            ]
          },
          "metadata": {
            "tags": []
          },
          "execution_count": 8
        }
      ]
    },
    {
      "cell_type": "markdown",
      "metadata": {
        "id": "2NbSf_6qa7SS"
      },
      "source": [
        "# Tasa de aprendizaje basado en caidas (drop)"
      ]
    },
    {
      "cell_type": "code",
      "metadata": {
        "id": "4ua4R1WNa5UW"
      },
      "source": [
        "def step_decay(epoch):\n",
        "  initial_rate = 0.1\n",
        "  drop = 0.5\n",
        "  epochs_drop = 10\n",
        "  lrate = initial_rate * math.pow(drop, math.floor(1+epoch) / epochs_drop)\n",
        "  return lrate"
      ],
      "execution_count": 16,
      "outputs": []
    },
    {
      "cell_type": "code",
      "metadata": {
        "id": "Opn6hvOmbkFe"
      },
      "source": [
        "#Create model\n",
        "model = Sequential()\n",
        "model.add(Dense(34, input_dim = 34, activation='relu'))\n",
        "model.add(Dense(1, activation='sigmoid'))"
      ],
      "execution_count": 11,
      "outputs": []
    },
    {
      "cell_type": "code",
      "metadata": {
        "id": "TZSMVgvFdfxf"
      },
      "source": [
        "#Compile model\n",
        "sgd = SGD(learning_rate=0.0, momentum=0.9)\n",
        "model.compile(loss='binary_crossentropy', optimizer=sgd, metrics=['accuracy'])"
      ],
      "execution_count": 12,
      "outputs": []
    },
    {
      "cell_type": "code",
      "metadata": {
        "colab": {
          "base_uri": "https://localhost:8080/"
        },
        "id": "fp8N61TNeLya",
        "outputId": "4b7b7513-6606-4b36-83f3-c430aa2a2787"
      },
      "source": [
        "#Planificador de aprendizaje\n",
        "lrate = LearningRateScheduler(step_decay)\n",
        "callback_list = [lrate]\n",
        "\n",
        "model.fit(X, y_encode, validation_split=0.33,epochs=50,batch_size=28, callbacks=callback_list, verbose=2)"
      ],
      "execution_count": 17,
      "outputs": [
        {
          "output_type": "stream",
          "text": [
            "Epoch 1/50\n",
            "9/9 - 1s - loss: 0.6458 - accuracy: 0.6239 - val_loss: 0.3943 - val_accuracy: 0.9052\n",
            "Epoch 2/50\n",
            "9/9 - 0s - loss: 0.4142 - accuracy: 0.8632 - val_loss: 0.3122 - val_accuracy: 0.9310\n",
            "Epoch 3/50\n",
            "9/9 - 0s - loss: 0.2701 - accuracy: 0.9017 - val_loss: 0.1728 - val_accuracy: 0.9828\n",
            "Epoch 4/50\n",
            "9/9 - 0s - loss: 0.2031 - accuracy: 0.9359 - val_loss: 0.1200 - val_accuracy: 0.9741\n",
            "Epoch 5/50\n",
            "9/9 - 0s - loss: 0.1699 - accuracy: 0.9444 - val_loss: 0.1252 - val_accuracy: 0.9828\n",
            "Epoch 6/50\n",
            "9/9 - 0s - loss: 0.1393 - accuracy: 0.9573 - val_loss: 0.1196 - val_accuracy: 0.9828\n",
            "Epoch 7/50\n",
            "9/9 - 0s - loss: 0.1195 - accuracy: 0.9658 - val_loss: 0.1071 - val_accuracy: 0.9914\n",
            "Epoch 8/50\n",
            "9/9 - 0s - loss: 0.1083 - accuracy: 0.9744 - val_loss: 0.0944 - val_accuracy: 0.9914\n",
            "Epoch 9/50\n",
            "9/9 - 0s - loss: 0.1014 - accuracy: 0.9786 - val_loss: 0.0915 - val_accuracy: 0.9914\n",
            "Epoch 10/50\n",
            "9/9 - 0s - loss: 0.0944 - accuracy: 0.9744 - val_loss: 0.0930 - val_accuracy: 0.9914\n",
            "Epoch 11/50\n",
            "9/9 - 0s - loss: 0.0873 - accuracy: 0.9786 - val_loss: 0.0926 - val_accuracy: 0.9914\n",
            "Epoch 12/50\n",
            "9/9 - 0s - loss: 0.0824 - accuracy: 0.9786 - val_loss: 0.0794 - val_accuracy: 0.9914\n",
            "Epoch 13/50\n",
            "9/9 - 0s - loss: 0.0848 - accuracy: 0.9829 - val_loss: 0.1057 - val_accuracy: 0.9914\n",
            "Epoch 14/50\n",
            "9/9 - 0s - loss: 0.0861 - accuracy: 0.9744 - val_loss: 0.0687 - val_accuracy: 0.9914\n",
            "Epoch 15/50\n",
            "9/9 - 0s - loss: 0.0774 - accuracy: 0.9786 - val_loss: 0.0915 - val_accuracy: 0.9914\n",
            "Epoch 16/50\n",
            "9/9 - 0s - loss: 0.0752 - accuracy: 0.9872 - val_loss: 0.0701 - val_accuracy: 0.9914\n",
            "Epoch 17/50\n",
            "9/9 - 0s - loss: 0.0725 - accuracy: 0.9829 - val_loss: 0.0918 - val_accuracy: 0.9914\n",
            "Epoch 18/50\n",
            "9/9 - 0s - loss: 0.0710 - accuracy: 0.9829 - val_loss: 0.0621 - val_accuracy: 0.9914\n",
            "Epoch 19/50\n",
            "9/9 - 0s - loss: 0.0678 - accuracy: 0.9829 - val_loss: 0.0727 - val_accuracy: 0.9914\n",
            "Epoch 20/50\n",
            "9/9 - 0s - loss: 0.0653 - accuracy: 0.9872 - val_loss: 0.0749 - val_accuracy: 0.9914\n",
            "Epoch 21/50\n",
            "9/9 - 0s - loss: 0.0626 - accuracy: 0.9872 - val_loss: 0.0711 - val_accuracy: 0.9914\n",
            "Epoch 22/50\n",
            "9/9 - 0s - loss: 0.0634 - accuracy: 0.9872 - val_loss: 0.0639 - val_accuracy: 0.9914\n",
            "Epoch 23/50\n",
            "9/9 - 0s - loss: 0.0616 - accuracy: 0.9872 - val_loss: 0.0762 - val_accuracy: 0.9914\n",
            "Epoch 24/50\n",
            "9/9 - 0s - loss: 0.0601 - accuracy: 0.9872 - val_loss: 0.0655 - val_accuracy: 0.9914\n",
            "Epoch 25/50\n",
            "9/9 - 0s - loss: 0.0593 - accuracy: 0.9872 - val_loss: 0.0670 - val_accuracy: 0.9914\n",
            "Epoch 26/50\n",
            "9/9 - 0s - loss: 0.0581 - accuracy: 0.9872 - val_loss: 0.0656 - val_accuracy: 0.9914\n",
            "Epoch 27/50\n",
            "9/9 - 0s - loss: 0.0575 - accuracy: 0.9872 - val_loss: 0.0720 - val_accuracy: 0.9914\n",
            "Epoch 28/50\n",
            "9/9 - 0s - loss: 0.0578 - accuracy: 0.9872 - val_loss: 0.0646 - val_accuracy: 0.9914\n",
            "Epoch 29/50\n",
            "9/9 - 0s - loss: 0.0590 - accuracy: 0.9872 - val_loss: 0.0788 - val_accuracy: 0.9914\n",
            "Epoch 30/50\n",
            "9/9 - 0s - loss: 0.0560 - accuracy: 0.9872 - val_loss: 0.0662 - val_accuracy: 0.9914\n",
            "Epoch 31/50\n",
            "9/9 - 0s - loss: 0.0553 - accuracy: 0.9872 - val_loss: 0.0631 - val_accuracy: 0.9914\n",
            "Epoch 32/50\n",
            "9/9 - 0s - loss: 0.0547 - accuracy: 0.9872 - val_loss: 0.0681 - val_accuracy: 0.9914\n",
            "Epoch 33/50\n",
            "9/9 - 0s - loss: 0.0544 - accuracy: 0.9872 - val_loss: 0.0672 - val_accuracy: 0.9914\n",
            "Epoch 34/50\n",
            "9/9 - 0s - loss: 0.0541 - accuracy: 0.9872 - val_loss: 0.0687 - val_accuracy: 0.9914\n",
            "Epoch 35/50\n",
            "9/9 - 0s - loss: 0.0533 - accuracy: 0.9872 - val_loss: 0.0636 - val_accuracy: 0.9914\n",
            "Epoch 36/50\n",
            "9/9 - 0s - loss: 0.0541 - accuracy: 0.9872 - val_loss: 0.0653 - val_accuracy: 0.9914\n",
            "Epoch 37/50\n",
            "9/9 - 0s - loss: 0.0530 - accuracy: 0.9872 - val_loss: 0.0626 - val_accuracy: 0.9914\n",
            "Epoch 38/50\n",
            "9/9 - 0s - loss: 0.0526 - accuracy: 0.9872 - val_loss: 0.0657 - val_accuracy: 0.9914\n",
            "Epoch 39/50\n",
            "9/9 - 0s - loss: 0.0525 - accuracy: 0.9872 - val_loss: 0.0679 - val_accuracy: 0.9914\n",
            "Epoch 40/50\n",
            "9/9 - 0s - loss: 0.0521 - accuracy: 0.9872 - val_loss: 0.0636 - val_accuracy: 0.9914\n",
            "Epoch 41/50\n",
            "9/9 - 0s - loss: 0.0518 - accuracy: 0.9872 - val_loss: 0.0641 - val_accuracy: 0.9914\n",
            "Epoch 42/50\n",
            "9/9 - 0s - loss: 0.0516 - accuracy: 0.9872 - val_loss: 0.0651 - val_accuracy: 0.9914\n",
            "Epoch 43/50\n",
            "9/9 - 0s - loss: 0.0514 - accuracy: 0.9872 - val_loss: 0.0647 - val_accuracy: 0.9914\n",
            "Epoch 44/50\n",
            "9/9 - 0s - loss: 0.0513 - accuracy: 0.9872 - val_loss: 0.0663 - val_accuracy: 0.9914\n",
            "Epoch 45/50\n",
            "9/9 - 0s - loss: 0.0509 - accuracy: 0.9872 - val_loss: 0.0653 - val_accuracy: 0.9914\n",
            "Epoch 46/50\n",
            "9/9 - 0s - loss: 0.0508 - accuracy: 0.9872 - val_loss: 0.0645 - val_accuracy: 0.9914\n",
            "Epoch 47/50\n",
            "9/9 - 0s - loss: 0.0507 - accuracy: 0.9872 - val_loss: 0.0631 - val_accuracy: 0.9914\n",
            "Epoch 48/50\n",
            "9/9 - 0s - loss: 0.0506 - accuracy: 0.9872 - val_loss: 0.0629 - val_accuracy: 0.9914\n",
            "Epoch 49/50\n",
            "9/9 - 0s - loss: 0.0506 - accuracy: 0.9872 - val_loss: 0.0638 - val_accuracy: 0.9914\n",
            "Epoch 50/50\n",
            "9/9 - 0s - loss: 0.0504 - accuracy: 0.9872 - val_loss: 0.0624 - val_accuracy: 0.9914\n"
          ],
          "name": "stdout"
        },
        {
          "output_type": "execute_result",
          "data": {
            "text/plain": [
              "<keras.callbacks.History at 0x7f162d560210>"
            ]
          },
          "metadata": {
            "tags": []
          },
          "execution_count": 17
        }
      ]
    },
    {
      "cell_type": "markdown",
      "metadata": {
        "id": "GkiiuS_cgbwy"
      },
      "source": [
        "- Incrementar la tasa de aprendizaje inicial, debido a que la tasa de aprendizaje disminuira, inicie con un valor mayor desde el cual disminuir\n",
        "\n",
        "- Utilizar un gran momentum\n",
        "\n",
        "- Experiencie con diferentes planificacion"
      ]
    }
  ]
}