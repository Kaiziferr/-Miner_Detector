{
  "nbformat": 4,
  "nbformat_minor": 0,
  "metadata": {
    "colab": {
      "name": "BeautifulSoup.ipynb",
      "provenance": [],
      "collapsed_sections": [],
      "authorship_tag": "ABX9TyNj38dLBaE9qcGWCgWbX8xg",
      "include_colab_link": true
    },
    "kernelspec": {
      "name": "python3",
      "display_name": "Python 3"
    },
    "language_info": {
      "name": "python"
    }
  },
  "cells": [
    {
      "cell_type": "markdown",
      "metadata": {
        "id": "view-in-github",
        "colab_type": "text"
      },
      "source": [
        "<a href=\"https://colab.research.google.com/github/Kaiziferr/-Miner_Detector/blob/master/BeautifulSoup.ipynb\" target=\"_parent\"><img src=\"https://colab.research.google.com/assets/colab-badge.svg\" alt=\"Open In Colab\"/></a>"
      ]
    },
    {
      "cell_type": "code",
      "metadata": {
        "id": "UCMCtDsNfEng"
      },
      "source": [
        "import bs4\n",
        "from bs4 import BeautifulSoup"
      ],
      "execution_count": null,
      "outputs": []
    },
    {
      "cell_type": "code",
      "metadata": {
        "colab": {
          "base_uri": "https://localhost:8080/",
          "height": 35
        },
        "id": "s3SRIBKltbnh",
        "outputId": "87d1d5f6-3cee-45a5-cc6d-28f013161a7b"
      },
      "source": [
        "bs4.__version__"
      ],
      "execution_count": null,
      "outputs": [
        {
          "output_type": "execute_result",
          "data": {
            "application/vnd.google.colaboratory.intrinsic+json": {
              "type": "string"
            },
            "text/plain": [
              "'4.6.3'"
            ]
          },
          "metadata": {},
          "execution_count": 2
        }
      ]
    },
    {
      "cell_type": "code",
      "metadata": {
        "id": "lz_M1MBLfi5y"
      },
      "source": [
        "doc = \"\"\"<html><head><title>The Dormouse's story</title></head>\n",
        "<body>\n",
        "<p class=\"title\"><b>The Dormouse's story</b></p>\n",
        "\n",
        "<p class=\"story\">Once upon a time there were three little sisters; and their names were\n",
        "<a href=\"http://example.com/elsie\" class=\"sister\" id=\"link1\">Elsie</a>,\n",
        "<a href=\"http://example.com/lacie\" class=\"sister\" id=\"link2\">Lacie</a> and\n",
        "<a href=\"http://example.com/tillie\" class=\"sister\" id=\"link3\">Tillie</a>;\n",
        "and they lived at the bottom of a well.</p>\n",
        "\n",
        "<p class=\"story\">...</p>\n",
        "\"\"\""
      ],
      "execution_count": null,
      "outputs": []
    },
    {
      "cell_type": "markdown",
      "metadata": {
        "id": "R2bVeXdrfwgV"
      },
      "source": [
        "**Definiendo un objeto SOUP**"
      ]
    },
    {
      "cell_type": "code",
      "metadata": {
        "id": "kQaW4S4NfqdC"
      },
      "source": [
        "soup = BeautifulSoup(doc, 'html.parser')"
      ],
      "execution_count": null,
      "outputs": []
    },
    {
      "cell_type": "markdown",
      "metadata": {
        "id": "__BLpIgff9LK"
      },
      "source": [
        "**Pretty**"
      ]
    },
    {
      "cell_type": "code",
      "metadata": {
        "colab": {
          "base_uri": "https://localhost:8080/"
        },
        "id": "Im8Cs2qsgL1c",
        "outputId": "2ef3e729-2d57-413d-9a8d-6e8264ea19f9"
      },
      "source": [
        "print(soup.prettify())"
      ],
      "execution_count": null,
      "outputs": [
        {
          "output_type": "stream",
          "name": "stdout",
          "text": [
            "<html>\n",
            " <head>\n",
            "  <title>\n",
            "   The Dormouse's story\n",
            "  </title>\n",
            " </head>\n",
            " <body>\n",
            "  <p class=\"title\">\n",
            "   <b>\n",
            "    The Dormouse's story\n",
            "   </b>\n",
            "  </p>\n",
            "  <p class=\"story\">\n",
            "   Once upon a time there were three little sisters; and their names were\n",
            "   <a class=\"sister\" href=\"http://example.com/elsie\" id=\"link1\">\n",
            "    Elsie\n",
            "   </a>\n",
            "   ,\n",
            "   <a class=\"sister\" href=\"http://example.com/lacie\" id=\"link2\">\n",
            "    Lacie\n",
            "   </a>\n",
            "   and\n",
            "   <a class=\"sister\" href=\"http://example.com/tillie\" id=\"link3\">\n",
            "    Tillie\n",
            "   </a>\n",
            "   ;\n",
            "and they lived at the bottom of a well.\n",
            "  </p>\n",
            "  <p class=\"story\">\n",
            "   ...\n",
            "  </p>\n",
            " </body>\n",
            "</html>\n"
          ]
        }
      ]
    },
    {
      "cell_type": "markdown",
      "metadata": {
        "id": "eIEbteJngVhi"
      },
      "source": [
        "**Formas sencillas de navegar**"
      ]
    },
    {
      "cell_type": "code",
      "metadata": {
        "colab": {
          "base_uri": "https://localhost:8080/"
        },
        "id": "ue9ng0S-gT7Q",
        "outputId": "7374d26a-7699-4e1a-c3b5-27faa98077af"
      },
      "source": [
        "print(soup.title)\n",
        "print(soup.title.name)\n",
        "print(soup.title.string)\n",
        "print(soup.title.parent)\n",
        "print(soup.p)\n",
        "print(soup.p['class'])\n",
        "print(soup.a)\n",
        "print(soup.find_all('a'))\n",
        "print(soup.find(id='link3'))"
      ],
      "execution_count": null,
      "outputs": [
        {
          "output_type": "stream",
          "name": "stdout",
          "text": [
            "<title>The Dormouse's story</title>\n",
            "title\n",
            "The Dormouse's story\n",
            "<head><title>The Dormouse's story</title></head>\n",
            "<p class=\"title\"><b>The Dormouse's story</b></p>\n",
            "['title']\n",
            "<a class=\"sister\" href=\"http://example.com/elsie\" id=\"link1\">Elsie</a>\n",
            "[<a class=\"sister\" href=\"http://example.com/elsie\" id=\"link1\">Elsie</a>, <a class=\"sister\" href=\"http://example.com/lacie\" id=\"link2\">Lacie</a>, <a class=\"sister\" href=\"http://example.com/tillie\" id=\"link3\">Tillie</a>]\n",
            "<a class=\"sister\" href=\"http://example.com/tillie\" id=\"link3\">Tillie</a>\n"
          ]
        }
      ]
    },
    {
      "cell_type": "markdown",
      "metadata": {
        "id": "Pw_b6_ANjEYQ"
      },
      "source": [
        "**Extraer una propiedad**"
      ]
    },
    {
      "cell_type": "code",
      "metadata": {
        "colab": {
          "base_uri": "https://localhost:8080/"
        },
        "id": "m4eR61cqiqZK",
        "outputId": "5f52a9cc-57c9-4f0d-a56c-ead1dc6b8d34"
      },
      "source": [
        "for link in soup.find_all('a'):\n",
        "  print(link.get('href'), link['href'])"
      ],
      "execution_count": null,
      "outputs": [
        {
          "output_type": "stream",
          "name": "stdout",
          "text": [
            "http://example.com/elsie http://example.com/elsie\n",
            "http://example.com/lacie http://example.com/lacie\n",
            "http://example.com/tillie http://example.com/tillie\n"
          ]
        }
      ]
    },
    {
      "cell_type": "markdown",
      "metadata": {
        "id": "ZxIti06cjM9v"
      },
      "source": [
        "**Extraer el texto**"
      ]
    },
    {
      "cell_type": "code",
      "metadata": {
        "colab": {
          "base_uri": "https://localhost:8080/"
        },
        "id": "mLWkMe0IjS-v",
        "outputId": "68f38ff4-a394-4035-9361-c78b8212a138"
      },
      "source": [
        "print(soup.get_text())"
      ],
      "execution_count": null,
      "outputs": [
        {
          "output_type": "stream",
          "name": "stdout",
          "text": [
            "The Dormouse's story\n",
            "\n",
            "The Dormouse's story\n",
            "Once upon a time there were three little sisters; and their names were\n",
            "Elsie,\n",
            "Lacie and\n",
            "Tillie;\n",
            "and they lived at the bottom of a well.\n",
            "...\n",
            "\n"
          ]
        }
      ]
    },
    {
      "cell_type": "markdown",
      "metadata": {
        "id": "DJ3qHoKukF_-"
      },
      "source": [
        "# **Tag**"
      ]
    },
    {
      "cell_type": "code",
      "metadata": {
        "colab": {
          "base_uri": "https://localhost:8080/"
        },
        "id": "8otTJydyjf4n",
        "outputId": "139ce58d-b139-4ca5-c992-a1954c660c77"
      },
      "source": [
        "tag = soup.p\n",
        "print(type(tag))\n",
        "# Nombre\n",
        "print(tag.name)\n",
        "# Atributos\n",
        "print(tag['class'])\n",
        "# Accedder al diccionario\n",
        "print(tag.attrs)"
      ],
      "execution_count": null,
      "outputs": [
        {
          "output_type": "stream",
          "name": "stdout",
          "text": [
            "<class 'bs4.element.Tag'>\n",
            "p\n",
            "['title']\n",
            "{'class': ['title']}\n"
          ]
        }
      ]
    },
    {
      "cell_type": "markdown",
      "metadata": {
        "id": "9_QiI0lvlGUg"
      },
      "source": [
        "**Agregar, eliminar y modificar los atributos de una etiqueta**"
      ]
    },
    {
      "cell_type": "code",
      "metadata": {
        "colab": {
          "base_uri": "https://localhost:8080/"
        },
        "id": "ws1Zyhw5lMQG",
        "outputId": "d3a4631f-84bd-48b0-dc82-7225dab202a0"
      },
      "source": [
        "tag['id'] = 'new_id'\n",
        "tag['another-attribute'] = 1\n",
        "soup"
      ],
      "execution_count": null,
      "outputs": [
        {
          "output_type": "execute_result",
          "data": {
            "text/plain": [
              "<html><head><title>The Dormouse's story</title></head>\n",
              "<body>\n",
              "<p another-attribute=\"1\" class=\"title\" id=\"new_id\"><b>The Dormouse's story</b></p>\n",
              "<p class=\"story\">Once upon a time there were three little sisters; and their names were\n",
              "<a class=\"sister\" href=\"http://example.com/elsie\" id=\"link1\">Elsie</a>,\n",
              "<a class=\"sister\" href=\"http://example.com/lacie\" id=\"link2\">Lacie</a> and\n",
              "<a class=\"sister\" href=\"http://example.com/tillie\" id=\"link3\">Tillie</a>;\n",
              "and they lived at the bottom of a well.</p>\n",
              "<p class=\"story\">...</p>\n",
              "</body></html>"
            ]
          },
          "metadata": {},
          "execution_count": 10
        }
      ]
    },
    {
      "cell_type": "code",
      "metadata": {
        "colab": {
          "base_uri": "https://localhost:8080/"
        },
        "id": "x5uZIYchlc7e",
        "outputId": "aaed4755-965a-46e4-c4b4-700c2d9e1d91"
      },
      "source": [
        "del tag['id']\n",
        "del tag['another-attribute']\n",
        "soup"
      ],
      "execution_count": null,
      "outputs": [
        {
          "output_type": "execute_result",
          "data": {
            "text/plain": [
              "<html><head><title>The Dormouse's story</title></head>\n",
              "<body>\n",
              "<p class=\"title\"><b>The Dormouse's story</b></p>\n",
              "<p class=\"story\">Once upon a time there were three little sisters; and their names were\n",
              "<a class=\"sister\" href=\"http://example.com/elsie\" id=\"link1\">Elsie</a>,\n",
              "<a class=\"sister\" href=\"http://example.com/lacie\" id=\"link2\">Lacie</a> and\n",
              "<a class=\"sister\" href=\"http://example.com/tillie\" id=\"link3\">Tillie</a>;\n",
              "and they lived at the bottom of a well.</p>\n",
              "<p class=\"story\">...</p>\n",
              "</body></html>"
            ]
          },
          "metadata": {},
          "execution_count": 11
        }
      ]
    },
    {
      "cell_type": "code",
      "metadata": {
        "colab": {
          "base_uri": "https://localhost:8080/"
        },
        "id": "9nvlKtI8oA-T",
        "outputId": "f6c2cf33-fd5e-45d7-bfb8-da7bdc0346a3"
      },
      "source": [
        "try:\n",
        "  tag['id']\n",
        "except:\n",
        "  print(Exception)\n",
        "\n",
        "print(tag.get('i'))"
      ],
      "execution_count": null,
      "outputs": [
        {
          "output_type": "stream",
          "name": "stdout",
          "text": [
            "<class 'Exception'>\n",
            "None\n"
          ]
        }
      ]
    },
    {
      "cell_type": "markdown",
      "metadata": {
        "id": "O6xivX9Nofds"
      },
      "source": [
        "**Atributos de varios valores**\n"
      ]
    },
    {
      "cell_type": "code",
      "metadata": {
        "colab": {
          "base_uri": "https://localhost:8080/"
        },
        "id": "Ztzxk2LyoWBb",
        "outputId": "ab6e2d2b-88ea-4104-e488-e1852153306e"
      },
      "source": [
        "css_soup = BeautifulSoup('<p class=\"body strikeout\"></p>', 'html.parser')\n",
        "css_soup.p['class']"
      ],
      "execution_count": null,
      "outputs": [
        {
          "output_type": "execute_result",
          "data": {
            "text/plain": [
              "['body', 'strikeout']"
            ]
          },
          "metadata": {},
          "execution_count": 13
        }
      ]
    },
    {
      "cell_type": "code",
      "metadata": {
        "colab": {
          "base_uri": "https://localhost:8080/"
        },
        "id": "9Z_L0r9cpd86",
        "outputId": "f23b0c28-a396-4c20-ed05-c3fe71f27739"
      },
      "source": [
        "rel_soup = BeautifulSoup('<p>Back to the <a rel=\"index\">homepage</a></p>', 'html.parser')\n",
        "print(rel_soup.a['rel'])\n",
        "rel_soup.a['rel'] = ['index', 'contents']\n",
        "print(rel_soup.p)"
      ],
      "execution_count": null,
      "outputs": [
        {
          "output_type": "stream",
          "name": "stdout",
          "text": [
            "['index']\n",
            "<p>Back to the <a rel=\"index contents\">homepage</a></p>\n"
          ]
        }
      ]
    },
    {
      "cell_type": "code",
      "metadata": {
        "colab": {
          "base_uri": "https://localhost:8080/"
        },
        "id": "Wc_JaTJWsGth",
        "outputId": "b1a4146f-0eaa-41ba-f28d-0acc157bd4bc"
      },
      "source": [
        "no_list_soup = BeautifulSoup('<p class=\"body strikeout\"></p>', 'html.parser')\n",
        "no_list_soup.p.get_attribute_list('class')"
      ],
      "execution_count": null,
      "outputs": [
        {
          "output_type": "execute_result",
          "data": {
            "text/plain": [
              "['body', 'strikeout']"
            ]
          },
          "metadata": {},
          "execution_count": 15
        }
      ]
    },
    {
      "cell_type": "code",
      "metadata": {
        "colab": {
          "base_uri": "https://localhost:8080/",
          "height": 54
        },
        "id": "u5IV4wOOsnkK",
        "outputId": "854ce7e7-41b2-4969-f8b4-7afaa39fe64c"
      },
      "source": [
        "# Con xml no hay atributos con varios valores\n",
        "xml_soup = BeautifulSoup('<p class=\"body strikeout\"></p>', 'xml')\n",
        "display(xml_soup.p['class'], xml_soup.p.get_attribute_list('class'))"
      ],
      "execution_count": null,
      "outputs": [
        {
          "output_type": "display_data",
          "data": {
            "application/vnd.google.colaboratory.intrinsic+json": {
              "type": "string"
            },
            "text/plain": [
              "'body strikeout'"
            ]
          },
          "metadata": {}
        },
        {
          "output_type": "display_data",
          "data": {
            "text/plain": [
              "['body strikeout']"
            ]
          },
          "metadata": {}
        }
      ]
    },
    {
      "cell_type": "markdown",
      "metadata": {
        "id": "dx0F0cr1t8KB"
      },
      "source": [
        "# **NavigableString**"
      ]
    },
    {
      "cell_type": "code",
      "metadata": {
        "colab": {
          "base_uri": "https://localhost:8080/"
        },
        "id": "SsNybD7-t7pz",
        "outputId": "aba799c0-26db-43a7-9b17-5d33673e46a7"
      },
      "source": [
        "tag = soup.b\n",
        "print(type(tag), type(tag.string))"
      ],
      "execution_count": null,
      "outputs": [
        {
          "output_type": "stream",
          "name": "stdout",
          "text": [
            "<class 'bs4.element.Tag'> <class 'bs4.element.NavigableString'>\n"
          ]
        }
      ]
    },
    {
      "cell_type": "code",
      "metadata": {
        "colab": {
          "base_uri": "https://localhost:8080/"
        },
        "id": "lCVbWi2_uiw6",
        "outputId": "ace69b59-8b13-496c-d643-13d5f6eddf6e"
      },
      "source": [
        "unicode_string = str(tag.string)\n",
        "type(unicode_string)"
      ],
      "execution_count": null,
      "outputs": [
        {
          "output_type": "execute_result",
          "data": {
            "text/plain": [
              "str"
            ]
          },
          "metadata": {},
          "execution_count": 18
        }
      ]
    },
    {
      "cell_type": "markdown",
      "metadata": {
        "id": "qv33XoxFvdX_"
      },
      "source": [
        "**remplazar una cadena**"
      ]
    },
    {
      "cell_type": "code",
      "metadata": {
        "colab": {
          "base_uri": "https://localhost:8080/"
        },
        "id": "O3_tMz7Evh7i",
        "outputId": "e2995b79-c089-4449-8cb1-c83089c5731d"
      },
      "source": [
        "tag.string.replace_with('Halo')\n",
        "soup"
      ],
      "execution_count": null,
      "outputs": [
        {
          "output_type": "execute_result",
          "data": {
            "text/plain": [
              "<html><head><title>The Dormouse's story</title></head>\n",
              "<body>\n",
              "<p class=\"title\"><b>Halo</b></p>\n",
              "<p class=\"story\">Once upon a time there were three little sisters; and their names were\n",
              "<a class=\"sister\" href=\"http://example.com/elsie\" id=\"link1\">Elsie</a>,\n",
              "<a class=\"sister\" href=\"http://example.com/lacie\" id=\"link2\">Lacie</a> and\n",
              "<a class=\"sister\" href=\"http://example.com/tillie\" id=\"link3\">Tillie</a>;\n",
              "and they lived at the bottom of a well.</p>\n",
              "<p class=\"story\">...</p>\n",
              "</body></html>"
            ]
          },
          "metadata": {},
          "execution_count": 19
        }
      ]
    },
    {
      "cell_type": "markdown",
      "metadata": {
        "id": "tG7iogcfwKyn"
      },
      "source": [
        "# **BeautifulSoup**"
      ]
    },
    {
      "cell_type": "code",
      "metadata": {
        "colab": {
          "base_uri": "https://localhost:8080/",
          "height": 35
        },
        "id": "ZRh1D9TqwQgH",
        "outputId": "98e740c3-b6f7-411e-c82c-27d2e885e0eb"
      },
      "source": [
        "doc = BeautifulSoup(\"<document><content/>INSERT FOOTER HERE</document\", \"xml\")\n",
        "footer = BeautifulSoup(\"<footer>Here's the footer</footer>\", \"xml\")\n",
        "doc.find(text='INSERT FOOTER HERE').replace_with(footer)"
      ],
      "execution_count": null,
      "outputs": [
        {
          "output_type": "execute_result",
          "data": {
            "application/vnd.google.colaboratory.intrinsic+json": {
              "type": "string"
            },
            "text/plain": [
              "'INSERT FOOTER HERE'"
            ]
          },
          "metadata": {},
          "execution_count": 20
        }
      ]
    },
    {
      "cell_type": "code",
      "metadata": {
        "colab": {
          "base_uri": "https://localhost:8080/",
          "height": 35
        },
        "id": "s0T0IEvgxrz2",
        "outputId": "62075009-ae0f-4a86-9833-c61e9e3d7dd4"
      },
      "source": [
        "doc.name"
      ],
      "execution_count": null,
      "outputs": [
        {
          "output_type": "execute_result",
          "data": {
            "application/vnd.google.colaboratory.intrinsic+json": {
              "type": "string"
            },
            "text/plain": [
              "'[document]'"
            ]
          },
          "metadata": {},
          "execution_count": 21
        }
      ]
    },
    {
      "cell_type": "markdown",
      "metadata": {
        "id": "OK5rlw3cxzPg"
      },
      "source": [
        "**Comentarios y otras cadenas especiales**"
      ]
    },
    {
      "cell_type": "code",
      "metadata": {
        "colab": {
          "base_uri": "https://localhost:8080/"
        },
        "id": "W9KE82wzx3Y1",
        "outputId": "4c0063a3-7e3a-4b2c-a1aa-b774ad660496"
      },
      "source": [
        "markup = \"<b><!--Hey, buddy. Want to buy a used parser?--></b>\"\n",
        "tag = \"<b>Hey, buddy. Want to buy a used parser</b>\"\n",
        "soup = BeautifulSoup(markup, 'html.parser')\n",
        "comment = soup.b.string\n",
        "print(soup.b.prettify())\n",
        "print(type(comment))\n",
        "soup = BeautifulSoup(tag, 'html.parser')\n",
        "comment = soup.b.string\n",
        "print(type(comment))"
      ],
      "execution_count": null,
      "outputs": [
        {
          "output_type": "stream",
          "name": "stdout",
          "text": [
            "<b>\n",
            " <!--Hey, buddy. Want to buy a used parser?-->\n",
            "</b>\n",
            "<class 'bs4.element.Comment'>\n",
            "<class 'bs4.element.NavigableString'>\n"
          ]
        }
      ]
    },
    {
      "cell_type": "markdown",
      "metadata": {
        "id": "ipPSgga3-6os"
      },
      "source": [
        "# **Navegando por el arbol**"
      ]
    },
    {
      "cell_type": "code",
      "metadata": {
        "id": "8kZ5y2W__EVR"
      },
      "source": [
        "html_doc = \"\"\"\n",
        "<html><head><title>The Dormouse's story</title></head>\n",
        "<body>\n",
        "<p class=\"title\"><b>The Dormouse's story</b></p>\n",
        "\n",
        "<p class=\"story\">Once upon a time there were three little sisters; and their names were\n",
        "<a href=\"http://example.com/elsie\" class=\"sister\" id=\"link1\">Elsie</a>,\n",
        "<a href=\"http://example.com/lacie\" class=\"sister\" id=\"link2\">Lacie</a> and\n",
        "<a href=\"http://example.com/tillie\" class=\"sister\" id=\"link3\">Tillie</a>;\n",
        "and they lived at the bottom of a well.</p>\n",
        "\n",
        "<p class=\"story\">...</p>\"\"\""
      ],
      "execution_count": null,
      "outputs": []
    },
    {
      "cell_type": "code",
      "metadata": {
        "id": "wJTCSbQQ_HUU"
      },
      "source": [
        "soup = BeautifulSoup(html_doc, 'html.parser')"
      ],
      "execution_count": null,
      "outputs": []
    },
    {
      "cell_type": "code",
      "metadata": {
        "colab": {
          "base_uri": "https://localhost:8080/"
        },
        "id": "J8ZoeYh6_oE6",
        "outputId": "3b104fa7-9979-4784-f549-28d541aeb2d0"
      },
      "source": [
        "soup.head, soup.title"
      ],
      "execution_count": null,
      "outputs": [
        {
          "output_type": "execute_result",
          "data": {
            "text/plain": [
              "(<head><title>The Dormouse's story</title></head>,\n",
              " <title>The Dormouse's story</title>)"
            ]
          },
          "metadata": {},
          "execution_count": 25
        }
      ]
    },
    {
      "cell_type": "code",
      "metadata": {
        "colab": {
          "base_uri": "https://localhost:8080/"
        },
        "id": "WEmHJ3yGAvxx",
        "outputId": "58df894e-d041-415e-eab3-33468af0cf98"
      },
      "source": [
        "soup.body.b"
      ],
      "execution_count": null,
      "outputs": [
        {
          "output_type": "execute_result",
          "data": {
            "text/plain": [
              "<b>The Dormouse's story</b>"
            ]
          },
          "metadata": {},
          "execution_count": 26
        }
      ]
    },
    {
      "cell_type": "code",
      "metadata": {
        "colab": {
          "base_uri": "https://localhost:8080/"
        },
        "id": "qaIJqC1PA7cZ",
        "outputId": "c43ae04a-2998-4cb1-a5fe-2a81fb699694"
      },
      "source": [
        "soup.a"
      ],
      "execution_count": null,
      "outputs": [
        {
          "output_type": "execute_result",
          "data": {
            "text/plain": [
              "<a class=\"sister\" href=\"http://example.com/elsie\" id=\"link1\">Elsie</a>"
            ]
          },
          "metadata": {},
          "execution_count": 27
        }
      ]
    },
    {
      "cell_type": "code",
      "metadata": {
        "colab": {
          "base_uri": "https://localhost:8080/"
        },
        "id": "v7pYbzKWBAd4",
        "outputId": "f05d4524-dfa6-40b7-9a45-587dd20d98d1"
      },
      "source": [
        "soup.find_all('a')"
      ],
      "execution_count": null,
      "outputs": [
        {
          "output_type": "execute_result",
          "data": {
            "text/plain": [
              "[<a class=\"sister\" href=\"http://example.com/elsie\" id=\"link1\">Elsie</a>,\n",
              " <a class=\"sister\" href=\"http://example.com/lacie\" id=\"link2\">Lacie</a>,\n",
              " <a class=\"sister\" href=\"http://example.com/tillie\" id=\"link3\">Tillie</a>]"
            ]
          },
          "metadata": {},
          "execution_count": 28
        }
      ]
    },
    {
      "cell_type": "markdown",
      "metadata": {
        "id": "RujXplr2BCgZ"
      },
      "source": [
        "**contents y children**"
      ]
    },
    {
      "cell_type": "code",
      "metadata": {
        "colab": {
          "base_uri": "https://localhost:8080/"
        },
        "id": "T9TwMLaUBEwZ",
        "outputId": "b7815419-5e48-4677-ef56-7b9be5031954"
      },
      "source": [
        "head_tag = soup.head\n",
        "print(head_tag)\n",
        "print(head_tag.contents)"
      ],
      "execution_count": null,
      "outputs": [
        {
          "output_type": "stream",
          "name": "stdout",
          "text": [
            "<head><title>The Dormouse's story</title></head>\n",
            "[<title>The Dormouse's story</title>]\n"
          ]
        }
      ]
    },
    {
      "cell_type": "code",
      "metadata": {
        "colab": {
          "base_uri": "https://localhost:8080/"
        },
        "id": "dzebVyUDBpcA",
        "outputId": "7407c363-f14c-4efe-b3f8-b0210b87d6b2"
      },
      "source": [
        "soup.contents"
      ],
      "execution_count": null,
      "outputs": [
        {
          "output_type": "execute_result",
          "data": {
            "text/plain": [
              "['\\n', <html><head><title>The Dormouse's story</title></head>\n",
              " <body>\n",
              " <p class=\"title\"><b>The Dormouse's story</b></p>\n",
              " <p class=\"story\">Once upon a time there were three little sisters; and their names were\n",
              " <a class=\"sister\" href=\"http://example.com/elsie\" id=\"link1\">Elsie</a>,\n",
              " <a class=\"sister\" href=\"http://example.com/lacie\" id=\"link2\">Lacie</a> and\n",
              " <a class=\"sister\" href=\"http://example.com/tillie\" id=\"link3\">Tillie</a>;\n",
              " and they lived at the bottom of a well.</p>\n",
              " <p class=\"story\">...</p></body></html>]"
            ]
          },
          "metadata": {},
          "execution_count": 30
        }
      ]
    },
    {
      "cell_type": "markdown",
      "metadata": {
        "id": "V4ofeymQCM-R"
      },
      "source": [
        "**Iteraciones**"
      ]
    },
    {
      "cell_type": "code",
      "metadata": {
        "colab": {
          "base_uri": "https://localhost:8080/"
        },
        "id": "3OTnRkarCQ-w",
        "outputId": "7011b14f-4e77-485b-da75-1caa87a73148"
      },
      "source": [
        "for child in soup.children:\n",
        "  print(child)"
      ],
      "execution_count": null,
      "outputs": [
        {
          "output_type": "stream",
          "name": "stdout",
          "text": [
            "\n",
            "\n",
            "<html><head><title>The Dormouse's story</title></head>\n",
            "<body>\n",
            "<p class=\"title\"><b>The Dormouse's story</b></p>\n",
            "<p class=\"story\">Once upon a time there were three little sisters; and their names were\n",
            "<a class=\"sister\" href=\"http://example.com/elsie\" id=\"link1\">Elsie</a>,\n",
            "<a class=\"sister\" href=\"http://example.com/lacie\" id=\"link2\">Lacie</a> and\n",
            "<a class=\"sister\" href=\"http://example.com/tillie\" id=\"link3\">Tillie</a>;\n",
            "and they lived at the bottom of a well.</p>\n",
            "<p class=\"story\">...</p></body></html>\n"
          ]
        }
      ]
    },
    {
      "cell_type": "code",
      "metadata": {
        "colab": {
          "base_uri": "https://localhost:8080/"
        },
        "id": "Rl2juficC5t0",
        "outputId": "6656eacb-d2a1-4888-9b20-6d594130e4f7"
      },
      "source": [
        "for child in head_tag.descendants:\n",
        "    print(child)"
      ],
      "execution_count": null,
      "outputs": [
        {
          "output_type": "stream",
          "name": "stdout",
          "text": [
            "<title>The Dormouse's story</title>\n",
            "The Dormouse's story\n"
          ]
        }
      ]
    },
    {
      "cell_type": "code",
      "metadata": {
        "colab": {
          "base_uri": "https://localhost:8080/"
        },
        "id": "Hh5IaedBDMDS",
        "outputId": "e84cbfd8-8159-421f-80a7-a93cfb7d0cc7"
      },
      "source": [
        "print(len(list(soup.children)))\n",
        "print(len(list(soup.descendants)))"
      ],
      "execution_count": null,
      "outputs": [
        {
          "output_type": "stream",
          "name": "stdout",
          "text": [
            "2\n",
            "26\n"
          ]
        }
      ]
    },
    {
      "cell_type": "code",
      "metadata": {
        "colab": {
          "base_uri": "https://localhost:8080/"
        },
        "id": "MFEYfdG4DahY",
        "outputId": "263d9679-2775-4438-99f5-b5db014c7661"
      },
      "source": [
        "for descend in soup.descendants:\n",
        "  print(descend)\n",
        "  print('--------')"
      ],
      "execution_count": null,
      "outputs": [
        {
          "output_type": "stream",
          "name": "stdout",
          "text": [
            "\n",
            "\n",
            "--------\n",
            "<html><head><title>The Dormouse's story</title></head>\n",
            "<body>\n",
            "<p class=\"title\"><b>The Dormouse's story</b></p>\n",
            "<p class=\"story\">Once upon a time there were three little sisters; and their names were\n",
            "<a class=\"sister\" href=\"http://example.com/elsie\" id=\"link1\">Elsie</a>,\n",
            "<a class=\"sister\" href=\"http://example.com/lacie\" id=\"link2\">Lacie</a> and\n",
            "<a class=\"sister\" href=\"http://example.com/tillie\" id=\"link3\">Tillie</a>;\n",
            "and they lived at the bottom of a well.</p>\n",
            "<p class=\"story\">...</p></body></html>\n",
            "--------\n",
            "<head><title>The Dormouse's story</title></head>\n",
            "--------\n",
            "<title>The Dormouse's story</title>\n",
            "--------\n",
            "The Dormouse's story\n",
            "--------\n",
            "\n",
            "\n",
            "--------\n",
            "<body>\n",
            "<p class=\"title\"><b>The Dormouse's story</b></p>\n",
            "<p class=\"story\">Once upon a time there were three little sisters; and their names were\n",
            "<a class=\"sister\" href=\"http://example.com/elsie\" id=\"link1\">Elsie</a>,\n",
            "<a class=\"sister\" href=\"http://example.com/lacie\" id=\"link2\">Lacie</a> and\n",
            "<a class=\"sister\" href=\"http://example.com/tillie\" id=\"link3\">Tillie</a>;\n",
            "and they lived at the bottom of a well.</p>\n",
            "<p class=\"story\">...</p></body>\n",
            "--------\n",
            "\n",
            "\n",
            "--------\n",
            "<p class=\"title\"><b>The Dormouse's story</b></p>\n",
            "--------\n",
            "<b>The Dormouse's story</b>\n",
            "--------\n",
            "The Dormouse's story\n",
            "--------\n",
            "\n",
            "\n",
            "--------\n",
            "<p class=\"story\">Once upon a time there were three little sisters; and their names were\n",
            "<a class=\"sister\" href=\"http://example.com/elsie\" id=\"link1\">Elsie</a>,\n",
            "<a class=\"sister\" href=\"http://example.com/lacie\" id=\"link2\">Lacie</a> and\n",
            "<a class=\"sister\" href=\"http://example.com/tillie\" id=\"link3\">Tillie</a>;\n",
            "and they lived at the bottom of a well.</p>\n",
            "--------\n",
            "Once upon a time there were three little sisters; and their names were\n",
            "\n",
            "--------\n",
            "<a class=\"sister\" href=\"http://example.com/elsie\" id=\"link1\">Elsie</a>\n",
            "--------\n",
            "Elsie\n",
            "--------\n",
            ",\n",
            "\n",
            "--------\n",
            "<a class=\"sister\" href=\"http://example.com/lacie\" id=\"link2\">Lacie</a>\n",
            "--------\n",
            "Lacie\n",
            "--------\n",
            " and\n",
            "\n",
            "--------\n",
            "<a class=\"sister\" href=\"http://example.com/tillie\" id=\"link3\">Tillie</a>\n",
            "--------\n",
            "Tillie\n",
            "--------\n",
            ";\n",
            "and they lived at the bottom of a well.\n",
            "--------\n",
            "\n",
            "\n",
            "--------\n",
            "<p class=\"story\">...</p>\n",
            "--------\n",
            "...\n",
            "--------\n"
          ]
        }
      ]
    },
    {
      "cell_type": "markdown",
      "metadata": {
        "id": "SGHgSy67ZyZ-"
      },
      "source": [
        "# **.stringsy stripped_strings**"
      ]
    },
    {
      "cell_type": "code",
      "metadata": {
        "colab": {
          "base_uri": "https://localhost:8080/"
        },
        "id": "JtiKdRaMDwQo",
        "outputId": "9b332fc4-4a53-4a0f-9217-31195daffec2"
      },
      "source": [
        "for string in soup.strings:\n",
        "  print(repr(string))"
      ],
      "execution_count": null,
      "outputs": [
        {
          "output_type": "stream",
          "name": "stdout",
          "text": [
            "'\\n'\n",
            "\"The Dormouse's story\"\n",
            "'\\n'\n",
            "'\\n'\n",
            "\"The Dormouse's story\"\n",
            "'\\n'\n",
            "'Once upon a time there were three little sisters; and their names were\\n'\n",
            "'Elsie'\n",
            "',\\n'\n",
            "'Lacie'\n",
            "' and\\n'\n",
            "'Tillie'\n",
            "';\\nand they lived at the bottom of a well.'\n",
            "'\\n'\n",
            "'...'\n"
          ]
        }
      ]
    },
    {
      "cell_type": "code",
      "metadata": {
        "colab": {
          "base_uri": "https://localhost:8080/"
        },
        "id": "1WGKbVAZaEY_",
        "outputId": "027f4848-52b8-4b5f-fa52-85e30c98681c"
      },
      "source": [
        "for string in soup.stripped_strings:\n",
        "  print(repr(string))"
      ],
      "execution_count": null,
      "outputs": [
        {
          "output_type": "stream",
          "name": "stdout",
          "text": [
            "\"The Dormouse's story\"\n",
            "\"The Dormouse's story\"\n",
            "'Once upon a time there were three little sisters; and their names were'\n",
            "'Elsie'\n",
            "','\n",
            "'Lacie'\n",
            "'and'\n",
            "'Tillie'\n",
            "';\\nand they lived at the bottom of a well.'\n",
            "'...'\n"
          ]
        }
      ]
    },
    {
      "cell_type": "markdown",
      "metadata": {
        "id": "KGAR7ICxaZ-j"
      },
      "source": [
        "**parent**"
      ]
    },
    {
      "cell_type": "code",
      "metadata": {
        "colab": {
          "base_uri": "https://localhost:8080/"
        },
        "id": "BPHUpYGLaSvT",
        "outputId": "9b9bb872-2897-4c76-a439-62c1a9694a3e"
      },
      "source": [
        "soup.title.parent"
      ],
      "execution_count": null,
      "outputs": [
        {
          "output_type": "execute_result",
          "data": {
            "text/plain": [
              "<head><title>The Dormouse's story</title></head>"
            ]
          },
          "metadata": {},
          "execution_count": 41
        }
      ]
    },
    {
      "cell_type": "code",
      "metadata": {
        "colab": {
          "base_uri": "https://localhost:8080/"
        },
        "id": "FHLc4V3sa_IR",
        "outputId": "907abac3-047a-4789-afb4-94b3cfb39aa7"
      },
      "source": [
        "soup.title.string.parent"
      ],
      "execution_count": null,
      "outputs": [
        {
          "output_type": "execute_result",
          "data": {
            "text/plain": [
              "<title>The Dormouse's story</title>"
            ]
          },
          "metadata": {},
          "execution_count": 42
        }
      ]
    },
    {
      "cell_type": "code",
      "metadata": {
        "colab": {
          "base_uri": "https://localhost:8080/"
        },
        "id": "1pM0NARXbTdq",
        "outputId": "abb81ae0-20a3-4fcd-9727-e019fef6cd22"
      },
      "source": [
        "for parent in soup.a.parents:\n",
        "  print(parent)"
      ],
      "execution_count": null,
      "outputs": [
        {
          "output_type": "stream",
          "name": "stdout",
          "text": [
            "<p class=\"story\">Once upon a time there were three little sisters; and their names were\n",
            "<a class=\"sister\" href=\"http://example.com/elsie\" id=\"link1\">Elsie</a>,\n",
            "<a class=\"sister\" href=\"http://example.com/lacie\" id=\"link2\">Lacie</a> and\n",
            "<a class=\"sister\" href=\"http://example.com/tillie\" id=\"link3\">Tillie</a>;\n",
            "and they lived at the bottom of a well.</p>\n",
            "<body>\n",
            "<p class=\"title\"><b>The Dormouse's story</b></p>\n",
            "<p class=\"story\">Once upon a time there were three little sisters; and their names were\n",
            "<a class=\"sister\" href=\"http://example.com/elsie\" id=\"link1\">Elsie</a>,\n",
            "<a class=\"sister\" href=\"http://example.com/lacie\" id=\"link2\">Lacie</a> and\n",
            "<a class=\"sister\" href=\"http://example.com/tillie\" id=\"link3\">Tillie</a>;\n",
            "and they lived at the bottom of a well.</p>\n",
            "<p class=\"story\">...</p></body>\n",
            "<html><head><title>The Dormouse's story</title></head>\n",
            "<body>\n",
            "<p class=\"title\"><b>The Dormouse's story</b></p>\n",
            "<p class=\"story\">Once upon a time there were three little sisters; and their names were\n",
            "<a class=\"sister\" href=\"http://example.com/elsie\" id=\"link1\">Elsie</a>,\n",
            "<a class=\"sister\" href=\"http://example.com/lacie\" id=\"link2\">Lacie</a> and\n",
            "<a class=\"sister\" href=\"http://example.com/tillie\" id=\"link3\">Tillie</a>;\n",
            "and they lived at the bottom of a well.</p>\n",
            "<p class=\"story\">...</p></body></html>\n",
            "\n",
            "<html><head><title>The Dormouse's story</title></head>\n",
            "<body>\n",
            "<p class=\"title\"><b>The Dormouse's story</b></p>\n",
            "<p class=\"story\">Once upon a time there were three little sisters; and their names were\n",
            "<a class=\"sister\" href=\"http://example.com/elsie\" id=\"link1\">Elsie</a>,\n",
            "<a class=\"sister\" href=\"http://example.com/lacie\" id=\"link2\">Lacie</a> and\n",
            "<a class=\"sister\" href=\"http://example.com/tillie\" id=\"link3\">Tillie</a>;\n",
            "and they lived at the bottom of a well.</p>\n",
            "<p class=\"story\">...</p></body></html>\n"
          ]
        }
      ]
    },
    {
      "cell_type": "markdown",
      "metadata": {
        "id": "A0qjHk0ObxIl"
      },
      "source": [
        "# **sideways**"
      ]
    },
    {
      "cell_type": "code",
      "metadata": {
        "colab": {
          "base_uri": "https://localhost:8080/"
        },
        "id": "IRC-0Z8Wb2UB",
        "outputId": "b1c0504e-97a8-4f3f-9b9c-8861a4fcf129"
      },
      "source": [
        "sibling_soup = BeautifulSoup(\"<a><b>text1</b><c>text2</c></b></a>\", 'html.parser')\n",
        "print(sibling_soup.prettify())"
      ],
      "execution_count": null,
      "outputs": [
        {
          "output_type": "stream",
          "name": "stdout",
          "text": [
            "<a>\n",
            " <b>\n",
            "  text1\n",
            " </b>\n",
            " <c>\n",
            "  text2\n",
            " </c>\n",
            "</a>\n"
          ]
        }
      ]
    },
    {
      "cell_type": "code",
      "metadata": {
        "colab": {
          "base_uri": "https://localhost:8080/"
        },
        "id": "qCng1UxgcCeE",
        "outputId": "0d246b3f-bc32-4d54-877a-7cc944a6c387"
      },
      "source": [
        "sibling_soup.b.next_sibling"
      ],
      "execution_count": null,
      "outputs": [
        {
          "output_type": "execute_result",
          "data": {
            "text/plain": [
              "<c>text2</c>"
            ]
          },
          "metadata": {},
          "execution_count": 45
        }
      ]
    },
    {
      "cell_type": "code",
      "metadata": {
        "colab": {
          "base_uri": "https://localhost:8080/"
        },
        "id": "XG7wKZH8cKpb",
        "outputId": "a0ee4ad5-565a-4a85-8162-ac0b9d0ed768"
      },
      "source": [
        "sibling_soup.c.previous_sibling"
      ],
      "execution_count": null,
      "outputs": [
        {
          "output_type": "execute_result",
          "data": {
            "text/plain": [
              "<b>text1</b>"
            ]
          },
          "metadata": {},
          "execution_count": 46
        }
      ]
    },
    {
      "cell_type": "code",
      "metadata": {
        "colab": {
          "base_uri": "https://localhost:8080/"
        },
        "id": "ymHOVaSQcWFB",
        "outputId": "8c222292-0206-45d1-96ec-66131d21f630"
      },
      "source": [
        "print(sibling_soup.b.previous_sibling)\n",
        "print(sibling_soup.c.next_sibling)"
      ],
      "execution_count": null,
      "outputs": [
        {
          "output_type": "stream",
          "name": "stdout",
          "text": [
            "None\n",
            "None\n"
          ]
        }
      ]
    },
    {
      "cell_type": "markdown",
      "metadata": {
        "id": "R_9pfjDdctmC"
      },
      "source": [
        " **.next_siblingsy .previous_siblings**"
      ]
    },
    {
      "cell_type": "code",
      "metadata": {
        "id": "mOWonomTctVh"
      },
      "source": [
        "soup = BeautifulSoup(html_doc, 'html.parser')"
      ],
      "execution_count": null,
      "outputs": []
    },
    {
      "cell_type": "code",
      "metadata": {
        "colab": {
          "base_uri": "https://localhost:8080/"
        },
        "id": "AJ6semTac81C",
        "outputId": "f90fd158-0f48-466d-9ccd-eac49127382c"
      },
      "source": [
        "for sibiling in soup.a.next_siblings:\n",
        "  print(repr(sibiling))\n",
        "\n",
        "for sibiling in soup.find(id = 'link3').previous_siblings:\n",
        "  print(repr(sibiling))"
      ],
      "execution_count": null,
      "outputs": [
        {
          "output_type": "stream",
          "name": "stdout",
          "text": [
            "',\\n'\n",
            "<a class=\"sister\" href=\"http://example.com/lacie\" id=\"link2\">Lacie</a>\n",
            "' and\\n'\n",
            "<a class=\"sister\" href=\"http://example.com/tillie\" id=\"link3\">Tillie</a>\n",
            "';\\nand they lived at the bottom of a well.'\n",
            "' and\\n'\n",
            "<a class=\"sister\" href=\"http://example.com/lacie\" id=\"link2\">Lacie</a>\n",
            "',\\n'\n",
            "<a class=\"sister\" href=\"http://example.com/elsie\" id=\"link1\">Elsie</a>\n",
            "'Once upon a time there were three little sisters; and their names were\\n'\n"
          ]
        }
      ]
    },
    {
      "cell_type": "markdown",
      "metadata": {
        "id": "DD78DeCzdfRm"
      },
      "source": [
        "# **Going back and forth**"
      ]
    },
    {
      "cell_type": "markdown",
      "metadata": {
        "id": "y-3hO6Zedpi6"
      },
      "source": [
        "**.next_element and .previous_element**"
      ]
    },
    {
      "cell_type": "code",
      "metadata": {
        "colab": {
          "base_uri": "https://localhost:8080/"
        },
        "id": "1aFoUKH-dier",
        "outputId": "cc330812-a45c-498a-c9aa-73bc3cb327d1"
      },
      "source": [
        "last_a_tag  = soup.find('a', id='link3')\n",
        "last_a_tag"
      ],
      "execution_count": null,
      "outputs": [
        {
          "output_type": "execute_result",
          "data": {
            "text/plain": [
              "<a class=\"sister\" href=\"http://example.com/tillie\" id=\"link3\">Tillie</a>"
            ]
          },
          "metadata": {},
          "execution_count": 53
        }
      ]
    },
    {
      "cell_type": "code",
      "metadata": {
        "colab": {
          "base_uri": "https://localhost:8080/",
          "height": 35
        },
        "id": "UxeeiAqDfbjn",
        "outputId": "88b1ad43-90f1-45a9-f9d8-a5e965b35629"
      },
      "source": [
        "last_a_tag.next_sibling"
      ],
      "execution_count": null,
      "outputs": [
        {
          "output_type": "execute_result",
          "data": {
            "application/vnd.google.colaboratory.intrinsic+json": {
              "type": "string"
            },
            "text/plain": [
              "';\\nand they lived at the bottom of a well.'"
            ]
          },
          "metadata": {},
          "execution_count": 54
        }
      ]
    },
    {
      "cell_type": "code",
      "metadata": {
        "colab": {
          "base_uri": "https://localhost:8080/",
          "height": 35
        },
        "id": "ppiNbxBxfimw",
        "outputId": "5b1b8e23-e518-4f52-df64-962e313bd00f"
      },
      "source": [
        "last_a_tag.next_element"
      ],
      "execution_count": null,
      "outputs": [
        {
          "output_type": "execute_result",
          "data": {
            "application/vnd.google.colaboratory.intrinsic+json": {
              "type": "string"
            },
            "text/plain": [
              "'Tillie'"
            ]
          },
          "metadata": {},
          "execution_count": 56
        }
      ]
    },
    {
      "cell_type": "markdown",
      "metadata": {
        "id": "AtLmEgGxgeKX"
      },
      "source": [
        "**.next_elementsy .previous_elements**"
      ]
    },
    {
      "cell_type": "code",
      "metadata": {
        "colab": {
          "base_uri": "https://localhost:8080/"
        },
        "id": "SOMM5Fbwgds6",
        "outputId": "1ce27dee-b546-4e83-bbed-412884a31c43"
      },
      "source": [
        "for element in last_a_tag.next_elements:\n",
        "    print(repr(element))"
      ],
      "execution_count": null,
      "outputs": [
        {
          "output_type": "stream",
          "name": "stdout",
          "text": [
            "'Tillie'\n",
            "';\\nand they lived at the bottom of a well.'\n",
            "'\\n'\n",
            "<p class=\"story\">...</p>\n",
            "'...'\n"
          ]
        }
      ]
    },
    {
      "cell_type": "markdown",
      "metadata": {
        "id": "0FM06LD3oDr8"
      },
      "source": [
        "# Buscando en el arbol"
      ]
    }
  ]
}