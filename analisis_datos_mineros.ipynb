{
  "nbformat": 4,
  "nbformat_minor": 0,
  "metadata": {
    "colab": {
      "name": "analisis_datos_mineros.ipynb",
      "provenance": [],
      "collapsed_sections": [],
      "authorship_tag": "ABX9TyNlkix/yO82ZhqDXR/WvV4n",
      "include_colab_link": true
    },
    "kernelspec": {
      "name": "python3",
      "display_name": "Python 3"
    },
    "language_info": {
      "name": "python"
    }
  },
  "cells": [
    {
      "cell_type": "markdown",
      "metadata": {
        "id": "view-in-github",
        "colab_type": "text"
      },
      "source": [
        "<a href=\"https://colab.research.google.com/github/Kaiziferr/-Miner_Detector/blob/master/analisis_datos_mineros.ipynb\" target=\"_parent\"><img src=\"https://colab.research.google.com/assets/colab-badge.svg\" alt=\"Open In Colab\"/></a>"
      ]
    },
    {
      "cell_type": "markdown",
      "source": [
        "# **Diccionario de datos**\n",
        "---\n",
        "- `Name`: nombre de la ventana de tiempo.\n",
        "- `Netflows`: cantidad de netflows en la ventana de tiempo.\n",
        "- `First_Protocol`: top 1 de protocolos usados en la ventana de tiempo.\n",
        "- `Second_Protocol`: top 2 de protocolos usados en la ventana de tiempo.\n",
        "- `Third_Protocol`: top 3 de protocolos usados en la ventana de tiempo.\n",
        "- `p1_d`: 25% de los percentiles de todas las duraciones en la ventana de tiempo\n",
        "- `p2_d`: 50% de los percentiles de todas las duraciones en la ventana de tiempo\n",
        "- `p3_d`: 75% de los percentiles de todas las duraciones en la ventana de tiempo\n",
        "- `duration`: duración total de ventana de tiempo\n",
        "- `max_d`: valor máximo de todas las duraciones en la ventana de tiempo.\n",
        "- `min_d`: valor mínimo de todas las duraciones en la ventana de tiempo.\n",
        "- `#packets`: número total de paquetes en la ventana de tiempo.\n",
        "- `Avg_bps`: promedio de bits por sengundo en la ventana de tiempo.\n",
        "- `Avg_pps`: promedio de paquetes por segundo en la ventana de tiempo.\n",
        "- `Avg_bpp`: promedio de bytes por paquete en la ventana de tiempo.\n",
        "- `#Bytes`: número total de bytes en la ventana de tiempo.\n",
        "- `#sp`: número total de puertos de origen usados en la ventana de tiempo.\n",
        "- `#dp`: número total de puertos de destino usados en la ventana de tiempo.\n",
        "- `first_sp`: top 1 de los puertos de origen en la ventana de tiempo.\n",
        "- `second_sp`: top 2 de los puertos de origen en la ventana de tiempo.\n",
        "- `third_sp`: top 3 de los puertos de origen en la ventana de tiempo.\n",
        "- `first_dp`: top 1 de los puertos de destino en la ventana de tiempo.\n",
        "- `second_dp`: top 2 de los puertos de destino en la ventana de tiempo.\n",
        "- `third_dp`: top 3 de los puertos de destino en la ventana de tiempo.\n",
        "- `p1_ip`: 25% de los percentiles de todas las entradas de paquetes en la ventana de tiempo.\n",
        "- `p2_ip`: 50% de los percentiles de todas las entradas de paquetes en la ventana de tiempo.\n",
        "- `p3_ip`: 75% de los percentiles de todas las entradas de paquetes en la ventana de tiempo.\n",
        "- `p1_ib`: 25% de los percentiles de todas las entradas de bytes en la ventana de tiempo.\n",
        "- `p2_ib`: 50% de los percentiles de todas las entradas de bytes en la ventana de tiempo.\n",
        "- `p3_ib`: 75% de los percentiles de todas las entradas de bytes en la ventana de tiempo.\n",
        "- `Type`: tipo de ventana de tiempo\n",
        "  - `benignas`: 0\n",
        "  - `bitcash`: 1\n",
        "  - `bitcoin`: 2\n",
        "  - `ethereum `: 3\n",
        "  - `monero`: 4\n",
        "  - `litecoin`: 5\n"
      ],
      "metadata": {
        "id": "d9_uWDnoxQW0"
      }
    },
    {
      "cell_type": "code",
      "source": [
        "def porcent_feature_nan(data):\n",
        "  print(f'Columnas con valores faltantes')\n",
        "  avaliable = data.isnull()\n",
        "  avaliable = avaliable.apply(pd.Series.value_counts).fillna(0).T\n",
        "  avaliable = avaliable[avaliable[True]>0][True]\n",
        "  for i , j in enumerate(avaliable.index):\n",
        "    porce_second_pr = np.round(avaliable[i] / data.shape[0], 3) * 100\n",
        "    print(colored(f\"\"\"El porcentaje de los datos faltantes de la columna {j} con respecto \n",
        "    al número total de registros es de {porce_second_pr}%.\\n\"\"\", attrs=['bold']))\n",
        "  return avaliable"
      ],
      "metadata": {
        "id": "CqT_OXZOCS-1"
      },
      "execution_count": null,
      "outputs": []
    },
    {
      "cell_type": "code",
      "source": [
        "def type_data_feature(data):\n",
        "  data_numeric = (data.dtypes == \"int64\") | (data.dtypes == \"float64\")\n",
        "  data_object  = (data.dtypes == \"object\")\n",
        "  data_numeric = [c for c in data_numeric.index if data_numeric[c]]\n",
        "  data_object = [c for c in data_object.index if data_object[c]]\n",
        "  print(colored(f\"\"\"Contamos con {len(data_numeric)} caracteristicas cuantitativas y \n",
        "  {len(data_object)} categoricas \\n\"\"\", attrs=['bold']))\n",
        "\n",
        "  return data_numeric, data_object"
      ],
      "metadata": {
        "id": "j6CuYX9C8LVO"
      },
      "execution_count": null,
      "outputs": []
    },
    {
      "cell_type": "code",
      "source": [
        "def plot_bars(data, title: str= 'feature', x_size:int=6, y_size:int=5, \n",
        "              font_size:int=15):\n",
        "  fig, ax = plt.subplots(figsize = (x_size, y_size))\n",
        "  fig.suptitle(f'Count plot {title}', fontsize = font_size)\n",
        "  sns.countplot(x = data, ax = ax)\n",
        "  len_data = data.shape[0]\n",
        "\n",
        "  for p in ax.patches:\n",
        "    height = int(p.get_height())\n",
        "    porc = '{0:.2f}%'.format(height/len_data)\n",
        "    plt.text(p.get_x()+p.get_width()/2., height-height*0.05, porc, ha=\"center\", backgroundcolor='y')"
      ],
      "metadata": {
        "id": "TBBWVwV3YHHa"
      },
      "execution_count": null,
      "outputs": []
    },
    {
      "cell_type": "code",
      "execution_count": null,
      "metadata": {
        "id": "R4HtMgi2X5iH"
      },
      "outputs": [],
      "source": [
        "import pandas as pd\n",
        "import matplotlib.pyplot as plt\n",
        "import seaborn as sns\n",
        "import numpy as np\n",
        "from termcolor import colored\n"
      ]
    },
    {
      "cell_type": "code",
      "source": [
        "data = pd.read_csv('./data/cryptojacking.csv').drop('Unnamed: 0', axis = 1)\n",
        "data.drop('Name', inplace=True, axis = 1)"
      ],
      "metadata": {
        "id": "o7slcqnlX9-J"
      },
      "execution_count": null,
      "outputs": []
    },
    {
      "cell_type": "code",
      "source": [
        "print(colored(f'El conjunto de datos consta de {len(data.index)} registros y {len(data.columns)} columnas',  attrs=['bold']))"
      ],
      "metadata": {
        "colab": {
          "base_uri": "https://localhost:8080/"
        },
        "id": "sxlPmTfX9lS1",
        "outputId": "e40def0f-2eab-442c-dbd5-a85b8e04dbfd"
      },
      "execution_count": null,
      "outputs": [
        {
          "output_type": "stream",
          "name": "stdout",
          "text": [
            "\u001b[1mEl conjunto de datos consta de 2837 registros y 30 columnas\u001b[0m\n"
          ]
        }
      ]
    },
    {
      "cell_type": "markdown",
      "source": [
        "# **Información preliminar**"
      ],
      "metadata": {
        "id": "dwqT-xlhGZK_"
      }
    },
    {
      "cell_type": "code",
      "source": [
        "data.info()"
      ],
      "metadata": {
        "colab": {
          "base_uri": "https://localhost:8080/"
        },
        "id": "K4cBwEWc9uqV",
        "outputId": "f24425ce-14aa-4d85-f1b8-f6ca1e9043f3"
      },
      "execution_count": null,
      "outputs": [
        {
          "output_type": "stream",
          "name": "stdout",
          "text": [
            "<class 'pandas.core.frame.DataFrame'>\n",
            "RangeIndex: 2837 entries, 0 to 2836\n",
            "Data columns (total 30 columns):\n",
            " #   Column           Non-Null Count  Dtype  \n",
            "---  ------           --------------  -----  \n",
            " 0   Netflows         2837 non-null   int64  \n",
            " 1   First_Protocol   2837 non-null   object \n",
            " 2   Second_Protocol  619 non-null    object \n",
            " 3   Third_Protocol   26 non-null     object \n",
            " 4   p1_d             2837 non-null   float64\n",
            " 5   p2_d             2837 non-null   float64\n",
            " 6   p3_d             2837 non-null   float64\n",
            " 7   duration         2837 non-null   float64\n",
            " 8   max_d            2837 non-null   float64\n",
            " 9   min_d            2837 non-null   float64\n",
            " 10  #packets         2837 non-null   int64  \n",
            " 11  Avg_bps          2837 non-null   int64  \n",
            " 12  Avg_pps          2837 non-null   int64  \n",
            " 13  Avg_bpp          2837 non-null   int64  \n",
            " 14  #Bytes           2837 non-null   int64  \n",
            " 15  #sp              2837 non-null   int64  \n",
            " 16  #dp              2837 non-null   int64  \n",
            " 17  first_sp         2837 non-null   int64  \n",
            " 18  second_sp        2815 non-null   float64\n",
            " 19  third_sp         788 non-null    float64\n",
            " 20  first_dp         2837 non-null   int64  \n",
            " 21  second_dp        2815 non-null   float64\n",
            " 22  third_dp         785 non-null    float64\n",
            " 23  p1_ip            2837 non-null   float64\n",
            " 24  p2_ip            2837 non-null   float64\n",
            " 25  p3_ip            2837 non-null   float64\n",
            " 26  p1_ib            2837 non-null   float64\n",
            " 27  p2_ib            2837 non-null   float64\n",
            " 28  p3_ib            2837 non-null   float64\n",
            " 29  Type             2837 non-null   int64  \n",
            "dtypes: float64(16), int64(11), object(3)\n",
            "memory usage: 665.0+ KB\n"
          ]
        }
      ]
    },
    {
      "cell_type": "markdown",
      "source": [
        "**Inspección Datos Faltantes**\n"
      ],
      "metadata": {
        "id": "ay2zI0J290Ss"
      }
    },
    {
      "cell_type": "code",
      "source": [
        "porcent_feature_nan(data)"
      ],
      "metadata": {
        "colab": {
          "base_uri": "https://localhost:8080/"
        },
        "id": "OsUBdseOCuNN",
        "outputId": "201625e6-ac49-472f-cf63-df33f4e9aaac"
      },
      "execution_count": null,
      "outputs": [
        {
          "output_type": "stream",
          "name": "stdout",
          "text": [
            "Columnas con valores faltantes\n",
            "\u001b[1mEl porcentaje de los datos faltantes de la columna Second_Protocol con respecto \n",
            "    al número total de registros es de 78.2%.\n",
            "\u001b[0m\n",
            "\u001b[1mEl porcentaje de los datos faltantes de la columna Third_Protocol con respecto \n",
            "    al número total de registros es de 99.1%.\n",
            "\u001b[0m\n",
            "\u001b[1mEl porcentaje de los datos faltantes de la columna second_sp con respecto \n",
            "    al número total de registros es de 0.8%.\n",
            "\u001b[0m\n",
            "\u001b[1mEl porcentaje de los datos faltantes de la columna third_sp con respecto \n",
            "    al número total de registros es de 72.2%.\n",
            "\u001b[0m\n",
            "\u001b[1mEl porcentaje de los datos faltantes de la columna second_dp con respecto \n",
            "    al número total de registros es de 0.8%.\n",
            "\u001b[0m\n",
            "\u001b[1mEl porcentaje de los datos faltantes de la columna third_dp con respecto \n",
            "    al número total de registros es de 72.3%.\n",
            "\u001b[0m\n"
          ]
        },
        {
          "output_type": "execute_result",
          "data": {
            "text/plain": [
              "Second_Protocol    2218.0\n",
              "Third_Protocol     2811.0\n",
              "second_sp            22.0\n",
              "third_sp           2049.0\n",
              "second_dp            22.0\n",
              "third_dp           2052.0\n",
              "Name: True, dtype: float64"
            ]
          },
          "metadata": {},
          "execution_count": 8
        }
      ]
    },
    {
      "cell_type": "markdown",
      "source": [
        "**Inspección del tipo de variables**"
      ],
      "metadata": {
        "id": "paO9WkI_uNQy"
      }
    },
    {
      "cell_type": "code",
      "source": [
        "data_numeric, data_object = type_data_feature(data)"
      ],
      "metadata": {
        "colab": {
          "base_uri": "https://localhost:8080/"
        },
        "id": "5_ZYo6Z9Hh-N",
        "outputId": "7f281b2f-4010-4b78-810f-1fccb48dedfe"
      },
      "execution_count": null,
      "outputs": [
        {
          "output_type": "stream",
          "name": "stdout",
          "text": [
            "\u001b[1mContamos con 27 caracteristicas cuantitativas y \n",
            "  3 categoricas \n",
            "\u001b[0m\n"
          ]
        }
      ]
    },
    {
      "cell_type": "code",
      "source": [
        "data[data_numeric]"
      ],
      "metadata": {
        "colab": {
          "base_uri": "https://localhost:8080/",
          "height": 488
        },
        "id": "3tRw5b7zukPA",
        "outputId": "e4cbe264-03ab-490d-b9c2-3261b572bf3f"
      },
      "execution_count": null,
      "outputs": [
        {
          "output_type": "execute_result",
          "data": {
            "text/plain": [
              "      Netflows       p1_d      p2_d       p3_d  duration    max_d    min_d  \\\n",
              "0           65   18.93900  168.1730  194.28700  7845.126  244.362    0.000   \n",
              "1           18    0.00000    0.0000    0.00000     0.086    0.044    0.000   \n",
              "2           10    0.00000    0.0000    0.00000     0.000    0.000    0.000   \n",
              "3         2771    0.00000    0.0000    0.00000  8548.902  149.034    0.000   \n",
              "4            2    0.00000    0.0000    0.00000     0.000    0.000    0.000   \n",
              "...        ...        ...       ...        ...       ...      ...      ...   \n",
              "2832         2    2.15850    4.3170    6.47550     8.634    8.634    0.000   \n",
              "2833         2  583.36850  583.8100  584.25150  1167.620  584.693  582.927   \n",
              "2834         2  288.55375  288.5545  288.55525   577.109  288.556  288.553   \n",
              "2835         2  285.37900  285.3790  285.37900   570.758  285.379  285.379   \n",
              "2836         2  267.03625  267.0365  267.03675   534.073  267.037  267.036   \n",
              "\n",
              "      #packets  Avg_bps  Avg_pps  ...  first_dp  second_dp  third_dp  p1_ip  \\\n",
              "0         5546   125708       18  ...       443       80.0     123.0   3.00   \n",
              "1           20      148        0  ...       443       53.0   53195.0   1.00   \n",
              "2           10      236        0  ...        53    39308.0   54454.0   1.00   \n",
              "3         8711   129626       29  ...        53     5355.0     443.0   1.00   \n",
              "4            2   328000     1000  ...     48871       53.0       NaN   1.00   \n",
              "...        ...      ...      ...  ...       ...        ...       ...    ...   \n",
              "2832         3     1179        0  ...      3333    52003.0       NaN   1.25   \n",
              "2833       110      507        0  ...      3333    52003.0       NaN  53.50   \n",
              "2834        45      397        0  ...      3333    52003.0       NaN  22.25   \n",
              "2835        51      470        0  ...      3333    52003.0       NaN  24.75   \n",
              "2836        42      498        0  ...      3333    52003.0       NaN  21.00   \n",
              "\n",
              "      p2_ip  p3_ip     p1_ib    p2_ib     p3_ib  Type  \n",
              "0       7.0  22.00    127.00    255.0   1888.00     0  \n",
              "1       1.0   1.00     37.00     47.0     64.00     0  \n",
              "2       1.0   1.00     34.00     43.0     61.75     0  \n",
              "3       1.0   1.00     39.00     49.0     54.00     0  \n",
              "4       1.0   1.00     37.00     41.0     45.00     0  \n",
              "...     ...    ...       ...      ...       ...   ...  \n",
              "2832    1.5   1.75    328.25    636.5    944.75     5  \n",
              "2833   55.0  56.50  10108.75  18532.5  26956.25     5  \n",
              "2834   22.5  22.75   3865.00   7165.0  10465.00     5  \n",
              "2835   25.5  26.25   4627.50   8400.0  12172.50     5  \n",
              "2836   21.0  21.00   4370.50   8321.0  12271.50     5  \n",
              "\n",
              "[2837 rows x 27 columns]"
            ],
            "text/html": [
              "\n",
              "  <div id=\"df-e35fbccb-7c7f-4dd5-8673-26929efc8edc\">\n",
              "    <div class=\"colab-df-container\">\n",
              "      <div>\n",
              "<style scoped>\n",
              "    .dataframe tbody tr th:only-of-type {\n",
              "        vertical-align: middle;\n",
              "    }\n",
              "\n",
              "    .dataframe tbody tr th {\n",
              "        vertical-align: top;\n",
              "    }\n",
              "\n",
              "    .dataframe thead th {\n",
              "        text-align: right;\n",
              "    }\n",
              "</style>\n",
              "<table border=\"1\" class=\"dataframe\">\n",
              "  <thead>\n",
              "    <tr style=\"text-align: right;\">\n",
              "      <th></th>\n",
              "      <th>Netflows</th>\n",
              "      <th>p1_d</th>\n",
              "      <th>p2_d</th>\n",
              "      <th>p3_d</th>\n",
              "      <th>duration</th>\n",
              "      <th>max_d</th>\n",
              "      <th>min_d</th>\n",
              "      <th>#packets</th>\n",
              "      <th>Avg_bps</th>\n",
              "      <th>Avg_pps</th>\n",
              "      <th>...</th>\n",
              "      <th>first_dp</th>\n",
              "      <th>second_dp</th>\n",
              "      <th>third_dp</th>\n",
              "      <th>p1_ip</th>\n",
              "      <th>p2_ip</th>\n",
              "      <th>p3_ip</th>\n",
              "      <th>p1_ib</th>\n",
              "      <th>p2_ib</th>\n",
              "      <th>p3_ib</th>\n",
              "      <th>Type</th>\n",
              "    </tr>\n",
              "  </thead>\n",
              "  <tbody>\n",
              "    <tr>\n",
              "      <th>0</th>\n",
              "      <td>65</td>\n",
              "      <td>18.93900</td>\n",
              "      <td>168.1730</td>\n",
              "      <td>194.28700</td>\n",
              "      <td>7845.126</td>\n",
              "      <td>244.362</td>\n",
              "      <td>0.000</td>\n",
              "      <td>5546</td>\n",
              "      <td>125708</td>\n",
              "      <td>18</td>\n",
              "      <td>...</td>\n",
              "      <td>443</td>\n",
              "      <td>80.0</td>\n",
              "      <td>123.0</td>\n",
              "      <td>3.00</td>\n",
              "      <td>7.0</td>\n",
              "      <td>22.00</td>\n",
              "      <td>127.00</td>\n",
              "      <td>255.0</td>\n",
              "      <td>1888.00</td>\n",
              "      <td>0</td>\n",
              "    </tr>\n",
              "    <tr>\n",
              "      <th>1</th>\n",
              "      <td>18</td>\n",
              "      <td>0.00000</td>\n",
              "      <td>0.0000</td>\n",
              "      <td>0.00000</td>\n",
              "      <td>0.086</td>\n",
              "      <td>0.044</td>\n",
              "      <td>0.000</td>\n",
              "      <td>20</td>\n",
              "      <td>148</td>\n",
              "      <td>0</td>\n",
              "      <td>...</td>\n",
              "      <td>443</td>\n",
              "      <td>53.0</td>\n",
              "      <td>53195.0</td>\n",
              "      <td>1.00</td>\n",
              "      <td>1.0</td>\n",
              "      <td>1.00</td>\n",
              "      <td>37.00</td>\n",
              "      <td>47.0</td>\n",
              "      <td>64.00</td>\n",
              "      <td>0</td>\n",
              "    </tr>\n",
              "    <tr>\n",
              "      <th>2</th>\n",
              "      <td>10</td>\n",
              "      <td>0.00000</td>\n",
              "      <td>0.0000</td>\n",
              "      <td>0.00000</td>\n",
              "      <td>0.000</td>\n",
              "      <td>0.000</td>\n",
              "      <td>0.000</td>\n",
              "      <td>10</td>\n",
              "      <td>236</td>\n",
              "      <td>0</td>\n",
              "      <td>...</td>\n",
              "      <td>53</td>\n",
              "      <td>39308.0</td>\n",
              "      <td>54454.0</td>\n",
              "      <td>1.00</td>\n",
              "      <td>1.0</td>\n",
              "      <td>1.00</td>\n",
              "      <td>34.00</td>\n",
              "      <td>43.0</td>\n",
              "      <td>61.75</td>\n",
              "      <td>0</td>\n",
              "    </tr>\n",
              "    <tr>\n",
              "      <th>3</th>\n",
              "      <td>2771</td>\n",
              "      <td>0.00000</td>\n",
              "      <td>0.0000</td>\n",
              "      <td>0.00000</td>\n",
              "      <td>8548.902</td>\n",
              "      <td>149.034</td>\n",
              "      <td>0.000</td>\n",
              "      <td>8711</td>\n",
              "      <td>129626</td>\n",
              "      <td>29</td>\n",
              "      <td>...</td>\n",
              "      <td>53</td>\n",
              "      <td>5355.0</td>\n",
              "      <td>443.0</td>\n",
              "      <td>1.00</td>\n",
              "      <td>1.0</td>\n",
              "      <td>1.00</td>\n",
              "      <td>39.00</td>\n",
              "      <td>49.0</td>\n",
              "      <td>54.00</td>\n",
              "      <td>0</td>\n",
              "    </tr>\n",
              "    <tr>\n",
              "      <th>4</th>\n",
              "      <td>2</td>\n",
              "      <td>0.00000</td>\n",
              "      <td>0.0000</td>\n",
              "      <td>0.00000</td>\n",
              "      <td>0.000</td>\n",
              "      <td>0.000</td>\n",
              "      <td>0.000</td>\n",
              "      <td>2</td>\n",
              "      <td>328000</td>\n",
              "      <td>1000</td>\n",
              "      <td>...</td>\n",
              "      <td>48871</td>\n",
              "      <td>53.0</td>\n",
              "      <td>NaN</td>\n",
              "      <td>1.00</td>\n",
              "      <td>1.0</td>\n",
              "      <td>1.00</td>\n",
              "      <td>37.00</td>\n",
              "      <td>41.0</td>\n",
              "      <td>45.00</td>\n",
              "      <td>0</td>\n",
              "    </tr>\n",
              "    <tr>\n",
              "      <th>...</th>\n",
              "      <td>...</td>\n",
              "      <td>...</td>\n",
              "      <td>...</td>\n",
              "      <td>...</td>\n",
              "      <td>...</td>\n",
              "      <td>...</td>\n",
              "      <td>...</td>\n",
              "      <td>...</td>\n",
              "      <td>...</td>\n",
              "      <td>...</td>\n",
              "      <td>...</td>\n",
              "      <td>...</td>\n",
              "      <td>...</td>\n",
              "      <td>...</td>\n",
              "      <td>...</td>\n",
              "      <td>...</td>\n",
              "      <td>...</td>\n",
              "      <td>...</td>\n",
              "      <td>...</td>\n",
              "      <td>...</td>\n",
              "      <td>...</td>\n",
              "    </tr>\n",
              "    <tr>\n",
              "      <th>2832</th>\n",
              "      <td>2</td>\n",
              "      <td>2.15850</td>\n",
              "      <td>4.3170</td>\n",
              "      <td>6.47550</td>\n",
              "      <td>8.634</td>\n",
              "      <td>8.634</td>\n",
              "      <td>0.000</td>\n",
              "      <td>3</td>\n",
              "      <td>1179</td>\n",
              "      <td>0</td>\n",
              "      <td>...</td>\n",
              "      <td>3333</td>\n",
              "      <td>52003.0</td>\n",
              "      <td>NaN</td>\n",
              "      <td>1.25</td>\n",
              "      <td>1.5</td>\n",
              "      <td>1.75</td>\n",
              "      <td>328.25</td>\n",
              "      <td>636.5</td>\n",
              "      <td>944.75</td>\n",
              "      <td>5</td>\n",
              "    </tr>\n",
              "    <tr>\n",
              "      <th>2833</th>\n",
              "      <td>2</td>\n",
              "      <td>583.36850</td>\n",
              "      <td>583.8100</td>\n",
              "      <td>584.25150</td>\n",
              "      <td>1167.620</td>\n",
              "      <td>584.693</td>\n",
              "      <td>582.927</td>\n",
              "      <td>110</td>\n",
              "      <td>507</td>\n",
              "      <td>0</td>\n",
              "      <td>...</td>\n",
              "      <td>3333</td>\n",
              "      <td>52003.0</td>\n",
              "      <td>NaN</td>\n",
              "      <td>53.50</td>\n",
              "      <td>55.0</td>\n",
              "      <td>56.50</td>\n",
              "      <td>10108.75</td>\n",
              "      <td>18532.5</td>\n",
              "      <td>26956.25</td>\n",
              "      <td>5</td>\n",
              "    </tr>\n",
              "    <tr>\n",
              "      <th>2834</th>\n",
              "      <td>2</td>\n",
              "      <td>288.55375</td>\n",
              "      <td>288.5545</td>\n",
              "      <td>288.55525</td>\n",
              "      <td>577.109</td>\n",
              "      <td>288.556</td>\n",
              "      <td>288.553</td>\n",
              "      <td>45</td>\n",
              "      <td>397</td>\n",
              "      <td>0</td>\n",
              "      <td>...</td>\n",
              "      <td>3333</td>\n",
              "      <td>52003.0</td>\n",
              "      <td>NaN</td>\n",
              "      <td>22.25</td>\n",
              "      <td>22.5</td>\n",
              "      <td>22.75</td>\n",
              "      <td>3865.00</td>\n",
              "      <td>7165.0</td>\n",
              "      <td>10465.00</td>\n",
              "      <td>5</td>\n",
              "    </tr>\n",
              "    <tr>\n",
              "      <th>2835</th>\n",
              "      <td>2</td>\n",
              "      <td>285.37900</td>\n",
              "      <td>285.3790</td>\n",
              "      <td>285.37900</td>\n",
              "      <td>570.758</td>\n",
              "      <td>285.379</td>\n",
              "      <td>285.379</td>\n",
              "      <td>51</td>\n",
              "      <td>470</td>\n",
              "      <td>0</td>\n",
              "      <td>...</td>\n",
              "      <td>3333</td>\n",
              "      <td>52003.0</td>\n",
              "      <td>NaN</td>\n",
              "      <td>24.75</td>\n",
              "      <td>25.5</td>\n",
              "      <td>26.25</td>\n",
              "      <td>4627.50</td>\n",
              "      <td>8400.0</td>\n",
              "      <td>12172.50</td>\n",
              "      <td>5</td>\n",
              "    </tr>\n",
              "    <tr>\n",
              "      <th>2836</th>\n",
              "      <td>2</td>\n",
              "      <td>267.03625</td>\n",
              "      <td>267.0365</td>\n",
              "      <td>267.03675</td>\n",
              "      <td>534.073</td>\n",
              "      <td>267.037</td>\n",
              "      <td>267.036</td>\n",
              "      <td>42</td>\n",
              "      <td>498</td>\n",
              "      <td>0</td>\n",
              "      <td>...</td>\n",
              "      <td>3333</td>\n",
              "      <td>52003.0</td>\n",
              "      <td>NaN</td>\n",
              "      <td>21.00</td>\n",
              "      <td>21.0</td>\n",
              "      <td>21.00</td>\n",
              "      <td>4370.50</td>\n",
              "      <td>8321.0</td>\n",
              "      <td>12271.50</td>\n",
              "      <td>5</td>\n",
              "    </tr>\n",
              "  </tbody>\n",
              "</table>\n",
              "<p>2837 rows × 27 columns</p>\n",
              "</div>\n",
              "      <button class=\"colab-df-convert\" onclick=\"convertToInteractive('df-e35fbccb-7c7f-4dd5-8673-26929efc8edc')\"\n",
              "              title=\"Convert this dataframe to an interactive table.\"\n",
              "              style=\"display:none;\">\n",
              "        \n",
              "  <svg xmlns=\"http://www.w3.org/2000/svg\" height=\"24px\"viewBox=\"0 0 24 24\"\n",
              "       width=\"24px\">\n",
              "    <path d=\"M0 0h24v24H0V0z\" fill=\"none\"/>\n",
              "    <path d=\"M18.56 5.44l.94 2.06.94-2.06 2.06-.94-2.06-.94-.94-2.06-.94 2.06-2.06.94zm-11 1L8.5 8.5l.94-2.06 2.06-.94-2.06-.94L8.5 2.5l-.94 2.06-2.06.94zm10 10l.94 2.06.94-2.06 2.06-.94-2.06-.94-.94-2.06-.94 2.06-2.06.94z\"/><path d=\"M17.41 7.96l-1.37-1.37c-.4-.4-.92-.59-1.43-.59-.52 0-1.04.2-1.43.59L10.3 9.45l-7.72 7.72c-.78.78-.78 2.05 0 2.83L4 21.41c.39.39.9.59 1.41.59.51 0 1.02-.2 1.41-.59l7.78-7.78 2.81-2.81c.8-.78.8-2.07 0-2.86zM5.41 20L4 18.59l7.72-7.72 1.47 1.35L5.41 20z\"/>\n",
              "  </svg>\n",
              "      </button>\n",
              "      \n",
              "  <style>\n",
              "    .colab-df-container {\n",
              "      display:flex;\n",
              "      flex-wrap:wrap;\n",
              "      gap: 12px;\n",
              "    }\n",
              "\n",
              "    .colab-df-convert {\n",
              "      background-color: #E8F0FE;\n",
              "      border: none;\n",
              "      border-radius: 50%;\n",
              "      cursor: pointer;\n",
              "      display: none;\n",
              "      fill: #1967D2;\n",
              "      height: 32px;\n",
              "      padding: 0 0 0 0;\n",
              "      width: 32px;\n",
              "    }\n",
              "\n",
              "    .colab-df-convert:hover {\n",
              "      background-color: #E2EBFA;\n",
              "      box-shadow: 0px 1px 2px rgba(60, 64, 67, 0.3), 0px 1px 3px 1px rgba(60, 64, 67, 0.15);\n",
              "      fill: #174EA6;\n",
              "    }\n",
              "\n",
              "    [theme=dark] .colab-df-convert {\n",
              "      background-color: #3B4455;\n",
              "      fill: #D2E3FC;\n",
              "    }\n",
              "\n",
              "    [theme=dark] .colab-df-convert:hover {\n",
              "      background-color: #434B5C;\n",
              "      box-shadow: 0px 1px 3px 1px rgba(0, 0, 0, 0.15);\n",
              "      filter: drop-shadow(0px 1px 2px rgba(0, 0, 0, 0.3));\n",
              "      fill: #FFFFFF;\n",
              "    }\n",
              "  </style>\n",
              "\n",
              "      <script>\n",
              "        const buttonEl =\n",
              "          document.querySelector('#df-e35fbccb-7c7f-4dd5-8673-26929efc8edc button.colab-df-convert');\n",
              "        buttonEl.style.display =\n",
              "          google.colab.kernel.accessAllowed ? 'block' : 'none';\n",
              "\n",
              "        async function convertToInteractive(key) {\n",
              "          const element = document.querySelector('#df-e35fbccb-7c7f-4dd5-8673-26929efc8edc');\n",
              "          const dataTable =\n",
              "            await google.colab.kernel.invokeFunction('convertToInteractive',\n",
              "                                                     [key], {});\n",
              "          if (!dataTable) return;\n",
              "\n",
              "          const docLinkHtml = 'Like what you see? Visit the ' +\n",
              "            '<a target=\"_blank\" href=https://colab.research.google.com/notebooks/data_table.ipynb>data table notebook</a>'\n",
              "            + ' to learn more about interactive tables.';\n",
              "          element.innerHTML = '';\n",
              "          dataTable['output_type'] = 'display_data';\n",
              "          await google.colab.output.renderOutput(dataTable, element);\n",
              "          const docLink = document.createElement('div');\n",
              "          docLink.innerHTML = docLinkHtml;\n",
              "          element.appendChild(docLink);\n",
              "        }\n",
              "      </script>\n",
              "    </div>\n",
              "  </div>\n",
              "  "
            ]
          },
          "metadata": {},
          "execution_count": 10
        }
      ]
    },
    {
      "cell_type": "markdown",
      "source": [
        "- La variable `Name` no aporta información es solo referencia al archivo\n",
        "- second_dp  y third_dp hacen referencia a un valor cuantitativo\n",
        "- Type debe ser de tipo categorica"
      ],
      "metadata": {
        "id": "QtxiaBzbuXd-"
      }
    },
    {
      "cell_type": "code",
      "source": [
        "# Transformaciones preliminares\n",
        "data['Type'] = data['Type'].astype('object')\n",
        "data['second_dp'] = data['second_dp'].astype('int64',  errors='ignore')\n",
        "data['third_dp'] = data['third_dp'].astype('int64',  errors='ignore')"
      ],
      "metadata": {
        "id": "9T575WA2vsKv"
      },
      "execution_count": null,
      "outputs": []
    },
    {
      "cell_type": "code",
      "source": [
        "plot_bars(data['Type'], 'Type net flow red')"
      ],
      "metadata": {
        "colab": {
          "base_uri": "https://localhost:8080/",
          "height": 370
        },
        "id": "D5BerWnoYOVa",
        "outputId": "814972bb-3ed5-4a26-97ab-675066ca8aab"
      },
      "execution_count": null,
      "outputs": [
        {
          "output_type": "display_data",
          "data": {
            "text/plain": [
              "<Figure size 432x360 with 1 Axes>"
            ],
            "image/png": "[encoded data removed]"
          },
          "metadata": {
            "needs_background": "light"
          }
        }
      ]
    },
    {
      "cell_type": "markdown",
      "source": [
        "- El conjunto no está balanceado\n",
        "- La categoria con más registro es ethereum\n",
        "- La categoria con menos registro es monero\n",
        "- Se puede utilizar todos los registros de naturaleza minera para identificar el trafico de una de las criptomonedas estudiadas\n",
        "- El 75% de los registros son de naturales maligna\n",
        "- El 25% son de naturaleza benigna"
      ],
      "metadata": {
        "id": "L6FHAF786Okt"
      }
    },
    {
      "cell_type": "markdown",
      "source": [
        "# **Analisis univariado de variables categoricas**"
      ],
      "metadata": {
        "id": "kjEafeDVuHgX"
      }
    },
    {
      "cell_type": "code",
      "source": [
        "print(colored(f'Analisis descriptivo no agrupado', attrs=['bold']))\n",
        "data[data_object].describe()"
      ],
      "metadata": {
        "colab": {
          "base_uri": "https://localhost:8080/",
          "height": 192
        },
        "id": "w-wlXstLswWQ",
        "outputId": "fe135bf0-4b31-484e-85c7-4ee468f65163"
      },
      "execution_count": null,
      "outputs": [
        {
          "output_type": "stream",
          "name": "stdout",
          "text": [
            "\u001b[1mAnalisis descriptivo no agrupado\u001b[0m\n"
          ]
        },
        {
          "output_type": "execute_result",
          "data": {
            "text/plain": [
              "       First_Protocol Second_Protocol Third_Protocol\n",
              "count            2837             619             26\n",
              "unique              2               3              2\n",
              "top               TCP             UDP          ICMP6\n",
              "freq             2702             561             23"
            ],
            "text/html": [
              "\n",
              "  <div id=\"df-fe69773b-a57b-4da0-8a0e-3d83e8538be0\">\n",
              "    <div class=\"colab-df-container\">\n",
              "      <div>\n",
              "<style scoped>\n",
              "    .dataframe tbody tr th:only-of-type {\n",
              "        vertical-align: middle;\n",
              "    }\n",
              "\n",
              "    .dataframe tbody tr th {\n",
              "        vertical-align: top;\n",
              "    }\n",
              "\n",
              "    .dataframe thead th {\n",
              "        text-align: right;\n",
              "    }\n",
              "</style>\n",
              "<table border=\"1\" class=\"dataframe\">\n",
              "  <thead>\n",
              "    <tr style=\"text-align: right;\">\n",
              "      <th></th>\n",
              "      <th>First_Protocol</th>\n",
              "      <th>Second_Protocol</th>\n",
              "      <th>Third_Protocol</th>\n",
              "    </tr>\n",
              "  </thead>\n",
              "  <tbody>\n",
              "    <tr>\n",
              "      <th>count</th>\n",
              "      <td>2837</td>\n",
              "      <td>619</td>\n",
              "      <td>26</td>\n",
              "    </tr>\n",
              "    <tr>\n",
              "      <th>unique</th>\n",
              "      <td>2</td>\n",
              "      <td>3</td>\n",
              "      <td>2</td>\n",
              "    </tr>\n",
              "    <tr>\n",
              "      <th>top</th>\n",
              "      <td>TCP</td>\n",
              "      <td>UDP</td>\n",
              "      <td>ICMP6</td>\n",
              "    </tr>\n",
              "    <tr>\n",
              "      <th>freq</th>\n",
              "      <td>2702</td>\n",
              "      <td>561</td>\n",
              "      <td>23</td>\n",
              "    </tr>\n",
              "  </tbody>\n",
              "</table>\n",
              "</div>\n",
              "      <button class=\"colab-df-convert\" onclick=\"convertToInteractive('df-fe69773b-a57b-4da0-8a0e-3d83e8538be0')\"\n",
              "              title=\"Convert this dataframe to an interactive table.\"\n",
              "              style=\"display:none;\">\n",
              "        \n",
              "  <svg xmlns=\"http://www.w3.org/2000/svg\" height=\"24px\"viewBox=\"0 0 24 24\"\n",
              "       width=\"24px\">\n",
              "    <path d=\"M0 0h24v24H0V0z\" fill=\"none\"/>\n",
              "    <path d=\"M18.56 5.44l.94 2.06.94-2.06 2.06-.94-2.06-.94-.94-2.06-.94 2.06-2.06.94zm-11 1L8.5 8.5l.94-2.06 2.06-.94-2.06-.94L8.5 2.5l-.94 2.06-2.06.94zm10 10l.94 2.06.94-2.06 2.06-.94-2.06-.94-.94-2.06-.94 2.06-2.06.94z\"/><path d=\"M17.41 7.96l-1.37-1.37c-.4-.4-.92-.59-1.43-.59-.52 0-1.04.2-1.43.59L10.3 9.45l-7.72 7.72c-.78.78-.78 2.05 0 2.83L4 21.41c.39.39.9.59 1.41.59.51 0 1.02-.2 1.41-.59l7.78-7.78 2.81-2.81c.8-.78.8-2.07 0-2.86zM5.41 20L4 18.59l7.72-7.72 1.47 1.35L5.41 20z\"/>\n",
              "  </svg>\n",
              "      </button>\n",
              "      \n",
              "  <style>\n",
              "    .colab-df-container {\n",
              "      display:flex;\n",
              "      flex-wrap:wrap;\n",
              "      gap: 12px;\n",
              "    }\n",
              "\n",
              "    .colab-df-convert {\n",
              "      background-color: #E8F0FE;\n",
              "      border: none;\n",
              "      border-radius: 50%;\n",
              "      cursor: pointer;\n",
              "      display: none;\n",
              "      fill: #1967D2;\n",
              "      height: 32px;\n",
              "      padding: 0 0 0 0;\n",
              "      width: 32px;\n",
              "    }\n",
              "\n",
              "    .colab-df-convert:hover {\n",
              "      background-color: #E2EBFA;\n",
              "      box-shadow: 0px 1px 2px rgba(60, 64, 67, 0.3), 0px 1px 3px 1px rgba(60, 64, 67, 0.15);\n",
              "      fill: #174EA6;\n",
              "    }\n",
              "\n",
              "    [theme=dark] .colab-df-convert {\n",
              "      background-color: #3B4455;\n",
              "      fill: #D2E3FC;\n",
              "    }\n",
              "\n",
              "    [theme=dark] .colab-df-convert:hover {\n",
              "      background-color: #434B5C;\n",
              "      box-shadow: 0px 1px 3px 1px rgba(0, 0, 0, 0.15);\n",
              "      filter: drop-shadow(0px 1px 2px rgba(0, 0, 0, 0.3));\n",
              "      fill: #FFFFFF;\n",
              "    }\n",
              "  </style>\n",
              "\n",
              "      <script>\n",
              "        const buttonEl =\n",
              "          document.querySelector('#df-fe69773b-a57b-4da0-8a0e-3d83e8538be0 button.colab-df-convert');\n",
              "        buttonEl.style.display =\n",
              "          google.colab.kernel.accessAllowed ? 'block' : 'none';\n",
              "\n",
              "        async function convertToInteractive(key) {\n",
              "          const element = document.querySelector('#df-fe69773b-a57b-4da0-8a0e-3d83e8538be0');\n",
              "          const dataTable =\n",
              "            await google.colab.kernel.invokeFunction('convertToInteractive',\n",
              "                                                     [key], {});\n",
              "          if (!dataTable) return;\n",
              "\n",
              "          const docLinkHtml = 'Like what you see? Visit the ' +\n",
              "            '<a target=\"_blank\" href=https://colab.research.google.com/notebooks/data_table.ipynb>data table notebook</a>'\n",
              "            + ' to learn more about interactive tables.';\n",
              "          element.innerHTML = '';\n",
              "          dataTable['output_type'] = 'display_data';\n",
              "          await google.colab.output.renderOutput(dataTable, element);\n",
              "          const docLink = document.createElement('div');\n",
              "          docLink.innerHTML = docLinkHtml;\n",
              "          element.appendChild(docLink);\n",
              "        }\n",
              "      </script>\n",
              "    </div>\n",
              "  </div>\n",
              "  "
            ]
          },
          "metadata": {},
          "execution_count": 13
        }
      ]
    },
    {
      "cell_type": "code",
      "source": [
        "fig, ax = plt.subplots(nrows = 1, ncols=3, figsize = (10,5))\n",
        "ax = ax.flat\n",
        "for i, col in enumerate(data_object):\n",
        "    sns.countplot(x=col, data=data, palette=\"Set1\", ax = ax[i])\n",
        "fig.tight_layout()\n",
        "plt.subplots_adjust(top = 0.90)\n",
        "fig.suptitle('Diagrama de Barras', fontsize = 17, fontweight = \"bold\");"
      ],
      "metadata": {
        "colab": {
          "base_uri": "https://localhost:8080/",
          "height": 373
        },
        "id": "j4si8INr2q1h",
        "outputId": "94e024de-a1ef-4fc4-abe7-c80c722df5b0"
      },
      "execution_count": null,
      "outputs": [
        {
          "output_type": "display_data",
          "data": {
            "text/plain": [
              "<Figure size 720x360 with 3 Axes>"
            ],
            "image/png": "[encoded data removed]"
          },
          "metadata": {
            "needs_background": "light"
          }
        }
      ]
    },
    {
      "cell_type": "markdown",
      "source": [
        "- En la primera grafica se presentan mas registros del protocolo **TCP** lo cual es interesante, puesto que los mineros requieren un protocolo orientado a la conexión, el cual debe verificar la correcta trasmición, que en este caso seria el host de mineria y el minero.\n",
        "\n",
        "- En la primera grafica el protocolo que tiene más precencies es el UDP, protocolo que no suele ser usado por los mienros por su tendencia a perder información. Pero el numero de registros es inferior con respecto a la primera grafica. \n",
        "\n",
        "- El la ultima grafica que suele tener un portocolo (ICMP6) de IPv6 que es una nueva versión con respecto a IPV4. El protocolo suele ser asociado a detectar errores, pero tiene un numero limitado de resgistros.  "
      ],
      "metadata": {
        "id": "RNzfsMo43fTQ"
      }
    },
    {
      "cell_type": "code",
      "source": [
        ""
      ],
      "metadata": {
        "id": "mCGq_LqX-2_g"
      },
      "execution_count": null,
      "outputs": []
    }
  ]
}