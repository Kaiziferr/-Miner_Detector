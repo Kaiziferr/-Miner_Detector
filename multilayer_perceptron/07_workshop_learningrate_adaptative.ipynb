{
  "nbformat": 4,
  "nbformat_minor": 0,
  "metadata": {
    "colab": {
      "name": "07_workshop_learningrate_adaptative.ipynb",
      "provenance": [],
      "collapsed_sections": [],
      "include_colab_link": true
    },
    "kernelspec": {
      "name": "python3",
      "display_name": "Python 3"
    },
    "language_info": {
      "name": "python"
    }
  },
  "cells": [
    {
      "cell_type": "markdown",
      "metadata": {
        "id": "view-in-github",
        "colab_type": "text"
      },
      "source": [
        "<a href=\"https://colab.research.google.com/github/Kaiziferr/-Miner_Detector/blob/master/multilayer_perceptron/07_workshop_learningrate_adaptative.ipynb\" target=\"_parent\"><img src=\"https://colab.research.google.com/assets/colab-badge.svg\" alt=\"Open In Colab\"/></a>"
      ]
    },
    {
      "cell_type": "code",
      "metadata": {
        "id": "djKxlTmnDJG0"
      },
      "source": [
        "import pandas as pd\n",
        "import numpy as np\n",
        "import matplotlib.pyplot as plt\n",
        "import seaborn as sns\n",
        "\n",
        "import tensorflow \n",
        "\n",
        "from keras.models import Sequential\n",
        "from keras.layers import Dense\n",
        "from tensorflow.keras.optimizers import SGD\n",
        "from keras.callbacks import LearningRateScheduler\n",
        "\n",
        "from sklearn.preprocessing import LabelEncoder, StandardScaler\n",
        "from sklearn.model_selection import train_test_split\n"
      ],
      "execution_count": 1,
      "outputs": []
    },
    {
      "cell_type": "code",
      "metadata": {
        "id": "HKIhKxBp7rY4"
      },
      "source": [
        "data = pd.read_csv('https://raw.githubusercontent.com/Kaiziferr/datasets/main/diabetes.csv')\n",
        "data_values = data.values"
      ],
      "execution_count": 2,
      "outputs": []
    },
    {
      "cell_type": "markdown",
      "metadata": {
        "id": "lWkHjOmBIyjk"
      },
      "source": [
        "# **Split data**\n",
        "---\n",
        "\n"
      ]
    },
    {
      "cell_type": "code",
      "metadata": {
        "id": "SHqgWRDA71W3"
      },
      "source": [
        "X = data_values[:,:8].astype('float')\n",
        "y = data_values[:,8]"
      ],
      "execution_count": 3,
      "outputs": []
    },
    {
      "cell_type": "code",
      "metadata": {
        "id": "GegPvxyG8CaC"
      },
      "source": [
        "X_train, X_test, y_train, y_test = train_test_split(X, y, train_size = 0.8, shuffle=True, random_state=1234) "
      ],
      "execution_count": 4,
      "outputs": []
    },
    {
      "cell_type": "code",
      "metadata": {
        "id": "FOplAwMM8CV5"
      },
      "source": [
        "# Encoder\n",
        "encoder = LabelEncoder()\n",
        "y_train_encoder = encoder.fit_transform(y_train)\n",
        "y_test_encoder = encoder.transform(y_test)"
      ],
      "execution_count": 5,
      "outputs": []
    },
    {
      "cell_type": "code",
      "metadata": {
        "id": "L8ah7DSK8CSo"
      },
      "source": [
        "# Escalar\n",
        "estimator_scaler = StandardScaler()\n",
        "X_train_scaler = estimator_scaler.fit_transform(X_train)\n",
        "X_test_scaler = estimator_scaler.transform(X_test)"
      ],
      "execution_count": 6,
      "outputs": []
    },
    {
      "cell_type": "code",
      "source": [
        "def optimization_learning_curves(history, metrica, title: str= '', x_size:int=8, y_size:int=4, \n",
        "                                 font_size:int=15, x_label:str='Epoch',y_label:str='Loss')->None:\n",
        "  fig, ax = plt.subplots(figsize = (x_size, y_size))\n",
        "  fig.suptitle(title, fontsize = font_size)\n",
        "  ax.plot(history.history[metrica])\n",
        "  ax.plot(history.history[f'val_{metrica}'])\n",
        "  ax.set_xlabel(x_label, size = 12)\n",
        "  ax.set_ylabel(y_label, size = 12)\n",
        "  ax.legend(['Train', 'Test'], loc = 'upper left', fontsize = 12)\n",
        "  ax.tick_params(labelsize = 12)\n",
        "  fig.show()"
      ],
      "metadata": {
        "id": "B9ldxd8iDbeE"
      },
      "execution_count": 7,
      "outputs": []
    },
    {
      "cell_type": "markdown",
      "metadata": {
        "id": "SyrnzI4EwFtS"
      },
      "source": [
        "# **Optimizador Adaptativo Adam**\n",
        "\n",
        "---\n",
        "\n"
      ]
    },
    {
      "cell_type": "code",
      "metadata": {
        "id": "Yjh0oe5C9AFq"
      },
      "source": [
        "model = Sequential()\n",
        "model.add(Dense(1, input_dim=8, activation='relu', kernel_initializer='glorot_uniform'))\n",
        "model.add(Dense(1,activation='sigmoid', kernel_initializer='glorot_uniform'))"
      ],
      "execution_count": 32,
      "outputs": []
    },
    {
      "cell_type": "code",
      "metadata": {
        "id": "ICoAHCkD9jow",
        "outputId": "209faed3-5cbd-4c36-b78e-6ef7189f2810",
        "colab": {
          "base_uri": "https://localhost:8080/"
        }
      },
      "source": [
        "model.compile(loss='binary_crossentropy', optimizer='adam')\n",
        "history = model.fit(X_train_scaler, y_train_encoder, validation_data=(X_test_scaler, y_test_encoder),\n",
        "                    epochs=100, batch_size=5, verbose = 1)"
      ],
      "execution_count": 33,
      "outputs": [
        {
          "output_type": "stream",
          "name": "stdout",
          "text": [
            "Epoch 1/100\n",
            "123/123 [==============================] - 2s 3ms/step - loss: 0.7418 - val_loss: 0.7222\n",
            "Epoch 2/100\n",
            "123/123 [==============================] - 0s 2ms/step - loss: 0.7034 - val_loss: 0.6899\n",
            "Epoch 3/100\n",
            "123/123 [==============================] - 0s 2ms/step - loss: 0.6796 - val_loss: 0.6697\n",
            "Epoch 4/100\n",
            "123/123 [==============================] - 0s 2ms/step - loss: 0.6643 - val_loss: 0.6550\n",
            "Epoch 5/100\n",
            "123/123 [==============================] - 0s 2ms/step - loss: 0.6533 - val_loss: 0.6445\n",
            "Epoch 6/100\n",
            "123/123 [==============================] - 0s 2ms/step - loss: 0.6449 - val_loss: 0.6357\n",
            "Epoch 7/100\n",
            "123/123 [==============================] - 0s 2ms/step - loss: 0.6380 - val_loss: 0.6283\n",
            "Epoch 8/100\n",
            "123/123 [==============================] - 0s 2ms/step - loss: 0.6316 - val_loss: 0.6214\n",
            "Epoch 9/100\n",
            "123/123 [==============================] - 0s 2ms/step - loss: 0.6255 - val_loss: 0.6158\n",
            "Epoch 10/100\n",
            "123/123 [==============================] - 0s 2ms/step - loss: 0.6194 - val_loss: 0.6103\n",
            "Epoch 11/100\n",
            "123/123 [==============================] - 0s 2ms/step - loss: 0.6127 - val_loss: 0.6049\n",
            "Epoch 12/100\n",
            "123/123 [==============================] - 0s 2ms/step - loss: 0.6063 - val_loss: 0.6003\n",
            "Epoch 13/100\n",
            "123/123 [==============================] - 0s 2ms/step - loss: 0.5998 - val_loss: 0.5952\n",
            "Epoch 14/100\n",
            "123/123 [==============================] - 0s 2ms/step - loss: 0.5934 - val_loss: 0.5898\n",
            "Epoch 15/100\n",
            "123/123 [==============================] - 0s 2ms/step - loss: 0.5868 - val_loss: 0.5855\n",
            "Epoch 16/100\n",
            "123/123 [==============================] - 0s 2ms/step - loss: 0.5804 - val_loss: 0.5805\n",
            "Epoch 17/100\n",
            "123/123 [==============================] - 0s 2ms/step - loss: 0.5742 - val_loss: 0.5758\n",
            "Epoch 18/100\n",
            "123/123 [==============================] - 0s 2ms/step - loss: 0.5674 - val_loss: 0.5708\n",
            "Epoch 19/100\n",
            "123/123 [==============================] - 0s 2ms/step - loss: 0.5609 - val_loss: 0.5656\n",
            "Epoch 20/100\n",
            "123/123 [==============================] - 0s 2ms/step - loss: 0.5544 - val_loss: 0.5603\n",
            "Epoch 21/100\n",
            "123/123 [==============================] - 0s 3ms/step - loss: 0.5487 - val_loss: 0.5557\n",
            "Epoch 22/100\n",
            "123/123 [==============================] - 0s 2ms/step - loss: 0.5434 - val_loss: 0.5518\n",
            "Epoch 23/100\n",
            "123/123 [==============================] - 0s 2ms/step - loss: 0.5389 - val_loss: 0.5479\n",
            "Epoch 24/100\n",
            "123/123 [==============================] - 0s 2ms/step - loss: 0.5343 - val_loss: 0.5439\n",
            "Epoch 25/100\n",
            "123/123 [==============================] - 0s 2ms/step - loss: 0.5303 - val_loss: 0.5400\n",
            "Epoch 26/100\n",
            "123/123 [==============================] - 0s 2ms/step - loss: 0.5261 - val_loss: 0.5370\n",
            "Epoch 27/100\n",
            "123/123 [==============================] - 0s 2ms/step - loss: 0.5224 - val_loss: 0.5341\n",
            "Epoch 28/100\n",
            "123/123 [==============================] - 0s 2ms/step - loss: 0.5188 - val_loss: 0.5316\n",
            "Epoch 29/100\n",
            "123/123 [==============================] - 0s 2ms/step - loss: 0.5155 - val_loss: 0.5294\n",
            "Epoch 30/100\n",
            "123/123 [==============================] - 0s 2ms/step - loss: 0.5128 - val_loss: 0.5281\n",
            "Epoch 31/100\n",
            "123/123 [==============================] - 0s 2ms/step - loss: 0.5102 - val_loss: 0.5264\n",
            "Epoch 32/100\n",
            "123/123 [==============================] - 0s 2ms/step - loss: 0.5078 - val_loss: 0.5250\n",
            "Epoch 33/100\n",
            "123/123 [==============================] - 0s 2ms/step - loss: 0.5055 - val_loss: 0.5238\n",
            "Epoch 34/100\n",
            "123/123 [==============================] - 0s 2ms/step - loss: 0.5033 - val_loss: 0.5220\n",
            "Epoch 35/100\n",
            "123/123 [==============================] - 0s 2ms/step - loss: 0.5013 - val_loss: 0.5216\n",
            "Epoch 36/100\n",
            "123/123 [==============================] - 0s 2ms/step - loss: 0.4998 - val_loss: 0.5205\n",
            "Epoch 37/100\n",
            "123/123 [==============================] - 0s 2ms/step - loss: 0.4982 - val_loss: 0.5203\n",
            "Epoch 38/100\n",
            "123/123 [==============================] - 0s 2ms/step - loss: 0.4971 - val_loss: 0.5194\n",
            "Epoch 39/100\n",
            "123/123 [==============================] - 0s 2ms/step - loss: 0.4958 - val_loss: 0.5187\n",
            "Epoch 40/100\n",
            "123/123 [==============================] - 0s 2ms/step - loss: 0.4946 - val_loss: 0.5190\n",
            "Epoch 41/100\n",
            "123/123 [==============================] - 0s 2ms/step - loss: 0.4938 - val_loss: 0.5182\n",
            "Epoch 42/100\n",
            "123/123 [==============================] - 0s 2ms/step - loss: 0.4928 - val_loss: 0.5185\n",
            "Epoch 43/100\n",
            "123/123 [==============================] - 0s 2ms/step - loss: 0.4919 - val_loss: 0.5182\n",
            "Epoch 44/100\n",
            "123/123 [==============================] - 0s 2ms/step - loss: 0.4911 - val_loss: 0.5180\n",
            "Epoch 45/100\n",
            "123/123 [==============================] - 0s 2ms/step - loss: 0.4906 - val_loss: 0.5181\n",
            "Epoch 46/100\n",
            "123/123 [==============================] - 0s 2ms/step - loss: 0.4901 - val_loss: 0.5180\n",
            "Epoch 47/100\n",
            "123/123 [==============================] - 0s 2ms/step - loss: 0.4893 - val_loss: 0.5181\n",
            "Epoch 48/100\n",
            "123/123 [==============================] - 0s 2ms/step - loss: 0.4892 - val_loss: 0.5178\n",
            "Epoch 49/100\n",
            "123/123 [==============================] - 0s 2ms/step - loss: 0.4884 - val_loss: 0.5181\n",
            "Epoch 50/100\n",
            "123/123 [==============================] - 0s 2ms/step - loss: 0.4882 - val_loss: 0.5177\n",
            "Epoch 51/100\n",
            "123/123 [==============================] - 0s 2ms/step - loss: 0.4876 - val_loss: 0.5179\n",
            "Epoch 52/100\n",
            "123/123 [==============================] - 0s 2ms/step - loss: 0.4873 - val_loss: 0.5179\n",
            "Epoch 53/100\n",
            "123/123 [==============================] - 0s 2ms/step - loss: 0.4869 - val_loss: 0.5179\n",
            "Epoch 54/100\n",
            "123/123 [==============================] - 0s 2ms/step - loss: 0.4865 - val_loss: 0.5178\n",
            "Epoch 55/100\n",
            "123/123 [==============================] - 0s 2ms/step - loss: 0.4862 - val_loss: 0.5175\n",
            "Epoch 56/100\n",
            "123/123 [==============================] - 0s 2ms/step - loss: 0.4862 - val_loss: 0.5174\n",
            "Epoch 57/100\n",
            "123/123 [==============================] - 0s 2ms/step - loss: 0.4856 - val_loss: 0.5171\n",
            "Epoch 58/100\n",
            "123/123 [==============================] - 0s 2ms/step - loss: 0.4851 - val_loss: 0.5169\n",
            "Epoch 59/100\n",
            "123/123 [==============================] - 0s 2ms/step - loss: 0.4849 - val_loss: 0.5167\n",
            "Epoch 60/100\n",
            "123/123 [==============================] - 0s 2ms/step - loss: 0.4845 - val_loss: 0.5161\n",
            "Epoch 61/100\n",
            "123/123 [==============================] - 0s 2ms/step - loss: 0.4843 - val_loss: 0.5161\n",
            "Epoch 62/100\n",
            "123/123 [==============================] - 0s 3ms/step - loss: 0.4839 - val_loss: 0.5159\n",
            "Epoch 63/100\n",
            "123/123 [==============================] - 0s 2ms/step - loss: 0.4839 - val_loss: 0.5159\n",
            "Epoch 64/100\n",
            "123/123 [==============================] - 0s 2ms/step - loss: 0.4836 - val_loss: 0.5154\n",
            "Epoch 65/100\n",
            "123/123 [==============================] - 0s 2ms/step - loss: 0.4833 - val_loss: 0.5155\n",
            "Epoch 66/100\n",
            "123/123 [==============================] - 0s 2ms/step - loss: 0.4832 - val_loss: 0.5151\n",
            "Epoch 67/100\n",
            "123/123 [==============================] - 0s 2ms/step - loss: 0.4827 - val_loss: 0.5147\n",
            "Epoch 68/100\n",
            "123/123 [==============================] - 0s 2ms/step - loss: 0.4826 - val_loss: 0.5144\n",
            "Epoch 69/100\n",
            "123/123 [==============================] - 0s 2ms/step - loss: 0.4824 - val_loss: 0.5145\n",
            "Epoch 70/100\n",
            "123/123 [==============================] - 0s 2ms/step - loss: 0.4820 - val_loss: 0.5142\n",
            "Epoch 71/100\n",
            "123/123 [==============================] - 0s 2ms/step - loss: 0.4818 - val_loss: 0.5139\n",
            "Epoch 72/100\n",
            "123/123 [==============================] - 0s 2ms/step - loss: 0.4814 - val_loss: 0.5137\n",
            "Epoch 73/100\n",
            "123/123 [==============================] - 0s 2ms/step - loss: 0.4812 - val_loss: 0.5134\n",
            "Epoch 74/100\n",
            "123/123 [==============================] - 0s 2ms/step - loss: 0.4811 - val_loss: 0.5135\n",
            "Epoch 75/100\n",
            "123/123 [==============================] - 0s 2ms/step - loss: 0.4809 - val_loss: 0.5133\n",
            "Epoch 76/100\n",
            "123/123 [==============================] - 0s 2ms/step - loss: 0.4809 - val_loss: 0.5132\n",
            "Epoch 77/100\n",
            "123/123 [==============================] - 0s 2ms/step - loss: 0.4806 - val_loss: 0.5129\n",
            "Epoch 78/100\n",
            "123/123 [==============================] - 0s 2ms/step - loss: 0.4805 - val_loss: 0.5129\n",
            "Epoch 79/100\n",
            "123/123 [==============================] - 0s 2ms/step - loss: 0.4804 - val_loss: 0.5128\n",
            "Epoch 80/100\n",
            "123/123 [==============================] - 0s 2ms/step - loss: 0.4803 - val_loss: 0.5122\n",
            "Epoch 81/100\n",
            "123/123 [==============================] - 0s 2ms/step - loss: 0.4799 - val_loss: 0.5123\n",
            "Epoch 82/100\n",
            "123/123 [==============================] - 0s 2ms/step - loss: 0.4799 - val_loss: 0.5123\n",
            "Epoch 83/100\n",
            "123/123 [==============================] - 0s 2ms/step - loss: 0.4796 - val_loss: 0.5119\n",
            "Epoch 84/100\n",
            "123/123 [==============================] - 0s 2ms/step - loss: 0.4796 - val_loss: 0.5115\n",
            "Epoch 85/100\n",
            "123/123 [==============================] - 0s 2ms/step - loss: 0.4795 - val_loss: 0.5112\n",
            "Epoch 86/100\n",
            "123/123 [==============================] - 0s 2ms/step - loss: 0.4789 - val_loss: 0.5111\n",
            "Epoch 87/100\n",
            "123/123 [==============================] - 0s 2ms/step - loss: 0.4788 - val_loss: 0.5104\n",
            "Epoch 88/100\n",
            "123/123 [==============================] - 0s 2ms/step - loss: 0.4785 - val_loss: 0.5104\n",
            "Epoch 89/100\n",
            "123/123 [==============================] - 0s 2ms/step - loss: 0.4784 - val_loss: 0.5101\n",
            "Epoch 90/100\n",
            "123/123 [==============================] - 0s 2ms/step - loss: 0.4783 - val_loss: 0.5095\n",
            "Epoch 91/100\n",
            "123/123 [==============================] - 0s 2ms/step - loss: 0.4778 - val_loss: 0.5091\n",
            "Epoch 92/100\n",
            "123/123 [==============================] - 0s 2ms/step - loss: 0.4777 - val_loss: 0.5088\n",
            "Epoch 93/100\n",
            "123/123 [==============================] - 0s 2ms/step - loss: 0.4776 - val_loss: 0.5087\n",
            "Epoch 94/100\n",
            "123/123 [==============================] - 0s 2ms/step - loss: 0.4772 - val_loss: 0.5082\n",
            "Epoch 95/100\n",
            "123/123 [==============================] - 0s 2ms/step - loss: 0.4770 - val_loss: 0.5081\n",
            "Epoch 96/100\n",
            "123/123 [==============================] - 0s 2ms/step - loss: 0.4767 - val_loss: 0.5077\n",
            "Epoch 97/100\n",
            "123/123 [==============================] - 0s 2ms/step - loss: 0.4767 - val_loss: 0.5074\n",
            "Epoch 98/100\n",
            "123/123 [==============================] - 0s 2ms/step - loss: 0.4762 - val_loss: 0.5070\n",
            "Epoch 99/100\n",
            "123/123 [==============================] - 0s 2ms/step - loss: 0.4764 - val_loss: 0.5068\n",
            "Epoch 100/100\n",
            "123/123 [==============================] - 0s 2ms/step - loss: 0.4762 - val_loss: 0.5062\n"
          ]
        }
      ]
    },
    {
      "cell_type": "code",
      "source": [
        "optimization_learning_curves(history, metrica='loss', title='Loss vs Val Loss')"
      ],
      "metadata": {
        "colab": {
          "base_uri": "https://localhost:8080/",
          "height": 314
        },
        "id": "fSQ-lxlrDkYt",
        "outputId": "a14d74e4-be46-49af-e1ee-10992ab4a045"
      },
      "execution_count": 34,
      "outputs": [
        {
          "output_type": "display_data",
          "data": {
            "text/plain": [
              "<Figure size 576x288 with 1 Axes>"
            ],
            "image/png": "[encoded data removed]"
          },
          "metadata": {
            "needs_background": "light"
          }
        }
      ]
    },
    {
      "cell_type": "markdown",
      "metadata": {
        "id": "OdYWB3mEvWwg"
      },
      "source": [
        "# **Planificación de learning rate en función del tiempo**\n",
        "\n",
        "---\n",
        "\n"
      ]
    },
    {
      "cell_type": "code",
      "metadata": {
        "id": "wQjbDm5t--tO"
      },
      "source": [
        "model2 = Sequential()\n",
        "model2.add(Dense(1, input_dim=8, activation='relu', kernel_initializer='glorot_uniform'))\n",
        "model2.add(Dense(1, activation='sigmoid', kernel_initializer='glorot_uniform'))"
      ],
      "execution_count": 28,
      "outputs": []
    },
    {
      "cell_type": "code",
      "metadata": {
        "id": "MxmDywKlKV23"
      },
      "source": [
        "epoch = 100\n",
        "lr = 0.1\n",
        "decay_rate = lr/epoch\n",
        "momentum = 0.8\n",
        "\n",
        "sgd = SGD(learning_rate=lr, momentum=momentum, decay = decay_rate, nesterov=False)\n",
        "model2.compile(loss='binary_crossentropy', optimizer=sgd)"
      ],
      "execution_count": 29,
      "outputs": []
    },
    {
      "cell_type": "code",
      "metadata": {
        "id": "PO276EFhD8wh",
        "outputId": "5a45cbce-8ec2-468e-952d-78fd134ce741",
        "colab": {
          "base_uri": "https://localhost:8080/"
        }
      },
      "source": [
        "history2 = model2.fit(X_train_scaler, y_train_encoder, validation_data=(X_test_scaler, y_test_encoder), \n",
        "           epochs=epoch, batch_size=5, verbose = 1)"
      ],
      "execution_count": 30,
      "outputs": [
        {
          "output_type": "stream",
          "name": "stdout",
          "text": [
            "Epoch 1/100\n",
            "123/123 [==============================] - 2s 7ms/step - loss: 0.6070 - val_loss: 0.6032\n",
            "Epoch 2/100\n",
            "123/123 [==============================] - 0s 2ms/step - loss: 0.5557 - val_loss: 0.5455\n",
            "Epoch 3/100\n",
            "123/123 [==============================] - 0s 2ms/step - loss: 0.5274 - val_loss: 0.5296\n",
            "Epoch 4/100\n",
            "123/123 [==============================] - 0s 2ms/step - loss: 0.5302 - val_loss: 0.5137\n",
            "Epoch 5/100\n",
            "123/123 [==============================] - 0s 2ms/step - loss: 0.5059 - val_loss: 0.5410\n",
            "Epoch 6/100\n",
            "123/123 [==============================] - 0s 2ms/step - loss: 0.5208 - val_loss: 0.5492\n",
            "Epoch 7/100\n",
            "123/123 [==============================] - 0s 2ms/step - loss: 0.5088 - val_loss: 0.4950\n",
            "Epoch 8/100\n",
            "123/123 [==============================] - 0s 2ms/step - loss: 0.5012 - val_loss: 0.5596\n",
            "Epoch 9/100\n",
            "123/123 [==============================] - 0s 2ms/step - loss: 0.5079 - val_loss: 0.5037\n",
            "Epoch 10/100\n",
            "123/123 [==============================] - 0s 2ms/step - loss: 0.4945 - val_loss: 0.5199\n",
            "Epoch 11/100\n",
            "123/123 [==============================] - 0s 2ms/step - loss: 0.5154 - val_loss: 0.5146\n",
            "Epoch 12/100\n",
            "123/123 [==============================] - 0s 2ms/step - loss: 0.5089 - val_loss: 0.5154\n",
            "Epoch 13/100\n",
            "123/123 [==============================] - 0s 2ms/step - loss: 0.4948 - val_loss: 0.5067\n",
            "Epoch 14/100\n",
            "123/123 [==============================] - 0s 2ms/step - loss: 0.4981 - val_loss: 0.5223\n",
            "Epoch 15/100\n",
            "123/123 [==============================] - 0s 2ms/step - loss: 0.4913 - val_loss: 0.5020\n",
            "Epoch 16/100\n",
            "123/123 [==============================] - 0s 2ms/step - loss: 0.4889 - val_loss: 0.4982\n",
            "Epoch 17/100\n",
            "123/123 [==============================] - 0s 2ms/step - loss: 0.4866 - val_loss: 0.5119\n",
            "Epoch 18/100\n",
            "123/123 [==============================] - 0s 2ms/step - loss: 0.4842 - val_loss: 0.5069\n",
            "Epoch 19/100\n",
            "123/123 [==============================] - 0s 2ms/step - loss: 0.4915 - val_loss: 0.5392\n",
            "Epoch 20/100\n",
            "123/123 [==============================] - 0s 2ms/step - loss: 0.4985 - val_loss: 0.4892\n",
            "Epoch 21/100\n",
            "123/123 [==============================] - 0s 2ms/step - loss: 0.4895 - val_loss: 0.5056\n",
            "Epoch 22/100\n",
            "123/123 [==============================] - 0s 2ms/step - loss: 0.4886 - val_loss: 0.5047\n",
            "Epoch 23/100\n",
            "123/123 [==============================] - 0s 2ms/step - loss: 0.4857 - val_loss: 0.5017\n",
            "Epoch 24/100\n",
            "123/123 [==============================] - 0s 2ms/step - loss: 0.4866 - val_loss: 0.4966\n",
            "Epoch 25/100\n",
            "123/123 [==============================] - 0s 2ms/step - loss: 0.4830 - val_loss: 0.5029\n",
            "Epoch 26/100\n",
            "123/123 [==============================] - 0s 2ms/step - loss: 0.4833 - val_loss: 0.4982\n",
            "Epoch 27/100\n",
            "123/123 [==============================] - 0s 2ms/step - loss: 0.4951 - val_loss: 0.5053\n",
            "Epoch 28/100\n",
            "123/123 [==============================] - 0s 2ms/step - loss: 0.4886 - val_loss: 0.4967\n",
            "Epoch 29/100\n",
            "123/123 [==============================] - 0s 2ms/step - loss: 0.4844 - val_loss: 0.5083\n",
            "Epoch 30/100\n",
            "123/123 [==============================] - 0s 2ms/step - loss: 0.4811 - val_loss: 0.4961\n",
            "Epoch 31/100\n",
            "123/123 [==============================] - 0s 2ms/step - loss: 0.4796 - val_loss: 0.5156\n",
            "Epoch 32/100\n",
            "123/123 [==============================] - 0s 2ms/step - loss: 0.4850 - val_loss: 0.4942\n",
            "Epoch 33/100\n",
            "123/123 [==============================] - 0s 2ms/step - loss: 0.4820 - val_loss: 0.4934\n",
            "Epoch 34/100\n",
            "123/123 [==============================] - 0s 2ms/step - loss: 0.4862 - val_loss: 0.4901\n",
            "Epoch 35/100\n",
            "123/123 [==============================] - 0s 2ms/step - loss: 0.4804 - val_loss: 0.5059\n",
            "Epoch 36/100\n",
            "123/123 [==============================] - 0s 2ms/step - loss: 0.4847 - val_loss: 0.5066\n",
            "Epoch 37/100\n",
            "123/123 [==============================] - 0s 2ms/step - loss: 0.4861 - val_loss: 0.4951\n",
            "Epoch 38/100\n",
            "123/123 [==============================] - 0s 2ms/step - loss: 0.4832 - val_loss: 0.4924\n",
            "Epoch 39/100\n",
            "123/123 [==============================] - 0s 2ms/step - loss: 0.4790 - val_loss: 0.4964\n",
            "Epoch 40/100\n",
            "123/123 [==============================] - 0s 2ms/step - loss: 0.4811 - val_loss: 0.4893\n",
            "Epoch 41/100\n",
            "123/123 [==============================] - 0s 2ms/step - loss: 0.4826 - val_loss: 0.5007\n",
            "Epoch 42/100\n",
            "123/123 [==============================] - 0s 2ms/step - loss: 0.4785 - val_loss: 0.4897\n",
            "Epoch 43/100\n",
            "123/123 [==============================] - 0s 2ms/step - loss: 0.4769 - val_loss: 0.4975\n",
            "Epoch 44/100\n",
            "123/123 [==============================] - 0s 2ms/step - loss: 0.4789 - val_loss: 0.4956\n",
            "Epoch 45/100\n",
            "123/123 [==============================] - 0s 2ms/step - loss: 0.4795 - val_loss: 0.4974\n",
            "Epoch 46/100\n",
            "123/123 [==============================] - 0s 2ms/step - loss: 0.4786 - val_loss: 0.4915\n",
            "Epoch 47/100\n",
            "123/123 [==============================] - 0s 2ms/step - loss: 0.4784 - val_loss: 0.4954\n",
            "Epoch 48/100\n",
            "123/123 [==============================] - 0s 2ms/step - loss: 0.4797 - val_loss: 0.4886\n",
            "Epoch 49/100\n",
            "123/123 [==============================] - 0s 2ms/step - loss: 0.4769 - val_loss: 0.4927\n",
            "Epoch 50/100\n",
            "123/123 [==============================] - 0s 2ms/step - loss: 0.4802 - val_loss: 0.4897\n",
            "Epoch 51/100\n",
            "123/123 [==============================] - 0s 2ms/step - loss: 0.4793 - val_loss: 0.4956\n",
            "Epoch 52/100\n",
            "123/123 [==============================] - 0s 2ms/step - loss: 0.4783 - val_loss: 0.4913\n",
            "Epoch 53/100\n",
            "123/123 [==============================] - 0s 2ms/step - loss: 0.4772 - val_loss: 0.5092\n",
            "Epoch 54/100\n",
            "123/123 [==============================] - 0s 2ms/step - loss: 0.4761 - val_loss: 0.4936\n",
            "Epoch 55/100\n",
            "123/123 [==============================] - 0s 2ms/step - loss: 0.4810 - val_loss: 0.4927\n",
            "Epoch 56/100\n",
            "123/123 [==============================] - 0s 2ms/step - loss: 0.4819 - val_loss: 0.4897\n",
            "Epoch 57/100\n",
            "123/123 [==============================] - 0s 2ms/step - loss: 0.4775 - val_loss: 0.4935\n",
            "Epoch 58/100\n",
            "123/123 [==============================] - 0s 2ms/step - loss: 0.4752 - val_loss: 0.5004\n",
            "Epoch 59/100\n",
            "123/123 [==============================] - 0s 2ms/step - loss: 0.4784 - val_loss: 0.4887\n",
            "Epoch 60/100\n",
            "123/123 [==============================] - 0s 2ms/step - loss: 0.4821 - val_loss: 0.4921\n",
            "Epoch 61/100\n",
            "123/123 [==============================] - 0s 2ms/step - loss: 0.4770 - val_loss: 0.4939\n",
            "Epoch 62/100\n",
            "123/123 [==============================] - 0s 2ms/step - loss: 0.4777 - val_loss: 0.4972\n",
            "Epoch 63/100\n",
            "123/123 [==============================] - 0s 2ms/step - loss: 0.4766 - val_loss: 0.4963\n",
            "Epoch 64/100\n",
            "123/123 [==============================] - 0s 2ms/step - loss: 0.4758 - val_loss: 0.4889\n",
            "Epoch 65/100\n",
            "123/123 [==============================] - 0s 2ms/step - loss: 0.4742 - val_loss: 0.4941\n",
            "Epoch 66/100\n",
            "123/123 [==============================] - 0s 2ms/step - loss: 0.4752 - val_loss: 0.4960\n",
            "Epoch 67/100\n",
            "123/123 [==============================] - 0s 2ms/step - loss: 0.4708 - val_loss: 0.5157\n",
            "Epoch 68/100\n",
            "123/123 [==============================] - 0s 2ms/step - loss: 0.4811 - val_loss: 0.4957\n",
            "Epoch 69/100\n",
            "123/123 [==============================] - 0s 2ms/step - loss: 0.4755 - val_loss: 0.4941\n",
            "Epoch 70/100\n",
            "123/123 [==============================] - 0s 2ms/step - loss: 0.4726 - val_loss: 0.4965\n",
            "Epoch 71/100\n",
            "123/123 [==============================] - 0s 2ms/step - loss: 0.4780 - val_loss: 0.4966\n",
            "Epoch 72/100\n",
            "123/123 [==============================] - 0s 2ms/step - loss: 0.4735 - val_loss: 0.5068\n",
            "Epoch 73/100\n",
            "123/123 [==============================] - 0s 2ms/step - loss: 0.4743 - val_loss: 0.4968\n",
            "Epoch 74/100\n",
            "123/123 [==============================] - 0s 2ms/step - loss: 0.4739 - val_loss: 0.4939\n",
            "Epoch 75/100\n",
            "123/123 [==============================] - 0s 2ms/step - loss: 0.4771 - val_loss: 0.4948\n",
            "Epoch 76/100\n",
            "123/123 [==============================] - 0s 2ms/step - loss: 0.4748 - val_loss: 0.4981\n",
            "Epoch 77/100\n",
            "123/123 [==============================] - 0s 2ms/step - loss: 0.4733 - val_loss: 0.4915\n",
            "Epoch 78/100\n",
            "123/123 [==============================] - 0s 2ms/step - loss: 0.4761 - val_loss: 0.4978\n",
            "Epoch 79/100\n",
            "123/123 [==============================] - 0s 2ms/step - loss: 0.4738 - val_loss: 0.4934\n",
            "Epoch 80/100\n",
            "123/123 [==============================] - 0s 2ms/step - loss: 0.4736 - val_loss: 0.4920\n",
            "Epoch 81/100\n",
            "123/123 [==============================] - 0s 2ms/step - loss: 0.4740 - val_loss: 0.4956\n",
            "Epoch 82/100\n",
            "123/123 [==============================] - 0s 2ms/step - loss: 0.4716 - val_loss: 0.4936\n",
            "Epoch 83/100\n",
            "123/123 [==============================] - 0s 2ms/step - loss: 0.4736 - val_loss: 0.4939\n",
            "Epoch 84/100\n",
            "123/123 [==============================] - 0s 2ms/step - loss: 0.4730 - val_loss: 0.4935\n",
            "Epoch 85/100\n",
            "123/123 [==============================] - 0s 2ms/step - loss: 0.4738 - val_loss: 0.4939\n",
            "Epoch 86/100\n",
            "123/123 [==============================] - 0s 2ms/step - loss: 0.4732 - val_loss: 0.4934\n",
            "Epoch 87/100\n",
            "123/123 [==============================] - 0s 2ms/step - loss: 0.4745 - val_loss: 0.4891\n",
            "Epoch 88/100\n",
            "123/123 [==============================] - 0s 2ms/step - loss: 0.4711 - val_loss: 0.4990\n",
            "Epoch 89/100\n",
            "123/123 [==============================] - 0s 2ms/step - loss: 0.4732 - val_loss: 0.4926\n",
            "Epoch 90/100\n",
            "123/123 [==============================] - 0s 2ms/step - loss: 0.4725 - val_loss: 0.4996\n",
            "Epoch 91/100\n",
            "123/123 [==============================] - 0s 2ms/step - loss: 0.4736 - val_loss: 0.4968\n",
            "Epoch 92/100\n",
            "123/123 [==============================] - 0s 2ms/step - loss: 0.4713 - val_loss: 0.4920\n",
            "Epoch 93/100\n",
            "123/123 [==============================] - 0s 2ms/step - loss: 0.4745 - val_loss: 0.4917\n",
            "Epoch 94/100\n",
            "123/123 [==============================] - 0s 2ms/step - loss: 0.4749 - val_loss: 0.4948\n",
            "Epoch 95/100\n",
            "123/123 [==============================] - 0s 2ms/step - loss: 0.4707 - val_loss: 0.4999\n",
            "Epoch 96/100\n",
            "123/123 [==============================] - 0s 2ms/step - loss: 0.4730 - val_loss: 0.4916\n",
            "Epoch 97/100\n",
            "123/123 [==============================] - 0s 2ms/step - loss: 0.4722 - val_loss: 0.4991\n",
            "Epoch 98/100\n",
            "123/123 [==============================] - 0s 2ms/step - loss: 0.4732 - val_loss: 0.4927\n",
            "Epoch 99/100\n",
            "123/123 [==============================] - 0s 2ms/step - loss: 0.4733 - val_loss: 0.4923\n",
            "Epoch 100/100\n",
            "123/123 [==============================] - 0s 2ms/step - loss: 0.4739 - val_loss: 0.4928\n"
          ]
        }
      ]
    },
    {
      "cell_type": "code",
      "source": [
        "optimization_learning_curves(history2, metrica='loss', title='Loss vs Val Loss')"
      ],
      "metadata": {
        "id": "uXMkJCuPLlEY",
        "outputId": "01ce0c36-8c8f-4a1f-9866-7a7e806c1661",
        "colab": {
          "base_uri": "https://localhost:8080/",
          "height": 314
        }
      },
      "execution_count": 31,
      "outputs": [
        {
          "output_type": "display_data",
          "data": {
            "text/plain": [
              "<Figure size 576x288 with 1 Axes>"
            ],
            "image/png": "[encoded data removed]"
          },
          "metadata": {
            "needs_background": "light"
          }
        }
      ]
    },
    {
      "cell_type": "markdown",
      "metadata": {
        "id": "coWnXWnxvPkJ"
      },
      "source": [
        "# **Tasa de aprendizaje basado en caidas (drop)**\n",
        "\n",
        "---\n",
        "\n"
      ]
    },
    {
      "cell_type": "code",
      "source": [
        "def step_decay(epochs):\n",
        "  intial_rate = 0.1\n",
        "  drop = 0.5\n",
        "  epochs_drop = 10\n",
        "  lrate = intial_rate * np.power(drop, np.floor(1+epochs) / epochs_drop)\n",
        "  return lrate"
      ],
      "metadata": {
        "id": "VKRntVjQLpAk"
      },
      "execution_count": 35,
      "outputs": []
    },
    {
      "cell_type": "code",
      "metadata": {
        "id": "3JZOAUFVE2H5"
      },
      "source": [
        "model3 = Sequential()\n",
        "model3.add(Dense(1, input_dim=8, activation='relu', kernel_initializer='glorot_uniform'))\n",
        "model3.add(Dense(1, activation='sigmoid', kernel_initializer='glorot_uniform'))"
      ],
      "execution_count": 36,
      "outputs": []
    },
    {
      "cell_type": "code",
      "metadata": {
        "id": "nUjZ6IB6N_VB"
      },
      "source": [
        "sgd = SGD(learning_rate=0.0, momentum = 0.9)\n",
        "model3.compile(loss = 'binary_crossentropy', optimizer=sgd)"
      ],
      "execution_count": 37,
      "outputs": []
    },
    {
      "cell_type": "code",
      "metadata": {
        "id": "XPF02AuCOTYp"
      },
      "source": [
        "lrate = LearningRateScheduler(step_decay)\n",
        "callback_list = [lrate]"
      ],
      "execution_count": 38,
      "outputs": []
    },
    {
      "cell_type": "code",
      "metadata": {
        "id": "dm5hWUixOn6Y",
        "outputId": "a78a41e0-7150-428c-d73a-5a5168fa7500",
        "colab": {
          "base_uri": "https://localhost:8080/"
        }
      },
      "source": [
        "history3 = model3.fit(X_train_scaler, y_train_encoder, validation_data=(X_test_scaler, y_test_encoder), \n",
        "           epochs=100, batch_size=5, callbacks=callback_list, verbose=1)"
      ],
      "execution_count": 39,
      "outputs": [
        {
          "output_type": "stream",
          "name": "stdout",
          "text": [
            "Epoch 1/100\n",
            "123/123 [==============================] - 1s 3ms/step - loss: 0.5904 - val_loss: 0.6119 - lr: 0.0933\n",
            "Epoch 2/100\n",
            "123/123 [==============================] - 0s 2ms/step - loss: 0.6031 - val_loss: 0.5604 - lr: 0.0871\n",
            "Epoch 3/100\n",
            "123/123 [==============================] - 0s 2ms/step - loss: 0.5688 - val_loss: 0.5665 - lr: 0.0812\n",
            "Epoch 4/100\n",
            "123/123 [==============================] - 0s 2ms/step - loss: 0.5781 - val_loss: 0.5837 - lr: 0.0758\n",
            "Epoch 5/100\n",
            "123/123 [==============================] - 0s 2ms/step - loss: 0.5610 - val_loss: 0.7978 - lr: 0.0707\n",
            "Epoch 6/100\n",
            "123/123 [==============================] - 0s 3ms/step - loss: 0.6169 - val_loss: 0.5466 - lr: 0.0660\n",
            "Epoch 7/100\n",
            "123/123 [==============================] - 0s 2ms/step - loss: 0.5591 - val_loss: 0.6450 - lr: 0.0616\n",
            "Epoch 8/100\n",
            "123/123 [==============================] - 0s 2ms/step - loss: 0.5511 - val_loss: 0.5644 - lr: 0.0574\n",
            "Epoch 9/100\n",
            "123/123 [==============================] - 0s 2ms/step - loss: 0.5571 - val_loss: 0.6183 - lr: 0.0536\n",
            "Epoch 10/100\n",
            "123/123 [==============================] - 0s 2ms/step - loss: 0.5521 - val_loss: 0.5346 - lr: 0.0500\n",
            "Epoch 11/100\n",
            "123/123 [==============================] - 0s 2ms/step - loss: 0.5424 - val_loss: 0.5198 - lr: 0.0467\n",
            "Epoch 12/100\n",
            "123/123 [==============================] - 0s 2ms/step - loss: 0.5304 - val_loss: 0.5691 - lr: 0.0435\n",
            "Epoch 13/100\n",
            "123/123 [==============================] - 0s 3ms/step - loss: 0.5394 - val_loss: 0.6794 - lr: 0.0406\n",
            "Epoch 14/100\n",
            "123/123 [==============================] - 0s 2ms/step - loss: 0.5204 - val_loss: 0.5403 - lr: 0.0379\n",
            "Epoch 15/100\n",
            "123/123 [==============================] - 0s 2ms/step - loss: 0.5155 - val_loss: 0.5407 - lr: 0.0354\n",
            "Epoch 16/100\n",
            "123/123 [==============================] - 0s 2ms/step - loss: 0.5247 - val_loss: 0.5235 - lr: 0.0330\n",
            "Epoch 17/100\n",
            "123/123 [==============================] - 0s 2ms/step - loss: 0.5381 - val_loss: 0.5370 - lr: 0.0308\n",
            "Epoch 18/100\n",
            "123/123 [==============================] - 0s 3ms/step - loss: 0.5064 - val_loss: 0.4993 - lr: 0.0287\n",
            "Epoch 19/100\n",
            "123/123 [==============================] - 0s 3ms/step - loss: 0.4996 - val_loss: 0.4971 - lr: 0.0268\n",
            "Epoch 20/100\n",
            "123/123 [==============================] - 0s 3ms/step - loss: 0.5150 - val_loss: 0.5105 - lr: 0.0250\n",
            "Epoch 21/100\n",
            "123/123 [==============================] - 0s 3ms/step - loss: 0.4985 - val_loss: 0.5730 - lr: 0.0233\n",
            "Epoch 22/100\n",
            "123/123 [==============================] - 0s 3ms/step - loss: 0.4925 - val_loss: 0.4982 - lr: 0.0218\n",
            "Epoch 23/100\n",
            "123/123 [==============================] - 0s 3ms/step - loss: 0.4973 - val_loss: 0.5059 - lr: 0.0203\n",
            "Epoch 24/100\n",
            "123/123 [==============================] - 0s 2ms/step - loss: 0.4906 - val_loss: 0.5374 - lr: 0.0189\n",
            "Epoch 25/100\n",
            "123/123 [==============================] - 0s 2ms/step - loss: 0.4937 - val_loss: 0.6063 - lr: 0.0177\n",
            "Epoch 26/100\n",
            "123/123 [==============================] - 0s 2ms/step - loss: 0.4974 - val_loss: 0.5085 - lr: 0.0165\n",
            "Epoch 27/100\n",
            "123/123 [==============================] - 0s 2ms/step - loss: 0.4906 - val_loss: 0.4888 - lr: 0.0154\n",
            "Epoch 28/100\n",
            "123/123 [==============================] - 0s 2ms/step - loss: 0.4816 - val_loss: 0.5297 - lr: 0.0144\n",
            "Epoch 29/100\n",
            "123/123 [==============================] - 0s 2ms/step - loss: 0.4908 - val_loss: 0.4908 - lr: 0.0134\n",
            "Epoch 30/100\n",
            "123/123 [==============================] - 0s 2ms/step - loss: 0.4886 - val_loss: 0.5001 - lr: 0.0125\n",
            "Epoch 31/100\n",
            "123/123 [==============================] - 0s 2ms/step - loss: 0.4775 - val_loss: 0.5092 - lr: 0.0117\n",
            "Epoch 32/100\n",
            "123/123 [==============================] - 0s 2ms/step - loss: 0.4821 - val_loss: 0.4931 - lr: 0.0109\n",
            "Epoch 33/100\n",
            "123/123 [==============================] - 0s 2ms/step - loss: 0.4789 - val_loss: 0.4999 - lr: 0.0102\n",
            "Epoch 34/100\n",
            "123/123 [==============================] - 0s 3ms/step - loss: 0.4821 - val_loss: 0.4947 - lr: 0.0095\n",
            "Epoch 35/100\n",
            "123/123 [==============================] - 0s 2ms/step - loss: 0.4781 - val_loss: 0.4903 - lr: 0.0088\n",
            "Epoch 36/100\n",
            "123/123 [==============================] - 0s 2ms/step - loss: 0.4821 - val_loss: 0.4984 - lr: 0.0082\n",
            "Epoch 37/100\n",
            "123/123 [==============================] - 0s 2ms/step - loss: 0.4819 - val_loss: 0.4955 - lr: 0.0077\n",
            "Epoch 38/100\n",
            "123/123 [==============================] - 0s 2ms/step - loss: 0.4809 - val_loss: 0.5005 - lr: 0.0072\n",
            "Epoch 39/100\n",
            "123/123 [==============================] - 0s 2ms/step - loss: 0.4771 - val_loss: 0.4964 - lr: 0.0067\n",
            "Epoch 40/100\n",
            "123/123 [==============================] - 0s 2ms/step - loss: 0.4746 - val_loss: 0.4965 - lr: 0.0063\n",
            "Epoch 41/100\n",
            "123/123 [==============================] - 0s 2ms/step - loss: 0.4754 - val_loss: 0.5039 - lr: 0.0058\n",
            "Epoch 42/100\n",
            "123/123 [==============================] - 0s 2ms/step - loss: 0.4851 - val_loss: 0.4943 - lr: 0.0054\n",
            "Epoch 43/100\n",
            "123/123 [==============================] - 0s 2ms/step - loss: 0.4750 - val_loss: 0.4938 - lr: 0.0051\n",
            "Epoch 44/100\n",
            "123/123 [==============================] - 0s 2ms/step - loss: 0.4727 - val_loss: 0.5010 - lr: 0.0047\n",
            "Epoch 45/100\n",
            "123/123 [==============================] - 0s 2ms/step - loss: 0.4771 - val_loss: 0.4885 - lr: 0.0044\n",
            "Epoch 46/100\n",
            "123/123 [==============================] - 0s 2ms/step - loss: 0.4728 - val_loss: 0.4947 - lr: 0.0041\n",
            "Epoch 47/100\n",
            "123/123 [==============================] - 0s 2ms/step - loss: 0.4708 - val_loss: 0.5056 - lr: 0.0038\n",
            "Epoch 48/100\n",
            "123/123 [==============================] - 0s 2ms/step - loss: 0.4743 - val_loss: 0.4948 - lr: 0.0036\n",
            "Epoch 49/100\n",
            "123/123 [==============================] - 0s 2ms/step - loss: 0.4735 - val_loss: 0.4915 - lr: 0.0033\n",
            "Epoch 50/100\n",
            "123/123 [==============================] - 0s 2ms/step - loss: 0.4720 - val_loss: 0.4913 - lr: 0.0031\n",
            "Epoch 51/100\n",
            "123/123 [==============================] - 0s 2ms/step - loss: 0.4711 - val_loss: 0.4912 - lr: 0.0029\n",
            "Epoch 52/100\n",
            "123/123 [==============================] - 0s 2ms/step - loss: 0.4718 - val_loss: 0.4916 - lr: 0.0027\n",
            "Epoch 53/100\n",
            "123/123 [==============================] - 0s 2ms/step - loss: 0.4707 - val_loss: 0.4933 - lr: 0.0025\n",
            "Epoch 54/100\n",
            "123/123 [==============================] - 0s 2ms/step - loss: 0.4705 - val_loss: 0.4932 - lr: 0.0024\n",
            "Epoch 55/100\n",
            "123/123 [==============================] - 0s 2ms/step - loss: 0.4697 - val_loss: 0.4920 - lr: 0.0022\n",
            "Epoch 56/100\n",
            "123/123 [==============================] - 0s 2ms/step - loss: 0.4709 - val_loss: 0.4920 - lr: 0.0021\n",
            "Epoch 57/100\n",
            "123/123 [==============================] - 0s 2ms/step - loss: 0.4697 - val_loss: 0.4931 - lr: 0.0019\n",
            "Epoch 58/100\n",
            "123/123 [==============================] - 0s 2ms/step - loss: 0.4696 - val_loss: 0.4926 - lr: 0.0018\n",
            "Epoch 59/100\n",
            "123/123 [==============================] - 0s 2ms/step - loss: 0.4694 - val_loss: 0.4908 - lr: 0.0017\n",
            "Epoch 60/100\n",
            "123/123 [==============================] - 0s 2ms/step - loss: 0.4686 - val_loss: 0.4922 - lr: 0.0016\n",
            "Epoch 61/100\n",
            "123/123 [==============================] - 0s 2ms/step - loss: 0.4685 - val_loss: 0.4922 - lr: 0.0015\n",
            "Epoch 62/100\n",
            "123/123 [==============================] - 0s 2ms/step - loss: 0.4687 - val_loss: 0.4922 - lr: 0.0014\n",
            "Epoch 63/100\n",
            "123/123 [==============================] - 0s 2ms/step - loss: 0.4697 - val_loss: 0.4922 - lr: 0.0013\n",
            "Epoch 64/100\n",
            "123/123 [==============================] - 0s 2ms/step - loss: 0.4685 - val_loss: 0.4917 - lr: 0.0012\n",
            "Epoch 65/100\n",
            "123/123 [==============================] - 0s 2ms/step - loss: 0.4681 - val_loss: 0.4916 - lr: 0.0011\n",
            "Epoch 66/100\n",
            "123/123 [==============================] - 0s 2ms/step - loss: 0.4686 - val_loss: 0.4917 - lr: 0.0010\n",
            "Epoch 67/100\n",
            "123/123 [==============================] - 0s 2ms/step - loss: 0.4679 - val_loss: 0.4915 - lr: 9.6183e-04\n",
            "Epoch 68/100\n",
            "123/123 [==============================] - 0s 2ms/step - loss: 0.4674 - val_loss: 0.4916 - lr: 8.9742e-04\n",
            "Epoch 69/100\n",
            "123/123 [==============================] - 0s 2ms/step - loss: 0.4675 - val_loss: 0.4921 - lr: 8.3732e-04\n",
            "Epoch 70/100\n",
            "123/123 [==============================] - 0s 2ms/step - loss: 0.4681 - val_loss: 0.4923 - lr: 7.8125e-04\n",
            "Epoch 71/100\n",
            "123/123 [==============================] - 0s 2ms/step - loss: 0.4678 - val_loss: 0.4919 - lr: 7.2893e-04\n",
            "Epoch 72/100\n",
            "123/123 [==============================] - 0s 2ms/step - loss: 0.4672 - val_loss: 0.4914 - lr: 6.8012e-04\n",
            "Epoch 73/100\n",
            "123/123 [==============================] - 0s 2ms/step - loss: 0.4685 - val_loss: 0.4914 - lr: 6.3457e-04\n",
            "Epoch 74/100\n",
            "123/123 [==============================] - 0s 2ms/step - loss: 0.4676 - val_loss: 0.4918 - lr: 5.9208e-04\n",
            "Epoch 75/100\n",
            "123/123 [==============================] - 0s 2ms/step - loss: 0.4672 - val_loss: 0.4917 - lr: 5.5243e-04\n",
            "Epoch 76/100\n",
            "123/123 [==============================] - 0s 2ms/step - loss: 0.4669 - val_loss: 0.4916 - lr: 5.1543e-04\n",
            "Epoch 77/100\n",
            "123/123 [==============================] - 0s 3ms/step - loss: 0.4670 - val_loss: 0.4914 - lr: 4.8092e-04\n",
            "Epoch 78/100\n",
            "123/123 [==============================] - 0s 3ms/step - loss: 0.4676 - val_loss: 0.4918 - lr: 4.4871e-04\n",
            "Epoch 79/100\n",
            "123/123 [==============================] - 0s 2ms/step - loss: 0.4670 - val_loss: 0.4916 - lr: 4.1866e-04\n",
            "Epoch 80/100\n",
            "123/123 [==============================] - 0s 2ms/step - loss: 0.4668 - val_loss: 0.4916 - lr: 3.9063e-04\n",
            "Epoch 81/100\n",
            "123/123 [==============================] - 0s 2ms/step - loss: 0.4668 - val_loss: 0.4915 - lr: 3.6447e-04\n",
            "Epoch 82/100\n",
            "123/123 [==============================] - 0s 2ms/step - loss: 0.4667 - val_loss: 0.4916 - lr: 3.4006e-04\n",
            "Epoch 83/100\n",
            "123/123 [==============================] - 0s 2ms/step - loss: 0.4667 - val_loss: 0.4917 - lr: 3.1729e-04\n",
            "Epoch 84/100\n",
            "123/123 [==============================] - 0s 2ms/step - loss: 0.4667 - val_loss: 0.4916 - lr: 2.9604e-04\n",
            "Epoch 85/100\n",
            "123/123 [==============================] - 0s 2ms/step - loss: 0.4665 - val_loss: 0.4919 - lr: 2.7621e-04\n",
            "Epoch 86/100\n",
            "123/123 [==============================] - 0s 2ms/step - loss: 0.4667 - val_loss: 0.4917 - lr: 2.5772e-04\n",
            "Epoch 87/100\n",
            "123/123 [==============================] - 0s 3ms/step - loss: 0.4664 - val_loss: 0.4916 - lr: 2.4046e-04\n",
            "Epoch 88/100\n",
            "123/123 [==============================] - 0s 2ms/step - loss: 0.4665 - val_loss: 0.4918 - lr: 2.2436e-04\n",
            "Epoch 89/100\n",
            "123/123 [==============================] - 0s 2ms/step - loss: 0.4665 - val_loss: 0.4917 - lr: 2.0933e-04\n",
            "Epoch 90/100\n",
            "123/123 [==============================] - 0s 2ms/step - loss: 0.4665 - val_loss: 0.4918 - lr: 1.9531e-04\n",
            "Epoch 91/100\n",
            "123/123 [==============================] - 0s 2ms/step - loss: 0.4665 - val_loss: 0.4917 - lr: 1.8223e-04\n",
            "Epoch 92/100\n",
            "123/123 [==============================] - 0s 2ms/step - loss: 0.4664 - val_loss: 0.4916 - lr: 1.7003e-04\n",
            "Epoch 93/100\n",
            "123/123 [==============================] - 0s 2ms/step - loss: 0.4664 - val_loss: 0.4917 - lr: 1.5864e-04\n",
            "Epoch 94/100\n",
            "123/123 [==============================] - 0s 2ms/step - loss: 0.4664 - val_loss: 0.4916 - lr: 1.4802e-04\n",
            "Epoch 95/100\n",
            "123/123 [==============================] - 0s 2ms/step - loss: 0.4664 - val_loss: 0.4917 - lr: 1.3811e-04\n",
            "Epoch 96/100\n",
            "123/123 [==============================] - 0s 2ms/step - loss: 0.4664 - val_loss: 0.4916 - lr: 1.2886e-04\n",
            "Epoch 97/100\n",
            "123/123 [==============================] - 0s 2ms/step - loss: 0.4664 - val_loss: 0.4917 - lr: 1.2023e-04\n",
            "Epoch 98/100\n",
            "123/123 [==============================] - 0s 2ms/step - loss: 0.4663 - val_loss: 0.4917 - lr: 1.1218e-04\n",
            "Epoch 99/100\n",
            "123/123 [==============================] - 0s 2ms/step - loss: 0.4663 - val_loss: 0.4917 - lr: 1.0467e-04\n",
            "Epoch 100/100\n",
            "123/123 [==============================] - 0s 2ms/step - loss: 0.4663 - val_loss: 0.4917 - lr: 9.7656e-05\n"
          ]
        }
      ]
    },
    {
      "cell_type": "code",
      "source": [
        "optimization_learning_curves(history3, metrica='loss', title='Loss vs Val Loss')"
      ],
      "metadata": {
        "id": "MEjnW-MUNVrc",
        "outputId": "816f480a-432a-40bd-b4b5-46377ae351eb",
        "colab": {
          "base_uri": "https://localhost:8080/",
          "height": 314
        }
      },
      "execution_count": 20,
      "outputs": [
        {
          "output_type": "display_data",
          "data": {
            "text/plain": [
              "<Figure size 576x288 with 1 Axes>"
            ],
            "image/png": "[encoded data removed]"
          },
          "metadata": {
            "needs_background": "light"
          }
        }
      ]
    },
    {
      "cell_type": "markdown",
      "source": [
        "# **Notas**\n",
        "---"
      ],
      "metadata": {
        "id": "kfHv0_vuSdas"
      }
    },
    {
      "cell_type": "markdown",
      "metadata": {
        "id": "S8kX0IA24mBS"
      },
      "source": [
        "- Incrementar la tasa de aprendizaje inicial, debido a que la tasa de aprendizaje disminuira, inicie con un valor mayor desde el cual disminuir\n",
        "\n",
        "- Utilizar un gran momentum\n",
        "\n",
        "- Experimente con diferentes planificacion"
      ]
    },
    {
      "cell_type": "markdown",
      "source": [
        "# **Concluciones**\n",
        "---"
      ],
      "metadata": {
        "id": "ylnIWsHbSgSD"
      }
    },
    {
      "cell_type": "markdown",
      "source": [
        "- Se aprecia que en el método adam la reducción del error de entrenamiento se reduce a la par, que el error de validación.\n",
        "- En el segundo y tercer método el error de entrenamiento se reduce más rápido que el de validación, con diferentes combinaciones de hiperparametros. \n",
        "\n",
        "- Existe un overfiting. En el primer es menor en comparación a los ultmos metrodos \n",
        "\n",
        "- Hay que investigar si el sobreaprendizaje del método de caídas drop y la planificación de learning rate en función del tiempo tiene relación con la reducción rápida del entrenamiento. Cabe resaltar que hay otros consideraciones a tener en cuenta, como el conjunto de datos, los hiperparametros entre otros. Con el adam es más estable el proceso, pero también se presenta overfiting, pero eso puede pasar por diversas razones."
      ],
      "metadata": {
        "id": "7CyOiZYqSy2M"
      }
    }
  ]
}