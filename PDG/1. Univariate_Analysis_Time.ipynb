{
 "cells": [
  {
   "cell_type": "code",
   "execution_count": 249,
   "metadata": {},
   "outputs": [],
   "source": [
    "import pandas as pd\n",
    "import numpy as np\n",
    "import matplotlib.pyplot as plt\n",
    "import seaborn as sns\n",
    "import random\n",
    "from numpy import log as ln\n",
    "from termcolor import colored\n",
    "from sklearn.impute import SimpleImputer"
   ]
  },
  {
   "cell_type": "markdown",
   "metadata": {},
   "source": [
    "Método que grafica un diagrama de barras"
   ]
  },
  {
   "cell_type": "code",
   "execution_count": 250,
   "metadata": {},
   "outputs": [],
   "source": [
    "def bar_plot(x,name):\n",
    "    plt.figure(figsize=(12,5))\n",
    "    ax = plt.subplot()\n",
    "    ax = sns.barplot(x=data[x].value_counts().index, y=data[x].value_counts(), data=data,edgecolor='black', color='gray')\n",
    "    ax.set_xlabel(name,size=20)\n",
    "    ax.set_ylabel('frecuencia ni',size=15)\n",
    "    ax.set_title(f'Diagrama de barras {name}',size=15)\n",
    "    plt.show()"
   ]
  },
  {
   "cell_type": "markdown",
   "metadata": {},
   "source": [
    "Método que grafica una ojiva y el histograma"
   ]
  },
  {
   "cell_type": "code",
   "execution_count": 251,
   "metadata": {},
   "outputs": [],
   "source": [
    "def hist_Ogive_plot(x,m,name):\n",
    "    plt.figure(figsize=(12,5))\n",
    "    ax = plt.subplot(121)\n",
    "    sns.distplot(data[x], bins=m, kde=False,color='gray')\n",
    "    ax.axvline(data[x].mean(), c='r', linestyle = '--', label = 'Promedio')\n",
    "    ax.axvline(data[x].median(), c='b', linestyle = '--', label = 'Mediana')\n",
    "    ax.set_title(f\"Histograma de {name}\",size=20)\n",
    "    ax.set_ylabel('Frecuencia Absoluta ni',size=15)\n",
    "    ax.set_xlabel(name,size=15)\n",
    "    ax.legend()\n",
    "    ax = plt.subplot(122)\n",
    "    sns.distplot(data[x], bins=m, kde_kws=dict(cumulative=True), color='gray')\n",
    "    ax.set_title(f\"Diagrama de Ojiva de {name}\",size=15)\n",
    "    ax.set_ylabel('Freacuencia Relativa Acumulada Fi',size=15)\n",
    "    ax.set_xlabel(name,size=12)"
   ]
  },
  {
   "cell_type": "markdown",
   "metadata": {},
   "source": [
    "Grafica un digrama de caja"
   ]
  },
  {
   "cell_type": "code",
   "execution_count": 252,
   "metadata": {},
   "outputs": [],
   "source": [
    "def box_plot(x,name):\n",
    "    plt.figure(figsize=(10,5))\n",
    "    ax = plt.subplot()\n",
    "    ax = sns.boxplot(x=data[x], color='gray')\n",
    "    ax.set_title(f'Diagrama de cajas de {name}',size=20)\n",
    "    ax.set_xlabel(name,size=15)"
   ]
  },
  {
   "cell_type": "markdown",
   "metadata": {},
   "source": [
    "Determina el número de intervalos que debe tener la tabla de frecuencias"
   ]
  },
  {
   "cell_type": "code",
   "execution_count": 253,
   "metadata": {},
   "outputs": [],
   "source": [
    "def intervals_class(N):\n",
    "    m1 = np.sqrt(N)\n",
    "    m2 = 1+3.3*np.log10(N)\n",
    "    m3 = ln(N)/ln(2)\n",
    "    return [m1,m2,m3] "
   ]
  },
  {
   "cell_type": "markdown",
   "metadata": {},
   "source": [
    "Método que crea los intervalos que debe tener la tabla de frecuencias"
   ]
  },
  {
   "cell_type": "code",
   "execution_count": 254,
   "metadata": {},
   "outputs": [],
   "source": [
    "def made_intervals_class(x, m,date,t):\n",
    "    range_i =  date[x].max() - date[x].min()\n",
    "    amplitude = range_i/m\n",
    "    tupla = (range_i,np.rint(amplitude)) \n",
    "    if t == 1:\n",
    "        tupla = (range_i,np.round(amplitude,5))\n",
    "    return tupla"
   ]
  },
  {
   "cell_type": "markdown",
   "metadata": {},
   "source": [
    "Método que crea la marca de clase"
   ]
  },
  {
   "cell_type": "code",
   "execution_count": 255,
   "metadata": {},
   "outputs": [],
   "source": [
    "def class_mark(intervale,c):\n",
    "    f_value = np.round((intervale[0][1]+intervale[0][0])/2,5)\n",
    "    m_values = []\n",
    "    m_values.append(f_value)\n",
    "    for i in range(len(intervale)-1):\n",
    "        f_value = np.round(f_value + c,5)\n",
    "        m_values.append(f_value)\n",
    "    return m_values"
   ]
  },
  {
   "cell_type": "markdown",
   "metadata": {},
   "source": [
    "Crea tabla de frecuencia para datos cuantitativos"
   ]
  },
  {
   "cell_type": "code",
   "execution_count": 256,
   "metadata": {},
   "outputs": [],
   "source": [
    "def made_frequency_table_A(x, date,t,name):\n",
    "    \n",
    "    m = int(np.rint(np.array(intervals_class(date[x].shape[0])).min()))\n",
    "    temp = made_intervals_class(x, m,date,t)\n",
    "    r = temp[0]\n",
    "    c = temp[1]\n",
    "    intervale = []\n",
    "    n = data[x].min()\n",
    "    for i in range(m):\n",
    "        if i < m-1:\n",
    "            intervale.append((n,np.around(n+c,5)))\n",
    "            n = np.around(n+c,5)\n",
    "        else:\n",
    "            intervale.append((n,np.around(n+c,5)+(data[x].max()-(np.around(n+c,5)))))\n",
    "    \n",
    "    alfa = date[x]\n",
    "    alfa = alfa.sort_values()\n",
    "    \n",
    "    ni = []\n",
    "    for i in range(m):\n",
    "        if i==0:\n",
    "            a = alfa[alfa <= intervale[i][1]]\n",
    "            ni.append(len(a))\n",
    "        else:\n",
    "            a = alfa[(alfa > intervale[i][0]) & (alfa<=intervale[i][1])]\n",
    "            ni.append(len(a))\n",
    "    dic = {name:intervale,'ni':ni}\n",
    "    dic = pd.DataFrame(dic)\n",
    "    total = dic['ni'].sum()\n",
    "    dic['fi'] = dic['ni']/total\n",
    "    dic['Ni'] = np.cumsum(dic['ni'])\n",
    "    dic['Fi'] = np.cumsum(dic['fi'])\n",
    "    dic['Xí'] = class_mark(intervale,c)\n",
    "    dic.loc[str(m)] = ['Total',total,' ',' ',' ',' ']\n",
    "    return dic      "
   ]
  },
  {
   "cell_type": "markdown",
   "metadata": {},
   "source": [
    "Crea tabla de frecuencia para datos categoricos"
   ]
  },
  {
   "cell_type": "code",
   "execution_count": 257,
   "metadata": {},
   "outputs": [],
   "source": [
    "def made_frequency_table_B(x,date,m):\n",
    "    \n",
    "    intervale = []\n",
    "    ni = []\n",
    "    intervale = list(date[x].unique())\n",
    "    ni = list(date[x].value_counts(dropna = False).values)\n",
    "    dic = pd.DataFrame()\n",
    "    total = np.sum(ni)\n",
    "    dic[m] = intervale\n",
    "    dic['ni'] = ni\n",
    "    dic['fi'] = np.round(dic['ni']/total,5)\n",
    "    dic['Ni'] = np.cumsum(dic['ni'])\n",
    "    dic['Fi'] = np.cumsum(dic['fi'])\n",
    "    dic.loc[len(ni)+1] = ['Total',total,' ',' ',' ']\n",
    "    return dic"
   ]
  },
  {
   "cell_type": "markdown",
   "metadata": {},
   "source": [
    "Calcula el coeficiente de asimetria y de curtosis de la distribución"
   ]
  },
  {
   "cell_type": "code",
   "execution_count": 258,
   "metadata": {},
   "outputs": [],
   "source": [
    "def is_asimetric_curtosis(columna):\n",
    "    asimetria = columna.skew()\n",
    "    curtosis = columna.kurt()\n",
    "    message = ''\n",
    "    message_2 = ''\n",
    "    if asimetria == 0:\n",
    "        message = 'Asimetrica'\n",
    "    elif asimetria > 0:\n",
    "        message = 'Asimetrica con cola hacia la derecha'\n",
    "    else:\n",
    "        message = 'Asimetrica con cola hacia la izquierda'\n",
    "    \n",
    "    if curtosis == 3:\n",
    "        message_2 = 'Mesocúrtica'\n",
    "    elif asimetria > 3:\n",
    "        message_2 = 'Leptocúrtica'\n",
    "    else:\n",
    "        message_2 = 'Platicúrtica'\n",
    "    return asimetria, curtosis, message, message_2"
   ]
  },
  {
   "cell_type": "code",
   "execution_count": 259,
   "metadata": {},
   "outputs": [
    {
     "name": "stdout",
     "output_type": "stream",
     "text": [
      "\u001b[1mIntaciamos data data frame de los indicadores para datos\u001b[0m\n"
     ]
    }
   ],
   "source": [
    "print(colored(f'Intaciamos data data frame de los indicadores para datos', attrs=['bold']))\n",
    "columns = ['X','Me','Mg','Mo','Fr','R','Min','Max','§2','S','CV','Q1','Q2','Q3','Ls','Li','RIC','Outliers','per_out','A','CK']\n",
    "indices = ['type','pr','flg', 'cryptocurrency','td','sp', 'dp', 'ipkt', 'ibyt']\n",
    "features_No_Agrupadas = pd.DataFrame(0,columns = columns, index=indices)\n",
    "features_Agrupadas =  pd.DataFrame(0,columns = columns, index=indices)"
   ]
  },
  {
   "cell_type": "code",
   "execution_count": 260,
   "metadata": {},
   "outputs": [],
   "source": [
    "def summary_descriptivo(ind,col,val):\n",
    "    features_No_Agrupadas.loc[ind,col] = val"
   ]
  },
  {
   "cell_type": "code",
   "execution_count": 261,
   "metadata": {},
   "outputs": [],
   "source": [
    "def summary_descriptivo_Agrupy(ind,col,val):\n",
    "    features_Agrupadas.loc[ind,col] = val"
   ]
  },
  {
   "cell_type": "markdown",
   "metadata": {},
   "source": [
    "# Preparación de los datos"
   ]
  },
  {
   "cell_type": "markdown",
   "metadata": {},
   "source": [
    "#### Descripción de las caracteristicas ('features')\n",
    "- Name: Nombre de la ventana de tiempo\n",
    "- Netflows: Cantidad de Netflows en la ventana de tiempo\n",
    "- First Protocol: Top 1 de los protocolos usados en la ventana de tiempo\n",
    "- Second_Protocol: Top 2 de los  protocolos usados en la ventana de tiempo\n",
    "- Third_Protocol: Top 3 de los  protocolos usados en la  ventana de tiempo\n",
    "- P1_d: Percentil: 25% de todas las duraciones en la ventana de tiempo\n",
    "- P2_d: Percentil:50% de todas las duraciones en la ventana de tiempo\n",
    "- P3_d: Percentil:75% de todas las duraciones en la ventana de tiempo\n",
    "- Duration: Duración total de la ventana de tiempo\n",
    "- Max_d: Valor máximo de todas las duraciones en la ventana de tiempo\n",
    "- Min_d: Valor mínimo de todas las duraciones en la ventana de tiempo\n",
    "- Packets: Número total de paquetes en la ventana de tiempo\n",
    "- Avg_bps: Promedio de bits por segundo en la ventana de tiempo\n",
    "- Avg_pps: Promedio de paquetes por segundo en la ventana de tiempo\n",
    "- Avg_bpp: Promedio de bytes por paquete en la ventana de tiempo\n",
    "- Bytes: Número total de bytes en la ventana de tiempo\n",
    "- Number_sp: Número total de puertos de origen usados en la ventana de tiempo\n",
    "- Number_dp: Número total de puertos de destino usados en la ventana de tiempo\n",
    "- First_sp: Top 1 de los puertos de origen en la ventana de tiempo\n",
    "- Second_sp: Top 2 de los puertos de origen en la  ventana de tiempo\n",
    "- Third_sp: Top 3 de los puertos de origen en la ventana de tiempo\n",
    "- First_dp: Top 1 de los puertos de destino en la ventana de tiempo\n",
    "- Second_dp: Top 2 de los puertos de destino en la ventana de tiempo\n",
    "- Third_dp: Top 3 de los puertos de destino en la ventana de tiempo\n",
    "- P1_ip: Percentil 25% de todas las entradas de paquetes en la ventana de tiempo\n",
    "- P2_ip: Percentil 50% de todas las entradas de paquetes en la ventana de tiempo\n",
    "- P3_ip: Percentil 75% de todas las entradas de paquetes en la ventana de tiempo\n",
    "- P1_ib: Percentil 25% de todas las entradas de bytes en la ventana de tiempo\n",
    "- P2_ib: Percentil 50% de todas las entradas de bytes en la ventana de tiempo\n",
    "- P3_ib: Percentil 75% de todas las entradas de bytes en la ventana de tiempo\n",
    "- Type: Tipo de ventana de tiempo (Minera/No minera)\n"
   ]
  },
  {
   "cell_type": "code",
   "execution_count": 262,
   "metadata": {
    "scrolled": true
   },
   "outputs": [
    {
     "name": "stdout",
     "output_type": "stream",
     "text": [
      "\u001b[1mCargamos los datos\u001b[0m\n"
     ]
    },
    {
     "data": {
      "text/html": [
       "<div>\n",
       "<style scoped>\n",
       "    .dataframe tbody tr th:only-of-type {\n",
       "        vertical-align: middle;\n",
       "    }\n",
       "\n",
       "    .dataframe tbody tr th {\n",
       "        vertical-align: top;\n",
       "    }\n",
       "\n",
       "    .dataframe thead th {\n",
       "        text-align: right;\n",
       "    }\n",
       "</style>\n",
       "<table border=\"1\" class=\"dataframe\">\n",
       "  <thead>\n",
       "    <tr style=\"text-align: right;\">\n",
       "      <th></th>\n",
       "      <th>index</th>\n",
       "      <th>Name</th>\n",
       "      <th>Netflows</th>\n",
       "      <th>First_Protocol</th>\n",
       "      <th>Second_Protocol</th>\n",
       "      <th>Third_Protocol</th>\n",
       "      <th>p1_d</th>\n",
       "      <th>p2_d</th>\n",
       "      <th>p3_d</th>\n",
       "      <th>duration</th>\n",
       "      <th>...</th>\n",
       "      <th>second_dp</th>\n",
       "      <th>third_dp</th>\n",
       "      <th>p1_ip</th>\n",
       "      <th>p2_ip</th>\n",
       "      <th>p3_ip</th>\n",
       "      <th>p1_ib</th>\n",
       "      <th>p2_ib</th>\n",
       "      <th>p3_ib</th>\n",
       "      <th>Type</th>\n",
       "      <th>Cryptocurrency</th>\n",
       "    </tr>\n",
       "  </thead>\n",
       "  <tbody>\n",
       "    <tr>\n",
       "      <th>0</th>\n",
       "      <td>237</td>\n",
       "      <td>39-csves/2.csv</td>\n",
       "      <td>2</td>\n",
       "      <td>TCP</td>\n",
       "      <td>NaN</td>\n",
       "      <td>NaN</td>\n",
       "      <td>243.01100</td>\n",
       "      <td>243.0110</td>\n",
       "      <td>243.01100</td>\n",
       "      <td>486.022</td>\n",
       "      <td>...</td>\n",
       "      <td>55821.0</td>\n",
       "      <td>NaN</td>\n",
       "      <td>17.00</td>\n",
       "      <td>17.0</td>\n",
       "      <td>17.00</td>\n",
       "      <td>3578.0</td>\n",
       "      <td>6660.0</td>\n",
       "      <td>9742.0</td>\n",
       "      <td>mine</td>\n",
       "      <td>Bitcoin</td>\n",
       "    </tr>\n",
       "    <tr>\n",
       "      <th>1</th>\n",
       "      <td>149</td>\n",
       "      <td>43-csves/1.csv</td>\n",
       "      <td>2</td>\n",
       "      <td>TCP</td>\n",
       "      <td>NaN</td>\n",
       "      <td>NaN</td>\n",
       "      <td>554.68125</td>\n",
       "      <td>554.6815</td>\n",
       "      <td>554.68175</td>\n",
       "      <td>1109.363</td>\n",
       "      <td>...</td>\n",
       "      <td>14444.0</td>\n",
       "      <td>NaN</td>\n",
       "      <td>18.00</td>\n",
       "      <td>18.0</td>\n",
       "      <td>18.00</td>\n",
       "      <td>1497.0</td>\n",
       "      <td>2294.0</td>\n",
       "      <td>3091.0</td>\n",
       "      <td>mine</td>\n",
       "      <td>Monero</td>\n",
       "    </tr>\n",
       "    <tr>\n",
       "      <th>2</th>\n",
       "      <td>1790</td>\n",
       "      <td>919-csves/0.csv</td>\n",
       "      <td>119</td>\n",
       "      <td>TCP</td>\n",
       "      <td>UDP</td>\n",
       "      <td>NaN</td>\n",
       "      <td>0.66750</td>\n",
       "      <td>102.1360</td>\n",
       "      <td>112.38000</td>\n",
       "      <td>8193.891</td>\n",
       "      <td>...</td>\n",
       "      <td>443.0</td>\n",
       "      <td>80.0</td>\n",
       "      <td>2.00</td>\n",
       "      <td>4.0</td>\n",
       "      <td>6.00</td>\n",
       "      <td>45.0</td>\n",
       "      <td>128.0</td>\n",
       "      <td>224.0</td>\n",
       "      <td>not_mine</td>\n",
       "      <td>Does_not_have</td>\n",
       "    </tr>\n",
       "    <tr>\n",
       "      <th>3</th>\n",
       "      <td>214</td>\n",
       "      <td>35-csves/2.csv</td>\n",
       "      <td>2</td>\n",
       "      <td>TCP</td>\n",
       "      <td>NaN</td>\n",
       "      <td>NaN</td>\n",
       "      <td>551.63250</td>\n",
       "      <td>551.6330</td>\n",
       "      <td>551.63350</td>\n",
       "      <td>1103.266</td>\n",
       "      <td>...</td>\n",
       "      <td>49875.0</td>\n",
       "      <td>NaN</td>\n",
       "      <td>29.75</td>\n",
       "      <td>30.5</td>\n",
       "      <td>31.25</td>\n",
       "      <td>5964.5</td>\n",
       "      <td>10974.0</td>\n",
       "      <td>15983.5</td>\n",
       "      <td>mine</td>\n",
       "      <td>Bitcash</td>\n",
       "    </tr>\n",
       "    <tr>\n",
       "      <th>4</th>\n",
       "      <td>160</td>\n",
       "      <td>26-csves/4.csv</td>\n",
       "      <td>4</td>\n",
       "      <td>TCP</td>\n",
       "      <td>NaN</td>\n",
       "      <td>NaN</td>\n",
       "      <td>169.33175</td>\n",
       "      <td>206.5110</td>\n",
       "      <td>243.68325</td>\n",
       "      <td>826.016</td>\n",
       "      <td>...</td>\n",
       "      <td>52327.0</td>\n",
       "      <td>52334.0</td>\n",
       "      <td>16.50</td>\n",
       "      <td>18.0</td>\n",
       "      <td>20.25</td>\n",
       "      <td>488.0</td>\n",
       "      <td>5692.5</td>\n",
       "      <td>12123.5</td>\n",
       "      <td>mine</td>\n",
       "      <td>Bitcoin</td>\n",
       "    </tr>\n",
       "  </tbody>\n",
       "</table>\n",
       "<p>5 rows × 33 columns</p>\n",
       "</div>"
      ],
      "text/plain": [
       "   index             Name  Netflows First_Protocol Second_Protocol  \\\n",
       "0    237   39-csves/2.csv         2            TCP             NaN   \n",
       "1    149   43-csves/1.csv         2            TCP             NaN   \n",
       "2   1790  919-csves/0.csv       119            TCP             UDP   \n",
       "3    214   35-csves/2.csv         2            TCP             NaN   \n",
       "4    160   26-csves/4.csv         4            TCP             NaN   \n",
       "\n",
       "  Third_Protocol       p1_d      p2_d       p3_d  duration  ...  second_dp  \\\n",
       "0            NaN  243.01100  243.0110  243.01100   486.022  ...    55821.0   \n",
       "1            NaN  554.68125  554.6815  554.68175  1109.363  ...    14444.0   \n",
       "2            NaN    0.66750  102.1360  112.38000  8193.891  ...      443.0   \n",
       "3            NaN  551.63250  551.6330  551.63350  1103.266  ...    49875.0   \n",
       "4            NaN  169.33175  206.5110  243.68325   826.016  ...    52327.0   \n",
       "\n",
       "   third_dp  p1_ip  p2_ip  p3_ip   p1_ib    p2_ib    p3_ib      Type  \\\n",
       "0       NaN  17.00   17.0  17.00  3578.0   6660.0   9742.0      mine   \n",
       "1       NaN  18.00   18.0  18.00  1497.0   2294.0   3091.0      mine   \n",
       "2      80.0   2.00    4.0   6.00    45.0    128.0    224.0  not_mine   \n",
       "3       NaN  29.75   30.5  31.25  5964.5  10974.0  15983.5      mine   \n",
       "4   52334.0  16.50   18.0  20.25   488.0   5692.5  12123.5      mine   \n",
       "\n",
       "   Cryptocurrency  \n",
       "0         Bitcoin  \n",
       "1          Monero  \n",
       "2   Does_not_have  \n",
       "3         Bitcash  \n",
       "4         Bitcoin  \n",
       "\n",
       "[5 rows x 33 columns]"
      ]
     },
     "execution_count": 262,
     "metadata": {},
     "output_type": "execute_result"
    }
   ],
   "source": [
    "print(colored(f'Cargamos los datos', attrs=['bold']))\n",
    "data = pd.read_csv('./dataC.csv')\n",
    "data.head()"
   ]
  },
  {
   "cell_type": "markdown",
   "metadata": {},
   "source": [
    "# Análisis inicial"
   ]
  },
  {
   "cell_type": "code",
   "execution_count": 263,
   "metadata": {
    "scrolled": false
   },
   "outputs": [
    {
     "name": "stdout",
     "output_type": "stream",
     "text": [
      "\u001b[1mObservamos el número de registros en total, cuantos valores hay por columnas, así como sus valores nulos y el tipo de dato de cada columna.\u001b[0m\n",
      "<class 'pandas.core.frame.DataFrame'>\n",
      "RangeIndex: 4733 entries, 0 to 4732\n",
      "Data columns (total 33 columns):\n",
      "index              4733 non-null int64\n",
      "Name               4733 non-null object\n",
      "Netflows           4733 non-null int64\n",
      "First_Protocol     4733 non-null object\n",
      "Second_Protocol    2272 non-null object\n",
      "Third_Protocol     129 non-null object\n",
      "p1_d               4733 non-null float64\n",
      "p2_d               4733 non-null float64\n",
      "p3_d               4733 non-null float64\n",
      "duration           4733 non-null float64\n",
      "max_d              4733 non-null float64\n",
      "min_d              4733 non-null float64\n",
      "#packets           4733 non-null int64\n",
      "Avg_bps            4733 non-null int64\n",
      "Avg_pps            4733 non-null int64\n",
      "Avg_bpp            4733 non-null int64\n",
      "#Bytes             4733 non-null int64\n",
      "#sp                4733 non-null int64\n",
      "#dp                4733 non-null int64\n",
      "first_sp           4733 non-null int64\n",
      "second_sp          4701 non-null float64\n",
      "third_sp           2562 non-null float64\n",
      "first_dp           4733 non-null int64\n",
      "second_dp          4701 non-null float64\n",
      "third_dp           2564 non-null float64\n",
      "p1_ip              4733 non-null float64\n",
      "p2_ip              4733 non-null float64\n",
      "p3_ip              4733 non-null float64\n",
      "p1_ib              4733 non-null float64\n",
      "p2_ib              4733 non-null float64\n",
      "p3_ib              4733 non-null float64\n",
      "Type               4733 non-null object\n",
      "Cryptocurrency     4733 non-null object\n",
      "dtypes: float64(16), int64(11), object(6)\n",
      "memory usage: 1.2+ MB\n"
     ]
    }
   ],
   "source": [
    "print(colored(f'Observamos el número de registros en total, cuantos valores hay por columnas, así como sus valores nulos y el tipo de dato de cada columna.', attrs=['bold']))\n",
    "data.info()"
   ]
  },
  {
   "cell_type": "code",
   "execution_count": 264,
   "metadata": {},
   "outputs": [
    {
     "name": "stdout",
     "output_type": "stream",
     "text": [
      "\u001b[1mEl conjunto de datos consta de 4733 registros y 33 columnas\u001b[0m\n"
     ]
    }
   ],
   "source": [
    "print(colored(f'El conjunto de datos consta de {len(data.index)} registros y {len(data.columns)} columnas', attrs=['bold']))"
   ]
  },
  {
   "cell_type": "markdown",
   "metadata": {},
   "source": [
    "### Inspección datos faltantes"
   ]
  },
  {
   "cell_type": "code",
   "execution_count": 265,
   "metadata": {},
   "outputs": [
    {
     "name": "stdout",
     "output_type": "stream",
     "text": [
      "\u001b[1mValores faltantes por columnas, (False: Valores no nulos), (True: Valores nulos)\u001b[0m\n"
     ]
    },
    {
     "data": {
      "text/html": [
       "<div>\n",
       "<style scoped>\n",
       "    .dataframe tbody tr th:only-of-type {\n",
       "        vertical-align: middle;\n",
       "    }\n",
       "\n",
       "    .dataframe tbody tr th {\n",
       "        vertical-align: top;\n",
       "    }\n",
       "\n",
       "    .dataframe thead th {\n",
       "        text-align: right;\n",
       "    }\n",
       "</style>\n",
       "<table border=\"1\" class=\"dataframe\">\n",
       "  <thead>\n",
       "    <tr style=\"text-align: right;\">\n",
       "      <th></th>\n",
       "      <th>False</th>\n",
       "      <th>True</th>\n",
       "    </tr>\n",
       "  </thead>\n",
       "  <tbody>\n",
       "    <tr>\n",
       "      <th>index</th>\n",
       "      <td>4733.0</td>\n",
       "      <td>NaN</td>\n",
       "    </tr>\n",
       "    <tr>\n",
       "      <th>Name</th>\n",
       "      <td>4733.0</td>\n",
       "      <td>NaN</td>\n",
       "    </tr>\n",
       "    <tr>\n",
       "      <th>Netflows</th>\n",
       "      <td>4733.0</td>\n",
       "      <td>NaN</td>\n",
       "    </tr>\n",
       "    <tr>\n",
       "      <th>First_Protocol</th>\n",
       "      <td>4733.0</td>\n",
       "      <td>NaN</td>\n",
       "    </tr>\n",
       "    <tr>\n",
       "      <th>Second_Protocol</th>\n",
       "      <td>2272.0</td>\n",
       "      <td>2461.0</td>\n",
       "    </tr>\n",
       "    <tr>\n",
       "      <th>Third_Protocol</th>\n",
       "      <td>129.0</td>\n",
       "      <td>4604.0</td>\n",
       "    </tr>\n",
       "    <tr>\n",
       "      <th>p1_d</th>\n",
       "      <td>4733.0</td>\n",
       "      <td>NaN</td>\n",
       "    </tr>\n",
       "    <tr>\n",
       "      <th>p2_d</th>\n",
       "      <td>4733.0</td>\n",
       "      <td>NaN</td>\n",
       "    </tr>\n",
       "    <tr>\n",
       "      <th>p3_d</th>\n",
       "      <td>4733.0</td>\n",
       "      <td>NaN</td>\n",
       "    </tr>\n",
       "    <tr>\n",
       "      <th>duration</th>\n",
       "      <td>4733.0</td>\n",
       "      <td>NaN</td>\n",
       "    </tr>\n",
       "    <tr>\n",
       "      <th>max_d</th>\n",
       "      <td>4733.0</td>\n",
       "      <td>NaN</td>\n",
       "    </tr>\n",
       "    <tr>\n",
       "      <th>min_d</th>\n",
       "      <td>4733.0</td>\n",
       "      <td>NaN</td>\n",
       "    </tr>\n",
       "    <tr>\n",
       "      <th>#packets</th>\n",
       "      <td>4733.0</td>\n",
       "      <td>NaN</td>\n",
       "    </tr>\n",
       "    <tr>\n",
       "      <th>Avg_bps</th>\n",
       "      <td>4733.0</td>\n",
       "      <td>NaN</td>\n",
       "    </tr>\n",
       "    <tr>\n",
       "      <th>Avg_pps</th>\n",
       "      <td>4733.0</td>\n",
       "      <td>NaN</td>\n",
       "    </tr>\n",
       "    <tr>\n",
       "      <th>Avg_bpp</th>\n",
       "      <td>4733.0</td>\n",
       "      <td>NaN</td>\n",
       "    </tr>\n",
       "    <tr>\n",
       "      <th>#Bytes</th>\n",
       "      <td>4733.0</td>\n",
       "      <td>NaN</td>\n",
       "    </tr>\n",
       "    <tr>\n",
       "      <th>#sp</th>\n",
       "      <td>4733.0</td>\n",
       "      <td>NaN</td>\n",
       "    </tr>\n",
       "    <tr>\n",
       "      <th>#dp</th>\n",
       "      <td>4733.0</td>\n",
       "      <td>NaN</td>\n",
       "    </tr>\n",
       "    <tr>\n",
       "      <th>first_sp</th>\n",
       "      <td>4733.0</td>\n",
       "      <td>NaN</td>\n",
       "    </tr>\n",
       "    <tr>\n",
       "      <th>second_sp</th>\n",
       "      <td>4701.0</td>\n",
       "      <td>32.0</td>\n",
       "    </tr>\n",
       "    <tr>\n",
       "      <th>third_sp</th>\n",
       "      <td>2562.0</td>\n",
       "      <td>2171.0</td>\n",
       "    </tr>\n",
       "    <tr>\n",
       "      <th>first_dp</th>\n",
       "      <td>4733.0</td>\n",
       "      <td>NaN</td>\n",
       "    </tr>\n",
       "    <tr>\n",
       "      <th>second_dp</th>\n",
       "      <td>4701.0</td>\n",
       "      <td>32.0</td>\n",
       "    </tr>\n",
       "    <tr>\n",
       "      <th>third_dp</th>\n",
       "      <td>2564.0</td>\n",
       "      <td>2169.0</td>\n",
       "    </tr>\n",
       "    <tr>\n",
       "      <th>p1_ip</th>\n",
       "      <td>4733.0</td>\n",
       "      <td>NaN</td>\n",
       "    </tr>\n",
       "    <tr>\n",
       "      <th>p2_ip</th>\n",
       "      <td>4733.0</td>\n",
       "      <td>NaN</td>\n",
       "    </tr>\n",
       "    <tr>\n",
       "      <th>p3_ip</th>\n",
       "      <td>4733.0</td>\n",
       "      <td>NaN</td>\n",
       "    </tr>\n",
       "    <tr>\n",
       "      <th>p1_ib</th>\n",
       "      <td>4733.0</td>\n",
       "      <td>NaN</td>\n",
       "    </tr>\n",
       "    <tr>\n",
       "      <th>p2_ib</th>\n",
       "      <td>4733.0</td>\n",
       "      <td>NaN</td>\n",
       "    </tr>\n",
       "    <tr>\n",
       "      <th>p3_ib</th>\n",
       "      <td>4733.0</td>\n",
       "      <td>NaN</td>\n",
       "    </tr>\n",
       "    <tr>\n",
       "      <th>Type</th>\n",
       "      <td>4733.0</td>\n",
       "      <td>NaN</td>\n",
       "    </tr>\n",
       "    <tr>\n",
       "      <th>Cryptocurrency</th>\n",
       "      <td>4733.0</td>\n",
       "      <td>NaN</td>\n",
       "    </tr>\n",
       "  </tbody>\n",
       "</table>\n",
       "</div>"
      ],
      "text/plain": [
       "                  False   True \n",
       "index            4733.0     NaN\n",
       "Name             4733.0     NaN\n",
       "Netflows         4733.0     NaN\n",
       "First_Protocol   4733.0     NaN\n",
       "Second_Protocol  2272.0  2461.0\n",
       "Third_Protocol    129.0  4604.0\n",
       "p1_d             4733.0     NaN\n",
       "p2_d             4733.0     NaN\n",
       "p3_d             4733.0     NaN\n",
       "duration         4733.0     NaN\n",
       "max_d            4733.0     NaN\n",
       "min_d            4733.0     NaN\n",
       "#packets         4733.0     NaN\n",
       "Avg_bps          4733.0     NaN\n",
       "Avg_pps          4733.0     NaN\n",
       "Avg_bpp          4733.0     NaN\n",
       "#Bytes           4733.0     NaN\n",
       "#sp              4733.0     NaN\n",
       "#dp              4733.0     NaN\n",
       "first_sp         4733.0     NaN\n",
       "second_sp        4701.0    32.0\n",
       "third_sp         2562.0  2171.0\n",
       "first_dp         4733.0     NaN\n",
       "second_dp        4701.0    32.0\n",
       "third_dp         2564.0  2169.0\n",
       "p1_ip            4733.0     NaN\n",
       "p2_ip            4733.0     NaN\n",
       "p3_ip            4733.0     NaN\n",
       "p1_ib            4733.0     NaN\n",
       "p2_ib            4733.0     NaN\n",
       "p3_ib            4733.0     NaN\n",
       "Type             4733.0     NaN\n",
       "Cryptocurrency   4733.0     NaN"
      ]
     },
     "execution_count": 265,
     "metadata": {},
     "output_type": "execute_result"
    }
   ],
   "source": [
    "print(colored(f'Valores faltantes por columnas, (False: Valores no nulos), (True: Valores nulos)', attrs=['bold']))\n",
    "avaliable = data.isnull()\n",
    "avaliable = avaliable.apply(pd.Series.value_counts)\n",
    "avaliable.T"
   ]
  },
  {
   "cell_type": "code",
   "execution_count": 266,
   "metadata": {},
   "outputs": [],
   "source": [
    "n = data.shape[0]"
   ]
  },
  {
   "cell_type": "code",
   "execution_count": 267,
   "metadata": {},
   "outputs": [
    {
     "name": "stdout",
     "output_type": "stream",
     "text": [
      "\u001b[1mEl porcentaje de los datos faltantes de la columna segundo protocolo(second protocol) con respecto \n",
      " al número total de registros es de 52.0%.\u001b[0m\n"
     ]
    }
   ],
   "source": [
    "porce_second_pr = np.round(avaliable['Second_Protocol'][1] / n, 4) * 100\n",
    "print(colored(f'El porcentaje de los datos faltantes de la columna segundo protocolo(second protocol) con respecto \\n al número total de registros es de {porce_second_pr}%.', attrs=['bold']))"
   ]
  },
  {
   "cell_type": "code",
   "execution_count": 268,
   "metadata": {},
   "outputs": [
    {
     "name": "stdout",
     "output_type": "stream",
     "text": [
      "\u001b[1mEl porcentaje de los datos faltantes de tercer protocolo(third_Protocol) con respecto al número total de registros \n",
      " es de 97.27%.\u001b[0m\n"
     ]
    }
   ],
   "source": [
    "porce_third_pr = np.round(avaliable['Third_Protocol'][1] / n,4) * 100\n",
    "print(colored(f'El porcentaje de los datos faltantes de tercer protocolo(third_Protocol) con respecto al número total de registros \\n es de {porce_third_pr}%.', attrs=['bold']))"
   ]
  },
  {
   "cell_type": "markdown",
   "metadata": {},
   "source": [
    "<font color=\"blue\"><b><h3> Análisis</h3></b> </font>\n",
    "   - El número de valores faltantes para la columna del segundo protocolo (Second_Protocol) afecta aproximadamente el 52% de los registros, que es mas de la mitad, por tal razon se decido eliminar la columna y por que los datos faltantes afectarian los analisis posteriores.\n",
    "   \n",
    "   - El número de valores faltantes para la columna del tercer protocolo (Third_Protocol) afecta aproximadamente el 97.3% de los registros, son casi todos los datos, por tal razon decido eliminar la columna, por que no aportara nada para mi estudio."
   ]
  },
  {
   "cell_type": "code",
   "execution_count": 269,
   "metadata": {},
   "outputs": [
    {
     "name": "stdout",
     "output_type": "stream",
     "text": [
      "\u001b[1mEl porcentaje de los datos faltantes de second_sp con respecto al número total de registros es de 0.7000000000000001%.\u001b[0m\n"
     ]
    }
   ],
   "source": [
    "porce_sec_sp = np.round(avaliable['second_sp'][1] / n, 3) * 100\n",
    "print(colored(f'El porcentaje de los datos faltantes de second_sp con respecto al número total de registros es de {porce_sec_sp}%.', attrs=['bold']))"
   ]
  },
  {
   "cell_type": "code",
   "execution_count": 270,
   "metadata": {},
   "outputs": [
    {
     "name": "stdout",
     "output_type": "stream",
     "text": [
      "\u001b[1mEl porcentaje de los datos faltantes de third_sp con respecto al número total de registros es de 45.9%.\u001b[0m\n"
     ]
    }
   ],
   "source": [
    "porce_third_sp = np.round(avaliable['third_sp'][1] / n, 3) * 100\n",
    "print(colored(f'El porcentaje de los datos faltantes de third_sp con respecto al número total de registros es de {porce_third_sp}%.', attrs=['bold']))"
   ]
  },
  {
   "cell_type": "code",
   "execution_count": 271,
   "metadata": {},
   "outputs": [
    {
     "name": "stdout",
     "output_type": "stream",
     "text": [
      "\u001b[1mEl porcentaje de los datos faltantes de second_dp con respecto al número total de registros es de 0.7000000000000001%.\u001b[0m\n"
     ]
    }
   ],
   "source": [
    "porce_sec_dp = np.round(avaliable['second_dp'][1] / n, 3) * 100\n",
    "print(colored(f'El porcentaje de los datos faltantes de second_dp con respecto al número total de registros es de {porce_sec_dp}%.', attrs=['bold']))"
   ]
  },
  {
   "cell_type": "code",
   "execution_count": 272,
   "metadata": {
    "scrolled": true
   },
   "outputs": [
    {
     "name": "stdout",
     "output_type": "stream",
     "text": [
      "\u001b[1mEl porcentaje de los datos faltantes de third_dp con respecto al número total de registros es de 45.800000000000004%.\u001b[0m\n"
     ]
    }
   ],
   "source": [
    "porce_third_sp = np.round(avaliable['third_dp'][1] / n, 3) * 100\n",
    "print(colored(f'El porcentaje de los datos faltantes de third_dp con respecto al número total de registros es de {porce_third_sp}%.', attrs=['bold']))"
   ]
  },
  {
   "cell_type": "markdown",
   "metadata": {},
   "source": [
    "<font color=\"blue\"><b><h3> Análisis</h3></b> </font>\n",
    "   - El número de valores faltantes para las columnas third_sp y third_dp afecta aproximadamente 45.9% de los registos, lo cual es demasiado por lo tanto, decido remplazar los valores faltantes por la mediana de cada columna respectiva, debido a que es mas robusta a datos atipicos, en caso de que los hubiera.\n",
    "   \n",
    "   \n",
    "   - El número de valores faltantes para las columnas second_sp y second_dp afecta aproximadamente 0.7% de los registos, cantidad muy baja, pese a lo anterior decido no eliminar los registros asociados a los valores faltantes, puesto que la mayoria son de actividad minera y quiero conservarlos para su estudio. Por lo tando remplazare los valores faltantes por la mediana, por si hay valores atipícos en la columna. "
   ]
  },
  {
   "cell_type": "code",
   "execution_count": 273,
   "metadata": {},
   "outputs": [
    {
     "name": "stdout",
     "output_type": "stream",
     "text": [
      "\u001b[1mElimino la columna Second_Protocol y Third_Protocol\u001b[0m\n"
     ]
    },
    {
     "data": {
      "text/plain": [
       "Index(['index', 'Name', 'Netflows', 'First_Protocol', 'p1_d', 'p2_d', 'p3_d',\n",
       "       'duration', 'max_d', 'min_d', '#packets', 'Avg_bps', 'Avg_pps',\n",
       "       'Avg_bpp', '#Bytes', '#sp', '#dp', 'first_sp', 'second_sp', 'third_sp',\n",
       "       'first_dp', 'second_dp', 'third_dp', 'p1_ip', 'p2_ip', 'p3_ip', 'p1_ib',\n",
       "       'p2_ib', 'p3_ib', 'Type', 'Cryptocurrency'],\n",
       "      dtype='object')"
      ]
     },
     "execution_count": 273,
     "metadata": {},
     "output_type": "execute_result"
    }
   ],
   "source": [
    "print(colored(f'Elimino la columna Second_Protocol y Third_Protocol', attrs=['bold']))\n",
    "data = data.drop(['Second_Protocol','Third_Protocol'], axis=1)\n",
    "data.columns"
   ]
  },
  {
   "cell_type": "code",
   "execution_count": 274,
   "metadata": {},
   "outputs": [
    {
     "name": "stdout",
     "output_type": "stream",
     "text": [
      "\u001b[1mRemplazo los valores faltantes de las columnas, second_sp, second_dp, third_sp y third_dp por la mediana respectiva a cada columna .\u001b[0m\n"
     ]
    }
   ],
   "source": [
    "print(colored(f'Remplazo los valores faltantes de las columnas, second_sp, second_dp, third_sp y third_dp por la mediana respectiva a cada columna .', attrs=['bold']))"
   ]
  },
  {
   "cell_type": "code",
   "execution_count": 275,
   "metadata": {},
   "outputs": [],
   "source": [
    "punter = pd.concat([data['second_sp'],data['second_dp'],data['third_sp'],data['third_dp']],axis=1)\n",
    "imputer = SimpleImputer(missing_values = np.nan, strategy = 'median')\n",
    "values = imputer.fit_transform(punter)"
   ]
  },
  {
   "cell_type": "code",
   "execution_count": 276,
   "metadata": {},
   "outputs": [
    {
     "data": {
      "text/html": [
       "<div>\n",
       "<style scoped>\n",
       "    .dataframe tbody tr th:only-of-type {\n",
       "        vertical-align: middle;\n",
       "    }\n",
       "\n",
       "    .dataframe tbody tr th {\n",
       "        vertical-align: top;\n",
       "    }\n",
       "\n",
       "    .dataframe thead th {\n",
       "        text-align: right;\n",
       "    }\n",
       "</style>\n",
       "<table border=\"1\" class=\"dataframe\">\n",
       "  <thead>\n",
       "    <tr style=\"text-align: right;\">\n",
       "      <th></th>\n",
       "      <th>second_sp</th>\n",
       "      <th>second_dp</th>\n",
       "      <th>third_sp</th>\n",
       "      <th>third_dp</th>\n",
       "    </tr>\n",
       "  </thead>\n",
       "  <tbody>\n",
       "    <tr>\n",
       "      <th>0</th>\n",
       "      <td>55821.0</td>\n",
       "      <td>55821.0</td>\n",
       "      <td>123.0</td>\n",
       "      <td>443.0</td>\n",
       "    </tr>\n",
       "    <tr>\n",
       "      <th>1</th>\n",
       "      <td>14444.0</td>\n",
       "      <td>14444.0</td>\n",
       "      <td>123.0</td>\n",
       "      <td>443.0</td>\n",
       "    </tr>\n",
       "    <tr>\n",
       "      <th>2</th>\n",
       "      <td>80.0</td>\n",
       "      <td>443.0</td>\n",
       "      <td>5353.0</td>\n",
       "      <td>80.0</td>\n",
       "    </tr>\n",
       "    <tr>\n",
       "      <th>3</th>\n",
       "      <td>49875.0</td>\n",
       "      <td>49875.0</td>\n",
       "      <td>123.0</td>\n",
       "      <td>443.0</td>\n",
       "    </tr>\n",
       "    <tr>\n",
       "      <th>4</th>\n",
       "      <td>52327.0</td>\n",
       "      <td>52327.0</td>\n",
       "      <td>52334.0</td>\n",
       "      <td>52334.0</td>\n",
       "    </tr>\n",
       "  </tbody>\n",
       "</table>\n",
       "</div>"
      ],
      "text/plain": [
       "   second_sp  second_dp  third_sp  third_dp\n",
       "0    55821.0    55821.0     123.0     443.0\n",
       "1    14444.0    14444.0     123.0     443.0\n",
       "2       80.0      443.0    5353.0      80.0\n",
       "3    49875.0    49875.0     123.0     443.0\n",
       "4    52327.0    52327.0   52334.0   52334.0"
      ]
     },
     "execution_count": 276,
     "metadata": {},
     "output_type": "execute_result"
    }
   ],
   "source": [
    "punter = pd.DataFrame(values, columns = punter.columns, index = punter.index)\n",
    "punter.head()"
   ]
  },
  {
   "cell_type": "code",
   "execution_count": 277,
   "metadata": {},
   "outputs": [],
   "source": [
    "data = data.drop(['second_sp','second_dp','third_sp','third_dp'],axis=1)"
   ]
  },
  {
   "cell_type": "code",
   "execution_count": 278,
   "metadata": {},
   "outputs": [
    {
     "data": {
      "text/html": [
       "<div>\n",
       "<style scoped>\n",
       "    .dataframe tbody tr th:only-of-type {\n",
       "        vertical-align: middle;\n",
       "    }\n",
       "\n",
       "    .dataframe tbody tr th {\n",
       "        vertical-align: top;\n",
       "    }\n",
       "\n",
       "    .dataframe thead th {\n",
       "        text-align: right;\n",
       "    }\n",
       "</style>\n",
       "<table border=\"1\" class=\"dataframe\">\n",
       "  <thead>\n",
       "    <tr style=\"text-align: right;\">\n",
       "      <th></th>\n",
       "      <th>index</th>\n",
       "      <th>Name</th>\n",
       "      <th>Netflows</th>\n",
       "      <th>First_Protocol</th>\n",
       "      <th>p1_d</th>\n",
       "      <th>p2_d</th>\n",
       "      <th>p3_d</th>\n",
       "      <th>duration</th>\n",
       "      <th>max_d</th>\n",
       "      <th>min_d</th>\n",
       "      <th>...</th>\n",
       "      <th>p3_ip</th>\n",
       "      <th>p1_ib</th>\n",
       "      <th>p2_ib</th>\n",
       "      <th>p3_ib</th>\n",
       "      <th>Type</th>\n",
       "      <th>Cryptocurrency</th>\n",
       "      <th>second_sp</th>\n",
       "      <th>second_dp</th>\n",
       "      <th>third_sp</th>\n",
       "      <th>third_dp</th>\n",
       "    </tr>\n",
       "  </thead>\n",
       "  <tbody>\n",
       "    <tr>\n",
       "      <th>0</th>\n",
       "      <td>237</td>\n",
       "      <td>39-csves/2.csv</td>\n",
       "      <td>2</td>\n",
       "      <td>TCP</td>\n",
       "      <td>243.01100</td>\n",
       "      <td>243.0110</td>\n",
       "      <td>243.01100</td>\n",
       "      <td>486.022</td>\n",
       "      <td>243.011</td>\n",
       "      <td>243.011</td>\n",
       "      <td>...</td>\n",
       "      <td>17.00</td>\n",
       "      <td>3578.0</td>\n",
       "      <td>6660.0</td>\n",
       "      <td>9742.0</td>\n",
       "      <td>mine</td>\n",
       "      <td>Bitcoin</td>\n",
       "      <td>55821.0</td>\n",
       "      <td>55821.0</td>\n",
       "      <td>123.0</td>\n",
       "      <td>443.0</td>\n",
       "    </tr>\n",
       "    <tr>\n",
       "      <th>1</th>\n",
       "      <td>149</td>\n",
       "      <td>43-csves/1.csv</td>\n",
       "      <td>2</td>\n",
       "      <td>TCP</td>\n",
       "      <td>554.68125</td>\n",
       "      <td>554.6815</td>\n",
       "      <td>554.68175</td>\n",
       "      <td>1109.363</td>\n",
       "      <td>554.682</td>\n",
       "      <td>554.681</td>\n",
       "      <td>...</td>\n",
       "      <td>18.00</td>\n",
       "      <td>1497.0</td>\n",
       "      <td>2294.0</td>\n",
       "      <td>3091.0</td>\n",
       "      <td>mine</td>\n",
       "      <td>Monero</td>\n",
       "      <td>14444.0</td>\n",
       "      <td>14444.0</td>\n",
       "      <td>123.0</td>\n",
       "      <td>443.0</td>\n",
       "    </tr>\n",
       "    <tr>\n",
       "      <th>2</th>\n",
       "      <td>1790</td>\n",
       "      <td>919-csves/0.csv</td>\n",
       "      <td>119</td>\n",
       "      <td>TCP</td>\n",
       "      <td>0.66750</td>\n",
       "      <td>102.1360</td>\n",
       "      <td>112.38000</td>\n",
       "      <td>8193.891</td>\n",
       "      <td>202.635</td>\n",
       "      <td>0.000</td>\n",
       "      <td>...</td>\n",
       "      <td>6.00</td>\n",
       "      <td>45.0</td>\n",
       "      <td>128.0</td>\n",
       "      <td>224.0</td>\n",
       "      <td>not_mine</td>\n",
       "      <td>Does_not_have</td>\n",
       "      <td>80.0</td>\n",
       "      <td>443.0</td>\n",
       "      <td>5353.0</td>\n",
       "      <td>80.0</td>\n",
       "    </tr>\n",
       "    <tr>\n",
       "      <th>3</th>\n",
       "      <td>214</td>\n",
       "      <td>35-csves/2.csv</td>\n",
       "      <td>2</td>\n",
       "      <td>TCP</td>\n",
       "      <td>551.63250</td>\n",
       "      <td>551.6330</td>\n",
       "      <td>551.63350</td>\n",
       "      <td>1103.266</td>\n",
       "      <td>551.634</td>\n",
       "      <td>551.632</td>\n",
       "      <td>...</td>\n",
       "      <td>31.25</td>\n",
       "      <td>5964.5</td>\n",
       "      <td>10974.0</td>\n",
       "      <td>15983.5</td>\n",
       "      <td>mine</td>\n",
       "      <td>Bitcash</td>\n",
       "      <td>49875.0</td>\n",
       "      <td>49875.0</td>\n",
       "      <td>123.0</td>\n",
       "      <td>443.0</td>\n",
       "    </tr>\n",
       "    <tr>\n",
       "      <th>4</th>\n",
       "      <td>160</td>\n",
       "      <td>26-csves/4.csv</td>\n",
       "      <td>4</td>\n",
       "      <td>TCP</td>\n",
       "      <td>169.33175</td>\n",
       "      <td>206.5110</td>\n",
       "      <td>243.68325</td>\n",
       "      <td>826.016</td>\n",
       "      <td>243.684</td>\n",
       "      <td>169.310</td>\n",
       "      <td>...</td>\n",
       "      <td>20.25</td>\n",
       "      <td>488.0</td>\n",
       "      <td>5692.5</td>\n",
       "      <td>12123.5</td>\n",
       "      <td>mine</td>\n",
       "      <td>Bitcoin</td>\n",
       "      <td>52327.0</td>\n",
       "      <td>52327.0</td>\n",
       "      <td>52334.0</td>\n",
       "      <td>52334.0</td>\n",
       "    </tr>\n",
       "  </tbody>\n",
       "</table>\n",
       "<p>5 rows × 31 columns</p>\n",
       "</div>"
      ],
      "text/plain": [
       "   index             Name  Netflows First_Protocol       p1_d      p2_d  \\\n",
       "0    237   39-csves/2.csv         2            TCP  243.01100  243.0110   \n",
       "1    149   43-csves/1.csv         2            TCP  554.68125  554.6815   \n",
       "2   1790  919-csves/0.csv       119            TCP    0.66750  102.1360   \n",
       "3    214   35-csves/2.csv         2            TCP  551.63250  551.6330   \n",
       "4    160   26-csves/4.csv         4            TCP  169.33175  206.5110   \n",
       "\n",
       "        p3_d  duration    max_d    min_d  ...  p3_ip   p1_ib    p2_ib  \\\n",
       "0  243.01100   486.022  243.011  243.011  ...  17.00  3578.0   6660.0   \n",
       "1  554.68175  1109.363  554.682  554.681  ...  18.00  1497.0   2294.0   \n",
       "2  112.38000  8193.891  202.635    0.000  ...   6.00    45.0    128.0   \n",
       "3  551.63350  1103.266  551.634  551.632  ...  31.25  5964.5  10974.0   \n",
       "4  243.68325   826.016  243.684  169.310  ...  20.25   488.0   5692.5   \n",
       "\n",
       "     p3_ib      Type  Cryptocurrency  second_sp  second_dp  third_sp  third_dp  \n",
       "0   9742.0      mine         Bitcoin    55821.0    55821.0     123.0     443.0  \n",
       "1   3091.0      mine          Monero    14444.0    14444.0     123.0     443.0  \n",
       "2    224.0  not_mine   Does_not_have       80.0      443.0    5353.0      80.0  \n",
       "3  15983.5      mine         Bitcash    49875.0    49875.0     123.0     443.0  \n",
       "4  12123.5      mine         Bitcoin    52327.0    52327.0   52334.0   52334.0  \n",
       "\n",
       "[5 rows x 31 columns]"
      ]
     },
     "execution_count": 278,
     "metadata": {},
     "output_type": "execute_result"
    }
   ],
   "source": [
    "data =pd.concat([data,punter],axis=1)\n",
    "data.head()"
   ]
  },
  {
   "cell_type": "markdown",
   "metadata": {},
   "source": [
    "### Inspección de tipo de dato incorrecto"
   ]
  },
  {
   "cell_type": "markdown",
   "metadata": {},
   "source": [
    "<font color=\"blue\"><b><h3> Análisis</h3></b> </font>\n",
    "- Las variables second_sp, second_dp, third_sp y third_dp son de naturaleza discreta, pero tienen el tipo de dato continuo, por tal razon decido cambiarles su tipo de dato continuo a discreto"
   ]
  },
  {
   "cell_type": "code",
   "execution_count": 279,
   "metadata": {},
   "outputs": [],
   "source": [
    "data = data.astype({'second_sp':'int64'})\n",
    "data = data.astype({'second_dp':'int64'})\n",
    "data = data.astype({'third_sp':'int64'})\n",
    "data = data.astype({'third_dp':'int64'})"
   ]
  },
  {
   "cell_type": "markdown",
   "metadata": {},
   "source": [
    "### Variables de referencia"
   ]
  },
  {
   "cell_type": "markdown",
   "metadata": {},
   "source": [
    "<font color=\"blue\"><b><h3> Análisis</h3></b> </font>\n",
    "- Las variables Nombre(Name) e indices(Index) son columnas que hacen referencia al nombre y al indice que ocupa el registro en el conjunto de datos. Por tal razón decido eliminarlas."
   ]
  },
  {
   "cell_type": "code",
   "execution_count": 280,
   "metadata": {},
   "outputs": [
    {
     "data": {
      "text/plain": [
       "Index(['Netflows', 'First_Protocol', 'p1_d', 'p2_d', 'p3_d', 'duration',\n",
       "       'max_d', 'min_d', '#packets', 'Avg_bps', 'Avg_pps', 'Avg_bpp', '#Bytes',\n",
       "       '#sp', '#dp', 'first_sp', 'first_dp', 'p1_ip', 'p2_ip', 'p3_ip',\n",
       "       'p1_ib', 'p2_ib', 'p3_ib', 'Type', 'Cryptocurrency', 'second_sp',\n",
       "       'second_dp', 'third_sp', 'third_dp'],\n",
       "      dtype='object')"
      ]
     },
     "execution_count": 280,
     "metadata": {},
     "output_type": "execute_result"
    }
   ],
   "source": [
    "data = data.drop(['Name', 'index'], axis=1)\n",
    "data.columns"
   ]
  },
  {
   "cell_type": "markdown",
   "metadata": {},
   "source": [
    "### Estructuración del conjunto de datos\n",
    "Agrupo las columnas de tipo discretas(int64), continuas(float64) y categóricas(object) por separado, para hacer una análisis más organizado."
   ]
  },
  {
   "cell_type": "code",
   "execution_count": 281,
   "metadata": {},
   "outputs": [],
   "source": [
    "data_numeric_int = (data.dtypes == \"int64\")\n",
    "data_numeric_float = (data.dtypes == \"float64\")\n",
    "data_object  = (data.dtypes == \"object\")\n",
    "data_numeric_int = [c for c in data_numeric_int.index if data_numeric_int[c]]\n",
    "data_numeric_float = [c for c in data_numeric_float.index if data_numeric_float[c]]\n",
    "data_object = [c for c in data_object.index if data_object[c]]"
   ]
  },
  {
   "cell_type": "markdown",
   "metadata": {},
   "source": [
    "Variables cuantitativas discretas"
   ]
  },
  {
   "cell_type": "code",
   "execution_count": 282,
   "metadata": {
    "scrolled": true
   },
   "outputs": [
    {
     "name": "stdout",
     "output_type": "stream",
     "text": [
      "['Netflows', '#packets', 'Avg_bps', 'Avg_pps', 'Avg_bpp', '#Bytes', '#sp', '#dp', 'first_sp', 'first_dp', 'second_sp', 'second_dp', 'third_sp', 'third_dp']\n"
     ]
    }
   ],
   "source": [
    "print(data_numeric_int)"
   ]
  },
  {
   "cell_type": "markdown",
   "metadata": {},
   "source": [
    "Variables cuantitativas continuas"
   ]
  },
  {
   "cell_type": "code",
   "execution_count": 283,
   "metadata": {},
   "outputs": [
    {
     "name": "stdout",
     "output_type": "stream",
     "text": [
      "['p1_d', 'p2_d', 'p3_d', 'duration', 'max_d', 'min_d', 'p1_ip', 'p2_ip', 'p3_ip', 'p1_ib', 'p2_ib', 'p3_ib']\n"
     ]
    }
   ],
   "source": [
    "print(data_numeric_float)"
   ]
  },
  {
   "cell_type": "markdown",
   "metadata": {},
   "source": [
    "Variables categoricas"
   ]
  },
  {
   "cell_type": "code",
   "execution_count": 284,
   "metadata": {},
   "outputs": [
    {
     "name": "stdout",
     "output_type": "stream",
     "text": [
      "['First_Protocol', 'Type', 'Cryptocurrency']\n"
     ]
    }
   ],
   "source": [
    "print(data_object)"
   ]
  },
  {
   "cell_type": "markdown",
   "metadata": {},
   "source": [
    "### Balance del conjunto de datos\n",
    "Analizare si la data esta balanceada"
   ]
  },
  {
   "cell_type": "code",
   "execution_count": 285,
   "metadata": {
    "scrolled": false
   },
   "outputs": [
    {
     "data": {
      "text/plain": [
       "Text(0, 0.5, 'Cantidad de observaciones')"
      ]
     },
     "execution_count": 285,
     "metadata": {},
     "output_type": "execute_result"
    },
    {
     "data": {
      "image/png": "[encoded data removed]",
      "text/plain": [
       "<Figure size 432x288 with 1 Axes>"
      ]
     },
     "metadata": {
      "needs_background": "light"
     },
     "output_type": "display_data"
    }
   ],
   "source": [
    "ax = sns.countplot(x='Type', data=data, palette=\"Set1\")\n",
    "ax.set_title(\"Diagrama de barras del Tipo de trafico\")\n",
    "ax.set_xlabel('Tipo de trafico')\n",
    "ax.set_ylabel('Cantidad de observaciones')"
   ]
  },
  {
   "cell_type": "markdown",
   "metadata": {},
   "source": [
    "# Inspección de datos no agrupados"
   ]
  },
  {
   "cell_type": "markdown",
   "metadata": {},
   "source": [
    "### Datos categoricos "
   ]
  },
  {
   "cell_type": "code",
   "execution_count": 288,
   "metadata": {},
   "outputs": [
    {
     "name": "stdout",
     "output_type": "stream",
     "text": [
      "\u001b[1mVariables categoricas\u001b[0m\n"
     ]
    },
    {
     "data": {
      "text/html": [
       "<div>\n",
       "<style scoped>\n",
       "    .dataframe tbody tr th:only-of-type {\n",
       "        vertical-align: middle;\n",
       "    }\n",
       "\n",
       "    .dataframe tbody tr th {\n",
       "        vertical-align: top;\n",
       "    }\n",
       "\n",
       "    .dataframe thead th {\n",
       "        text-align: right;\n",
       "    }\n",
       "</style>\n",
       "<table border=\"1\" class=\"dataframe\">\n",
       "  <thead>\n",
       "    <tr style=\"text-align: right;\">\n",
       "      <th></th>\n",
       "      <th>First_Protocol</th>\n",
       "      <th>Type</th>\n",
       "      <th>Cryptocurrency</th>\n",
       "    </tr>\n",
       "  </thead>\n",
       "  <tbody>\n",
       "    <tr>\n",
       "      <th>count</th>\n",
       "      <td>4733</td>\n",
       "      <td>4733</td>\n",
       "      <td>4733</td>\n",
       "    </tr>\n",
       "    <tr>\n",
       "      <th>unique</th>\n",
       "      <td>4</td>\n",
       "      <td>2</td>\n",
       "      <td>6</td>\n",
       "    </tr>\n",
       "    <tr>\n",
       "      <th>top</th>\n",
       "      <td>TCP</td>\n",
       "      <td>not_mine</td>\n",
       "      <td>Does_not_have</td>\n",
       "    </tr>\n",
       "    <tr>\n",
       "      <th>freq</th>\n",
       "      <td>4227</td>\n",
       "      <td>2501</td>\n",
       "      <td>2501</td>\n",
       "    </tr>\n",
       "  </tbody>\n",
       "</table>\n",
       "</div>"
      ],
      "text/plain": [
       "       First_Protocol      Type Cryptocurrency\n",
       "count            4733      4733           4733\n",
       "unique              4         2              6\n",
       "top               TCP  not_mine  Does_not_have\n",
       "freq             4227      2501           2501"
      ]
     },
     "execution_count": 288,
     "metadata": {},
     "output_type": "execute_result"
    }
   ],
   "source": [
    "print(colored(f'Variables categoricas', attrs=['bold']))\n",
    "data[data_object].describe()"
   ]
  },
  {
   "cell_type": "markdown",
   "metadata": {},
   "source": [
    "<font color=\"blue\"><b><h3> Análisis</h3></b> </font>"
   ]
  },
  {
   "cell_type": "markdown",
   "metadata": {},
   "source": [
    "### Datos continuos"
   ]
  },
  {
   "cell_type": "code",
   "execution_count": 290,
   "metadata": {},
   "outputs": [
    {
     "name": "stdout",
     "output_type": "stream",
     "text": [
      "\u001b[1mVariables continuas\u001b[0m\n"
     ]
    },
    {
     "data": {
      "text/html": [
       "<div>\n",
       "<style scoped>\n",
       "    .dataframe tbody tr th:only-of-type {\n",
       "        vertical-align: middle;\n",
       "    }\n",
       "\n",
       "    .dataframe tbody tr th {\n",
       "        vertical-align: top;\n",
       "    }\n",
       "\n",
       "    .dataframe thead th {\n",
       "        text-align: right;\n",
       "    }\n",
       "</style>\n",
       "<table border=\"1\" class=\"dataframe\">\n",
       "  <thead>\n",
       "    <tr style=\"text-align: right;\">\n",
       "      <th></th>\n",
       "      <th>count</th>\n",
       "      <th>mean</th>\n",
       "      <th>std</th>\n",
       "      <th>min</th>\n",
       "      <th>25%</th>\n",
       "      <th>50%</th>\n",
       "      <th>75%</th>\n",
       "      <th>max</th>\n",
       "    </tr>\n",
       "  </thead>\n",
       "  <tbody>\n",
       "    <tr>\n",
       "      <th>p1_d</th>\n",
       "      <td>4733.0</td>\n",
       "      <td>133.499145</td>\n",
       "      <td>190.475068</td>\n",
       "      <td>0.0</td>\n",
       "      <td>0.000</td>\n",
       "      <td>13.9345</td>\n",
       "      <td>247.59925</td>\n",
       "      <td>599.533</td>\n",
       "    </tr>\n",
       "    <tr>\n",
       "      <th>p2_d</th>\n",
       "      <td>4733.0</td>\n",
       "      <td>148.935284</td>\n",
       "      <td>185.152649</td>\n",
       "      <td>0.0</td>\n",
       "      <td>0.813</td>\n",
       "      <td>58.3345</td>\n",
       "      <td>248.31300</td>\n",
       "      <td>599.533</td>\n",
       "    </tr>\n",
       "    <tr>\n",
       "      <th>p3_d</th>\n",
       "      <td>4733.0</td>\n",
       "      <td>169.899109</td>\n",
       "      <td>176.883018</td>\n",
       "      <td>0.0</td>\n",
       "      <td>37.342</td>\n",
       "      <td>96.0300</td>\n",
       "      <td>251.91275</td>\n",
       "      <td>599.533</td>\n",
       "    </tr>\n",
       "    <tr>\n",
       "      <th>duration</th>\n",
       "      <td>4733.0</td>\n",
       "      <td>3857.288985</td>\n",
       "      <td>7896.290798</td>\n",
       "      <td>0.0</td>\n",
       "      <td>524.756</td>\n",
       "      <td>1055.2150</td>\n",
       "      <td>3830.02700</td>\n",
       "      <td>100119.108</td>\n",
       "    </tr>\n",
       "    <tr>\n",
       "      <th>max_d</th>\n",
       "      <td>4733.0</td>\n",
       "      <td>205.818681</td>\n",
       "      <td>162.263467</td>\n",
       "      <td>0.0</td>\n",
       "      <td>88.019</td>\n",
       "      <td>159.9850</td>\n",
       "      <td>275.62500</td>\n",
       "      <td>599.533</td>\n",
       "    </tr>\n",
       "    <tr>\n",
       "      <th>min_d</th>\n",
       "      <td>4733.0</td>\n",
       "      <td>121.916729</td>\n",
       "      <td>194.930279</td>\n",
       "      <td>0.0</td>\n",
       "      <td>0.000</td>\n",
       "      <td>0.0000</td>\n",
       "      <td>247.45600</td>\n",
       "      <td>599.533</td>\n",
       "    </tr>\n",
       "    <tr>\n",
       "      <th>p1_ip</th>\n",
       "      <td>4733.0</td>\n",
       "      <td>25.790091</td>\n",
       "      <td>67.263351</td>\n",
       "      <td>1.0</td>\n",
       "      <td>1.000</td>\n",
       "      <td>4.0000</td>\n",
       "      <td>16.25000</td>\n",
       "      <td>407.000</td>\n",
       "    </tr>\n",
       "    <tr>\n",
       "      <th>p2_ip</th>\n",
       "      <td>4733.0</td>\n",
       "      <td>28.686351</td>\n",
       "      <td>68.933405</td>\n",
       "      <td>1.0</td>\n",
       "      <td>2.000</td>\n",
       "      <td>7.0000</td>\n",
       "      <td>19.50000</td>\n",
       "      <td>407.000</td>\n",
       "    </tr>\n",
       "    <tr>\n",
       "      <th>p3_ip</th>\n",
       "      <td>4733.0</td>\n",
       "      <td>33.914800</td>\n",
       "      <td>70.675364</td>\n",
       "      <td>1.0</td>\n",
       "      <td>5.000</td>\n",
       "      <td>12.0000</td>\n",
       "      <td>25.00000</td>\n",
       "      <td>407.000</td>\n",
       "    </tr>\n",
       "    <tr>\n",
       "      <th>p1_ib</th>\n",
       "      <td>4733.0</td>\n",
       "      <td>2918.492658</td>\n",
       "      <td>6795.706154</td>\n",
       "      <td>16.0</td>\n",
       "      <td>48.000</td>\n",
       "      <td>180.0000</td>\n",
       "      <td>2612.00000</td>\n",
       "      <td>84119.000</td>\n",
       "    </tr>\n",
       "    <tr>\n",
       "      <th>p2_ib</th>\n",
       "      <td>4733.0</td>\n",
       "      <td>4874.902176</td>\n",
       "      <td>9904.335124</td>\n",
       "      <td>20.0</td>\n",
       "      <td>96.000</td>\n",
       "      <td>548.0000</td>\n",
       "      <td>5421.00000</td>\n",
       "      <td>84119.000</td>\n",
       "    </tr>\n",
       "    <tr>\n",
       "      <th>p3_ib</th>\n",
       "      <td>4733.0</td>\n",
       "      <td>7515.306412</td>\n",
       "      <td>13009.044544</td>\n",
       "      <td>28.5</td>\n",
       "      <td>216.000</td>\n",
       "      <td>2241.7500</td>\n",
       "      <td>9163.50000</td>\n",
       "      <td>84119.000</td>\n",
       "    </tr>\n",
       "  </tbody>\n",
       "</table>\n",
       "</div>"
      ],
      "text/plain": [
       "           count         mean           std   min      25%        50%  \\\n",
       "p1_d      4733.0   133.499145    190.475068   0.0    0.000    13.9345   \n",
       "p2_d      4733.0   148.935284    185.152649   0.0    0.813    58.3345   \n",
       "p3_d      4733.0   169.899109    176.883018   0.0   37.342    96.0300   \n",
       "duration  4733.0  3857.288985   7896.290798   0.0  524.756  1055.2150   \n",
       "max_d     4733.0   205.818681    162.263467   0.0   88.019   159.9850   \n",
       "min_d     4733.0   121.916729    194.930279   0.0    0.000     0.0000   \n",
       "p1_ip     4733.0    25.790091     67.263351   1.0    1.000     4.0000   \n",
       "p2_ip     4733.0    28.686351     68.933405   1.0    2.000     7.0000   \n",
       "p3_ip     4733.0    33.914800     70.675364   1.0    5.000    12.0000   \n",
       "p1_ib     4733.0  2918.492658   6795.706154  16.0   48.000   180.0000   \n",
       "p2_ib     4733.0  4874.902176   9904.335124  20.0   96.000   548.0000   \n",
       "p3_ib     4733.0  7515.306412  13009.044544  28.5  216.000  2241.7500   \n",
       "\n",
       "                 75%         max  \n",
       "p1_d       247.59925     599.533  \n",
       "p2_d       248.31300     599.533  \n",
       "p3_d       251.91275     599.533  \n",
       "duration  3830.02700  100119.108  \n",
       "max_d      275.62500     599.533  \n",
       "min_d      247.45600     599.533  \n",
       "p1_ip       16.25000     407.000  \n",
       "p2_ip       19.50000     407.000  \n",
       "p3_ip       25.00000     407.000  \n",
       "p1_ib     2612.00000   84119.000  \n",
       "p2_ib     5421.00000   84119.000  \n",
       "p3_ib     9163.50000   84119.000  "
      ]
     },
     "execution_count": 290,
     "metadata": {},
     "output_type": "execute_result"
    }
   ],
   "source": [
    "print(colored(f'Variables continuas', attrs=['bold']))\n",
    "data[data_numeric_float].describe().T"
   ]
  },
  {
   "cell_type": "markdown",
   "metadata": {},
   "source": [
    "<font color=\"blue\"><b><h3> Análisis</h3></b> </font>"
   ]
  },
  {
   "cell_type": "markdown",
   "metadata": {},
   "source": [
    "### Datos discretos"
   ]
  },
  {
   "cell_type": "code",
   "execution_count": 292,
   "metadata": {},
   "outputs": [
    {
     "name": "stdout",
     "output_type": "stream",
     "text": [
      "\u001b[1mVariables discretas\u001b[0m\n"
     ]
    },
    {
     "data": {
      "text/html": [
       "<div>\n",
       "<style scoped>\n",
       "    .dataframe tbody tr th:only-of-type {\n",
       "        vertical-align: middle;\n",
       "    }\n",
       "\n",
       "    .dataframe tbody tr th {\n",
       "        vertical-align: top;\n",
       "    }\n",
       "\n",
       "    .dataframe thead th {\n",
       "        text-align: right;\n",
       "    }\n",
       "</style>\n",
       "<table border=\"1\" class=\"dataframe\">\n",
       "  <thead>\n",
       "    <tr style=\"text-align: right;\">\n",
       "      <th></th>\n",
       "      <th>count</th>\n",
       "      <th>mean</th>\n",
       "      <th>std</th>\n",
       "      <th>min</th>\n",
       "      <th>25%</th>\n",
       "      <th>50%</th>\n",
       "      <th>75%</th>\n",
       "      <th>max</th>\n",
       "    </tr>\n",
       "  </thead>\n",
       "  <tbody>\n",
       "    <tr>\n",
       "      <th>Netflows</th>\n",
       "      <td>4733.0</td>\n",
       "      <td>9.824128e+01</td>\n",
       "      <td>1.915744e+02</td>\n",
       "      <td>1.0</td>\n",
       "      <td>2.0</td>\n",
       "      <td>23.0</td>\n",
       "      <td>110.0</td>\n",
       "      <td>3313.0</td>\n",
       "    </tr>\n",
       "    <tr>\n",
       "      <th>#packets</th>\n",
       "      <td>4733.0</td>\n",
       "      <td>2.673519e+03</td>\n",
       "      <td>7.140684e+03</td>\n",
       "      <td>1.0</td>\n",
       "      <td>54.0</td>\n",
       "      <td>332.0</td>\n",
       "      <td>5107.0</td>\n",
       "      <td>198794.0</td>\n",
       "    </tr>\n",
       "    <tr>\n",
       "      <th>Avg_bps</th>\n",
       "      <td>4733.0</td>\n",
       "      <td>8.216193e+04</td>\n",
       "      <td>2.251706e+05</td>\n",
       "      <td>0.0</td>\n",
       "      <td>491.0</td>\n",
       "      <td>1279.0</td>\n",
       "      <td>125428.0</td>\n",
       "      <td>7161568.0</td>\n",
       "    </tr>\n",
       "    <tr>\n",
       "      <th>Avg_pps</th>\n",
       "      <td>4733.0</td>\n",
       "      <td>1.402240e+01</td>\n",
       "      <td>3.577477e+01</td>\n",
       "      <td>0.0</td>\n",
       "      <td>0.0</td>\n",
       "      <td>1.0</td>\n",
       "      <td>19.0</td>\n",
       "      <td>1333.0</td>\n",
       "    </tr>\n",
       "    <tr>\n",
       "      <th>Avg_bpp</th>\n",
       "      <td>4733.0</td>\n",
       "      <td>3.760038e+02</td>\n",
       "      <td>2.990786e+02</td>\n",
       "      <td>0.0</td>\n",
       "      <td>133.0</td>\n",
       "      <td>313.0</td>\n",
       "      <td>634.0</td>\n",
       "      <td>1356.0</td>\n",
       "    </tr>\n",
       "    <tr>\n",
       "      <th>#Bytes</th>\n",
       "      <td>4733.0</td>\n",
       "      <td>2.024831e+06</td>\n",
       "      <td>7.010679e+06</td>\n",
       "      <td>33.0</td>\n",
       "      <td>15504.0</td>\n",
       "      <td>40328.0</td>\n",
       "      <td>4578769.0</td>\n",
       "      <td>261143006.0</td>\n",
       "    </tr>\n",
       "    <tr>\n",
       "      <th>#sp</th>\n",
       "      <td>4733.0</td>\n",
       "      <td>3.677139e+01</td>\n",
       "      <td>6.248541e+01</td>\n",
       "      <td>1.0</td>\n",
       "      <td>2.0</td>\n",
       "      <td>8.0</td>\n",
       "      <td>47.0</td>\n",
       "      <td>745.0</td>\n",
       "    </tr>\n",
       "    <tr>\n",
       "      <th>#dp</th>\n",
       "      <td>4733.0</td>\n",
       "      <td>3.529939e+01</td>\n",
       "      <td>6.154510e+01</td>\n",
       "      <td>1.0</td>\n",
       "      <td>2.0</td>\n",
       "      <td>8.0</td>\n",
       "      <td>43.0</td>\n",
       "      <td>740.0</td>\n",
       "    </tr>\n",
       "    <tr>\n",
       "      <th>first_sp</th>\n",
       "      <td>4733.0</td>\n",
       "      <td>9.954266e+03</td>\n",
       "      <td>1.951551e+04</td>\n",
       "      <td>0.0</td>\n",
       "      <td>443.0</td>\n",
       "      <td>443.0</td>\n",
       "      <td>4444.0</td>\n",
       "      <td>64790.0</td>\n",
       "    </tr>\n",
       "    <tr>\n",
       "      <th>first_dp</th>\n",
       "      <td>4733.0</td>\n",
       "      <td>1.068718e+04</td>\n",
       "      <td>2.016901e+04</td>\n",
       "      <td>53.0</td>\n",
       "      <td>443.0</td>\n",
       "      <td>443.0</td>\n",
       "      <td>4444.0</td>\n",
       "      <td>64790.0</td>\n",
       "    </tr>\n",
       "    <tr>\n",
       "      <th>second_sp</th>\n",
       "      <td>4733.0</td>\n",
       "      <td>2.147362e+04</td>\n",
       "      <td>2.593951e+04</td>\n",
       "      <td>0.0</td>\n",
       "      <td>80.0</td>\n",
       "      <td>3337.0</td>\n",
       "      <td>52698.0</td>\n",
       "      <td>64790.0</td>\n",
       "    </tr>\n",
       "    <tr>\n",
       "      <th>second_dp</th>\n",
       "      <td>4733.0</td>\n",
       "      <td>2.068969e+04</td>\n",
       "      <td>2.560561e+04</td>\n",
       "      <td>53.0</td>\n",
       "      <td>80.0</td>\n",
       "      <td>3337.0</td>\n",
       "      <td>52183.0</td>\n",
       "      <td>64790.0</td>\n",
       "    </tr>\n",
       "    <tr>\n",
       "      <th>third_sp</th>\n",
       "      <td>4733.0</td>\n",
       "      <td>9.298683e+03</td>\n",
       "      <td>1.911698e+04</td>\n",
       "      <td>0.0</td>\n",
       "      <td>123.0</td>\n",
       "      <td>123.0</td>\n",
       "      <td>123.0</td>\n",
       "      <td>65093.0</td>\n",
       "    </tr>\n",
       "    <tr>\n",
       "      <th>third_dp</th>\n",
       "      <td>4733.0</td>\n",
       "      <td>5.293981e+03</td>\n",
       "      <td>1.442190e+04</td>\n",
       "      <td>53.0</td>\n",
       "      <td>123.0</td>\n",
       "      <td>443.0</td>\n",
       "      <td>1900.0</td>\n",
       "      <td>60989.0</td>\n",
       "    </tr>\n",
       "  </tbody>\n",
       "</table>\n",
       "</div>"
      ],
      "text/plain": [
       "            count          mean           std   min      25%      50%  \\\n",
       "Netflows   4733.0  9.824128e+01  1.915744e+02   1.0      2.0     23.0   \n",
       "#packets   4733.0  2.673519e+03  7.140684e+03   1.0     54.0    332.0   \n",
       "Avg_bps    4733.0  8.216193e+04  2.251706e+05   0.0    491.0   1279.0   \n",
       "Avg_pps    4733.0  1.402240e+01  3.577477e+01   0.0      0.0      1.0   \n",
       "Avg_bpp    4733.0  3.760038e+02  2.990786e+02   0.0    133.0    313.0   \n",
       "#Bytes     4733.0  2.024831e+06  7.010679e+06  33.0  15504.0  40328.0   \n",
       "#sp        4733.0  3.677139e+01  6.248541e+01   1.0      2.0      8.0   \n",
       "#dp        4733.0  3.529939e+01  6.154510e+01   1.0      2.0      8.0   \n",
       "first_sp   4733.0  9.954266e+03  1.951551e+04   0.0    443.0    443.0   \n",
       "first_dp   4733.0  1.068718e+04  2.016901e+04  53.0    443.0    443.0   \n",
       "second_sp  4733.0  2.147362e+04  2.593951e+04   0.0     80.0   3337.0   \n",
       "second_dp  4733.0  2.068969e+04  2.560561e+04  53.0     80.0   3337.0   \n",
       "third_sp   4733.0  9.298683e+03  1.911698e+04   0.0    123.0    123.0   \n",
       "third_dp   4733.0  5.293981e+03  1.442190e+04  53.0    123.0    443.0   \n",
       "\n",
       "                 75%          max  \n",
       "Netflows       110.0       3313.0  \n",
       "#packets      5107.0     198794.0  \n",
       "Avg_bps     125428.0    7161568.0  \n",
       "Avg_pps         19.0       1333.0  \n",
       "Avg_bpp        634.0       1356.0  \n",
       "#Bytes     4578769.0  261143006.0  \n",
       "#sp             47.0        745.0  \n",
       "#dp             43.0        740.0  \n",
       "first_sp      4444.0      64790.0  \n",
       "first_dp      4444.0      64790.0  \n",
       "second_sp    52698.0      64790.0  \n",
       "second_dp    52183.0      64790.0  \n",
       "third_sp       123.0      65093.0  \n",
       "third_dp      1900.0      60989.0  "
      ]
     },
     "execution_count": 292,
     "metadata": {},
     "output_type": "execute_result"
    }
   ],
   "source": [
    "print(colored(f'Variables discretas', attrs=['bold']))\n",
    "data[data_numeric_int].describe().T"
   ]
  },
  {
   "cell_type": "markdown",
   "metadata": {},
   "source": [
    "<font color=\"blue\"><b><h3> Análisis</h3></b> </font>"
   ]
  },
  {
   "cell_type": "code",
   "execution_count": 302,
   "metadata": {},
   "outputs": [],
   "source": [
    "data_object_list = data_object\n",
    "tables_frequency_cualitative = []\n",
    "namess = data_object\n",
    "for j, i in enumerate(data_object_list):\n",
    "    tables_frequency_cualitative.append(made_frequency_table_B(i, data,namess[j]))"
   ]
  },
  {
   "cell_type": "code",
   "execution_count": 303,
   "metadata": {},
   "outputs": [
    {
     "name": "stdout",
     "output_type": "stream",
     "text": [
      "\u001b[1mTabla de frecuencia First_Protocol\u001b[0m\n"
     ]
    },
    {
     "data": {
      "text/html": [
       "<div>\n",
       "<style scoped>\n",
       "    .dataframe tbody tr th:only-of-type {\n",
       "        vertical-align: middle;\n",
       "    }\n",
       "\n",
       "    .dataframe tbody tr th {\n",
       "        vertical-align: top;\n",
       "    }\n",
       "\n",
       "    .dataframe thead th {\n",
       "        text-align: right;\n",
       "    }\n",
       "</style>\n",
       "<table border=\"1\" class=\"dataframe\">\n",
       "  <thead>\n",
       "    <tr style=\"text-align: right;\">\n",
       "      <th></th>\n",
       "      <th>First_Protocol</th>\n",
       "      <th>ni</th>\n",
       "      <th>fi</th>\n",
       "      <th>Ni</th>\n",
       "      <th>Fi</th>\n",
       "    </tr>\n",
       "  </thead>\n",
       "  <tbody>\n",
       "    <tr>\n",
       "      <th>0</th>\n",
       "      <td>TCP</td>\n",
       "      <td>4227</td>\n",
       "      <td>0.89309</td>\n",
       "      <td>4227</td>\n",
       "      <td>0.89309</td>\n",
       "    </tr>\n",
       "    <tr>\n",
       "      <th>1</th>\n",
       "      <td>UDP</td>\n",
       "      <td>504</td>\n",
       "      <td>0.10649</td>\n",
       "      <td>4731</td>\n",
       "      <td>0.99958</td>\n",
       "    </tr>\n",
       "    <tr>\n",
       "      <th>2</th>\n",
       "      <td>ICMP</td>\n",
       "      <td>1</td>\n",
       "      <td>0.00021</td>\n",
       "      <td>4732</td>\n",
       "      <td>0.99979</td>\n",
       "    </tr>\n",
       "    <tr>\n",
       "      <th>3</th>\n",
       "      <td>ICMP6</td>\n",
       "      <td>1</td>\n",
       "      <td>0.00021</td>\n",
       "      <td>4733</td>\n",
       "      <td>1</td>\n",
       "    </tr>\n",
       "    <tr>\n",
       "      <th>5</th>\n",
       "      <td>Total</td>\n",
       "      <td>4733</td>\n",
       "      <td></td>\n",
       "      <td></td>\n",
       "      <td></td>\n",
       "    </tr>\n",
       "  </tbody>\n",
       "</table>\n",
       "</div>"
      ],
      "text/plain": [
       "  First_Protocol    ni       fi    Ni       Fi\n",
       "0            TCP  4227  0.89309  4227  0.89309\n",
       "1            UDP   504  0.10649  4731  0.99958\n",
       "2           ICMP     1  0.00021  4732  0.99979\n",
       "3          ICMP6     1  0.00021  4733        1\n",
       "5          Total  4733                        "
      ]
     },
     "metadata": {},
     "output_type": "display_data"
    },
    {
     "data": {
      "image/png": "[encoded data removed]",
      "text/plain": [
       "<Figure size 864x360 with 1 Axes>"
      ]
     },
     "metadata": {
      "needs_background": "light"
     },
     "output_type": "display_data"
    },
    {
     "name": "stdout",
     "output_type": "stream",
     "text": [
      "TCP      4227\n",
      "UDP       504\n",
      "ICMP6       1\n",
      "ICMP        1\n",
      "Name: First_Protocol, dtype: int64\n",
      "\u001b[1mEl protocolo con mas observaciones (Moda) en el conjunto de datos es el TCP con 4227 registros.\u001b[0m\n"
     ]
    }
   ],
   "source": [
    "print(colored(f'Tabla de frecuencia {namess[0]}',attrs=['bold']))\n",
    "table_f = pd.DataFrame(tables_frequency_cualitative[0])\n",
    "display(table_f)\n",
    "bar_plot(data_object_list[0],namess[0])\n",
    "v = data[data_object_list[0]].value_counts()\n",
    "\n",
    "print(v)\n",
    "print(colored(f'El protocolo con mas observaciones (Moda) en el conjunto de datos es el {v.index[0]} con {v[0]} registros.',attrs=['bold']))"
   ]
  },
  {
   "cell_type": "code",
   "execution_count": 305,
   "metadata": {
    "scrolled": true
   },
   "outputs": [
    {
     "name": "stdout",
     "output_type": "stream",
     "text": [
      "\u001b[1mTabla de frecuencia Type\u001b[0m\n"
     ]
    },
    {
     "data": {
      "text/html": [
       "<div>\n",
       "<style scoped>\n",
       "    .dataframe tbody tr th:only-of-type {\n",
       "        vertical-align: middle;\n",
       "    }\n",
       "\n",
       "    .dataframe tbody tr th {\n",
       "        vertical-align: top;\n",
       "    }\n",
       "\n",
       "    .dataframe thead th {\n",
       "        text-align: right;\n",
       "    }\n",
       "</style>\n",
       "<table border=\"1\" class=\"dataframe\">\n",
       "  <thead>\n",
       "    <tr style=\"text-align: right;\">\n",
       "      <th></th>\n",
       "      <th>Type</th>\n",
       "      <th>ni</th>\n",
       "      <th>fi</th>\n",
       "      <th>Ni</th>\n",
       "      <th>Fi</th>\n",
       "    </tr>\n",
       "  </thead>\n",
       "  <tbody>\n",
       "    <tr>\n",
       "      <th>0</th>\n",
       "      <td>mine</td>\n",
       "      <td>2501</td>\n",
       "      <td>0.52842</td>\n",
       "      <td>2501</td>\n",
       "      <td>0.52842</td>\n",
       "    </tr>\n",
       "    <tr>\n",
       "      <th>1</th>\n",
       "      <td>not_mine</td>\n",
       "      <td>2232</td>\n",
       "      <td>0.47158</td>\n",
       "      <td>4733</td>\n",
       "      <td>1</td>\n",
       "    </tr>\n",
       "    <tr>\n",
       "      <th>3</th>\n",
       "      <td>Total</td>\n",
       "      <td>4733</td>\n",
       "      <td></td>\n",
       "      <td></td>\n",
       "      <td></td>\n",
       "    </tr>\n",
       "  </tbody>\n",
       "</table>\n",
       "</div>"
      ],
      "text/plain": [
       "       Type    ni       fi    Ni       Fi\n",
       "0      mine  2501  0.52842  2501  0.52842\n",
       "1  not_mine  2232  0.47158  4733        1\n",
       "3     Total  4733                        "
      ]
     },
     "metadata": {},
     "output_type": "display_data"
    },
    {
     "data": {
      "image/png": "[encoded data removed]",
      "text/plain": [
       "<Figure size 864x360 with 1 Axes>"
      ]
     },
     "metadata": {
      "needs_background": "light"
     },
     "output_type": "display_data"
    },
    {
     "name": "stdout",
     "output_type": "stream",
     "text": [
      "not_mine    2501\n",
      "mine        2232\n",
      "Name: Type, dtype: int64\n",
      "\u001b[1mEl trafico con mas observaciones (Moda) en el conjunto de datos es el not_mine con 2501 registros.\u001b[0m\n"
     ]
    }
   ],
   "source": [
    "print(colored(f'Tabla de frecuencia {namess[1]}',attrs=['bold']))\n",
    "table_f = pd.DataFrame(tables_frequency_cualitative[1])\n",
    "display(table_f)\n",
    "bar_plot(data_object_list[1],namess[1])\n",
    "v = data[data_object_list[1]].value_counts()\n",
    "print(v)\n",
    "print(colored(f'El trafico con mas observaciones (Moda) en el conjunto de datos es el {v.index[0]} con {v[0]} registros.',attrs=['bold']))"
   ]
  },
  {
   "cell_type": "code",
   "execution_count": 309,
   "metadata": {},
   "outputs": [
    {
     "name": "stdout",
     "output_type": "stream",
     "text": [
      "\u001b[1mTabla de frecuencia Cryptocurrency\u001b[0m\n"
     ]
    },
    {
     "data": {
      "text/html": [
       "<div>\n",
       "<style scoped>\n",
       "    .dataframe tbody tr th:only-of-type {\n",
       "        vertical-align: middle;\n",
       "    }\n",
       "\n",
       "    .dataframe tbody tr th {\n",
       "        vertical-align: top;\n",
       "    }\n",
       "\n",
       "    .dataframe thead th {\n",
       "        text-align: right;\n",
       "    }\n",
       "</style>\n",
       "<table border=\"1\" class=\"dataframe\">\n",
       "  <thead>\n",
       "    <tr style=\"text-align: right;\">\n",
       "      <th></th>\n",
       "      <th>Cryptocurrency</th>\n",
       "      <th>ni</th>\n",
       "      <th>fi</th>\n",
       "      <th>Ni</th>\n",
       "      <th>Fi</th>\n",
       "    </tr>\n",
       "  </thead>\n",
       "  <tbody>\n",
       "    <tr>\n",
       "      <th>0</th>\n",
       "      <td>Bitcoin</td>\n",
       "      <td>2501</td>\n",
       "      <td>0.52842</td>\n",
       "      <td>2501</td>\n",
       "      <td>0.52842</td>\n",
       "    </tr>\n",
       "    <tr>\n",
       "      <th>1</th>\n",
       "      <td>Monero</td>\n",
       "      <td>959</td>\n",
       "      <td>0.20262</td>\n",
       "      <td>3460</td>\n",
       "      <td>0.73104</td>\n",
       "    </tr>\n",
       "    <tr>\n",
       "      <th>2</th>\n",
       "      <td>Does_not_have</td>\n",
       "      <td>485</td>\n",
       "      <td>0.10247</td>\n",
       "      <td>3945</td>\n",
       "      <td>0.83351</td>\n",
       "    </tr>\n",
       "    <tr>\n",
       "      <th>3</th>\n",
       "      <td>Bitcash</td>\n",
       "      <td>349</td>\n",
       "      <td>0.07374</td>\n",
       "      <td>4294</td>\n",
       "      <td>0.90725</td>\n",
       "    </tr>\n",
       "    <tr>\n",
       "      <th>4</th>\n",
       "      <td>Etherium</td>\n",
       "      <td>247</td>\n",
       "      <td>0.05219</td>\n",
       "      <td>4541</td>\n",
       "      <td>0.95944</td>\n",
       "    </tr>\n",
       "    <tr>\n",
       "      <th>5</th>\n",
       "      <td>Litecoin</td>\n",
       "      <td>192</td>\n",
       "      <td>0.04057</td>\n",
       "      <td>4733</td>\n",
       "      <td>1.00001</td>\n",
       "    </tr>\n",
       "    <tr>\n",
       "      <th>7</th>\n",
       "      <td>Total</td>\n",
       "      <td>4733</td>\n",
       "      <td></td>\n",
       "      <td></td>\n",
       "      <td></td>\n",
       "    </tr>\n",
       "  </tbody>\n",
       "</table>\n",
       "</div>"
      ],
      "text/plain": [
       "  Cryptocurrency    ni       fi    Ni       Fi\n",
       "0        Bitcoin  2501  0.52842  2501  0.52842\n",
       "1         Monero   959  0.20262  3460  0.73104\n",
       "2  Does_not_have   485  0.10247  3945  0.83351\n",
       "3        Bitcash   349  0.07374  4294  0.90725\n",
       "4       Etherium   247  0.05219  4541  0.95944\n",
       "5       Litecoin   192  0.04057  4733  1.00001\n",
       "7          Total  4733                        "
      ]
     },
     "metadata": {},
     "output_type": "display_data"
    },
    {
     "data": {
      "image/png": "[encoded data removed]",
      "text/plain": [
       "<Figure size 864x360 with 1 Axes>"
      ]
     },
     "metadata": {
      "needs_background": "light"
     },
     "output_type": "display_data"
    },
    {
     "name": "stdout",
     "output_type": "stream",
     "text": [
      "Does_not_have    2501\n",
      "Etherium          959\n",
      "Bitcash           485\n",
      "Litecoin          349\n",
      "Bitcoin           247\n",
      "Monero            192\n",
      "Name: Cryptocurrency, dtype: int64\n",
      "\u001b[1mLa criptomoneda con mas observaciones (Moda) en el conjunto de datos es el Does_not_have con 2501 registros.\u001b[0m\n"
     ]
    }
   ],
   "source": [
    "print(colored(f'Tabla de frecuencia {namess[2]}',attrs=['bold']))\n",
    "table_f = pd.DataFrame(tables_frequency_cualitative[2])\n",
    "display(table_f)\n",
    "bar_plot(data_object_list[2],namess[2])\n",
    "v = data[data_object_list[2]].value_counts()\n",
    "print(v)\n",
    "print(colored(f'La criptomoneda con mas observaciones (Moda) en el conjunto de datos es el {v.index[0]} con {v[0]} registros.',attrs=['bold']))"
   ]
  },
  {
   "cell_type": "markdown",
   "metadata": {},
   "source": [
    "### Datos continuos"
   ]
  },
  {
   "cell_type": "code",
   "execution_count": 310,
   "metadata": {},
   "outputs": [],
   "source": [
    "data_numeric_float_list = data_numeric_float\n",
    "name_f = data_numeric_float\n",
    "tables_frequency_fl = []\n",
    "for j, i in enumerate(data_numeric_float_list):\n",
    "    tables_frequency_fl.append(made_frequency_table_A(i, data,1, name_f[j]))"
   ]
  },
  {
   "cell_type": "code",
   "execution_count": 311,
   "metadata": {},
   "outputs": [
    {
     "data": {
      "text/plain": [
       "12"
      ]
     },
     "execution_count": 311,
     "metadata": {},
     "output_type": "execute_result"
    }
   ],
   "source": [
    "m = intervals_class(data.shape[0])\n",
    "m = int(np.rint(np.min(m)))\n",
    "m"
   ]
  },
  {
   "cell_type": "code",
   "execution_count": 312,
   "metadata": {},
   "outputs": [
    {
     "name": "stdout",
     "output_type": "stream",
     "text": [
      "\u001b[1mTabla de frecuencia de p1_d\u001b[0m\n"
     ]
    },
    {
     "data": {
      "text/html": [
       "<div>\n",
       "<style scoped>\n",
       "    .dataframe tbody tr th:only-of-type {\n",
       "        vertical-align: middle;\n",
       "    }\n",
       "\n",
       "    .dataframe tbody tr th {\n",
       "        vertical-align: top;\n",
       "    }\n",
       "\n",
       "    .dataframe thead th {\n",
       "        text-align: right;\n",
       "    }\n",
       "</style>\n",
       "<table border=\"1\" class=\"dataframe\">\n",
       "  <thead>\n",
       "    <tr style=\"text-align: right;\">\n",
       "      <th></th>\n",
       "      <th>p1_d</th>\n",
       "      <th>ni</th>\n",
       "      <th>fi</th>\n",
       "      <th>Ni</th>\n",
       "      <th>Fi</th>\n",
       "      <th>Xí</th>\n",
       "    </tr>\n",
       "  </thead>\n",
       "  <tbody>\n",
       "    <tr>\n",
       "      <th>0</th>\n",
       "      <td>(0.0, 49.96108)</td>\n",
       "      <td>2771</td>\n",
       "      <td>0.585464</td>\n",
       "      <td>2771</td>\n",
       "      <td>0.585464</td>\n",
       "      <td>24.9805</td>\n",
       "    </tr>\n",
       "    <tr>\n",
       "      <th>1</th>\n",
       "      <td>(49.96108, 99.92216)</td>\n",
       "      <td>301</td>\n",
       "      <td>0.063596</td>\n",
       "      <td>3072</td>\n",
       "      <td>0.64906</td>\n",
       "      <td>74.9416</td>\n",
       "    </tr>\n",
       "    <tr>\n",
       "      <th>2</th>\n",
       "      <td>(99.92216, 149.88324)</td>\n",
       "      <td>138</td>\n",
       "      <td>0.029157</td>\n",
       "      <td>3210</td>\n",
       "      <td>0.678217</td>\n",
       "      <td>124.903</td>\n",
       "    </tr>\n",
       "    <tr>\n",
       "      <th>3</th>\n",
       "      <td>(149.88324, 199.84432)</td>\n",
       "      <td>95</td>\n",
       "      <td>0.0200718</td>\n",
       "      <td>3305</td>\n",
       "      <td>0.698289</td>\n",
       "      <td>174.864</td>\n",
       "    </tr>\n",
       "    <tr>\n",
       "      <th>4</th>\n",
       "      <td>(199.84432, 249.8054)</td>\n",
       "      <td>262</td>\n",
       "      <td>0.055356</td>\n",
       "      <td>3567</td>\n",
       "      <td>0.753645</td>\n",
       "      <td>224.825</td>\n",
       "    </tr>\n",
       "    <tr>\n",
       "      <th>5</th>\n",
       "      <td>(249.8054, 299.76648)</td>\n",
       "      <td>441</td>\n",
       "      <td>0.0931756</td>\n",
       "      <td>4008</td>\n",
       "      <td>0.84682</td>\n",
       "      <td>274.786</td>\n",
       "    </tr>\n",
       "    <tr>\n",
       "      <th>6</th>\n",
       "      <td>(299.76648, 349.72756)</td>\n",
       "      <td>61</td>\n",
       "      <td>0.0128882</td>\n",
       "      <td>4069</td>\n",
       "      <td>0.859708</td>\n",
       "      <td>324.747</td>\n",
       "    </tr>\n",
       "    <tr>\n",
       "      <th>7</th>\n",
       "      <td>(349.72756, 399.68864)</td>\n",
       "      <td>41</td>\n",
       "      <td>0.00866258</td>\n",
       "      <td>4110</td>\n",
       "      <td>0.868371</td>\n",
       "      <td>374.708</td>\n",
       "    </tr>\n",
       "    <tr>\n",
       "      <th>8</th>\n",
       "      <td>(399.68864, 449.64972)</td>\n",
       "      <td>36</td>\n",
       "      <td>0.00760617</td>\n",
       "      <td>4146</td>\n",
       "      <td>0.875977</td>\n",
       "      <td>424.669</td>\n",
       "    </tr>\n",
       "    <tr>\n",
       "      <th>9</th>\n",
       "      <td>(449.64972, 499.6108)</td>\n",
       "      <td>38</td>\n",
       "      <td>0.00802873</td>\n",
       "      <td>4184</td>\n",
       "      <td>0.884006</td>\n",
       "      <td>474.63</td>\n",
       "    </tr>\n",
       "    <tr>\n",
       "      <th>10</th>\n",
       "      <td>(499.6108, 549.57188)</td>\n",
       "      <td>201</td>\n",
       "      <td>0.0424678</td>\n",
       "      <td>4385</td>\n",
       "      <td>0.926474</td>\n",
       "      <td>524.591</td>\n",
       "    </tr>\n",
       "    <tr>\n",
       "      <th>11</th>\n",
       "      <td>(549.57188, 599.533)</td>\n",
       "      <td>348</td>\n",
       "      <td>0.0735263</td>\n",
       "      <td>4733</td>\n",
       "      <td>1</td>\n",
       "      <td>574.552</td>\n",
       "    </tr>\n",
       "    <tr>\n",
       "      <th>12</th>\n",
       "      <td>Total</td>\n",
       "      <td>4733</td>\n",
       "      <td></td>\n",
       "      <td></td>\n",
       "      <td></td>\n",
       "      <td></td>\n",
       "    </tr>\n",
       "  </tbody>\n",
       "</table>\n",
       "</div>"
      ],
      "text/plain": [
       "                      p1_d    ni          fi    Ni        Fi       Xí\n",
       "0          (0.0, 49.96108)  2771    0.585464  2771  0.585464  24.9805\n",
       "1     (49.96108, 99.92216)   301    0.063596  3072   0.64906  74.9416\n",
       "2    (99.92216, 149.88324)   138    0.029157  3210  0.678217  124.903\n",
       "3   (149.88324, 199.84432)    95   0.0200718  3305  0.698289  174.864\n",
       "4    (199.84432, 249.8054)   262    0.055356  3567  0.753645  224.825\n",
       "5    (249.8054, 299.76648)   441   0.0931756  4008   0.84682  274.786\n",
       "6   (299.76648, 349.72756)    61   0.0128882  4069  0.859708  324.747\n",
       "7   (349.72756, 399.68864)    41  0.00866258  4110  0.868371  374.708\n",
       "8   (399.68864, 449.64972)    36  0.00760617  4146  0.875977  424.669\n",
       "9    (449.64972, 499.6108)    38  0.00802873  4184  0.884006   474.63\n",
       "10   (499.6108, 549.57188)   201   0.0424678  4385  0.926474  524.591\n",
       "11    (549.57188, 599.533)   348   0.0735263  4733         1  574.552\n",
       "12                   Total  4733                                     "
      ]
     },
     "metadata": {},
     "output_type": "display_data"
    },
    {
     "name": "stdout",
     "output_type": "stream",
     "text": [
      "\u001b[1mEl coeficiente de asimetria es de 1.297105093652016, la distribución es Asimetrica con cola hacia la derecha.\u001b[0m\n",
      "\u001b[1mEl coeficiente de curtosis es de 0.327064864073364, la distribución es Platicúrtica.\u001b[0m\n"
     ]
    },
    {
     "data": {
      "image/png": "[encoded data removed]",
      "text/plain": [
       "<Figure size 864x360 with 2 Axes>"
      ]
     },
     "metadata": {
      "needs_background": "light"
     },
     "output_type": "display_data"
    }
   ],
   "source": [
    "print(colored(f'Tabla de frecuencia de {name_f[0]}',attrs=['bold']))\n",
    "table_f = pd.DataFrame(tables_frequency_fl[0])\n",
    "display(table_f)\n",
    "hist_Ogive_plot(data_numeric_float_list[0],m,name_f[0])\n",
    "fila = data[data_numeric_float_list[0]]\n",
    "asimetria, curtosis, message, message_2 = is_asimetric_curtosis(fila)\n",
    "print(colored(f'El coeficiente de asimetria es de {asimetria}, la distribución es {message}.',attrs=['bold']))\n",
    "print(colored(f'El coeficiente de curtosis es de {curtosis}, la distribución es {message_2}.',attrs=['bold']))"
   ]
  },
  {
   "cell_type": "code",
   "execution_count": 314,
   "metadata": {},
   "outputs": [
    {
     "name": "stdout",
     "output_type": "stream",
     "text": [
      "\u001b[1mTabla de frecuencia de p2_d\u001b[0m\n"
     ]
    },
    {
     "data": {
      "text/html": [
       "<div>\n",
       "<style scoped>\n",
       "    .dataframe tbody tr th:only-of-type {\n",
       "        vertical-align: middle;\n",
       "    }\n",
       "\n",
       "    .dataframe tbody tr th {\n",
       "        vertical-align: top;\n",
       "    }\n",
       "\n",
       "    .dataframe thead th {\n",
       "        text-align: right;\n",
       "    }\n",
       "</style>\n",
       "<table border=\"1\" class=\"dataframe\">\n",
       "  <thead>\n",
       "    <tr style=\"text-align: right;\">\n",
       "      <th></th>\n",
       "      <th>p2_d</th>\n",
       "      <th>ni</th>\n",
       "      <th>fi</th>\n",
       "      <th>Ni</th>\n",
       "      <th>Fi</th>\n",
       "      <th>Xí</th>\n",
       "    </tr>\n",
       "  </thead>\n",
       "  <tbody>\n",
       "    <tr>\n",
       "      <th>0</th>\n",
       "      <td>(0.0, 49.96108)</td>\n",
       "      <td>2283</td>\n",
       "      <td>0.482358</td>\n",
       "      <td>2283</td>\n",
       "      <td>0.482358</td>\n",
       "      <td>24.9805</td>\n",
       "    </tr>\n",
       "    <tr>\n",
       "      <th>1</th>\n",
       "      <td>(49.96108, 99.92216)</td>\n",
       "      <td>463</td>\n",
       "      <td>0.0978238</td>\n",
       "      <td>2746</td>\n",
       "      <td>0.580182</td>\n",
       "      <td>74.9416</td>\n",
       "    </tr>\n",
       "    <tr>\n",
       "      <th>2</th>\n",
       "      <td>(99.92216, 149.88324)</td>\n",
       "      <td>303</td>\n",
       "      <td>0.0640186</td>\n",
       "      <td>3049</td>\n",
       "      <td>0.6442</td>\n",
       "      <td>124.903</td>\n",
       "    </tr>\n",
       "    <tr>\n",
       "      <th>3</th>\n",
       "      <td>(149.88324, 199.84432)</td>\n",
       "      <td>192</td>\n",
       "      <td>0.0405662</td>\n",
       "      <td>3241</td>\n",
       "      <td>0.684767</td>\n",
       "      <td>174.864</td>\n",
       "    </tr>\n",
       "    <tr>\n",
       "      <th>4</th>\n",
       "      <td>(199.84432, 249.8054)</td>\n",
       "      <td>323</td>\n",
       "      <td>0.0682442</td>\n",
       "      <td>3564</td>\n",
       "      <td>0.753011</td>\n",
       "      <td>224.825</td>\n",
       "    </tr>\n",
       "    <tr>\n",
       "      <th>5</th>\n",
       "      <td>(249.8054, 299.76648)</td>\n",
       "      <td>444</td>\n",
       "      <td>0.0938094</td>\n",
       "      <td>4008</td>\n",
       "      <td>0.84682</td>\n",
       "      <td>274.786</td>\n",
       "    </tr>\n",
       "    <tr>\n",
       "      <th>6</th>\n",
       "      <td>(299.76648, 349.72756)</td>\n",
       "      <td>56</td>\n",
       "      <td>0.0118318</td>\n",
       "      <td>4064</td>\n",
       "      <td>0.858652</td>\n",
       "      <td>324.747</td>\n",
       "    </tr>\n",
       "    <tr>\n",
       "      <th>7</th>\n",
       "      <td>(349.72756, 399.68864)</td>\n",
       "      <td>39</td>\n",
       "      <td>0.00824002</td>\n",
       "      <td>4103</td>\n",
       "      <td>0.866892</td>\n",
       "      <td>374.708</td>\n",
       "    </tr>\n",
       "    <tr>\n",
       "      <th>8</th>\n",
       "      <td>(399.68864, 449.64972)</td>\n",
       "      <td>41</td>\n",
       "      <td>0.00866258</td>\n",
       "      <td>4144</td>\n",
       "      <td>0.875555</td>\n",
       "      <td>424.669</td>\n",
       "    </tr>\n",
       "    <tr>\n",
       "      <th>9</th>\n",
       "      <td>(449.64972, 499.6108)</td>\n",
       "      <td>38</td>\n",
       "      <td>0.00802873</td>\n",
       "      <td>4182</td>\n",
       "      <td>0.883583</td>\n",
       "      <td>474.63</td>\n",
       "    </tr>\n",
       "    <tr>\n",
       "      <th>10</th>\n",
       "      <td>(499.6108, 549.57188)</td>\n",
       "      <td>203</td>\n",
       "      <td>0.0428903</td>\n",
       "      <td>4385</td>\n",
       "      <td>0.926474</td>\n",
       "      <td>524.591</td>\n",
       "    </tr>\n",
       "    <tr>\n",
       "      <th>11</th>\n",
       "      <td>(549.57188, 599.533)</td>\n",
       "      <td>348</td>\n",
       "      <td>0.0735263</td>\n",
       "      <td>4733</td>\n",
       "      <td>1</td>\n",
       "      <td>574.552</td>\n",
       "    </tr>\n",
       "    <tr>\n",
       "      <th>12</th>\n",
       "      <td>Total</td>\n",
       "      <td>4733</td>\n",
       "      <td></td>\n",
       "      <td></td>\n",
       "      <td></td>\n",
       "      <td></td>\n",
       "    </tr>\n",
       "  </tbody>\n",
       "</table>\n",
       "</div>"
      ],
      "text/plain": [
       "                      p2_d    ni          fi    Ni        Fi       Xí\n",
       "0          (0.0, 49.96108)  2283    0.482358  2283  0.482358  24.9805\n",
       "1     (49.96108, 99.92216)   463   0.0978238  2746  0.580182  74.9416\n",
       "2    (99.92216, 149.88324)   303   0.0640186  3049    0.6442  124.903\n",
       "3   (149.88324, 199.84432)   192   0.0405662  3241  0.684767  174.864\n",
       "4    (199.84432, 249.8054)   323   0.0682442  3564  0.753011  224.825\n",
       "5    (249.8054, 299.76648)   444   0.0938094  4008   0.84682  274.786\n",
       "6   (299.76648, 349.72756)    56   0.0118318  4064  0.858652  324.747\n",
       "7   (349.72756, 399.68864)    39  0.00824002  4103  0.866892  374.708\n",
       "8   (399.68864, 449.64972)    41  0.00866258  4144  0.875555  424.669\n",
       "9    (449.64972, 499.6108)    38  0.00802873  4182  0.883583   474.63\n",
       "10   (499.6108, 549.57188)   203   0.0428903  4385  0.926474  524.591\n",
       "11    (549.57188, 599.533)   348   0.0735263  4733         1  574.552\n",
       "12                   Total  4733                                     "
      ]
     },
     "metadata": {},
     "output_type": "display_data"
    },
    {
     "name": "stdout",
     "output_type": "stream",
     "text": [
      "\u001b[1mEl coeficiente de asimetria es de 1.2185633101307183, la distribución es Asimetrica con cola hacia la derecha.\u001b[0m\n",
      "\u001b[1mEl coeficiente de curtosis es de 0.25708224343573205, la distribución es Platicúrtica.\u001b[0m\n"
     ]
    },
    {
     "data": {
      "image/png": "[encoded data removed]",
      "text/plain": [
       "<Figure size 864x360 with 2 Axes>"
      ]
     },
     "metadata": {
      "needs_background": "light"
     },
     "output_type": "display_data"
    }
   ],
   "source": [
    "u = 1\n",
    "print(colored(f'Tabla de frecuencia de {name_f[u]}',attrs=['bold']))\n",
    "table_f = pd.DataFrame(tables_frequency_fl[u])\n",
    "display(table_f)\n",
    "hist_Ogive_plot(data_numeric_float_list[u],m,name_f[u])\n",
    "fila = data[data_numeric_float_list[u]]\n",
    "asimetria, curtosis, message, message_2 = is_asimetric_curtosis(fila)\n",
    "print(colored(f'El coeficiente de asimetria es de {asimetria}, la distribución es {message}.',attrs=['bold']))\n",
    "print(colored(f'El coeficiente de curtosis es de {curtosis}, la distribución es {message_2}.',attrs=['bold']))"
   ]
  },
  {
   "cell_type": "code",
   "execution_count": 315,
   "metadata": {},
   "outputs": [
    {
     "name": "stdout",
     "output_type": "stream",
     "text": [
      "\u001b[1mTabla de frecuencia de p3_d\u001b[0m\n"
     ]
    },
    {
     "data": {
      "text/html": [
       "<div>\n",
       "<style scoped>\n",
       "    .dataframe tbody tr th:only-of-type {\n",
       "        vertical-align: middle;\n",
       "    }\n",
       "\n",
       "    .dataframe tbody tr th {\n",
       "        vertical-align: top;\n",
       "    }\n",
       "\n",
       "    .dataframe thead th {\n",
       "        text-align: right;\n",
       "    }\n",
       "</style>\n",
       "<table border=\"1\" class=\"dataframe\">\n",
       "  <thead>\n",
       "    <tr style=\"text-align: right;\">\n",
       "      <th></th>\n",
       "      <th>p3_d</th>\n",
       "      <th>ni</th>\n",
       "      <th>fi</th>\n",
       "      <th>Ni</th>\n",
       "      <th>Fi</th>\n",
       "      <th>Xí</th>\n",
       "    </tr>\n",
       "  </thead>\n",
       "  <tbody>\n",
       "    <tr>\n",
       "      <th>0</th>\n",
       "      <td>(0.0, 49.96108)</td>\n",
       "      <td>1692</td>\n",
       "      <td>0.35749</td>\n",
       "      <td>1692</td>\n",
       "      <td>0.35749</td>\n",
       "      <td>24.9805</td>\n",
       "    </tr>\n",
       "    <tr>\n",
       "      <th>1</th>\n",
       "      <td>(49.96108, 99.92216)</td>\n",
       "      <td>688</td>\n",
       "      <td>0.145362</td>\n",
       "      <td>2380</td>\n",
       "      <td>0.502852</td>\n",
       "      <td>74.9416</td>\n",
       "    </tr>\n",
       "    <tr>\n",
       "      <th>2</th>\n",
       "      <td>(99.92216, 149.88324)</td>\n",
       "      <td>447</td>\n",
       "      <td>0.0944433</td>\n",
       "      <td>2827</td>\n",
       "      <td>0.597296</td>\n",
       "      <td>124.903</td>\n",
       "    </tr>\n",
       "    <tr>\n",
       "      <th>3</th>\n",
       "      <td>(149.88324, 199.84432)</td>\n",
       "      <td>233</td>\n",
       "      <td>0.0492288</td>\n",
       "      <td>3060</td>\n",
       "      <td>0.646524</td>\n",
       "      <td>174.864</td>\n",
       "    </tr>\n",
       "    <tr>\n",
       "      <th>4</th>\n",
       "      <td>(199.84432, 249.8054)</td>\n",
       "      <td>473</td>\n",
       "      <td>0.0999366</td>\n",
       "      <td>3533</td>\n",
       "      <td>0.746461</td>\n",
       "      <td>224.825</td>\n",
       "    </tr>\n",
       "    <tr>\n",
       "      <th>5</th>\n",
       "      <td>(249.8054, 299.76648)</td>\n",
       "      <td>471</td>\n",
       "      <td>0.0995141</td>\n",
       "      <td>4004</td>\n",
       "      <td>0.845975</td>\n",
       "      <td>274.786</td>\n",
       "    </tr>\n",
       "    <tr>\n",
       "      <th>6</th>\n",
       "      <td>(299.76648, 349.72756)</td>\n",
       "      <td>57</td>\n",
       "      <td>0.0120431</td>\n",
       "      <td>4061</td>\n",
       "      <td>0.858018</td>\n",
       "      <td>324.747</td>\n",
       "    </tr>\n",
       "    <tr>\n",
       "      <th>7</th>\n",
       "      <td>(349.72756, 399.68864)</td>\n",
       "      <td>40</td>\n",
       "      <td>0.0084513</td>\n",
       "      <td>4101</td>\n",
       "      <td>0.866469</td>\n",
       "      <td>374.708</td>\n",
       "    </tr>\n",
       "    <tr>\n",
       "      <th>8</th>\n",
       "      <td>(399.68864, 449.64972)</td>\n",
       "      <td>34</td>\n",
       "      <td>0.0071836</td>\n",
       "      <td>4135</td>\n",
       "      <td>0.873653</td>\n",
       "      <td>424.669</td>\n",
       "    </tr>\n",
       "    <tr>\n",
       "      <th>9</th>\n",
       "      <td>(449.64972, 499.6108)</td>\n",
       "      <td>43</td>\n",
       "      <td>0.00908515</td>\n",
       "      <td>4178</td>\n",
       "      <td>0.882738</td>\n",
       "      <td>474.63</td>\n",
       "    </tr>\n",
       "    <tr>\n",
       "      <th>10</th>\n",
       "      <td>(499.6108, 549.57188)</td>\n",
       "      <td>207</td>\n",
       "      <td>0.0437355</td>\n",
       "      <td>4385</td>\n",
       "      <td>0.926474</td>\n",
       "      <td>524.591</td>\n",
       "    </tr>\n",
       "    <tr>\n",
       "      <th>11</th>\n",
       "      <td>(549.57188, 599.533)</td>\n",
       "      <td>348</td>\n",
       "      <td>0.0735263</td>\n",
       "      <td>4733</td>\n",
       "      <td>1</td>\n",
       "      <td>574.552</td>\n",
       "    </tr>\n",
       "    <tr>\n",
       "      <th>12</th>\n",
       "      <td>Total</td>\n",
       "      <td>4733</td>\n",
       "      <td></td>\n",
       "      <td></td>\n",
       "      <td></td>\n",
       "      <td></td>\n",
       "    </tr>\n",
       "  </tbody>\n",
       "</table>\n",
       "</div>"
      ],
      "text/plain": [
       "                      p3_d    ni          fi    Ni        Fi       Xí\n",
       "0          (0.0, 49.96108)  1692     0.35749  1692   0.35749  24.9805\n",
       "1     (49.96108, 99.92216)   688    0.145362  2380  0.502852  74.9416\n",
       "2    (99.92216, 149.88324)   447   0.0944433  2827  0.597296  124.903\n",
       "3   (149.88324, 199.84432)   233   0.0492288  3060  0.646524  174.864\n",
       "4    (199.84432, 249.8054)   473   0.0999366  3533  0.746461  224.825\n",
       "5    (249.8054, 299.76648)   471   0.0995141  4004  0.845975  274.786\n",
       "6   (299.76648, 349.72756)    57   0.0120431  4061  0.858018  324.747\n",
       "7   (349.72756, 399.68864)    40   0.0084513  4101  0.866469  374.708\n",
       "8   (399.68864, 449.64972)    34   0.0071836  4135  0.873653  424.669\n",
       "9    (449.64972, 499.6108)    43  0.00908515  4178  0.882738   474.63\n",
       "10   (499.6108, 549.57188)   207   0.0437355  4385  0.926474  524.591\n",
       "11    (549.57188, 599.533)   348   0.0735263  4733         1  574.552\n",
       "12                   Total  4733                                     "
      ]
     },
     "metadata": {},
     "output_type": "display_data"
    },
    {
     "name": "stdout",
     "output_type": "stream",
     "text": [
      "\u001b[1mEl coeficiente de asimetria es de 1.1434644350526824, la distribución es Asimetrica con cola hacia la derecha.\u001b[0m\n",
      "\u001b[1mEl coeficiente de curtosis es de 0.23424575236338407, la distribución es Platicúrtica.\u001b[0m\n"
     ]
    },
    {
     "data": {
      "image/png": "[encoded data removed]",
      "text/plain": [
       "<Figure size 864x360 with 2 Axes>"
      ]
     },
     "metadata": {
      "needs_background": "light"
     },
     "output_type": "display_data"
    }
   ],
   "source": [
    "u = 2\n",
    "print(colored(f'Tabla de frecuencia de {name_f[u]}',attrs=['bold']))\n",
    "table_f = pd.DataFrame(tables_frequency_fl[u])\n",
    "display(table_f)\n",
    "hist_Ogive_plot(data_numeric_float_list[u],m,name_f[u])\n",
    "fila = data[data_numeric_float_list[u]]\n",
    "asimetria, curtosis, message, message_2 = is_asimetric_curtosis(fila)\n",
    "print(colored(f'El coeficiente de asimetria es de {asimetria}, la distribución es {message}.',attrs=['bold']))\n",
    "print(colored(f'El coeficiente de curtosis es de {curtosis}, la distribución es {message_2}.',attrs=['bold']))"
   ]
  },
  {
   "cell_type": "code",
   "execution_count": 316,
   "metadata": {
    "scrolled": false
   },
   "outputs": [
    {
     "name": "stdout",
     "output_type": "stream",
     "text": [
      "\u001b[1mTabla de frecuencia de duration\u001b[0m\n"
     ]
    },
    {
     "data": {
      "text/html": [
       "<div>\n",
       "<style scoped>\n",
       "    .dataframe tbody tr th:only-of-type {\n",
       "        vertical-align: middle;\n",
       "    }\n",
       "\n",
       "    .dataframe tbody tr th {\n",
       "        vertical-align: top;\n",
       "    }\n",
       "\n",
       "    .dataframe thead th {\n",
       "        text-align: right;\n",
       "    }\n",
       "</style>\n",
       "<table border=\"1\" class=\"dataframe\">\n",
       "  <thead>\n",
       "    <tr style=\"text-align: right;\">\n",
       "      <th></th>\n",
       "      <th>duration</th>\n",
       "      <th>ni</th>\n",
       "      <th>fi</th>\n",
       "      <th>Ni</th>\n",
       "      <th>Fi</th>\n",
       "      <th>Xí</th>\n",
       "    </tr>\n",
       "  </thead>\n",
       "  <tbody>\n",
       "    <tr>\n",
       "      <th>0</th>\n",
       "      <td>(0.0, 8343.259)</td>\n",
       "      <td>4141</td>\n",
       "      <td>0.874921</td>\n",
       "      <td>4141</td>\n",
       "      <td>0.874921</td>\n",
       "      <td>4171.63</td>\n",
       "    </tr>\n",
       "    <tr>\n",
       "      <th>1</th>\n",
       "      <td>(8343.259, 16686.518)</td>\n",
       "      <td>356</td>\n",
       "      <td>0.0752166</td>\n",
       "      <td>4497</td>\n",
       "      <td>0.950137</td>\n",
       "      <td>12514.9</td>\n",
       "    </tr>\n",
       "    <tr>\n",
       "      <th>2</th>\n",
       "      <td>(16686.518, 25029.777)</td>\n",
       "      <td>113</td>\n",
       "      <td>0.0238749</td>\n",
       "      <td>4610</td>\n",
       "      <td>0.974012</td>\n",
       "      <td>20858.1</td>\n",
       "    </tr>\n",
       "    <tr>\n",
       "      <th>3</th>\n",
       "      <td>(25029.777, 33373.036)</td>\n",
       "      <td>46</td>\n",
       "      <td>0.00971899</td>\n",
       "      <td>4656</td>\n",
       "      <td>0.983731</td>\n",
       "      <td>29201.4</td>\n",
       "    </tr>\n",
       "    <tr>\n",
       "      <th>4</th>\n",
       "      <td>(33373.036, 41716.295)</td>\n",
       "      <td>30</td>\n",
       "      <td>0.00633847</td>\n",
       "      <td>4686</td>\n",
       "      <td>0.99007</td>\n",
       "      <td>37544.7</td>\n",
       "    </tr>\n",
       "    <tr>\n",
       "      <th>5</th>\n",
       "      <td>(41716.295, 50059.554)</td>\n",
       "      <td>18</td>\n",
       "      <td>0.00380308</td>\n",
       "      <td>4704</td>\n",
       "      <td>0.993873</td>\n",
       "      <td>45887.9</td>\n",
       "    </tr>\n",
       "    <tr>\n",
       "      <th>6</th>\n",
       "      <td>(50059.554, 58402.813)</td>\n",
       "      <td>15</td>\n",
       "      <td>0.00316924</td>\n",
       "      <td>4719</td>\n",
       "      <td>0.997042</td>\n",
       "      <td>54231.2</td>\n",
       "    </tr>\n",
       "    <tr>\n",
       "      <th>7</th>\n",
       "      <td>(58402.813, 66746.072)</td>\n",
       "      <td>6</td>\n",
       "      <td>0.00126769</td>\n",
       "      <td>4725</td>\n",
       "      <td>0.99831</td>\n",
       "      <td>62574.4</td>\n",
       "    </tr>\n",
       "    <tr>\n",
       "      <th>8</th>\n",
       "      <td>(66746.072, 75089.331)</td>\n",
       "      <td>2</td>\n",
       "      <td>0.000422565</td>\n",
       "      <td>4727</td>\n",
       "      <td>0.998732</td>\n",
       "      <td>70917.7</td>\n",
       "    </tr>\n",
       "    <tr>\n",
       "      <th>9</th>\n",
       "      <td>(75089.331, 83432.59)</td>\n",
       "      <td>1</td>\n",
       "      <td>0.000211282</td>\n",
       "      <td>4728</td>\n",
       "      <td>0.998944</td>\n",
       "      <td>79261</td>\n",
       "    </tr>\n",
       "    <tr>\n",
       "      <th>10</th>\n",
       "      <td>(83432.59, 91775.849)</td>\n",
       "      <td>3</td>\n",
       "      <td>0.000633847</td>\n",
       "      <td>4731</td>\n",
       "      <td>0.999577</td>\n",
       "      <td>87604.2</td>\n",
       "    </tr>\n",
       "    <tr>\n",
       "      <th>11</th>\n",
       "      <td>(91775.849, 100119.10800000001)</td>\n",
       "      <td>2</td>\n",
       "      <td>0.000422565</td>\n",
       "      <td>4733</td>\n",
       "      <td>1</td>\n",
       "      <td>95947.5</td>\n",
       "    </tr>\n",
       "    <tr>\n",
       "      <th>12</th>\n",
       "      <td>Total</td>\n",
       "      <td>4733</td>\n",
       "      <td></td>\n",
       "      <td></td>\n",
       "      <td></td>\n",
       "      <td></td>\n",
       "    </tr>\n",
       "  </tbody>\n",
       "</table>\n",
       "</div>"
      ],
      "text/plain": [
       "                           duration    ni           fi    Ni        Fi  \\\n",
       "0                   (0.0, 8343.259)  4141     0.874921  4141  0.874921   \n",
       "1             (8343.259, 16686.518)   356    0.0752166  4497  0.950137   \n",
       "2            (16686.518, 25029.777)   113    0.0238749  4610  0.974012   \n",
       "3            (25029.777, 33373.036)    46   0.00971899  4656  0.983731   \n",
       "4            (33373.036, 41716.295)    30   0.00633847  4686   0.99007   \n",
       "5            (41716.295, 50059.554)    18   0.00380308  4704  0.993873   \n",
       "6            (50059.554, 58402.813)    15   0.00316924  4719  0.997042   \n",
       "7            (58402.813, 66746.072)     6   0.00126769  4725   0.99831   \n",
       "8            (66746.072, 75089.331)     2  0.000422565  4727  0.998732   \n",
       "9             (75089.331, 83432.59)     1  0.000211282  4728  0.998944   \n",
       "10            (83432.59, 91775.849)     3  0.000633847  4731  0.999577   \n",
       "11  (91775.849, 100119.10800000001)     2  0.000422565  4733         1   \n",
       "12                            Total  4733                                \n",
       "\n",
       "         Xí  \n",
       "0   4171.63  \n",
       "1   12514.9  \n",
       "2   20858.1  \n",
       "3   29201.4  \n",
       "4   37544.7  \n",
       "5   45887.9  \n",
       "6   54231.2  \n",
       "7   62574.4  \n",
       "8   70917.7  \n",
       "9     79261  \n",
       "10  87604.2  \n",
       "11  95947.5  \n",
       "12           "
      ]
     },
     "metadata": {},
     "output_type": "display_data"
    },
    {
     "name": "stdout",
     "output_type": "stream",
     "text": [
      "\u001b[1mEl coeficiente de asimetria es de 4.8780841834789666, la distribución es Asimetrica con cola hacia la derecha.\u001b[0m\n",
      "\u001b[1mEl coeficiente de curtosis es de 32.97211532078374, la distribución es Leptocúrtica.\u001b[0m\n"
     ]
    },
    {
     "data": {
      "image/png": "[encoded data removed]",
      "text/plain": [
       "<Figure size 864x360 with 2 Axes>"
      ]
     },
     "metadata": {
      "needs_background": "light"
     },
     "output_type": "display_data"
    }
   ],
   "source": [
    "u = 3\n",
    "print(colored(f'Tabla de frecuencia de {name_f[u]}',attrs=['bold']))\n",
    "table_f = pd.DataFrame(tables_frequency_fl[u])\n",
    "display(table_f)\n",
    "hist_Ogive_plot(data_numeric_float_list[u],m,name_f[u])\n",
    "fila = data[data_numeric_float_list[u]]\n",
    "asimetria, curtosis, message, message_2 = is_asimetric_curtosis(fila)\n",
    "print(colored(f'El coeficiente de asimetria es de {asimetria}, la distribución es {message}.',attrs=['bold']))\n",
    "print(colored(f'El coeficiente de curtosis es de {curtosis}, la distribución es {message_2}.',attrs=['bold']))"
   ]
  },
  {
   "cell_type": "code",
   "execution_count": 317,
   "metadata": {},
   "outputs": [
    {
     "name": "stdout",
     "output_type": "stream",
     "text": [
      "\u001b[1mTabla de frecuencia de max_d\u001b[0m\n"
     ]
    },
    {
     "data": {
      "text/html": [
       "<div>\n",
       "<style scoped>\n",
       "    .dataframe tbody tr th:only-of-type {\n",
       "        vertical-align: middle;\n",
       "    }\n",
       "\n",
       "    .dataframe tbody tr th {\n",
       "        vertical-align: top;\n",
       "    }\n",
       "\n",
       "    .dataframe thead th {\n",
       "        text-align: right;\n",
       "    }\n",
       "</style>\n",
       "<table border=\"1\" class=\"dataframe\">\n",
       "  <thead>\n",
       "    <tr style=\"text-align: right;\">\n",
       "      <th></th>\n",
       "      <th>max_d</th>\n",
       "      <th>ni</th>\n",
       "      <th>fi</th>\n",
       "      <th>Ni</th>\n",
       "      <th>Fi</th>\n",
       "      <th>Xí</th>\n",
       "    </tr>\n",
       "  </thead>\n",
       "  <tbody>\n",
       "    <tr>\n",
       "      <th>0</th>\n",
       "      <td>(0.0, 49.96108)</td>\n",
       "      <td>590</td>\n",
       "      <td>0.124657</td>\n",
       "      <td>590</td>\n",
       "      <td>0.124657</td>\n",
       "      <td>24.9805</td>\n",
       "    </tr>\n",
       "    <tr>\n",
       "      <th>1</th>\n",
       "      <td>(49.96108, 99.92216)</td>\n",
       "      <td>852</td>\n",
       "      <td>0.180013</td>\n",
       "      <td>1442</td>\n",
       "      <td>0.304669</td>\n",
       "      <td>74.9416</td>\n",
       "    </tr>\n",
       "    <tr>\n",
       "      <th>2</th>\n",
       "      <td>(99.92216, 149.88324)</td>\n",
       "      <td>839</td>\n",
       "      <td>0.177266</td>\n",
       "      <td>2281</td>\n",
       "      <td>0.481935</td>\n",
       "      <td>124.903</td>\n",
       "    </tr>\n",
       "    <tr>\n",
       "      <th>3</th>\n",
       "      <td>(149.88324, 199.84432)</td>\n",
       "      <td>424</td>\n",
       "      <td>0.0895838</td>\n",
       "      <td>2705</td>\n",
       "      <td>0.571519</td>\n",
       "      <td>174.864</td>\n",
       "    </tr>\n",
       "    <tr>\n",
       "      <th>4</th>\n",
       "      <td>(199.84432, 249.8054)</td>\n",
       "      <td>544</td>\n",
       "      <td>0.114938</td>\n",
       "      <td>3249</td>\n",
       "      <td>0.686457</td>\n",
       "      <td>224.825</td>\n",
       "    </tr>\n",
       "    <tr>\n",
       "      <th>5</th>\n",
       "      <td>(249.8054, 299.76648)</td>\n",
       "      <td>744</td>\n",
       "      <td>0.157194</td>\n",
       "      <td>3993</td>\n",
       "      <td>0.843651</td>\n",
       "      <td>274.786</td>\n",
       "    </tr>\n",
       "    <tr>\n",
       "      <th>6</th>\n",
       "      <td>(299.76648, 349.72756)</td>\n",
       "      <td>64</td>\n",
       "      <td>0.0135221</td>\n",
       "      <td>4057</td>\n",
       "      <td>0.857173</td>\n",
       "      <td>324.747</td>\n",
       "    </tr>\n",
       "    <tr>\n",
       "      <th>7</th>\n",
       "      <td>(349.72756, 399.68864)</td>\n",
       "      <td>44</td>\n",
       "      <td>0.00929643</td>\n",
       "      <td>4101</td>\n",
       "      <td>0.866469</td>\n",
       "      <td>374.708</td>\n",
       "    </tr>\n",
       "    <tr>\n",
       "      <th>8</th>\n",
       "      <td>(399.68864, 449.64972)</td>\n",
       "      <td>31</td>\n",
       "      <td>0.00654976</td>\n",
       "      <td>4132</td>\n",
       "      <td>0.873019</td>\n",
       "      <td>424.669</td>\n",
       "    </tr>\n",
       "    <tr>\n",
       "      <th>9</th>\n",
       "      <td>(449.64972, 499.6108)</td>\n",
       "      <td>38</td>\n",
       "      <td>0.00802873</td>\n",
       "      <td>4170</td>\n",
       "      <td>0.881048</td>\n",
       "      <td>474.63</td>\n",
       "    </tr>\n",
       "    <tr>\n",
       "      <th>10</th>\n",
       "      <td>(499.6108, 549.57188)</td>\n",
       "      <td>207</td>\n",
       "      <td>0.0437355</td>\n",
       "      <td>4377</td>\n",
       "      <td>0.924783</td>\n",
       "      <td>524.591</td>\n",
       "    </tr>\n",
       "    <tr>\n",
       "      <th>11</th>\n",
       "      <td>(549.57188, 599.533)</td>\n",
       "      <td>356</td>\n",
       "      <td>0.0752166</td>\n",
       "      <td>4733</td>\n",
       "      <td>1</td>\n",
       "      <td>574.552</td>\n",
       "    </tr>\n",
       "    <tr>\n",
       "      <th>12</th>\n",
       "      <td>Total</td>\n",
       "      <td>4733</td>\n",
       "      <td></td>\n",
       "      <td></td>\n",
       "      <td></td>\n",
       "      <td></td>\n",
       "    </tr>\n",
       "  </tbody>\n",
       "</table>\n",
       "</div>"
      ],
      "text/plain": [
       "                     max_d    ni          fi    Ni        Fi       Xí\n",
       "0          (0.0, 49.96108)   590    0.124657   590  0.124657  24.9805\n",
       "1     (49.96108, 99.92216)   852    0.180013  1442  0.304669  74.9416\n",
       "2    (99.92216, 149.88324)   839    0.177266  2281  0.481935  124.903\n",
       "3   (149.88324, 199.84432)   424   0.0895838  2705  0.571519  174.864\n",
       "4    (199.84432, 249.8054)   544    0.114938  3249  0.686457  224.825\n",
       "5    (249.8054, 299.76648)   744    0.157194  3993  0.843651  274.786\n",
       "6   (299.76648, 349.72756)    64   0.0135221  4057  0.857173  324.747\n",
       "7   (349.72756, 399.68864)    44  0.00929643  4101  0.866469  374.708\n",
       "8   (399.68864, 449.64972)    31  0.00654976  4132  0.873019  424.669\n",
       "9    (449.64972, 499.6108)    38  0.00802873  4170  0.881048   474.63\n",
       "10   (499.6108, 549.57188)   207   0.0437355  4377  0.924783  524.591\n",
       "11    (549.57188, 599.533)   356   0.0752166  4733         1  574.552\n",
       "12                   Total  4733                                     "
      ]
     },
     "metadata": {},
     "output_type": "display_data"
    },
    {
     "name": "stdout",
     "output_type": "stream",
     "text": [
      "\u001b[1mEl coeficiente de asimetria es de 1.0224494578084593, la distribución es Asimetrica con cola hacia la derecha.\u001b[0m\n",
      "\u001b[1mEl coeficiente de curtosis es de 0.25903370121079394, la distribución es Platicúrtica.\u001b[0m\n"
     ]
    },
    {
     "data": {
      "image/png": "[encoded data removed]",
      "text/plain": [
       "<Figure size 864x360 with 2 Axes>"
      ]
     },
     "metadata": {
      "needs_background": "light"
     },
     "output_type": "display_data"
    }
   ],
   "source": [
    "u = 4\n",
    "print(colored(f'Tabla de frecuencia de {name_f[u]}',attrs=['bold']))\n",
    "table_f = pd.DataFrame(tables_frequency_fl[u])\n",
    "display(table_f)\n",
    "hist_Ogive_plot(data_numeric_float_list[u],m,name_f[u])\n",
    "fila = data[data_numeric_float_list[u]]\n",
    "asimetria, curtosis, message, message_2 = is_asimetric_curtosis(fila)\n",
    "print(colored(f'El coeficiente de asimetria es de {asimetria}, la distribución es {message}.',attrs=['bold']))\n",
    "print(colored(f'El coeficiente de curtosis es de {curtosis}, la distribución es {message_2}.',attrs=['bold']))"
   ]
  },
  {
   "cell_type": "code",
   "execution_count": null,
   "metadata": {},
   "outputs": [],
   "source": [
    "#data.to_csv('Data_C_B.csv',index = False)"
   ]
  }
 ],
 "metadata": {
  "kernelspec": {
   "display_name": "Python 3",
   "language": "python",
   "name": "python3"
  },
  "language_info": {
   "codemirror_mode": {
    "name": "ipython",
    "version": 3
   },
   "file_extension": ".py",
   "mimetype": "text/x-python",
   "name": "python",
   "nbconvert_exporter": "python",
   "pygments_lexer": "ipython3",
   "version": "3.7.3"
  }
 },
 "nbformat": 4,
 "nbformat_minor": 2
}
