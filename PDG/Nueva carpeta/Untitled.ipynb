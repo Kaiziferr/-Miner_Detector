{
 "cells": [
  {
   "cell_type": "code",
   "execution_count": 1,
   "metadata": {},
   "outputs": [],
   "source": [
    "import pandas as pd\n",
    "from termcolor import colored\n",
    "import matplotlib.pyplot as plt\n",
    "import seaborn as sns\n",
    "import random"
   ]
  },
  {
   "cell_type": "markdown",
   "metadata": {},
   "source": [
    "# Descripción de los datos\n",
    "- cpu_guest\n",
    "- cpu_guest_nice\n",
    "- cpu_idle\n",
    "- cpu_steal\n",
    "- cpu_iowait\n",
    "- cpu_irq\n",
    "- cpu_nice\n",
    "- cpu_softirq\n",
    "- cpu_system\n",
    "- cpu_total\n",
    "- cpu_user\n",
    "- diskio_sda1_disk_name\n",
    "- diskio_sda1_key\n",
    "- diskio_sda1_read_bytes\n",
    "- diskio_sda1_time_since_update\n",
    "- diskio_sda1_write_bytes\n",
    "- diskio_sda_disk_name\n",
    "- diskio_sda_key\n",
    "- diskio_sda_read_bytes\n",
    "- diskio_sda_time_since_update\n",
    "- diskio_sda_write_bytes\n",
    "- fs_/_device_name\n",
    "- fs_/_free\n",
    "- fs_/_fs_type\n",
    "- fs_/_key\n",
    "- fs_/_mnt_point\n",
    "- fs_/_percent\n",
    "- fs_/_size\n",
    "- fs_/_used\n",
    "- load_cpucore\n",
    "- load_min1\n",
    "- load_min15\n",
    "- load_min5\n",
    "- mem_active\n",
    "- mem_available\n",
    "- mem_buffers\n",
    "- mem_cached\n",
    "- mem_free\n",
    "- mem_inactive\n",
    "- mem_percent\n",
    "- mem_shared\n",
    "- mem_total\n",
    "- mem_used\n",
    "- memswap_free\n",
    "- memswap_percent\n",
    "- memswap_sin\n",
    "- memswap_sout\n",
    "- memswap_total\n",
    "- memswap_used\n",
    "- network_lo_cumulative_cx\n",
    "- network_lo_cumulative_rx\n",
    "- network_lo_cumulative_tx\n",
    "- network_lo_cx\n",
    "- network_lo_interface_name\n",
    "- network_lo_key\n",
    "- network_lo_rx\n",
    "- network_lo_time_since_update\n",
    "- network_lo_tx\n",
    "- percpu_0_cpu_number\n",
    "- percpu_0_guest\n",
    "- percpu_0_guest_nice\n",
    "- percpu_0_idle\n",
    "- percpu_0_iowait\n",
    "- percpu_0_irq\n",
    "- percpu_0_key\n",
    "- percpu_0_nice\n",
    "- percpu_0_softirq\n",
    "- percpu_0_steal\n",
    "- percpu_0_system\n",
    "- percpu_0_total\n",
    "- percpu_0_user\n",
    "- processcount_running\n",
    "- processcount_sleeping\n",
    "- processcount_thread\n",
    "- processcount_total\n",
    "- system_hostname\n",
    "- system_hr_name\n",
    "- system_linux_distro\n",
    "- system_os_name\n",
    "- system_os_version\n",
    "- system_platform\n",
    "- timestamp"
   ]
  },
  {
   "cell_type": "markdown",
   "metadata": {},
   "source": [
    "# Cargar los datos anormales"
   ]
  },
  {
   "cell_type": "code",
   "execution_count": 2,
   "metadata": {},
   "outputs": [
    {
     "name": "stderr",
     "output_type": "stream",
     "text": [
      "C:\\ProgramData\\Anaconda3\\lib\\site-packages\\IPython\\core\\interactiveshell.py:3057: DtypeWarning: Columns (14,19,26,27,52,57) have mixed types. Specify dtype option on import or set low_memory=False.\n",
      "  interactivity=interactivity, compiler=compiler, result=result)\n"
     ]
    },
    {
     "data": {
      "text/plain": [
       "(14461, 82)"
      ]
     },
     "execution_count": 2,
     "metadata": {},
     "output_type": "execute_result"
    }
   ],
   "source": [
    "dataA = pd.read_csv('./final-anormal-data-set.csv')\n",
    "dataA.shape"
   ]
  },
  {
   "cell_type": "markdown",
   "metadata": {},
   "source": [
    "### Información preliminar de los datos"
   ]
  },
  {
   "cell_type": "code",
   "execution_count": 3,
   "metadata": {
    "scrolled": true
   },
   "outputs": [
    {
     "name": "stdout",
     "output_type": "stream",
     "text": [
      "<class 'pandas.core.frame.DataFrame'>\n",
      "RangeIndex: 14461 entries, 0 to 14460\n",
      "Data columns (total 82 columns):\n",
      "cpu_guest                        14461 non-null int64\n",
      "cpu_guest_nice                   14461 non-null int64\n",
      "cpu_idle                         14461 non-null float64\n",
      "cpu_steal                        14460 non-null float64\n",
      "cpu_iowait                       14461 non-null float64\n",
      "cpu_irq                          14460 non-null float64\n",
      "cpu_nice                         14460 non-null float64\n",
      "cpu_softirq                      14461 non-null float64\n",
      "cpu_system                       14461 non-null float64\n",
      "cpu_total                        14460 non-null float64\n",
      "cpu_user                         14461 non-null float64\n",
      "diskio_sda1_disk_name            14461 non-null object\n",
      "diskio_sda1_key                  14461 non-null object\n",
      "diskio_sda1_read_bytes           14461 non-null float64\n",
      "diskio_sda1_time_since_update    14461 non-null object\n",
      "diskio_sda1_write_bytes          14461 non-null int64\n",
      "diskio_sda_disk_name             14461 non-null object\n",
      "diskio_sda_key                   14461 non-null object\n",
      "diskio_sda_read_bytes            14461 non-null float64\n",
      "diskio_sda_time_since_update     14461 non-null object\n",
      "diskio_sda_write_bytes           14461 non-null int64\n",
      "fs_/_device_name                 14461 non-null object\n",
      "fs_/_free                        14461 non-null int64\n",
      "fs_/_fs_type                     14461 non-null object\n",
      "fs_/_key                         14461 non-null object\n",
      "fs_/_mnt_point                   14461 non-null object\n",
      "fs_/_percent                     14461 non-null object\n",
      "fs_/_size                        14461 non-null object\n",
      "fs_/_used                        14461 non-null int64\n",
      "load_cpucore                     14461 non-null int64\n",
      "load_min1                        14461 non-null float64\n",
      "load_min15                       14461 non-null float64\n",
      "load_min5                        14461 non-null float64\n",
      "mem_active                       14461 non-null int64\n",
      "mem_available                    14461 non-null int64\n",
      "mem_buffers                      14461 non-null int64\n",
      "mem_cached                       14461 non-null int64\n",
      "mem_free                         14461 non-null int64\n",
      "mem_inactive                     14461 non-null int64\n",
      "mem_percent                      14461 non-null float64\n",
      "mem_shared                       14461 non-null float64\n",
      "mem_total                        14461 non-null int64\n",
      "mem_used                         14461 non-null int64\n",
      "memswap_free                     14461 non-null int64\n",
      "memswap_percent                  14461 non-null float64\n",
      "memswap_sin                      14461 non-null int64\n",
      "memswap_sout                     14461 non-null int64\n",
      "memswap_total                    14461 non-null int64\n",
      "memswap_used                     14461 non-null int64\n",
      "network_lo_cumulative_cx         14461 non-null int64\n",
      "network_lo_cumulative_rx         14461 non-null int64\n",
      "network_lo_cumulative_tx         14461 non-null int64\n",
      "network_lo_cx                    14461 non-null object\n",
      "network_lo_interface_name        14461 non-null object\n",
      "network_lo_key                   14461 non-null object\n",
      "network_lo_rx                    14461 non-null int64\n",
      "network_lo_time_since_update     14461 non-null float64\n",
      "network_lo_tx                    14461 non-null object\n",
      "percpu_0_cpu_number              14461 non-null int64\n",
      "percpu_0_guest                   14461 non-null int64\n",
      "percpu_0_guest_nice              14461 non-null int64\n",
      "percpu_0_idle                    14461 non-null float64\n",
      "percpu_0_iowait                  14461 non-null int64\n",
      "percpu_0_irq                     14461 non-null int64\n",
      "percpu_0_key                     14461 non-null object\n",
      "percpu_0_nice                    14461 non-null int64\n",
      "percpu_0_softirq                 14461 non-null float64\n",
      "percpu_0_steal                   14461 non-null int64\n",
      "percpu_0_system                  14461 non-null float64\n",
      "percpu_0_total                   14461 non-null float64\n",
      "percpu_0_user                    14461 non-null float64\n",
      "processcount_running             14461 non-null float64\n",
      "processcount_sleeping            14461 non-null int64\n",
      "processcount_thread              14461 non-null float64\n",
      "processcount_total               14461 non-null int64\n",
      "system_hostname                  14461 non-null object\n",
      "system_hr_name                   14461 non-null object\n",
      "system_linux_distro              14461 non-null object\n",
      "system_os_name                   14461 non-null object\n",
      "system_os_version                14461 non-null object\n",
      "system_platform                  14461 non-null object\n",
      "timestamp                        14461 non-null object\n",
      "dtypes: float64(25), int64(33), object(24)\n",
      "memory usage: 9.0+ MB\n"
     ]
    }
   ],
   "source": [
    "dataA.info()"
   ]
  },
  {
   "cell_type": "markdown",
   "metadata": {},
   "source": [
    "### Datos nulos"
   ]
  },
  {
   "cell_type": "code",
   "execution_count": 4,
   "metadata": {
    "scrolled": true
   },
   "outputs": [
    {
     "name": "stdout",
     "output_type": "stream",
     "text": [
      "\u001b[1mLas caracteristicas no presentes, no tienen valores nulos\u001b[0m\n"
     ]
    },
    {
     "data": {
      "text/plain": [
       "cpu_steal    1\n",
       "cpu_irq      1\n",
       "cpu_nice     1\n",
       "cpu_total    1\n",
       "dtype: int64"
      ]
     },
     "execution_count": 4,
     "metadata": {},
     "output_type": "execute_result"
    }
   ],
   "source": [
    "print(colored(f'Las caracteristicas no presentes, no tienen valores nulos', attrs=['bold']))\n",
    "\n",
    "avaliable = dataA.isnull().sum()\n",
    "avaliable[avaliable > 0]"
   ]
  },
  {
   "cell_type": "code",
   "execution_count": 5,
   "metadata": {},
   "outputs": [
    {
     "data": {
      "text/plain": [
       "(14460, 82)"
      ]
     },
     "execution_count": 5,
     "metadata": {},
     "output_type": "execute_result"
    }
   ],
   "source": [
    "dataA = dataA.dropna()\n",
    "dataA.shape"
   ]
  },
  {
   "cell_type": "markdown",
   "metadata": {},
   "source": [
    "# Exportamos los datos normales"
   ]
  },
  {
   "cell_type": "code",
   "execution_count": 6,
   "metadata": {},
   "outputs": [
    {
     "data": {
      "text/plain": [
       "(80851, 82)"
      ]
     },
     "execution_count": 6,
     "metadata": {},
     "output_type": "execute_result"
    }
   ],
   "source": [
    "dataN = pd.read_csv('./final-normal-data-set.csv')\n",
    "dataN.shape"
   ]
  },
  {
   "cell_type": "markdown",
   "metadata": {},
   "source": [
    "### Información preliminar de los datos"
   ]
  },
  {
   "cell_type": "code",
   "execution_count": 7,
   "metadata": {},
   "outputs": [
    {
     "name": "stdout",
     "output_type": "stream",
     "text": [
      "<class 'pandas.core.frame.DataFrame'>\n",
      "RangeIndex: 80851 entries, 0 to 80850\n",
      "Data columns (total 82 columns):\n",
      "cpu_guest                        80850 non-null float64\n",
      "cpu_guest_nice                   80850 non-null float64\n",
      "cpu_idle                         80850 non-null float64\n",
      "cpu_iowait                       80850 non-null float64\n",
      "cpu_irq                          80850 non-null float64\n",
      "cpu_nice                         80850 non-null float64\n",
      "cpu_softirq                      80850 non-null float64\n",
      "cpu_steal                        80850 non-null float64\n",
      "cpu_system                       80850 non-null float64\n",
      "cpu_total                        80850 non-null float64\n",
      "cpu_user                         80850 non-null float64\n",
      "diskio_sda1_disk_name            80851 non-null object\n",
      "diskio_sda1_key                  80851 non-null object\n",
      "diskio_sda1_read_bytes           80851 non-null int64\n",
      "diskio_sda1_time_since_update    80851 non-null float64\n",
      "diskio_sda1_write_bytes          80851 non-null int64\n",
      "diskio_sda_disk_name             80851 non-null object\n",
      "diskio_sda_key                   80851 non-null object\n",
      "diskio_sda_read_bytes            80851 non-null int64\n",
      "diskio_sda_time_since_update     80851 non-null float64\n",
      "diskio_sda_write_bytes           80851 non-null int64\n",
      "fs_/_device_name                 80851 non-null object\n",
      "fs_/_free                        80851 non-null int64\n",
      "fs_/_fs_type                     80851 non-null object\n",
      "fs_/_key                         80851 non-null object\n",
      "fs_/_mnt_point                   80851 non-null object\n",
      "fs_/_percent                     80851 non-null float64\n",
      "fs_/_size                        80851 non-null int64\n",
      "fs_/_used                        80851 non-null int64\n",
      "load_cpucore                     80851 non-null int64\n",
      "load_min1                        80851 non-null float64\n",
      "load_min15                       80851 non-null float64\n",
      "load_min5                        80851 non-null float64\n",
      "mem_active                       80851 non-null int64\n",
      "mem_available                    80851 non-null int64\n",
      "mem_buffers                      80850 non-null float64\n",
      "mem_cached                       80851 non-null int64\n",
      "mem_free                         80851 non-null int64\n",
      "mem_inactive                     80851 non-null int64\n",
      "mem_percent                      80851 non-null float64\n",
      "mem_shared                       80851 non-null int64\n",
      "mem_total                        80850 non-null float64\n",
      "mem_used                         80851 non-null int64\n",
      "memswap_free                     80851 non-null int64\n",
      "memswap_percent                  80851 non-null float64\n",
      "memswap_sin                      80851 non-null int64\n",
      "memswap_sout                     80851 non-null int64\n",
      "memswap_total                    80851 non-null int64\n",
      "memswap_used                     80851 non-null int64\n",
      "network_lo_cumulative_cx         80850 non-null float64\n",
      "network_lo_cumulative_rx         80850 non-null float64\n",
      "network_lo_cumulative_tx         80850 non-null float64\n",
      "network_lo_cx                    80850 non-null float64\n",
      "network_lo_interface_name        80850 non-null object\n",
      "network_lo_key                   80850 non-null object\n",
      "network_lo_rx                    80850 non-null float64\n",
      "network_lo_time_since_update     80850 non-null float64\n",
      "network_lo_tx                    80850 non-null float64\n",
      "percpu_0_cpu_number              80851 non-null int64\n",
      "percpu_0_guest                   80851 non-null float64\n",
      "percpu_0_guest_nice              80851 non-null float64\n",
      "percpu_0_idle                    80851 non-null float64\n",
      "percpu_0_iowait                  80851 non-null float64\n",
      "percpu_0_irq                     80851 non-null float64\n",
      "percpu_0_key                     80851 non-null object\n",
      "percpu_0_nice                    80851 non-null float64\n",
      "percpu_0_softirq                 80851 non-null float64\n",
      "percpu_0_steal                   80851 non-null float64\n",
      "percpu_0_system                  80851 non-null float64\n",
      "percpu_0_total                   80851 non-null float64\n",
      "percpu_0_user                    80851 non-null float64\n",
      "processcount_running             80850 non-null float64\n",
      "processcount_sleeping            80850 non-null float64\n",
      "processcount_thread              80850 non-null float64\n",
      "processcount_total               80850 non-null float64\n",
      "system_hostname                  80851 non-null object\n",
      "system_hr_name                   80851 non-null object\n",
      "system_linux_distro              80851 non-null object\n",
      "system_os_name                   80851 non-null object\n",
      "system_os_version                80851 non-null object\n",
      "system_platform                  80851 non-null object\n",
      "timestamp                        80851 non-null object\n",
      "dtypes: float64(43), int64(21), object(18)\n",
      "memory usage: 50.6+ MB\n"
     ]
    }
   ],
   "source": [
    "dataN.info()"
   ]
  },
  {
   "cell_type": "markdown",
   "metadata": {},
   "source": [
    "### Datos nulos"
   ]
  },
  {
   "cell_type": "code",
   "execution_count": 8,
   "metadata": {
    "scrolled": true
   },
   "outputs": [
    {
     "name": "stdout",
     "output_type": "stream",
     "text": [
      "\u001b[1mLas caracteristicas no presentes, no tienen valores nulos\u001b[0m\n"
     ]
    },
    {
     "data": {
      "text/plain": [
       "cpu_guest                       1\n",
       "cpu_guest_nice                  1\n",
       "cpu_idle                        1\n",
       "cpu_iowait                      1\n",
       "cpu_irq                         1\n",
       "cpu_nice                        1\n",
       "cpu_softirq                     1\n",
       "cpu_steal                       1\n",
       "cpu_system                      1\n",
       "cpu_total                       1\n",
       "cpu_user                        1\n",
       "mem_buffers                     1\n",
       "mem_total                       1\n",
       "network_lo_cumulative_cx        1\n",
       "network_lo_cumulative_rx        1\n",
       "network_lo_cumulative_tx        1\n",
       "network_lo_cx                   1\n",
       "network_lo_interface_name       1\n",
       "network_lo_key                  1\n",
       "network_lo_rx                   1\n",
       "network_lo_time_since_update    1\n",
       "network_lo_tx                   1\n",
       "processcount_running            1\n",
       "processcount_sleeping           1\n",
       "processcount_thread             1\n",
       "processcount_total              1\n",
       "dtype: int64"
      ]
     },
     "execution_count": 8,
     "metadata": {},
     "output_type": "execute_result"
    }
   ],
   "source": [
    "print(colored(f'Las caracteristicas no presentes, no tienen valores nulos', attrs=['bold']))\n",
    "\n",
    "avaliable = dataN.isnull().sum()\n",
    "avaliable[avaliable > 0]"
   ]
  },
  {
   "cell_type": "code",
   "execution_count": 9,
   "metadata": {},
   "outputs": [
    {
     "data": {
      "text/plain": [
       "(80850, 82)"
      ]
     },
     "execution_count": 9,
     "metadata": {},
     "output_type": "execute_result"
    }
   ],
   "source": [
    "dataN = dataN.dropna()\n",
    "dataN.shape"
   ]
  },
  {
   "cell_type": "markdown",
   "metadata": {},
   "source": [
    "### Estructuración"
   ]
  },
  {
   "cell_type": "code",
   "execution_count": 10,
   "metadata": {},
   "outputs": [],
   "source": [
    "dataA['Type'] = 'mine'\n",
    "dataN['Type'] = 'no_mine'"
   ]
  },
  {
   "cell_type": "code",
   "execution_count": 11,
   "metadata": {},
   "outputs": [
    {
     "name": "stderr",
     "output_type": "stream",
     "text": [
      "C:\\ProgramData\\Anaconda3\\lib\\site-packages\\ipykernel_launcher.py:1: FutureWarning: Sorting because non-concatenation axis is not aligned. A future version\n",
      "of pandas will change to not sort by default.\n",
      "\n",
      "To accept the future behavior, pass 'sort=False'.\n",
      "\n",
      "To retain the current behavior and silence the warning, pass 'sort=True'.\n",
      "\n",
      "  \"\"\"Entry point for launching an IPython kernel.\n"
     ]
    },
    {
     "data": {
      "text/html": [
       "<div>\n",
       "<style scoped>\n",
       "    .dataframe tbody tr th:only-of-type {\n",
       "        vertical-align: middle;\n",
       "    }\n",
       "\n",
       "    .dataframe tbody tr th {\n",
       "        vertical-align: top;\n",
       "    }\n",
       "\n",
       "    .dataframe thead th {\n",
       "        text-align: right;\n",
       "    }\n",
       "</style>\n",
       "<table border=\"1\" class=\"dataframe\">\n",
       "  <thead>\n",
       "    <tr style=\"text-align: right;\">\n",
       "      <th></th>\n",
       "      <th>index</th>\n",
       "      <th>Type</th>\n",
       "      <th>cpu_guest</th>\n",
       "      <th>cpu_guest_nice</th>\n",
       "      <th>cpu_idle</th>\n",
       "      <th>cpu_iowait</th>\n",
       "      <th>cpu_irq</th>\n",
       "      <th>cpu_nice</th>\n",
       "      <th>cpu_softirq</th>\n",
       "      <th>cpu_steal</th>\n",
       "      <th>...</th>\n",
       "      <th>processcount_sleeping</th>\n",
       "      <th>processcount_thread</th>\n",
       "      <th>processcount_total</th>\n",
       "      <th>system_hostname</th>\n",
       "      <th>system_hr_name</th>\n",
       "      <th>system_linux_distro</th>\n",
       "      <th>system_os_name</th>\n",
       "      <th>system_os_version</th>\n",
       "      <th>system_platform</th>\n",
       "      <th>timestamp</th>\n",
       "    </tr>\n",
       "  </thead>\n",
       "  <tbody>\n",
       "    <tr>\n",
       "      <th>28552</th>\n",
       "      <td>14092</td>\n",
       "      <td>no_mine</td>\n",
       "      <td>0.0</td>\n",
       "      <td>0.0</td>\n",
       "      <td>0.0</td>\n",
       "      <td>0.0</td>\n",
       "      <td>0.0</td>\n",
       "      <td>0.0</td>\n",
       "      <td>0.0</td>\n",
       "      <td>0.0</td>\n",
       "      <td>...</td>\n",
       "      <td>105.0</td>\n",
       "      <td>182.0</td>\n",
       "      <td>107.0</td>\n",
       "      <td>vm1-graph-analytics</td>\n",
       "      <td>CentOS Linux 7.7.1908 64bit</td>\n",
       "      <td>CentOS Linux 7.7.1908</td>\n",
       "      <td>Linux</td>\n",
       "      <td>3.10.0-1062.12.1.el7.x86_64</td>\n",
       "      <td>64bit</td>\n",
       "      <td>2020-01-28 23:19:09</td>\n",
       "    </tr>\n",
       "    <tr>\n",
       "      <th>78895</th>\n",
       "      <td>64436</td>\n",
       "      <td>no_mine</td>\n",
       "      <td>0.0</td>\n",
       "      <td>0.0</td>\n",
       "      <td>91.7</td>\n",
       "      <td>0.0</td>\n",
       "      <td>0.0</td>\n",
       "      <td>0.0</td>\n",
       "      <td>0.0</td>\n",
       "      <td>0.0</td>\n",
       "      <td>...</td>\n",
       "      <td>94.0</td>\n",
       "      <td>138.0</td>\n",
       "      <td>96.0</td>\n",
       "      <td>vm4-web-server</td>\n",
       "      <td>CentOS Linux 7.7.1908 64bit</td>\n",
       "      <td>CentOS Linux 7.7.1908</td>\n",
       "      <td>Linux</td>\n",
       "      <td>3.10.0-1062.12.1.el7.x86_64</td>\n",
       "      <td>64bit</td>\n",
       "      <td>2020-01-29 18:18:41</td>\n",
       "    </tr>\n",
       "    <tr>\n",
       "      <th>53230</th>\n",
       "      <td>38770</td>\n",
       "      <td>no_mine</td>\n",
       "      <td>0.0</td>\n",
       "      <td>0.0</td>\n",
       "      <td>93.4</td>\n",
       "      <td>0.0</td>\n",
       "      <td>0.0</td>\n",
       "      <td>0.0</td>\n",
       "      <td>0.0</td>\n",
       "      <td>0.0</td>\n",
       "      <td>...</td>\n",
       "      <td>89.0</td>\n",
       "      <td>145.0</td>\n",
       "      <td>91.0</td>\n",
       "      <td>vm2-node</td>\n",
       "      <td>CentOS Linux 7.7.1908 64bit</td>\n",
       "      <td>CentOS Linux 7.7.1908</td>\n",
       "      <td>Linux</td>\n",
       "      <td>3.10.0-1062.12.1.el7.x86_64</td>\n",
       "      <td>64bit</td>\n",
       "      <td>2020-01-26 16:47:34</td>\n",
       "    </tr>\n",
       "    <tr>\n",
       "      <th>64131</th>\n",
       "      <td>49671</td>\n",
       "      <td>no_mine</td>\n",
       "      <td>0.0</td>\n",
       "      <td>0.0</td>\n",
       "      <td>0.0</td>\n",
       "      <td>0.0</td>\n",
       "      <td>0.0</td>\n",
       "      <td>0.0</td>\n",
       "      <td>0.0</td>\n",
       "      <td>0.0</td>\n",
       "      <td>...</td>\n",
       "      <td>92.0</td>\n",
       "      <td>126.0</td>\n",
       "      <td>94.0</td>\n",
       "      <td>vm3-tomcat</td>\n",
       "      <td>CentOS Linux 7.7.1908 64bit</td>\n",
       "      <td>CentOS Linux 7.7.1908</td>\n",
       "      <td>Linux</td>\n",
       "      <td>3.10.0-1062.12.1.el7.x86_64</td>\n",
       "      <td>64bit</td>\n",
       "      <td>2020-01-28 22:14:50</td>\n",
       "    </tr>\n",
       "    <tr>\n",
       "      <th>6708</th>\n",
       "      <td>6708</td>\n",
       "      <td>mine</td>\n",
       "      <td>0.0</td>\n",
       "      <td>0.0</td>\n",
       "      <td>0.0</td>\n",
       "      <td>0.0</td>\n",
       "      <td>0.0</td>\n",
       "      <td>0.0</td>\n",
       "      <td>0.0</td>\n",
       "      <td>0.0</td>\n",
       "      <td>...</td>\n",
       "      <td>102.0</td>\n",
       "      <td>135.0</td>\n",
       "      <td>104.0</td>\n",
       "      <td>localhost.localdomain</td>\n",
       "      <td>CentOS Linux 7.7.1908 64bit</td>\n",
       "      <td>CentOS Linux 7.7.1908</td>\n",
       "      <td>Linux</td>\n",
       "      <td>3.10.0-1062.12.1.el7.x86_64</td>\n",
       "      <td>64bit</td>\n",
       "      <td>2020-03-17 17:04:49</td>\n",
       "    </tr>\n",
       "  </tbody>\n",
       "</table>\n",
       "<p>5 rows × 84 columns</p>\n",
       "</div>"
      ],
      "text/plain": [
       "       index     Type  cpu_guest  cpu_guest_nice  cpu_idle  cpu_iowait  \\\n",
       "28552  14092  no_mine        0.0             0.0       0.0         0.0   \n",
       "78895  64436  no_mine        0.0             0.0      91.7         0.0   \n",
       "53230  38770  no_mine        0.0             0.0      93.4         0.0   \n",
       "64131  49671  no_mine        0.0             0.0       0.0         0.0   \n",
       "6708    6708     mine        0.0             0.0       0.0         0.0   \n",
       "\n",
       "       cpu_irq  cpu_nice  cpu_softirq  cpu_steal  ...  processcount_sleeping  \\\n",
       "28552      0.0       0.0          0.0        0.0  ...                  105.0   \n",
       "78895      0.0       0.0          0.0        0.0  ...                   94.0   \n",
       "53230      0.0       0.0          0.0        0.0  ...                   89.0   \n",
       "64131      0.0       0.0          0.0        0.0  ...                   92.0   \n",
       "6708       0.0       0.0          0.0        0.0  ...                  102.0   \n",
       "\n",
       "       processcount_thread  processcount_total        system_hostname  \\\n",
       "28552                182.0               107.0    vm1-graph-analytics   \n",
       "78895                138.0                96.0         vm4-web-server   \n",
       "53230                145.0                91.0               vm2-node   \n",
       "64131                126.0                94.0             vm3-tomcat   \n",
       "6708                 135.0               104.0  localhost.localdomain   \n",
       "\n",
       "                    system_hr_name    system_linux_distro system_os_name  \\\n",
       "28552  CentOS Linux 7.7.1908 64bit  CentOS Linux 7.7.1908          Linux   \n",
       "78895  CentOS Linux 7.7.1908 64bit  CentOS Linux 7.7.1908          Linux   \n",
       "53230  CentOS Linux 7.7.1908 64bit  CentOS Linux 7.7.1908          Linux   \n",
       "64131  CentOS Linux 7.7.1908 64bit  CentOS Linux 7.7.1908          Linux   \n",
       "6708   CentOS Linux 7.7.1908 64bit  CentOS Linux 7.7.1908          Linux   \n",
       "\n",
       "                 system_os_version system_platform            timestamp  \n",
       "28552  3.10.0-1062.12.1.el7.x86_64           64bit  2020-01-28 23:19:09  \n",
       "78895  3.10.0-1062.12.1.el7.x86_64           64bit  2020-01-29 18:18:41  \n",
       "53230  3.10.0-1062.12.1.el7.x86_64           64bit  2020-01-26 16:47:34  \n",
       "64131  3.10.0-1062.12.1.el7.x86_64           64bit  2020-01-28 22:14:50  \n",
       "6708   3.10.0-1062.12.1.el7.x86_64           64bit  2020-03-17 17:04:49  \n",
       "\n",
       "[5 rows x 84 columns]"
      ]
     },
     "execution_count": 11,
     "metadata": {},
     "output_type": "execute_result"
    }
   ],
   "source": [
    "dataF = pd.concat([dataA,dataN],axis = 0)\n",
    "dataF = dataF.reset_index()\n",
    "indices = list(dataF.index)\n",
    "random.shuffle(indices)\n",
    "dataF = dataF.reindex(indices)\n",
    "dataF.head()"
   ]
  },
  {
   "cell_type": "markdown",
   "metadata": {},
   "source": [
    "### Agrupación por tipo de dato"
   ]
  },
  {
   "cell_type": "code",
   "execution_count": 12,
   "metadata": {},
   "outputs": [],
   "source": [
    "numerico = (dataA.dtypes == 'float64') | (dataA.dtypes == 'int64')\n",
    "numerico = [c for c in numerico.index if numerico[c]]\n",
    "categoria = (dataA.dtypes == 'object')\n",
    "categoria = [c for c in categoria.index if categoria[c]]"
   ]
  },
  {
   "cell_type": "markdown",
   "metadata": {},
   "source": [
    "# Inspección de los datos"
   ]
  },
  {
   "cell_type": "markdown",
   "metadata": {},
   "source": [
    "### Variable objetivo"
   ]
  },
  {
   "cell_type": "code",
   "execution_count": 13,
   "metadata": {},
   "outputs": [
    {
     "data": {
      "image/png": "[encoded data removed]",
      "text/plain": [
       "<Figure size 576x288 with 1 Axes>"
      ]
     },
     "metadata": {
      "needs_background": "light"
     },
     "output_type": "display_data"
    }
   ],
   "source": [
    "fig, ax = plt.subplots(figsize=(8,4))\n",
    "ax = sns.countplot(x='Type', data=dataF, palette=\"Set1\")\n",
    "ax.set_title(\"Diagrama de barras presencia minera\", size=15)\n",
    "ax.set_xlabel('Tipo de registros', size = 12)\n",
    "ax.set_ylabel('Cantidad de observaciones',  size = 12)\n",
    "ax.tick_params(labelsize = 12)"
   ]
  },
  {
   "cell_type": "code",
   "execution_count": 17,
   "metadata": {},
   "outputs": [
    {
     "data": {
      "text/html": [
       "<div>\n",
       "<style scoped>\n",
       "    .dataframe tbody tr th:only-of-type {\n",
       "        vertical-align: middle;\n",
       "    }\n",
       "\n",
       "    .dataframe tbody tr th {\n",
       "        vertical-align: top;\n",
       "    }\n",
       "\n",
       "    .dataframe thead th {\n",
       "        text-align: right;\n",
       "    }\n",
       "</style>\n",
       "<table border=\"1\" class=\"dataframe\">\n",
       "  <thead>\n",
       "    <tr style=\"text-align: right;\">\n",
       "      <th></th>\n",
       "      <th>diskio_sda1_disk_name</th>\n",
       "      <th>diskio_sda1_key</th>\n",
       "      <th>diskio_sda1_time_since_update</th>\n",
       "      <th>diskio_sda_disk_name</th>\n",
       "      <th>diskio_sda_key</th>\n",
       "      <th>diskio_sda_time_since_update</th>\n",
       "      <th>fs_/_device_name</th>\n",
       "      <th>fs_/_fs_type</th>\n",
       "      <th>fs_/_key</th>\n",
       "      <th>fs_/_mnt_point</th>\n",
       "      <th>...</th>\n",
       "      <th>network_lo_tx</th>\n",
       "      <th>percpu_0_key</th>\n",
       "      <th>system_hostname</th>\n",
       "      <th>system_hr_name</th>\n",
       "      <th>system_linux_distro</th>\n",
       "      <th>system_os_name</th>\n",
       "      <th>system_os_version</th>\n",
       "      <th>system_platform</th>\n",
       "      <th>timestamp</th>\n",
       "      <th>Type</th>\n",
       "    </tr>\n",
       "  </thead>\n",
       "  <tbody>\n",
       "    <tr>\n",
       "      <th>count</th>\n",
       "      <td>95310</td>\n",
       "      <td>95310</td>\n",
       "      <td>95310.000000</td>\n",
       "      <td>95310</td>\n",
       "      <td>95310</td>\n",
       "      <td>95310.000000</td>\n",
       "      <td>95310</td>\n",
       "      <td>95310</td>\n",
       "      <td>95310</td>\n",
       "      <td>95310</td>\n",
       "      <td>...</td>\n",
       "      <td>95310.0</td>\n",
       "      <td>95310</td>\n",
       "      <td>95310</td>\n",
       "      <td>95310</td>\n",
       "      <td>95310</td>\n",
       "      <td>95310</td>\n",
       "      <td>95310</td>\n",
       "      <td>95310</td>\n",
       "      <td>95310</td>\n",
       "      <td>95310</td>\n",
       "    </tr>\n",
       "    <tr>\n",
       "      <th>unique</th>\n",
       "      <td>1</td>\n",
       "      <td>1</td>\n",
       "      <td>67719.000000</td>\n",
       "      <td>1</td>\n",
       "      <td>1</td>\n",
       "      <td>67719.000000</td>\n",
       "      <td>2</td>\n",
       "      <td>1</td>\n",
       "      <td>1</td>\n",
       "      <td>1</td>\n",
       "      <td>...</td>\n",
       "      <td>6.0</td>\n",
       "      <td>1</td>\n",
       "      <td>5</td>\n",
       "      <td>1</td>\n",
       "      <td>1</td>\n",
       "      <td>1</td>\n",
       "      <td>2</td>\n",
       "      <td>1</td>\n",
       "      <td>77332</td>\n",
       "      <td>2</td>\n",
       "    </tr>\n",
       "    <tr>\n",
       "      <th>top</th>\n",
       "      <td>sda1</td>\n",
       "      <td>disk_name</td>\n",
       "      <td>1.088656</td>\n",
       "      <td>sda</td>\n",
       "      <td>disk_name</td>\n",
       "      <td>1.088656</td>\n",
       "      <td>/dev/sda1</td>\n",
       "      <td>xfs</td>\n",
       "      <td>mnt_point</td>\n",
       "      <td>/</td>\n",
       "      <td>...</td>\n",
       "      <td>0.0</td>\n",
       "      <td>cpu_number</td>\n",
       "      <td>vm4-web-server</td>\n",
       "      <td>CentOS Linux 7.7.1908 64bit</td>\n",
       "      <td>CentOS Linux 7.7.1908</td>\n",
       "      <td>Linux</td>\n",
       "      <td>3.10.0-1062.12.1.el7.x86_64</td>\n",
       "      <td>64bit</td>\n",
       "      <td>2020-01-28 20:32:42</td>\n",
       "      <td>no_mine</td>\n",
       "    </tr>\n",
       "    <tr>\n",
       "      <th>freq</th>\n",
       "      <td>95310</td>\n",
       "      <td>95310</td>\n",
       "      <td>14.000000</td>\n",
       "      <td>95310</td>\n",
       "      <td>95310</td>\n",
       "      <td>14.000000</td>\n",
       "      <td>80850</td>\n",
       "      <td>95310</td>\n",
       "      <td>95310</td>\n",
       "      <td>95310</td>\n",
       "      <td>...</td>\n",
       "      <td>86480.0</td>\n",
       "      <td>95310</td>\n",
       "      <td>27829</td>\n",
       "      <td>95310</td>\n",
       "      <td>95310</td>\n",
       "      <td>95310</td>\n",
       "      <td>92341</td>\n",
       "      <td>95310</td>\n",
       "      <td>3</td>\n",
       "      <td>80850</td>\n",
       "    </tr>\n",
       "  </tbody>\n",
       "</table>\n",
       "<p>4 rows × 25 columns</p>\n",
       "</div>"
      ],
      "text/plain": [
       "       diskio_sda1_disk_name diskio_sda1_key  diskio_sda1_time_since_update  \\\n",
       "count                  95310           95310                   95310.000000   \n",
       "unique                     1               1                   67719.000000   \n",
       "top                     sda1       disk_name                       1.088656   \n",
       "freq                   95310           95310                      14.000000   \n",
       "\n",
       "       diskio_sda_disk_name diskio_sda_key  diskio_sda_time_since_update  \\\n",
       "count                 95310          95310                  95310.000000   \n",
       "unique                    1              1                  67719.000000   \n",
       "top                     sda      disk_name                      1.088656   \n",
       "freq                  95310          95310                     14.000000   \n",
       "\n",
       "       fs_/_device_name fs_/_fs_type   fs_/_key fs_/_mnt_point  ...  \\\n",
       "count             95310        95310      95310          95310  ...   \n",
       "unique                2            1          1              1  ...   \n",
       "top           /dev/sda1          xfs  mnt_point              /  ...   \n",
       "freq              80850        95310      95310          95310  ...   \n",
       "\n",
       "        network_lo_tx  percpu_0_key  system_hostname  \\\n",
       "count         95310.0         95310            95310   \n",
       "unique            6.0             1                5   \n",
       "top               0.0    cpu_number   vm4-web-server   \n",
       "freq          86480.0         95310            27829   \n",
       "\n",
       "                     system_hr_name    system_linux_distro  system_os_name  \\\n",
       "count                         95310                  95310           95310   \n",
       "unique                            1                      1               1   \n",
       "top     CentOS Linux 7.7.1908 64bit  CentOS Linux 7.7.1908           Linux   \n",
       "freq                          95310                  95310           95310   \n",
       "\n",
       "                  system_os_version system_platform            timestamp  \\\n",
       "count                         95310           95310                95310   \n",
       "unique                            2               1                77332   \n",
       "top     3.10.0-1062.12.1.el7.x86_64           64bit  2020-01-28 20:32:42   \n",
       "freq                          92341           95310                    3   \n",
       "\n",
       "           Type  \n",
       "count     95310  \n",
       "unique        2  \n",
       "top     no_mine  \n",
       "freq      80850  \n",
       "\n",
       "[4 rows x 25 columns]"
      ]
     },
     "execution_count": 17,
     "metadata": {},
     "output_type": "execute_result"
    }
   ],
   "source": [
    "dataF[categoria].describe()"
   ]
  },
  {
   "cell_type": "code",
   "execution_count": null,
   "metadata": {},
   "outputs": [],
   "source": [
    "dataF.describe()"
   ]
  },
  {
   "cell_type": "markdown",
   "metadata": {},
   "source": [
    "### Comparación por variables con respecto a la variable objetivo"
   ]
  },
  {
   "cell_type": "code",
   "execution_count": null,
   "metadata": {},
   "outputs": [],
   "source": [
    "fig, ax = plt.subplots(nrows = 29, ncols = 2, figsize = (15,200))\n",
    "ax = ax.flat\n",
    "for i, col in enumerate(numerico):\n",
    "    sns.kdeplot(dataA[col], color='blue', shade=True, ax = ax[i], label = \"mineria\")\n",
    "    sns.kdeplot(dataN[col], color='black', shade=True, ax = ax[i], label = \"no mineria\")\n",
    "    ax[i].axvline(dataF[col].mean(), c='r', linestyle = '--', label = 'Promedio')\n",
    "    ax[i].axvline(dataF[col].median(), c='g', linestyle = '--', label = 'Mediana')\n",
    "    ax[i].set_title(col, size = 15)\n",
    "    ax[i].tick_params(labelsize = 12)\n",
    "    ax[i].set_xlabel(\"\", size=9)\n",
    "    ax[i].legend()\n",
    "\n",
    "fig.tight_layout()\n",
    "plt.subplots_adjust(top = 0.97)\n",
    "fig.suptitle('Distribución Densidad Variables Cuantitativas: Datos presencia minera vs Datos presencia no minera', fontsize = 17, fontweight = \"bold\");"
   ]
  },
  {
   "cell_type": "code",
   "execution_count": null,
   "metadata": {},
   "outputs": [],
   "source": [
    "fig, ax = plt.subplots(nrows = 58, ncols = 2, figsize = (15,200))\n",
    "ax = ax.flat\n",
    "a = 0\n",
    "b = 1\n",
    "for i, col in enumerate(numerico):\n",
    "    if i > 0: \n",
    "        a = a+1\n",
    "        b = b+1\n",
    "    \n",
    "    sns.boxplot(x = dataA[col], ax = ax[i+a])\n",
    "    sns.boxplot(x = dataN[col], color = 'red', ax = ax[i+b])\n",
    "    ax[i+a].legend([\"mineria\"])\n",
    "    ax[i+a].set_title(col, size = 15)\n",
    "    ax[i+a].tick_params(labelsize = 12)\n",
    "    ax[i+a].set_xlabel(\"\", size=9)\n",
    "    ax[i+b].set_title(col, size = 15)\n",
    "    ax[i+b].tick_params(labelsize = 12)\n",
    "    ax[i+b].set_xlabel(\"\", size=9)\n",
    "    ax[i+b].legend([\"no mineria\"])\n",
    "    \n",
    "\n",
    "fig.tight_layout()\n",
    "plt.subplots_adjust(top = 0.97)\n",
    "fig.suptitle('Valores Atipicos: Datos presencia minera vs Datos presencia no minera', fontsize = 17, fontweight = \"bold\");"
   ]
  }
 ],
 "metadata": {
  "kernelspec": {
   "display_name": "Python 3",
   "language": "python",
   "name": "python3"
  },
  "language_info": {
   "codemirror_mode": {
    "name": "ipython",
    "version": 3
   },
   "file_extension": ".py",
   "mimetype": "text/x-python",
   "name": "python",
   "nbconvert_exporter": "python",
   "pygments_lexer": "ipython3",
   "version": "3.7.3"
  }
 },
 "nbformat": 4,
 "nbformat_minor": 2
}
