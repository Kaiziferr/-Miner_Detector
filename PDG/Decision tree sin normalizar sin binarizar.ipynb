{
 "cells": [
  {
   "cell_type": "code",
   "execution_count": 1506,
   "metadata": {},
   "outputs": [],
   "source": [
    "import pandas as pd\n",
    "import numpy as np\n",
    "import seaborn as sns\n",
    "import matplotlib.pyplot as plt\n",
    "import random\n",
    "\n",
    "\n",
    "from termcolor import colored\n",
    "\n",
    "from sklearn.model_selection import train_test_split, cross_validate, KFold\n",
    "from sklearn.preprocessing import OneHotEncoder\n",
    "from sklearn.impute import SimpleImputer\n",
    "\n",
    "\n",
    "from mlxtend.evaluate import bias_variance_decomp\n",
    "\n",
    "# Model\n",
    "# --------------------------------------------------------------------\n",
    "from sklearn.tree import DecisionTreeClassifier, plot_tree\n",
    "from sklearn import metrics"
   ]
  },
  {
   "cell_type": "code",
   "execution_count": 1507,
   "metadata": {},
   "outputs": [],
   "source": [
    "def ROC(X_test,y_test):\n",
    "    y_pred_proba = model.predict_proba(X_test)\n",
    "    lr_probs = y_pred_proba[:,1]\n",
    "    ns_probs = [0 for _ in range(len(y_test))]\n",
    "    ns_auc = metrics.roc_auc_score(y_test, ns_probs)\n",
    "    lr_auc = metrics.roc_auc_score(y_test, lr_probs)\n",
    "    ns_fpr, ns_tpr, thresholds  = metrics.roc_curve(y_test,ns_probs)\n",
    "    lr_fpr, lr_tpr, thresholds = metrics.roc_curve(y_test, lr_probs)\n",
    "    plt.plot(ns_fpr,ns_tpr,linestyle='--', label='No Skill')\n",
    "    plt.plot(lr_fpr, lr_tpr, marker='.', label='DT')\n",
    "    plt.xlabel('False Positive Rate')\n",
    "    plt.ylabel('True Positive Rate')\n",
    "    plt.legend()\n",
    "    plt.show()\n",
    "    print('No Skill: ROC AUC=%.3f' % (ns_auc))\n",
    "    print('Treeb: ROC AUC=%.3f' % (lr_auc))"
   ]
  },
  {
   "cell_type": "markdown",
   "metadata": {},
   "source": [
    "Imprime las metricas de los modelos"
   ]
  },
  {
   "cell_type": "code",
   "execution_count": 1508,
   "metadata": {},
   "outputs": [],
   "source": [
    "def metricas(validacion, prediccion, churm):\n",
    "    \n",
    "    print(\"Exactitud: \", metrics.accuracy_score(validacion, prediccion))\n",
    "    print(\"Kappa: \", metrics.cohen_kappa_score(validacion, prediccion))\n",
    "    \n",
    "    print(colored('Metricas de los registros mineros', attrs=['bold']))\n",
    "    \n",
    "    print(\"Precisión: \",  metrics.precision_score(validacion, prediccion, labels=[1], average='macro'))\n",
    "    print(\"Recall: \",  metrics.recall_score(validacion, prediccion, labels=[1], average='macro'))\n",
    "    \n",
    "    VN = churm[0,0]\n",
    "    FP = churm[0,1]\n",
    "    specificity = VN/(VN+FP)\n",
    "    \n",
    "    print(\"Especificidad : \", specificity)\n",
    "    print(\"F1-score      : \", metrics.f1_score(validacion, prediccion, labels=[1], average='macro'))\n",
    "    \n",
    "    \n",
    "    print(colored('Metricas de los registros no mineros', attrs=['bold']))\n",
    "    \n",
    "    print(\"Precisión: \",  metrics.precision_score(validacion, prediccion, labels=[0], average='macro'))\n",
    "    print(\"Recall: \",  metrics.recall_score(validacion, prediccion, labels=[0], average='macro'))\n",
    "    \n",
    "    VN = churm[1,1]\n",
    "    FP = churm[1,0]\n",
    "    specificity = VN/(VN+FP)\n",
    "    \n",
    "    print(\"Especificidad : \", specificity)\n",
    "    print(\"F1-score      : \", metrics.f1_score(validacion, prediccion, labels=[0], average='macro'))"
   ]
  },
  {
   "cell_type": "code",
   "execution_count": 1509,
   "metadata": {
    "scrolled": true
   },
   "outputs": [],
   "source": [
    "def matriz_confusion(validacion, prediccion, cmap):\n",
    "    print(colored('Matriz de confusión', attrs=['bold']))\n",
    "    churm = metrics.confusion_matrix(validacion, prediccion)\n",
    "    plt.imshow(churm, cmap=cmap)\n",
    "    plt.colorbar()\n",
    "    tick_marks = np.arange(2)\n",
    "    plt.xticks(tick_marks, ['Not_mine','Mine'])\n",
    "    plt.yticks(tick_marks, ['Not_mine','Mine'])\n",
    "    return churm"
   ]
  },
  {
   "cell_type": "markdown",
   "metadata": {},
   "source": [
    "# Importar datos Puros"
   ]
  },
  {
   "cell_type": "code",
   "execution_count": 1510,
   "metadata": {},
   "outputs": [
    {
     "data": {
      "text/html": [
       "<div>\n",
       "<style scoped>\n",
       "    .dataframe tbody tr th:only-of-type {\n",
       "        vertical-align: middle;\n",
       "    }\n",
       "\n",
       "    .dataframe tbody tr th {\n",
       "        vertical-align: top;\n",
       "    }\n",
       "\n",
       "    .dataframe thead th {\n",
       "        text-align: right;\n",
       "    }\n",
       "</style>\n",
       "<table border=\"1\" class=\"dataframe\">\n",
       "  <thead>\n",
       "    <tr style=\"text-align: right;\">\n",
       "      <th></th>\n",
       "      <th>Netflows</th>\n",
       "      <th>First_Protocol</th>\n",
       "      <th>p1_d</th>\n",
       "      <th>p2_d</th>\n",
       "      <th>p3_d</th>\n",
       "      <th>duration</th>\n",
       "      <th>max_d</th>\n",
       "      <th>min_d</th>\n",
       "      <th>#packets</th>\n",
       "      <th>Avg_bps</th>\n",
       "      <th>...</th>\n",
       "      <th>first_dp</th>\n",
       "      <th>second_dp</th>\n",
       "      <th>third_dp</th>\n",
       "      <th>p1_ip</th>\n",
       "      <th>p2_ip</th>\n",
       "      <th>p3_ip</th>\n",
       "      <th>p1_ib</th>\n",
       "      <th>p2_ib</th>\n",
       "      <th>p3_ib</th>\n",
       "      <th>Type</th>\n",
       "    </tr>\n",
       "  </thead>\n",
       "  <tbody>\n",
       "    <tr>\n",
       "      <th>0</th>\n",
       "      <td>82</td>\n",
       "      <td>TCP</td>\n",
       "      <td>2.9595</td>\n",
       "      <td>103.6315</td>\n",
       "      <td>135.19425</td>\n",
       "      <td>6709.539</td>\n",
       "      <td>184.327</td>\n",
       "      <td>0.0</td>\n",
       "      <td>407</td>\n",
       "      <td>1266</td>\n",
       "      <td>...</td>\n",
       "      <td>443</td>\n",
       "      <td>5355.0</td>\n",
       "      <td>80.0</td>\n",
       "      <td>3.0</td>\n",
       "      <td>5.0</td>\n",
       "      <td>5.75</td>\n",
       "      <td>84.0</td>\n",
       "      <td>160.0</td>\n",
       "      <td>248.0</td>\n",
       "      <td>not_mine</td>\n",
       "    </tr>\n",
       "  </tbody>\n",
       "</table>\n",
       "<p>1 rows × 28 columns</p>\n",
       "</div>"
      ],
      "text/plain": [
       "   Netflows First_Protocol    p1_d      p2_d       p3_d  duration    max_d  \\\n",
       "0        82            TCP  2.9595  103.6315  135.19425  6709.539  184.327   \n",
       "\n",
       "   min_d  #packets  Avg_bps  ...  first_dp  second_dp  third_dp  p1_ip  p2_ip  \\\n",
       "0    0.0       407     1266  ...       443     5355.0      80.0    3.0    5.0   \n",
       "\n",
       "   p3_ip  p1_ib  p2_ib  p3_ib      Type  \n",
       "0   5.75   84.0  160.0  248.0  not_mine  \n",
       "\n",
       "[1 rows x 28 columns]"
      ]
     },
     "execution_count": 1510,
     "metadata": {},
     "output_type": "execute_result"
    }
   ],
   "source": [
    "dataA = pd.read_csv('./data_identificada.csv').drop(['Second_Protocol', 'Third_Protocol','Cryptocurrency'], axis = 1)\n",
    "dataA.head(1)"
   ]
  },
  {
   "cell_type": "markdown",
   "metadata": {},
   "source": [
    "# Preprocesamiento"
   ]
  },
  {
   "cell_type": "markdown",
   "metadata": {},
   "source": [
    "### Imputación de valores ausentes"
   ]
  },
  {
   "cell_type": "code",
   "execution_count": 1511,
   "metadata": {},
   "outputs": [],
   "source": [
    "punter = pd.concat([dataA['second_sp'],dataA['second_dp'],dataA['third_sp'],dataA['third_dp']],axis=1)\n",
    "imputer = SimpleImputer(missing_values = np.nan, strategy = \"median\")\n",
    "values = imputer.fit_transform(punter)"
   ]
  },
  {
   "cell_type": "code",
   "execution_count": 1512,
   "metadata": {},
   "outputs": [],
   "source": [
    "punter = pd.DataFrame(values, columns = punter.columns)\n",
    "dataA['second_sp'] = punter['second_sp']\n",
    "dataA['second_dp'] = punter['second_dp']\n",
    "dataA['third_sp'] = punter['third_sp']\n",
    "dataA['third_dp'] = punter['third_dp']"
   ]
  },
  {
   "cell_type": "code",
   "execution_count": 1513,
   "metadata": {},
   "outputs": [
    {
     "data": {
      "text/plain": [
       "(4733, 28)"
      ]
     },
     "execution_count": 1513,
     "metadata": {},
     "output_type": "execute_result"
    }
   ],
   "source": [
    "dataCopyA = dataA\n",
    "dataA.shape"
   ]
  },
  {
   "cell_type": "code",
   "execution_count": 1514,
   "metadata": {},
   "outputs": [
    {
     "name": "stdout",
     "output_type": "stream",
     "text": [
      "\u001b[1mComo los registros benignos son los mismos para cada conjunto de datos, sacare aleatoriamente el 70% para utilizarlos para el entreno de modelos posteriores, y emular con el 30% datos de testeo\u001b[0m\n"
     ]
    }
   ],
   "source": [
    "print(colored('Como los registros benignos son los mismos para cada conjunto de datos, sacare aleatoriamente el 70% para utilizarlos para el entreno de modelos posteriores, y emular con el 30% datos de testeo', attrs=['bold']))\n",
    "porcion_no_minera_conjuntoA = dataCopyA[dataCopyA.Type == \"not_mine\"]\n",
    "porcion_no_minera_conjuntoA = porcion_no_minera_conjuntoA.sample(n=750)"
   ]
  },
  {
   "cell_type": "code",
   "execution_count": 1515,
   "metadata": {},
   "outputs": [
    {
     "data": {
      "text/plain": [
       "(750, 28)"
      ]
     },
     "execution_count": 1515,
     "metadata": {},
     "output_type": "execute_result"
    }
   ],
   "source": [
    "porcion_no_minera_conjuntoA.shape"
   ]
  },
  {
   "cell_type": "code",
   "execution_count": 1516,
   "metadata": {},
   "outputs": [
    {
     "data": {
      "text/plain": [
       "(4733, 28)"
      ]
     },
     "execution_count": 1516,
     "metadata": {},
     "output_type": "execute_result"
    }
   ],
   "source": [
    "dataA.shape"
   ]
  },
  {
   "cell_type": "code",
   "execution_count": 1517,
   "metadata": {},
   "outputs": [],
   "source": [
    "dataA = dataA[~dataA.index.isin(porcion_no_minera_conjuntoA.index)]"
   ]
  },
  {
   "cell_type": "code",
   "execution_count": 1518,
   "metadata": {},
   "outputs": [
    {
     "name": "stdout",
     "output_type": "stream",
     "text": [
      "\u001b[1mBalance del conjunto de datos\u001b[0m\n"
     ]
    },
    {
     "data": {
      "image/png": "[encoded data removed]",
      "text/plain": [
       "<Figure size 576x288 with 1 Axes>"
      ]
     },
     "metadata": {
      "needs_background": "light"
     },
     "output_type": "display_data"
    }
   ],
   "source": [
    "print(colored(f'Balance del conjunto de datos', attrs=['bold']))\n",
    "fig, ax = plt.subplots(figsize=(8,4))\n",
    "ax = sns.countplot(x='Type', data=dataA, palette=\"Set1\")\n",
    "ax.set_title(\"Diagrama de barras Tipo de trafico\", size=15)\n",
    "ax.set_xlabel('Tipo de trafico', size = 12)\n",
    "ax.set_ylabel('Cantidad de observaciones',  size = 12)\n",
    "ax.tick_params(labelsize = 12)"
   ]
  },
  {
   "cell_type": "markdown",
   "metadata": {},
   "source": [
    "### OneHotEncoder"
   ]
  },
  {
   "cell_type": "code",
   "execution_count": 1519,
   "metadata": {},
   "outputs": [
    {
     "data": {
      "text/plain": [
       "<3983x5 sparse matrix of type '<class 'numpy.float64'>'\n",
       "\twith 7966 stored elements in Compressed Sparse Row format>"
      ]
     },
     "execution_count": 1519,
     "metadata": {},
     "output_type": "execute_result"
    }
   ],
   "source": [
    "data_categoric = dataA[dataA.select_dtypes(include = ['object']).columns.to_list()]\n",
    "one_hot = OneHotEncoder()\n",
    "one_hot.fit_transform(data_categoric)"
   ]
  },
  {
   "cell_type": "code",
   "execution_count": 1520,
   "metadata": {},
   "outputs": [
    {
     "data": {
      "text/html": [
       "<div>\n",
       "<style scoped>\n",
       "    .dataframe tbody tr th:only-of-type {\n",
       "        vertical-align: middle;\n",
       "    }\n",
       "\n",
       "    .dataframe tbody tr th {\n",
       "        vertical-align: top;\n",
       "    }\n",
       "\n",
       "    .dataframe thead th {\n",
       "        text-align: right;\n",
       "    }\n",
       "</style>\n",
       "<table border=\"1\" class=\"dataframe\">\n",
       "  <thead>\n",
       "    <tr style=\"text-align: right;\">\n",
       "      <th></th>\n",
       "      <th>First_Protocol_ICMP</th>\n",
       "      <th>First_Protocol_TCP</th>\n",
       "      <th>First_Protocol_UDP</th>\n",
       "      <th>Type_mine</th>\n",
       "      <th>Type_not_mine</th>\n",
       "    </tr>\n",
       "  </thead>\n",
       "  <tbody>\n",
       "    <tr>\n",
       "      <th>0</th>\n",
       "      <td>0</td>\n",
       "      <td>1</td>\n",
       "      <td>0</td>\n",
       "      <td>0</td>\n",
       "      <td>1</td>\n",
       "    </tr>\n",
       "    <tr>\n",
       "      <th>1</th>\n",
       "      <td>0</td>\n",
       "      <td>1</td>\n",
       "      <td>0</td>\n",
       "      <td>0</td>\n",
       "      <td>1</td>\n",
       "    </tr>\n",
       "  </tbody>\n",
       "</table>\n",
       "</div>"
      ],
      "text/plain": [
       "   First_Protocol_ICMP  First_Protocol_TCP  First_Protocol_UDP  Type_mine  \\\n",
       "0                    0                   1                   0          0   \n",
       "1                    0                   1                   0          0   \n",
       "\n",
       "   Type_not_mine  \n",
       "0              1  \n",
       "1              1  "
      ]
     },
     "execution_count": 1520,
     "metadata": {},
     "output_type": "execute_result"
    }
   ],
   "source": [
    "data_dummy = pd.get_dummies(data_categoric)\n",
    "data_dummy.head(2)"
   ]
  },
  {
   "cell_type": "code",
   "execution_count": 1521,
   "metadata": {},
   "outputs": [],
   "source": [
    "dataA = dataA.drop(['First_Protocol','Type'],axis = 1)"
   ]
  },
  {
   "cell_type": "code",
   "execution_count": 1522,
   "metadata": {},
   "outputs": [
    {
     "data": {
      "text/plain": [
       "Index(['Netflows', 'p1_d', 'p2_d', 'p3_d', 'duration', 'max_d', 'min_d',\n",
       "       '#packets', 'Avg_bps', 'Avg_pps', 'Avg_bpp', '#Bytes', '#sp', '#dp',\n",
       "       'first_sp', 'second_sp', 'third_sp', 'first_dp', 'second_dp',\n",
       "       'third_dp', 'p1_ip', 'p2_ip', 'p3_ip', 'p1_ib', 'p2_ib', 'p3_ib',\n",
       "       'First_Protocol_ICMP', 'First_Protocol_TCP', 'First_Protocol_UDP',\n",
       "       'Type_mine', 'Type_not_mine'],\n",
       "      dtype='object')"
      ]
     },
     "execution_count": 1522,
     "metadata": {},
     "output_type": "execute_result"
    }
   ],
   "source": [
    "dataA = pd.concat([dataA,data_dummy], axis = 1)\n",
    "dataA.columns"
   ]
  },
  {
   "cell_type": "markdown",
   "metadata": {},
   "source": [
    "# Árbol de decisión"
   ]
  },
  {
   "cell_type": "code",
   "execution_count": 1523,
   "metadata": {},
   "outputs": [],
   "source": [
    "best_feature_pure = ['Avg_bps','Avg_bpp' ,'Avg_pps','p3_ip','p3_ib']"
   ]
  },
  {
   "cell_type": "code",
   "execution_count": 1524,
   "metadata": {},
   "outputs": [],
   "source": [
    "y = dataA['Type_mine']\n",
    "X = dataA[best_feature_pure]"
   ]
  },
  {
   "cell_type": "markdown",
   "metadata": {},
   "source": [
    "### Holdout"
   ]
  },
  {
   "cell_type": "code",
   "execution_count": 1525,
   "metadata": {},
   "outputs": [],
   "source": [
    "X_train, X_test, y_train, y_test = train_test_split(X,y, train_size = 0.7)"
   ]
  },
  {
   "cell_type": "markdown",
   "metadata": {},
   "source": [
    "### Modelo"
   ]
  },
  {
   "cell_type": "code",
   "execution_count": 1526,
   "metadata": {},
   "outputs": [
    {
     "name": "stdout",
     "output_type": "stream",
     "text": [
      "\u001b[1mInstancio el modelo de arbol de decisión\u001b[0m\n"
     ]
    }
   ],
   "source": [
    "print(colored('Instancio el modelo de arbol de decisión', attrs=['bold']))\n",
    "model = DecisionTreeClassifier(\n",
    "    criterion='entropy', \n",
    "    max_depth=5,      \n",
    "    min_samples_split=2,\n",
    "    min_samples_leaf=1,\n",
    "    random_state=None,  \n",
    "    max_leaf_nodes=None, \n",
    "    min_impurity_decrease=0.0, \n",
    "    class_weight=None)"
   ]
  },
  {
   "cell_type": "code",
   "execution_count": 1527,
   "metadata": {},
   "outputs": [
    {
     "name": "stdout",
     "output_type": "stream",
     "text": [
      "\u001b[1mEntreno el modelo\u001b[0m\n"
     ]
    },
    {
     "data": {
      "text/plain": [
       "DecisionTreeClassifier(ccp_alpha=0.0, class_weight=None, criterion='entropy',\n",
       "                       max_depth=5, max_features=None, max_leaf_nodes=None,\n",
       "                       min_impurity_decrease=0.0, min_impurity_split=None,\n",
       "                       min_samples_leaf=1, min_samples_split=2,\n",
       "                       min_weight_fraction_leaf=0.0, presort='deprecated',\n",
       "                       random_state=None, splitter='best')"
      ]
     },
     "execution_count": 1527,
     "metadata": {},
     "output_type": "execute_result"
    }
   ],
   "source": [
    "print(colored('Entreno el modelo', attrs=['bold']))\n",
    "model.fit(X_train,y_train)"
   ]
  },
  {
   "cell_type": "code",
   "execution_count": 1528,
   "metadata": {
    "scrolled": false
   },
   "outputs": [
    {
     "name": "stdout",
     "output_type": "stream",
     "text": [
      "\u001b[1mGrafico el modelo\u001b[0m\n",
      "\u001b[1mProfundidad del árbol: 5\u001b[0m\n",
      "\u001b[1mNúmero de nodos terminales: 15\u001b[0m\n"
     ]
    },
    {
     "data": {
      "text/plain": [
       "[Text(298.02272727272725, 498.3, 'Avg_pps <= 1.5\\nsamples = 2788\\nvalue = [1220, 1568]\\nclass = i'),\n",
       " Text(139.5, 407.70000000000005, 'p3_ib <= 702.5\\nsamples = 1835\\nvalue = [278, 1557]\\nclass = i'),\n",
       " Text(76.0909090909091, 317.1, 'Avg_bps <= 71.5\\nsamples = 283\\nvalue = [276, 7]\\nclass = T'),\n",
       " Text(50.72727272727273, 226.5, 'p3_ib <= 150.75\\nsamples = 9\\nvalue = [2, 7]\\nclass = i'),\n",
       " Text(25.363636363636363, 135.89999999999998, 'samples = 2\\nvalue = [2, 0]\\nclass = T'),\n",
       " Text(76.0909090909091, 135.89999999999998, 'samples = 7\\nvalue = [0, 7]\\nclass = i'),\n",
       " Text(101.45454545454545, 226.5, 'samples = 274\\nvalue = [274, 0]\\nclass = T'),\n",
       " Text(202.9090909090909, 317.1, 'p3_ib <= 801.375\\nsamples = 1552\\nvalue = [2, 1550]\\nclass = i'),\n",
       " Text(152.1818181818182, 226.5, 'p3_ib <= 756.375\\nsamples = 4\\nvalue = [1, 3]\\nclass = i'),\n",
       " Text(126.81818181818181, 135.89999999999998, 'samples = 3\\nvalue = [0, 3]\\nclass = i'),\n",
       " Text(177.54545454545453, 135.89999999999998, 'samples = 1\\nvalue = [1, 0]\\nclass = T'),\n",
       " Text(253.63636363636363, 226.5, 'p3_ip <= 10.625\\nsamples = 1548\\nvalue = [1, 1547]\\nclass = i'),\n",
       " Text(228.27272727272728, 135.89999999999998, 'p3_ip <= 10.375\\nsamples = 144\\nvalue = [1, 143]\\nclass = i'),\n",
       " Text(202.9090909090909, 45.299999999999955, 'samples = 142\\nvalue = [0, 142]\\nclass = i'),\n",
       " Text(253.63636363636363, 45.299999999999955, 'samples = 2\\nvalue = [1, 1]\\nclass = T'),\n",
       " Text(279.0, 135.89999999999998, 'samples = 1404\\nvalue = [0, 1404]\\nclass = i'),\n",
       " Text(456.54545454545456, 407.70000000000005, 'Avg_bpp <= 529.0\\nsamples = 953\\nvalue = [942, 11]\\nclass = T'),\n",
       " Text(431.1818181818182, 317.1, 'Avg_bps <= 15225.0\\nsamples = 334\\nvalue = [323, 11]\\nclass = T'),\n",
       " Text(355.09090909090907, 226.5, 'p3_ib <= 612.5\\nsamples = 257\\nvalue = [255, 2]\\nclass = T'),\n",
       " Text(329.72727272727275, 135.89999999999998, 'samples = 239\\nvalue = [239, 0]\\nclass = T'),\n",
       " Text(380.45454545454544, 135.89999999999998, 'Avg_bpp <= 149.5\\nsamples = 18\\nvalue = [16, 2]\\nclass = T'),\n",
       " Text(355.09090909090907, 45.299999999999955, 'samples = 4\\nvalue = [2, 2]\\nclass = T'),\n",
       " Text(405.8181818181818, 45.299999999999955, 'samples = 14\\nvalue = [14, 0]\\nclass = T'),\n",
       " Text(507.27272727272725, 226.5, 'p3_ip <= 5.5\\nsamples = 77\\nvalue = [68, 9]\\nclass = T'),\n",
       " Text(481.9090909090909, 135.89999999999998, 'p3_ib <= 203.875\\nsamples = 31\\nvalue = [22, 9]\\nclass = T'),\n",
       " Text(456.54545454545456, 45.299999999999955, 'samples = 19\\nvalue = [18, 1]\\nclass = T'),\n",
       " Text(507.27272727272725, 45.299999999999955, 'samples = 12\\nvalue = [4, 8]\\nclass = i'),\n",
       " Text(532.6363636363636, 135.89999999999998, 'samples = 46\\nvalue = [46, 0]\\nclass = T'),\n",
       " Text(481.9090909090909, 317.1, 'samples = 619\\nvalue = [619, 0]\\nclass = T')]"
      ]
     },
     "execution_count": 1528,
     "metadata": {},
     "output_type": "execute_result"
    },
    {
     "data": {
      "image/png": "[encoded data removed]",
      "text/plain": [
       "<Figure size 720x720 with 1 Axes>"
      ]
     },
     "metadata": {
      "needs_background": "light"
     },
     "output_type": "display_data"
    }
   ],
   "source": [
    "print(colored('Grafico el modelo', attrs=['bold']))\n",
    "fig, ax = plt.subplots(figsize = (10,10))\n",
    "\n",
    "print(colored(f'Profundidad del árbol: {model.get_depth()}', attrs=['bold']))\n",
    "print(colored(f'Número de nodos terminales: {model.get_n_leaves()}', attrs=['bold']))\n",
    "\n",
    "\n",
    "plot_tree(\n",
    "    decision_tree = model,\n",
    "    feature_names = X_train.columns.tolist(),\n",
    "    class_names   = 'Tipo de trafico minero',\n",
    "    filled        = True,\n",
    "    impurity      = False,\n",
    "    fontsize      = 17,\n",
    "    ax            = ax\n",
    ")"
   ]
  },
  {
   "cell_type": "code",
   "execution_count": 1529,
   "metadata": {},
   "outputs": [
    {
     "name": "stdout",
     "output_type": "stream",
     "text": [
      "\u001b[1mRealizo la predicción del modelo con la porción de prueba\u001b[0m\n"
     ]
    },
    {
     "data": {
      "text/plain": [
       "array([0, 1, 1, ..., 0, 1, 1], dtype=uint8)"
      ]
     },
     "execution_count": 1529,
     "metadata": {},
     "output_type": "execute_result"
    }
   ],
   "source": [
    "print(colored('Realizo la predicción del modelo con la porción de prueba', attrs=['bold']))\n",
    "y_pred = model.predict(X_test)\n",
    "y_pred"
   ]
  },
  {
   "cell_type": "code",
   "execution_count": 1530,
   "metadata": {},
   "outputs": [
    {
     "data": {
      "text/plain": [
       "531"
      ]
     },
     "execution_count": 1530,
     "metadata": {},
     "output_type": "execute_result"
    }
   ],
   "source": [
    "len(y_pred[y_pred == 0])"
   ]
  },
  {
   "cell_type": "code",
   "execution_count": 1531,
   "metadata": {},
   "outputs": [
    {
     "data": {
      "text/plain": [
       "664"
      ]
     },
     "execution_count": 1531,
     "metadata": {},
     "output_type": "execute_result"
    }
   ],
   "source": [
    "len(y_pred[y_pred == 1])"
   ]
  },
  {
   "cell_type": "code",
   "execution_count": 1532,
   "metadata": {},
   "outputs": [
    {
     "name": "stdout",
     "output_type": "stream",
     "text": [
      "Average expected loss: 0.008\n",
      "Average bias: 0.005\n",
      "Average variance: 0.004\n"
     ]
    }
   ],
   "source": [
    "avg_expected_loss, avg_bias, avg_var = bias_variance_decomp(model, np.array(X_train), np.array(y_train), np.array(X_test), np.array(y_test), loss='0-1_loss')\n",
    "\n",
    "print('Average expected loss: %.3f' % avg_expected_loss)\n",
    "print('Average bias: %.3f' % avg_bias)\n",
    "print('Average variance: %.3f' % avg_var)"
   ]
  },
  {
   "cell_type": "markdown",
   "metadata": {},
   "source": [
    "### Métricas y matriz de confusión"
   ]
  },
  {
   "cell_type": "code",
   "execution_count": 1533,
   "metadata": {
    "scrolled": true
   },
   "outputs": [
    {
     "name": "stdout",
     "output_type": "stream",
     "text": [
      "\u001b[1mMatriz de confusión\u001b[0m\n"
     ]
    },
    {
     "data": {
      "image/png": "[encoded data removed]",
      "text/plain": [
       "<Figure size 432x288 with 2 Axes>"
      ]
     },
     "metadata": {
      "needs_background": "light"
     },
     "output_type": "display_data"
    }
   ],
   "source": [
    "churm = matriz_confusion(y_test, y_pred, plt.cm.Blues)"
   ]
  },
  {
   "cell_type": "code",
   "execution_count": 1534,
   "metadata": {},
   "outputs": [
    {
     "data": {
      "text/html": [
       "<div>\n",
       "<style scoped>\n",
       "    .dataframe tbody tr th:only-of-type {\n",
       "        vertical-align: middle;\n",
       "    }\n",
       "\n",
       "    .dataframe tbody tr th {\n",
       "        vertical-align: top;\n",
       "    }\n",
       "\n",
       "    .dataframe thead th {\n",
       "        text-align: right;\n",
       "    }\n",
       "</style>\n",
       "<table border=\"1\" class=\"dataframe\">\n",
       "  <thead>\n",
       "    <tr style=\"text-align: right;\">\n",
       "      <th></th>\n",
       "      <th>0</th>\n",
       "      <th>1</th>\n",
       "    </tr>\n",
       "  </thead>\n",
       "  <tbody>\n",
       "    <tr>\n",
       "      <th>0</th>\n",
       "      <td>527</td>\n",
       "      <td>4</td>\n",
       "    </tr>\n",
       "    <tr>\n",
       "      <th>1</th>\n",
       "      <td>4</td>\n",
       "      <td>660</td>\n",
       "    </tr>\n",
       "  </tbody>\n",
       "</table>\n",
       "</div>"
      ],
      "text/plain": [
       "     0    1\n",
       "0  527    4\n",
       "1    4  660"
      ]
     },
     "execution_count": 1534,
     "metadata": {},
     "output_type": "execute_result"
    }
   ],
   "source": [
    "pd.DataFrame(churm)"
   ]
  },
  {
   "cell_type": "code",
   "execution_count": 1535,
   "metadata": {},
   "outputs": [
    {
     "name": "stdout",
     "output_type": "stream",
     "text": [
      "El modelo arbol de dicición se equivocó en 8 de los 3983 registros que componen el dataset de mineria no pura\n"
     ]
    }
   ],
   "source": [
    "print(\"El modelo arbol de dicición se equivocó en %d de los %d registros que componen el dataset de mineria no pura\"\n",
    "      % ((y_test != y_pred).sum(), dataA.shape[0]))"
   ]
  },
  {
   "cell_type": "code",
   "execution_count": 1536,
   "metadata": {
    "scrolled": false
   },
   "outputs": [
    {
     "name": "stdout",
     "output_type": "stream",
     "text": [
      "Exactitud:  0.9933054393305439\n",
      "Kappa:  0.9864429469289587\n",
      "\u001b[1mMetricas de los registros mineros\u001b[0m\n",
      "Precisión:  0.9939759036144579\n",
      "Recall:  0.9939759036144579\n",
      "Especificidad :  0.992467043314501\n",
      "F1-score      :  0.9939759036144579\n",
      "\u001b[1mMetricas de los registros no mineros\u001b[0m\n",
      "Precisión:  0.992467043314501\n",
      "Recall:  0.992467043314501\n",
      "Especificidad :  0.9939759036144579\n",
      "F1-score      :  0.992467043314501\n"
     ]
    }
   ],
   "source": [
    "metricas(y_test, y_pred, churm)"
   ]
  },
  {
   "cell_type": "code",
   "execution_count": 1537,
   "metadata": {},
   "outputs": [
    {
     "data": {
      "image/png": "[encoded data removed]",
      "text/plain": [
       "<Figure size 432x288 with 1 Axes>"
      ]
     },
     "metadata": {
      "needs_background": "light"
     },
     "output_type": "display_data"
    },
    {
     "name": "stdout",
     "output_type": "stream",
     "text": [
      "No Skill: ROC AUC=0.500\n",
      "Treeb: ROC AUC=0.993\n"
     ]
    }
   ],
   "source": [
    "ROC(X_test,y_test)"
   ]
  },
  {
   "cell_type": "markdown",
   "metadata": {},
   "source": [
    "# Experimento 1"
   ]
  },
  {
   "cell_type": "code",
   "execution_count": 1538,
   "metadata": {
    "scrolled": true
   },
   "outputs": [
    {
     "name": "stdout",
     "output_type": "stream",
     "text": [
      "\u001b[1mImporto el conjunto de datos no puros\u001b[0m\n"
     ]
    },
    {
     "data": {
      "text/plain": [
       "Index(['Netflows', 'First_Protocol', 'p1_d', 'p2_d', 'p3_d', 'duration',\n",
       "       'max_d', 'min_d', '#packets', 'Avg_bps', 'Avg_pps', 'Avg_bpp', '#Bytes',\n",
       "       '#sp', '#dp', 'first_sp', 'second_sp', 'third_sp', 'first_dp',\n",
       "       'second_dp', 'third_dp', 'p1_ip', 'p2_ip', 'p3_ip', 'p1_ib', 'p2_ib',\n",
       "       'p3_ib', 'Type'],\n",
       "      dtype='object')"
      ]
     },
     "execution_count": 1538,
     "metadata": {},
     "output_type": "execute_result"
    }
   ],
   "source": [
    "print(colored('Importo el conjunto de datos no puros', attrs=['bold']))\n",
    "dataB = pd.read_csv('./data_no_identificada.csv').drop(['Name','Second_Protocol', 'Third_Protocol'], axis = 1)\n",
    "dataB.columns"
   ]
  },
  {
   "cell_type": "code",
   "execution_count": 1539,
   "metadata": {},
   "outputs": [],
   "source": [
    "dataB = pd.concat([dataB[dataB.Type == 'mine'],porcion_no_minera_conjuntoA], axis = 0)"
   ]
  },
  {
   "cell_type": "markdown",
   "metadata": {},
   "source": [
    "### Imputar valores"
   ]
  },
  {
   "cell_type": "code",
   "execution_count": 1540,
   "metadata": {},
   "outputs": [],
   "source": [
    "punter = pd.concat([dataB['second_sp'],dataB['third_sp'],dataB['second_dp'],dataB['third_dp']], axis = 1)\n",
    "imputer = SimpleImputer(missing_values = np.nan, strategy = 'median')\n",
    "values = imputer.fit_transform(punter)"
   ]
  },
  {
   "cell_type": "code",
   "execution_count": 1541,
   "metadata": {
    "scrolled": true
   },
   "outputs": [],
   "source": [
    "punter = pd.DataFrame(values, columns = punter.columns)\n",
    "dataB['second_sp'] = punter['second_sp']\n",
    "dataB['second_dp'] = punter['second_dp']\n",
    "dataB['third_sp'] = punter['third_sp']\n",
    "dataB['third_dp'] = punter['third_dp']"
   ]
  },
  {
   "cell_type": "markdown",
   "metadata": {},
   "source": [
    "### OneHotEncoder"
   ]
  },
  {
   "cell_type": "code",
   "execution_count": 1542,
   "metadata": {},
   "outputs": [
    {
     "data": {
      "text/plain": [
       "<37803x6 sparse matrix of type '<class 'numpy.float64'>'\n",
       "\twith 75606 stored elements in Compressed Sparse Row format>"
      ]
     },
     "execution_count": 1542,
     "metadata": {},
     "output_type": "execute_result"
    }
   ],
   "source": [
    "data_categoric = dataB[dataB.select_dtypes(include = ['object']).columns.to_list()]\n",
    "one_hot = OneHotEncoder()\n",
    "one_hot.fit_transform(data_categoric)"
   ]
  },
  {
   "cell_type": "code",
   "execution_count": 1543,
   "metadata": {},
   "outputs": [
    {
     "data": {
      "text/html": [
       "<div>\n",
       "<style scoped>\n",
       "    .dataframe tbody tr th:only-of-type {\n",
       "        vertical-align: middle;\n",
       "    }\n",
       "\n",
       "    .dataframe tbody tr th {\n",
       "        vertical-align: top;\n",
       "    }\n",
       "\n",
       "    .dataframe thead th {\n",
       "        text-align: right;\n",
       "    }\n",
       "</style>\n",
       "<table border=\"1\" class=\"dataframe\">\n",
       "  <thead>\n",
       "    <tr style=\"text-align: right;\">\n",
       "      <th></th>\n",
       "      <th>First_Protocol_ICMP</th>\n",
       "      <th>First_Protocol_ICMP6</th>\n",
       "      <th>First_Protocol_TCP</th>\n",
       "      <th>First_Protocol_UDP</th>\n",
       "      <th>Type_mine</th>\n",
       "    </tr>\n",
       "  </thead>\n",
       "  <tbody>\n",
       "    <tr>\n",
       "      <th>0</th>\n",
       "      <td>0</td>\n",
       "      <td>0</td>\n",
       "      <td>1</td>\n",
       "      <td>0</td>\n",
       "      <td>1</td>\n",
       "    </tr>\n",
       "    <tr>\n",
       "      <th>1</th>\n",
       "      <td>0</td>\n",
       "      <td>0</td>\n",
       "      <td>1</td>\n",
       "      <td>0</td>\n",
       "      <td>1</td>\n",
       "    </tr>\n",
       "  </tbody>\n",
       "</table>\n",
       "</div>"
      ],
      "text/plain": [
       "   First_Protocol_ICMP  First_Protocol_ICMP6  First_Protocol_TCP  \\\n",
       "0                    0                     0                   1   \n",
       "1                    0                     0                   1   \n",
       "\n",
       "   First_Protocol_UDP  Type_mine  \n",
       "0                   0          1  \n",
       "1                   0          1  "
      ]
     },
     "execution_count": 1543,
     "metadata": {},
     "output_type": "execute_result"
    }
   ],
   "source": [
    "data_dummy = pd.get_dummies(data_categoric).drop('Type_not_mine',axis=1)\n",
    "data_dummy.head(2)"
   ]
  },
  {
   "cell_type": "code",
   "execution_count": null,
   "metadata": {},
   "outputs": [],
   "source": []
  },
  {
   "cell_type": "code",
   "execution_count": 1544,
   "metadata": {},
   "outputs": [
    {
     "data": {
      "text/plain": [
       "Index(['Netflows', 'p1_d', 'p2_d', 'p3_d', 'duration', 'max_d', 'min_d',\n",
       "       '#packets', 'Avg_bps', 'Avg_pps', 'Avg_bpp', '#Bytes', '#sp', '#dp',\n",
       "       'first_sp', 'second_sp', 'third_sp', 'first_dp', 'second_dp',\n",
       "       'third_dp', 'p1_ip', 'p2_ip', 'p3_ip', 'p1_ib', 'p2_ib', 'p3_ib',\n",
       "       'First_Protocol_ICMP', 'First_Protocol_ICMP6', 'First_Protocol_TCP',\n",
       "       'First_Protocol_UDP', 'Type_mine'],\n",
       "      dtype='object')"
      ]
     },
     "execution_count": 1544,
     "metadata": {},
     "output_type": "execute_result"
    }
   ],
   "source": [
    "dataB = pd.concat([dataB,data_dummy], axis = 1).drop(['First_Protocol','Type'],axis=1)\n",
    "dataB.columns"
   ]
  },
  {
   "cell_type": "code",
   "execution_count": 1545,
   "metadata": {},
   "outputs": [
    {
     "data": {
      "text/plain": [
       "Index(['Avg_bps', 'Avg_bpp', 'Avg_pps', 'p3_ip', 'p3_ib'], dtype='object')"
      ]
     },
     "execution_count": 1545,
     "metadata": {},
     "output_type": "execute_result"
    }
   ],
   "source": [
    "X_train.columns"
   ]
  },
  {
   "cell_type": "code",
   "execution_count": 1546,
   "metadata": {},
   "outputs": [],
   "source": [
    "X = dataB[best_feature_pure]\n",
    "y = dataB['Type_mine']"
   ]
  },
  {
   "cell_type": "markdown",
   "metadata": {},
   "source": [
    "### Realizo la predicción"
   ]
  },
  {
   "cell_type": "code",
   "execution_count": 1547,
   "metadata": {
    "scrolled": true
   },
   "outputs": [
    {
     "data": {
      "text/plain": [
       "array([0, 0, 1, ..., 0, 0, 0], dtype=uint8)"
      ]
     },
     "execution_count": 1547,
     "metadata": {},
     "output_type": "execute_result"
    }
   ],
   "source": [
    "y_pred = model.predict(X)\n",
    "y_pred"
   ]
  },
  {
   "cell_type": "code",
   "execution_count": 1548,
   "metadata": {},
   "outputs": [
    {
     "name": "stdout",
     "output_type": "stream",
     "text": [
      "\u001b[1mMatriz de confusión\u001b[0m\n"
     ]
    },
    {
     "data": {
      "image/png": "[encoded data removed]",
      "text/plain": [
       "<Figure size 432x288 with 2 Axes>"
      ]
     },
     "metadata": {
      "needs_background": "light"
     },
     "output_type": "display_data"
    }
   ],
   "source": [
    "churm = matriz_confusion(y, y_pred, plt.cm.Reds)"
   ]
  },
  {
   "cell_type": "code",
   "execution_count": 1549,
   "metadata": {},
   "outputs": [
    {
     "data": {
      "text/html": [
       "<div>\n",
       "<style scoped>\n",
       "    .dataframe tbody tr th:only-of-type {\n",
       "        vertical-align: middle;\n",
       "    }\n",
       "\n",
       "    .dataframe tbody tr th {\n",
       "        vertical-align: top;\n",
       "    }\n",
       "\n",
       "    .dataframe thead th {\n",
       "        text-align: right;\n",
       "    }\n",
       "</style>\n",
       "<table border=\"1\" class=\"dataframe\">\n",
       "  <thead>\n",
       "    <tr style=\"text-align: right;\">\n",
       "      <th></th>\n",
       "      <th>0</th>\n",
       "      <th>1</th>\n",
       "    </tr>\n",
       "  </thead>\n",
       "  <tbody>\n",
       "    <tr>\n",
       "      <th>0</th>\n",
       "      <td>742</td>\n",
       "      <td>8</td>\n",
       "    </tr>\n",
       "    <tr>\n",
       "      <th>1</th>\n",
       "      <td>31984</td>\n",
       "      <td>5069</td>\n",
       "    </tr>\n",
       "  </tbody>\n",
       "</table>\n",
       "</div>"
      ],
      "text/plain": [
       "       0     1\n",
       "0    742     8\n",
       "1  31984  5069"
      ]
     },
     "execution_count": 1549,
     "metadata": {},
     "output_type": "execute_result"
    }
   ],
   "source": [
    "pd.DataFrame(churm)"
   ]
  },
  {
   "cell_type": "code",
   "execution_count": 1550,
   "metadata": {},
   "outputs": [
    {
     "name": "stdout",
     "output_type": "stream",
     "text": [
      "El modelo de en el experimento 1 se equivocó en 31992 de los 37803 registros que componen el dataset de mineria no pura\n"
     ]
    }
   ],
   "source": [
    "print(\"El modelo de en el experimento 1 se equivocó en %d de los %d registros que componen el dataset de mineria no pura\"\n",
    "      % ((y != y_pred).sum(), dataB.shape[0]))"
   ]
  },
  {
   "cell_type": "code",
   "execution_count": 1551,
   "metadata": {},
   "outputs": [
    {
     "name": "stdout",
     "output_type": "stream",
     "text": [
      "Exactitud:  0.15371795889215142\n",
      "Kappa:  0.0057634229137192294\n",
      "\u001b[1mMetricas de los registros mineros\u001b[0m\n",
      "Precisión:  0.9984242662989955\n",
      "Recall:  0.1368040374598548\n",
      "Especificidad :  0.9893333333333333\n",
      "F1-score      :  0.240636126275813\n",
      "\u001b[1mMetricas de los registros no mineros\u001b[0m\n",
      "Precisión:  0.022673103954042657\n",
      "Recall:  0.9893333333333333\n",
      "Especificidad :  0.1368040374598548\n",
      "F1-score      :  0.04433026645955311\n"
     ]
    }
   ],
   "source": [
    "metricas(y, y_pred, churm)"
   ]
  },
  {
   "cell_type": "code",
   "execution_count": 1552,
   "metadata": {},
   "outputs": [
    {
     "data": {
      "image/png": "[encoded data removed]",
      "text/plain": [
       "<Figure size 432x288 with 1 Axes>"
      ]
     },
     "metadata": {
      "needs_background": "light"
     },
     "output_type": "display_data"
    },
    {
     "name": "stdout",
     "output_type": "stream",
     "text": [
      "No Skill: ROC AUC=0.500\n",
      "Treeb: ROC AUC=0.556\n"
     ]
    }
   ],
   "source": [
    "ROC(X,y)"
   ]
  },
  {
   "cell_type": "markdown",
   "metadata": {},
   "source": [
    "# Experimento 2"
   ]
  },
  {
   "cell_type": "code",
   "execution_count": 1553,
   "metadata": {},
   "outputs": [
    {
     "name": "stdout",
     "output_type": "stream",
     "text": [
      "\u001b[1mCaracteristicas del conjunto de datos no puro\u001b[0m\n",
      "['min_d', 'first_sp', 'third_sp', 'first_dp', 'third_dp', 'second_sp', 'second_dp', 'Type_mine']\n"
     ]
    }
   ],
   "source": [
    "print(colored('Caracteristicas del conjunto de datos no puro', attrs=['bold']))\n",
    "best_feature_noPure = ['min_d', 'first_sp', 'third_sp', 'first_dp', 'third_dp', 'second_sp','second_dp','Type_mine']\n",
    "print(best_feature_noPure)"
   ]
  },
  {
   "cell_type": "code",
   "execution_count": 1554,
   "metadata": {
    "scrolled": true
   },
   "outputs": [
    {
     "name": "stdout",
     "output_type": "stream",
     "text": [
      "\u001b[1mCombino las caracteristicas y agrego la variable objetivo\u001b[0m\n"
     ]
    },
    {
     "data": {
      "text/plain": [
       "array(['Avg_bpp', 'Avg_bps', 'Avg_pps', 'Type_mine', 'first_dp',\n",
       "       'first_sp', 'min_d', 'p3_ib', 'p3_ip', 'second_dp', 'second_sp',\n",
       "       'third_dp', 'third_sp'], dtype='<U9')"
      ]
     },
     "execution_count": 1554,
     "metadata": {},
     "output_type": "execute_result"
    }
   ],
   "source": [
    "print(colored('Combino las caracteristicas y agrego la variable objetivo', attrs=['bold']))\n",
    "bestFeature = np.concatenate([best_feature_pure,best_feature_noPure])\n",
    "bestFeature = np.unique(bestFeature)\n",
    "bestFeature"
   ]
  },
  {
   "cell_type": "code",
   "execution_count": 1555,
   "metadata": {},
   "outputs": [
    {
     "name": "stdout",
     "output_type": "stream",
     "text": [
      "\u001b[1mAplico una tecnica de submuestreo para equilibrar las clases del conjunto de datos no puros,  con la finalidad de balanciar el conjunto de datos\u001b[0m\n"
     ]
    }
   ],
   "source": [
    "print(colored('Aplico una tecnica de submuestreo para equilibrar las clases del conjunto de datos no puros,  con la finalidad de balanciar el conjunto de datos', attrs=['bold']))\n",
    "porcion_minera_conjuntoB = dataB[dataB.Type_mine == 1]\n",
    "porcion_minera_conjuntoB = porcion_minera_conjuntoB.sample(n=dataCopyA[dataCopyA.Type == \"mine\"].shape[0])"
   ]
  },
  {
   "cell_type": "code",
   "execution_count": 1556,
   "metadata": {},
   "outputs": [
    {
     "name": "stdout",
     "output_type": "stream",
     "text": [
      "\u001b[1mUnimos los conjuntos de datos y aplicamos aleatoriedad en la posición de los registros\u001b[0m\n"
     ]
    }
   ],
   "source": [
    "print(colored('Unimos los conjuntos de datos y aplicamos aleatoriedad en la posición de los registros', attrs=['bold']))\n"
   ]
  },
  {
   "cell_type": "code",
   "execution_count": 1557,
   "metadata": {},
   "outputs": [],
   "source": [
    "copy_porcion_minera_conjuntoB = porcion_minera_conjuntoB "
   ]
  },
  {
   "cell_type": "code",
   "execution_count": 1558,
   "metadata": {},
   "outputs": [
    {
     "data": {
      "text/plain": [
       "(6215, 13)"
      ]
     },
     "execution_count": 1558,
     "metadata": {},
     "output_type": "execute_result"
    }
   ],
   "source": [
    "data_final = pd.concat([dataA[bestFeature], porcion_minera_conjuntoB[bestFeature], ], axis = 0)\n",
    "data_final.shape"
   ]
  },
  {
   "cell_type": "code",
   "execution_count": 1559,
   "metadata": {},
   "outputs": [
    {
     "name": "stdout",
     "output_type": "stream",
     "text": [
      "\u001b[1mBalance del conjunto de datos\u001b[0m\n"
     ]
    },
    {
     "data": {
      "image/png": "[encoded data removed]",
      "text/plain": [
       "<Figure size 576x288 with 1 Axes>"
      ]
     },
     "metadata": {
      "needs_background": "light"
     },
     "output_type": "display_data"
    }
   ],
   "source": [
    "print(colored(f'Balance del conjunto de datos', attrs=['bold']))\n",
    "fig, ax = plt.subplots(figsize=(8,4))\n",
    "ax = sns.countplot(x='Type_mine', data=data_final, palette=\"Set1\")\n",
    "ax.set_title(\"Diagrama de barras Tipo de trafico\", size=15)\n",
    "ax.set_xlabel('Tipo de trafico', size = 12)\n",
    "ax.set_ylabel('Cantidad de observaciones',  size = 12)\n",
    "ax.tick_params(labelsize = 12)"
   ]
  },
  {
   "cell_type": "code",
   "execution_count": 1560,
   "metadata": {},
   "outputs": [
    {
     "data": {
      "text/plain": [
       "(7966, 13)"
      ]
     },
     "execution_count": 1560,
     "metadata": {},
     "output_type": "execute_result"
    }
   ],
   "source": [
    "sobre_muestreo_no_minera = data_final[data_final.Type_mine == 0]\n",
    "data_final = pd.concat([data_final, sobre_muestreo_no_minera], axis = 0)\n",
    "data_final.shape"
   ]
  },
  {
   "cell_type": "code",
   "execution_count": 1561,
   "metadata": {},
   "outputs": [
    {
     "name": "stdout",
     "output_type": "stream",
     "text": [
      "\u001b[1mBalance del conjunto de datos\u001b[0m\n"
     ]
    },
    {
     "data": {
      "image/png": "[encoded data removed]",
      "text/plain": [
       "<Figure size 576x288 with 1 Axes>"
      ]
     },
     "metadata": {
      "needs_background": "light"
     },
     "output_type": "display_data"
    }
   ],
   "source": [
    "\n",
    "print(colored(f'Balance del conjunto de datos', attrs=['bold']))\n",
    "fig, ax = plt.subplots(figsize=(8,4))\n",
    "ax = sns.countplot(x='Type_mine', data=data_final, palette=\"Set1\")\n",
    "ax.set_title(\"Diagrama de barras Tipo de trafico\", size=15)\n",
    "ax.set_xlabel('Tipo de trafico', size = 12)\n",
    "ax.set_ylabel('Cantidad de observaciones',  size = 12)\n",
    "ax.tick_params(labelsize = 12)"
   ]
  },
  {
   "cell_type": "code",
   "execution_count": 1562,
   "metadata": {
    "scrolled": true
   },
   "outputs": [
    {
     "name": "stdout",
     "output_type": "stream",
     "text": [
      "\u001b[1mAleatoriedad\u001b[0m\n"
     ]
    },
    {
     "data": {
      "text/html": [
       "<div>\n",
       "<style scoped>\n",
       "    .dataframe tbody tr th:only-of-type {\n",
       "        vertical-align: middle;\n",
       "    }\n",
       "\n",
       "    .dataframe tbody tr th {\n",
       "        vertical-align: top;\n",
       "    }\n",
       "\n",
       "    .dataframe thead th {\n",
       "        text-align: right;\n",
       "    }\n",
       "</style>\n",
       "<table border=\"1\" class=\"dataframe\">\n",
       "  <thead>\n",
       "    <tr style=\"text-align: right;\">\n",
       "      <th></th>\n",
       "      <th>index</th>\n",
       "      <th>Avg_bpp</th>\n",
       "      <th>Avg_bps</th>\n",
       "      <th>Avg_pps</th>\n",
       "      <th>Type_mine</th>\n",
       "      <th>first_dp</th>\n",
       "      <th>first_sp</th>\n",
       "      <th>min_d</th>\n",
       "      <th>p3_ib</th>\n",
       "      <th>p3_ip</th>\n",
       "      <th>second_dp</th>\n",
       "      <th>second_sp</th>\n",
       "      <th>third_dp</th>\n",
       "      <th>third_sp</th>\n",
       "    </tr>\n",
       "  </thead>\n",
       "  <tbody>\n",
       "    <tr>\n",
       "      <th>5716</th>\n",
       "      <td>3500</td>\n",
       "      <td>84</td>\n",
       "      <td>95</td>\n",
       "      <td>0</td>\n",
       "      <td>1</td>\n",
       "      <td>34560</td>\n",
       "      <td>0</td>\n",
       "      <td>0.00</td>\n",
       "      <td>696.00</td>\n",
       "      <td>4.0</td>\n",
       "      <td>1900.0</td>\n",
       "      <td>62760.0</td>\n",
       "      <td>137.0</td>\n",
       "      <td>62759.0</td>\n",
       "    </tr>\n",
       "    <tr>\n",
       "      <th>4093</th>\n",
       "      <td>25435</td>\n",
       "      <td>87</td>\n",
       "      <td>132</td>\n",
       "      <td>0</td>\n",
       "      <td>1</td>\n",
       "      <td>34560</td>\n",
       "      <td>0</td>\n",
       "      <td>0.00</td>\n",
       "      <td>34.00</td>\n",
       "      <td>1.0</td>\n",
       "      <td>1281.0</td>\n",
       "      <td>3333.0</td>\n",
       "      <td>3333.0</td>\n",
       "      <td>49168.0</td>\n",
       "    </tr>\n",
       "    <tr>\n",
       "      <th>1016</th>\n",
       "      <td>1207</td>\n",
       "      <td>536</td>\n",
       "      <td>485</td>\n",
       "      <td>0</td>\n",
       "      <td>1</td>\n",
       "      <td>3337</td>\n",
       "      <td>3337</td>\n",
       "      <td>265.24</td>\n",
       "      <td>11921.25</td>\n",
       "      <td>15.0</td>\n",
       "      <td>49875.0</td>\n",
       "      <td>49875.0</td>\n",
       "      <td>443.0</td>\n",
       "      <td>123.0</td>\n",
       "    </tr>\n",
       "    <tr>\n",
       "      <th>6910</th>\n",
       "      <td>1872</td>\n",
       "      <td>75</td>\n",
       "      <td>3384</td>\n",
       "      <td>5</td>\n",
       "      <td>0</td>\n",
       "      <td>53</td>\n",
       "      <td>53</td>\n",
       "      <td>0.00</td>\n",
       "      <td>97.25</td>\n",
       "      <td>1.0</td>\n",
       "      <td>42388.0</td>\n",
       "      <td>42388.0</td>\n",
       "      <td>35046.0</td>\n",
       "      <td>35046.0</td>\n",
       "    </tr>\n",
       "    <tr>\n",
       "      <th>4031</th>\n",
       "      <td>9305</td>\n",
       "      <td>138</td>\n",
       "      <td>245</td>\n",
       "      <td>0</td>\n",
       "      <td>1</td>\n",
       "      <td>34560</td>\n",
       "      <td>0</td>\n",
       "      <td>0.00</td>\n",
       "      <td>286.00</td>\n",
       "      <td>2.0</td>\n",
       "      <td>1281.0</td>\n",
       "      <td>17500.0</td>\n",
       "      <td>17500.0</td>\n",
       "      <td>5353.0</td>\n",
       "    </tr>\n",
       "  </tbody>\n",
       "</table>\n",
       "</div>"
      ],
      "text/plain": [
       "      index  Avg_bpp  Avg_bps  Avg_pps  Type_mine  first_dp  first_sp   min_d  \\\n",
       "5716   3500       84       95        0          1     34560         0    0.00   \n",
       "4093  25435       87      132        0          1     34560         0    0.00   \n",
       "1016   1207      536      485        0          1      3337      3337  265.24   \n",
       "6910   1872       75     3384        5          0        53        53    0.00   \n",
       "4031   9305      138      245        0          1     34560         0    0.00   \n",
       "\n",
       "         p3_ib  p3_ip  second_dp  second_sp  third_dp  third_sp  \n",
       "5716    696.00    4.0     1900.0    62760.0     137.0   62759.0  \n",
       "4093     34.00    1.0     1281.0     3333.0    3333.0   49168.0  \n",
       "1016  11921.25   15.0    49875.0    49875.0     443.0     123.0  \n",
       "6910     97.25    1.0    42388.0    42388.0   35046.0   35046.0  \n",
       "4031    286.00    2.0     1281.0    17500.0   17500.0    5353.0  "
      ]
     },
     "execution_count": 1562,
     "metadata": {},
     "output_type": "execute_result"
    }
   ],
   "source": [
    "print(colored('Aleatoriedad', attrs=['bold']))\n",
    "data_final = data_final.reset_index()\n",
    "indices = list(data_final.index)\n",
    "random.shuffle(indices)\n",
    "data_final = data_final.reindex(indices)\n",
    "data_final.head()"
   ]
  },
  {
   "cell_type": "code",
   "execution_count": 1563,
   "metadata": {},
   "outputs": [],
   "source": [
    "data_final.drop(['index'],axis =1, inplace=True)"
   ]
  },
  {
   "cell_type": "code",
   "execution_count": 1564,
   "metadata": {},
   "outputs": [],
   "source": [
    "data_final['Type_mine'] = data_final['Type_mine'].astype('int')"
   ]
  },
  {
   "cell_type": "code",
   "execution_count": 1565,
   "metadata": {},
   "outputs": [
    {
     "data": {
      "text/plain": [
       "(7966, 13)"
      ]
     },
     "execution_count": 1565,
     "metadata": {},
     "output_type": "execute_result"
    }
   ],
   "source": [
    "data_final.shape"
   ]
  },
  {
   "cell_type": "markdown",
   "metadata": {},
   "source": [
    "### Modelo"
   ]
  },
  {
   "cell_type": "code",
   "execution_count": 1566,
   "metadata": {},
   "outputs": [],
   "source": [
    "X = data_final.drop('Type_mine', axis = 1)\n",
    "y = data_final['Type_mine']"
   ]
  },
  {
   "cell_type": "code",
   "execution_count": 1567,
   "metadata": {},
   "outputs": [],
   "source": [
    "model = DecisionTreeClassifier(\n",
    "    criterion='entropy', \n",
    "    max_depth=5,      \n",
    "    min_samples_split=2,\n",
    "    min_samples_leaf=1,\n",
    "    random_state=None,  \n",
    "    max_leaf_nodes=None, \n",
    "    min_impurity_decrease=0.0, \n",
    "    class_weight=None)"
   ]
  },
  {
   "cell_type": "code",
   "execution_count": 1568,
   "metadata": {},
   "outputs": [
    {
     "name": "stdout",
     "output_type": "stream",
     "text": [
      "fit_time: 0.06 (+/- 0.00)\n",
      "score_time: 0.02 (+/- 0.00)\n",
      "test_accuracy: 1.00 (+/- 0.00)\n",
      "test_precision_weighted: 1.00 (+/- 0.00)\n",
      "test_recall_weighted: 1.00 (+/- 0.00)\n",
      "test_f1_weighted: 1.00 (+/- 0.00)\n"
     ]
    }
   ],
   "source": [
    "scoring = ['accuracy', 'precision_weighted', 'recall_weighted', 'f1_weighted']\n",
    "scores = cross_validate(model, X, y, scoring=scoring, cv=10, return_train_score=False)\n",
    "\n",
    "for key in scores:\n",
    "    score = scores[key]\n",
    "    print(\"%s: %0.2f (+/- %0.2f)\" % (key, score.mean(), score.std() * 2))\n"
   ]
  },
  {
   "cell_type": "markdown",
   "metadata": {},
   "source": [
    "### Cross Validation-K_fold"
   ]
  },
  {
   "cell_type": "code",
   "execution_count": 1569,
   "metadata": {},
   "outputs": [],
   "source": [
    "K_fold = KFold(n_splits = 10)"
   ]
  },
  {
   "cell_type": "code",
   "execution_count": 1570,
   "metadata": {},
   "outputs": [],
   "source": [
    "resultados_train = []\n",
    "resultados_test = []\n",
    "predicciones = []\n",
    "scores = []\n",
    "modelos = []\n",
    "\n",
    "\n",
    "for result in K_fold.split(X):\n",
    "    resultados_train.append(result[0])\n",
    "    resultados_test.append(result[1])\n",
    "    X_train = X.iloc[result[0]]\n",
    "    X_test =  X.iloc[result[1]]\n",
    "    y_train =  y.iloc[result[0]]\n",
    "    y_test =  y.iloc[result[1]]\n",
    "    model = model.fit(X_train,y_train)\n",
    "    modelos.append(model)\n",
    "    predic = model.predict(X_test)\n",
    "    predicciones.append(predic)\n",
    "    scores.append(model.score(X_test, y_test))"
   ]
  },
  {
   "cell_type": "code",
   "execution_count": 1571,
   "metadata": {},
   "outputs": [
    {
     "data": {
      "text/plain": [
       "[0.9962358845671268,\n",
       " 0.998745294855709,\n",
       " 1.0,\n",
       " 0.9974905897114178,\n",
       " 1.0,\n",
       " 0.9962358845671268,\n",
       " 0.9974874371859297,\n",
       " 0.9987437185929648,\n",
       " 0.9974874371859297,\n",
       " 0.9974874371859297]"
      ]
     },
     "execution_count": 1571,
     "metadata": {},
     "output_type": "execute_result"
    }
   ],
   "source": [
    "scores"
   ]
  },
  {
   "cell_type": "code",
   "execution_count": 1572,
   "metadata": {},
   "outputs": [
    {
     "name": "stdout",
     "output_type": "stream",
     "text": [
      "\u001b[1mMatriz de confusión\u001b[0m\n"
     ]
    },
    {
     "data": {
      "image/png": "[encoded data removed]",
      "text/plain": [
       "<Figure size 432x288 with 2 Axes>"
      ]
     },
     "metadata": {
      "needs_background": "light"
     },
     "output_type": "display_data"
    }
   ],
   "source": [
    "churm = matriz_confusion(y.iloc[resultados_test[1]], predicciones[1], plt.cm.OrRd)"
   ]
  },
  {
   "cell_type": "code",
   "execution_count": 1573,
   "metadata": {},
   "outputs": [
    {
     "data": {
      "text/html": [
       "<div>\n",
       "<style scoped>\n",
       "    .dataframe tbody tr th:only-of-type {\n",
       "        vertical-align: middle;\n",
       "    }\n",
       "\n",
       "    .dataframe tbody tr th {\n",
       "        vertical-align: top;\n",
       "    }\n",
       "\n",
       "    .dataframe thead th {\n",
       "        text-align: right;\n",
       "    }\n",
       "</style>\n",
       "<table border=\"1\" class=\"dataframe\">\n",
       "  <thead>\n",
       "    <tr style=\"text-align: right;\">\n",
       "      <th></th>\n",
       "      <th>0</th>\n",
       "      <th>1</th>\n",
       "    </tr>\n",
       "  </thead>\n",
       "  <tbody>\n",
       "    <tr>\n",
       "      <th>0</th>\n",
       "      <td>352</td>\n",
       "      <td>0</td>\n",
       "    </tr>\n",
       "    <tr>\n",
       "      <th>1</th>\n",
       "      <td>1</td>\n",
       "      <td>444</td>\n",
       "    </tr>\n",
       "  </tbody>\n",
       "</table>\n",
       "</div>"
      ],
      "text/plain": [
       "     0    1\n",
       "0  352    0\n",
       "1    1  444"
      ]
     },
     "execution_count": 1573,
     "metadata": {},
     "output_type": "execute_result"
    }
   ],
   "source": [
    "pd.DataFrame(churm)"
   ]
  },
  {
   "cell_type": "code",
   "execution_count": 1574,
   "metadata": {},
   "outputs": [
    {
     "name": "stdout",
     "output_type": "stream",
     "text": [
      "Exactitud:  0.998745294855709\n",
      "Kappa:  0.9974567049490544\n",
      "\u001b[1mMetricas de los registros mineros\u001b[0m\n",
      "Precisión:  1.0\n",
      "Recall:  0.9977528089887641\n",
      "Especificidad :  1.0\n",
      "F1-score      :  0.998875140607424\n",
      "\u001b[1mMetricas de los registros no mineros\u001b[0m\n",
      "Precisión:  0.9971671388101983\n",
      "Recall:  1.0\n",
      "Especificidad :  0.9977528089887641\n",
      "F1-score      :  0.9985815602836879\n"
     ]
    }
   ],
   "source": [
    "metricas(y.iloc[resultados_test[1]], predicciones[1], churm)"
   ]
  },
  {
   "cell_type": "code",
   "execution_count": 1575,
   "metadata": {},
   "outputs": [
    {
     "data": {
      "image/png": "[encoded data removed]",
      "text/plain": [
       "<Figure size 432x288 with 1 Axes>"
      ]
     },
     "metadata": {
      "needs_background": "light"
     },
     "output_type": "display_data"
    },
    {
     "name": "stdout",
     "output_type": "stream",
     "text": [
      "No Skill: ROC AUC=0.500\n",
      "Treeb: ROC AUC=1.000\n"
     ]
    }
   ],
   "source": [
    "ROC(X.iloc[resultados_test[1]],y.iloc[resultados_test[1]])"
   ]
  },
  {
   "cell_type": "markdown",
   "metadata": {},
   "source": [
    "### Prueba final"
   ]
  },
  {
   "cell_type": "code",
   "execution_count": 1576,
   "metadata": {
    "scrolled": true
   },
   "outputs": [
    {
     "data": {
      "text/plain": [
       "Index(['Netflows', 'First_Protocol', 'p1_d', 'p2_d', 'p3_d', 'duration',\n",
       "       'max_d', 'min_d', '#packets', 'Avg_bps', 'Avg_pps', 'Avg_bpp', '#Bytes',\n",
       "       '#sp', '#dp', 'first_sp', 'second_sp', 'third_sp', 'first_dp',\n",
       "       'second_dp', 'third_dp', 'p1_ip', 'p2_ip', 'p3_ip', 'p1_ib', 'p2_ib',\n",
       "       'p3_ib', 'Type'],\n",
       "      dtype='object')"
      ]
     },
     "execution_count": 1576,
     "metadata": {},
     "output_type": "execute_result"
    }
   ],
   "source": [
    "porcion_no_minera_conjuntoA.columns"
   ]
  },
  {
   "cell_type": "code",
   "execution_count": 1577,
   "metadata": {},
   "outputs": [
    {
     "data": {
      "text/plain": [
       "Index(['Netflows', 'p1_d', 'p2_d', 'p3_d', 'duration', 'max_d', 'min_d',\n",
       "       '#packets', 'Avg_bps', 'Avg_pps', 'Avg_bpp', '#Bytes', '#sp', '#dp',\n",
       "       'first_sp', 'second_sp', 'third_sp', 'first_dp', 'second_dp',\n",
       "       'third_dp', 'p1_ip', 'p2_ip', 'p3_ip', 'p1_ib', 'p2_ib', 'p3_ib',\n",
       "       'First_Protocol_ICMP', 'First_Protocol_ICMP6', 'First_Protocol_TCP',\n",
       "       'First_Protocol_UDP', 'Type_mine'],\n",
       "      dtype='object')"
      ]
     },
     "execution_count": 1577,
     "metadata": {},
     "output_type": "execute_result"
    }
   ],
   "source": [
    "copy_porcion_minera_conjuntoB.columns"
   ]
  },
  {
   "cell_type": "code",
   "execution_count": 1578,
   "metadata": {},
   "outputs": [
    {
     "data": {
      "text/html": [
       "<div>\n",
       "<style scoped>\n",
       "    .dataframe tbody tr th:only-of-type {\n",
       "        vertical-align: middle;\n",
       "    }\n",
       "\n",
       "    .dataframe tbody tr th {\n",
       "        vertical-align: top;\n",
       "    }\n",
       "\n",
       "    .dataframe thead th {\n",
       "        text-align: right;\n",
       "    }\n",
       "</style>\n",
       "<table border=\"1\" class=\"dataframe\">\n",
       "  <thead>\n",
       "    <tr style=\"text-align: right;\">\n",
       "      <th></th>\n",
       "      <th>First_Protocol_ICMP6</th>\n",
       "      <th>First_Protocol_TCP</th>\n",
       "      <th>First_Protocol_UDP</th>\n",
       "      <th>Type_not_mine</th>\n",
       "    </tr>\n",
       "  </thead>\n",
       "  <tbody>\n",
       "    <tr>\n",
       "      <th>4032</th>\n",
       "      <td>0</td>\n",
       "      <td>1</td>\n",
       "      <td>0</td>\n",
       "      <td>1</td>\n",
       "    </tr>\n",
       "    <tr>\n",
       "      <th>4306</th>\n",
       "      <td>0</td>\n",
       "      <td>1</td>\n",
       "      <td>0</td>\n",
       "      <td>1</td>\n",
       "    </tr>\n",
       "  </tbody>\n",
       "</table>\n",
       "</div>"
      ],
      "text/plain": [
       "      First_Protocol_ICMP6  First_Protocol_TCP  First_Protocol_UDP  \\\n",
       "4032                     0                   1                   0   \n",
       "4306                     0                   1                   0   \n",
       "\n",
       "      Type_not_mine  \n",
       "4032              1  \n",
       "4306              1  "
      ]
     },
     "execution_count": 1578,
     "metadata": {},
     "output_type": "execute_result"
    }
   ],
   "source": [
    "data_categoric = porcion_no_minera_conjuntoA[porcion_no_minera_conjuntoA.select_dtypes(include = ['object']).columns.to_list()]\n",
    "one_hot = OneHotEncoder()\n",
    "one_hot.fit_transform(data_categoric)\n",
    "data_dummy = pd.get_dummies(data_categoric)\n",
    "data_dummy.head(2)"
   ]
  },
  {
   "cell_type": "code",
   "execution_count": 1579,
   "metadata": {},
   "outputs": [],
   "source": [
    "data_dummy = data_dummy.rename(columns = {'Type_not_mine':'Type_mine'})\n",
    "data_dummy['Type_mine'] = data_dummy['Type_mine'].replace({1:0})"
   ]
  },
  {
   "cell_type": "code",
   "execution_count": 1580,
   "metadata": {},
   "outputs": [],
   "source": [
    "porcion_no_minera_conjuntoA = pd.concat([porcion_no_minera_conjuntoA,data_dummy], axis = 1).drop(['First_Protocol'], axis = 1)"
   ]
  },
  {
   "cell_type": "code",
   "execution_count": 1581,
   "metadata": {},
   "outputs": [],
   "source": [
    "dataB = dataB[~dataB.index.isin(porcion_minera_conjuntoB.index)]"
   ]
  },
  {
   "cell_type": "code",
   "execution_count": 1582,
   "metadata": {},
   "outputs": [
    {
     "data": {
      "text/plain": [
       "Index(['Netflows', 'p1_d', 'p2_d', 'p3_d', 'duration', 'max_d', 'min_d',\n",
       "       '#packets', 'Avg_bps', 'Avg_pps', 'Avg_bpp', '#Bytes', '#sp', '#dp',\n",
       "       'first_sp', 'second_sp', 'third_sp', 'first_dp', 'second_dp',\n",
       "       'third_dp', 'p1_ip', 'p2_ip', 'p3_ip', 'p1_ib', 'p2_ib', 'p3_ib',\n",
       "       'First_Protocol_ICMP', 'First_Protocol_ICMP6', 'First_Protocol_TCP',\n",
       "       'First_Protocol_UDP', 'Type_mine'],\n",
       "      dtype='object')"
      ]
     },
     "execution_count": 1582,
     "metadata": {},
     "output_type": "execute_result"
    }
   ],
   "source": [
    "dataB.columns"
   ]
  },
  {
   "cell_type": "code",
   "execution_count": 1583,
   "metadata": {},
   "outputs": [
    {
     "data": {
      "text/plain": [
       "Index(['Netflows', 'p1_d', 'p2_d', 'p3_d', 'duration', 'max_d', 'min_d',\n",
       "       '#packets', 'Avg_bps', 'Avg_pps', 'Avg_bpp', '#Bytes', '#sp', '#dp',\n",
       "       'first_sp', 'second_sp', 'third_sp', 'first_dp', 'second_dp',\n",
       "       'third_dp', 'p1_ip', 'p2_ip', 'p3_ip', 'p1_ib', 'p2_ib', 'p3_ib',\n",
       "       'Type', 'First_Protocol_ICMP6', 'First_Protocol_TCP',\n",
       "       'First_Protocol_UDP', 'Type_mine'],\n",
       "      dtype='object')"
      ]
     },
     "execution_count": 1583,
     "metadata": {},
     "output_type": "execute_result"
    }
   ],
   "source": [
    "porcion_no_minera_conjuntoA.columns"
   ]
  },
  {
   "cell_type": "code",
   "execution_count": 1584,
   "metadata": {},
   "outputs": [],
   "source": [
    "prueba_final = pd.concat([porcion_no_minera_conjuntoA[bestFeature],dataB[bestFeature]], axis = 0).replace({np.nan:0})"
   ]
  },
  {
   "cell_type": "code",
   "execution_count": 1585,
   "metadata": {},
   "outputs": [],
   "source": [
    "X_p = prueba_final[bestFeature].drop('Type_mine',axis = 1)\n",
    "y_p = prueba_final['Type_mine']"
   ]
  },
  {
   "cell_type": "code",
   "execution_count": 1586,
   "metadata": {},
   "outputs": [],
   "source": [
    "y_pred_proba = modelos[1].predict(X_p)"
   ]
  },
  {
   "cell_type": "code",
   "execution_count": 1587,
   "metadata": {},
   "outputs": [
    {
     "name": "stdout",
     "output_type": "stream",
     "text": [
      "\u001b[1mMatriz de confusión\u001b[0m\n"
     ]
    },
    {
     "data": {
      "image/png": "[encoded data removed]",
      "text/plain": [
       "<Figure size 432x288 with 2 Axes>"
      ]
     },
     "metadata": {
      "needs_background": "light"
     },
     "output_type": "display_data"
    }
   ],
   "source": [
    "churm = matriz_confusion(y_p, y_pred_proba, plt.cm.Greens)"
   ]
  },
  {
   "cell_type": "code",
   "execution_count": 1588,
   "metadata": {},
   "outputs": [
    {
     "data": {
      "text/html": [
       "<div>\n",
       "<style scoped>\n",
       "    .dataframe tbody tr th:only-of-type {\n",
       "        vertical-align: middle;\n",
       "    }\n",
       "\n",
       "    .dataframe tbody tr th {\n",
       "        vertical-align: top;\n",
       "    }\n",
       "\n",
       "    .dataframe thead th {\n",
       "        text-align: right;\n",
       "    }\n",
       "</style>\n",
       "<table border=\"1\" class=\"dataframe\">\n",
       "  <thead>\n",
       "    <tr style=\"text-align: right;\">\n",
       "      <th></th>\n",
       "      <th>0</th>\n",
       "      <th>1</th>\n",
       "    </tr>\n",
       "  </thead>\n",
       "  <tbody>\n",
       "    <tr>\n",
       "      <th>0</th>\n",
       "      <td>1390</td>\n",
       "      <td>60</td>\n",
       "    </tr>\n",
       "    <tr>\n",
       "      <th>1</th>\n",
       "      <td>191</td>\n",
       "      <td>34630</td>\n",
       "    </tr>\n",
       "  </tbody>\n",
       "</table>\n",
       "</div>"
      ],
      "text/plain": [
       "      0      1\n",
       "0  1390     60\n",
       "1   191  34630"
      ]
     },
     "execution_count": 1588,
     "metadata": {},
     "output_type": "execute_result"
    }
   ],
   "source": [
    "pd.DataFrame(churm)"
   ]
  },
  {
   "cell_type": "code",
   "execution_count": 1589,
   "metadata": {},
   "outputs": [
    {
     "name": "stdout",
     "output_type": "stream",
     "text": [
      "Exactitud:  0.9930798709712993\n",
      "Kappa:  0.9135851459283344\n",
      "\u001b[1mMetricas de los registros mineros\u001b[0m\n",
      "Precisión:  0.9982703949264918\n",
      "Recall:  0.9945148042847707\n",
      "Especificidad :  0.9586206896551724\n",
      "F1-score      :  0.996389060724202\n",
      "\u001b[1mMetricas de los registros no mineros\u001b[0m\n",
      "Precisión:  0.879190385831752\n",
      "Recall:  0.9586206896551724\n",
      "Especificidad :  0.9945148042847707\n",
      "F1-score      :  0.9171890465193004\n"
     ]
    }
   ],
   "source": [
    "metricas(y_p, y_pred_proba, churm)"
   ]
  },
  {
   "cell_type": "code",
   "execution_count": 1590,
   "metadata": {},
   "outputs": [
    {
     "data": {
      "image/png": "[encoded data removed]",
      "text/plain": [
       "<Figure size 432x288 with 1 Axes>"
      ]
     },
     "metadata": {
      "needs_background": "light"
     },
     "output_type": "display_data"
    },
    {
     "name": "stdout",
     "output_type": "stream",
     "text": [
      "No Skill: ROC AUC=0.500\n",
      "Treeb: ROC AUC=0.978\n"
     ]
    }
   ],
   "source": [
    "ROC(X_p,y_p)"
   ]
  }
 ],
 "metadata": {
  "kernelspec": {
   "display_name": "Python 3",
   "language": "python",
   "name": "python3"
  },
  "language_info": {
   "codemirror_mode": {
    "name": "ipython",
    "version": 3
   },
   "file_extension": ".py",
   "mimetype": "text/x-python",
   "name": "python",
   "nbconvert_exporter": "python",
   "pygments_lexer": "ipython3",
   "version": "3.7.3"
  }
 },
 "nbformat": 4,
 "nbformat_minor": 2
}
