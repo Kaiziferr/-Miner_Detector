{
 "cells": [
  {
   "cell_type": "code",
   "execution_count": 351,
   "metadata": {},
   "outputs": [],
   "source": [
    "import pandas as pd\n",
    "import numpy as np\n",
    "import seaborn as sns\n",
    "import matplotlib.pyplot as plt\n",
    "import random\n",
    "\n",
    "\n",
    "from termcolor import colored\n",
    "\n",
    "from sklearn.model_selection import train_test_split, cross_validate, KFold\n",
    "from sklearn.preprocessing import OneHotEncoder\n",
    "from sklearn.impute import SimpleImputer\n",
    "\n",
    "# Model\n",
    "# --------------------------------------------------------------------\n",
    "from sklearn.tree import DecisionTreeClassifier, plot_tree\n",
    "from sklearn import metrics"
   ]
  },
  {
   "cell_type": "code",
   "execution_count": 352,
   "metadata": {},
   "outputs": [],
   "source": [
    "def metricas(validacion, prediccion, churm):\n",
    "    \n",
    "    print(\"Exactitud: \", metrics.accuracy_score(validacion, prediccion))\n",
    "    print(\"Kappa: \", metrics.cohen_kappa_score(validacion, prediccion))\n",
    "    \n",
    "    print(colored('Metricas de los registros mineros', attrs=['bold']))\n",
    "    \n",
    "    print(\"Precisión: \",  metrics.precision_score(validacion, prediccion, labels=[1], average='macro'))\n",
    "    print(\"Recall: \",  metrics.recall_score(validacion, prediccion, labels=[1], average='macro'))\n",
    "    \n",
    "    VN = churm[0,0]\n",
    "    FP = churm[0,1]\n",
    "    specificity = VN/(VN+FP)\n",
    "    \n",
    "    print(\"Especificidad : \", specificity)\n",
    "    print(\"F1-score      : \", metrics.f1_score(validacion, prediccion, labels=[1], average='macro'))\n",
    "    \n",
    "    \n",
    "    print(colored('Metricas de los registros no mineros', attrs=['bold']))\n",
    "    \n",
    "    print(\"Precisión: \",  metrics.precision_score(validacion, prediccion, labels=[0], average='macro'))\n",
    "    print(\"Recall: \",  metrics.recall_score(validacion, prediccion, labels=[0], average='macro'))\n",
    "    \n",
    "    VN = churm[1,1]\n",
    "    FP = churm[1,0]\n",
    "    specificity = VN/(VN+FP)\n",
    "    \n",
    "    print(\"Especificidad : \", specificity)\n",
    "    print(\"F1-score      : \", metrics.f1_score(validacion, prediccion, labels=[0], average='macro'))"
   ]
  },
  {
   "cell_type": "code",
   "execution_count": 353,
   "metadata": {
    "scrolled": true
   },
   "outputs": [],
   "source": [
    "def matriz_confusion(validacion, prediccion, cmap):\n",
    "    print(colored('Matriz de confusión', attrs=['bold']))\n",
    "    churm = metrics.confusion_matrix(validacion, prediccion)\n",
    "    plt.imshow(churm, cmap=cmap)\n",
    "    plt.colorbar()\n",
    "    tick_marks = np.arange(2)\n",
    "    plt.xticks(tick_marks, ['Not_mine','Mine'])\n",
    "    plt.yticks(tick_marks, ['Not_mine','Mine'])\n",
    "    return churm"
   ]
  },
  {
   "cell_type": "markdown",
   "metadata": {},
   "source": [
    "# Importar datos Puros"
   ]
  },
  {
   "cell_type": "code",
   "execution_count": 354,
   "metadata": {},
   "outputs": [
    {
     "data": {
      "text/html": [
       "<div>\n",
       "<style scoped>\n",
       "    .dataframe tbody tr th:only-of-type {\n",
       "        vertical-align: middle;\n",
       "    }\n",
       "\n",
       "    .dataframe tbody tr th {\n",
       "        vertical-align: top;\n",
       "    }\n",
       "\n",
       "    .dataframe thead th {\n",
       "        text-align: right;\n",
       "    }\n",
       "</style>\n",
       "<table border=\"1\" class=\"dataframe\">\n",
       "  <thead>\n",
       "    <tr style=\"text-align: right;\">\n",
       "      <th></th>\n",
       "      <th>Netflows</th>\n",
       "      <th>First_Protocol</th>\n",
       "      <th>p1_d</th>\n",
       "      <th>p2_d</th>\n",
       "      <th>p3_d</th>\n",
       "      <th>duration</th>\n",
       "      <th>max_d</th>\n",
       "      <th>min_d</th>\n",
       "      <th>#packets</th>\n",
       "      <th>Avg_bps</th>\n",
       "      <th>...</th>\n",
       "      <th>first_dp</th>\n",
       "      <th>second_dp</th>\n",
       "      <th>third_dp</th>\n",
       "      <th>p1_ip</th>\n",
       "      <th>p2_ip</th>\n",
       "      <th>p3_ip</th>\n",
       "      <th>p1_ib</th>\n",
       "      <th>p2_ib</th>\n",
       "      <th>p3_ib</th>\n",
       "      <th>Type</th>\n",
       "    </tr>\n",
       "  </thead>\n",
       "  <tbody>\n",
       "    <tr>\n",
       "      <th>0</th>\n",
       "      <td>82</td>\n",
       "      <td>TCP</td>\n",
       "      <td>2.9595</td>\n",
       "      <td>103.6315</td>\n",
       "      <td>135.19425</td>\n",
       "      <td>6709.539</td>\n",
       "      <td>184.327</td>\n",
       "      <td>0.0</td>\n",
       "      <td>407</td>\n",
       "      <td>1266</td>\n",
       "      <td>...</td>\n",
       "      <td>443</td>\n",
       "      <td>5355.0</td>\n",
       "      <td>80.0</td>\n",
       "      <td>3.0</td>\n",
       "      <td>5.0</td>\n",
       "      <td>5.75</td>\n",
       "      <td>84.0</td>\n",
       "      <td>160.0</td>\n",
       "      <td>248.0</td>\n",
       "      <td>not_mine</td>\n",
       "    </tr>\n",
       "  </tbody>\n",
       "</table>\n",
       "<p>1 rows × 28 columns</p>\n",
       "</div>"
      ],
      "text/plain": [
       "   Netflows First_Protocol    p1_d      p2_d       p3_d  duration    max_d  \\\n",
       "0        82            TCP  2.9595  103.6315  135.19425  6709.539  184.327   \n",
       "\n",
       "   min_d  #packets  Avg_bps  ...  first_dp  second_dp  third_dp  p1_ip  p2_ip  \\\n",
       "0    0.0       407     1266  ...       443     5355.0      80.0    3.0    5.0   \n",
       "\n",
       "   p3_ip  p1_ib  p2_ib  p3_ib      Type  \n",
       "0   5.75   84.0  160.0  248.0  not_mine  \n",
       "\n",
       "[1 rows x 28 columns]"
      ]
     },
     "execution_count": 354,
     "metadata": {},
     "output_type": "execute_result"
    }
   ],
   "source": [
    "dataA = pd.read_csv('./data_identificada.csv').drop(['Second_Protocol', 'Third_Protocol','Cryptocurrency'], axis = 1)\n",
    "dataA.head(1)"
   ]
  },
  {
   "cell_type": "markdown",
   "metadata": {},
   "source": [
    "# Preprocesamiento"
   ]
  },
  {
   "cell_type": "markdown",
   "metadata": {},
   "source": [
    "### Imputación de valores ausentes"
   ]
  },
  {
   "cell_type": "code",
   "execution_count": 355,
   "metadata": {},
   "outputs": [],
   "source": [
    "punter = pd.concat([dataA['second_sp'],dataA['second_dp'],dataA['third_sp'],dataA['third_dp']],axis=1)\n",
    "imputer = SimpleImputer(missing_values = np.nan, strategy = \"median\")\n",
    "values = imputer.fit_transform(punter)"
   ]
  },
  {
   "cell_type": "code",
   "execution_count": 356,
   "metadata": {},
   "outputs": [],
   "source": [
    "punter = pd.DataFrame(values, columns = punter.columns)\n",
    "dataA['second_sp'] = punter['second_sp']\n",
    "dataA['second_dp'] = punter['second_dp']\n",
    "dataA['third_sp'] = punter['third_sp']\n",
    "dataA['third_dp'] = punter['third_dp']"
   ]
  },
  {
   "cell_type": "code",
   "execution_count": 357,
   "metadata": {},
   "outputs": [
    {
     "data": {
      "text/plain": [
       "(4733, 28)"
      ]
     },
     "execution_count": 357,
     "metadata": {},
     "output_type": "execute_result"
    }
   ],
   "source": [
    "dataCopyA = dataA\n",
    "dataA.shape"
   ]
  },
  {
   "cell_type": "code",
   "execution_count": 358,
   "metadata": {},
   "outputs": [
    {
     "name": "stdout",
     "output_type": "stream",
     "text": [
      "\u001b[1mComo los registros benignos son los mismos para cada conjunto de datos, sacare aleatoriamente el 70% para utilizarlos para el entreno de modelos posteriores, y emular con el 30% datos de testeo\u001b[0m\n"
     ]
    }
   ],
   "source": [
    "print(colored('Como los registros benignos son los mismos para cada conjunto de datos, sacare aleatoriamente el 70% para utilizarlos para el entreno de modelos posteriores, y emular con el 30% datos de testeo', attrs=['bold']))\n",
    "porcion_no_minera_conjuntoA = dataCopyA[dataCopyA.Type == \"not_mine\"]\n",
    "porcion_no_minera_conjuntoA = porcion_no_minera_conjuntoA.sample(n=750)"
   ]
  },
  {
   "cell_type": "code",
   "execution_count": 359,
   "metadata": {},
   "outputs": [
    {
     "data": {
      "text/plain": [
       "(750, 28)"
      ]
     },
     "execution_count": 359,
     "metadata": {},
     "output_type": "execute_result"
    }
   ],
   "source": [
    "porcion_no_minera_conjuntoA.shape"
   ]
  },
  {
   "cell_type": "code",
   "execution_count": 360,
   "metadata": {},
   "outputs": [
    {
     "data": {
      "text/plain": [
       "(4733, 28)"
      ]
     },
     "execution_count": 360,
     "metadata": {},
     "output_type": "execute_result"
    }
   ],
   "source": [
    "dataA.shape"
   ]
  },
  {
   "cell_type": "code",
   "execution_count": 361,
   "metadata": {},
   "outputs": [],
   "source": [
    "dataA = dataA[~dataA.index.isin(porcion_no_minera_conjuntoA.index)]"
   ]
  },
  {
   "cell_type": "code",
   "execution_count": 362,
   "metadata": {},
   "outputs": [
    {
     "name": "stdout",
     "output_type": "stream",
     "text": [
      "\u001b[1mBalance del conjunto de datos\u001b[0m\n"
     ]
    },
    {
     "data": {
      "image/png": "[encoded data removed]",
      "text/plain": [
       "<Figure size 576x288 with 1 Axes>"
      ]
     },
     "metadata": {
      "needs_background": "light"
     },
     "output_type": "display_data"
    }
   ],
   "source": [
    "print(colored(f'Balance del conjunto de datos', attrs=['bold']))\n",
    "fig, ax = plt.subplots(figsize=(8,4))\n",
    "ax = sns.countplot(x='Type', data=dataA, palette=\"Set1\")\n",
    "ax.set_title(\"Diagrama de barras Tipo de trafico\", size=15)\n",
    "ax.set_xlabel('Tipo de trafico', size = 12)\n",
    "ax.set_ylabel('Cantidad de observaciones',  size = 12)\n",
    "ax.tick_params(labelsize = 12)"
   ]
  },
  {
   "cell_type": "markdown",
   "metadata": {},
   "source": [
    "### OneHotEncoder"
   ]
  },
  {
   "cell_type": "code",
   "execution_count": 363,
   "metadata": {},
   "outputs": [
    {
     "data": {
      "text/plain": [
       "<3983x6 sparse matrix of type '<class 'numpy.float64'>'\n",
       "\twith 7966 stored elements in Compressed Sparse Row format>"
      ]
     },
     "execution_count": 363,
     "metadata": {},
     "output_type": "execute_result"
    }
   ],
   "source": [
    "data_categoric = dataA[dataA.select_dtypes(include = ['object']).columns.to_list()]\n",
    "one_hot = OneHotEncoder()\n",
    "one_hot.fit_transform(data_categoric)"
   ]
  },
  {
   "cell_type": "code",
   "execution_count": 364,
   "metadata": {},
   "outputs": [
    {
     "data": {
      "text/html": [
       "<div>\n",
       "<style scoped>\n",
       "    .dataframe tbody tr th:only-of-type {\n",
       "        vertical-align: middle;\n",
       "    }\n",
       "\n",
       "    .dataframe tbody tr th {\n",
       "        vertical-align: top;\n",
       "    }\n",
       "\n",
       "    .dataframe thead th {\n",
       "        text-align: right;\n",
       "    }\n",
       "</style>\n",
       "<table border=\"1\" class=\"dataframe\">\n",
       "  <thead>\n",
       "    <tr style=\"text-align: right;\">\n",
       "      <th></th>\n",
       "      <th>First_Protocol_ICMP</th>\n",
       "      <th>First_Protocol_ICMP6</th>\n",
       "      <th>First_Protocol_TCP</th>\n",
       "      <th>First_Protocol_UDP</th>\n",
       "      <th>Type_mine</th>\n",
       "      <th>Type_not_mine</th>\n",
       "    </tr>\n",
       "  </thead>\n",
       "  <tbody>\n",
       "    <tr>\n",
       "      <th>2</th>\n",
       "      <td>0</td>\n",
       "      <td>0</td>\n",
       "      <td>1</td>\n",
       "      <td>0</td>\n",
       "      <td>0</td>\n",
       "      <td>1</td>\n",
       "    </tr>\n",
       "    <tr>\n",
       "      <th>3</th>\n",
       "      <td>0</td>\n",
       "      <td>0</td>\n",
       "      <td>1</td>\n",
       "      <td>0</td>\n",
       "      <td>1</td>\n",
       "      <td>0</td>\n",
       "    </tr>\n",
       "  </tbody>\n",
       "</table>\n",
       "</div>"
      ],
      "text/plain": [
       "   First_Protocol_ICMP  First_Protocol_ICMP6  First_Protocol_TCP  \\\n",
       "2                    0                     0                   1   \n",
       "3                    0                     0                   1   \n",
       "\n",
       "   First_Protocol_UDP  Type_mine  Type_not_mine  \n",
       "2                   0          0              1  \n",
       "3                   0          1              0  "
      ]
     },
     "execution_count": 364,
     "metadata": {},
     "output_type": "execute_result"
    }
   ],
   "source": [
    "data_dummy = pd.get_dummies(data_categoric)\n",
    "data_dummy.head(2)"
   ]
  },
  {
   "cell_type": "code",
   "execution_count": 365,
   "metadata": {},
   "outputs": [],
   "source": [
    "dataA = dataA.drop(['First_Protocol','Type'],axis = 1)"
   ]
  },
  {
   "cell_type": "code",
   "execution_count": 366,
   "metadata": {},
   "outputs": [
    {
     "data": {
      "text/plain": [
       "Index(['Netflows', 'p1_d', 'p2_d', 'p3_d', 'duration', 'max_d', 'min_d',\n",
       "       '#packets', 'Avg_bps', 'Avg_pps', 'Avg_bpp', '#Bytes', '#sp', '#dp',\n",
       "       'first_sp', 'second_sp', 'third_sp', 'first_dp', 'second_dp',\n",
       "       'third_dp', 'p1_ip', 'p2_ip', 'p3_ip', 'p1_ib', 'p2_ib', 'p3_ib',\n",
       "       'First_Protocol_ICMP', 'First_Protocol_ICMP6', 'First_Protocol_TCP',\n",
       "       'First_Protocol_UDP', 'Type_mine', 'Type_not_mine'],\n",
       "      dtype='object')"
      ]
     },
     "execution_count": 366,
     "metadata": {},
     "output_type": "execute_result"
    }
   ],
   "source": [
    "dataA = pd.concat([dataA,data_dummy], axis = 1)\n",
    "dataA.columns"
   ]
  },
  {
   "cell_type": "markdown",
   "metadata": {},
   "source": [
    "# Árbol de decisión"
   ]
  },
  {
   "cell_type": "code",
   "execution_count": 367,
   "metadata": {},
   "outputs": [],
   "source": [
    "y = dataA['Type_mine']\n",
    "X = dataA.drop(['Type_mine','Type_not_mine'],axis = 1)"
   ]
  },
  {
   "cell_type": "markdown",
   "metadata": {},
   "source": [
    "### Holdout"
   ]
  },
  {
   "cell_type": "code",
   "execution_count": 368,
   "metadata": {},
   "outputs": [],
   "source": [
    "X_train, X_test, y_train, y_test = train_test_split(X,y, train_size = 0.7)"
   ]
  },
  {
   "cell_type": "markdown",
   "metadata": {},
   "source": [
    "### Modelo"
   ]
  },
  {
   "cell_type": "code",
   "execution_count": 369,
   "metadata": {},
   "outputs": [
    {
     "name": "stdout",
     "output_type": "stream",
     "text": [
      "\u001b[1mInstancio el modelo de arbol de decisión\u001b[0m\n"
     ]
    }
   ],
   "source": [
    "print(colored('Instancio el modelo de arbol de decisión', attrs=['bold']))\n",
    "model = DecisionTreeClassifier(\n",
    "    criterion='entropy', \n",
    "    max_depth=5,      \n",
    "    min_samples_split=2,\n",
    "    min_samples_leaf=1,\n",
    "    random_state=None,  \n",
    "    max_leaf_nodes=None, \n",
    "    min_impurity_decrease=0.0, \n",
    "    class_weight=None)"
   ]
  },
  {
   "cell_type": "code",
   "execution_count": 370,
   "metadata": {},
   "outputs": [
    {
     "name": "stdout",
     "output_type": "stream",
     "text": [
      "\u001b[1mEntreno el modelo\u001b[0m\n"
     ]
    },
    {
     "data": {
      "text/plain": [
       "DecisionTreeClassifier(ccp_alpha=0.0, class_weight=None, criterion='entropy',\n",
       "                       max_depth=5, max_features=None, max_leaf_nodes=None,\n",
       "                       min_impurity_decrease=0.0, min_impurity_split=None,\n",
       "                       min_samples_leaf=1, min_samples_split=2,\n",
       "                       min_weight_fraction_leaf=0.0, presort='deprecated',\n",
       "                       random_state=None, splitter='best')"
      ]
     },
     "execution_count": 370,
     "metadata": {},
     "output_type": "execute_result"
    }
   ],
   "source": [
    "print(colored('Entreno el modelo', attrs=['bold']))\n",
    "model.fit(X_train,y_train)"
   ]
  },
  {
   "cell_type": "code",
   "execution_count": 371,
   "metadata": {
    "scrolled": false
   },
   "outputs": [
    {
     "name": "stdout",
     "output_type": "stream",
     "text": [
      "\u001b[1mGrafico el modelo\u001b[0m\n",
      "\u001b[1mProfundidad del árbol: 2\u001b[0m\n",
      "\u001b[1mNúmero de nodos terminales: 3\u001b[0m\n"
     ]
    },
    {
     "data": {
      "text/plain": [
       "[Text(223.2, 453.0, 'first_sp <= 1887.5\\nsamples = 2788\\nvalue = [1221, 1567]\\nclass = i'),\n",
       " Text(111.6, 271.8, 'samples = 1201\\nvalue = [1201, 0]\\nclass = T'),\n",
       " Text(334.79999999999995, 271.8, 'First_Protocol_TCP <= 0.5\\nsamples = 1587\\nvalue = [20, 1567]\\nclass = i'),\n",
       " Text(223.2, 90.59999999999997, 'samples = 20\\nvalue = [20, 0]\\nclass = T'),\n",
       " Text(446.4, 90.59999999999997, 'samples = 1567\\nvalue = [0, 1567]\\nclass = i')]"
      ]
     },
     "execution_count": 371,
     "metadata": {},
     "output_type": "execute_result"
    },
    {
     "data": {
      "image/png": "[encoded data removed]",
      "text/plain": [
       "<Figure size 720x720 with 1 Axes>"
      ]
     },
     "metadata": {
      "needs_background": "light"
     },
     "output_type": "display_data"
    }
   ],
   "source": [
    "print(colored('Grafico el modelo', attrs=['bold']))\n",
    "fig, ax = plt.subplots(figsize = (10,10))\n",
    "\n",
    "print(colored(f'Profundidad del árbol: {model.get_depth()}', attrs=['bold']))\n",
    "print(colored(f'Número de nodos terminales: {model.get_n_leaves()}', attrs=['bold']))\n",
    "\n",
    "\n",
    "plot_tree(\n",
    "    decision_tree = model,\n",
    "    feature_names = X_train.columns.tolist(),\n",
    "    class_names   = 'Tipo de trafico minero',\n",
    "    filled        = True,\n",
    "    impurity      = False,\n",
    "    fontsize      = 17,\n",
    "    ax            = ax\n",
    ")"
   ]
  },
  {
   "cell_type": "code",
   "execution_count": 372,
   "metadata": {},
   "outputs": [
    {
     "name": "stdout",
     "output_type": "stream",
     "text": [
      "\u001b[1mRealizo la predicción del modelo con la porción de prueba\u001b[0m\n"
     ]
    },
    {
     "data": {
      "text/plain": [
       "array([0, 1, 1, ..., 1, 1, 0], dtype=uint8)"
      ]
     },
     "execution_count": 372,
     "metadata": {},
     "output_type": "execute_result"
    }
   ],
   "source": [
    "print(colored('Realizo la predicción del modelo con la porción de prueba', attrs=['bold']))\n",
    "y_pred = model.predict(X_test)\n",
    "y_pred"
   ]
  },
  {
   "cell_type": "code",
   "execution_count": 373,
   "metadata": {},
   "outputs": [
    {
     "data": {
      "text/plain": [
       "530"
      ]
     },
     "execution_count": 373,
     "metadata": {},
     "output_type": "execute_result"
    }
   ],
   "source": [
    "len(y_pred[y_pred == 0])"
   ]
  },
  {
   "cell_type": "code",
   "execution_count": 374,
   "metadata": {},
   "outputs": [
    {
     "data": {
      "text/plain": [
       "665"
      ]
     },
     "execution_count": 374,
     "metadata": {},
     "output_type": "execute_result"
    }
   ],
   "source": [
    "len(y_pred[y_pred == 1])"
   ]
  },
  {
   "cell_type": "markdown",
   "metadata": {},
   "source": [
    "### Métricas y matriz de confusión"
   ]
  },
  {
   "cell_type": "code",
   "execution_count": 375,
   "metadata": {
    "scrolled": true
   },
   "outputs": [
    {
     "name": "stdout",
     "output_type": "stream",
     "text": [
      "\u001b[1mMatriz de confusión\u001b[0m\n"
     ]
    },
    {
     "data": {
      "image/png": "[encoded data removed]",
      "text/plain": [
       "<Figure size 432x288 with 2 Axes>"
      ]
     },
     "metadata": {
      "needs_background": "light"
     },
     "output_type": "display_data"
    }
   ],
   "source": [
    "churm = matriz_confusion(y_test, y_pred, plt.cm.Blues)"
   ]
  },
  {
   "cell_type": "code",
   "execution_count": 376,
   "metadata": {},
   "outputs": [
    {
     "data": {
      "text/html": [
       "<div>\n",
       "<style scoped>\n",
       "    .dataframe tbody tr th:only-of-type {\n",
       "        vertical-align: middle;\n",
       "    }\n",
       "\n",
       "    .dataframe tbody tr th {\n",
       "        vertical-align: top;\n",
       "    }\n",
       "\n",
       "    .dataframe thead th {\n",
       "        text-align: right;\n",
       "    }\n",
       "</style>\n",
       "<table border=\"1\" class=\"dataframe\">\n",
       "  <thead>\n",
       "    <tr style=\"text-align: right;\">\n",
       "      <th></th>\n",
       "      <th>0</th>\n",
       "      <th>1</th>\n",
       "    </tr>\n",
       "  </thead>\n",
       "  <tbody>\n",
       "    <tr>\n",
       "      <th>0</th>\n",
       "      <td>530</td>\n",
       "      <td>0</td>\n",
       "    </tr>\n",
       "    <tr>\n",
       "      <th>1</th>\n",
       "      <td>0</td>\n",
       "      <td>665</td>\n",
       "    </tr>\n",
       "  </tbody>\n",
       "</table>\n",
       "</div>"
      ],
      "text/plain": [
       "     0    1\n",
       "0  530    0\n",
       "1    0  665"
      ]
     },
     "execution_count": 376,
     "metadata": {},
     "output_type": "execute_result"
    }
   ],
   "source": [
    "pd.DataFrame(churm)"
   ]
  },
  {
   "cell_type": "code",
   "execution_count": 377,
   "metadata": {},
   "outputs": [
    {
     "name": "stdout",
     "output_type": "stream",
     "text": [
      "El modelo arbol de dicición se equivocó en 0 de los 3983 registros que componen el dataset de mineria no pura\n"
     ]
    }
   ],
   "source": [
    "print(\"El modelo arbol de dicición se equivocó en %d de los %d registros que componen el dataset de mineria no pura\"\n",
    "      % ((y_test != y_pred).sum(), dataA.shape[0]))"
   ]
  },
  {
   "cell_type": "code",
   "execution_count": 378,
   "metadata": {
    "scrolled": true
   },
   "outputs": [
    {
     "name": "stdout",
     "output_type": "stream",
     "text": [
      "Exactitud:  1.0\n",
      "Kappa:  1.0\n",
      "\u001b[1mMetricas de los registros mineros\u001b[0m\n",
      "Precisión:  1.0\n",
      "Recall:  1.0\n",
      "Especificidad :  1.0\n",
      "F1-score      :  1.0\n",
      "\u001b[1mMetricas de los registros no mineros\u001b[0m\n",
      "Precisión:  1.0\n",
      "Recall:  1.0\n",
      "Especificidad :  1.0\n",
      "F1-score      :  1.0\n"
     ]
    }
   ],
   "source": [
    "metricas(y_test, y_pred, churm)"
   ]
  },
  {
   "cell_type": "markdown",
   "metadata": {},
   "source": [
    "# Experimento 1"
   ]
  },
  {
   "cell_type": "code",
   "execution_count": 379,
   "metadata": {
    "scrolled": true
   },
   "outputs": [
    {
     "name": "stdout",
     "output_type": "stream",
     "text": [
      "\u001b[1mImporto el conjunto de datos no puros\u001b[0m\n"
     ]
    },
    {
     "data": {
      "text/plain": [
       "Index(['Netflows', 'First_Protocol', 'p1_d', 'p2_d', 'p3_d', 'duration',\n",
       "       'max_d', 'min_d', '#packets', 'Avg_bps', 'Avg_pps', 'Avg_bpp', '#Bytes',\n",
       "       '#sp', '#dp', 'first_sp', 'second_sp', 'third_sp', 'first_dp',\n",
       "       'second_dp', 'third_dp', 'p1_ip', 'p2_ip', 'p3_ip', 'p1_ib', 'p2_ib',\n",
       "       'p3_ib', 'Type'],\n",
       "      dtype='object')"
      ]
     },
     "execution_count": 379,
     "metadata": {},
     "output_type": "execute_result"
    }
   ],
   "source": [
    "print(colored('Importo el conjunto de datos no puros', attrs=['bold']))\n",
    "dataB = pd.read_csv('./data_no_identificada.csv').drop(['Name','Second_Protocol', 'Third_Protocol'], axis = 1)\n",
    "dataB.columns"
   ]
  },
  {
   "cell_type": "code",
   "execution_count": 380,
   "metadata": {},
   "outputs": [],
   "source": [
    "dataB = pd.concat([dataB[dataB.Type == 'mine'],porcion_no_minera_conjuntoA], axis = 0)"
   ]
  },
  {
   "cell_type": "markdown",
   "metadata": {},
   "source": [
    "### Imputar valores"
   ]
  },
  {
   "cell_type": "code",
   "execution_count": 381,
   "metadata": {},
   "outputs": [],
   "source": [
    "punter = pd.concat([dataB['second_sp'],dataB['third_sp'],dataB['second_dp'],dataB['third_dp']], axis = 1)\n",
    "imputer = SimpleImputer(missing_values = np.nan, strategy = 'median')\n",
    "values = imputer.fit_transform(punter)"
   ]
  },
  {
   "cell_type": "code",
   "execution_count": 382,
   "metadata": {
    "scrolled": true
   },
   "outputs": [],
   "source": [
    "punter = pd.DataFrame(values, columns = punter.columns)\n",
    "dataB['second_sp'] = punter['second_sp']\n",
    "dataB['second_dp'] = punter['second_dp']\n",
    "dataB['third_sp'] = punter['third_sp']\n",
    "dataB['third_dp'] = punter['third_dp']"
   ]
  },
  {
   "cell_type": "markdown",
   "metadata": {},
   "source": [
    "### OneHotEncoder"
   ]
  },
  {
   "cell_type": "code",
   "execution_count": 383,
   "metadata": {},
   "outputs": [
    {
     "data": {
      "text/plain": [
       "<37803x6 sparse matrix of type '<class 'numpy.float64'>'\n",
       "\twith 75606 stored elements in Compressed Sparse Row format>"
      ]
     },
     "execution_count": 383,
     "metadata": {},
     "output_type": "execute_result"
    }
   ],
   "source": [
    "data_categoric = dataB[dataB.select_dtypes(include = ['object']).columns.to_list()]\n",
    "one_hot = OneHotEncoder()\n",
    "one_hot.fit_transform(data_categoric)"
   ]
  },
  {
   "cell_type": "code",
   "execution_count": 384,
   "metadata": {},
   "outputs": [
    {
     "data": {
      "text/html": [
       "<div>\n",
       "<style scoped>\n",
       "    .dataframe tbody tr th:only-of-type {\n",
       "        vertical-align: middle;\n",
       "    }\n",
       "\n",
       "    .dataframe tbody tr th {\n",
       "        vertical-align: top;\n",
       "    }\n",
       "\n",
       "    .dataframe thead th {\n",
       "        text-align: right;\n",
       "    }\n",
       "</style>\n",
       "<table border=\"1\" class=\"dataframe\">\n",
       "  <thead>\n",
       "    <tr style=\"text-align: right;\">\n",
       "      <th></th>\n",
       "      <th>First_Protocol_ICMP</th>\n",
       "      <th>First_Protocol_ICMP6</th>\n",
       "      <th>First_Protocol_TCP</th>\n",
       "      <th>First_Protocol_UDP</th>\n",
       "      <th>Type_mine</th>\n",
       "    </tr>\n",
       "  </thead>\n",
       "  <tbody>\n",
       "    <tr>\n",
       "      <th>0</th>\n",
       "      <td>0</td>\n",
       "      <td>0</td>\n",
       "      <td>1</td>\n",
       "      <td>0</td>\n",
       "      <td>1</td>\n",
       "    </tr>\n",
       "    <tr>\n",
       "      <th>1</th>\n",
       "      <td>0</td>\n",
       "      <td>0</td>\n",
       "      <td>1</td>\n",
       "      <td>0</td>\n",
       "      <td>1</td>\n",
       "    </tr>\n",
       "  </tbody>\n",
       "</table>\n",
       "</div>"
      ],
      "text/plain": [
       "   First_Protocol_ICMP  First_Protocol_ICMP6  First_Protocol_TCP  \\\n",
       "0                    0                     0                   1   \n",
       "1                    0                     0                   1   \n",
       "\n",
       "   First_Protocol_UDP  Type_mine  \n",
       "0                   0          1  \n",
       "1                   0          1  "
      ]
     },
     "execution_count": 384,
     "metadata": {},
     "output_type": "execute_result"
    }
   ],
   "source": [
    "data_dummy = pd.get_dummies(data_categoric).drop('Type_not_mine',axis=1)\n",
    "data_dummy.head(2)"
   ]
  },
  {
   "cell_type": "code",
   "execution_count": null,
   "metadata": {},
   "outputs": [],
   "source": []
  },
  {
   "cell_type": "code",
   "execution_count": 385,
   "metadata": {},
   "outputs": [
    {
     "data": {
      "text/plain": [
       "Index(['Netflows', 'p1_d', 'p2_d', 'p3_d', 'duration', 'max_d', 'min_d',\n",
       "       '#packets', 'Avg_bps', 'Avg_pps', 'Avg_bpp', '#Bytes', '#sp', '#dp',\n",
       "       'first_sp', 'second_sp', 'third_sp', 'first_dp', 'second_dp',\n",
       "       'third_dp', 'p1_ip', 'p2_ip', 'p3_ip', 'p1_ib', 'p2_ib', 'p3_ib',\n",
       "       'First_Protocol_ICMP', 'First_Protocol_ICMP6', 'First_Protocol_TCP',\n",
       "       'First_Protocol_UDP', 'Type_mine'],\n",
       "      dtype='object')"
      ]
     },
     "execution_count": 385,
     "metadata": {},
     "output_type": "execute_result"
    }
   ],
   "source": [
    "dataB = pd.concat([dataB,data_dummy], axis = 1).drop(['First_Protocol','Type'],axis=1)\n",
    "dataB.columns"
   ]
  },
  {
   "cell_type": "code",
   "execution_count": 386,
   "metadata": {},
   "outputs": [
    {
     "data": {
      "text/plain": [
       "Index(['Netflows', 'p1_d', 'p2_d', 'p3_d', 'duration', 'max_d', 'min_d',\n",
       "       '#packets', 'Avg_bps', 'Avg_pps', 'Avg_bpp', '#Bytes', '#sp', '#dp',\n",
       "       'first_sp', 'second_sp', 'third_sp', 'first_dp', 'second_dp',\n",
       "       'third_dp', 'p1_ip', 'p2_ip', 'p3_ip', 'p1_ib', 'p2_ib', 'p3_ib',\n",
       "       'First_Protocol_ICMP', 'First_Protocol_ICMP6', 'First_Protocol_TCP',\n",
       "       'First_Protocol_UDP'],\n",
       "      dtype='object')"
      ]
     },
     "execution_count": 386,
     "metadata": {},
     "output_type": "execute_result"
    }
   ],
   "source": [
    "X_train.columns"
   ]
  },
  {
   "cell_type": "code",
   "execution_count": 387,
   "metadata": {},
   "outputs": [],
   "source": [
    "X = dataB.drop(['Type_mine'],axis=1)\n",
    "y = dataB['Type_mine']"
   ]
  },
  {
   "cell_type": "markdown",
   "metadata": {},
   "source": [
    "### Realizo la predicción"
   ]
  },
  {
   "cell_type": "code",
   "execution_count": 388,
   "metadata": {
    "scrolled": true
   },
   "outputs": [
    {
     "data": {
      "text/plain": [
       "array([0, 0, 0, ..., 0, 0, 0], dtype=uint8)"
      ]
     },
     "execution_count": 388,
     "metadata": {},
     "output_type": "execute_result"
    }
   ],
   "source": [
    "y_pred = model.predict(X)\n",
    "y_pred"
   ]
  },
  {
   "cell_type": "code",
   "execution_count": 389,
   "metadata": {},
   "outputs": [
    {
     "name": "stdout",
     "output_type": "stream",
     "text": [
      "\u001b[1mMatriz de confusión\u001b[0m\n"
     ]
    },
    {
     "data": {
      "image/png": "[encoded data removed]",
      "text/plain": [
       "<Figure size 432x288 with 2 Axes>"
      ]
     },
     "metadata": {
      "needs_background": "light"
     },
     "output_type": "display_data"
    }
   ],
   "source": [
    "churm = matriz_confusion(y, y_pred, plt.cm.Reds)"
   ]
  },
  {
   "cell_type": "code",
   "execution_count": 390,
   "metadata": {},
   "outputs": [
    {
     "data": {
      "text/html": [
       "<div>\n",
       "<style scoped>\n",
       "    .dataframe tbody tr th:only-of-type {\n",
       "        vertical-align: middle;\n",
       "    }\n",
       "\n",
       "    .dataframe tbody tr th {\n",
       "        vertical-align: top;\n",
       "    }\n",
       "\n",
       "    .dataframe thead th {\n",
       "        text-align: right;\n",
       "    }\n",
       "</style>\n",
       "<table border=\"1\" class=\"dataframe\">\n",
       "  <thead>\n",
       "    <tr style=\"text-align: right;\">\n",
       "      <th></th>\n",
       "      <th>0</th>\n",
       "      <th>1</th>\n",
       "    </tr>\n",
       "  </thead>\n",
       "  <tbody>\n",
       "    <tr>\n",
       "      <th>0</th>\n",
       "      <td>750</td>\n",
       "      <td>0</td>\n",
       "    </tr>\n",
       "    <tr>\n",
       "      <th>1</th>\n",
       "      <td>37052</td>\n",
       "      <td>1</td>\n",
       "    </tr>\n",
       "  </tbody>\n",
       "</table>\n",
       "</div>"
      ],
      "text/plain": [
       "       0  1\n",
       "0    750  0\n",
       "1  37052  1"
      ]
     },
     "execution_count": 390,
     "metadata": {},
     "output_type": "execute_result"
    }
   ],
   "source": [
    "pd.DataFrame(churm)"
   ]
  },
  {
   "cell_type": "code",
   "execution_count": 391,
   "metadata": {},
   "outputs": [
    {
     "name": "stdout",
     "output_type": "stream",
     "text": [
      "El modelo de en el experimento 1 se equivocó en 37052 de los 37803 registros que componen el dataset de mineria no pura\n"
     ]
    }
   ],
   "source": [
    "print(\"El modelo de en el experimento 1 se equivocó en %d de los %d registros que componen el dataset de mineria no pura\"\n",
    "      % ((y != y_pred).sum(), dataB.shape[0]))"
   ]
  },
  {
   "cell_type": "code",
   "execution_count": 392,
   "metadata": {},
   "outputs": [
    {
     "name": "stdout",
     "output_type": "stream",
     "text": [
      "Exactitud:  0.019866148189297144\n",
      "Kappa:  1.0709097493233344e-06\n",
      "\u001b[1mMetricas de los registros mineros\u001b[0m\n",
      "Precisión:  1.0\n",
      "Recall:  2.698836801338623e-05\n",
      "Especificidad :  1.0\n",
      "F1-score      :  5.3975279322070496e-05\n",
      "\u001b[1mMetricas de los registros no mineros\u001b[0m\n",
      "Precisión:  0.019840220094174913\n",
      "Recall:  1.0\n",
      "Especificidad :  2.698836801338623e-05\n",
      "F1-score      :  0.03890848723801619\n"
     ]
    }
   ],
   "source": [
    "metricas(y, y_pred, churm)"
   ]
  },
  {
   "cell_type": "markdown",
   "metadata": {},
   "source": [
    "# Experimento 2"
   ]
  },
  {
   "cell_type": "code",
   "execution_count": 393,
   "metadata": {},
   "outputs": [
    {
     "name": "stdout",
     "output_type": "stream",
     "text": [
      "\u001b[1mCaracteristicas del conjunto de datos de mineria pura\u001b[0m\n",
      "['#dp', '#sp', 'First_Protocol_ICMP6', 'First_Protocol_TCP', 'First_Protocol_UDP', 'first_dp', 'first_sp', 'min_d', 'p1_d', 'p1_ip', 'p2_ib', 'p3_d', 'p3_ib', 'second_dp', 'second_sp']\n"
     ]
    }
   ],
   "source": [
    "print(colored('Caracteristicas del conjunto de datos de mineria pura', attrs=['bold']))\n",
    "best_feature_sel = ['#dp', '#sp', 'First_Protocol_ICMP6', 'First_Protocol_TCP',\n",
    "       'First_Protocol_UDP', 'first_dp', 'first_sp', 'min_d', 'p1_d',\n",
    "       'p1_ip', 'p2_ib', 'p3_d', 'p3_ib', 'second_dp', 'second_sp']\n",
    "print(best_feature_sel)"
   ]
  },
  {
   "cell_type": "markdown",
   "metadata": {},
   "source": [
    "# II Árbol de decisión"
   ]
  },
  {
   "cell_type": "code",
   "execution_count": 394,
   "metadata": {},
   "outputs": [],
   "source": [
    "y = dataA['Type_mine']\n",
    "X = dataA[best_feature_sel]"
   ]
  },
  {
   "cell_type": "markdown",
   "metadata": {},
   "source": [
    "# Hodount"
   ]
  },
  {
   "cell_type": "code",
   "execution_count": 395,
   "metadata": {},
   "outputs": [],
   "source": [
    "X_train, X_test, y_train, y_test = train_test_split(X,y, train_size = 0.7)"
   ]
  },
  {
   "cell_type": "markdown",
   "metadata": {},
   "source": [
    "# Modelo"
   ]
  },
  {
   "cell_type": "code",
   "execution_count": 396,
   "metadata": {},
   "outputs": [
    {
     "name": "stdout",
     "output_type": "stream",
     "text": [
      "\u001b[1mInstancio el modelo de arbol de decisión\u001b[0m\n"
     ]
    }
   ],
   "source": [
    "print(colored('Instancio el modelo de arbol de decisión', attrs=['bold']))\n",
    "model_II = DecisionTreeClassifier(\n",
    "    criterion='entropy', \n",
    "    max_depth=5,      \n",
    "    min_samples_split=2,\n",
    "    min_samples_leaf=1,\n",
    "    random_state=None,  \n",
    "    max_leaf_nodes=None, \n",
    "    min_impurity_decrease=0.0, \n",
    "    class_weight=None)"
   ]
  },
  {
   "cell_type": "code",
   "execution_count": 397,
   "metadata": {},
   "outputs": [
    {
     "name": "stdout",
     "output_type": "stream",
     "text": [
      "\u001b[1mEntreno el modelo\u001b[0m\n"
     ]
    },
    {
     "data": {
      "text/plain": [
       "DecisionTreeClassifier(ccp_alpha=0.0, class_weight=None, criterion='entropy',\n",
       "                       max_depth=5, max_features=None, max_leaf_nodes=None,\n",
       "                       min_impurity_decrease=0.0, min_impurity_split=None,\n",
       "                       min_samples_leaf=1, min_samples_split=2,\n",
       "                       min_weight_fraction_leaf=0.0, presort='deprecated',\n",
       "                       random_state=None, splitter='best')"
      ]
     },
     "execution_count": 397,
     "metadata": {},
     "output_type": "execute_result"
    }
   ],
   "source": [
    "print(colored('Entreno el modelo', attrs=['bold']))\n",
    "model_II.fit(X_train,y_train)"
   ]
  },
  {
   "cell_type": "code",
   "execution_count": 398,
   "metadata": {},
   "outputs": [
    {
     "name": "stdout",
     "output_type": "stream",
     "text": [
      "\u001b[1mGrafico el modelo\u001b[0m\n",
      "\u001b[1mProfundidad del árbol: 2\u001b[0m\n",
      "\u001b[1mNúmero de nodos terminales: 3\u001b[0m\n"
     ]
    },
    {
     "data": {
      "text/plain": [
       "[Text(223.2, 453.0, 'first_sp <= 1887.5\\nsamples = 2788\\nvalue = [1212, 1576]\\nclass = i'),\n",
       " Text(111.6, 271.8, 'samples = 1195\\nvalue = [1195, 0]\\nclass = T'),\n",
       " Text(334.79999999999995, 271.8, 'First_Protocol_UDP <= 0.5\\nsamples = 1593\\nvalue = [17, 1576]\\nclass = i'),\n",
       " Text(223.2, 90.59999999999997, 'samples = 1576\\nvalue = [0, 1576]\\nclass = i'),\n",
       " Text(446.4, 90.59999999999997, 'samples = 17\\nvalue = [17, 0]\\nclass = T')]"
      ]
     },
     "execution_count": 398,
     "metadata": {},
     "output_type": "execute_result"
    },
    {
     "data": {
      "image/png": "[encoded data removed]",
      "text/plain": [
       "<Figure size 720x720 with 1 Axes>"
      ]
     },
     "metadata": {
      "needs_background": "light"
     },
     "output_type": "display_data"
    }
   ],
   "source": [
    "print(colored('Grafico el modelo', attrs=['bold']))\n",
    "fig, ax = plt.subplots(figsize = (10,10))\n",
    "\n",
    "print(colored(f'Profundidad del árbol: {model_II.get_depth()}', attrs=['bold']))\n",
    "print(colored(f'Número de nodos terminales: {model_II.get_n_leaves()}', attrs=['bold']))\n",
    "\n",
    "\n",
    "plot_tree(\n",
    "    decision_tree = model_II,\n",
    "    feature_names = X_train.columns.tolist(),\n",
    "    class_names   = 'Tipo de trafico minero',\n",
    "    filled        = True,\n",
    "    impurity      = False,\n",
    "    fontsize      = 17,\n",
    "    ax            = ax\n",
    ")"
   ]
  },
  {
   "cell_type": "code",
   "execution_count": 399,
   "metadata": {},
   "outputs": [],
   "source": [
    "X = dataB[best_feature_sel]\n",
    "y = dataB['Type_mine']"
   ]
  },
  {
   "cell_type": "code",
   "execution_count": 400,
   "metadata": {},
   "outputs": [
    {
     "data": {
      "text/plain": [
       "array([0, 0, 0, ..., 0, 0, 0], dtype=uint8)"
      ]
     },
     "execution_count": 400,
     "metadata": {},
     "output_type": "execute_result"
    }
   ],
   "source": [
    "y_pred = model_II.predict(X)\n",
    "y_pred"
   ]
  },
  {
   "cell_type": "code",
   "execution_count": 401,
   "metadata": {},
   "outputs": [
    {
     "name": "stdout",
     "output_type": "stream",
     "text": [
      "\u001b[1mMatriz de confusión\u001b[0m\n"
     ]
    },
    {
     "data": {
      "image/png": "[encoded data removed]",
      "text/plain": [
       "<Figure size 432x288 with 2 Axes>"
      ]
     },
     "metadata": {
      "needs_background": "light"
     },
     "output_type": "display_data"
    }
   ],
   "source": [
    "churm = matriz_confusion(y, y_pred, plt.cm.Reds)"
   ]
  },
  {
   "cell_type": "code",
   "execution_count": 402,
   "metadata": {},
   "outputs": [
    {
     "name": "stdout",
     "output_type": "stream",
     "text": [
      "Exactitud:  0.019866148189297144\n",
      "Kappa:  1.0709097493233344e-06\n",
      "\u001b[1mMetricas de los registros mineros\u001b[0m\n",
      "Precisión:  1.0\n",
      "Recall:  2.698836801338623e-05\n",
      "Especificidad :  1.0\n",
      "F1-score      :  5.3975279322070496e-05\n",
      "\u001b[1mMetricas de los registros no mineros\u001b[0m\n",
      "Precisión:  0.019840220094174913\n",
      "Recall:  1.0\n",
      "Especificidad :  2.698836801338623e-05\n",
      "F1-score      :  0.03890848723801619\n"
     ]
    }
   ],
   "source": [
    "metricas(y, y_pred, churm)"
   ]
  },
  {
   "cell_type": "markdown",
   "metadata": {},
   "source": [
    "# Experimento 3"
   ]
  },
  {
   "cell_type": "code",
   "execution_count": 403,
   "metadata": {},
   "outputs": [
    {
     "name": "stdout",
     "output_type": "stream",
     "text": [
      "\u001b[1mCaracteristicas del conjunto de datos puro\u001b[0m\n",
      "['#dp', '#sp', 'First_Protocol_ICMP6', 'First_Protocol_TCP', 'First_Protocol_UDP', 'first_dp', 'first_sp', 'min_d', 'p1_d', 'p1_ip', 'p2_ib', 'p3_d', 'p3_ib', 'second_dp', 'second_sp']\n"
     ]
    }
   ],
   "source": [
    "print(colored('Caracteristicas del conjunto de datos puro', attrs=['bold']))\n",
    "print(best_feature_sel)"
   ]
  },
  {
   "cell_type": "code",
   "execution_count": 404,
   "metadata": {},
   "outputs": [
    {
     "name": "stdout",
     "output_type": "stream",
     "text": [
      "\u001b[1mCaracteristicas del conjunto de datos no puro\u001b[0m\n",
      "['First_Protocol_ICMP6', 'First_Protocol_TCP', 'First_Protocol_UDP', 'first_dp', 'first_sp', 'min_d', 'p1_ib', 'second_dp', 'Type_mine']\n"
     ]
    }
   ],
   "source": [
    "print(colored('Caracteristicas del conjunto de datos no puro', attrs=['bold']))\n",
    "best_feature_noPure = ['First_Protocol_ICMP6', 'First_Protocol_TCP', 'First_Protocol_UDP',\n",
    "       'first_dp', 'first_sp', 'min_d', 'p1_ib', 'second_dp','Type_mine']\n",
    "print(best_feature_noPure)"
   ]
  },
  {
   "cell_type": "code",
   "execution_count": 405,
   "metadata": {
    "scrolled": true
   },
   "outputs": [
    {
     "name": "stdout",
     "output_type": "stream",
     "text": [
      "\u001b[1mCombino las caracteristicas\u001b[0m\n"
     ]
    },
    {
     "data": {
      "text/plain": [
       "array(['#dp', '#sp', 'First_Protocol_ICMP6', 'First_Protocol_TCP',\n",
       "       'First_Protocol_UDP', 'Type_mine', 'first_dp', 'first_sp', 'min_d',\n",
       "       'p1_d', 'p1_ib', 'p1_ip', 'p2_ib', 'p3_d', 'p3_ib', 'second_dp',\n",
       "       'second_sp'], dtype='<U20')"
      ]
     },
     "execution_count": 405,
     "metadata": {},
     "output_type": "execute_result"
    }
   ],
   "source": [
    "print(colored('Combino las caracteristicas', attrs=['bold']))\n",
    "bestFeature = np.concatenate([best_feature_sel,best_feature_noPure])\n",
    "bestFeature = np.unique(bestFeature)\n",
    "bestFeature"
   ]
  },
  {
   "cell_type": "code",
   "execution_count": 406,
   "metadata": {},
   "outputs": [
    {
     "name": "stdout",
     "output_type": "stream",
     "text": [
      "\u001b[1mAplico una tecnica de submuestreo para equilibrar las clases del conjunto de datos no puros,  con la finalidad de balanciar el conjunto de datos\u001b[0m\n"
     ]
    }
   ],
   "source": [
    "print(colored('Aplico una tecnica de submuestreo para equilibrar las clases del conjunto de datos no puros,  con la finalidad de balanciar el conjunto de datos', attrs=['bold']))\n",
    "porcion_minera_conjuntoB = dataB[dataB.Type_mine == 1]\n",
    "porcion_minera_conjuntoB = porcion_minera_conjuntoB.sample(n=dataCopyA[dataCopyA.Type == \"mine\"].shape[0])"
   ]
  },
  {
   "cell_type": "code",
   "execution_count": 407,
   "metadata": {},
   "outputs": [
    {
     "name": "stdout",
     "output_type": "stream",
     "text": [
      "\u001b[1mUnimos los conjuntos de datos y aplicamos aleatoriedad en la posición de los registros\u001b[0m\n"
     ]
    }
   ],
   "source": [
    "print(colored('Unimos los conjuntos de datos y aplicamos aleatoriedad en la posición de los registros', attrs=['bold']))\n"
   ]
  },
  {
   "cell_type": "code",
   "execution_count": 408,
   "metadata": {},
   "outputs": [],
   "source": [
    "copy_porcion_minera_conjuntoB = porcion_minera_conjuntoB "
   ]
  },
  {
   "cell_type": "code",
   "execution_count": 409,
   "metadata": {},
   "outputs": [
    {
     "data": {
      "text/plain": [
       "(6215, 17)"
      ]
     },
     "execution_count": 409,
     "metadata": {},
     "output_type": "execute_result"
    }
   ],
   "source": [
    "data_final = pd.concat([dataA[bestFeature], porcion_minera_conjuntoB[bestFeature], ], axis = 0)\n",
    "data_final.shape"
   ]
  },
  {
   "cell_type": "code",
   "execution_count": 410,
   "metadata": {},
   "outputs": [
    {
     "name": "stdout",
     "output_type": "stream",
     "text": [
      "\u001b[1mBalance del conjunto de datos\u001b[0m\n"
     ]
    },
    {
     "data": {
      "image/png": "[encoded data removed]",
      "text/plain": [
       "<Figure size 576x288 with 1 Axes>"
      ]
     },
     "metadata": {
      "needs_background": "light"
     },
     "output_type": "display_data"
    }
   ],
   "source": [
    "print(colored(f'Balance del conjunto de datos', attrs=['bold']))\n",
    "fig, ax = plt.subplots(figsize=(8,4))\n",
    "ax = sns.countplot(x='Type_mine', data=data_final, palette=\"Set1\")\n",
    "ax.set_title(\"Diagrama de barras Tipo de trafico\", size=15)\n",
    "ax.set_xlabel('Tipo de trafico', size = 12)\n",
    "ax.set_ylabel('Cantidad de observaciones',  size = 12)\n",
    "ax.tick_params(labelsize = 12)"
   ]
  },
  {
   "cell_type": "code",
   "execution_count": 411,
   "metadata": {},
   "outputs": [
    {
     "data": {
      "text/plain": [
       "(7966, 17)"
      ]
     },
     "execution_count": 411,
     "metadata": {},
     "output_type": "execute_result"
    }
   ],
   "source": [
    "sobre_muestreo_no_minera = data_final[data_final.Type_mine == 0]\n",
    "data_final = pd.concat([data_final, sobre_muestreo_no_minera], axis = 0)\n",
    "data_final.shape"
   ]
  },
  {
   "cell_type": "code",
   "execution_count": 412,
   "metadata": {},
   "outputs": [
    {
     "name": "stdout",
     "output_type": "stream",
     "text": [
      "\u001b[1mBalance del conjunto de datos\u001b[0m\n"
     ]
    },
    {
     "data": {
      "image/png": "[encoded data removed]",
      "text/plain": [
       "<Figure size 576x288 with 1 Axes>"
      ]
     },
     "metadata": {
      "needs_background": "light"
     },
     "output_type": "display_data"
    }
   ],
   "source": [
    "\n",
    "print(colored(f'Balance del conjunto de datos', attrs=['bold']))\n",
    "fig, ax = plt.subplots(figsize=(8,4))\n",
    "ax = sns.countplot(x='Type_mine', data=data_final, palette=\"Set1\")\n",
    "ax.set_title(\"Diagrama de barras Tipo de trafico\", size=15)\n",
    "ax.set_xlabel('Tipo de trafico', size = 12)\n",
    "ax.set_ylabel('Cantidad de observaciones',  size = 12)\n",
    "ax.tick_params(labelsize = 12)"
   ]
  },
  {
   "cell_type": "code",
   "execution_count": 414,
   "metadata": {
    "scrolled": true
   },
   "outputs": [
    {
     "name": "stdout",
     "output_type": "stream",
     "text": [
      "\u001b[1mAleatoriedad\u001b[0m\n"
     ]
    },
    {
     "data": {
      "text/html": [
       "<div>\n",
       "<style scoped>\n",
       "    .dataframe tbody tr th:only-of-type {\n",
       "        vertical-align: middle;\n",
       "    }\n",
       "\n",
       "    .dataframe tbody tr th {\n",
       "        vertical-align: top;\n",
       "    }\n",
       "\n",
       "    .dataframe thead th {\n",
       "        text-align: right;\n",
       "    }\n",
       "</style>\n",
       "<table border=\"1\" class=\"dataframe\">\n",
       "  <thead>\n",
       "    <tr style=\"text-align: right;\">\n",
       "      <th></th>\n",
       "      <th>index</th>\n",
       "      <th>#dp</th>\n",
       "      <th>#sp</th>\n",
       "      <th>First_Protocol_ICMP6</th>\n",
       "      <th>First_Protocol_TCP</th>\n",
       "      <th>First_Protocol_UDP</th>\n",
       "      <th>Type_mine</th>\n",
       "      <th>first_dp</th>\n",
       "      <th>first_sp</th>\n",
       "      <th>min_d</th>\n",
       "      <th>p1_d</th>\n",
       "      <th>p1_ib</th>\n",
       "      <th>p1_ip</th>\n",
       "      <th>p2_ib</th>\n",
       "      <th>p3_d</th>\n",
       "      <th>p3_ib</th>\n",
       "      <th>second_dp</th>\n",
       "      <th>second_sp</th>\n",
       "    </tr>\n",
       "  </thead>\n",
       "  <tbody>\n",
       "    <tr>\n",
       "      <th>1623</th>\n",
       "      <td>1912</td>\n",
       "      <td>2</td>\n",
       "      <td>2</td>\n",
       "      <td>0</td>\n",
       "      <td>1</td>\n",
       "      <td>0</td>\n",
       "      <td>1</td>\n",
       "      <td>56731</td>\n",
       "      <td>56731</td>\n",
       "      <td>0.0</td>\n",
       "      <td>6.17200</td>\n",
       "      <td>417.0</td>\n",
       "      <td>3.0</td>\n",
       "      <td>828.0</td>\n",
       "      <td>33.70525</td>\n",
       "      <td>2166.75</td>\n",
       "      <td>4444.0</td>\n",
       "      <td>4444.0</td>\n",
       "    </tr>\n",
       "    <tr>\n",
       "      <th>7627</th>\n",
       "      <td>3780</td>\n",
       "      <td>25</td>\n",
       "      <td>28</td>\n",
       "      <td>0</td>\n",
       "      <td>1</td>\n",
       "      <td>0</td>\n",
       "      <td>0</td>\n",
       "      <td>443</td>\n",
       "      <td>443</td>\n",
       "      <td>0.0</td>\n",
       "      <td>0.00000</td>\n",
       "      <td>32.0</td>\n",
       "      <td>1.0</td>\n",
       "      <td>70.5</td>\n",
       "      <td>82.45825</td>\n",
       "      <td>205.00</td>\n",
       "      <td>80.0</td>\n",
       "      <td>80.0</td>\n",
       "    </tr>\n",
       "    <tr>\n",
       "      <th>6101</th>\n",
       "      <td>24198</td>\n",
       "      <td>5</td>\n",
       "      <td>4</td>\n",
       "      <td>1</td>\n",
       "      <td>0</td>\n",
       "      <td>0</td>\n",
       "      <td>1</td>\n",
       "      <td>34560</td>\n",
       "      <td>0</td>\n",
       "      <td>0.0</td>\n",
       "      <td>0.00000</td>\n",
       "      <td>32.0</td>\n",
       "      <td>1.0</td>\n",
       "      <td>32.0</td>\n",
       "      <td>0.00000</td>\n",
       "      <td>40.00</td>\n",
       "      <td>1281.0</td>\n",
       "      <td>3333.0</td>\n",
       "    </tr>\n",
       "    <tr>\n",
       "      <th>6548</th>\n",
       "      <td>879</td>\n",
       "      <td>15</td>\n",
       "      <td>14</td>\n",
       "      <td>0</td>\n",
       "      <td>1</td>\n",
       "      <td>0</td>\n",
       "      <td>0</td>\n",
       "      <td>443</td>\n",
       "      <td>443</td>\n",
       "      <td>0.0</td>\n",
       "      <td>19.68575</td>\n",
       "      <td>93.0</td>\n",
       "      <td>3.0</td>\n",
       "      <td>128.0</td>\n",
       "      <td>135.16725</td>\n",
       "      <td>256.00</td>\n",
       "      <td>80.0</td>\n",
       "      <td>80.0</td>\n",
       "    </tr>\n",
       "    <tr>\n",
       "      <th>1452</th>\n",
       "      <td>1707</td>\n",
       "      <td>51</td>\n",
       "      <td>66</td>\n",
       "      <td>0</td>\n",
       "      <td>1</td>\n",
       "      <td>0</td>\n",
       "      <td>0</td>\n",
       "      <td>443</td>\n",
       "      <td>443</td>\n",
       "      <td>0.0</td>\n",
       "      <td>24.24550</td>\n",
       "      <td>116.0</td>\n",
       "      <td>3.0</td>\n",
       "      <td>160.0</td>\n",
       "      <td>180.21500</td>\n",
       "      <td>250.00</td>\n",
       "      <td>80.0</td>\n",
       "      <td>80.0</td>\n",
       "    </tr>\n",
       "  </tbody>\n",
       "</table>\n",
       "</div>"
      ],
      "text/plain": [
       "      index  #dp  #sp  First_Protocol_ICMP6  First_Protocol_TCP  \\\n",
       "1623   1912    2    2                     0                   1   \n",
       "7627   3780   25   28                     0                   1   \n",
       "6101  24198    5    4                     1                   0   \n",
       "6548    879   15   14                     0                   1   \n",
       "1452   1707   51   66                     0                   1   \n",
       "\n",
       "      First_Protocol_UDP  Type_mine  first_dp  first_sp  min_d      p1_d  \\\n",
       "1623                   0          1     56731     56731    0.0   6.17200   \n",
       "7627                   0          0       443       443    0.0   0.00000   \n",
       "6101                   0          1     34560         0    0.0   0.00000   \n",
       "6548                   0          0       443       443    0.0  19.68575   \n",
       "1452                   0          0       443       443    0.0  24.24550   \n",
       "\n",
       "      p1_ib  p1_ip  p2_ib       p3_d    p3_ib  second_dp  second_sp  \n",
       "1623  417.0    3.0  828.0   33.70525  2166.75     4444.0     4444.0  \n",
       "7627   32.0    1.0   70.5   82.45825   205.00       80.0       80.0  \n",
       "6101   32.0    1.0   32.0    0.00000    40.00     1281.0     3333.0  \n",
       "6548   93.0    3.0  128.0  135.16725   256.00       80.0       80.0  \n",
       "1452  116.0    3.0  160.0  180.21500   250.00       80.0       80.0  "
      ]
     },
     "execution_count": 414,
     "metadata": {},
     "output_type": "execute_result"
    }
   ],
   "source": [
    "print(colored('Aleatoriedad', attrs=['bold']))\n",
    "data_final = data_final.reset_index()\n",
    "indices = list(data_final.index)\n",
    "random.shuffle(indices)\n",
    "data_final = data_final.reindex(indices)\n",
    "data_final.head()"
   ]
  },
  {
   "cell_type": "code",
   "execution_count": 415,
   "metadata": {},
   "outputs": [],
   "source": [
    "data_final.drop(['index'],axis =1, inplace=True)"
   ]
  },
  {
   "cell_type": "code",
   "execution_count": 416,
   "metadata": {},
   "outputs": [],
   "source": [
    "data_final['Type_mine'] = data_final['Type_mine'].astype('int')"
   ]
  },
  {
   "cell_type": "code",
   "execution_count": 417,
   "metadata": {},
   "outputs": [
    {
     "data": {
      "text/plain": [
       "(7966, 17)"
      ]
     },
     "execution_count": 417,
     "metadata": {},
     "output_type": "execute_result"
    }
   ],
   "source": [
    "data_final.shape"
   ]
  },
  {
   "cell_type": "markdown",
   "metadata": {},
   "source": [
    "### Modelo"
   ]
  },
  {
   "cell_type": "code",
   "execution_count": 418,
   "metadata": {},
   "outputs": [],
   "source": [
    "X = data_final.drop('Type_mine', axis = 1)\n",
    "y = data_final['Type_mine']"
   ]
  },
  {
   "cell_type": "code",
   "execution_count": 419,
   "metadata": {},
   "outputs": [],
   "source": [
    "model = DecisionTreeClassifier(\n",
    "    criterion='entropy', \n",
    "    max_depth=5,      \n",
    "    min_samples_split=2,\n",
    "    min_samples_leaf=1,\n",
    "    random_state=None,  \n",
    "    max_leaf_nodes=None, \n",
    "    min_impurity_decrease=0.0, \n",
    "    class_weight=None)"
   ]
  },
  {
   "cell_type": "code",
   "execution_count": 420,
   "metadata": {},
   "outputs": [
    {
     "name": "stdout",
     "output_type": "stream",
     "text": [
      "fit_time: 0.08 (+/- 0.01)\n",
      "score_time: 0.03 (+/- 0.06)\n",
      "test_accuracy: 1.00 (+/- 0.00)\n",
      "test_precision_weighted: 1.00 (+/- 0.00)\n",
      "test_recall_weighted: 1.00 (+/- 0.00)\n",
      "test_f1_weighted: 1.00 (+/- 0.00)\n"
     ]
    }
   ],
   "source": [
    "scoring = ['accuracy', 'precision_weighted', 'recall_weighted', 'f1_weighted']\n",
    "scores = cross_validate(model, X, y, scoring=scoring, cv=10, return_train_score=False)\n",
    "\n",
    "for key in scores:\n",
    "    score = scores[key]\n",
    "    print(\"%s: %0.2f (+/- %0.2f)\" % (key, score.mean(), score.std() * 2))\n"
   ]
  },
  {
   "cell_type": "code",
   "execution_count": 421,
   "metadata": {},
   "outputs": [],
   "source": [
    "K_fold = KFold(n_splits = 10)"
   ]
  },
  {
   "cell_type": "code",
   "execution_count": 422,
   "metadata": {},
   "outputs": [],
   "source": [
    "resultados_train = []\n",
    "resultados_test = []\n",
    "predicciones = []\n",
    "scores = []\n",
    "modelos = []\n",
    "\n",
    "\n",
    "for result in K_fold.split(X):\n",
    "    resultados_train.append(result[0])\n",
    "    resultados_test.append(result[1])\n",
    "    X_train = X.iloc[result[0]]\n",
    "    X_test =  X.iloc[result[1]]\n",
    "    y_train =  y.iloc[result[0]]\n",
    "    y_test =  y.iloc[result[1]]\n",
    "    model = model.fit(X_train,y_train)\n",
    "    modelos.append(model)\n",
    "    predic = model.predict(X_test)\n",
    "    predicciones.append(predic)\n",
    "    scores.append(model.score(X_test, y_test))"
   ]
  },
  {
   "cell_type": "code",
   "execution_count": 423,
   "metadata": {},
   "outputs": [
    {
     "data": {
      "text/plain": [
       "[0.998745294855709,\n",
       " 0.998745294855709,\n",
       " 0.9949811794228356,\n",
       " 1.0,\n",
       " 0.9924717691342535,\n",
       " 0.9924717691342535,\n",
       " 0.9962311557788944,\n",
       " 0.9962311557788944,\n",
       " 0.992462311557789,\n",
       " 0.9962311557788944]"
      ]
     },
     "execution_count": 423,
     "metadata": {},
     "output_type": "execute_result"
    }
   ],
   "source": [
    "scores"
   ]
  },
  {
   "cell_type": "code",
   "execution_count": 424,
   "metadata": {
    "scrolled": true
   },
   "outputs": [
    {
     "name": "stdout",
     "output_type": "stream",
     "text": [
      "\u001b[1mMatriz de confusión\u001b[0m\n"
     ]
    },
    {
     "data": {
      "image/png": "[encoded data removed]",
      "text/plain": [
       "<Figure size 432x288 with 2 Axes>"
      ]
     },
     "metadata": {
      "needs_background": "light"
     },
     "output_type": "display_data"
    }
   ],
   "source": [
    "churm = matriz_confusion(y.iloc[resultados_test[3]], predicciones[3], plt.cm.OrRd)"
   ]
  },
  {
   "cell_type": "code",
   "execution_count": 425,
   "metadata": {},
   "outputs": [
    {
     "data": {
      "text/html": [
       "<div>\n",
       "<style scoped>\n",
       "    .dataframe tbody tr th:only-of-type {\n",
       "        vertical-align: middle;\n",
       "    }\n",
       "\n",
       "    .dataframe tbody tr th {\n",
       "        vertical-align: top;\n",
       "    }\n",
       "\n",
       "    .dataframe thead th {\n",
       "        text-align: right;\n",
       "    }\n",
       "</style>\n",
       "<table border=\"1\" class=\"dataframe\">\n",
       "  <thead>\n",
       "    <tr style=\"text-align: right;\">\n",
       "      <th></th>\n",
       "      <th>0</th>\n",
       "      <th>1</th>\n",
       "    </tr>\n",
       "  </thead>\n",
       "  <tbody>\n",
       "    <tr>\n",
       "      <th>0</th>\n",
       "      <td>359</td>\n",
       "      <td>0</td>\n",
       "    </tr>\n",
       "    <tr>\n",
       "      <th>1</th>\n",
       "      <td>0</td>\n",
       "      <td>438</td>\n",
       "    </tr>\n",
       "  </tbody>\n",
       "</table>\n",
       "</div>"
      ],
      "text/plain": [
       "     0    1\n",
       "0  359    0\n",
       "1    0  438"
      ]
     },
     "execution_count": 425,
     "metadata": {},
     "output_type": "execute_result"
    }
   ],
   "source": [
    "pd.DataFrame(churm)"
   ]
  },
  {
   "cell_type": "code",
   "execution_count": 426,
   "metadata": {},
   "outputs": [
    {
     "name": "stdout",
     "output_type": "stream",
     "text": [
      "Exactitud:  0.9962311557788944\n",
      "Kappa:  0.9924148095443803\n",
      "\u001b[1mMetricas de los registros mineros\u001b[0m\n",
      "Precisión:  0.9976689976689976\n",
      "Recall:  0.9953488372093023\n",
      "Especificidad :  1.0\n",
      "F1-score      :  0.9965075669383003\n",
      "\u001b[1mMetricas de los registros no mineros\u001b[0m\n",
      "Precisión:  0.9945504087193461\n",
      "Recall:  0.9972677595628415\n",
      "Especificidad :  1.0\n",
      "F1-score      :  0.9959072305593452\n"
     ]
    }
   ],
   "source": [
    "metricas(y.iloc[resultados_test[7]], predicciones[7], churm)"
   ]
  },
  {
   "cell_type": "markdown",
   "metadata": {},
   "source": [
    "### Prueba final"
   ]
  },
  {
   "cell_type": "code",
   "execution_count": 433,
   "metadata": {
    "scrolled": true
   },
   "outputs": [
    {
     "data": {
      "text/plain": [
       "Index(['Netflows', 'First_Protocol', 'p1_d', 'p2_d', 'p3_d', 'duration',\n",
       "       'max_d', 'min_d', '#packets', 'Avg_bps', 'Avg_pps', 'Avg_bpp', '#Bytes',\n",
       "       '#sp', '#dp', 'first_sp', 'second_sp', 'third_sp', 'first_dp',\n",
       "       'second_dp', 'third_dp', 'p1_ip', 'p2_ip', 'p3_ip', 'p1_ib', 'p2_ib',\n",
       "       'p3_ib', 'Type'],\n",
       "      dtype='object')"
      ]
     },
     "execution_count": 433,
     "metadata": {},
     "output_type": "execute_result"
    }
   ],
   "source": [
    "porcion_no_minera_conjuntoA.columns"
   ]
  },
  {
   "cell_type": "code",
   "execution_count": 435,
   "metadata": {},
   "outputs": [
    {
     "data": {
      "text/plain": [
       "Index(['Netflows', 'p1_d', 'p2_d', 'p3_d', 'duration', 'max_d', 'min_d',\n",
       "       '#packets', 'Avg_bps', 'Avg_pps', 'Avg_bpp', '#Bytes', '#sp', '#dp',\n",
       "       'first_sp', 'second_sp', 'third_sp', 'first_dp', 'second_dp',\n",
       "       'third_dp', 'p1_ip', 'p2_ip', 'p3_ip', 'p1_ib', 'p2_ib', 'p3_ib',\n",
       "       'First_Protocol_ICMP', 'First_Protocol_ICMP6', 'First_Protocol_TCP',\n",
       "       'First_Protocol_UDP', 'Type_mine'],\n",
       "      dtype='object')"
      ]
     },
     "execution_count": 435,
     "metadata": {},
     "output_type": "execute_result"
    }
   ],
   "source": [
    "copy_porcion_minera_conjuntoB.columns"
   ]
  },
  {
   "cell_type": "code",
   "execution_count": 437,
   "metadata": {},
   "outputs": [
    {
     "data": {
      "text/html": [
       "<div>\n",
       "<style scoped>\n",
       "    .dataframe tbody tr th:only-of-type {\n",
       "        vertical-align: middle;\n",
       "    }\n",
       "\n",
       "    .dataframe tbody tr th {\n",
       "        vertical-align: top;\n",
       "    }\n",
       "\n",
       "    .dataframe thead th {\n",
       "        text-align: right;\n",
       "    }\n",
       "</style>\n",
       "<table border=\"1\" class=\"dataframe\">\n",
       "  <thead>\n",
       "    <tr style=\"text-align: right;\">\n",
       "      <th></th>\n",
       "      <th>First_Protocol_TCP</th>\n",
       "      <th>First_Protocol_UDP</th>\n",
       "      <th>Type_not_mine</th>\n",
       "    </tr>\n",
       "  </thead>\n",
       "  <tbody>\n",
       "    <tr>\n",
       "      <th>1512</th>\n",
       "      <td>1</td>\n",
       "      <td>0</td>\n",
       "      <td>1</td>\n",
       "    </tr>\n",
       "    <tr>\n",
       "      <th>4241</th>\n",
       "      <td>1</td>\n",
       "      <td>0</td>\n",
       "      <td>1</td>\n",
       "    </tr>\n",
       "  </tbody>\n",
       "</table>\n",
       "</div>"
      ],
      "text/plain": [
       "      First_Protocol_TCP  First_Protocol_UDP  Type_not_mine\n",
       "1512                   1                   0              1\n",
       "4241                   1                   0              1"
      ]
     },
     "execution_count": 437,
     "metadata": {},
     "output_type": "execute_result"
    }
   ],
   "source": [
    "data_categoric = porcion_no_minera_conjuntoA[porcion_no_minera_conjuntoA.select_dtypes(include = ['object']).columns.to_list()]\n",
    "one_hot = OneHotEncoder()\n",
    "one_hot.fit_transform(data_categoric)\n",
    "data_dummy = pd.get_dummies(data_categoric)\n",
    "data_dummy.head(2)"
   ]
  },
  {
   "cell_type": "code",
   "execution_count": 439,
   "metadata": {},
   "outputs": [],
   "source": [
    "porcion_no_minera_conjuntoA = pd.concat([porcion_no_minera_conjuntoA,data_dummy], axis = 1).drop(['First_Protocol','Type_not_mine'], axis = 1)"
   ]
  },
  {
   "cell_type": "code",
   "execution_count": 440,
   "metadata": {},
   "outputs": [],
   "source": [
    "dataB = dataB[~dataB.index.isin(porcion_minera_conjuntoB.index)]"
   ]
  },
  {
   "cell_type": "code",
   "execution_count": 449,
   "metadata": {},
   "outputs": [
    {
     "name": "stderr",
     "output_type": "stream",
     "text": [
      "C:\\ProgramData\\Anaconda3\\lib\\site-packages\\ipykernel_launcher.py:1: FutureWarning: Sorting because non-concatenation axis is not aligned. A future version\n",
      "of pandas will change to not sort by default.\n",
      "\n",
      "To accept the future behavior, pass 'sort=False'.\n",
      "\n",
      "To retain the current behavior and silence the warning, pass 'sort=True'.\n",
      "\n",
      "  \"\"\"Entry point for launching an IPython kernel.\n"
     ]
    }
   ],
   "source": [
    "prueba_final = pd.concat([porcion_no_minera_conjuntoA,dataB], axis = 0).replace({np.nan:0})"
   ]
  },
  {
   "cell_type": "code",
   "execution_count": 453,
   "metadata": {},
   "outputs": [],
   "source": [
    "X_p = prueba_final[bestFeature].drop('Type_mine',axis = 1)\n",
    "y_p = prueba_final['Type_mine']"
   ]
  },
  {
   "cell_type": "code",
   "execution_count": 454,
   "metadata": {},
   "outputs": [],
   "source": [
    "y_pred_proba = modelos[3].predict(X_p)"
   ]
  },
  {
   "cell_type": "code",
   "execution_count": 455,
   "metadata": {},
   "outputs": [
    {
     "name": "stdout",
     "output_type": "stream",
     "text": [
      "\u001b[1mMatriz de confusión\u001b[0m\n"
     ]
    },
    {
     "data": {
      "image/png": "[encoded data removed]",
      "text/plain": [
       "<Figure size 432x288 with 2 Axes>"
      ]
     },
     "metadata": {
      "needs_background": "light"
     },
     "output_type": "display_data"
    }
   ],
   "source": [
    "churm = matriz_confusion(y_p, y_pred_proba, plt.cm.Greens)"
   ]
  },
  {
   "cell_type": "code",
   "execution_count": 456,
   "metadata": {},
   "outputs": [
    {
     "data": {
      "text/html": [
       "<div>\n",
       "<style scoped>\n",
       "    .dataframe tbody tr th:only-of-type {\n",
       "        vertical-align: middle;\n",
       "    }\n",
       "\n",
       "    .dataframe tbody tr th {\n",
       "        vertical-align: top;\n",
       "    }\n",
       "\n",
       "    .dataframe thead th {\n",
       "        text-align: right;\n",
       "    }\n",
       "</style>\n",
       "<table border=\"1\" class=\"dataframe\">\n",
       "  <thead>\n",
       "    <tr style=\"text-align: right;\">\n",
       "      <th></th>\n",
       "      <th>0</th>\n",
       "      <th>1</th>\n",
       "    </tr>\n",
       "  </thead>\n",
       "  <tbody>\n",
       "    <tr>\n",
       "      <th>0</th>\n",
       "      <td>2184</td>\n",
       "      <td>19</td>\n",
       "    </tr>\n",
       "    <tr>\n",
       "      <th>1</th>\n",
       "      <td>86</td>\n",
       "      <td>34735</td>\n",
       "    </tr>\n",
       "  </tbody>\n",
       "</table>\n",
       "</div>"
      ],
      "text/plain": [
       "      0      1\n",
       "0  2184     19\n",
       "1    86  34735"
      ]
     },
     "execution_count": 456,
     "metadata": {},
     "output_type": "execute_result"
    }
   ],
   "source": [
    "pd.DataFrame(churm)"
   ]
  },
  {
   "cell_type": "code",
   "execution_count": 457,
   "metadata": {},
   "outputs": [
    {
     "name": "stdout",
     "output_type": "stream",
     "text": [
      "Exactitud:  0.9971640017286084\n",
      "Kappa:  0.9750170191865478\n",
      "\u001b[1mMetricas de los registros mineros\u001b[0m\n",
      "Precisión:  0.9994533003395293\n",
      "Recall:  0.9975302260130381\n",
      "Especificidad :  0.9913753971856559\n",
      "F1-score      :  0.9984908372260151\n",
      "\u001b[1mMetricas de los registros no mineros\u001b[0m\n",
      "Precisión:  0.9621145374449339\n",
      "Recall:  0.9913753971856559\n",
      "Especificidad :  0.9975302260130381\n",
      "F1-score      :  0.9765258215962441\n"
     ]
    }
   ],
   "source": [
    "metricas(y_p, y_pred_proba, churm)"
   ]
  },
  {
   "cell_type": "code",
   "execution_count": null,
   "metadata": {},
   "outputs": [],
   "source": []
  },
  {
   "cell_type": "code",
   "execution_count": null,
   "metadata": {},
   "outputs": [],
   "source": []
  },
  {
   "cell_type": "code",
   "execution_count": null,
   "metadata": {},
   "outputs": [],
   "source": []
  },
  {
   "cell_type": "code",
   "execution_count": null,
   "metadata": {},
   "outputs": [],
   "source": []
  },
  {
   "cell_type": "code",
   "execution_count": null,
   "metadata": {},
   "outputs": [],
   "source": []
  },
  {
   "cell_type": "code",
   "execution_count": null,
   "metadata": {},
   "outputs": [],
   "source": []
  },
  {
   "cell_type": "code",
   "execution_count": null,
   "metadata": {},
   "outputs": [],
   "source": []
  },
  {
   "cell_type": "code",
   "execution_count": null,
   "metadata": {},
   "outputs": [],
   "source": []
  },
  {
   "cell_type": "code",
   "execution_count": null,
   "metadata": {},
   "outputs": [],
   "source": []
  },
  {
   "cell_type": "code",
   "execution_count": null,
   "metadata": {},
   "outputs": [],
   "source": []
  },
  {
   "cell_type": "code",
   "execution_count": null,
   "metadata": {},
   "outputs": [],
   "source": []
  },
  {
   "cell_type": "code",
   "execution_count": null,
   "metadata": {},
   "outputs": [],
   "source": []
  },
  {
   "cell_type": "code",
   "execution_count": null,
   "metadata": {},
   "outputs": [],
   "source": []
  },
  {
   "cell_type": "code",
   "execution_count": null,
   "metadata": {},
   "outputs": [],
   "source": [
    "y_pred_proba = model.predict_proba(X_test)"
   ]
  },
  {
   "cell_type": "code",
   "execution_count": null,
   "metadata": {},
   "outputs": [],
   "source": [
    "lr_probs = y_pred_proba[:,1]"
   ]
  },
  {
   "cell_type": "code",
   "execution_count": null,
   "metadata": {},
   "outputs": [],
   "source": [
    "ns_probs = [0 for _ in range(len(y_test))]"
   ]
  },
  {
   "cell_type": "code",
   "execution_count": null,
   "metadata": {},
   "outputs": [],
   "source": [
    "ns_auc = metrics.roc_auc_score(y_test, ns_probs)\n",
    "ns_auc"
   ]
  },
  {
   "cell_type": "code",
   "execution_count": null,
   "metadata": {},
   "outputs": [],
   "source": [
    "lr_auc = metrics.roc_auc_score(y_test, lr_probs)\n",
    "lr_auc"
   ]
  },
  {
   "cell_type": "code",
   "execution_count": null,
   "metadata": {},
   "outputs": [],
   "source": [
    "#Sumo los scores\n",
    "print('No Skill: ROC AUC=%.3f' % (ns_auc))\n",
    "print('Treeb: ROC AUC=%.3f' % (lr_auc))"
   ]
  },
  {
   "cell_type": "code",
   "execution_count": null,
   "metadata": {},
   "outputs": [],
   "source": [
    "ns_fpr, ns_tpr, thresholds  = metrics.roc_curve(y_test,ns_probs)\n",
    "lr_fpr, lr_tpr, thresholds = metrics.roc_curve(y_test, lr_probs)"
   ]
  },
  {
   "cell_type": "code",
   "execution_count": null,
   "metadata": {
    "scrolled": true
   },
   "outputs": [],
   "source": [
    "#Plot la roc curva para el modelo\n",
    "plt.plot(ns_fpr,ns_tpr,linestyle='--', label='No Skill')\n",
    "plt.plot(lr_fpr, lr_tpr, marker='.', label='KNN')\n",
    "plt.xlabel('False Positive Rate')\n",
    "plt.ylabel('True Positive Rate')\n",
    "plt.legend()\n",
    "plt.show()"
   ]
  },
  {
   "cell_type": "markdown",
   "metadata": {},
   "source": [
    "Holdaunt 70% pero debo hacer una validadci{on cruzada en este conjunto de entrenamiento (Puros), de este cruz validation saldra un modelo, y lo testeo con el 30%, con este porcentaje, le saco las metricas"
   ]
  }
 ],
 "metadata": {
  "kernelspec": {
   "display_name": "Python 3",
   "language": "python",
   "name": "python3"
  },
  "language_info": {
   "codemirror_mode": {
    "name": "ipython",
    "version": 3
   },
   "file_extension": ".py",
   "mimetype": "text/x-python",
   "name": "python",
   "nbconvert_exporter": "python",
   "pygments_lexer": "ipython3",
   "version": "3.7.3"
  }
 },
 "nbformat": 4,
 "nbformat_minor": 2
}
