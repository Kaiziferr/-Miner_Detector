{
 "cells": [
  {
   "cell_type": "code",
   "execution_count": 1,
   "metadata": {},
   "outputs": [],
   "source": [
    "import pandas as pd\n",
    "import numpy as np\n",
    "import matplotlib.pyplot as plt\n",
    "from sklearn import metrics\n",
    "from sklearn.model_selection import train_test_split\n",
    "from sklearn.naive_bayes import GaussianNB\n",
    "\n",
    "\n"
   ]
  },
  {
   "cell_type": "code",
   "execution_count": 2,
   "metadata": {},
   "outputs": [
    {
     "data": {
      "text/html": [
       "<div>\n",
       "<style scoped>\n",
       "    .dataframe tbody tr th:only-of-type {\n",
       "        vertical-align: middle;\n",
       "    }\n",
       "\n",
       "    .dataframe tbody tr th {\n",
       "        vertical-align: top;\n",
       "    }\n",
       "\n",
       "    .dataframe thead th {\n",
       "        text-align: right;\n",
       "    }\n",
       "</style>\n",
       "<table border=\"1\" class=\"dataframe\">\n",
       "  <thead>\n",
       "    <tr style=\"text-align: right;\">\n",
       "      <th></th>\n",
       "      <th>Netflows</th>\n",
       "      <th>p1_d</th>\n",
       "      <th>p2_d</th>\n",
       "      <th>p3_d</th>\n",
       "      <th>duration</th>\n",
       "      <th>max_d</th>\n",
       "      <th>min_d</th>\n",
       "      <th>#packets</th>\n",
       "      <th>Avg_bps</th>\n",
       "      <th>Avg_pps</th>\n",
       "      <th>...</th>\n",
       "      <th>First_Protocol_TCP</th>\n",
       "      <th>First_Protocol_UDP</th>\n",
       "      <th>Type_mine</th>\n",
       "      <th>Type_not_mine</th>\n",
       "      <th>Cryptocurrency_Bitcash</th>\n",
       "      <th>Cryptocurrency_Bitcoin</th>\n",
       "      <th>Cryptocurrency_Does not have</th>\n",
       "      <th>Cryptocurrency_Etherium</th>\n",
       "      <th>Cryptocurrency_Litecoin</th>\n",
       "      <th>Cryptocurrency_Monero</th>\n",
       "    </tr>\n",
       "  </thead>\n",
       "  <tbody>\n",
       "    <tr>\n",
       "      <th>0</th>\n",
       "      <td>1.575318</td>\n",
       "      <td>-0.700949</td>\n",
       "      <td>-0.804477</td>\n",
       "      <td>-0.909496</td>\n",
       "      <td>0.054551</td>\n",
       "      <td>-0.864733</td>\n",
       "      <td>-0.625504</td>\n",
       "      <td>0.570941</td>\n",
       "      <td>1.236305</td>\n",
       "      <td>1.285332</td>\n",
       "      <td>...</td>\n",
       "      <td>1</td>\n",
       "      <td>0</td>\n",
       "      <td>0</td>\n",
       "      <td>1</td>\n",
       "      <td>0</td>\n",
       "      <td>0</td>\n",
       "      <td>1</td>\n",
       "      <td>0</td>\n",
       "      <td>0</td>\n",
       "      <td>0</td>\n",
       "    </tr>\n",
       "  </tbody>\n",
       "</table>\n",
       "<p>1 rows × 38 columns</p>\n",
       "</div>"
      ],
      "text/plain": [
       "   Netflows      p1_d      p2_d      p3_d  duration     max_d     min_d  \\\n",
       "0  1.575318 -0.700949 -0.804477 -0.909496  0.054551 -0.864733 -0.625504   \n",
       "\n",
       "   #packets   Avg_bps   Avg_pps  ...  First_Protocol_TCP  First_Protocol_UDP  \\\n",
       "0  0.570941  1.236305  1.285332  ...                   1                   0   \n",
       "\n",
       "   Type_mine  Type_not_mine  Cryptocurrency_Bitcash  Cryptocurrency_Bitcoin  \\\n",
       "0          0              1                       0                       0   \n",
       "\n",
       "   Cryptocurrency_Does not have  Cryptocurrency_Etherium  \\\n",
       "0                             1                        0   \n",
       "\n",
       "   Cryptocurrency_Litecoin  Cryptocurrency_Monero  \n",
       "0                        0                      0  \n",
       "\n",
       "[1 rows x 38 columns]"
      ]
     },
     "execution_count": 2,
     "metadata": {},
     "output_type": "execute_result"
    }
   ],
   "source": [
    "data = pd.read_csv('./data_i.csv')\n",
    "data.head(1)"
   ]
  },
  {
   "cell_type": "markdown",
   "metadata": {},
   "source": [
    "# Best Features"
   ]
  },
  {
   "cell_type": "code",
   "execution_count": 3,
   "metadata": {},
   "outputs": [],
   "source": [
    "Feature_Selection = ['p1_d', 'p2_d','min_d','#sp','#dp','first_sp', 'first_dp', 'second_sp','second_dp']"
   ]
  },
  {
   "cell_type": "code",
   "execution_count": 4,
   "metadata": {},
   "outputs": [],
   "source": [
    "y = data['Type_mine']\n",
    "X = data[Feature_Selection]"
   ]
  },
  {
   "cell_type": "markdown",
   "metadata": {},
   "source": [
    "# Holdout"
   ]
  },
  {
   "cell_type": "code",
   "execution_count": 5,
   "metadata": {},
   "outputs": [],
   "source": [
    "X_train, X_test, y_train, y_test = train_test_split(X,y,train_size = 0.7, test_size=0.3, random_state = 1234)"
   ]
  },
  {
   "cell_type": "markdown",
   "metadata": {},
   "source": [
    "# Naïve Bayes"
   ]
  },
  {
   "cell_type": "code",
   "execution_count": 10,
   "metadata": {},
   "outputs": [],
   "source": [
    "model = GaussianNB()\n",
    "model = gnb.fit(X_train, y_train)"
   ]
  },
  {
   "cell_type": "code",
   "execution_count": 11,
   "metadata": {
    "scrolled": true
   },
   "outputs": [
    {
     "data": {
      "text/plain": [
       "array([1738., 1575.])"
      ]
     },
     "execution_count": 11,
     "metadata": {},
     "output_type": "execute_result"
    }
   ],
   "source": [
    "model.class_count_"
   ]
  },
  {
   "cell_type": "code",
   "execution_count": 12,
   "metadata": {},
   "outputs": [
    {
     "data": {
      "text/plain": [
       "array([0.52460006, 0.47539994])"
      ]
     },
     "execution_count": 12,
     "metadata": {},
     "output_type": "execute_result"
    }
   ],
   "source": [
    "model.class_prior_"
   ]
  },
  {
   "cell_type": "code",
   "execution_count": 13,
   "metadata": {},
   "outputs": [
    {
     "data": {
      "text/plain": [
       "array([0, 0, 0, ..., 0, 0, 1], dtype=int64)"
      ]
     },
     "execution_count": 13,
     "metadata": {},
     "output_type": "execute_result"
    }
   ],
   "source": [
    "y_pred = model.predict(X_test)\n",
    "y_pred"
   ]
  },
  {
   "cell_type": "code",
   "execution_count": 14,
   "metadata": {},
   "outputs": [
    {
     "data": {
      "text/plain": [
       "((1420,), (1420,), (4733,), (3313,))"
      ]
     },
     "execution_count": 14,
     "metadata": {},
     "output_type": "execute_result"
    }
   ],
   "source": [
    "y_test.shape, y_pred.shape, y.shape, y_train.shape"
   ]
  },
  {
   "cell_type": "code",
   "execution_count": 16,
   "metadata": {},
   "outputs": [
    {
     "name": "stdout",
     "output_type": "stream",
     "text": [
      "El modelo de Naïve Bayes se equivocó en 18 de los 4733 registros que componen el dataset original\n"
     ]
    }
   ],
   "source": [
    "print(\"El modelo de Naïve Bayes se equivocó en %d de los %d registros que componen el dataset original\"\n",
    "      % ((y_test != y_pred).sum(), data.shape[0]))"
   ]
  },
  {
   "cell_type": "code",
   "execution_count": 17,
   "metadata": {
    "scrolled": true
   },
   "outputs": [
    {
     "data": {
      "text/plain": [
       "([<matplotlib.axis.YTick at 0x1e3bda8d978>,\n",
       "  <matplotlib.axis.YTick at 0x1e3bda8d2b0>],\n",
       " <a list of 2 Text yticklabel objects>)"
      ]
     },
     "execution_count": 17,
     "metadata": {},
     "output_type": "execute_result"
    },
    {
     "data": {
      "image/png": "[encoded data removed]",
      "text/plain": [
       "<Figure size 432x288 with 2 Axes>"
      ]
     },
     "metadata": {
      "needs_background": "light"
     },
     "output_type": "display_data"
    }
   ],
   "source": [
    "churm = metrics.confusion_matrix(y_test, y_pred)\n",
    "plt.imshow(churm, cmap=plt.cm.Blues)\n",
    "plt.colorbar()\n",
    "tick_marks = np.arange(2)\n",
    "plt.xticks(tick_marks, ['Not_mine','Mine'])\n",
    "plt.yticks(tick_marks, ['Not_mine','Mine'])"
   ]
  },
  {
   "cell_type": "code",
   "execution_count": 18,
   "metadata": {},
   "outputs": [
    {
     "data": {
      "text/plain": [
       "array([[750,  13],\n",
       "       [  5, 652]], dtype=int64)"
      ]
     },
     "execution_count": 18,
     "metadata": {},
     "output_type": "execute_result"
    }
   ],
   "source": [
    "churm"
   ]
  },
  {
   "cell_type": "code",
   "execution_count": 19,
   "metadata": {},
   "outputs": [
    {
     "name": "stdout",
     "output_type": "stream",
     "text": [
      "Exactitud:  0.9873239436619718\n",
      "Kappa:  0.9873239436619718\n"
     ]
    }
   ],
   "source": [
    "print(\"Exactitud: \", metrics.accuracy_score(y_test, y_pred))\n",
    "print(\"Kappa: \", metrics.accuracy_score(y_test, y_pred))"
   ]
  },
  {
   "cell_type": "code",
   "execution_count": 20,
   "metadata": {},
   "outputs": [
    {
     "name": "stdout",
     "output_type": "stream",
     "text": [
      "Precisión     :  0.9804511278195489\n",
      "Recall        :  0.9923896499238964\n",
      "Especificidad :  0.9804511278195489\n",
      "F1-score      :  0.9863842662632376\n"
     ]
    }
   ],
   "source": [
    "print(\"Precisión     : \", metrics.precision_score(y_test, y_pred, labels=[1], average='macro'))\n",
    "print(\"Recall        : \", metrics.recall_score(y_test, y_pred, labels=[1], average='macro'))\n",
    "\n",
    "VN = np.sum(churm[1:3,1:3])\n",
    "FP = np.sum(churm[0,1:3])\n",
    "specificity = VN/(VN+FP)\n",
    "\n",
    "print(\"Especificidad : \", specificity)\n",
    "\n",
    "print(\"F1-score      : \", metrics.f1_score(y_test, y_pred, labels=[1], average='macro'))"
   ]
  },
  {
   "cell_type": "code",
   "execution_count": 21,
   "metadata": {},
   "outputs": [
    {
     "name": "stdout",
     "output_type": "stream",
     "text": [
      "Precisión     :  0.9933774834437086\n",
      "Recall        :  0.9829619921363041\n",
      "Especificidad :  0.9804511278195489\n",
      "F1-score      :  0.9881422924901186\n"
     ]
    }
   ],
   "source": [
    "print(\"Precisión     : \", metrics.precision_score(y_test, y_pred, labels=[0], average='macro'))\n",
    "print(\"Recall        : \", metrics.recall_score(y_test, y_pred, labels=[0], average='macro'))\n",
    "\n",
    "VN = np.sum(churm[1:3,1:3])\n",
    "FP = np.sum(churm[0,1:3])\n",
    "specificity = VN/(VN+FP)\n",
    "\n",
    "print(\"Especificidad : \", specificity)\n",
    "\n",
    "print(\"F1-score      : \", metrics.f1_score(y_test, y_pred, labels=[0], average='macro'))"
   ]
  },
  {
   "cell_type": "code",
   "execution_count": null,
   "metadata": {},
   "outputs": [],
   "source": []
  },
  {
   "cell_type": "code",
   "execution_count": 22,
   "metadata": {},
   "outputs": [],
   "source": [
    "y_pred_proba = model.predict_proba(X_test)"
   ]
  },
  {
   "cell_type": "code",
   "execution_count": 23,
   "metadata": {},
   "outputs": [],
   "source": [
    "lr_probs = y_pred_proba[:,1]"
   ]
  },
  {
   "cell_type": "code",
   "execution_count": 24,
   "metadata": {},
   "outputs": [],
   "source": [
    "ns_probs = [0 for _ in range(len(y_test))]"
   ]
  },
  {
   "cell_type": "code",
   "execution_count": 25,
   "metadata": {},
   "outputs": [
    {
     "data": {
      "text/plain": [
       "0.5"
      ]
     },
     "execution_count": 25,
     "metadata": {},
     "output_type": "execute_result"
    }
   ],
   "source": [
    "ns_auc = metrics.roc_auc_score(y_test, ns_probs)\n",
    "ns_auc"
   ]
  },
  {
   "cell_type": "code",
   "execution_count": 26,
   "metadata": {},
   "outputs": [
    {
     "data": {
      "text/plain": [
       "0.9945381026190376"
      ]
     },
     "execution_count": 26,
     "metadata": {},
     "output_type": "execute_result"
    }
   ],
   "source": [
    "lr_auc = metrics.roc_auc_score(y_test, lr_probs)\n",
    "lr_auc"
   ]
  },
  {
   "cell_type": "code",
   "execution_count": 27,
   "metadata": {},
   "outputs": [
    {
     "name": "stdout",
     "output_type": "stream",
     "text": [
      "No Skill: ROC AUC=0.500\n",
      "Bayes: ROC AUC=0.995\n"
     ]
    }
   ],
   "source": [
    "#Sumo los scores\n",
    "print('No Skill: ROC AUC=%.3f' % (ns_auc))\n",
    "print('Bayes: ROC AUC=%.3f' % (lr_auc))"
   ]
  },
  {
   "cell_type": "code",
   "execution_count": 28,
   "metadata": {},
   "outputs": [],
   "source": [
    "ns_fpr, ns_tpr, thresholds  = metrics.roc_curve(y_test,ns_probs)\n",
    "lr_fpr, lr_tpr, thresholds = metrics.roc_curve(y_test, lr_probs)"
   ]
  },
  {
   "cell_type": "code",
   "execution_count": 29,
   "metadata": {},
   "outputs": [
    {
     "data": {
      "image/png": "[encoded data removed]",
      "text/plain": [
       "<Figure size 432x288 with 1 Axes>"
      ]
     },
     "metadata": {
      "needs_background": "light"
     },
     "output_type": "display_data"
    }
   ],
   "source": [
    "#Plot la roc curva para el modelo\n",
    "plt.plot(ns_fpr,ns_tpr,linestyle='--', label='No Skill')\n",
    "plt.plot(lr_fpr, lr_tpr, marker='.', label='KNN')\n",
    "plt.xlabel('False Positive Rate')\n",
    "plt.ylabel('True Positive Rate')\n",
    "plt.legend()\n",
    "plt.show()"
   ]
  }
 ],
 "metadata": {
  "kernelspec": {
   "display_name": "Python 3",
   "language": "python",
   "name": "python3"
  },
  "language_info": {
   "codemirror_mode": {
    "name": "ipython",
    "version": 3
   },
   "file_extension": ".py",
   "mimetype": "text/x-python",
   "name": "python",
   "nbconvert_exporter": "python",
   "pygments_lexer": "ipython3",
   "version": "3.7.3"
  }
 },
 "nbformat": 4,
 "nbformat_minor": 2
}
