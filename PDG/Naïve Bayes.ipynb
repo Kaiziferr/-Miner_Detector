{
 "cells": [
  {
   "cell_type": "code",
   "execution_count": 4,
   "metadata": {},
   "outputs": [],
   "source": [
    "import pandas as pd\n",
    "import numpy as np\n",
    "import matplotlib.pyplot as plt\n",
    "from sklearn import metrics\n",
    "from sklearn.impute import SimpleImputer\n",
    "from sklearn.feature_selection import VarianceThreshold\n",
    "from sklearn.model_selection import train_test_split\n",
    "from sklearn.compose import ColumnTransformer, make_column_selector\n",
    "from sklearn.preprocessing import OneHotEncoder, StandardScaler\n",
    "from sklearn.naive_bayes import GaussianNB"
   ]
  },
  {
   "cell_type": "markdown",
   "metadata": {},
   "source": [
    "# Clasificación a partir de Naïve Bayes"
   ]
  },
  {
   "cell_type": "code",
   "execution_count": 9,
   "metadata": {},
   "outputs": [
    {
     "data": {
      "text/html": [
       "<div>\n",
       "<style scoped>\n",
       "    .dataframe tbody tr th:only-of-type {\n",
       "        vertical-align: middle;\n",
       "    }\n",
       "\n",
       "    .dataframe tbody tr th {\n",
       "        vertical-align: top;\n",
       "    }\n",
       "\n",
       "    .dataframe thead th {\n",
       "        text-align: right;\n",
       "    }\n",
       "</style>\n",
       "<table border=\"1\" class=\"dataframe\">\n",
       "  <thead>\n",
       "    <tr style=\"text-align: right;\">\n",
       "      <th></th>\n",
       "      <th>index</th>\n",
       "      <th>Name</th>\n",
       "      <th>Netflows</th>\n",
       "      <th>First_Protocol</th>\n",
       "      <th>Second_Protocol</th>\n",
       "      <th>Third_Protocol</th>\n",
       "      <th>p1_d</th>\n",
       "      <th>p2_d</th>\n",
       "      <th>p3_d</th>\n",
       "      <th>duration</th>\n",
       "      <th>...</th>\n",
       "      <th>second_dp</th>\n",
       "      <th>third_dp</th>\n",
       "      <th>p1_ip</th>\n",
       "      <th>p2_ip</th>\n",
       "      <th>p3_ip</th>\n",
       "      <th>p1_ib</th>\n",
       "      <th>p2_ib</th>\n",
       "      <th>p3_ib</th>\n",
       "      <th>Type</th>\n",
       "      <th>Cryptocurrency</th>\n",
       "    </tr>\n",
       "  </thead>\n",
       "  <tbody>\n",
       "    <tr>\n",
       "      <th>0</th>\n",
       "      <td>2189</td>\n",
       "      <td>1123-csves/1.csv</td>\n",
       "      <td>4</td>\n",
       "      <td>UDP</td>\n",
       "      <td>NaN</td>\n",
       "      <td>NaN</td>\n",
       "      <td>0.0</td>\n",
       "      <td>0.0</td>\n",
       "      <td>0.0</td>\n",
       "      <td>0.0</td>\n",
       "      <td>...</td>\n",
       "      <td>41346.0</td>\n",
       "      <td>58136.0</td>\n",
       "      <td>1.0</td>\n",
       "      <td>1.0</td>\n",
       "      <td>1.0</td>\n",
       "      <td>34.25</td>\n",
       "      <td>41.5</td>\n",
       "      <td>48.75</td>\n",
       "      <td>not_mine</td>\n",
       "      <td>Does_not_have</td>\n",
       "    </tr>\n",
       "  </tbody>\n",
       "</table>\n",
       "<p>1 rows × 33 columns</p>\n",
       "</div>"
      ],
      "text/plain": [
       "   index              Name  Netflows First_Protocol Second_Protocol  \\\n",
       "0   2189  1123-csves/1.csv         4            UDP             NaN   \n",
       "\n",
       "  Third_Protocol  p1_d  p2_d  p3_d  duration  ...  second_dp  third_dp  p1_ip  \\\n",
       "0            NaN   0.0   0.0   0.0       0.0  ...    41346.0   58136.0    1.0   \n",
       "\n",
       "   p2_ip  p3_ip  p1_ib  p2_ib  p3_ib      Type  Cryptocurrency  \n",
       "0    1.0    1.0  34.25   41.5  48.75  not_mine   Does_not_have  \n",
       "\n",
       "[1 rows x 33 columns]"
      ]
     },
     "execution_count": 9,
     "metadata": {},
     "output_type": "execute_result"
    }
   ],
   "source": [
    "data_I = pd.read_csv('./data_identificada.csv')\n",
    "data_I.head(1)"
   ]
  },
  {
   "cell_type": "code",
   "execution_count": 10,
   "metadata": {},
   "outputs": [],
   "source": [
    "data_I = data_I.drop(['index','Name'], axis = 1)"
   ]
  },
  {
   "cell_type": "markdown",
   "metadata": {},
   "source": [
    "# Preprocesado"
   ]
  },
  {
   "cell_type": "markdown",
   "metadata": {},
   "source": [
    "### Eliminar valores ausentes no imputables"
   ]
  },
  {
   "cell_type": "code",
   "execution_count": 11,
   "metadata": {},
   "outputs": [],
   "source": [
    "data_I = data_I.drop(['Second_Protocol','Third_Protocol'], axis = 1)"
   ]
  },
  {
   "cell_type": "markdown",
   "metadata": {},
   "source": [
    "### Imputación de valores ausentes"
   ]
  },
  {
   "cell_type": "code",
   "execution_count": 12,
   "metadata": {},
   "outputs": [],
   "source": [
    "punter = pd.concat([data_I['second_sp'], data_I['second_dp'], data_I['third_sp'], data_I['third_dp']], axis = 1)\n",
    "imputer = SimpleImputer(missing_values = np.nan, strategy = \"median\")\n",
    "value = imputer.fit_transform(punter)"
   ]
  },
  {
   "cell_type": "code",
   "execution_count": 13,
   "metadata": {},
   "outputs": [],
   "source": [
    "temp = data_I.drop(['second_sp','second_dp','third_sp','third_dp'], axis = 1)\n",
    "punter = pd.DataFrame(value, columns = punter.columns)"
   ]
  },
  {
   "cell_type": "code",
   "execution_count": 14,
   "metadata": {},
   "outputs": [
    {
     "data": {
      "text/html": [
       "<div>\n",
       "<style scoped>\n",
       "    .dataframe tbody tr th:only-of-type {\n",
       "        vertical-align: middle;\n",
       "    }\n",
       "\n",
       "    .dataframe tbody tr th {\n",
       "        vertical-align: top;\n",
       "    }\n",
       "\n",
       "    .dataframe thead th {\n",
       "        text-align: right;\n",
       "    }\n",
       "</style>\n",
       "<table border=\"1\" class=\"dataframe\">\n",
       "  <thead>\n",
       "    <tr style=\"text-align: right;\">\n",
       "      <th></th>\n",
       "      <th>second_sp</th>\n",
       "      <th>second_dp</th>\n",
       "      <th>third_sp</th>\n",
       "      <th>third_dp</th>\n",
       "      <th>Netflows</th>\n",
       "      <th>First_Protocol</th>\n",
       "      <th>p1_d</th>\n",
       "      <th>p2_d</th>\n",
       "      <th>p3_d</th>\n",
       "      <th>duration</th>\n",
       "      <th>...</th>\n",
       "      <th>first_sp</th>\n",
       "      <th>first_dp</th>\n",
       "      <th>p1_ip</th>\n",
       "      <th>p2_ip</th>\n",
       "      <th>p3_ip</th>\n",
       "      <th>p1_ib</th>\n",
       "      <th>p2_ib</th>\n",
       "      <th>p3_ib</th>\n",
       "      <th>Type</th>\n",
       "      <th>Cryptocurrency</th>\n",
       "    </tr>\n",
       "  </thead>\n",
       "  <tbody>\n",
       "    <tr>\n",
       "      <th>0</th>\n",
       "      <td>41346.0</td>\n",
       "      <td>41346.0</td>\n",
       "      <td>58136.0</td>\n",
       "      <td>58136.0</td>\n",
       "      <td>4</td>\n",
       "      <td>UDP</td>\n",
       "      <td>0.0</td>\n",
       "      <td>0.0</td>\n",
       "      <td>0.0</td>\n",
       "      <td>0.0</td>\n",
       "      <td>...</td>\n",
       "      <td>53</td>\n",
       "      <td>53</td>\n",
       "      <td>1.0</td>\n",
       "      <td>1.0</td>\n",
       "      <td>1.0</td>\n",
       "      <td>34.25</td>\n",
       "      <td>41.5</td>\n",
       "      <td>48.75</td>\n",
       "      <td>not_mine</td>\n",
       "      <td>Does_not_have</td>\n",
       "    </tr>\n",
       "  </tbody>\n",
       "</table>\n",
       "<p>1 rows × 29 columns</p>\n",
       "</div>"
      ],
      "text/plain": [
       "   second_sp  second_dp  third_sp  third_dp  Netflows First_Protocol  p1_d  \\\n",
       "0    41346.0    41346.0   58136.0   58136.0         4            UDP   0.0   \n",
       "\n",
       "   p2_d  p3_d  duration  ...  first_sp  first_dp  p1_ip  p2_ip  p3_ip  p1_ib  \\\n",
       "0   0.0   0.0       0.0  ...        53        53    1.0    1.0    1.0  34.25   \n",
       "\n",
       "   p2_ib  p3_ib      Type  Cryptocurrency  \n",
       "0   41.5  48.75  not_mine   Does_not_have  \n",
       "\n",
       "[1 rows x 29 columns]"
      ]
     },
     "execution_count": 14,
     "metadata": {},
     "output_type": "execute_result"
    }
   ],
   "source": [
    "data_I = pd.concat([punter, temp], axis = 1)\n",
    "data_I.head(1)"
   ]
  },
  {
   "cell_type": "markdown",
   "metadata": {},
   "source": [
    "### Exclusión de variables con varianza próxima a cero"
   ]
  },
  {
   "cell_type": "code",
   "execution_count": 15,
   "metadata": {},
   "outputs": [],
   "source": [
    "data_numeric = data_I.select_dtypes(include = ['float64', 'int64']).columns.to_list()\n",
    "data_categoric = data_I.select_dtypes(include = ['object']).columns.to_list()"
   ]
  },
  {
   "cell_type": "code",
   "execution_count": 16,
   "metadata": {
    "scrolled": true
   },
   "outputs": [
    {
     "data": {
      "text/plain": [
       "array([[4.13460e+04, 4.13460e+04, 5.81360e+04, ..., 3.42500e+01,\n",
       "        4.15000e+01, 4.87500e+01],\n",
       "       [4.44400e+03, 5.87800e+04, 1.23000e+02, ..., 3.97500e+02,\n",
       "        8.74000e+02, 3.67050e+03],\n",
       "       [5.18800e+04, 5.18800e+04, 1.23000e+02, ..., 4.30250e+02,\n",
       "        8.00500e+02, 1.17075e+03],\n",
       "       ...,\n",
       "       [4.98750e+04, 4.98750e+04, 1.23000e+02, ..., 2.64175e+03,\n",
       "        4.93950e+03, 7.23725e+03],\n",
       "       [8.00000e+01, 8.00000e+01, 5.30000e+01, ..., 3.20000e+01,\n",
       "        3.70000e+01, 5.42000e+02],\n",
       "       [8.00000e+01, 8.00000e+01, 5.35300e+03, ..., 3.20000e+01,\n",
       "        6.40000e+01, 1.27750e+02]])"
      ]
     },
     "execution_count": 16,
     "metadata": {},
     "output_type": "execute_result"
    }
   ],
   "source": [
    "thresholder = VarianceThreshold(threshold = 0.5)\n",
    "values = thresholder.fit_transform(data_I[data_numeric])\n",
    "values"
   ]
  },
  {
   "cell_type": "code",
   "execution_count": null,
   "metadata": {},
   "outputs": [],
   "source": []
  },
  {
   "cell_type": "markdown",
   "metadata": {},
   "source": [
    "### Estandarizar"
   ]
  },
  {
   "cell_type": "code",
   "execution_count": 17,
   "metadata": {},
   "outputs": [],
   "source": [
    "data_numeric = data_I[data_numeric]"
   ]
  },
  {
   "cell_type": "code",
   "execution_count": 18,
   "metadata": {},
   "outputs": [],
   "source": [
    "preprocessor = ColumnTransformer([\n",
    "    ('scale', StandardScaler(), data_numeric.columns)\n",
    "], remainder='passthrough')"
   ]
  },
  {
   "cell_type": "code",
   "execution_count": 19,
   "metadata": {},
   "outputs": [],
   "source": [
    "values = preprocessor.fit_transform(data_numeric)"
   ]
  },
  {
   "cell_type": "code",
   "execution_count": 20,
   "metadata": {
    "scrolled": true
   },
   "outputs": [
    {
     "data": {
      "text/html": [
       "<div>\n",
       "<style scoped>\n",
       "    .dataframe tbody tr th:only-of-type {\n",
       "        vertical-align: middle;\n",
       "    }\n",
       "\n",
       "    .dataframe tbody tr th {\n",
       "        vertical-align: top;\n",
       "    }\n",
       "\n",
       "    .dataframe thead th {\n",
       "        text-align: right;\n",
       "    }\n",
       "</style>\n",
       "<table border=\"1\" class=\"dataframe\">\n",
       "  <thead>\n",
       "    <tr style=\"text-align: right;\">\n",
       "      <th></th>\n",
       "      <th>second_sp</th>\n",
       "      <th>second_dp</th>\n",
       "      <th>third_sp</th>\n",
       "      <th>third_dp</th>\n",
       "      <th>Netflows</th>\n",
       "      <th>p1_d</th>\n",
       "      <th>p2_d</th>\n",
       "      <th>p3_d</th>\n",
       "      <th>duration</th>\n",
       "      <th>max_d</th>\n",
       "      <th>...</th>\n",
       "      <th>#sp</th>\n",
       "      <th>#dp</th>\n",
       "      <th>first_sp</th>\n",
       "      <th>first_dp</th>\n",
       "      <th>p1_ip</th>\n",
       "      <th>p2_ip</th>\n",
       "      <th>p3_ip</th>\n",
       "      <th>p1_ib</th>\n",
       "      <th>p2_ib</th>\n",
       "      <th>p3_ib</th>\n",
       "    </tr>\n",
       "  </thead>\n",
       "  <tbody>\n",
       "    <tr>\n",
       "      <th>0</th>\n",
       "      <td>0.766185</td>\n",
       "      <td>0.806796</td>\n",
       "      <td>2.554926</td>\n",
       "      <td>3.664399</td>\n",
       "      <td>-0.491983</td>\n",
       "      <td>-0.700949</td>\n",
       "      <td>-0.804477</td>\n",
       "      <td>-0.960618</td>\n",
       "      <td>-0.488545</td>\n",
       "      <td>-1.268557</td>\n",
       "      <td>...</td>\n",
       "      <td>-0.540526</td>\n",
       "      <td>-0.524864</td>\n",
       "      <td>-0.507407</td>\n",
       "      <td>-0.527309</td>\n",
       "      <td>-0.368592</td>\n",
       "      <td>-0.401682</td>\n",
       "      <td>-0.465767</td>\n",
       "      <td>-0.424466</td>\n",
       "      <td>-0.48806</td>\n",
       "      <td>-0.574012</td>\n",
       "    </tr>\n",
       "  </tbody>\n",
       "</table>\n",
       "<p>1 rows × 26 columns</p>\n",
       "</div>"
      ],
      "text/plain": [
       "   second_sp  second_dp  third_sp  third_dp  Netflows      p1_d      p2_d  \\\n",
       "0   0.766185   0.806796  2.554926  3.664399 -0.491983 -0.700949 -0.804477   \n",
       "\n",
       "       p3_d  duration     max_d  ...       #sp       #dp  first_sp  first_dp  \\\n",
       "0 -0.960618 -0.488545 -1.268557  ... -0.540526 -0.524864 -0.507407 -0.527309   \n",
       "\n",
       "      p1_ip     p2_ip     p3_ip     p1_ib    p2_ib     p3_ib  \n",
       "0 -0.368592 -0.401682 -0.465767 -0.424466 -0.48806 -0.574012  \n",
       "\n",
       "[1 rows x 26 columns]"
      ]
     },
     "execution_count": 20,
     "metadata": {},
     "output_type": "execute_result"
    }
   ],
   "source": [
    "data_numeric =  pd.DataFrame(values, columns = data_numeric.columns)\n",
    "data_numeric.head(1)"
   ]
  },
  {
   "cell_type": "code",
   "execution_count": null,
   "metadata": {},
   "outputs": [],
   "source": []
  },
  {
   "cell_type": "markdown",
   "metadata": {},
   "source": [
    "### Defino mi variable a predecir y mis predictores"
   ]
  },
  {
   "cell_type": "code",
   "execution_count": 21,
   "metadata": {},
   "outputs": [],
   "source": [
    "y = data_I['Type']\n",
    "X = data_numeric"
   ]
  },
  {
   "cell_type": "markdown",
   "metadata": {},
   "source": [
    "### Holdout"
   ]
  },
  {
   "cell_type": "code",
   "execution_count": 22,
   "metadata": {},
   "outputs": [],
   "source": [
    "X_train, X_test, y_train, y_test = train_test_split(X,y,train_size = 0.7, test_size=0.3, random_state = 1234)"
   ]
  },
  {
   "cell_type": "markdown",
   "metadata": {},
   "source": [
    "# Naïve Bayes"
   ]
  },
  {
   "cell_type": "code",
   "execution_count": 25,
   "metadata": {},
   "outputs": [],
   "source": [
    "gnb = GaussianNB()\n",
    "GNB = gnb.fit(X_train, y_train)"
   ]
  },
  {
   "cell_type": "code",
   "execution_count": 27,
   "metadata": {},
   "outputs": [
    {
     "data": {
      "text/plain": [
       "array([1574., 1739.])"
      ]
     },
     "execution_count": 27,
     "metadata": {},
     "output_type": "execute_result"
    }
   ],
   "source": [
    "GNB.class_count_"
   ]
  },
  {
   "cell_type": "code",
   "execution_count": 28,
   "metadata": {},
   "outputs": [
    {
     "data": {
      "text/plain": [
       "array([0.4750981, 0.5249019])"
      ]
     },
     "execution_count": 28,
     "metadata": {},
     "output_type": "execute_result"
    }
   ],
   "source": [
    "GNB.class_prior_"
   ]
  },
  {
   "cell_type": "code",
   "execution_count": 29,
   "metadata": {},
   "outputs": [
    {
     "data": {
      "text/plain": [
       "array([[ 0.70733591,  0.69913026, -0.35843129, -0.17392109, -0.48166763,\n",
       "         0.65547159,  0.63664989,  0.61049056, -0.40242263,  0.52700969,\n",
       "         0.68141229, -0.3477899 , -0.36013037, -0.37440365, -0.39409598,\n",
       "        -0.28437181, -0.5558802 , -0.54045313,  0.53264895,  0.55219   ,\n",
       "         0.36360206,  0.37949388,  0.38498261,  0.43388683,  0.49077448,\n",
       "         0.51017867],\n",
       "       [-0.63387844, -0.62699327,  0.28958642,  0.15158484,  0.40532057,\n",
       "        -0.60814575, -0.59649659, -0.5742263 ,  0.33358076, -0.50321988,\n",
       "        -0.62490314,  0.2815584 ,  0.3053737 ,  0.3249708 ,  0.37354501,\n",
       "         0.22586353,  0.47239986,  0.45904857, -0.46505852, -0.48359381,\n",
       "        -0.35289594, -0.36568614, -0.36862271, -0.41654335, -0.46805284,\n",
       "        -0.48711049]])"
      ]
     },
     "execution_count": 29,
     "metadata": {},
     "output_type": "execute_result"
    }
   ],
   "source": [
    "GNB.theta_"
   ]
  },
  {
   "cell_type": "code",
   "execution_count": 31,
   "metadata": {},
   "outputs": [
    {
     "data": {
      "text/plain": [
       "array([[8.11943904e-01, 8.66784148e-01, 3.17823420e-01, 5.59095948e-01,\n",
       "        1.59271962e-03, 1.21290457e+00, 1.19672071e+00, 1.19235555e+00,\n",
       "        1.42097681e-03, 1.24085474e+00, 1.19417687e+00, 7.60291988e-04,\n",
       "        7.04126886e-04, 7.17419179e-03, 2.34350690e-01, 1.14056186e-05,\n",
       "        2.07354197e-05, 2.10383076e-05, 1.53806217e+00, 1.50818951e+00,\n",
       "        1.70677833e+00, 1.68617743e+00, 1.66824815e+00, 1.58208927e+00,\n",
       "        1.50339413e+00, 1.44230168e+00],\n",
       "       [3.20709552e-01, 2.89326782e-01, 1.35819296e+00, 1.34129357e+00,\n",
       "        1.27132556e+00, 4.13387653e-02, 9.61599950e-02, 1.60571866e-01,\n",
       "        1.60427396e+00, 2.77329905e-01, 3.70549310e-05, 9.28353231e-01,\n",
       "        1.01160809e+00, 1.54502188e+00, 1.45210546e+00, 7.73738732e-01,\n",
       "        1.28183009e+00, 1.30605090e+00, 6.40027617e-02, 5.59909965e-02,\n",
       "        7.74858287e-04, 2.80934881e-03, 2.01340600e-02, 9.47784520e-04,\n",
       "        3.67370848e-03, 3.53280729e-02]])"
      ]
     },
     "execution_count": 31,
     "metadata": {},
     "output_type": "execute_result"
    }
   ],
   "source": [
    "GNB.sigma_"
   ]
  },
  {
   "cell_type": "code",
   "execution_count": 52,
   "metadata": {},
   "outputs": [
    {
     "data": {
      "text/plain": [
       "array(['not_mine', 'not_mine', 'not_mine', ..., 'not_mine', 'not_mine',\n",
       "       'not_mine'], dtype='<U8')"
      ]
     },
     "execution_count": 52,
     "metadata": {},
     "output_type": "execute_result"
    }
   ],
   "source": [
    "y_pred = GNB.predict(X_test)\n",
    "y_pred"
   ]
  },
  {
   "cell_type": "code",
   "execution_count": 53,
   "metadata": {},
   "outputs": [
    {
     "data": {
      "text/plain": [
       "((1420,), (1420,), (4733,), (3313,))"
      ]
     },
     "execution_count": 53,
     "metadata": {},
     "output_type": "execute_result"
    }
   ],
   "source": [
    "y_test.shape, y_pred.shape, y.shape, y_train.shape"
   ]
  },
  {
   "cell_type": "code",
   "execution_count": 54,
   "metadata": {},
   "outputs": [
    {
     "name": "stdout",
     "output_type": "stream",
     "text": [
      "El modelo de Naïve Bayes se equivocó en 15 de los 4733 registros que componen el dataset original\n"
     ]
    }
   ],
   "source": [
    "print(\"El modelo de Naïve Bayes se equivocó en %d de los %d registros que componen el dataset original\"\n",
    "      % ((y_test != y_pred).sum(), data_I.shape[0]))"
   ]
  },
  {
   "cell_type": "code",
   "execution_count": 57,
   "metadata": {
    "scrolled": true
   },
   "outputs": [
    {
     "data": {
      "text/plain": [
       "([<matplotlib.axis.YTick at 0x1e0028f4400>,\n",
       "  <matplotlib.axis.YTick at 0x1e00278d908>,\n",
       "  <matplotlib.axis.YTick at 0x1e0028e5630>],\n",
       " <a list of 2 Text yticklabel objects>)"
      ]
     },
     "execution_count": 57,
     "metadata": {},
     "output_type": "execute_result"
    },
    {
     "data": {
      "image/png": "[encoded data removed]",
      "text/plain": [
       "<Figure size 432x288 with 2 Axes>"
      ]
     },
     "metadata": {
      "needs_background": "light"
     },
     "output_type": "display_data"
    }
   ],
   "source": [
    "churm = metrics.confusion_matrix(y_test, y_pred)\n",
    "plt.imshow(churm, cmap=plt.cm.Blues)\n",
    "plt.colorbar()\n",
    "tick_marks = np.arange(3)\n",
    "plt.xticks(tick_marks, ['Not_mine','Mine'])\n",
    "plt.yticks(tick_marks, ['Not_mine','Mine'])"
   ]
  },
  {
   "cell_type": "code",
   "execution_count": 58,
   "metadata": {},
   "outputs": [
    {
     "data": {
      "text/plain": [
       "array([[648,  10],\n",
       "       [  5, 757]], dtype=int64)"
      ]
     },
     "execution_count": 58,
     "metadata": {},
     "output_type": "execute_result"
    }
   ],
   "source": [
    "churm"
   ]
  },
  {
   "cell_type": "code",
   "execution_count": 59,
   "metadata": {},
   "outputs": [
    {
     "name": "stdout",
     "output_type": "stream",
     "text": [
      "Exactitud:  0.9894366197183099\n",
      "Kappa:  0.9894366197183099\n"
     ]
    }
   ],
   "source": [
    "print(\"Exactitud: \", metrics.accuracy_score(y_test, y_pred))\n",
    "print(\"Kappa: \", metrics.accuracy_score(y_test, y_pred))"
   ]
  },
  {
   "cell_type": "code",
   "execution_count": 60,
   "metadata": {},
   "outputs": [
    {
     "name": "stdout",
     "output_type": "stream",
     "text": [
      "Precisión     :  0.9923430321592649\n",
      "Recall        :  0.9848024316109423\n",
      "Especificidad :  0.9869621903520208\n",
      "F1-score      :  0.9885583524027459\n"
     ]
    }
   ],
   "source": [
    "print(\"Precisión     : \", metrics.precision_score(y_test, y_pred, labels=['mine'], average='macro'))\n",
    "print(\"Recall        : \", metrics.recall_score(y_test, y_pred, labels=['mine'], average='macro'))\n",
    "\n",
    "VN = np.sum(churm[1:3,1:3])\n",
    "FP = np.sum(churm[0,1:3])\n",
    "specificity = VN/(VN+FP)\n",
    "\n",
    "print(\"Especificidad : \", specificity)\n",
    "\n",
    "print(\"F1-score      : \", metrics.f1_score(y_test, y_pred, labels=['mine'], average='macro'))"
   ]
  },
  {
   "cell_type": "code",
   "execution_count": 61,
   "metadata": {},
   "outputs": [
    {
     "name": "stdout",
     "output_type": "stream",
     "text": [
      "Precisión     :  0.9869621903520208\n",
      "Recall        :  0.9934383202099738\n",
      "Especificidad :  0.9869621903520208\n",
      "F1-score      :  0.9901896664486592\n"
     ]
    }
   ],
   "source": [
    "print(\"Precisión     : \", metrics.precision_score(y_test, y_pred, labels=['not_mine'], average='macro'))\n",
    "print(\"Recall        : \", metrics.recall_score(y_test, y_pred, labels=['not_mine'], average='macro'))\n",
    "\n",
    "VN = np.sum(churm[1:3,1:3])\n",
    "FP = np.sum(churm[0,1:3])\n",
    "specificity = VN/(VN+FP)\n",
    "\n",
    "print(\"Especificidad : \", specificity)\n",
    "\n",
    "print(\"F1-score      : \", metrics.f1_score(y_test, y_pred, labels=['not_mine'], average='macro'))"
   ]
  }
 ],
 "metadata": {
  "kernelspec": {
   "display_name": "Python 3",
   "language": "python",
   "name": "python3"
  },
  "language_info": {
   "codemirror_mode": {
    "name": "ipython",
    "version": 3
   },
   "file_extension": ".py",
   "mimetype": "text/x-python",
   "name": "python",
   "nbconvert_exporter": "python",
   "pygments_lexer": "ipython3",
   "version": "3.7.3"
  }
 },
 "nbformat": 4,
 "nbformat_minor": 2
}
