{
 "cells": [
  {
   "cell_type": "code",
   "execution_count": 1,
   "metadata": {},
   "outputs": [],
   "source": [
    "import pandas as pd\n",
    "import numpy as np\n",
    "import seaborn as sns\n",
    "import matplotlib.pyplot as plt\n",
    "\n",
    "\n",
    "from termcolor import colored\n",
    "\n",
    "from sklearn.model_selection import train_test_split, cross_validate, KFold\n",
    "from sklearn.preprocessing import OneHotEncoder\n",
    "from sklearn.impute import SimpleImputer\n",
    "\n",
    "# Model\n",
    "# --------------------------------------------------------------------\n",
    "from sklearn.tree import DecisionTreeClassifier, plot_tree\n",
    "from sklearn import metrics"
   ]
  },
  {
   "cell_type": "markdown",
   "metadata": {},
   "source": [
    "# Load Data"
   ]
  },
  {
   "cell_type": "code",
   "execution_count": 5,
   "metadata": {},
   "outputs": [
    {
     "data": {
      "text/html": [
       "<div>\n",
       "<style scoped>\n",
       "    .dataframe tbody tr th:only-of-type {\n",
       "        vertical-align: middle;\n",
       "    }\n",
       "\n",
       "    .dataframe tbody tr th {\n",
       "        vertical-align: top;\n",
       "    }\n",
       "\n",
       "    .dataframe thead th {\n",
       "        text-align: right;\n",
       "    }\n",
       "</style>\n",
       "<table border=\"1\" class=\"dataframe\">\n",
       "  <thead>\n",
       "    <tr style=\"text-align: right;\">\n",
       "      <th></th>\n",
       "      <th>Netflows</th>\n",
       "      <th>First_Protocol</th>\n",
       "      <th>p1_d</th>\n",
       "      <th>p2_d</th>\n",
       "      <th>p3_d</th>\n",
       "      <th>duration</th>\n",
       "      <th>max_d</th>\n",
       "      <th>min_d</th>\n",
       "      <th>#packets</th>\n",
       "      <th>Avg_bps</th>\n",
       "      <th>...</th>\n",
       "      <th>second_dp</th>\n",
       "      <th>third_dp</th>\n",
       "      <th>p1_ip</th>\n",
       "      <th>p2_ip</th>\n",
       "      <th>p3_ip</th>\n",
       "      <th>p1_ib</th>\n",
       "      <th>p2_ib</th>\n",
       "      <th>p3_ib</th>\n",
       "      <th>Type</th>\n",
       "      <th>Cryptocurrency</th>\n",
       "    </tr>\n",
       "  </thead>\n",
       "  <tbody>\n",
       "    <tr>\n",
       "      <th>0</th>\n",
       "      <td>400</td>\n",
       "      <td>TCP</td>\n",
       "      <td>0.0</td>\n",
       "      <td>0.0</td>\n",
       "      <td>9.04175</td>\n",
       "      <td>4287.992</td>\n",
       "      <td>65.519</td>\n",
       "      <td>0.0</td>\n",
       "      <td>6750</td>\n",
       "      <td>360512</td>\n",
       "      <td>...</td>\n",
       "      <td>53.0</td>\n",
       "      <td>80.0</td>\n",
       "      <td>1.0</td>\n",
       "      <td>1.0</td>\n",
       "      <td>5.5</td>\n",
       "      <td>32.0</td>\n",
       "      <td>33.0</td>\n",
       "      <td>873.0</td>\n",
       "      <td>not_mine</td>\n",
       "      <td>Does not have</td>\n",
       "    </tr>\n",
       "  </tbody>\n",
       "</table>\n",
       "<p>1 rows × 29 columns</p>\n",
       "</div>"
      ],
      "text/plain": [
       "   Netflows First_Protocol  p1_d  p2_d     p3_d  duration   max_d  min_d  \\\n",
       "0       400            TCP   0.0   0.0  9.04175  4287.992  65.519    0.0   \n",
       "\n",
       "   #packets  Avg_bps  ...  second_dp  third_dp  p1_ip  p2_ip  p3_ip  p1_ib  \\\n",
       "0      6750   360512  ...       53.0      80.0    1.0    1.0    5.5   32.0   \n",
       "\n",
       "   p2_ib  p3_ib      Type  Cryptocurrency  \n",
       "0   33.0  873.0  not_mine   Does not have  \n",
       "\n",
       "[1 rows x 29 columns]"
      ]
     },
     "execution_count": 5,
     "metadata": {},
     "output_type": "execute_result"
    }
   ],
   "source": [
    "data = pd.read_csv('./data_identificada.csv').drop(['index','Name','Second_Protocol', 'Third_Protocol'], axis = 1)\n",
    "data.head(1)"
   ]
  },
  {
   "cell_type": "markdown",
   "metadata": {},
   "source": [
    "# Preprocesamiento"
   ]
  },
  {
   "cell_type": "markdown",
   "metadata": {},
   "source": [
    "### Imputación de valores ausentes"
   ]
  },
  {
   "cell_type": "code",
   "execution_count": 6,
   "metadata": {},
   "outputs": [],
   "source": [
    "punter = pd.concat([data['second_sp'],data['second_dp'],data['third_sp'],data['third_dp']],axis=1)\n",
    "imputer = SimpleImputer(missing_values = np.nan, strategy = \"median\")\n",
    "values = imputer.fit_transform(punter)"
   ]
  },
  {
   "cell_type": "code",
   "execution_count": 7,
   "metadata": {},
   "outputs": [],
   "source": [
    "punter = pd.DataFrame(values, columns = punter.columns)\n",
    "data['second_sp'] = punter['second_sp']\n",
    "data['second_dp'] = punter['second_dp']\n",
    "data['third_sp'] = punter['third_sp']\n",
    "data['third_dp'] = punter['third_dp']"
   ]
  },
  {
   "cell_type": "markdown",
   "metadata": {},
   "source": [
    "### OneHotEncoder"
   ]
  },
  {
   "cell_type": "code",
   "execution_count": 8,
   "metadata": {},
   "outputs": [
    {
     "data": {
      "text/plain": [
       "<4733x12 sparse matrix of type '<class 'numpy.float64'>'\n",
       "\twith 14199 stored elements in Compressed Sparse Row format>"
      ]
     },
     "execution_count": 8,
     "metadata": {},
     "output_type": "execute_result"
    }
   ],
   "source": [
    "data_categoric = data[data.select_dtypes(include = ['object']).columns.to_list()]\n",
    "one_hot = OneHotEncoder()\n",
    "one_hot.fit_transform(data_categoric)"
   ]
  },
  {
   "cell_type": "code",
   "execution_count": 9,
   "metadata": {},
   "outputs": [
    {
     "data": {
      "text/html": [
       "<div>\n",
       "<style scoped>\n",
       "    .dataframe tbody tr th:only-of-type {\n",
       "        vertical-align: middle;\n",
       "    }\n",
       "\n",
       "    .dataframe tbody tr th {\n",
       "        vertical-align: top;\n",
       "    }\n",
       "\n",
       "    .dataframe thead th {\n",
       "        text-align: right;\n",
       "    }\n",
       "</style>\n",
       "<table border=\"1\" class=\"dataframe\">\n",
       "  <thead>\n",
       "    <tr style=\"text-align: right;\">\n",
       "      <th></th>\n",
       "      <th>First_Protocol_ICMP</th>\n",
       "      <th>First_Protocol_ICMP6</th>\n",
       "      <th>First_Protocol_TCP</th>\n",
       "      <th>First_Protocol_UDP</th>\n",
       "      <th>Type_mine</th>\n",
       "      <th>Type_not_mine</th>\n",
       "      <th>Cryptocurrency_Bitcash</th>\n",
       "      <th>Cryptocurrency_Bitcoin</th>\n",
       "      <th>Cryptocurrency_Does not have</th>\n",
       "      <th>Cryptocurrency_Etherium</th>\n",
       "      <th>Cryptocurrency_Litecoin</th>\n",
       "      <th>Cryptocurrency_Monero</th>\n",
       "    </tr>\n",
       "  </thead>\n",
       "  <tbody>\n",
       "    <tr>\n",
       "      <th>0</th>\n",
       "      <td>0</td>\n",
       "      <td>0</td>\n",
       "      <td>1</td>\n",
       "      <td>0</td>\n",
       "      <td>0</td>\n",
       "      <td>1</td>\n",
       "      <td>0</td>\n",
       "      <td>0</td>\n",
       "      <td>1</td>\n",
       "      <td>0</td>\n",
       "      <td>0</td>\n",
       "      <td>0</td>\n",
       "    </tr>\n",
       "    <tr>\n",
       "      <th>1</th>\n",
       "      <td>0</td>\n",
       "      <td>0</td>\n",
       "      <td>0</td>\n",
       "      <td>1</td>\n",
       "      <td>0</td>\n",
       "      <td>1</td>\n",
       "      <td>0</td>\n",
       "      <td>0</td>\n",
       "      <td>1</td>\n",
       "      <td>0</td>\n",
       "      <td>0</td>\n",
       "      <td>0</td>\n",
       "    </tr>\n",
       "  </tbody>\n",
       "</table>\n",
       "</div>"
      ],
      "text/plain": [
       "   First_Protocol_ICMP  First_Protocol_ICMP6  First_Protocol_TCP  \\\n",
       "0                    0                     0                   1   \n",
       "1                    0                     0                   0   \n",
       "\n",
       "   First_Protocol_UDP  Type_mine  Type_not_mine  Cryptocurrency_Bitcash  \\\n",
       "0                   0          0              1                       0   \n",
       "1                   1          0              1                       0   \n",
       "\n",
       "   Cryptocurrency_Bitcoin  Cryptocurrency_Does not have  \\\n",
       "0                       0                             1   \n",
       "1                       0                             1   \n",
       "\n",
       "   Cryptocurrency_Etherium  Cryptocurrency_Litecoin  Cryptocurrency_Monero  \n",
       "0                        0                        0                      0  \n",
       "1                        0                        0                      0  "
      ]
     },
     "execution_count": 9,
     "metadata": {},
     "output_type": "execute_result"
    }
   ],
   "source": [
    "data_dummy = pd.get_dummies(data_categoric)\n",
    "data_dummy.head(2)"
   ]
  },
  {
   "cell_type": "markdown",
   "metadata": {},
   "source": [
    "### Estructuración"
   ]
  },
  {
   "cell_type": "code",
   "execution_count": 10,
   "metadata": {},
   "outputs": [
    {
     "data": {
      "text/plain": [
       "Index(['Netflows', 'p1_d', 'p2_d', 'p3_d', 'duration', 'max_d', 'min_d',\n",
       "       '#packets', 'Avg_bps', 'Avg_pps', 'Avg_bpp', '#Bytes', '#sp', '#dp',\n",
       "       'first_sp', 'second_sp', 'third_sp', 'first_dp', 'second_dp',\n",
       "       'third_dp', 'p1_ip', 'p2_ip', 'p3_ip', 'p1_ib', 'p2_ib', 'p3_ib'],\n",
       "      dtype='object')"
      ]
     },
     "execution_count": 10,
     "metadata": {},
     "output_type": "execute_result"
    }
   ],
   "source": [
    "data = data.drop(data_categoric, axis = 1)\n",
    "data.columns"
   ]
  },
  {
   "cell_type": "code",
   "execution_count": 11,
   "metadata": {},
   "outputs": [
    {
     "data": {
      "text/plain": [
       "Index(['Netflows', 'p1_d', 'p2_d', 'p3_d', 'duration', 'max_d', 'min_d',\n",
       "       '#packets', 'Avg_bps', 'Avg_pps', 'Avg_bpp', '#Bytes', '#sp', '#dp',\n",
       "       'first_sp', 'second_sp', 'third_sp', 'first_dp', 'second_dp',\n",
       "       'third_dp', 'p1_ip', 'p2_ip', 'p3_ip', 'p1_ib', 'p2_ib', 'p3_ib',\n",
       "       'First_Protocol_ICMP', 'First_Protocol_ICMP6', 'First_Protocol_TCP',\n",
       "       'First_Protocol_UDP', 'Type_mine', 'Type_not_mine',\n",
       "       'Cryptocurrency_Bitcash', 'Cryptocurrency_Bitcoin',\n",
       "       'Cryptocurrency_Does not have', 'Cryptocurrency_Etherium',\n",
       "       'Cryptocurrency_Litecoin', 'Cryptocurrency_Monero'],\n",
       "      dtype='object')"
      ]
     },
     "execution_count": 11,
     "metadata": {},
     "output_type": "execute_result"
    }
   ],
   "source": [
    "data = pd.concat([data,data_dummy], axis = 1)\n",
    "data.columns"
   ]
  },
  {
   "cell_type": "markdown",
   "metadata": {},
   "source": [
    "# Árboles de decisión"
   ]
  },
  {
   "cell_type": "code",
   "execution_count": 12,
   "metadata": {},
   "outputs": [
    {
     "data": {
      "text/plain": [
       "Index(['Netflows', 'p1_d', 'p2_d', 'p3_d', 'duration', 'max_d', 'min_d',\n",
       "       '#packets', 'Avg_bps', 'Avg_pps', 'Avg_bpp', '#Bytes', '#sp', '#dp',\n",
       "       'first_sp', 'second_sp', 'third_sp', 'first_dp', 'second_dp',\n",
       "       'third_dp', 'p1_ip', 'p2_ip', 'p3_ip', 'p1_ib', 'p2_ib', 'p3_ib',\n",
       "       'First_Protocol_ICMP', 'First_Protocol_ICMP6', 'First_Protocol_TCP',\n",
       "       'First_Protocol_UDP', 'Type_mine', 'Type_not_mine',\n",
       "       'Cryptocurrency_Bitcash', 'Cryptocurrency_Bitcoin',\n",
       "       'Cryptocurrency_Does not have', 'Cryptocurrency_Etherium',\n",
       "       'Cryptocurrency_Litecoin', 'Cryptocurrency_Monero'],\n",
       "      dtype='object')"
      ]
     },
     "execution_count": 12,
     "metadata": {},
     "output_type": "execute_result"
    }
   ],
   "source": [
    "data.columns"
   ]
  },
  {
   "cell_type": "code",
   "execution_count": 14,
   "metadata": {},
   "outputs": [],
   "source": [
    "best_feature_sel = ['#dp', '#sp', 'Avg_bpp', 'first_dp', 'first_sp', 'min_d', 'p1_d','p1_ip', 'p2_d', 'p2_ib', 'p2_ip', 'p3_ib', 'second_dp','second_sp']"
   ]
  },
  {
   "cell_type": "code",
   "execution_count": 15,
   "metadata": {},
   "outputs": [],
   "source": [
    "X = data[best_feature_sel]\n",
    "y = data['Type_mine']"
   ]
  },
  {
   "cell_type": "markdown",
   "metadata": {},
   "source": [
    "### Holdout"
   ]
  },
  {
   "cell_type": "code",
   "execution_count": 16,
   "metadata": {},
   "outputs": [],
   "source": [
    "X_train, X_test, y_train, y_test = train_test_split(X,y, train_size = 0.7, random_state = 1234)"
   ]
  },
  {
   "cell_type": "code",
   "execution_count": null,
   "metadata": {},
   "outputs": [],
   "source": []
  },
  {
   "cell_type": "code",
   "execution_count": null,
   "metadata": {},
   "outputs": [],
   "source": []
  },
  {
   "cell_type": "code",
   "execution_count": null,
   "metadata": {},
   "outputs": [],
   "source": []
  },
  {
   "cell_type": "code",
   "execution_count": 188,
   "metadata": {},
   "outputs": [],
   "source": [
    "model = DecisionTreeClassifier(\n",
    "    criterion='entropy', \n",
    "    max_depth=5,      \n",
    "    min_samples_split=2,\n",
    "    min_samples_leaf=1,\n",
    "    random_state=None,  \n",
    "    max_leaf_nodes=None, \n",
    "    min_impurity_decrease=0.0, \n",
    "    class_weight=None)"
   ]
  },
  {
   "cell_type": "code",
   "execution_count": 189,
   "metadata": {},
   "outputs": [
    {
     "data": {
      "text/plain": [
       "DecisionTreeClassifier(ccp_alpha=0.0, class_weight=None, criterion='entropy',\n",
       "                       max_depth=5, max_features=None, max_leaf_nodes=None,\n",
       "                       min_impurity_decrease=0.0, min_impurity_split=None,\n",
       "                       min_samples_leaf=1, min_samples_split=2,\n",
       "                       min_weight_fraction_leaf=0.0, presort='deprecated',\n",
       "                       random_state=None, splitter='best')"
      ]
     },
     "execution_count": 189,
     "metadata": {},
     "output_type": "execute_result"
    }
   ],
   "source": [
    "model.fit(X_train,y_train)"
   ]
  },
  {
   "cell_type": "code",
   "execution_count": 190,
   "metadata": {
    "scrolled": false
   },
   "outputs": [
    {
     "name": "stdout",
     "output_type": "stream",
     "text": [
      "\u001b[1mProfundidad del árbol: 4\u001b[0m\n",
      "\u001b[1mNúmero de nodos terminales: 5\u001b[0m\n"
     ]
    },
    {
     "data": {
      "text/plain": [
       "[Text(159.42857142857142, 489.24, 'first_sp <= 1887.5\\nsamples = 3313\\nvalue = [1738, 1575]\\nclass = T'),\n",
       " Text(79.71428571428571, 380.52000000000004, 'samples = 1711\\nvalue = [1711, 0]\\nclass = T'),\n",
       " Text(239.1428571428571, 380.52000000000004, 'second_sp <= 1887.5\\nsamples = 1602\\nvalue = [27, 1575]\\nclass = i'),\n",
       " Text(159.42857142857142, 271.8, 'samples = 23\\nvalue = [23, 0]\\nclass = T'),\n",
       " Text(318.85714285714283, 271.8, 'first_dp <= 2616.0\\nsamples = 1579\\nvalue = [4, 1575]\\nclass = i'),\n",
       " Text(239.1428571428571, 163.08000000000004, 'samples = 3\\nvalue = [3, 0]\\nclass = T'),\n",
       " Text(398.57142857142856, 163.08000000000004, '#dp <= 5.5\\nsamples = 1576\\nvalue = [1, 1575]\\nclass = i'),\n",
       " Text(318.85714285714283, 54.360000000000014, 'samples = 1575\\nvalue = [0, 1575]\\nclass = i'),\n",
       " Text(478.2857142857142, 54.360000000000014, 'samples = 1\\nvalue = [1, 0]\\nclass = T')]"
      ]
     },
     "execution_count": 190,
     "metadata": {},
     "output_type": "execute_result"
    },
    {
     "data": {
      "image/png": "[encoded data removed]",
      "text/plain": [
       "<Figure size 720x720 with 1 Axes>"
      ]
     },
     "metadata": {
      "needs_background": "light"
     },
     "output_type": "display_data"
    }
   ],
   "source": [
    "fig, ax = plt.subplots(figsize = (10,10))\n",
    "\n",
    "print(colored(f'Profundidad del árbol: {model.get_depth()}', attrs=['bold']))\n",
    "print(colored(f'Número de nodos terminales: {model.get_n_leaves()}', attrs=['bold']))\n",
    "\n",
    "\n",
    "plot_tree(\n",
    "    decision_tree = model,\n",
    "    feature_names = X_train.columns.tolist(),\n",
    "    class_names   = 'Tipo de trafico minero',\n",
    "    filled        = True,\n",
    "    impurity      = False,\n",
    "    fontsize      = 17,\n",
    "    ax            = ax\n",
    ")"
   ]
  },
  {
   "cell_type": "code",
   "execution_count": 191,
   "metadata": {},
   "outputs": [
    {
     "data": {
      "text/plain": [
       "array([0, 0, 0, ..., 0, 0, 1], dtype=uint8)"
      ]
     },
     "execution_count": 191,
     "metadata": {},
     "output_type": "execute_result"
    }
   ],
   "source": [
    "y_pred = model.predict(X_test)\n",
    "y_pred"
   ]
  },
  {
   "cell_type": "code",
   "execution_count": 192,
   "metadata": {},
   "outputs": [
    {
     "data": {
      "text/plain": [
       "763"
      ]
     },
     "execution_count": 192,
     "metadata": {},
     "output_type": "execute_result"
    }
   ],
   "source": [
    "len(y_pred[y_pred == 0])"
   ]
  },
  {
   "cell_type": "code",
   "execution_count": 193,
   "metadata": {},
   "outputs": [
    {
     "data": {
      "text/plain": [
       "657"
      ]
     },
     "execution_count": 193,
     "metadata": {},
     "output_type": "execute_result"
    }
   ],
   "source": [
    "len(y_pred[y_pred == 1])"
   ]
  },
  {
   "cell_type": "markdown",
   "metadata": {},
   "source": [
    "# Métricas y matriz de confusión"
   ]
  },
  {
   "cell_type": "code",
   "execution_count": 194,
   "metadata": {
    "scrolled": true
   },
   "outputs": [
    {
     "data": {
      "text/plain": [
       "([<matplotlib.axis.YTick at 0x17f312429e8>,\n",
       "  <matplotlib.axis.YTick at 0x17f31283a58>],\n",
       " <a list of 2 Text yticklabel objects>)"
      ]
     },
     "execution_count": 194,
     "metadata": {},
     "output_type": "execute_result"
    },
    {
     "data": {
      "image/png": "[encoded data removed]",
      "text/plain": [
       "<Figure size 432x288 with 2 Axes>"
      ]
     },
     "metadata": {
      "needs_background": "light"
     },
     "output_type": "display_data"
    }
   ],
   "source": [
    "churm = metrics.confusion_matrix(y_test, y_pred)\n",
    "plt.imshow(churm, cmap=plt.cm.Blues)\n",
    "plt.colorbar()\n",
    "tick_marks = np.arange(2)\n",
    "plt.xticks(tick_marks, ['Not_mine','Mine'])\n",
    "plt.yticks(tick_marks, ['Not_mine','Mine'])"
   ]
  },
  {
   "cell_type": "code",
   "execution_count": 195,
   "metadata": {},
   "outputs": [
    {
     "data": {
      "text/html": [
       "<div>\n",
       "<style scoped>\n",
       "    .dataframe tbody tr th:only-of-type {\n",
       "        vertical-align: middle;\n",
       "    }\n",
       "\n",
       "    .dataframe tbody tr th {\n",
       "        vertical-align: top;\n",
       "    }\n",
       "\n",
       "    .dataframe thead th {\n",
       "        text-align: right;\n",
       "    }\n",
       "</style>\n",
       "<table border=\"1\" class=\"dataframe\">\n",
       "  <thead>\n",
       "    <tr style=\"text-align: right;\">\n",
       "      <th></th>\n",
       "      <th>0</th>\n",
       "      <th>1</th>\n",
       "    </tr>\n",
       "  </thead>\n",
       "  <tbody>\n",
       "    <tr>\n",
       "      <th>0</th>\n",
       "      <td>763</td>\n",
       "      <td>0</td>\n",
       "    </tr>\n",
       "    <tr>\n",
       "      <th>1</th>\n",
       "      <td>0</td>\n",
       "      <td>657</td>\n",
       "    </tr>\n",
       "  </tbody>\n",
       "</table>\n",
       "</div>"
      ],
      "text/plain": [
       "     0    1\n",
       "0  763    0\n",
       "1    0  657"
      ]
     },
     "execution_count": 195,
     "metadata": {},
     "output_type": "execute_result"
    }
   ],
   "source": [
    "pd.DataFrame(churm)"
   ]
  },
  {
   "cell_type": "code",
   "execution_count": 196,
   "metadata": {},
   "outputs": [
    {
     "name": "stdout",
     "output_type": "stream",
     "text": [
      "Exactitud:  1.0\n",
      "Kappa:  1.0\n"
     ]
    }
   ],
   "source": [
    "print(\"Exactitud: \", metrics.accuracy_score(y_test, y_pred))\n",
    "print(\"Kappa: \", metrics.cohen_kappa_score(y_test, y_pred))"
   ]
  },
  {
   "cell_type": "code",
   "execution_count": 197,
   "metadata": {},
   "outputs": [
    {
     "name": "stdout",
     "output_type": "stream",
     "text": [
      "Precisión     :  1.0\n",
      "Recall        :  1.0\n",
      "Especificidad :  1.0\n",
      "F1-score      :  1.0\n"
     ]
    }
   ],
   "source": [
    "print(\"Precisión     : \", metrics.precision_score(y_test, y_pred, labels=[1], average='macro'))\n",
    "print(\"Recall        : \", metrics.recall_score(y_test, y_pred, labels=[1], average='macro'))\n",
    "\n",
    "VP = np.sum(churm[1:2,1:2])\n",
    "FN = np.sum(churm[1,0:1])\n",
    "specificity = VP/(VP+FN)\n",
    "\n",
    "print(\"Especificidad : \", specificity)\n",
    "\n",
    "print(\"F1-score      : \", metrics.f1_score(y_test, y_pred, labels=[1], average='macro'))"
   ]
  },
  {
   "cell_type": "code",
   "execution_count": 198,
   "metadata": {
    "scrolled": true
   },
   "outputs": [
    {
     "name": "stdout",
     "output_type": "stream",
     "text": [
      "Precisión     :  1.0\n",
      "Recall        :  1.0\n",
      "Especificidad :  1.0\n",
      "F1-score      :  1.0\n"
     ]
    }
   ],
   "source": [
    "print(\"Precisión     : \", metrics.precision_score(y_test, y_pred, labels=[0], average='macro'))\n",
    "print(\"Recall        : \", metrics.recall_score(y_test, y_pred, labels=[0], average='macro'))\n",
    "\n",
    "VP = np.sum(churm[0:1,0:1])\n",
    "FN = np.sum(churm[0,1:2])\n",
    "specificity = VP/(VP+FN)\n",
    "\n",
    "print(\"Especificidad : \", specificity)\n",
    "\n",
    "print(\"F1-score      : \", metrics.f1_score(y_test, y_pred, labels=[0], average='macro'))"
   ]
  },
  {
   "cell_type": "code",
   "execution_count": 199,
   "metadata": {},
   "outputs": [],
   "source": [
    "y_pred_proba = model.predict_proba(X_test)"
   ]
  },
  {
   "cell_type": "code",
   "execution_count": 200,
   "metadata": {},
   "outputs": [],
   "source": [
    "lr_probs = y_pred_proba[:,1]"
   ]
  },
  {
   "cell_type": "code",
   "execution_count": 201,
   "metadata": {},
   "outputs": [],
   "source": [
    "ns_probs = [0 for _ in range(len(y_test))]"
   ]
  },
  {
   "cell_type": "code",
   "execution_count": 202,
   "metadata": {},
   "outputs": [
    {
     "data": {
      "text/plain": [
       "0.5"
      ]
     },
     "execution_count": 202,
     "metadata": {},
     "output_type": "execute_result"
    }
   ],
   "source": [
    "ns_auc = metrics.roc_auc_score(y_test, ns_probs)\n",
    "ns_auc"
   ]
  },
  {
   "cell_type": "code",
   "execution_count": 203,
   "metadata": {},
   "outputs": [
    {
     "data": {
      "text/plain": [
       "1.0"
      ]
     },
     "execution_count": 203,
     "metadata": {},
     "output_type": "execute_result"
    }
   ],
   "source": [
    "lr_auc = metrics.roc_auc_score(y_test, lr_probs)\n",
    "lr_auc"
   ]
  },
  {
   "cell_type": "code",
   "execution_count": 204,
   "metadata": {},
   "outputs": [
    {
     "name": "stdout",
     "output_type": "stream",
     "text": [
      "No Skill: ROC AUC=0.500\n",
      "Treeb: ROC AUC=1.000\n"
     ]
    }
   ],
   "source": [
    "#Sumo los scores\n",
    "print('No Skill: ROC AUC=%.3f' % (ns_auc))\n",
    "print('Treeb: ROC AUC=%.3f' % (lr_auc))"
   ]
  },
  {
   "cell_type": "code",
   "execution_count": 205,
   "metadata": {},
   "outputs": [],
   "source": [
    "ns_fpr, ns_tpr, thresholds  = metrics.roc_curve(y_test,ns_probs)\n",
    "lr_fpr, lr_tpr, thresholds = metrics.roc_curve(y_test, lr_probs)"
   ]
  },
  {
   "cell_type": "code",
   "execution_count": 206,
   "metadata": {
    "scrolled": true
   },
   "outputs": [
    {
     "data": {
      "image/png": "[encoded data removed]",
      "text/plain": [
       "<Figure size 432x288 with 1 Axes>"
      ]
     },
     "metadata": {
      "needs_background": "light"
     },
     "output_type": "display_data"
    }
   ],
   "source": [
    "#Plot la roc curva para el modelo\n",
    "plt.plot(ns_fpr,ns_tpr,linestyle='--', label='No Skill')\n",
    "plt.plot(lr_fpr, lr_tpr, marker='.', label='KNN')\n",
    "plt.xlabel('False Positive Rate')\n",
    "plt.ylabel('True Positive Rate')\n",
    "plt.legend()\n",
    "plt.show()"
   ]
  },
  {
   "cell_type": "markdown",
   "metadata": {},
   "source": [
    "Holdaunt 70% pero debo hacer una validadci{on cruzada en este conjunto de entrenamiento (Puros), de este cruz validation saldra un modelo, y lo testeo con el 30%, con este porcentaje, le saco las metricas"
   ]
  },
  {
   "cell_type": "markdown",
   "metadata": {},
   "source": [
    "# Exprimento 1"
   ]
  },
  {
   "cell_type": "code",
   "execution_count": 207,
   "metadata": {},
   "outputs": [
    {
     "data": {
      "text/plain": [
       "Index(['index', 'Name', 'Netflows', 'First_Protocol', 'Second_Protocol',\n",
       "       'Third_Protocol', 'p1_d', 'p2_d', 'p3_d', 'duration', 'max_d', 'min_d',\n",
       "       '#packets', 'Avg_bps', 'Avg_pps', 'Avg_bpp', '#Bytes', '#sp', '#dp',\n",
       "       'first_sp', 'second_sp', 'third_sp', 'first_dp', 'second_dp',\n",
       "       'third_dp', 'p1_ip', 'p2_ip', 'p3_ip', 'p1_ib', 'p2_ib', 'p3_ib',\n",
       "       'Type', 'Cryptocurrency'],\n",
       "      dtype='object')"
      ]
     },
     "execution_count": 207,
     "metadata": {},
     "output_type": "execute_result"
    }
   ],
   "source": [
    "data_N = pd.read_csv('./data_no_identificada.csv')\n",
    "data_N.columns"
   ]
  },
  {
   "cell_type": "code",
   "execution_count": 208,
   "metadata": {},
   "outputs": [],
   "source": [
    "Feature_Selection =['p1_d', 'p2_d', 'min_d', '#sp', '#dp', 'first_sp', 'first_dp', 'second_sp', 'second_dp','Type']"
   ]
  },
  {
   "cell_type": "code",
   "execution_count": 209,
   "metadata": {},
   "outputs": [],
   "source": [
    "temp = data_N[Feature_Selection]"
   ]
  },
  {
   "cell_type": "code",
   "execution_count": 210,
   "metadata": {},
   "outputs": [],
   "source": [
    "temp = temp.dropna()"
   ]
  },
  {
   "cell_type": "code",
   "execution_count": 211,
   "metadata": {},
   "outputs": [
    {
     "data": {
      "text/plain": [
       "p1_d         0\n",
       "p2_d         0\n",
       "min_d        0\n",
       "#sp          0\n",
       "#dp          0\n",
       "first_sp     0\n",
       "first_dp     0\n",
       "second_sp    0\n",
       "second_dp    0\n",
       "Type         0\n",
       "dtype: int64"
      ]
     },
     "execution_count": 211,
     "metadata": {},
     "output_type": "execute_result"
    }
   ],
   "source": [
    "temp.isnull().sum()"
   ]
  },
  {
   "cell_type": "code",
   "execution_count": 212,
   "metadata": {},
   "outputs": [
    {
     "data": {
      "text/plain": [
       "array([0, 0, 0, ..., 0, 0, 0], dtype=uint8)"
      ]
     },
     "execution_count": 212,
     "metadata": {},
     "output_type": "execute_result"
    }
   ],
   "source": [
    "y_predN = model.predict(temp.drop('Type', axis = 1))\n",
    "y_predN"
   ]
  },
  {
   "cell_type": "code",
   "execution_count": 213,
   "metadata": {},
   "outputs": [
    {
     "data": {
      "text/plain": [
       "31703"
      ]
     },
     "execution_count": 213,
     "metadata": {},
     "output_type": "execute_result"
    }
   ],
   "source": [
    "len(y_predN[y_predN == 0])"
   ]
  },
  {
   "cell_type": "code",
   "execution_count": 214,
   "metadata": {},
   "outputs": [
    {
     "data": {
      "text/plain": [
       "295"
      ]
     },
     "execution_count": 214,
     "metadata": {},
     "output_type": "execute_result"
    }
   ],
   "source": [
    "len(y_predN[y_predN == 1])"
   ]
  },
  {
   "cell_type": "code",
   "execution_count": 215,
   "metadata": {
    "scrolled": true
   },
   "outputs": [],
   "source": [
    "y_tesN = temp['Type'].replace({'mine':1,'not_mine':0})"
   ]
  },
  {
   "cell_type": "code",
   "execution_count": 253,
   "metadata": {},
   "outputs": [
    {
     "data": {
      "text/plain": [
       "([<matplotlib.axis.YTick at 0x17f31f560b8>,\n",
       "  <matplotlib.axis.YTick at 0x17f31f70390>],\n",
       " <a list of 2 Text yticklabel objects>)"
      ]
     },
     "execution_count": 253,
     "metadata": {},
     "output_type": "execute_result"
    },
    {
     "data": {
      "image/png": "[encoded data removed]",
      "text/plain": [
       "<Figure size 432x288 with 2 Axes>"
      ]
     },
     "metadata": {
      "needs_background": "light"
     },
     "output_type": "display_data"
    }
   ],
   "source": [
    "churm = metrics.confusion_matrix(y_tesN, y_predN)\n",
    "plt.imshow(churm, cmap=plt.cm.Reds)\n",
    "plt.colorbar()\n",
    "tick_marks = np.arange(2)\n",
    "plt.xticks(tick_marks, ['Not_mine','Mine'])\n",
    "plt.yticks(tick_marks, ['Not_mine','Mine'])"
   ]
  },
  {
   "cell_type": "code",
   "execution_count": 217,
   "metadata": {},
   "outputs": [
    {
     "data": {
      "text/html": [
       "<div>\n",
       "<style scoped>\n",
       "    .dataframe tbody tr th:only-of-type {\n",
       "        vertical-align: middle;\n",
       "    }\n",
       "\n",
       "    .dataframe tbody tr th {\n",
       "        vertical-align: top;\n",
       "    }\n",
       "\n",
       "    .dataframe thead th {\n",
       "        text-align: right;\n",
       "    }\n",
       "</style>\n",
       "<table border=\"1\" class=\"dataframe\">\n",
       "  <thead>\n",
       "    <tr style=\"text-align: right;\">\n",
       "      <th></th>\n",
       "      <th>0</th>\n",
       "      <th>1</th>\n",
       "    </tr>\n",
       "  </thead>\n",
       "  <tbody>\n",
       "    <tr>\n",
       "      <th>0</th>\n",
       "      <td>2498</td>\n",
       "      <td>0</td>\n",
       "    </tr>\n",
       "    <tr>\n",
       "      <th>1</th>\n",
       "      <td>29205</td>\n",
       "      <td>295</td>\n",
       "    </tr>\n",
       "  </tbody>\n",
       "</table>\n",
       "</div>"
      ],
      "text/plain": [
       "       0    1\n",
       "0   2498    0\n",
       "1  29205  295"
      ]
     },
     "execution_count": 217,
     "metadata": {},
     "output_type": "execute_result"
    }
   ],
   "source": [
    "pd.DataFrame(churm)"
   ]
  },
  {
   "cell_type": "code",
   "execution_count": 218,
   "metadata": {},
   "outputs": [
    {
     "name": "stdout",
     "output_type": "stream",
     "text": [
      "Exactitud:  0.08728670541908869\n",
      "Kappa:  0.0015746353849189765\n"
     ]
    }
   ],
   "source": [
    "print(\"Exactitud: \", metrics.accuracy_score(y_tesN, y_predN))\n",
    "print(\"Kappa: \", metrics.cohen_kappa_score(y_tesN, y_predN))"
   ]
  },
  {
   "cell_type": "code",
   "execution_count": 219,
   "metadata": {},
   "outputs": [
    {
     "name": "stdout",
     "output_type": "stream",
     "text": [
      "Precisión     :  1.0\n",
      "Recall        :  0.01\n",
      "Especificidad :  0.01\n",
      "F1-score      :  0.019801980198019802\n"
     ]
    }
   ],
   "source": [
    "print(\"Precisión     : \", metrics.precision_score(y_tesN, y_predN, labels=[1], average='macro'))\n",
    "print(\"Recall        : \", metrics.recall_score(y_tesN, y_predN, labels=[1], average='macro'))\n",
    "\n",
    "VP = np.sum(churm[1:2,1:2])\n",
    "FN = np.sum(churm[1,0:1])\n",
    "specificity = VP/(VP+FN)\n",
    "\n",
    "print(\"Especificidad : \", specificity)\n",
    "\n",
    "print(\"F1-score      : \", metrics.f1_score(y_tesN, y_predN, labels=[1], average='macro'))"
   ]
  },
  {
   "cell_type": "code",
   "execution_count": 220,
   "metadata": {},
   "outputs": [
    {
     "name": "stdout",
     "output_type": "stream",
     "text": [
      "Precisión     :  0.07879380500268113\n",
      "Recall        :  1.0\n",
      "Especificidad :  1.0\n",
      "F1-score      :  0.14607760007017337\n"
     ]
    }
   ],
   "source": [
    "print(\"Precisión     : \", metrics.precision_score(y_tesN, y_predN, labels=[0], average='macro'))\n",
    "print(\"Recall        : \", metrics.recall_score(y_tesN, y_predN, labels=[0], average='macro'))\n",
    "\n",
    "VP = np.sum(churm[0:1,0:1])\n",
    "FN = np.sum(churm[0,1:2])\n",
    "specificity = VP/(VP+FN)\n",
    "print(\"Especificidad : \", specificity)\n",
    "\n",
    "print(\"F1-score      : \", metrics.f1_score(y_tesN, y_predN, labels=[0], average='macro'))"
   ]
  },
  {
   "cell_type": "markdown",
   "metadata": {},
   "source": [
    "# Experimento 2"
   ]
  },
  {
   "cell_type": "code",
   "execution_count": 221,
   "metadata": {},
   "outputs": [],
   "source": [
    "Feature_Selection = ['p1_d', 'p2_d','min_d','#sp','#dp','first_sp', 'first_dp', 'second_sp','second_dp']\n",
    "X = data[Feature_Selection]\n",
    "y = data['Type_mine']"
   ]
  },
  {
   "cell_type": "code",
   "execution_count": 222,
   "metadata": {},
   "outputs": [],
   "source": [
    "X_train, X_validate, y_train, y_validate = train_test_split(X,y, train_size = 0.7)"
   ]
  },
  {
   "cell_type": "code",
   "execution_count": 223,
   "metadata": {},
   "outputs": [],
   "source": [
    "X_train_II, X_test_II, y_train_II, y_test_II = train_test_split(X_train, y_train, train_size = 0.7)"
   ]
  },
  {
   "cell_type": "code",
   "execution_count": 224,
   "metadata": {},
   "outputs": [],
   "source": [
    "model_II = DecisionTreeClassifier(\n",
    "    criterion='entropy', \n",
    "    max_depth=5,      \n",
    "    min_samples_split=2,\n",
    "    min_samples_leaf=1,\n",
    "    random_state=None,  \n",
    "    max_leaf_nodes=None, \n",
    "    min_impurity_decrease=0.0, \n",
    "    class_weight=None)"
   ]
  },
  {
   "cell_type": "code",
   "execution_count": 225,
   "metadata": {},
   "outputs": [
    {
     "data": {
      "text/plain": [
       "DecisionTreeClassifier(ccp_alpha=0.0, class_weight=None, criterion='entropy',\n",
       "                       max_depth=5, max_features=None, max_leaf_nodes=None,\n",
       "                       min_impurity_decrease=0.0, min_impurity_split=None,\n",
       "                       min_samples_leaf=1, min_samples_split=2,\n",
       "                       min_weight_fraction_leaf=0.0, presort='deprecated',\n",
       "                       random_state=None, splitter='best')"
      ]
     },
     "execution_count": 225,
     "metadata": {},
     "output_type": "execute_result"
    }
   ],
   "source": [
    "model_II.fit(X_train_II,y_train_II)"
   ]
  },
  {
   "cell_type": "code",
   "execution_count": 226,
   "metadata": {
    "scrolled": true
   },
   "outputs": [
    {
     "name": "stdout",
     "output_type": "stream",
     "text": [
      "\u001b[1mProfundidad del árbol: 4\u001b[0m\n",
      "\u001b[1mNúmero de nodos terminales: 5\u001b[0m\n"
     ]
    },
    {
     "data": {
      "text/plain": [
       "[Text(186.0, 475.65000000000003, 'first_sp <= 1887.5\\nsamples = 2319\\nvalue = [1258, 1061]\\nclass = T'),\n",
       " Text(93.0, 339.75, 'samples = 1242\\nvalue = [1242, 0]\\nclass = T'),\n",
       " Text(279.0, 339.75, 'second_dp <= 2616.0\\nsamples = 1077\\nvalue = [16, 1061]\\nclass = i'),\n",
       " Text(186.0, 203.85000000000002, 'samples = 15\\nvalue = [15, 0]\\nclass = T'),\n",
       " Text(372.0, 203.85000000000002, 'first_dp <= 1692.5\\nsamples = 1062\\nvalue = [1, 1061]\\nclass = i'),\n",
       " Text(279.0, 67.94999999999999, 'samples = 1\\nvalue = [1, 0]\\nclass = T'),\n",
       " Text(465.0, 67.94999999999999, 'samples = 1061\\nvalue = [0, 1061]\\nclass = i')]"
      ]
     },
     "execution_count": 226,
     "metadata": {},
     "output_type": "execute_result"
    },
    {
     "data": {
      "image/png": "[encoded data removed]",
      "text/plain": [
       "<Figure size 720x720 with 1 Axes>"
      ]
     },
     "metadata": {
      "needs_background": "light"
     },
     "output_type": "display_data"
    }
   ],
   "source": [
    "fig, ax = plt.subplots(figsize = (10,10))\n",
    "\n",
    "print(colored(f'Profundidad del árbol: {model.get_depth()}', attrs=['bold']))\n",
    "print(colored(f'Número de nodos terminales: {model.get_n_leaves()}', attrs=['bold']))\n",
    "\n",
    "\n",
    "plot_tree(\n",
    "    decision_tree = model_II,\n",
    "    feature_names = X_train_II.columns.tolist(),\n",
    "    class_names   = 'Tipo de trafico minero',\n",
    "    filled        = True,\n",
    "    impurity      = False,\n",
    "    fontsize      = 17,\n",
    "    ax            = ax\n",
    ")"
   ]
  },
  {
   "cell_type": "code",
   "execution_count": 227,
   "metadata": {},
   "outputs": [],
   "source": [
    "y_pred_II = model_II.predict(X_test_II)"
   ]
  },
  {
   "cell_type": "markdown",
   "metadata": {},
   "source": [
    "# Métricas y matriz de confusión modelo II"
   ]
  },
  {
   "cell_type": "code",
   "execution_count": 254,
   "metadata": {},
   "outputs": [
    {
     "data": {
      "text/plain": [
       "([<matplotlib.axis.YTick at 0x17f31ffcda0>,\n",
       "  <matplotlib.axis.YTick at 0x17f31ffc898>],\n",
       " <a list of 2 Text yticklabel objects>)"
      ]
     },
     "execution_count": 254,
     "metadata": {},
     "output_type": "execute_result"
    },
    {
     "data": {
      "image/png": "[encoded data removed]",
      "text/plain": [
       "<Figure size 432x288 with 2 Axes>"
      ]
     },
     "metadata": {
      "needs_background": "light"
     },
     "output_type": "display_data"
    }
   ],
   "source": [
    "churm = metrics.confusion_matrix(y_test_II, y_pred_II)\n",
    "plt.imshow(churm, cmap=plt.cm.OrRd)\n",
    "plt.colorbar()\n",
    "tick_marks = np.arange(2)\n",
    "plt.xticks(tick_marks, ['Not_mine','Mine'])\n",
    "plt.yticks(tick_marks, ['Not_mine','Mine'])"
   ]
  },
  {
   "cell_type": "code",
   "execution_count": 229,
   "metadata": {},
   "outputs": [
    {
     "data": {
      "text/html": [
       "<div>\n",
       "<style scoped>\n",
       "    .dataframe tbody tr th:only-of-type {\n",
       "        vertical-align: middle;\n",
       "    }\n",
       "\n",
       "    .dataframe tbody tr th {\n",
       "        vertical-align: top;\n",
       "    }\n",
       "\n",
       "    .dataframe thead th {\n",
       "        text-align: right;\n",
       "    }\n",
       "</style>\n",
       "<table border=\"1\" class=\"dataframe\">\n",
       "  <thead>\n",
       "    <tr style=\"text-align: right;\">\n",
       "      <th></th>\n",
       "      <th>0</th>\n",
       "      <th>1</th>\n",
       "    </tr>\n",
       "  </thead>\n",
       "  <tbody>\n",
       "    <tr>\n",
       "      <th>0</th>\n",
       "      <td>521</td>\n",
       "      <td>2</td>\n",
       "    </tr>\n",
       "    <tr>\n",
       "      <th>1</th>\n",
       "      <td>0</td>\n",
       "      <td>471</td>\n",
       "    </tr>\n",
       "  </tbody>\n",
       "</table>\n",
       "</div>"
      ],
      "text/plain": [
       "     0    1\n",
       "0  521    2\n",
       "1    0  471"
      ]
     },
     "execution_count": 229,
     "metadata": {},
     "output_type": "execute_result"
    }
   ],
   "source": [
    "pd.DataFrame(churm)"
   ]
  },
  {
   "cell_type": "code",
   "execution_count": 230,
   "metadata": {},
   "outputs": [
    {
     "name": "stdout",
     "output_type": "stream",
     "text": [
      "Exactitud:  0.9979879275653923\n",
      "Kappa:  0.9959656634941251\n"
     ]
    }
   ],
   "source": [
    "print(\"Exactitud: \", metrics.accuracy_score(y_test_II, y_pred_II))\n",
    "print(\"Kappa: \", metrics.cohen_kappa_score(y_test_II, y_pred_II))"
   ]
  },
  {
   "cell_type": "code",
   "execution_count": 231,
   "metadata": {},
   "outputs": [
    {
     "name": "stdout",
     "output_type": "stream",
     "text": [
      "Precisión     :  0.9957716701902748\n",
      "Recall        :  1.0\n",
      "Especificidad :  1.0\n",
      "F1-score      :  0.9978813559322034\n"
     ]
    }
   ],
   "source": [
    "print(\"Precisión     : \", metrics.precision_score(y_test_II, y_pred_II, labels=[1], average='macro'))\n",
    "print(\"Recall        : \", metrics.recall_score(y_test_II, y_pred_II, labels=[1], average='macro'))\n",
    "\n",
    "VP = np.sum(churm[1:2,1:2])\n",
    "FN = np.sum(churm[1,0:1])\n",
    "specificity = VP/(VP+FN)\n",
    "\n",
    "print(\"Especificidad : \", specificity)\n",
    "\n",
    "print(\"F1-score      : \", metrics.f1_score(y_test_II, y_pred_II, labels=[1], average='macro'))"
   ]
  },
  {
   "cell_type": "code",
   "execution_count": 232,
   "metadata": {
    "scrolled": true
   },
   "outputs": [
    {
     "name": "stdout",
     "output_type": "stream",
     "text": [
      "Precisión     :  1.0\n",
      "Recall        :  0.9961759082217974\n",
      "Especificidad :  0.9961759082217974\n",
      "F1-score      :  0.9980842911877394\n"
     ]
    }
   ],
   "source": [
    "print(\"Precisión     : \", metrics.precision_score(y_test_II, y_pred_II, labels=[0], average='macro'))\n",
    "print(\"Recall        : \", metrics.recall_score(y_test_II, y_pred_II, labels=[0], average='macro'))\n",
    "\n",
    "VP = np.sum(churm[0:1,0:1])\n",
    "FN = np.sum(churm[0,1:2])\n",
    "specificity = VP/(VP+FN)\n",
    "\n",
    "print(\"Especificidad : \", specificity)\n",
    "\n",
    "print(\"F1-score      : \", metrics.f1_score(y_test_II, y_pred_II, labels=[0], average='macro'))"
   ]
  },
  {
   "cell_type": "code",
   "execution_count": null,
   "metadata": {},
   "outputs": [],
   "source": []
  },
  {
   "cell_type": "code",
   "execution_count": null,
   "metadata": {},
   "outputs": [],
   "source": []
  },
  {
   "cell_type": "code",
   "execution_count": null,
   "metadata": {},
   "outputs": [],
   "source": []
  },
  {
   "cell_type": "code",
   "execution_count": 246,
   "metadata": {},
   "outputs": [],
   "source": [
    "predict_validate = model_II.predict(X_validate)"
   ]
  },
  {
   "cell_type": "code",
   "execution_count": 251,
   "metadata": {},
   "outputs": [
    {
     "data": {
      "text/plain": [
       "([<matplotlib.axis.YTick at 0x17f31ef2668>,\n",
       "  <matplotlib.axis.YTick at 0x17f31ecccc0>],\n",
       " <a list of 2 Text yticklabel objects>)"
      ]
     },
     "execution_count": 251,
     "metadata": {},
     "output_type": "execute_result"
    },
    {
     "data": {
      "image/png": "[encoded data removed]",
      "text/plain": [
       "<Figure size 432x288 with 2 Axes>"
      ]
     },
     "metadata": {
      "needs_background": "light"
     },
     "output_type": "display_data"
    }
   ],
   "source": [
    "churm = metrics.confusion_matrix(y_validate, predict_validate)\n",
    "plt.imshow(churm, cmap=plt.cm.Greens)\n",
    "plt.colorbar()\n",
    "tick_marks = np.arange(2)\n",
    "plt.xticks(tick_marks, ['Not_mine','Mine'])\n",
    "plt.yticks(tick_marks, ['Not_mine','Mine'])"
   ]
  },
  {
   "cell_type": "code",
   "execution_count": 252,
   "metadata": {
    "scrolled": true
   },
   "outputs": [
    {
     "data": {
      "text/html": [
       "<div>\n",
       "<style scoped>\n",
       "    .dataframe tbody tr th:only-of-type {\n",
       "        vertical-align: middle;\n",
       "    }\n",
       "\n",
       "    .dataframe tbody tr th {\n",
       "        vertical-align: top;\n",
       "    }\n",
       "\n",
       "    .dataframe thead th {\n",
       "        text-align: right;\n",
       "    }\n",
       "</style>\n",
       "<table border=\"1\" class=\"dataframe\">\n",
       "  <thead>\n",
       "    <tr style=\"text-align: right;\">\n",
       "      <th></th>\n",
       "      <th>0</th>\n",
       "      <th>1</th>\n",
       "    </tr>\n",
       "  </thead>\n",
       "  <tbody>\n",
       "    <tr>\n",
       "      <th>0</th>\n",
       "      <td>719</td>\n",
       "      <td>1</td>\n",
       "    </tr>\n",
       "    <tr>\n",
       "      <th>1</th>\n",
       "      <td>0</td>\n",
       "      <td>700</td>\n",
       "    </tr>\n",
       "  </tbody>\n",
       "</table>\n",
       "</div>"
      ],
      "text/plain": [
       "     0    1\n",
       "0  719    1\n",
       "1    0  700"
      ]
     },
     "execution_count": 252,
     "metadata": {},
     "output_type": "execute_result"
    }
   ],
   "source": [
    "pd.DataFrame(churm)"
   ]
  },
  {
   "cell_type": "code",
   "execution_count": null,
   "metadata": {},
   "outputs": [],
   "source": []
  },
  {
   "cell_type": "code",
   "execution_count": null,
   "metadata": {},
   "outputs": [],
   "source": []
  },
  {
   "cell_type": "code",
   "execution_count": 244,
   "metadata": {},
   "outputs": [],
   "source": [
    "model_III = DecisionTreeClassifier(\n",
    "    criterion='entropy', \n",
    "    max_depth=5,      \n",
    "    min_samples_split=2,\n",
    "    min_samples_leaf=1,\n",
    "    random_state=None,  \n",
    "    max_leaf_nodes=None, \n",
    "    min_impurity_decrease=0.0, \n",
    "    class_weight=None)"
   ]
  },
  {
   "cell_type": "code",
   "execution_count": 245,
   "metadata": {},
   "outputs": [
    {
     "name": "stdout",
     "output_type": "stream",
     "text": [
      "fit_time: 0.01 (+/- 0.00)\n",
      "score_time: 0.02 (+/- 0.02)\n",
      "test_accuracy: 1.00 (+/- 0.01)\n",
      "test_precision_weighted: 1.00 (+/- 0.01)\n",
      "test_recall_weighted: 1.00 (+/- 0.01)\n",
      "test_f1_weighted: 1.00 (+/- 0.01)\n"
     ]
    }
   ],
   "source": [
    "scoring = ['accuracy', 'precision_weighted', 'recall_weighted', 'f1_weighted']\n",
    "scores = cross_validate(model_III, X_validate, y_validate, scoring=scoring, cv=10, return_train_score=False)\n",
    "\n",
    "for key in scores:\n",
    "    score = scores[key]\n",
    "    print(\"%s: %0.2f (+/- %0.2f)\" % (key, score.mean(), score.std() * 2))"
   ]
  },
  {
   "cell_type": "code",
   "execution_count": null,
   "metadata": {},
   "outputs": [],
   "source": []
  },
  {
   "cell_type": "code",
   "execution_count": 260,
   "metadata": {},
   "outputs": [
    {
     "data": {
      "text/plain": [
       "mine        37053\n",
       "not_mine     2501\n",
       "Name: Type, dtype: int64"
      ]
     },
     "execution_count": 260,
     "metadata": {},
     "output_type": "execute_result"
    }
   ],
   "source": [
    "data_N['Type'].value_counts()"
   ]
  },
  {
   "cell_type": "code",
   "execution_count": 269,
   "metadata": {},
   "outputs": [],
   "source": [
    "data_N_Mineros = data_N[data_N.Type == 'mine']\n",
    "data_N_NoMineros = data_N.sample(n=2501)"
   ]
  },
  {
   "cell_type": "code",
   "execution_count": 294,
   "metadata": {},
   "outputs": [
    {
     "data": {
      "text/html": [
       "<div>\n",
       "<style scoped>\n",
       "    .dataframe tbody tr th:only-of-type {\n",
       "        vertical-align: middle;\n",
       "    }\n",
       "\n",
       "    .dataframe tbody tr th {\n",
       "        vertical-align: top;\n",
       "    }\n",
       "\n",
       "    .dataframe thead th {\n",
       "        text-align: right;\n",
       "    }\n",
       "</style>\n",
       "<table border=\"1\" class=\"dataframe\">\n",
       "  <thead>\n",
       "    <tr style=\"text-align: right;\">\n",
       "      <th></th>\n",
       "      <th>index</th>\n",
       "      <th>Name</th>\n",
       "      <th>Netflows</th>\n",
       "      <th>First_Protocol</th>\n",
       "      <th>Second_Protocol</th>\n",
       "      <th>Third_Protocol</th>\n",
       "      <th>p1_d</th>\n",
       "      <th>p2_d</th>\n",
       "      <th>p3_d</th>\n",
       "      <th>duration</th>\n",
       "      <th>...</th>\n",
       "      <th>second_dp</th>\n",
       "      <th>third_dp</th>\n",
       "      <th>p1_ip</th>\n",
       "      <th>p2_ip</th>\n",
       "      <th>p3_ip</th>\n",
       "      <th>p1_ib</th>\n",
       "      <th>p2_ib</th>\n",
       "      <th>p3_ib</th>\n",
       "      <th>Type</th>\n",
       "      <th>Cryptocurrency</th>\n",
       "    </tr>\n",
       "  </thead>\n",
       "  <tbody>\n",
       "    <tr>\n",
       "      <th>0</th>\n",
       "      <td>36016</td>\n",
       "      <td>20-csves/8177.csv</td>\n",
       "      <td>17</td>\n",
       "      <td>UDP</td>\n",
       "      <td>ICMP6</td>\n",
       "      <td>NaN</td>\n",
       "      <td>0.00000</td>\n",
       "      <td>3.0010</td>\n",
       "      <td>360.02400</td>\n",
       "      <td>2790.015</td>\n",
       "      <td>...</td>\n",
       "      <td>1900.0</td>\n",
       "      <td>17500.0</td>\n",
       "      <td>1.00</td>\n",
       "      <td>2.0</td>\n",
       "      <td>4.00</td>\n",
       "      <td>32.00</td>\n",
       "      <td>500.0</td>\n",
       "      <td>700.00</td>\n",
       "      <td>mine</td>\n",
       "      <td>Unidentified</td>\n",
       "    </tr>\n",
       "    <tr>\n",
       "      <th>1</th>\n",
       "      <td>12659</td>\n",
       "      <td>18-csves/5102.csv</td>\n",
       "      <td>28</td>\n",
       "      <td>ICMP6</td>\n",
       "      <td>ICMP</td>\n",
       "      <td>UDP</td>\n",
       "      <td>0.00000</td>\n",
       "      <td>0.0000</td>\n",
       "      <td>0.00000</td>\n",
       "      <td>13.505</td>\n",
       "      <td>...</td>\n",
       "      <td>1281.0</td>\n",
       "      <td>5353.0</td>\n",
       "      <td>1.00</td>\n",
       "      <td>1.0</td>\n",
       "      <td>1.00</td>\n",
       "      <td>32.00</td>\n",
       "      <td>32.0</td>\n",
       "      <td>40.00</td>\n",
       "      <td>mine</td>\n",
       "      <td>Unidentified</td>\n",
       "    </tr>\n",
       "    <tr>\n",
       "      <th>2</th>\n",
       "      <td>8388</td>\n",
       "      <td>18-csves/831.csv</td>\n",
       "      <td>18</td>\n",
       "      <td>ICMP6</td>\n",
       "      <td>ICMP</td>\n",
       "      <td>UDP</td>\n",
       "      <td>0.00000</td>\n",
       "      <td>0.0000</td>\n",
       "      <td>0.00000</td>\n",
       "      <td>556.202</td>\n",
       "      <td>...</td>\n",
       "      <td>1281.0</td>\n",
       "      <td>45560.0</td>\n",
       "      <td>1.00</td>\n",
       "      <td>1.0</td>\n",
       "      <td>1.00</td>\n",
       "      <td>32.00</td>\n",
       "      <td>36.0</td>\n",
       "      <td>250.50</td>\n",
       "      <td>mine</td>\n",
       "      <td>Unidentified</td>\n",
       "    </tr>\n",
       "    <tr>\n",
       "      <th>3</th>\n",
       "      <td>16127</td>\n",
       "      <td>18-csves/8570.csv</td>\n",
       "      <td>28</td>\n",
       "      <td>ICMP6</td>\n",
       "      <td>ICMP</td>\n",
       "      <td>TCP</td>\n",
       "      <td>0.00000</td>\n",
       "      <td>0.0000</td>\n",
       "      <td>0.00000</td>\n",
       "      <td>1021.895</td>\n",
       "      <td>...</td>\n",
       "      <td>1281.0</td>\n",
       "      <td>45560.0</td>\n",
       "      <td>1.00</td>\n",
       "      <td>1.0</td>\n",
       "      <td>1.00</td>\n",
       "      <td>32.00</td>\n",
       "      <td>32.0</td>\n",
       "      <td>66.00</td>\n",
       "      <td>mine</td>\n",
       "      <td>Unidentified</td>\n",
       "    </tr>\n",
       "    <tr>\n",
       "      <th>4</th>\n",
       "      <td>23859</td>\n",
       "      <td>19-csves/6208.csv</td>\n",
       "      <td>30</td>\n",
       "      <td>ICMP6</td>\n",
       "      <td>ICMP</td>\n",
       "      <td>UDP</td>\n",
       "      <td>0.00000</td>\n",
       "      <td>0.0000</td>\n",
       "      <td>0.00000</td>\n",
       "      <td>1080.234</td>\n",
       "      <td>...</td>\n",
       "      <td>1281.0</td>\n",
       "      <td>5353.0</td>\n",
       "      <td>1.00</td>\n",
       "      <td>1.0</td>\n",
       "      <td>1.00</td>\n",
       "      <td>32.00</td>\n",
       "      <td>32.0</td>\n",
       "      <td>43.75</td>\n",
       "      <td>mine</td>\n",
       "      <td>Unidentified</td>\n",
       "    </tr>\n",
       "    <tr>\n",
       "      <th>5</th>\n",
       "      <td>16675</td>\n",
       "      <td>18-csves/9118.csv</td>\n",
       "      <td>32</td>\n",
       "      <td>ICMP6</td>\n",
       "      <td>ICMP</td>\n",
       "      <td>TCP</td>\n",
       "      <td>0.00000</td>\n",
       "      <td>0.0000</td>\n",
       "      <td>0.00000</td>\n",
       "      <td>683.281</td>\n",
       "      <td>...</td>\n",
       "      <td>1281.0</td>\n",
       "      <td>45560.0</td>\n",
       "      <td>1.00</td>\n",
       "      <td>1.0</td>\n",
       "      <td>1.00</td>\n",
       "      <td>32.00</td>\n",
       "      <td>32.0</td>\n",
       "      <td>157.00</td>\n",
       "      <td>mine</td>\n",
       "      <td>Unidentified</td>\n",
       "    </tr>\n",
       "    <tr>\n",
       "      <th>6</th>\n",
       "      <td>23582</td>\n",
       "      <td>19-csves/5931.csv</td>\n",
       "      <td>25</td>\n",
       "      <td>ICMP6</td>\n",
       "      <td>ICMP</td>\n",
       "      <td>TCP</td>\n",
       "      <td>0.00000</td>\n",
       "      <td>0.0000</td>\n",
       "      <td>0.00000</td>\n",
       "      <td>988.991</td>\n",
       "      <td>...</td>\n",
       "      <td>1281.0</td>\n",
       "      <td>3333.0</td>\n",
       "      <td>1.00</td>\n",
       "      <td>1.0</td>\n",
       "      <td>1.00</td>\n",
       "      <td>32.00</td>\n",
       "      <td>32.0</td>\n",
       "      <td>40.00</td>\n",
       "      <td>mine</td>\n",
       "      <td>Unidentified</td>\n",
       "    </tr>\n",
       "    <tr>\n",
       "      <th>7</th>\n",
       "      <td>15996</td>\n",
       "      <td>18-csves/8439.csv</td>\n",
       "      <td>29</td>\n",
       "      <td>ICMP6</td>\n",
       "      <td>ICMP</td>\n",
       "      <td>TCP</td>\n",
       "      <td>0.00000</td>\n",
       "      <td>0.0000</td>\n",
       "      <td>0.00000</td>\n",
       "      <td>238.605</td>\n",
       "      <td>...</td>\n",
       "      <td>1281.0</td>\n",
       "      <td>49604.0</td>\n",
       "      <td>1.00</td>\n",
       "      <td>1.0</td>\n",
       "      <td>1.00</td>\n",
       "      <td>32.00</td>\n",
       "      <td>32.0</td>\n",
       "      <td>40.00</td>\n",
       "      <td>mine</td>\n",
       "      <td>Unidentified</td>\n",
       "    </tr>\n",
       "    <tr>\n",
       "      <th>8</th>\n",
       "      <td>23672</td>\n",
       "      <td>19-csves/6021.csv</td>\n",
       "      <td>25</td>\n",
       "      <td>ICMP6</td>\n",
       "      <td>ICMP</td>\n",
       "      <td>UDP</td>\n",
       "      <td>0.00000</td>\n",
       "      <td>0.0000</td>\n",
       "      <td>0.00000</td>\n",
       "      <td>563.872</td>\n",
       "      <td>...</td>\n",
       "      <td>1281.0</td>\n",
       "      <td>5353.0</td>\n",
       "      <td>1.00</td>\n",
       "      <td>1.0</td>\n",
       "      <td>1.00</td>\n",
       "      <td>32.00</td>\n",
       "      <td>32.0</td>\n",
       "      <td>45.00</td>\n",
       "      <td>mine</td>\n",
       "      <td>Unidentified</td>\n",
       "    </tr>\n",
       "    <tr>\n",
       "      <th>9</th>\n",
       "      <td>35694</td>\n",
       "      <td>20-csves/7855.csv</td>\n",
       "      <td>17</td>\n",
       "      <td>ICMP6</td>\n",
       "      <td>NaN</td>\n",
       "      <td>NaN</td>\n",
       "      <td>0.00000</td>\n",
       "      <td>0.0000</td>\n",
       "      <td>0.00000</td>\n",
       "      <td>0.000</td>\n",
       "      <td>...</td>\n",
       "      <td>34304.0</td>\n",
       "      <td>NaN</td>\n",
       "      <td>1.00</td>\n",
       "      <td>1.0</td>\n",
       "      <td>1.00</td>\n",
       "      <td>32.00</td>\n",
       "      <td>32.0</td>\n",
       "      <td>32.00</td>\n",
       "      <td>mine</td>\n",
       "      <td>Unidentified</td>\n",
       "    </tr>\n",
       "    <tr>\n",
       "      <th>10</th>\n",
       "      <td>899</td>\n",
       "      <td>16-csves/550.csv</td>\n",
       "      <td>30</td>\n",
       "      <td>ICMP6</td>\n",
       "      <td>UDP</td>\n",
       "      <td>NaN</td>\n",
       "      <td>0.00000</td>\n",
       "      <td>0.0000</td>\n",
       "      <td>0.00000</td>\n",
       "      <td>484.154</td>\n",
       "      <td>...</td>\n",
       "      <td>34816.0</td>\n",
       "      <td>1900.0</td>\n",
       "      <td>1.00</td>\n",
       "      <td>1.0</td>\n",
       "      <td>1.00</td>\n",
       "      <td>26.00</td>\n",
       "      <td>32.0</td>\n",
       "      <td>32.00</td>\n",
       "      <td>mine</td>\n",
       "      <td>Unidentified</td>\n",
       "    </tr>\n",
       "    <tr>\n",
       "      <th>11</th>\n",
       "      <td>5792</td>\n",
       "      <td>17-csves/776.csv</td>\n",
       "      <td>8</td>\n",
       "      <td>ICMP6</td>\n",
       "      <td>NaN</td>\n",
       "      <td>NaN</td>\n",
       "      <td>0.00000</td>\n",
       "      <td>0.0000</td>\n",
       "      <td>0.00000</td>\n",
       "      <td>0.000</td>\n",
       "      <td>...</td>\n",
       "      <td>NaN</td>\n",
       "      <td>NaN</td>\n",
       "      <td>1.00</td>\n",
       "      <td>1.0</td>\n",
       "      <td>1.00</td>\n",
       "      <td>32.00</td>\n",
       "      <td>32.0</td>\n",
       "      <td>32.00</td>\n",
       "      <td>mine</td>\n",
       "      <td>Unidentified</td>\n",
       "    </tr>\n",
       "    <tr>\n",
       "      <th>12</th>\n",
       "      <td>35738</td>\n",
       "      <td>20-csves/7899.csv</td>\n",
       "      <td>18</td>\n",
       "      <td>ICMP6</td>\n",
       "      <td>NaN</td>\n",
       "      <td>NaN</td>\n",
       "      <td>0.00000</td>\n",
       "      <td>0.0000</td>\n",
       "      <td>0.00000</td>\n",
       "      <td>0.000</td>\n",
       "      <td>...</td>\n",
       "      <td>NaN</td>\n",
       "      <td>NaN</td>\n",
       "      <td>1.00</td>\n",
       "      <td>1.0</td>\n",
       "      <td>1.00</td>\n",
       "      <td>32.00</td>\n",
       "      <td>32.0</td>\n",
       "      <td>32.00</td>\n",
       "      <td>mine</td>\n",
       "      <td>Unidentified</td>\n",
       "    </tr>\n",
       "    <tr>\n",
       "      <th>13</th>\n",
       "      <td>2832</td>\n",
       "      <td>16-csves/2483.csv</td>\n",
       "      <td>17</td>\n",
       "      <td>UDP</td>\n",
       "      <td>ICMP6</td>\n",
       "      <td>NaN</td>\n",
       "      <td>0.00000</td>\n",
       "      <td>0.2180</td>\n",
       "      <td>0.41800</td>\n",
       "      <td>166.350</td>\n",
       "      <td>...</td>\n",
       "      <td>5355.0</td>\n",
       "      <td>1900.0</td>\n",
       "      <td>1.00</td>\n",
       "      <td>2.0</td>\n",
       "      <td>3.00</td>\n",
       "      <td>32.00</td>\n",
       "      <td>44.0</td>\n",
       "      <td>174.00</td>\n",
       "      <td>mine</td>\n",
       "      <td>Unidentified</td>\n",
       "    </tr>\n",
       "    <tr>\n",
       "      <th>14</th>\n",
       "      <td>20687</td>\n",
       "      <td>19-csves/3036.csv</td>\n",
       "      <td>25</td>\n",
       "      <td>ICMP6</td>\n",
       "      <td>ICMP</td>\n",
       "      <td>TCP</td>\n",
       "      <td>0.00000</td>\n",
       "      <td>0.0000</td>\n",
       "      <td>0.00000</td>\n",
       "      <td>586.346</td>\n",
       "      <td>...</td>\n",
       "      <td>1281.0</td>\n",
       "      <td>3333.0</td>\n",
       "      <td>1.00</td>\n",
       "      <td>1.0</td>\n",
       "      <td>1.00</td>\n",
       "      <td>32.00</td>\n",
       "      <td>32.0</td>\n",
       "      <td>40.00</td>\n",
       "      <td>mine</td>\n",
       "      <td>Unidentified</td>\n",
       "    </tr>\n",
       "    <tr>\n",
       "      <th>15</th>\n",
       "      <td>8730</td>\n",
       "      <td>18-csves/1173.csv</td>\n",
       "      <td>28</td>\n",
       "      <td>ICMP6</td>\n",
       "      <td>ICMP</td>\n",
       "      <td>TCP</td>\n",
       "      <td>0.00000</td>\n",
       "      <td>0.0000</td>\n",
       "      <td>0.00000</td>\n",
       "      <td>866.076</td>\n",
       "      <td>...</td>\n",
       "      <td>1281.0</td>\n",
       "      <td>49604.0</td>\n",
       "      <td>1.00</td>\n",
       "      <td>1.0</td>\n",
       "      <td>1.00</td>\n",
       "      <td>32.00</td>\n",
       "      <td>32.0</td>\n",
       "      <td>180.75</td>\n",
       "      <td>mine</td>\n",
       "      <td>Unidentified</td>\n",
       "    </tr>\n",
       "    <tr>\n",
       "      <th>16</th>\n",
       "      <td>1115</td>\n",
       "      <td>16-csves/766.csv</td>\n",
       "      <td>14</td>\n",
       "      <td>UDP</td>\n",
       "      <td>ICMP6</td>\n",
       "      <td>NaN</td>\n",
       "      <td>0.00000</td>\n",
       "      <td>0.4175</td>\n",
       "      <td>2.64950</td>\n",
       "      <td>26.826</td>\n",
       "      <td>...</td>\n",
       "      <td>34560.0</td>\n",
       "      <td>1900.0</td>\n",
       "      <td>1.00</td>\n",
       "      <td>2.0</td>\n",
       "      <td>3.75</td>\n",
       "      <td>35.00</td>\n",
       "      <td>44.0</td>\n",
       "      <td>576.00</td>\n",
       "      <td>mine</td>\n",
       "      <td>Unidentified</td>\n",
       "    </tr>\n",
       "    <tr>\n",
       "      <th>17</th>\n",
       "      <td>11683</td>\n",
       "      <td>18-csves/4126.csv</td>\n",
       "      <td>17</td>\n",
       "      <td>ICMP6</td>\n",
       "      <td>ICMP</td>\n",
       "      <td>UDP</td>\n",
       "      <td>0.00000</td>\n",
       "      <td>0.0000</td>\n",
       "      <td>0.00000</td>\n",
       "      <td>0.214</td>\n",
       "      <td>...</td>\n",
       "      <td>1281.0</td>\n",
       "      <td>25000.0</td>\n",
       "      <td>1.00</td>\n",
       "      <td>1.0</td>\n",
       "      <td>1.00</td>\n",
       "      <td>32.00</td>\n",
       "      <td>32.0</td>\n",
       "      <td>174.00</td>\n",
       "      <td>mine</td>\n",
       "      <td>Unidentified</td>\n",
       "    </tr>\n",
       "    <tr>\n",
       "      <th>18</th>\n",
       "      <td>15715</td>\n",
       "      <td>18-csves/8158.csv</td>\n",
       "      <td>25</td>\n",
       "      <td>ICMP6</td>\n",
       "      <td>ICMP</td>\n",
       "      <td>TCP</td>\n",
       "      <td>0.00000</td>\n",
       "      <td>0.0000</td>\n",
       "      <td>0.00000</td>\n",
       "      <td>575.178</td>\n",
       "      <td>...</td>\n",
       "      <td>1281.0</td>\n",
       "      <td>49684.0</td>\n",
       "      <td>1.00</td>\n",
       "      <td>1.0</td>\n",
       "      <td>1.00</td>\n",
       "      <td>32.00</td>\n",
       "      <td>32.0</td>\n",
       "      <td>40.00</td>\n",
       "      <td>mine</td>\n",
       "      <td>Unidentified</td>\n",
       "    </tr>\n",
       "    <tr>\n",
       "      <th>19</th>\n",
       "      <td>7342</td>\n",
       "      <td>17-csves/2326.csv</td>\n",
       "      <td>20</td>\n",
       "      <td>ICMP6</td>\n",
       "      <td>ICMP</td>\n",
       "      <td>TCP</td>\n",
       "      <td>0.00000</td>\n",
       "      <td>0.0000</td>\n",
       "      <td>2.24825</td>\n",
       "      <td>44.986</td>\n",
       "      <td>...</td>\n",
       "      <td>8087.0</td>\n",
       "      <td>1281.0</td>\n",
       "      <td>1.00</td>\n",
       "      <td>1.0</td>\n",
       "      <td>1.50</td>\n",
       "      <td>32.00</td>\n",
       "      <td>42.0</td>\n",
       "      <td>62.00</td>\n",
       "      <td>mine</td>\n",
       "      <td>Unidentified</td>\n",
       "    </tr>\n",
       "    <tr>\n",
       "      <th>20</th>\n",
       "      <td>3644</td>\n",
       "      <td>16-csves/3295.csv</td>\n",
       "      <td>10</td>\n",
       "      <td>UDP</td>\n",
       "      <td>ICMP6</td>\n",
       "      <td>NaN</td>\n",
       "      <td>0.41725</td>\n",
       "      <td>0.9890</td>\n",
       "      <td>3.04075</td>\n",
       "      <td>758.866</td>\n",
       "      <td>...</td>\n",
       "      <td>137.0</td>\n",
       "      <td>1900.0</td>\n",
       "      <td>2.00</td>\n",
       "      <td>2.0</td>\n",
       "      <td>3.75</td>\n",
       "      <td>44.00</td>\n",
       "      <td>147.0</td>\n",
       "      <td>626.25</td>\n",
       "      <td>mine</td>\n",
       "      <td>Unidentified</td>\n",
       "    </tr>\n",
       "    <tr>\n",
       "      <th>21</th>\n",
       "      <td>9506</td>\n",
       "      <td>18-csves/1949.csv</td>\n",
       "      <td>19</td>\n",
       "      <td>ICMP6</td>\n",
       "      <td>ICMP</td>\n",
       "      <td>UDP</td>\n",
       "      <td>0.00000</td>\n",
       "      <td>0.0000</td>\n",
       "      <td>0.00000</td>\n",
       "      <td>588.052</td>\n",
       "      <td>...</td>\n",
       "      <td>1281.0</td>\n",
       "      <td>137.0</td>\n",
       "      <td>1.00</td>\n",
       "      <td>1.0</td>\n",
       "      <td>1.00</td>\n",
       "      <td>32.00</td>\n",
       "      <td>32.0</td>\n",
       "      <td>40.00</td>\n",
       "      <td>mine</td>\n",
       "      <td>Unidentified</td>\n",
       "    </tr>\n",
       "    <tr>\n",
       "      <th>22</th>\n",
       "      <td>9111</td>\n",
       "      <td>18-csves/1554.csv</td>\n",
       "      <td>30</td>\n",
       "      <td>ICMP6</td>\n",
       "      <td>TCP</td>\n",
       "      <td>ICMP</td>\n",
       "      <td>0.00000</td>\n",
       "      <td>0.0000</td>\n",
       "      <td>0.00000</td>\n",
       "      <td>920.579</td>\n",
       "      <td>...</td>\n",
       "      <td>1281.0</td>\n",
       "      <td>45560.0</td>\n",
       "      <td>1.00</td>\n",
       "      <td>1.0</td>\n",
       "      <td>1.00</td>\n",
       "      <td>32.00</td>\n",
       "      <td>32.0</td>\n",
       "      <td>284.00</td>\n",
       "      <td>mine</td>\n",
       "      <td>Unidentified</td>\n",
       "    </tr>\n",
       "    <tr>\n",
       "      <th>23</th>\n",
       "      <td>9075</td>\n",
       "      <td>18-csves/1518.csv</td>\n",
       "      <td>28</td>\n",
       "      <td>ICMP6</td>\n",
       "      <td>ICMP</td>\n",
       "      <td>UDP</td>\n",
       "      <td>0.00000</td>\n",
       "      <td>0.0000</td>\n",
       "      <td>0.00000</td>\n",
       "      <td>847.096</td>\n",
       "      <td>...</td>\n",
       "      <td>1281.0</td>\n",
       "      <td>5353.0</td>\n",
       "      <td>1.00</td>\n",
       "      <td>1.0</td>\n",
       "      <td>1.00</td>\n",
       "      <td>32.00</td>\n",
       "      <td>32.0</td>\n",
       "      <td>41.25</td>\n",
       "      <td>mine</td>\n",
       "      <td>Unidentified</td>\n",
       "    </tr>\n",
       "    <tr>\n",
       "      <th>25</th>\n",
       "      <td>2366</td>\n",
       "      <td>16-csves/2017.csv</td>\n",
       "      <td>31</td>\n",
       "      <td>UDP</td>\n",
       "      <td>ICMP6</td>\n",
       "      <td>NaN</td>\n",
       "      <td>0.91950</td>\n",
       "      <td>4.1090</td>\n",
       "      <td>25.99600</td>\n",
       "      <td>1139.016</td>\n",
       "      <td>...</td>\n",
       "      <td>1900.0</td>\n",
       "      <td>34560.0</td>\n",
       "      <td>2.00</td>\n",
       "      <td>3.0</td>\n",
       "      <td>4.00</td>\n",
       "      <td>267.00</td>\n",
       "      <td>503.0</td>\n",
       "      <td>694.00</td>\n",
       "      <td>mine</td>\n",
       "      <td>Unidentified</td>\n",
       "    </tr>\n",
       "    <tr>\n",
       "      <th>26</th>\n",
       "      <td>2512</td>\n",
       "      <td>16-csves/2163.csv</td>\n",
       "      <td>11</td>\n",
       "      <td>UDP</td>\n",
       "      <td>ICMP6</td>\n",
       "      <td>NaN</td>\n",
       "      <td>3.00150</td>\n",
       "      <td>6.0210</td>\n",
       "      <td>149.30950</td>\n",
       "      <td>1075.542</td>\n",
       "      <td>...</td>\n",
       "      <td>57621.0</td>\n",
       "      <td>5353.0</td>\n",
       "      <td>4.00</td>\n",
       "      <td>4.0</td>\n",
       "      <td>6.50</td>\n",
       "      <td>503.00</td>\n",
       "      <td>688.0</td>\n",
       "      <td>788.00</td>\n",
       "      <td>mine</td>\n",
       "      <td>Unidentified</td>\n",
       "    </tr>\n",
       "    <tr>\n",
       "      <th>27</th>\n",
       "      <td>21666</td>\n",
       "      <td>19-csves/4015.csv</td>\n",
       "      <td>16</td>\n",
       "      <td>ICMP6</td>\n",
       "      <td>ICMP</td>\n",
       "      <td>TCP</td>\n",
       "      <td>0.00000</td>\n",
       "      <td>0.0000</td>\n",
       "      <td>0.00000</td>\n",
       "      <td>504.192</td>\n",
       "      <td>...</td>\n",
       "      <td>1281.0</td>\n",
       "      <td>3333.0</td>\n",
       "      <td>1.00</td>\n",
       "      <td>1.0</td>\n",
       "      <td>1.00</td>\n",
       "      <td>32.00</td>\n",
       "      <td>36.0</td>\n",
       "      <td>66.00</td>\n",
       "      <td>mine</td>\n",
       "      <td>Unidentified</td>\n",
       "    </tr>\n",
       "    <tr>\n",
       "      <th>28</th>\n",
       "      <td>31382</td>\n",
       "      <td>20-csves/3543.csv</td>\n",
       "      <td>19</td>\n",
       "      <td>ICMP6</td>\n",
       "      <td>NaN</td>\n",
       "      <td>NaN</td>\n",
       "      <td>0.00000</td>\n",
       "      <td>0.0000</td>\n",
       "      <td>0.00000</td>\n",
       "      <td>0.000</td>\n",
       "      <td>...</td>\n",
       "      <td>34304.0</td>\n",
       "      <td>NaN</td>\n",
       "      <td>1.00</td>\n",
       "      <td>1.0</td>\n",
       "      <td>1.00</td>\n",
       "      <td>32.00</td>\n",
       "      <td>32.0</td>\n",
       "      <td>32.00</td>\n",
       "      <td>mine</td>\n",
       "      <td>Unidentified</td>\n",
       "    </tr>\n",
       "    <tr>\n",
       "      <th>29</th>\n",
       "      <td>35609</td>\n",
       "      <td>20-csves/7770.csv</td>\n",
       "      <td>18</td>\n",
       "      <td>ICMP6</td>\n",
       "      <td>NaN</td>\n",
       "      <td>NaN</td>\n",
       "      <td>0.00000</td>\n",
       "      <td>0.0000</td>\n",
       "      <td>0.00000</td>\n",
       "      <td>0.000</td>\n",
       "      <td>...</td>\n",
       "      <td>34304.0</td>\n",
       "      <td>NaN</td>\n",
       "      <td>1.00</td>\n",
       "      <td>1.0</td>\n",
       "      <td>1.00</td>\n",
       "      <td>32.00</td>\n",
       "      <td>32.0</td>\n",
       "      <td>32.00</td>\n",
       "      <td>mine</td>\n",
       "      <td>Unidentified</td>\n",
       "    </tr>\n",
       "    <tr>\n",
       "      <th>30</th>\n",
       "      <td>2038</td>\n",
       "      <td>16-csves/1689.csv</td>\n",
       "      <td>19</td>\n",
       "      <td>UDP</td>\n",
       "      <td>ICMP6</td>\n",
       "      <td>NaN</td>\n",
       "      <td>0.00000</td>\n",
       "      <td>0.2090</td>\n",
       "      <td>5.14200</td>\n",
       "      <td>223.034</td>\n",
       "      <td>...</td>\n",
       "      <td>34560.0</td>\n",
       "      <td>5353.0</td>\n",
       "      <td>1.00</td>\n",
       "      <td>3.0</td>\n",
       "      <td>4.00</td>\n",
       "      <td>32.00</td>\n",
       "      <td>503.0</td>\n",
       "      <td>739.00</td>\n",
       "      <td>mine</td>\n",
       "      <td>Unidentified</td>\n",
       "    </tr>\n",
       "    <tr>\n",
       "      <th>...</th>\n",
       "      <td>...</td>\n",
       "      <td>...</td>\n",
       "      <td>...</td>\n",
       "      <td>...</td>\n",
       "      <td>...</td>\n",
       "      <td>...</td>\n",
       "      <td>...</td>\n",
       "      <td>...</td>\n",
       "      <td>...</td>\n",
       "      <td>...</td>\n",
       "      <td>...</td>\n",
       "      <td>...</td>\n",
       "      <td>...</td>\n",
       "      <td>...</td>\n",
       "      <td>...</td>\n",
       "      <td>...</td>\n",
       "      <td>...</td>\n",
       "      <td>...</td>\n",
       "      <td>...</td>\n",
       "      <td>...</td>\n",
       "      <td>...</td>\n",
       "    </tr>\n",
       "    <tr>\n",
       "      <th>4703</th>\n",
       "      <td>1209</td>\n",
       "      <td>622-csves/0.csv</td>\n",
       "      <td>378</td>\n",
       "      <td>TCP</td>\n",
       "      <td>UDP</td>\n",
       "      <td>NaN</td>\n",
       "      <td>0.00000</td>\n",
       "      <td>0.0000</td>\n",
       "      <td>0.28000</td>\n",
       "      <td>3538.381</td>\n",
       "      <td>...</td>\n",
       "      <td>80.0</td>\n",
       "      <td>53.0</td>\n",
       "      <td>1.00</td>\n",
       "      <td>1.0</td>\n",
       "      <td>3.00</td>\n",
       "      <td>32.00</td>\n",
       "      <td>32.0</td>\n",
       "      <td>137.75</td>\n",
       "      <td>not_mine</td>\n",
       "      <td>Does not have</td>\n",
       "    </tr>\n",
       "    <tr>\n",
       "      <th>4704</th>\n",
       "      <td>117</td>\n",
       "      <td>34-csves/2.csv</td>\n",
       "      <td>2</td>\n",
       "      <td>TCP</td>\n",
       "      <td>NaN</td>\n",
       "      <td>NaN</td>\n",
       "      <td>543.57900</td>\n",
       "      <td>543.5790</td>\n",
       "      <td>543.57900</td>\n",
       "      <td>1087.158</td>\n",
       "      <td>...</td>\n",
       "      <td>14444.0</td>\n",
       "      <td>NaN</td>\n",
       "      <td>17.00</td>\n",
       "      <td>17.0</td>\n",
       "      <td>17.00</td>\n",
       "      <td>1416.25</td>\n",
       "      <td>2152.5</td>\n",
       "      <td>2888.75</td>\n",
       "      <td>mine</td>\n",
       "      <td>Monero</td>\n",
       "    </tr>\n",
       "    <tr>\n",
       "      <th>4705</th>\n",
       "      <td>875</td>\n",
       "      <td>91-csves/2.csv</td>\n",
       "      <td>13</td>\n",
       "      <td>TCP</td>\n",
       "      <td>NaN</td>\n",
       "      <td>NaN</td>\n",
       "      <td>20.18600</td>\n",
       "      <td>29.5410</td>\n",
       "      <td>70.21600</td>\n",
       "      <td>461.871</td>\n",
       "      <td>...</td>\n",
       "      <td>58780.0</td>\n",
       "      <td>NaN</td>\n",
       "      <td>12.00</td>\n",
       "      <td>21.0</td>\n",
       "      <td>35.00</td>\n",
       "      <td>567.00</td>\n",
       "      <td>1788.0</td>\n",
       "      <td>4796.00</td>\n",
       "      <td>mine</td>\n",
       "      <td>Etherium</td>\n",
       "    </tr>\n",
       "    <tr>\n",
       "      <th>4706</th>\n",
       "      <td>69</td>\n",
       "      <td>37-csves/0.csv</td>\n",
       "      <td>6</td>\n",
       "      <td>UDP</td>\n",
       "      <td>NaN</td>\n",
       "      <td>NaN</td>\n",
       "      <td>0.00000</td>\n",
       "      <td>0.0000</td>\n",
       "      <td>0.00000</td>\n",
       "      <td>0.000</td>\n",
       "      <td>...</td>\n",
       "      <td>55800.0</td>\n",
       "      <td>53287.0</td>\n",
       "      <td>1.00</td>\n",
       "      <td>1.0</td>\n",
       "      <td>1.00</td>\n",
       "      <td>33.25</td>\n",
       "      <td>83.0</td>\n",
       "      <td>141.75</td>\n",
       "      <td>not_mine</td>\n",
       "      <td>Does not have</td>\n",
       "    </tr>\n",
       "    <tr>\n",
       "      <th>4707</th>\n",
       "      <td>1468</td>\n",
       "      <td>754-csves/0.csv</td>\n",
       "      <td>15</td>\n",
       "      <td>UDP</td>\n",
       "      <td>TCP</td>\n",
       "      <td>NaN</td>\n",
       "      <td>0.00000</td>\n",
       "      <td>0.0000</td>\n",
       "      <td>0.00150</td>\n",
       "      <td>0.339</td>\n",
       "      <td>...</td>\n",
       "      <td>53.0</td>\n",
       "      <td>123.0</td>\n",
       "      <td>1.00</td>\n",
       "      <td>1.0</td>\n",
       "      <td>3.00</td>\n",
       "      <td>44.00</td>\n",
       "      <td>55.0</td>\n",
       "      <td>96.00</td>\n",
       "      <td>not_mine</td>\n",
       "      <td>Does not have</td>\n",
       "    </tr>\n",
       "    <tr>\n",
       "      <th>4708</th>\n",
       "      <td>450</td>\n",
       "      <td>16-csves/1.csv</td>\n",
       "      <td>10</td>\n",
       "      <td>TCP</td>\n",
       "      <td>NaN</td>\n",
       "      <td>NaN</td>\n",
       "      <td>15.77100</td>\n",
       "      <td>27.5430</td>\n",
       "      <td>67.75475</td>\n",
       "      <td>433.884</td>\n",
       "      <td>...</td>\n",
       "      <td>58780.0</td>\n",
       "      <td>NaN</td>\n",
       "      <td>9.25</td>\n",
       "      <td>15.0</td>\n",
       "      <td>38.50</td>\n",
       "      <td>683.75</td>\n",
       "      <td>1829.0</td>\n",
       "      <td>3358.75</td>\n",
       "      <td>mine</td>\n",
       "      <td>Etherium</td>\n",
       "    </tr>\n",
       "    <tr>\n",
       "      <th>4709</th>\n",
       "      <td>904</td>\n",
       "      <td>465-csves/0.csv</td>\n",
       "      <td>74</td>\n",
       "      <td>UDP</td>\n",
       "      <td>TCP</td>\n",
       "      <td>NaN</td>\n",
       "      <td>0.00000</td>\n",
       "      <td>0.0000</td>\n",
       "      <td>0.10975</td>\n",
       "      <td>560.964</td>\n",
       "      <td>...</td>\n",
       "      <td>443.0</td>\n",
       "      <td>80.0</td>\n",
       "      <td>1.00</td>\n",
       "      <td>1.0</td>\n",
       "      <td>2.75</td>\n",
       "      <td>42.00</td>\n",
       "      <td>87.5</td>\n",
       "      <td>157.00</td>\n",
       "      <td>not_mine</td>\n",
       "      <td>Does not have</td>\n",
       "    </tr>\n",
       "    <tr>\n",
       "      <th>4710</th>\n",
       "      <td>1288</td>\n",
       "      <td>662-csves/0.csv</td>\n",
       "      <td>95</td>\n",
       "      <td>TCP</td>\n",
       "      <td>UDP</td>\n",
       "      <td>NaN</td>\n",
       "      <td>0.00000</td>\n",
       "      <td>0.0260</td>\n",
       "      <td>45.98650</td>\n",
       "      <td>1888.815</td>\n",
       "      <td>...</td>\n",
       "      <td>443.0</td>\n",
       "      <td>123.0</td>\n",
       "      <td>1.00</td>\n",
       "      <td>2.0</td>\n",
       "      <td>4.00</td>\n",
       "      <td>37.00</td>\n",
       "      <td>52.0</td>\n",
       "      <td>144.50</td>\n",
       "      <td>not_mine</td>\n",
       "      <td>Does not have</td>\n",
       "    </tr>\n",
       "    <tr>\n",
       "      <th>4711</th>\n",
       "      <td>440</td>\n",
       "      <td>14-csves/31.csv</td>\n",
       "      <td>33</td>\n",
       "      <td>TCP</td>\n",
       "      <td>NaN</td>\n",
       "      <td>NaN</td>\n",
       "      <td>4.01900</td>\n",
       "      <td>10.6370</td>\n",
       "      <td>20.03000</td>\n",
       "      <td>600.079</td>\n",
       "      <td>...</td>\n",
       "      <td>58839.0</td>\n",
       "      <td>NaN</td>\n",
       "      <td>5.00</td>\n",
       "      <td>7.0</td>\n",
       "      <td>13.00</td>\n",
       "      <td>327.00</td>\n",
       "      <td>754.0</td>\n",
       "      <td>1703.00</td>\n",
       "      <td>mine</td>\n",
       "      <td>Etherium</td>\n",
       "    </tr>\n",
       "    <tr>\n",
       "      <th>4712</th>\n",
       "      <td>91</td>\n",
       "      <td>14-csves/6.csv</td>\n",
       "      <td>2</td>\n",
       "      <td>TCP</td>\n",
       "      <td>NaN</td>\n",
       "      <td>NaN</td>\n",
       "      <td>255.30100</td>\n",
       "      <td>255.3010</td>\n",
       "      <td>255.30100</td>\n",
       "      <td>510.602</td>\n",
       "      <td>...</td>\n",
       "      <td>54082.0</td>\n",
       "      <td>NaN</td>\n",
       "      <td>12.25</td>\n",
       "      <td>12.5</td>\n",
       "      <td>12.75</td>\n",
       "      <td>3006.00</td>\n",
       "      <td>5647.0</td>\n",
       "      <td>8288.00</td>\n",
       "      <td>mine</td>\n",
       "      <td>Bitcash</td>\n",
       "    </tr>\n",
       "    <tr>\n",
       "      <th>4713</th>\n",
       "      <td>1032</td>\n",
       "      <td>531-csves/1.csv</td>\n",
       "      <td>85</td>\n",
       "      <td>TCP</td>\n",
       "      <td>UDP</td>\n",
       "      <td>NaN</td>\n",
       "      <td>149.75600</td>\n",
       "      <td>194.6270</td>\n",
       "      <td>225.28000</td>\n",
       "      <td>14262.875</td>\n",
       "      <td>...</td>\n",
       "      <td>123.0</td>\n",
       "      <td>80.0</td>\n",
       "      <td>6.00</td>\n",
       "      <td>6.0</td>\n",
       "      <td>8.00</td>\n",
       "      <td>160.00</td>\n",
       "      <td>192.0</td>\n",
       "      <td>312.00</td>\n",
       "      <td>not_mine</td>\n",
       "      <td>Does not have</td>\n",
       "    </tr>\n",
       "    <tr>\n",
       "      <th>4714</th>\n",
       "      <td>147</td>\n",
       "      <td>42-csves/3.csv</td>\n",
       "      <td>2</td>\n",
       "      <td>TCP</td>\n",
       "      <td>NaN</td>\n",
       "      <td>NaN</td>\n",
       "      <td>241.29000</td>\n",
       "      <td>241.2900</td>\n",
       "      <td>241.29000</td>\n",
       "      <td>482.580</td>\n",
       "      <td>...</td>\n",
       "      <td>14444.0</td>\n",
       "      <td>NaN</td>\n",
       "      <td>8.00</td>\n",
       "      <td>8.0</td>\n",
       "      <td>8.00</td>\n",
       "      <td>655.00</td>\n",
       "      <td>1138.0</td>\n",
       "      <td>1621.00</td>\n",
       "      <td>mine</td>\n",
       "      <td>Monero</td>\n",
       "    </tr>\n",
       "    <tr>\n",
       "      <th>4715</th>\n",
       "      <td>154</td>\n",
       "      <td>7-csves/10.csv</td>\n",
       "      <td>22</td>\n",
       "      <td>TCP</td>\n",
       "      <td>NaN</td>\n",
       "      <td>NaN</td>\n",
       "      <td>13.18250</td>\n",
       "      <td>20.1430</td>\n",
       "      <td>52.36425</td>\n",
       "      <td>750.614</td>\n",
       "      <td>...</td>\n",
       "      <td>4444.0</td>\n",
       "      <td>NaN</td>\n",
       "      <td>9.25</td>\n",
       "      <td>13.5</td>\n",
       "      <td>31.50</td>\n",
       "      <td>779.50</td>\n",
       "      <td>1571.0</td>\n",
       "      <td>2779.75</td>\n",
       "      <td>mine</td>\n",
       "      <td>Etherium</td>\n",
       "    </tr>\n",
       "    <tr>\n",
       "      <th>4716</th>\n",
       "      <td>427</td>\n",
       "      <td>14-csves/15.csv</td>\n",
       "      <td>22</td>\n",
       "      <td>TCP</td>\n",
       "      <td>NaN</td>\n",
       "      <td>NaN</td>\n",
       "      <td>17.21075</td>\n",
       "      <td>19.8395</td>\n",
       "      <td>30.90550</td>\n",
       "      <td>550.146</td>\n",
       "      <td>...</td>\n",
       "      <td>4444.0</td>\n",
       "      <td>NaN</td>\n",
       "      <td>10.00</td>\n",
       "      <td>11.0</td>\n",
       "      <td>16.50</td>\n",
       "      <td>537.00</td>\n",
       "      <td>1368.0</td>\n",
       "      <td>2486.25</td>\n",
       "      <td>mine</td>\n",
       "      <td>Etherium</td>\n",
       "    </tr>\n",
       "    <tr>\n",
       "      <th>4717</th>\n",
       "      <td>369</td>\n",
       "      <td>60-csves/6.csv</td>\n",
       "      <td>2</td>\n",
       "      <td>TCP</td>\n",
       "      <td>NaN</td>\n",
       "      <td>NaN</td>\n",
       "      <td>228.78300</td>\n",
       "      <td>228.7830</td>\n",
       "      <td>228.78300</td>\n",
       "      <td>457.566</td>\n",
       "      <td>...</td>\n",
       "      <td>3337.0</td>\n",
       "      <td>NaN</td>\n",
       "      <td>11.25</td>\n",
       "      <td>11.5</td>\n",
       "      <td>11.75</td>\n",
       "      <td>2727.75</td>\n",
       "      <td>5110.5</td>\n",
       "      <td>7493.25</td>\n",
       "      <td>mine</td>\n",
       "      <td>Bitcash</td>\n",
       "    </tr>\n",
       "    <tr>\n",
       "      <th>4718</th>\n",
       "      <td>961</td>\n",
       "      <td>495-csves/0.csv</td>\n",
       "      <td>218</td>\n",
       "      <td>TCP</td>\n",
       "      <td>UDP</td>\n",
       "      <td>NaN</td>\n",
       "      <td>0.00000</td>\n",
       "      <td>0.0000</td>\n",
       "      <td>28.96100</td>\n",
       "      <td>2823.606</td>\n",
       "      <td>...</td>\n",
       "      <td>80.0</td>\n",
       "      <td>53.0</td>\n",
       "      <td>1.00</td>\n",
       "      <td>1.0</td>\n",
       "      <td>2.00</td>\n",
       "      <td>32.00</td>\n",
       "      <td>32.0</td>\n",
       "      <td>92.00</td>\n",
       "      <td>not_mine</td>\n",
       "      <td>Does not have</td>\n",
       "    </tr>\n",
       "    <tr>\n",
       "      <th>4719</th>\n",
       "      <td>363</td>\n",
       "      <td>59-csves/8.csv</td>\n",
       "      <td>2</td>\n",
       "      <td>TCP</td>\n",
       "      <td>NaN</td>\n",
       "      <td>NaN</td>\n",
       "      <td>281.88100</td>\n",
       "      <td>281.8810</td>\n",
       "      <td>281.88100</td>\n",
       "      <td>563.762</td>\n",
       "      <td>...</td>\n",
       "      <td>3337.0</td>\n",
       "      <td>NaN</td>\n",
       "      <td>11.00</td>\n",
       "      <td>11.0</td>\n",
       "      <td>11.00</td>\n",
       "      <td>2686.75</td>\n",
       "      <td>5153.5</td>\n",
       "      <td>7620.25</td>\n",
       "      <td>mine</td>\n",
       "      <td>Bitcash</td>\n",
       "    </tr>\n",
       "    <tr>\n",
       "      <th>4720</th>\n",
       "      <td>1681</td>\n",
       "      <td>863-csves/0.csv</td>\n",
       "      <td>39</td>\n",
       "      <td>TCP</td>\n",
       "      <td>UDP</td>\n",
       "      <td>NaN</td>\n",
       "      <td>13.38750</td>\n",
       "      <td>45.0650</td>\n",
       "      <td>45.09800</td>\n",
       "      <td>1262.217</td>\n",
       "      <td>...</td>\n",
       "      <td>80.0</td>\n",
       "      <td>1900.0</td>\n",
       "      <td>2.00</td>\n",
       "      <td>2.0</td>\n",
       "      <td>2.00</td>\n",
       "      <td>64.00</td>\n",
       "      <td>64.0</td>\n",
       "      <td>64.00</td>\n",
       "      <td>not_mine</td>\n",
       "      <td>Does not have</td>\n",
       "    </tr>\n",
       "    <tr>\n",
       "      <th>4721</th>\n",
       "      <td>721</td>\n",
       "      <td>370-csves/1.csv</td>\n",
       "      <td>539</td>\n",
       "      <td>TCP</td>\n",
       "      <td>UDP</td>\n",
       "      <td>NaN</td>\n",
       "      <td>0.00000</td>\n",
       "      <td>0.2470</td>\n",
       "      <td>24.87750</td>\n",
       "      <td>8116.689</td>\n",
       "      <td>...</td>\n",
       "      <td>53.0</td>\n",
       "      <td>123.0</td>\n",
       "      <td>1.00</td>\n",
       "      <td>5.0</td>\n",
       "      <td>15.00</td>\n",
       "      <td>47.00</td>\n",
       "      <td>411.0</td>\n",
       "      <td>4154.00</td>\n",
       "      <td>not_mine</td>\n",
       "      <td>Does not have</td>\n",
       "    </tr>\n",
       "    <tr>\n",
       "      <th>4722</th>\n",
       "      <td>955</td>\n",
       "      <td>491-csves/1.csv</td>\n",
       "      <td>46</td>\n",
       "      <td>UDP</td>\n",
       "      <td>NaN</td>\n",
       "      <td>NaN</td>\n",
       "      <td>0.00000</td>\n",
       "      <td>0.0000</td>\n",
       "      <td>0.00000</td>\n",
       "      <td>0.000</td>\n",
       "      <td>...</td>\n",
       "      <td>33247.0</td>\n",
       "      <td>34698.0</td>\n",
       "      <td>1.00</td>\n",
       "      <td>1.0</td>\n",
       "      <td>1.00</td>\n",
       "      <td>37.00</td>\n",
       "      <td>53.0</td>\n",
       "      <td>101.75</td>\n",
       "      <td>not_mine</td>\n",
       "      <td>Does not have</td>\n",
       "    </tr>\n",
       "    <tr>\n",
       "      <th>4723</th>\n",
       "      <td>247</td>\n",
       "      <td>9-csves/21.csv</td>\n",
       "      <td>23</td>\n",
       "      <td>TCP</td>\n",
       "      <td>NaN</td>\n",
       "      <td>NaN</td>\n",
       "      <td>1.08550</td>\n",
       "      <td>6.7810</td>\n",
       "      <td>50.42400</td>\n",
       "      <td>701.106</td>\n",
       "      <td>...</td>\n",
       "      <td>64790.0</td>\n",
       "      <td>NaN</td>\n",
       "      <td>2.00</td>\n",
       "      <td>4.0</td>\n",
       "      <td>31.50</td>\n",
       "      <td>207.00</td>\n",
       "      <td>822.0</td>\n",
       "      <td>2628.50</td>\n",
       "      <td>mine</td>\n",
       "      <td>Etherium</td>\n",
       "    </tr>\n",
       "    <tr>\n",
       "      <th>4724</th>\n",
       "      <td>240</td>\n",
       "      <td>9-csves/12.csv</td>\n",
       "      <td>12</td>\n",
       "      <td>TCP</td>\n",
       "      <td>NaN</td>\n",
       "      <td>NaN</td>\n",
       "      <td>4.14200</td>\n",
       "      <td>11.0840</td>\n",
       "      <td>37.33425</td>\n",
       "      <td>356.764</td>\n",
       "      <td>...</td>\n",
       "      <td>64790.0</td>\n",
       "      <td>NaN</td>\n",
       "      <td>2.00</td>\n",
       "      <td>7.0</td>\n",
       "      <td>26.00</td>\n",
       "      <td>290.50</td>\n",
       "      <td>801.0</td>\n",
       "      <td>1953.50</td>\n",
       "      <td>mine</td>\n",
       "      <td>Etherium</td>\n",
       "    </tr>\n",
       "    <tr>\n",
       "      <th>4725</th>\n",
       "      <td>199</td>\n",
       "      <td>44-csves/1.csv</td>\n",
       "      <td>2</td>\n",
       "      <td>TCP</td>\n",
       "      <td>NaN</td>\n",
       "      <td>NaN</td>\n",
       "      <td>569.70500</td>\n",
       "      <td>569.7050</td>\n",
       "      <td>569.70500</td>\n",
       "      <td>1139.410</td>\n",
       "      <td>...</td>\n",
       "      <td>56490.0</td>\n",
       "      <td>NaN</td>\n",
       "      <td>37.00</td>\n",
       "      <td>38.0</td>\n",
       "      <td>39.00</td>\n",
       "      <td>7782.25</td>\n",
       "      <td>14340.5</td>\n",
       "      <td>20898.75</td>\n",
       "      <td>mine</td>\n",
       "      <td>Litecoin</td>\n",
       "    </tr>\n",
       "    <tr>\n",
       "      <th>4726</th>\n",
       "      <td>211</td>\n",
       "      <td>34-csves/8.csv</td>\n",
       "      <td>2</td>\n",
       "      <td>TCP</td>\n",
       "      <td>NaN</td>\n",
       "      <td>NaN</td>\n",
       "      <td>255.26700</td>\n",
       "      <td>255.2670</td>\n",
       "      <td>255.26700</td>\n",
       "      <td>510.534</td>\n",
       "      <td>...</td>\n",
       "      <td>49875.0</td>\n",
       "      <td>NaN</td>\n",
       "      <td>12.50</td>\n",
       "      <td>13.0</td>\n",
       "      <td>13.50</td>\n",
       "      <td>2707.00</td>\n",
       "      <td>4924.0</td>\n",
       "      <td>7141.00</td>\n",
       "      <td>mine</td>\n",
       "      <td>Bitcash</td>\n",
       "    </tr>\n",
       "    <tr>\n",
       "      <th>4727</th>\n",
       "      <td>1479</td>\n",
       "      <td>760-csves/0.csv</td>\n",
       "      <td>215</td>\n",
       "      <td>TCP</td>\n",
       "      <td>UDP</td>\n",
       "      <td>NaN</td>\n",
       "      <td>0.00000</td>\n",
       "      <td>0.2750</td>\n",
       "      <td>45.12300</td>\n",
       "      <td>3810.406</td>\n",
       "      <td>...</td>\n",
       "      <td>53.0</td>\n",
       "      <td>80.0</td>\n",
       "      <td>1.00</td>\n",
       "      <td>2.0</td>\n",
       "      <td>4.00</td>\n",
       "      <td>32.00</td>\n",
       "      <td>64.0</td>\n",
       "      <td>186.00</td>\n",
       "      <td>not_mine</td>\n",
       "      <td>Does not have</td>\n",
       "    </tr>\n",
       "    <tr>\n",
       "      <th>4728</th>\n",
       "      <td>1929</td>\n",
       "      <td>990-csves/1.csv</td>\n",
       "      <td>80</td>\n",
       "      <td>TCP</td>\n",
       "      <td>UDP</td>\n",
       "      <td>NaN</td>\n",
       "      <td>12.79800</td>\n",
       "      <td>45.0720</td>\n",
       "      <td>58.77750</td>\n",
       "      <td>3012.418</td>\n",
       "      <td>...</td>\n",
       "      <td>80.0</td>\n",
       "      <td>1900.0</td>\n",
       "      <td>2.00</td>\n",
       "      <td>4.0</td>\n",
       "      <td>5.00</td>\n",
       "      <td>64.00</td>\n",
       "      <td>128.0</td>\n",
       "      <td>192.00</td>\n",
       "      <td>not_mine</td>\n",
       "      <td>Does not have</td>\n",
       "    </tr>\n",
       "    <tr>\n",
       "      <th>4729</th>\n",
       "      <td>2096</td>\n",
       "      <td>1075-csves/1.csv</td>\n",
       "      <td>255</td>\n",
       "      <td>TCP</td>\n",
       "      <td>UDP</td>\n",
       "      <td>NaN</td>\n",
       "      <td>0.00000</td>\n",
       "      <td>0.0000</td>\n",
       "      <td>12.64100</td>\n",
       "      <td>2704.982</td>\n",
       "      <td>...</td>\n",
       "      <td>80.0</td>\n",
       "      <td>1900.0</td>\n",
       "      <td>1.00</td>\n",
       "      <td>1.0</td>\n",
       "      <td>3.00</td>\n",
       "      <td>32.00</td>\n",
       "      <td>32.0</td>\n",
       "      <td>96.00</td>\n",
       "      <td>not_mine</td>\n",
       "      <td>Does not have</td>\n",
       "    </tr>\n",
       "    <tr>\n",
       "      <th>4730</th>\n",
       "      <td>326</td>\n",
       "      <td>71-csves/2.csv</td>\n",
       "      <td>2</td>\n",
       "      <td>TCP</td>\n",
       "      <td>NaN</td>\n",
       "      <td>NaN</td>\n",
       "      <td>267.50025</td>\n",
       "      <td>267.5005</td>\n",
       "      <td>267.50075</td>\n",
       "      <td>535.001</td>\n",
       "      <td>...</td>\n",
       "      <td>56490.0</td>\n",
       "      <td>NaN</td>\n",
       "      <td>18.00</td>\n",
       "      <td>18.0</td>\n",
       "      <td>18.00</td>\n",
       "      <td>4341.25</td>\n",
       "      <td>8322.5</td>\n",
       "      <td>12303.75</td>\n",
       "      <td>mine</td>\n",
       "      <td>Litecoin</td>\n",
       "    </tr>\n",
       "    <tr>\n",
       "      <th>4731</th>\n",
       "      <td>477</td>\n",
       "      <td>77-csves/4.csv</td>\n",
       "      <td>2</td>\n",
       "      <td>TCP</td>\n",
       "      <td>NaN</td>\n",
       "      <td>NaN</td>\n",
       "      <td>536.38875</td>\n",
       "      <td>536.3895</td>\n",
       "      <td>536.39025</td>\n",
       "      <td>1072.779</td>\n",
       "      <td>...</td>\n",
       "      <td>3337.0</td>\n",
       "      <td>NaN</td>\n",
       "      <td>25.00</td>\n",
       "      <td>25.0</td>\n",
       "      <td>25.00</td>\n",
       "      <td>6038.00</td>\n",
       "      <td>11576.0</td>\n",
       "      <td>17114.00</td>\n",
       "      <td>mine</td>\n",
       "      <td>Bitcash</td>\n",
       "    </tr>\n",
       "    <tr>\n",
       "      <th>4732</th>\n",
       "      <td>743</td>\n",
       "      <td>68-csves/3.csv</td>\n",
       "      <td>2</td>\n",
       "      <td>TCP</td>\n",
       "      <td>NaN</td>\n",
       "      <td>NaN</td>\n",
       "      <td>597.52375</td>\n",
       "      <td>597.5435</td>\n",
       "      <td>597.56325</td>\n",
       "      <td>1195.087</td>\n",
       "      <td>...</td>\n",
       "      <td>58780.0</td>\n",
       "      <td>NaN</td>\n",
       "      <td>323.25</td>\n",
       "      <td>335.5</td>\n",
       "      <td>347.75</td>\n",
       "      <td>30721.00</td>\n",
       "      <td>45348.0</td>\n",
       "      <td>59975.00</td>\n",
       "      <td>mine</td>\n",
       "      <td>Etherium</td>\n",
       "    </tr>\n",
       "  </tbody>\n",
       "</table>\n",
       "<p>44287 rows × 33 columns</p>\n",
       "</div>"
      ],
      "text/plain": [
       "      index               Name  Netflows First_Protocol Second_Protocol  \\\n",
       "0     36016  20-csves/8177.csv        17            UDP           ICMP6   \n",
       "1     12659  18-csves/5102.csv        28          ICMP6            ICMP   \n",
       "2      8388   18-csves/831.csv        18          ICMP6            ICMP   \n",
       "3     16127  18-csves/8570.csv        28          ICMP6            ICMP   \n",
       "4     23859  19-csves/6208.csv        30          ICMP6            ICMP   \n",
       "5     16675  18-csves/9118.csv        32          ICMP6            ICMP   \n",
       "6     23582  19-csves/5931.csv        25          ICMP6            ICMP   \n",
       "7     15996  18-csves/8439.csv        29          ICMP6            ICMP   \n",
       "8     23672  19-csves/6021.csv        25          ICMP6            ICMP   \n",
       "9     35694  20-csves/7855.csv        17          ICMP6             NaN   \n",
       "10      899   16-csves/550.csv        30          ICMP6             UDP   \n",
       "11     5792   17-csves/776.csv         8          ICMP6             NaN   \n",
       "12    35738  20-csves/7899.csv        18          ICMP6             NaN   \n",
       "13     2832  16-csves/2483.csv        17            UDP           ICMP6   \n",
       "14    20687  19-csves/3036.csv        25          ICMP6            ICMP   \n",
       "15     8730  18-csves/1173.csv        28          ICMP6            ICMP   \n",
       "16     1115   16-csves/766.csv        14            UDP           ICMP6   \n",
       "17    11683  18-csves/4126.csv        17          ICMP6            ICMP   \n",
       "18    15715  18-csves/8158.csv        25          ICMP6            ICMP   \n",
       "19     7342  17-csves/2326.csv        20          ICMP6            ICMP   \n",
       "20     3644  16-csves/3295.csv        10            UDP           ICMP6   \n",
       "21     9506  18-csves/1949.csv        19          ICMP6            ICMP   \n",
       "22     9111  18-csves/1554.csv        30          ICMP6             TCP   \n",
       "23     9075  18-csves/1518.csv        28          ICMP6            ICMP   \n",
       "25     2366  16-csves/2017.csv        31            UDP           ICMP6   \n",
       "26     2512  16-csves/2163.csv        11            UDP           ICMP6   \n",
       "27    21666  19-csves/4015.csv        16          ICMP6            ICMP   \n",
       "28    31382  20-csves/3543.csv        19          ICMP6             NaN   \n",
       "29    35609  20-csves/7770.csv        18          ICMP6             NaN   \n",
       "30     2038  16-csves/1689.csv        19            UDP           ICMP6   \n",
       "...     ...                ...       ...            ...             ...   \n",
       "4703   1209    622-csves/0.csv       378            TCP             UDP   \n",
       "4704    117     34-csves/2.csv         2            TCP             NaN   \n",
       "4705    875     91-csves/2.csv        13            TCP             NaN   \n",
       "4706     69     37-csves/0.csv         6            UDP             NaN   \n",
       "4707   1468    754-csves/0.csv        15            UDP             TCP   \n",
       "4708    450     16-csves/1.csv        10            TCP             NaN   \n",
       "4709    904    465-csves/0.csv        74            UDP             TCP   \n",
       "4710   1288    662-csves/0.csv        95            TCP             UDP   \n",
       "4711    440    14-csves/31.csv        33            TCP             NaN   \n",
       "4712     91     14-csves/6.csv         2            TCP             NaN   \n",
       "4713   1032    531-csves/1.csv        85            TCP             UDP   \n",
       "4714    147     42-csves/3.csv         2            TCP             NaN   \n",
       "4715    154     7-csves/10.csv        22            TCP             NaN   \n",
       "4716    427    14-csves/15.csv        22            TCP             NaN   \n",
       "4717    369     60-csves/6.csv         2            TCP             NaN   \n",
       "4718    961    495-csves/0.csv       218            TCP             UDP   \n",
       "4719    363     59-csves/8.csv         2            TCP             NaN   \n",
       "4720   1681    863-csves/0.csv        39            TCP             UDP   \n",
       "4721    721    370-csves/1.csv       539            TCP             UDP   \n",
       "4722    955    491-csves/1.csv        46            UDP             NaN   \n",
       "4723    247     9-csves/21.csv        23            TCP             NaN   \n",
       "4724    240     9-csves/12.csv        12            TCP             NaN   \n",
       "4725    199     44-csves/1.csv         2            TCP             NaN   \n",
       "4726    211     34-csves/8.csv         2            TCP             NaN   \n",
       "4727   1479    760-csves/0.csv       215            TCP             UDP   \n",
       "4728   1929    990-csves/1.csv        80            TCP             UDP   \n",
       "4729   2096   1075-csves/1.csv       255            TCP             UDP   \n",
       "4730    326     71-csves/2.csv         2            TCP             NaN   \n",
       "4731    477     77-csves/4.csv         2            TCP             NaN   \n",
       "4732    743     68-csves/3.csv         2            TCP             NaN   \n",
       "\n",
       "     Third_Protocol       p1_d      p2_d       p3_d   duration  ...  \\\n",
       "0               NaN    0.00000    3.0010  360.02400   2790.015  ...   \n",
       "1               UDP    0.00000    0.0000    0.00000     13.505  ...   \n",
       "2               UDP    0.00000    0.0000    0.00000    556.202  ...   \n",
       "3               TCP    0.00000    0.0000    0.00000   1021.895  ...   \n",
       "4               UDP    0.00000    0.0000    0.00000   1080.234  ...   \n",
       "5               TCP    0.00000    0.0000    0.00000    683.281  ...   \n",
       "6               TCP    0.00000    0.0000    0.00000    988.991  ...   \n",
       "7               TCP    0.00000    0.0000    0.00000    238.605  ...   \n",
       "8               UDP    0.00000    0.0000    0.00000    563.872  ...   \n",
       "9               NaN    0.00000    0.0000    0.00000      0.000  ...   \n",
       "10              NaN    0.00000    0.0000    0.00000    484.154  ...   \n",
       "11              NaN    0.00000    0.0000    0.00000      0.000  ...   \n",
       "12              NaN    0.00000    0.0000    0.00000      0.000  ...   \n",
       "13              NaN    0.00000    0.2180    0.41800    166.350  ...   \n",
       "14              TCP    0.00000    0.0000    0.00000    586.346  ...   \n",
       "15              TCP    0.00000    0.0000    0.00000    866.076  ...   \n",
       "16              NaN    0.00000    0.4175    2.64950     26.826  ...   \n",
       "17              UDP    0.00000    0.0000    0.00000      0.214  ...   \n",
       "18              TCP    0.00000    0.0000    0.00000    575.178  ...   \n",
       "19              TCP    0.00000    0.0000    2.24825     44.986  ...   \n",
       "20              NaN    0.41725    0.9890    3.04075    758.866  ...   \n",
       "21              UDP    0.00000    0.0000    0.00000    588.052  ...   \n",
       "22             ICMP    0.00000    0.0000    0.00000    920.579  ...   \n",
       "23              UDP    0.00000    0.0000    0.00000    847.096  ...   \n",
       "25              NaN    0.91950    4.1090   25.99600   1139.016  ...   \n",
       "26              NaN    3.00150    6.0210  149.30950   1075.542  ...   \n",
       "27              TCP    0.00000    0.0000    0.00000    504.192  ...   \n",
       "28              NaN    0.00000    0.0000    0.00000      0.000  ...   \n",
       "29              NaN    0.00000    0.0000    0.00000      0.000  ...   \n",
       "30              NaN    0.00000    0.2090    5.14200    223.034  ...   \n",
       "...             ...        ...       ...        ...        ...  ...   \n",
       "4703            NaN    0.00000    0.0000    0.28000   3538.381  ...   \n",
       "4704            NaN  543.57900  543.5790  543.57900   1087.158  ...   \n",
       "4705            NaN   20.18600   29.5410   70.21600    461.871  ...   \n",
       "4706            NaN    0.00000    0.0000    0.00000      0.000  ...   \n",
       "4707            NaN    0.00000    0.0000    0.00150      0.339  ...   \n",
       "4708            NaN   15.77100   27.5430   67.75475    433.884  ...   \n",
       "4709            NaN    0.00000    0.0000    0.10975    560.964  ...   \n",
       "4710            NaN    0.00000    0.0260   45.98650   1888.815  ...   \n",
       "4711            NaN    4.01900   10.6370   20.03000    600.079  ...   \n",
       "4712            NaN  255.30100  255.3010  255.30100    510.602  ...   \n",
       "4713            NaN  149.75600  194.6270  225.28000  14262.875  ...   \n",
       "4714            NaN  241.29000  241.2900  241.29000    482.580  ...   \n",
       "4715            NaN   13.18250   20.1430   52.36425    750.614  ...   \n",
       "4716            NaN   17.21075   19.8395   30.90550    550.146  ...   \n",
       "4717            NaN  228.78300  228.7830  228.78300    457.566  ...   \n",
       "4718            NaN    0.00000    0.0000   28.96100   2823.606  ...   \n",
       "4719            NaN  281.88100  281.8810  281.88100    563.762  ...   \n",
       "4720            NaN   13.38750   45.0650   45.09800   1262.217  ...   \n",
       "4721            NaN    0.00000    0.2470   24.87750   8116.689  ...   \n",
       "4722            NaN    0.00000    0.0000    0.00000      0.000  ...   \n",
       "4723            NaN    1.08550    6.7810   50.42400    701.106  ...   \n",
       "4724            NaN    4.14200   11.0840   37.33425    356.764  ...   \n",
       "4725            NaN  569.70500  569.7050  569.70500   1139.410  ...   \n",
       "4726            NaN  255.26700  255.2670  255.26700    510.534  ...   \n",
       "4727            NaN    0.00000    0.2750   45.12300   3810.406  ...   \n",
       "4728            NaN   12.79800   45.0720   58.77750   3012.418  ...   \n",
       "4729            NaN    0.00000    0.0000   12.64100   2704.982  ...   \n",
       "4730            NaN  267.50025  267.5005  267.50075    535.001  ...   \n",
       "4731            NaN  536.38875  536.3895  536.39025   1072.779  ...   \n",
       "4732            NaN  597.52375  597.5435  597.56325   1195.087  ...   \n",
       "\n",
       "      second_dp  third_dp   p1_ip  p2_ip   p3_ip     p1_ib    p2_ib     p3_ib  \\\n",
       "0        1900.0   17500.0    1.00    2.0    4.00     32.00    500.0    700.00   \n",
       "1        1281.0    5353.0    1.00    1.0    1.00     32.00     32.0     40.00   \n",
       "2        1281.0   45560.0    1.00    1.0    1.00     32.00     36.0    250.50   \n",
       "3        1281.0   45560.0    1.00    1.0    1.00     32.00     32.0     66.00   \n",
       "4        1281.0    5353.0    1.00    1.0    1.00     32.00     32.0     43.75   \n",
       "5        1281.0   45560.0    1.00    1.0    1.00     32.00     32.0    157.00   \n",
       "6        1281.0    3333.0    1.00    1.0    1.00     32.00     32.0     40.00   \n",
       "7        1281.0   49604.0    1.00    1.0    1.00     32.00     32.0     40.00   \n",
       "8        1281.0    5353.0    1.00    1.0    1.00     32.00     32.0     45.00   \n",
       "9       34304.0       NaN    1.00    1.0    1.00     32.00     32.0     32.00   \n",
       "10      34816.0    1900.0    1.00    1.0    1.00     26.00     32.0     32.00   \n",
       "11          NaN       NaN    1.00    1.0    1.00     32.00     32.0     32.00   \n",
       "12          NaN       NaN    1.00    1.0    1.00     32.00     32.0     32.00   \n",
       "13       5355.0    1900.0    1.00    2.0    3.00     32.00     44.0    174.00   \n",
       "14       1281.0    3333.0    1.00    1.0    1.00     32.00     32.0     40.00   \n",
       "15       1281.0   49604.0    1.00    1.0    1.00     32.00     32.0    180.75   \n",
       "16      34560.0    1900.0    1.00    2.0    3.75     35.00     44.0    576.00   \n",
       "17       1281.0   25000.0    1.00    1.0    1.00     32.00     32.0    174.00   \n",
       "18       1281.0   49684.0    1.00    1.0    1.00     32.00     32.0     40.00   \n",
       "19       8087.0    1281.0    1.00    1.0    1.50     32.00     42.0     62.00   \n",
       "20        137.0    1900.0    2.00    2.0    3.75     44.00    147.0    626.25   \n",
       "21       1281.0     137.0    1.00    1.0    1.00     32.00     32.0     40.00   \n",
       "22       1281.0   45560.0    1.00    1.0    1.00     32.00     32.0    284.00   \n",
       "23       1281.0    5353.0    1.00    1.0    1.00     32.00     32.0     41.25   \n",
       "25       1900.0   34560.0    2.00    3.0    4.00    267.00    503.0    694.00   \n",
       "26      57621.0    5353.0    4.00    4.0    6.50    503.00    688.0    788.00   \n",
       "27       1281.0    3333.0    1.00    1.0    1.00     32.00     36.0     66.00   \n",
       "28      34304.0       NaN    1.00    1.0    1.00     32.00     32.0     32.00   \n",
       "29      34304.0       NaN    1.00    1.0    1.00     32.00     32.0     32.00   \n",
       "30      34560.0    5353.0    1.00    3.0    4.00     32.00    503.0    739.00   \n",
       "...         ...       ...     ...    ...     ...       ...      ...       ...   \n",
       "4703       80.0      53.0    1.00    1.0    3.00     32.00     32.0    137.75   \n",
       "4704    14444.0       NaN   17.00   17.0   17.00   1416.25   2152.5   2888.75   \n",
       "4705    58780.0       NaN   12.00   21.0   35.00    567.00   1788.0   4796.00   \n",
       "4706    55800.0   53287.0    1.00    1.0    1.00     33.25     83.0    141.75   \n",
       "4707       53.0     123.0    1.00    1.0    3.00     44.00     55.0     96.00   \n",
       "4708    58780.0       NaN    9.25   15.0   38.50    683.75   1829.0   3358.75   \n",
       "4709      443.0      80.0    1.00    1.0    2.75     42.00     87.5    157.00   \n",
       "4710      443.0     123.0    1.00    2.0    4.00     37.00     52.0    144.50   \n",
       "4711    58839.0       NaN    5.00    7.0   13.00    327.00    754.0   1703.00   \n",
       "4712    54082.0       NaN   12.25   12.5   12.75   3006.00   5647.0   8288.00   \n",
       "4713      123.0      80.0    6.00    6.0    8.00    160.00    192.0    312.00   \n",
       "4714    14444.0       NaN    8.00    8.0    8.00    655.00   1138.0   1621.00   \n",
       "4715     4444.0       NaN    9.25   13.5   31.50    779.50   1571.0   2779.75   \n",
       "4716     4444.0       NaN   10.00   11.0   16.50    537.00   1368.0   2486.25   \n",
       "4717     3337.0       NaN   11.25   11.5   11.75   2727.75   5110.5   7493.25   \n",
       "4718       80.0      53.0    1.00    1.0    2.00     32.00     32.0     92.00   \n",
       "4719     3337.0       NaN   11.00   11.0   11.00   2686.75   5153.5   7620.25   \n",
       "4720       80.0    1900.0    2.00    2.0    2.00     64.00     64.0     64.00   \n",
       "4721       53.0     123.0    1.00    5.0   15.00     47.00    411.0   4154.00   \n",
       "4722    33247.0   34698.0    1.00    1.0    1.00     37.00     53.0    101.75   \n",
       "4723    64790.0       NaN    2.00    4.0   31.50    207.00    822.0   2628.50   \n",
       "4724    64790.0       NaN    2.00    7.0   26.00    290.50    801.0   1953.50   \n",
       "4725    56490.0       NaN   37.00   38.0   39.00   7782.25  14340.5  20898.75   \n",
       "4726    49875.0       NaN   12.50   13.0   13.50   2707.00   4924.0   7141.00   \n",
       "4727       53.0      80.0    1.00    2.0    4.00     32.00     64.0    186.00   \n",
       "4728       80.0    1900.0    2.00    4.0    5.00     64.00    128.0    192.00   \n",
       "4729       80.0    1900.0    1.00    1.0    3.00     32.00     32.0     96.00   \n",
       "4730    56490.0       NaN   18.00   18.0   18.00   4341.25   8322.5  12303.75   \n",
       "4731     3337.0       NaN   25.00   25.0   25.00   6038.00  11576.0  17114.00   \n",
       "4732    58780.0       NaN  323.25  335.5  347.75  30721.00  45348.0  59975.00   \n",
       "\n",
       "          Type  Cryptocurrency  \n",
       "0         mine    Unidentified  \n",
       "1         mine    Unidentified  \n",
       "2         mine    Unidentified  \n",
       "3         mine    Unidentified  \n",
       "4         mine    Unidentified  \n",
       "5         mine    Unidentified  \n",
       "6         mine    Unidentified  \n",
       "7         mine    Unidentified  \n",
       "8         mine    Unidentified  \n",
       "9         mine    Unidentified  \n",
       "10        mine    Unidentified  \n",
       "11        mine    Unidentified  \n",
       "12        mine    Unidentified  \n",
       "13        mine    Unidentified  \n",
       "14        mine    Unidentified  \n",
       "15        mine    Unidentified  \n",
       "16        mine    Unidentified  \n",
       "17        mine    Unidentified  \n",
       "18        mine    Unidentified  \n",
       "19        mine    Unidentified  \n",
       "20        mine    Unidentified  \n",
       "21        mine    Unidentified  \n",
       "22        mine    Unidentified  \n",
       "23        mine    Unidentified  \n",
       "25        mine    Unidentified  \n",
       "26        mine    Unidentified  \n",
       "27        mine    Unidentified  \n",
       "28        mine    Unidentified  \n",
       "29        mine    Unidentified  \n",
       "30        mine    Unidentified  \n",
       "...        ...             ...  \n",
       "4703  not_mine   Does not have  \n",
       "4704      mine          Monero  \n",
       "4705      mine        Etherium  \n",
       "4706  not_mine   Does not have  \n",
       "4707  not_mine   Does not have  \n",
       "4708      mine        Etherium  \n",
       "4709  not_mine   Does not have  \n",
       "4710  not_mine   Does not have  \n",
       "4711      mine        Etherium  \n",
       "4712      mine         Bitcash  \n",
       "4713  not_mine   Does not have  \n",
       "4714      mine          Monero  \n",
       "4715      mine        Etherium  \n",
       "4716      mine        Etherium  \n",
       "4717      mine         Bitcash  \n",
       "4718  not_mine   Does not have  \n",
       "4719      mine         Bitcash  \n",
       "4720  not_mine   Does not have  \n",
       "4721  not_mine   Does not have  \n",
       "4722  not_mine   Does not have  \n",
       "4723      mine        Etherium  \n",
       "4724      mine        Etherium  \n",
       "4725      mine        Litecoin  \n",
       "4726      mine         Bitcash  \n",
       "4727  not_mine   Does not have  \n",
       "4728  not_mine   Does not have  \n",
       "4729  not_mine   Does not have  \n",
       "4730      mine        Litecoin  \n",
       "4731      mine         Bitcash  \n",
       "4732      mine        Etherium  \n",
       "\n",
       "[44287 rows x 33 columns]"
      ]
     },
     "execution_count": 294,
     "metadata": {},
     "output_type": "execute_result"
    }
   ],
   "source": [
    "data = pd.read_csv('./data_identificada.csv')\n",
    "data_combinada = pd.concat([data_N_Mineros,data_N_NoMineros,data],axis = 0)\n",
    "data_combinada"
   ]
  },
  {
   "cell_type": "code",
   "execution_count": 295,
   "metadata": {},
   "outputs": [],
   "source": [
    "import random\n",
    "\n",
    "data_combinada = data_combinada.reset_index()\n",
    "indices = list(data_combinada.index)\n",
    "random.shuffle(indices)"
   ]
  },
  {
   "cell_type": "code",
   "execution_count": 296,
   "metadata": {},
   "outputs": [
    {
     "data": {
      "text/html": [
       "<div>\n",
       "<style scoped>\n",
       "    .dataframe tbody tr th:only-of-type {\n",
       "        vertical-align: middle;\n",
       "    }\n",
       "\n",
       "    .dataframe tbody tr th {\n",
       "        vertical-align: top;\n",
       "    }\n",
       "\n",
       "    .dataframe thead th {\n",
       "        text-align: right;\n",
       "    }\n",
       "</style>\n",
       "<table border=\"1\" class=\"dataframe\">\n",
       "  <thead>\n",
       "    <tr style=\"text-align: right;\">\n",
       "      <th></th>\n",
       "      <th>level_0</th>\n",
       "      <th>index</th>\n",
       "      <th>Name</th>\n",
       "      <th>Netflows</th>\n",
       "      <th>First_Protocol</th>\n",
       "      <th>Second_Protocol</th>\n",
       "      <th>Third_Protocol</th>\n",
       "      <th>p1_d</th>\n",
       "      <th>p2_d</th>\n",
       "      <th>p3_d</th>\n",
       "      <th>...</th>\n",
       "      <th>second_dp</th>\n",
       "      <th>third_dp</th>\n",
       "      <th>p1_ip</th>\n",
       "      <th>p2_ip</th>\n",
       "      <th>p3_ip</th>\n",
       "      <th>p1_ib</th>\n",
       "      <th>p2_ib</th>\n",
       "      <th>p3_ib</th>\n",
       "      <th>Type</th>\n",
       "      <th>Cryptocurrency</th>\n",
       "    </tr>\n",
       "  </thead>\n",
       "  <tbody>\n",
       "    <tr>\n",
       "      <th>15635</th>\n",
       "      <td>16685</td>\n",
       "      <td>9559</td>\n",
       "      <td>18-csves/2002.csv</td>\n",
       "      <td>23</td>\n",
       "      <td>ICMP6</td>\n",
       "      <td>ICMP</td>\n",
       "      <td>TCP</td>\n",
       "      <td>0.0</td>\n",
       "      <td>0.0</td>\n",
       "      <td>0.0</td>\n",
       "      <td>...</td>\n",
       "      <td>1281.0</td>\n",
       "      <td>49604.0</td>\n",
       "      <td>1.0</td>\n",
       "      <td>1.0</td>\n",
       "      <td>1.0</td>\n",
       "      <td>32.0</td>\n",
       "      <td>32.0</td>\n",
       "      <td>40.0</td>\n",
       "      <td>mine</td>\n",
       "      <td>Unidentified</td>\n",
       "    </tr>\n",
       "    <tr>\n",
       "      <th>30000</th>\n",
       "      <td>32017</td>\n",
       "      <td>8664</td>\n",
       "      <td>18-csves/1107.csv</td>\n",
       "      <td>22</td>\n",
       "      <td>ICMP6</td>\n",
       "      <td>ICMP</td>\n",
       "      <td>NaN</td>\n",
       "      <td>0.0</td>\n",
       "      <td>0.0</td>\n",
       "      <td>0.0</td>\n",
       "      <td>...</td>\n",
       "      <td>1281.0</td>\n",
       "      <td>34304.0</td>\n",
       "      <td>1.0</td>\n",
       "      <td>1.0</td>\n",
       "      <td>1.0</td>\n",
       "      <td>32.0</td>\n",
       "      <td>32.0</td>\n",
       "      <td>32.0</td>\n",
       "      <td>mine</td>\n",
       "      <td>Unidentified</td>\n",
       "    </tr>\n",
       "    <tr>\n",
       "      <th>29763</th>\n",
       "      <td>31769</td>\n",
       "      <td>6473</td>\n",
       "      <td>17-csves/1457.csv</td>\n",
       "      <td>17</td>\n",
       "      <td>ICMP6</td>\n",
       "      <td>ICMP</td>\n",
       "      <td>TCP</td>\n",
       "      <td>0.0</td>\n",
       "      <td>0.0</td>\n",
       "      <td>0.0</td>\n",
       "      <td>...</td>\n",
       "      <td>8084.0</td>\n",
       "      <td>1281.0</td>\n",
       "      <td>1.0</td>\n",
       "      <td>1.0</td>\n",
       "      <td>1.0</td>\n",
       "      <td>32.0</td>\n",
       "      <td>52.0</td>\n",
       "      <td>92.0</td>\n",
       "      <td>mine</td>\n",
       "      <td>Unidentified</td>\n",
       "    </tr>\n",
       "    <tr>\n",
       "      <th>28791</th>\n",
       "      <td>30720</td>\n",
       "      <td>26848</td>\n",
       "      <td>19-csves/9197.csv</td>\n",
       "      <td>21</td>\n",
       "      <td>ICMP6</td>\n",
       "      <td>ICMP</td>\n",
       "      <td>UDP</td>\n",
       "      <td>0.0</td>\n",
       "      <td>0.0</td>\n",
       "      <td>0.0</td>\n",
       "      <td>...</td>\n",
       "      <td>1281.0</td>\n",
       "      <td>547.0</td>\n",
       "      <td>1.0</td>\n",
       "      <td>1.0</td>\n",
       "      <td>1.0</td>\n",
       "      <td>32.0</td>\n",
       "      <td>32.0</td>\n",
       "      <td>40.0</td>\n",
       "      <td>mine</td>\n",
       "      <td>Unidentified</td>\n",
       "    </tr>\n",
       "    <tr>\n",
       "      <th>35421</th>\n",
       "      <td>37818</td>\n",
       "      <td>31660</td>\n",
       "      <td>20-csves/3821.csv</td>\n",
       "      <td>31</td>\n",
       "      <td>ICMP6</td>\n",
       "      <td>UDP</td>\n",
       "      <td>NaN</td>\n",
       "      <td>0.0</td>\n",
       "      <td>0.0</td>\n",
       "      <td>0.0</td>\n",
       "      <td>...</td>\n",
       "      <td>34816.0</td>\n",
       "      <td>34304.0</td>\n",
       "      <td>1.0</td>\n",
       "      <td>1.0</td>\n",
       "      <td>1.0</td>\n",
       "      <td>32.0</td>\n",
       "      <td>32.0</td>\n",
       "      <td>32.0</td>\n",
       "      <td>mine</td>\n",
       "      <td>Unidentified</td>\n",
       "    </tr>\n",
       "  </tbody>\n",
       "</table>\n",
       "<p>5 rows × 34 columns</p>\n",
       "</div>"
      ],
      "text/plain": [
       "       level_0  index               Name  Netflows First_Protocol  \\\n",
       "15635    16685   9559  18-csves/2002.csv        23          ICMP6   \n",
       "30000    32017   8664  18-csves/1107.csv        22          ICMP6   \n",
       "29763    31769   6473  17-csves/1457.csv        17          ICMP6   \n",
       "28791    30720  26848  19-csves/9197.csv        21          ICMP6   \n",
       "35421    37818  31660  20-csves/3821.csv        31          ICMP6   \n",
       "\n",
       "      Second_Protocol Third_Protocol  p1_d  p2_d  p3_d  ...  second_dp  \\\n",
       "15635            ICMP            TCP   0.0   0.0   0.0  ...     1281.0   \n",
       "30000            ICMP            NaN   0.0   0.0   0.0  ...     1281.0   \n",
       "29763            ICMP            TCP   0.0   0.0   0.0  ...     8084.0   \n",
       "28791            ICMP            UDP   0.0   0.0   0.0  ...     1281.0   \n",
       "35421             UDP            NaN   0.0   0.0   0.0  ...    34816.0   \n",
       "\n",
       "       third_dp  p1_ip  p2_ip  p3_ip  p1_ib  p2_ib  p3_ib  Type  \\\n",
       "15635   49604.0    1.0    1.0    1.0   32.0   32.0   40.0  mine   \n",
       "30000   34304.0    1.0    1.0    1.0   32.0   32.0   32.0  mine   \n",
       "29763    1281.0    1.0    1.0    1.0   32.0   52.0   92.0  mine   \n",
       "28791     547.0    1.0    1.0    1.0   32.0   32.0   40.0  mine   \n",
       "35421   34304.0    1.0    1.0    1.0   32.0   32.0   32.0  mine   \n",
       "\n",
       "       Cryptocurrency  \n",
       "15635    Unidentified  \n",
       "30000    Unidentified  \n",
       "29763    Unidentified  \n",
       "28791    Unidentified  \n",
       "35421    Unidentified  \n",
       "\n",
       "[5 rows x 34 columns]"
      ]
     },
     "execution_count": 296,
     "metadata": {},
     "output_type": "execute_result"
    }
   ],
   "source": [
    "data_combinada = data_combinada.reindex(indices)\n",
    "data_combinada.head()"
   ]
  },
  {
   "cell_type": "code",
   "execution_count": 289,
   "metadata": {},
   "outputs": [],
   "source": [
    "feature_selection = ['p1_d', 'p2_d','min_d','#sp','#dp','duration','first_sp', 'first_dp', 'second_sp','second_dp','Avg_bps', 'Avg_pps', 'Avg_bpp','p2_ip','Type']"
   ]
  },
  {
   "cell_type": "code",
   "execution_count": 297,
   "metadata": {},
   "outputs": [
    {
     "data": {
      "text/plain": [
       "Index(['level_0', 'index', 'Name', 'Netflows', 'First_Protocol',\n",
       "       'Second_Protocol', 'Third_Protocol', 'p1_d', 'p2_d', 'p3_d', 'duration',\n",
       "       'max_d', 'min_d', '#packets', 'Avg_bps', 'Avg_pps', 'Avg_bpp', '#Bytes',\n",
       "       '#sp', '#dp', 'first_sp', 'second_sp', 'third_sp', 'first_dp',\n",
       "       'second_dp', 'third_dp', 'p1_ip', 'p2_ip', 'p3_ip', 'p1_ib', 'p2_ib',\n",
       "       'p3_ib', 'Type', 'Cryptocurrency'],\n",
       "      dtype='object')"
      ]
     },
     "execution_count": 297,
     "metadata": {},
     "output_type": "execute_result"
    }
   ],
   "source": [
    "data_combinada.columns"
   ]
  },
  {
   "cell_type": "code",
   "execution_count": 298,
   "metadata": {},
   "outputs": [],
   "source": [
    "data_combinada = data_combinada[feature_selection]"
   ]
  },
  {
   "cell_type": "code",
   "execution_count": 315,
   "metadata": {},
   "outputs": [
    {
     "data": {
      "text/plain": [
       "p1_d         0\n",
       "p2_d         0\n",
       "min_d        0\n",
       "#sp          0\n",
       "#dp          0\n",
       "duration     0\n",
       "first_sp     0\n",
       "first_dp     0\n",
       "second_sp    0\n",
       "second_dp    0\n",
       "Avg_bps      0\n",
       "Avg_pps      0\n",
       "Avg_bpp      0\n",
       "p2_ip        0\n",
       "Type         0\n",
       "dtype: int64"
      ]
     },
     "execution_count": 315,
     "metadata": {},
     "output_type": "execute_result"
    }
   ],
   "source": [
    "data_combinada.isnull().sum()"
   ]
  },
  {
   "cell_type": "code",
   "execution_count": 310,
   "metadata": {},
   "outputs": [],
   "source": [
    "punter = pd.concat([data_combinada['second_sp'],data_combinada['second_dp']],axis=1)\n",
    "imputer = SimpleImputer(missing_values = np.nan, strategy = \"median\")\n",
    "values = imputer.fit_transform(punter)"
   ]
  },
  {
   "cell_type": "code",
   "execution_count": 314,
   "metadata": {},
   "outputs": [],
   "source": [
    "unter = pd.DataFrame(values, columns = punter.columns)\n",
    "data_combinada['second_sp'] = unter['second_sp']\n",
    "data_combinada['second_dp'] = unter['second_dp']"
   ]
  },
  {
   "cell_type": "code",
   "execution_count": 316,
   "metadata": {},
   "outputs": [
    {
     "data": {
      "text/plain": [
       "<44287x2 sparse matrix of type '<class 'numpy.float64'>'\n",
       "\twith 44287 stored elements in Compressed Sparse Row format>"
      ]
     },
     "execution_count": 316,
     "metadata": {},
     "output_type": "execute_result"
    }
   ],
   "source": [
    "data_categoric = data_combinada[data_combinada.select_dtypes(include = ['object']).columns.to_list()]\n",
    "one_hot = OneHotEncoder()\n",
    "one_hot.fit_transform(data_categoric)"
   ]
  },
  {
   "cell_type": "code",
   "execution_count": 317,
   "metadata": {
    "scrolled": true
   },
   "outputs": [
    {
     "data": {
      "text/html": [
       "<div>\n",
       "<style scoped>\n",
       "    .dataframe tbody tr th:only-of-type {\n",
       "        vertical-align: middle;\n",
       "    }\n",
       "\n",
       "    .dataframe tbody tr th {\n",
       "        vertical-align: top;\n",
       "    }\n",
       "\n",
       "    .dataframe thead th {\n",
       "        text-align: right;\n",
       "    }\n",
       "</style>\n",
       "<table border=\"1\" class=\"dataframe\">\n",
       "  <thead>\n",
       "    <tr style=\"text-align: right;\">\n",
       "      <th></th>\n",
       "      <th>Type_mine</th>\n",
       "      <th>Type_not_mine</th>\n",
       "    </tr>\n",
       "  </thead>\n",
       "  <tbody>\n",
       "    <tr>\n",
       "      <th>15635</th>\n",
       "      <td>1</td>\n",
       "      <td>0</td>\n",
       "    </tr>\n",
       "    <tr>\n",
       "      <th>30000</th>\n",
       "      <td>1</td>\n",
       "      <td>0</td>\n",
       "    </tr>\n",
       "  </tbody>\n",
       "</table>\n",
       "</div>"
      ],
      "text/plain": [
       "       Type_mine  Type_not_mine\n",
       "15635          1              0\n",
       "30000          1              0"
      ]
     },
     "execution_count": 317,
     "metadata": {},
     "output_type": "execute_result"
    }
   ],
   "source": [
    "data_dummy = pd.get_dummies(data_categoric)\n",
    "data_dummy.head(2)"
   ]
  },
  {
   "cell_type": "code",
   "execution_count": 319,
   "metadata": {},
   "outputs": [
    {
     "data": {
      "text/plain": [
       "Index(['p1_d', 'p2_d', 'min_d', '#sp', '#dp', 'duration', 'first_sp',\n",
       "       'first_dp', 'second_sp', 'second_dp', 'Avg_bps', 'Avg_pps', 'Avg_bpp',\n",
       "       'p2_ip'],\n",
       "      dtype='object')"
      ]
     },
     "execution_count": 319,
     "metadata": {},
     "output_type": "execute_result"
    }
   ],
   "source": [
    "data_combinada = data_combinada.drop(data_categoric, axis = 1)\n",
    "data_combinada.columns"
   ]
  },
  {
   "cell_type": "code",
   "execution_count": 320,
   "metadata": {
    "scrolled": true
   },
   "outputs": [
    {
     "data": {
      "text/plain": [
       "Index(['p1_d', 'p2_d', 'min_d', '#sp', '#dp', 'duration', 'first_sp',\n",
       "       'first_dp', 'second_sp', 'second_dp', 'Avg_bps', 'Avg_pps', 'Avg_bpp',\n",
       "       'p2_ip', 'Type_mine', 'Type_not_mine'],\n",
       "      dtype='object')"
      ]
     },
     "execution_count": 320,
     "metadata": {},
     "output_type": "execute_result"
    }
   ],
   "source": [
    "data_combinada = pd.concat([data_combinada,data_dummy], axis = 1)\n",
    "data_combinada.columns"
   ]
  },
  {
   "cell_type": "code",
   "execution_count": 324,
   "metadata": {},
   "outputs": [],
   "source": [
    "feature_selection = ['p1_d', 'p2_d','min_d','#sp','#dp','duration','first_sp', 'first_dp', 'second_sp','second_dp','Avg_bps', 'Avg_pps', 'Avg_bpp','p2_ip']"
   ]
  },
  {
   "cell_type": "code",
   "execution_count": 325,
   "metadata": {},
   "outputs": [],
   "source": [
    "X = data_combinada[Feature_Selection]\n",
    "y = data_combinada['Type_mine']"
   ]
  },
  {
   "cell_type": "code",
   "execution_count": 346,
   "metadata": {},
   "outputs": [],
   "source": [
    "X_train, X_validate, y_train, y_validate = train_test_split(X,y, train_size = 0.7)\n",
    "X_trainII, X_testII, y_trainII, y_testII = train_test_split(X_train,y_train, train_size = 0.7)"
   ]
  },
  {
   "cell_type": "code",
   "execution_count": 348,
   "metadata": {},
   "outputs": [],
   "source": [
    "model_combinado = DecisionTreeClassifier(\n",
    "    criterion='entropy', \n",
    "    max_depth=5,      \n",
    "    min_samples_split=2,\n",
    "    min_samples_leaf=1,\n",
    "    random_state=None,  \n",
    "    max_leaf_nodes=None, \n",
    "    min_impurity_decrease=0.0, \n",
    "    class_weight=None)"
   ]
  },
  {
   "cell_type": "code",
   "execution_count": 349,
   "metadata": {},
   "outputs": [
    {
     "data": {
      "text/plain": [
       "DecisionTreeClassifier(ccp_alpha=0.0, class_weight=None, criterion='entropy',\n",
       "                       max_depth=5, max_features=None, max_leaf_nodes=None,\n",
       "                       min_impurity_decrease=0.0, min_impurity_split=None,\n",
       "                       min_samples_leaf=1, min_samples_split=2,\n",
       "                       min_weight_fraction_leaf=0.0, presort='deprecated',\n",
       "                       random_state=None, splitter='best')"
      ]
     },
     "execution_count": 349,
     "metadata": {},
     "output_type": "execute_result"
    }
   ],
   "source": [
    "model_combinado.fit(X_trainII,y_trainII)"
   ]
  },
  {
   "cell_type": "code",
   "execution_count": 350,
   "metadata": {},
   "outputs": [
    {
     "name": "stdout",
     "output_type": "stream",
     "text": [
      "\u001b[1mProfundidad del árbol: 5\u001b[0m\n",
      "\u001b[1mNúmero de nodos terminales: 24\u001b[0m\n"
     ]
    },
    {
     "data": {
      "text/plain": [
       "[Text(330.90697674418607, 498.3, 'first_dp <= 445.0\\nsamples = 21700\\nvalue = [1312, 20388]\\nclass = i'),\n",
       " Text(204.38372093023256, 407.70000000000005, 'first_sp <= 74.0\\nsamples = 1484\\nvalue = [1261, 223]\\nclass = T'),\n",
       " Text(103.81395348837209, 317.1, '#dp <= 149.0\\nsamples = 409\\nvalue = [203, 206]\\nclass = i'),\n",
       " Text(51.906976744186046, 226.5, 'first_dp <= 60.0\\nsamples = 213\\nvalue = [181, 32]\\nclass = T'),\n",
       " Text(25.953488372093023, 135.89999999999998, 'first_sp <= 26.5\\nsamples = 192\\nvalue = [180, 12]\\nclass = T'),\n",
       " Text(12.976744186046512, 45.299999999999955, 'samples = 4\\nvalue = [0, 4]\\nclass = i'),\n",
       " Text(38.93023255813954, 45.299999999999955, 'samples = 188\\nvalue = [180, 8]\\nclass = T'),\n",
       " Text(77.86046511627907, 135.89999999999998, '#sp <= 24.0\\nsamples = 21\\nvalue = [1, 20]\\nclass = i'),\n",
       " Text(64.88372093023256, 45.299999999999955, 'samples = 20\\nvalue = [0, 20]\\nclass = i'),\n",
       " Text(90.83720930232558, 45.299999999999955, 'samples = 1\\nvalue = [1, 0]\\nclass = T'),\n",
       " Text(155.72093023255815, 226.5, '#dp <= 182.0\\nsamples = 196\\nvalue = [22, 174]\\nclass = i'),\n",
       " Text(129.7674418604651, 135.89999999999998, '#sp <= 150.5\\nsamples = 180\\nvalue = [7, 173]\\nclass = i'),\n",
       " Text(116.79069767441861, 45.299999999999955, 'samples = 3\\nvalue = [2, 1]\\nclass = T'),\n",
       " Text(142.74418604651163, 45.299999999999955, 'samples = 177\\nvalue = [5, 172]\\nclass = i'),\n",
       " Text(181.67441860465115, 135.89999999999998, '#dp <= 579.5\\nsamples = 16\\nvalue = [15, 1]\\nclass = T'),\n",
       " Text(168.69767441860466, 45.299999999999955, 'samples = 15\\nvalue = [15, 0]\\nclass = T'),\n",
       " Text(194.65116279069767, 45.299999999999955, 'samples = 1\\nvalue = [0, 1]\\nclass = i'),\n",
       " Text(304.95348837209303, 317.1, '#sp <= 14.5\\nsamples = 1075\\nvalue = [1058, 17]\\nclass = T'),\n",
       " Text(259.5348837209302, 226.5, '#dp <= 9.5\\nsamples = 45\\nvalue = [30, 15]\\nclass = T'),\n",
       " Text(233.58139534883722, 135.89999999999998, 'min_d <= 6.545\\nsamples = 22\\nvalue = [10, 12]\\nclass = i'),\n",
       " Text(220.6046511627907, 45.299999999999955, 'samples = 19\\nvalue = [10, 9]\\nclass = T'),\n",
       " Text(246.5581395348837, 45.299999999999955, 'samples = 3\\nvalue = [0, 3]\\nclass = i'),\n",
       " Text(285.48837209302326, 135.89999999999998, 'p2_d <= 0.448\\nsamples = 23\\nvalue = [20, 3]\\nclass = T'),\n",
       " Text(272.51162790697674, 45.299999999999955, 'samples = 10\\nvalue = [10, 0]\\nclass = T'),\n",
       " Text(298.4651162790698, 45.299999999999955, 'samples = 13\\nvalue = [10, 3]\\nclass = T'),\n",
       " Text(350.3720930232558, 226.5, 'p2_d <= 1.979\\nsamples = 1030\\nvalue = [1028, 2]\\nclass = T'),\n",
       " Text(337.3953488372093, 135.89999999999998, 'p2_d <= 1.954\\nsamples = 374\\nvalue = [372, 2]\\nclass = T'),\n",
       " Text(324.4186046511628, 45.299999999999955, 'samples = 373\\nvalue = [372, 1]\\nclass = T'),\n",
       " Text(350.3720930232558, 45.299999999999955, 'samples = 1\\nvalue = [0, 1]\\nclass = i'),\n",
       " Text(363.3488372093023, 135.89999999999998, 'samples = 656\\nvalue = [656, 0]\\nclass = T'),\n",
       " Text(457.43023255813955, 407.70000000000005, 'first_sp <= 26.5\\nsamples = 20216\\nvalue = [51, 20165]\\nclass = i'),\n",
       " Text(415.25581395348837, 317.1, 'first_dp <= 34176.0\\nsamples = 18415\\nvalue = [1, 18414]\\nclass = i'),\n",
       " Text(402.27906976744185, 226.5, 'first_dp <= 29488.5\\nsamples = 1011\\nvalue = [1, 1010]\\nclass = i'),\n",
       " Text(389.30232558139534, 135.89999999999998, 'samples = 1010\\nvalue = [0, 1010]\\nclass = i'),\n",
       " Text(415.25581395348837, 135.89999999999998, 'samples = 1\\nvalue = [1, 0]\\nclass = T'),\n",
       " Text(428.2325581395349, 226.5, 'samples = 17404\\nvalue = [0, 17404]\\nclass = i'),\n",
       " Text(499.6046511627907, 317.1, '#dp <= 12.0\\nsamples = 1801\\nvalue = [50, 1751]\\nclass = i'),\n",
       " Text(467.16279069767444, 226.5, 'p2_d <= 0.003\\nsamples = 1769\\nvalue = [25, 1744]\\nclass = i'),\n",
       " Text(441.2093023255814, 135.89999999999998, 'first_dp <= 25806.0\\nsamples = 39\\nvalue = [22, 17]\\nclass = T'),\n",
       " Text(428.2325581395349, 45.299999999999955, 'samples = 15\\nvalue = [2, 13]\\nclass = i'),\n",
       " Text(454.1860465116279, 45.299999999999955, 'samples = 24\\nvalue = [20, 4]\\nclass = T'),\n",
       " Text(493.1162790697674, 135.89999999999998, 'first_dp <= 2616.0\\nsamples = 1730\\nvalue = [3, 1727]\\nclass = i'),\n",
       " Text(480.13953488372096, 45.299999999999955, 'samples = 388\\nvalue = [3, 385]\\nclass = i'),\n",
       " Text(506.09302325581393, 45.299999999999955, 'samples = 1342\\nvalue = [0, 1342]\\nclass = i'),\n",
       " Text(532.046511627907, 226.5, 'first_sp <= 445.0\\nsamples = 32\\nvalue = [25, 7]\\nclass = T'),\n",
       " Text(519.0697674418604, 135.89999999999998, 'samples = 25\\nvalue = [25, 0]\\nclass = T'),\n",
       " Text(545.0232558139535, 135.89999999999998, 'samples = 7\\nvalue = [0, 7]\\nclass = i')]"
      ]
     },
     "execution_count": 350,
     "metadata": {},
     "output_type": "execute_result"
    },
    {
     "data": {
      "image/png": "[encoded data removed]",
      "text/plain": [
       "<Figure size 720x720 with 1 Axes>"
      ]
     },
     "metadata": {
      "needs_background": "light"
     },
     "output_type": "display_data"
    }
   ],
   "source": [
    "fig, ax = plt.subplots(figsize = (10,10))\n",
    "\n",
    "print(colored(f'Profundidad del árbol: {model_combinado.get_depth()}', attrs=['bold']))\n",
    "print(colored(f'Número de nodos terminales: {model_combinado.get_n_leaves()}', attrs=['bold']))\n",
    "\n",
    "\n",
    "plot_tree(\n",
    "    decision_tree = model_combinado,\n",
    "    feature_names = X_trainII.columns.tolist(),\n",
    "    class_names   = 'Tipo de trafico minero',\n",
    "    filled        = True,\n",
    "    impurity      = False,\n",
    "    fontsize      = 17,\n",
    "    ax            = ax\n",
    ")"
   ]
  },
  {
   "cell_type": "code",
   "execution_count": 351,
   "metadata": {},
   "outputs": [
    {
     "name": "stdout",
     "output_type": "stream",
     "text": [
      "fit_time: 0.05 (+/- 0.02)\n",
      "score_time: 0.03 (+/- 0.02)\n",
      "test_accuracy: 1.00 (+/- 0.00)\n",
      "test_precision_weighted: 1.00 (+/- 0.00)\n",
      "test_recall_weighted: 1.00 (+/- 0.00)\n",
      "test_f1_weighted: 1.00 (+/- 0.00)\n"
     ]
    }
   ],
   "source": [
    "scoring = ['accuracy', 'precision_weighted', 'recall_weighted', 'f1_weighted']\n",
    "scores = cross_validate(model_combinado, X_validate, y_validate, scoring=scoring, cv=10, return_train_score=False)\n",
    "\n",
    "for key in scores:\n",
    "    score = scores[key]\n",
    "    print(\"%s: %0.2f (+/- %0.2f)\" % (key, score.mean(), score.std() * 2))"
   ]
  },
  {
   "cell_type": "code",
   "execution_count": 352,
   "metadata": {},
   "outputs": [],
   "source": [
    "predict_validate = model_combinado.predict(X_validate)"
   ]
  },
  {
   "cell_type": "code",
   "execution_count": 353,
   "metadata": {
    "scrolled": true
   },
   "outputs": [
    {
     "data": {
      "text/plain": [
       "([<matplotlib.axis.YTick at 0x17f37036438>,\n",
       "  <matplotlib.axis.YTick at 0x17f37036d30>],\n",
       " <a list of 2 Text yticklabel objects>)"
      ]
     },
     "execution_count": 353,
     "metadata": {},
     "output_type": "execute_result"
    },
    {
     "data": {
      "image/png": "[encoded data removed]",
      "text/plain": [
       "<Figure size 432x288 with 2 Axes>"
      ]
     },
     "metadata": {
      "needs_background": "light"
     },
     "output_type": "display_data"
    }
   ],
   "source": [
    "churm = metrics.confusion_matrix(y_validate, predict_validate)\n",
    "plt.imshow(churm, cmap=plt.cm.OrRd)\n",
    "plt.colorbar()\n",
    "tick_marks = np.arange(2)\n",
    "plt.xticks(tick_marks, ['Not_mine','Mine'])\n",
    "plt.yticks(tick_marks, ['Not_mine','Mine'])"
   ]
  },
  {
   "cell_type": "code",
   "execution_count": 345,
   "metadata": {},
   "outputs": [
    {
     "data": {
      "text/html": [
       "<div>\n",
       "<style scoped>\n",
       "    .dataframe tbody tr th:only-of-type {\n",
       "        vertical-align: middle;\n",
       "    }\n",
       "\n",
       "    .dataframe tbody tr th {\n",
       "        vertical-align: top;\n",
       "    }\n",
       "\n",
       "    .dataframe thead th {\n",
       "        text-align: right;\n",
       "    }\n",
       "</style>\n",
       "<table border=\"1\" class=\"dataframe\">\n",
       "  <thead>\n",
       "    <tr style=\"text-align: right;\">\n",
       "      <th></th>\n",
       "      <th>0</th>\n",
       "      <th>1</th>\n",
       "    </tr>\n",
       "  </thead>\n",
       "  <tbody>\n",
       "    <tr>\n",
       "      <th>0</th>\n",
       "      <td>737</td>\n",
       "      <td>13</td>\n",
       "    </tr>\n",
       "    <tr>\n",
       "      <th>1</th>\n",
       "      <td>19</td>\n",
       "      <td>12518</td>\n",
       "    </tr>\n",
       "  </tbody>\n",
       "</table>\n",
       "</div>"
      ],
      "text/plain": [
       "     0      1\n",
       "0  737     13\n",
       "1   19  12518"
      ]
     },
     "execution_count": 345,
     "metadata": {},
     "output_type": "execute_result"
    }
   ],
   "source": [
    "pd.DataFrame(churm)"
   ]
  },
  {
   "cell_type": "code",
   "execution_count": 344,
   "metadata": {},
   "outputs": [
    {
     "name": "stdout",
     "output_type": "stream",
     "text": [
      "Exactitud:  0.9975916309174381\n",
      "Kappa:  0.9774751536615749\n"
     ]
    }
   ],
   "source": [
    "print(\"Exactitud: \", metrics.accuracy_score(y_validate, predict_validate))\n",
    "print(\"Kappa: \", metrics.cohen_kappa_score(y_validate, predict_validate))"
   ]
  },
  {
   "cell_type": "code",
   "execution_count": 343,
   "metadata": {},
   "outputs": [
    {
     "name": "stdout",
     "output_type": "stream",
     "text": [
      "Precisión     :  0.9989625728194079\n",
      "Recall        :  0.9984844859216718\n",
      "Especificidad :  0.9984844859216718\n",
      "F1-score      :  0.9987234721557364\n"
     ]
    }
   ],
   "source": [
    "print(\"Precisión     : \", metrics.precision_score(y_validate, predict_validate, labels=[1], average='macro'))\n",
    "print(\"Recall        : \", metrics.recall_score(y_validate, predict_validate, labels=[1], average='macro'))\n",
    "\n",
    "VP = np.sum(churm[1:2,1:2])\n",
    "FN = np.sum(churm[1,0:1])\n",
    "specificity = VP/(VP+FN)\n",
    "\n",
    "print(\"Especificidad : \", specificity)\n",
    "\n",
    "print(\"F1-score      : \", metrics.f1_score(y_validate, predict_validate, labels=[1], average='macro'))"
   ]
  },
  {
   "cell_type": "code",
   "execution_count": 342,
   "metadata": {},
   "outputs": [
    {
     "name": "stdout",
     "output_type": "stream",
     "text": [
      "Precisión     :  0.9748677248677249\n",
      "Recall        :  0.9826666666666667\n",
      "Especificidad :  0.9826666666666667\n",
      "F1-score      :  0.9787516600265604\n"
     ]
    }
   ],
   "source": [
    "print(\"Precisión     : \", metrics.precision_score(y_validate, predict_validate, labels=[0], average='macro'))\n",
    "print(\"Recall        : \", metrics.recall_score(y_validate, predict_validate, labels=[0], average='macro'))\n",
    "\n",
    "VP = np.sum(churm[0:1,0:1])\n",
    "FN = np.sum(churm[0,1:2])\n",
    "specificity = VP/(VP+FN)\n",
    "print(\"Especificidad : \", specificity)\n",
    "\n",
    "print(\"F1-score      : \", metrics.f1_score(y_validate, predict_validate, labels=[0], average='macro'))"
   ]
  }
 ],
 "metadata": {
  "kernelspec": {
   "display_name": "Python 3",
   "language": "python",
   "name": "python3"
  },
  "language_info": {
   "codemirror_mode": {
    "name": "ipython",
    "version": 3
   },
   "file_extension": ".py",
   "mimetype": "text/x-python",
   "name": "python",
   "nbconvert_exporter": "python",
   "pygments_lexer": "ipython3",
   "version": "3.7.3"
  }
 },
 "nbformat": 4,
 "nbformat_minor": 2
}
