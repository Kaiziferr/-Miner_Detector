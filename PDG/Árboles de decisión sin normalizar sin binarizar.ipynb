{
 "cells": [
  {
   "cell_type": "code",
   "execution_count": 1,
   "metadata": {},
   "outputs": [],
   "source": [
    "import pandas as pd\n",
    "import numpy as np\n",
    "import seaborn as sns\n",
    "import matplotlib.pyplot as plt\n",
    "import random\n",
    "\n",
    "\n",
    "from termcolor import colored\n",
    "\n",
    "from sklearn.model_selection import train_test_split, cross_validate, KFold\n",
    "from sklearn.preprocessing import OneHotEncoder\n",
    "from sklearn.impute import SimpleImputer\n",
    "\n",
    "# Model\n",
    "# --------------------------------------------------------------------\n",
    "from sklearn.tree import DecisionTreeClassifier, plot_tree\n",
    "from sklearn import metrics"
   ]
  },
  {
   "cell_type": "code",
   "execution_count": 2,
   "metadata": {},
   "outputs": [],
   "source": [
    "def metricas(validacion, prediccion, churm):\n",
    "    \n",
    "    print(\"Exactitud: \", metrics.accuracy_score(validacion, prediccion))\n",
    "    print(\"Kappa: \", metrics.cohen_kappa_score(validacion, prediccion))\n",
    "    \n",
    "    print(colored('Predicciones de los registros mineros', attrs=['bold']))\n",
    "    \n",
    "    print(\"Precisión: \",  metrics.precision_score(validacion, prediccion, labels=[1], average='macro'))\n",
    "    print(\"Recall: \",  metrics.recall_score(validacion, prediccion, labels=[1], average='macro'))\n",
    "    \n",
    "    VP = np.sum(churm[1:2,1:2])\n",
    "    FN = np.sum(churm[1,0:1])\n",
    "    specificity = VP/(VP+FN)\n",
    "    \n",
    "    print(\"Especificidad : \", specificity)\n",
    "    print(\"F1-score      : \", metrics.f1_score(validacion, prediccion, labels=[1], average='macro'))\n",
    "    \n",
    "    \n",
    "    print(colored('Predicciones de los registros no mineros', attrs=['bold']))\n",
    "    \n",
    "    print(\"Precisión: \",  metrics.precision_score(validacion, prediccion, labels=[0], average='macro'))\n",
    "    print(\"Recall: \",  metrics.recall_score(validacion, prediccion, labels=[0], average='macro'))\n",
    "    \n",
    "    VP = np.sum(churm[0:1,0:1])\n",
    "    FN = np.sum(churm[0,1:2])\n",
    "    specificity = VP/(VP+FN)\n",
    "    \n",
    "    print(\"Especificidad : \", specificity)\n",
    "    print(\"F1-score      : \", metrics.f1_score(validacion, prediccion, labels=[0], average='macro'))"
   ]
  },
  {
   "cell_type": "code",
   "execution_count": 3,
   "metadata": {
    "scrolled": true
   },
   "outputs": [],
   "source": [
    "def matriz_confusion(validacion, prediccion, cmap):\n",
    "    print(colored('Matriz de confusión', attrs=['bold']))\n",
    "    churm = metrics.confusion_matrix(validacion, prediccion)\n",
    "    plt.imshow(churm, cmap=cmap)\n",
    "    plt.colorbar()\n",
    "    tick_marks = np.arange(2)\n",
    "    plt.xticks(tick_marks, ['Not_mine','Mine'])\n",
    "    plt.yticks(tick_marks, ['Not_mine','Mine'])\n",
    "    return churm"
   ]
  },
  {
   "cell_type": "markdown",
   "metadata": {},
   "source": [
    "# Load Data"
   ]
  },
  {
   "cell_type": "code",
   "execution_count": 4,
   "metadata": {},
   "outputs": [
    {
     "data": {
      "text/html": [
       "<div>\n",
       "<style scoped>\n",
       "    .dataframe tbody tr th:only-of-type {\n",
       "        vertical-align: middle;\n",
       "    }\n",
       "\n",
       "    .dataframe tbody tr th {\n",
       "        vertical-align: top;\n",
       "    }\n",
       "\n",
       "    .dataframe thead th {\n",
       "        text-align: right;\n",
       "    }\n",
       "</style>\n",
       "<table border=\"1\" class=\"dataframe\">\n",
       "  <thead>\n",
       "    <tr style=\"text-align: right;\">\n",
       "      <th></th>\n",
       "      <th>Netflows</th>\n",
       "      <th>First_Protocol</th>\n",
       "      <th>p1_d</th>\n",
       "      <th>p2_d</th>\n",
       "      <th>p3_d</th>\n",
       "      <th>duration</th>\n",
       "      <th>max_d</th>\n",
       "      <th>min_d</th>\n",
       "      <th>#packets</th>\n",
       "      <th>Avg_bps</th>\n",
       "      <th>...</th>\n",
       "      <th>second_dp</th>\n",
       "      <th>third_dp</th>\n",
       "      <th>p1_ip</th>\n",
       "      <th>p2_ip</th>\n",
       "      <th>p3_ip</th>\n",
       "      <th>p1_ib</th>\n",
       "      <th>p2_ib</th>\n",
       "      <th>p3_ib</th>\n",
       "      <th>Type</th>\n",
       "      <th>Cryptocurrency</th>\n",
       "    </tr>\n",
       "  </thead>\n",
       "  <tbody>\n",
       "    <tr>\n",
       "      <th>0</th>\n",
       "      <td>400</td>\n",
       "      <td>TCP</td>\n",
       "      <td>0.0</td>\n",
       "      <td>0.0</td>\n",
       "      <td>9.04175</td>\n",
       "      <td>4287.992</td>\n",
       "      <td>65.519</td>\n",
       "      <td>0.0</td>\n",
       "      <td>6750</td>\n",
       "      <td>360512</td>\n",
       "      <td>...</td>\n",
       "      <td>53.0</td>\n",
       "      <td>80.0</td>\n",
       "      <td>1.0</td>\n",
       "      <td>1.0</td>\n",
       "      <td>5.5</td>\n",
       "      <td>32.0</td>\n",
       "      <td>33.0</td>\n",
       "      <td>873.0</td>\n",
       "      <td>not_mine</td>\n",
       "      <td>Does not have</td>\n",
       "    </tr>\n",
       "  </tbody>\n",
       "</table>\n",
       "<p>1 rows × 29 columns</p>\n",
       "</div>"
      ],
      "text/plain": [
       "   Netflows First_Protocol  p1_d  p2_d     p3_d  duration   max_d  min_d  \\\n",
       "0       400            TCP   0.0   0.0  9.04175  4287.992  65.519    0.0   \n",
       "\n",
       "   #packets  Avg_bps  ...  second_dp  third_dp  p1_ip  p2_ip  p3_ip  p1_ib  \\\n",
       "0      6750   360512  ...       53.0      80.0    1.0    1.0    5.5   32.0   \n",
       "\n",
       "   p2_ib  p3_ib      Type  Cryptocurrency  \n",
       "0   33.0  873.0  not_mine   Does not have  \n",
       "\n",
       "[1 rows x 29 columns]"
      ]
     },
     "execution_count": 4,
     "metadata": {},
     "output_type": "execute_result"
    }
   ],
   "source": [
    "dataA = pd.read_csv('./data_identificada.csv').drop(['index','Name','Second_Protocol', 'Third_Protocol'], axis = 1)\n",
    "dataA.head(1)"
   ]
  },
  {
   "cell_type": "markdown",
   "metadata": {},
   "source": [
    "# Preprocesamiento"
   ]
  },
  {
   "cell_type": "markdown",
   "metadata": {},
   "source": [
    "### Imputación de valores ausentes"
   ]
  },
  {
   "cell_type": "code",
   "execution_count": 5,
   "metadata": {},
   "outputs": [],
   "source": [
    "punter = pd.concat([dataA['second_sp'],dataA['second_dp'],dataA['third_sp'],dataA['third_dp']],axis=1)\n",
    "imputer = SimpleImputer(missing_values = np.nan, strategy = \"median\")\n",
    "values = imputer.fit_transform(punter)"
   ]
  },
  {
   "cell_type": "code",
   "execution_count": 6,
   "metadata": {},
   "outputs": [],
   "source": [
    "punter = pd.DataFrame(values, columns = punter.columns)\n",
    "dataA['second_sp'] = punter['second_sp']\n",
    "dataA['second_dp'] = punter['second_dp']\n",
    "dataA['third_sp'] = punter['third_sp']\n",
    "dataA['third_dp'] = punter['third_dp']"
   ]
  },
  {
   "cell_type": "markdown",
   "metadata": {},
   "source": [
    "### OneHotEncoder"
   ]
  },
  {
   "cell_type": "code",
   "execution_count": 7,
   "metadata": {},
   "outputs": [
    {
     "data": {
      "text/plain": [
       "<4733x12 sparse matrix of type '<class 'numpy.float64'>'\n",
       "\twith 14199 stored elements in Compressed Sparse Row format>"
      ]
     },
     "execution_count": 7,
     "metadata": {},
     "output_type": "execute_result"
    }
   ],
   "source": [
    "data_categoric = dataA[dataA.select_dtypes(include = ['object']).columns.to_list()]\n",
    "one_hot = OneHotEncoder()\n",
    "one_hot.fit_transform(data_categoric)"
   ]
  },
  {
   "cell_type": "code",
   "execution_count": 8,
   "metadata": {},
   "outputs": [
    {
     "data": {
      "text/html": [
       "<div>\n",
       "<style scoped>\n",
       "    .dataframe tbody tr th:only-of-type {\n",
       "        vertical-align: middle;\n",
       "    }\n",
       "\n",
       "    .dataframe tbody tr th {\n",
       "        vertical-align: top;\n",
       "    }\n",
       "\n",
       "    .dataframe thead th {\n",
       "        text-align: right;\n",
       "    }\n",
       "</style>\n",
       "<table border=\"1\" class=\"dataframe\">\n",
       "  <thead>\n",
       "    <tr style=\"text-align: right;\">\n",
       "      <th></th>\n",
       "      <th>First_Protocol_ICMP</th>\n",
       "      <th>First_Protocol_ICMP6</th>\n",
       "      <th>First_Protocol_TCP</th>\n",
       "      <th>First_Protocol_UDP</th>\n",
       "      <th>Type_mine</th>\n",
       "      <th>Type_not_mine</th>\n",
       "      <th>Cryptocurrency_Bitcash</th>\n",
       "      <th>Cryptocurrency_Bitcoin</th>\n",
       "      <th>Cryptocurrency_Does not have</th>\n",
       "      <th>Cryptocurrency_Etherium</th>\n",
       "      <th>Cryptocurrency_Litecoin</th>\n",
       "      <th>Cryptocurrency_Monero</th>\n",
       "    </tr>\n",
       "  </thead>\n",
       "  <tbody>\n",
       "    <tr>\n",
       "      <th>0</th>\n",
       "      <td>0</td>\n",
       "      <td>0</td>\n",
       "      <td>1</td>\n",
       "      <td>0</td>\n",
       "      <td>0</td>\n",
       "      <td>1</td>\n",
       "      <td>0</td>\n",
       "      <td>0</td>\n",
       "      <td>1</td>\n",
       "      <td>0</td>\n",
       "      <td>0</td>\n",
       "      <td>0</td>\n",
       "    </tr>\n",
       "    <tr>\n",
       "      <th>1</th>\n",
       "      <td>0</td>\n",
       "      <td>0</td>\n",
       "      <td>0</td>\n",
       "      <td>1</td>\n",
       "      <td>0</td>\n",
       "      <td>1</td>\n",
       "      <td>0</td>\n",
       "      <td>0</td>\n",
       "      <td>1</td>\n",
       "      <td>0</td>\n",
       "      <td>0</td>\n",
       "      <td>0</td>\n",
       "    </tr>\n",
       "  </tbody>\n",
       "</table>\n",
       "</div>"
      ],
      "text/plain": [
       "   First_Protocol_ICMP  First_Protocol_ICMP6  First_Protocol_TCP  \\\n",
       "0                    0                     0                   1   \n",
       "1                    0                     0                   0   \n",
       "\n",
       "   First_Protocol_UDP  Type_mine  Type_not_mine  Cryptocurrency_Bitcash  \\\n",
       "0                   0          0              1                       0   \n",
       "1                   1          0              1                       0   \n",
       "\n",
       "   Cryptocurrency_Bitcoin  Cryptocurrency_Does not have  \\\n",
       "0                       0                             1   \n",
       "1                       0                             1   \n",
       "\n",
       "   Cryptocurrency_Etherium  Cryptocurrency_Litecoin  Cryptocurrency_Monero  \n",
       "0                        0                        0                      0  \n",
       "1                        0                        0                      0  "
      ]
     },
     "execution_count": 8,
     "metadata": {},
     "output_type": "execute_result"
    }
   ],
   "source": [
    "data_dummy = pd.get_dummies(data_categoric)\n",
    "data_dummy.head(2)"
   ]
  },
  {
   "cell_type": "markdown",
   "metadata": {},
   "source": [
    "### Estructuración"
   ]
  },
  {
   "cell_type": "code",
   "execution_count": 9,
   "metadata": {},
   "outputs": [
    {
     "data": {
      "text/plain": [
       "Index(['Netflows', 'p1_d', 'p2_d', 'p3_d', 'duration', 'max_d', 'min_d',\n",
       "       '#packets', 'Avg_bps', 'Avg_pps', 'Avg_bpp', '#Bytes', '#sp', '#dp',\n",
       "       'first_sp', 'second_sp', 'third_sp', 'first_dp', 'second_dp',\n",
       "       'third_dp', 'p1_ip', 'p2_ip', 'p3_ip', 'p1_ib', 'p2_ib', 'p3_ib'],\n",
       "      dtype='object')"
      ]
     },
     "execution_count": 9,
     "metadata": {},
     "output_type": "execute_result"
    }
   ],
   "source": [
    "dataA = dataA.drop(data_categoric, axis = 1)\n",
    "dataA.columns"
   ]
  },
  {
   "cell_type": "code",
   "execution_count": 10,
   "metadata": {},
   "outputs": [
    {
     "data": {
      "text/plain": [
       "Index(['Netflows', 'p1_d', 'p2_d', 'p3_d', 'duration', 'max_d', 'min_d',\n",
       "       '#packets', 'Avg_bps', 'Avg_pps', 'Avg_bpp', '#Bytes', '#sp', '#dp',\n",
       "       'first_sp', 'second_sp', 'third_sp', 'first_dp', 'second_dp',\n",
       "       'third_dp', 'p1_ip', 'p2_ip', 'p3_ip', 'p1_ib', 'p2_ib', 'p3_ib',\n",
       "       'First_Protocol_ICMP', 'First_Protocol_ICMP6', 'First_Protocol_TCP',\n",
       "       'First_Protocol_UDP', 'Type_mine', 'Type_not_mine',\n",
       "       'Cryptocurrency_Bitcash', 'Cryptocurrency_Bitcoin',\n",
       "       'Cryptocurrency_Does not have', 'Cryptocurrency_Etherium',\n",
       "       'Cryptocurrency_Litecoin', 'Cryptocurrency_Monero'],\n",
       "      dtype='object')"
      ]
     },
     "execution_count": 10,
     "metadata": {},
     "output_type": "execute_result"
    }
   ],
   "source": [
    "dataA = pd.concat([dataA,data_dummy], axis = 1)\n",
    "dataA.columns"
   ]
  },
  {
   "cell_type": "markdown",
   "metadata": {},
   "source": [
    "# Árbol de decisión"
   ]
  },
  {
   "cell_type": "markdown",
   "metadata": {},
   "source": [
    "Mejores caracteristicas del conjunto de datos puros"
   ]
  },
  {
   "cell_type": "code",
   "execution_count": 11,
   "metadata": {},
   "outputs": [],
   "source": [
    "best_feature_sel = ['#dp', '#sp', 'Avg_bpp', 'first_dp', 'first_sp', 'min_d', 'p1_d',\n",
    "       'p1_ip', 'p2_d', 'p2_ib', 'p2_ip', 'p3_ib', 'second_dp',\n",
    "       'second_sp']"
   ]
  },
  {
   "cell_type": "code",
   "execution_count": 12,
   "metadata": {},
   "outputs": [],
   "source": [
    "X = dataA[best_feature_sel]\n",
    "y = dataA['Type_mine']"
   ]
  },
  {
   "cell_type": "markdown",
   "metadata": {},
   "source": [
    "### Holdout"
   ]
  },
  {
   "cell_type": "code",
   "execution_count": 13,
   "metadata": {},
   "outputs": [],
   "source": [
    "X_train, X_test, y_train, y_test = train_test_split(X,y, train_size = 0.7)"
   ]
  },
  {
   "cell_type": "markdown",
   "metadata": {},
   "source": [
    "### Modelo"
   ]
  },
  {
   "cell_type": "code",
   "execution_count": 14,
   "metadata": {},
   "outputs": [
    {
     "name": "stdout",
     "output_type": "stream",
     "text": [
      "\u001b[1mInstancio el modelo de arbol de decisión\u001b[0m\n"
     ]
    }
   ],
   "source": [
    "print(colored('Instancio el modelo de arbol de decisión', attrs=['bold']))\n",
    "model = DecisionTreeClassifier(\n",
    "    criterion='entropy', \n",
    "    max_depth=5,      \n",
    "    min_samples_split=2,\n",
    "    min_samples_leaf=1,\n",
    "    random_state=None,  \n",
    "    max_leaf_nodes=None, \n",
    "    min_impurity_decrease=0.0, \n",
    "    class_weight=None)"
   ]
  },
  {
   "cell_type": "code",
   "execution_count": 15,
   "metadata": {},
   "outputs": [
    {
     "name": "stdout",
     "output_type": "stream",
     "text": [
      "\u001b[1mEntreno el modelo\u001b[0m\n"
     ]
    },
    {
     "data": {
      "text/plain": [
       "DecisionTreeClassifier(ccp_alpha=0.0, class_weight=None, criterion='entropy',\n",
       "                       max_depth=5, max_features=None, max_leaf_nodes=None,\n",
       "                       min_impurity_decrease=0.0, min_impurity_split=None,\n",
       "                       min_samples_leaf=1, min_samples_split=2,\n",
       "                       min_weight_fraction_leaf=0.0, presort='deprecated',\n",
       "                       random_state=None, splitter='best')"
      ]
     },
     "execution_count": 15,
     "metadata": {},
     "output_type": "execute_result"
    }
   ],
   "source": [
    "print(colored('Entreno el modelo', attrs=['bold']))\n",
    "model.fit(X_train,y_train)"
   ]
  },
  {
   "cell_type": "code",
   "execution_count": 16,
   "metadata": {
    "scrolled": false
   },
   "outputs": [
    {
     "name": "stdout",
     "output_type": "stream",
     "text": [
      "\u001b[1mGrafico el modelo\u001b[0m\n",
      "\u001b[1mProfundidad del árbol: 3\u001b[0m\n",
      "\u001b[1mNúmero de nodos terminales: 5\u001b[0m\n"
     ]
    },
    {
     "data": {
      "text/plain": [
       "[Text(209.25, 475.65000000000003, 'first_sp <= 1887.5\\nsamples = 3313\\nvalue = [1769, 1544]\\nclass = T'),\n",
       " Text(139.5, 339.75, 'samples = 1744\\nvalue = [1744, 0]\\nclass = T'),\n",
       " Text(279.0, 339.75, 'p2_ib <= 134.75\\nsamples = 1569\\nvalue = [25, 1544]\\nclass = i'),\n",
       " Text(139.5, 203.85000000000002, 'p1_d <= 0.044\\nsamples = 24\\nvalue = [23, 1]\\nclass = T'),\n",
       " Text(69.75, 67.94999999999999, 'samples = 23\\nvalue = [23, 0]\\nclass = T'),\n",
       " Text(209.25, 67.94999999999999, 'samples = 1\\nvalue = [0, 1]\\nclass = i'),\n",
       " Text(418.5, 203.85000000000002, 'first_dp <= 2616.0\\nsamples = 1545\\nvalue = [2, 1543]\\nclass = i'),\n",
       " Text(348.75, 67.94999999999999, 'samples = 2\\nvalue = [2, 0]\\nclass = T'),\n",
       " Text(488.25, 67.94999999999999, 'samples = 1543\\nvalue = [0, 1543]\\nclass = i')]"
      ]
     },
     "execution_count": 16,
     "metadata": {},
     "output_type": "execute_result"
    },
    {
     "data": {
      "image/png": "[encoded data removed]",
      "text/plain": [
       "<Figure size 720x720 with 1 Axes>"
      ]
     },
     "metadata": {
      "needs_background": "light"
     },
     "output_type": "display_data"
    }
   ],
   "source": [
    "print(colored('Grafico el modelo', attrs=['bold']))\n",
    "fig, ax = plt.subplots(figsize = (10,10))\n",
    "\n",
    "print(colored(f'Profundidad del árbol: {model.get_depth()}', attrs=['bold']))\n",
    "print(colored(f'Número de nodos terminales: {model.get_n_leaves()}', attrs=['bold']))\n",
    "\n",
    "\n",
    "plot_tree(\n",
    "    decision_tree = model,\n",
    "    feature_names = X_train.columns.tolist(),\n",
    "    class_names   = 'Tipo de trafico minero',\n",
    "    filled        = True,\n",
    "    impurity      = False,\n",
    "    fontsize      = 17,\n",
    "    ax            = ax\n",
    ")"
   ]
  },
  {
   "cell_type": "code",
   "execution_count": 17,
   "metadata": {},
   "outputs": [
    {
     "name": "stdout",
     "output_type": "stream",
     "text": [
      "\u001b[1mRealizo la predicción del modelo con la porción de prueba\u001b[0m\n"
     ]
    },
    {
     "data": {
      "text/plain": [
       "array([0, 0, 1, ..., 1, 1, 0], dtype=uint8)"
      ]
     },
     "execution_count": 17,
     "metadata": {},
     "output_type": "execute_result"
    }
   ],
   "source": [
    "print(colored('Realizo la predicción del modelo con la porción de prueba', attrs=['bold']))\n",
    "y_pred = model.predict(X_test)\n",
    "y_pred"
   ]
  },
  {
   "cell_type": "code",
   "execution_count": 18,
   "metadata": {},
   "outputs": [
    {
     "data": {
      "text/plain": [
       "733"
      ]
     },
     "execution_count": 18,
     "metadata": {},
     "output_type": "execute_result"
    }
   ],
   "source": [
    "len(y_pred[y_pred == 0])"
   ]
  },
  {
   "cell_type": "code",
   "execution_count": 19,
   "metadata": {},
   "outputs": [
    {
     "data": {
      "text/plain": [
       "687"
      ]
     },
     "execution_count": 19,
     "metadata": {},
     "output_type": "execute_result"
    }
   ],
   "source": [
    "len(y_pred[y_pred == 1])"
   ]
  },
  {
   "cell_type": "markdown",
   "metadata": {},
   "source": [
    "### Métricas y matriz de confusión"
   ]
  },
  {
   "cell_type": "code",
   "execution_count": 20,
   "metadata": {
    "scrolled": true
   },
   "outputs": [
    {
     "name": "stdout",
     "output_type": "stream",
     "text": [
      "\u001b[1mMatriz de confusión\u001b[0m\n"
     ]
    },
    {
     "data": {
      "image/png": "[encoded data removed]",
      "text/plain": [
       "<Figure size 432x288 with 2 Axes>"
      ]
     },
     "metadata": {
      "needs_background": "light"
     },
     "output_type": "display_data"
    }
   ],
   "source": [
    "churm = matriz_confusion(y_test, y_pred, plt.cm.Blues)"
   ]
  },
  {
   "cell_type": "code",
   "execution_count": 21,
   "metadata": {},
   "outputs": [
    {
     "data": {
      "text/html": [
       "<div>\n",
       "<style scoped>\n",
       "    .dataframe tbody tr th:only-of-type {\n",
       "        vertical-align: middle;\n",
       "    }\n",
       "\n",
       "    .dataframe tbody tr th {\n",
       "        vertical-align: top;\n",
       "    }\n",
       "\n",
       "    .dataframe thead th {\n",
       "        text-align: right;\n",
       "    }\n",
       "</style>\n",
       "<table border=\"1\" class=\"dataframe\">\n",
       "  <thead>\n",
       "    <tr style=\"text-align: right;\">\n",
       "      <th></th>\n",
       "      <th>0</th>\n",
       "      <th>1</th>\n",
       "    </tr>\n",
       "  </thead>\n",
       "  <tbody>\n",
       "    <tr>\n",
       "      <th>0</th>\n",
       "      <td>731</td>\n",
       "      <td>1</td>\n",
       "    </tr>\n",
       "    <tr>\n",
       "      <th>1</th>\n",
       "      <td>2</td>\n",
       "      <td>686</td>\n",
       "    </tr>\n",
       "  </tbody>\n",
       "</table>\n",
       "</div>"
      ],
      "text/plain": [
       "     0    1\n",
       "0  731    1\n",
       "1    2  686"
      ]
     },
     "execution_count": 21,
     "metadata": {},
     "output_type": "execute_result"
    }
   ],
   "source": [
    "pd.DataFrame(churm)"
   ]
  },
  {
   "cell_type": "code",
   "execution_count": 22,
   "metadata": {
    "scrolled": true
   },
   "outputs": [
    {
     "name": "stdout",
     "output_type": "stream",
     "text": [
      "Exactitud:  0.997887323943662\n",
      "Kappa:  0.9957704023479231\n",
      "\u001b[1mPredicciones de los registros mineros\u001b[0m\n",
      "Precisión:  0.9985443959243085\n",
      "Recall:  0.997093023255814\n",
      "Especificidad :  0.997093023255814\n",
      "F1-score      :  0.9978181818181817\n",
      "\u001b[1mPredicciones de los registros no mineros\u001b[0m\n",
      "Precisión:  0.9972714870395635\n",
      "Recall:  0.9986338797814208\n",
      "Especificidad :  0.9986338797814208\n",
      "F1-score      :  0.9979522184300342\n"
     ]
    }
   ],
   "source": [
    "metricas(y_test, y_pred, churm)"
   ]
  },
  {
   "cell_type": "markdown",
   "metadata": {},
   "source": [
    "# Experimento 1"
   ]
  },
  {
   "cell_type": "code",
   "execution_count": 23,
   "metadata": {},
   "outputs": [
    {
     "name": "stdout",
     "output_type": "stream",
     "text": [
      "\u001b[1mImporto el conjunto de datos no puros\u001b[0m\n"
     ]
    },
    {
     "data": {
      "text/plain": [
       "Index(['index', 'Name', 'Netflows', 'First_Protocol', 'Second_Protocol',\n",
       "       'Third_Protocol', 'p1_d', 'p2_d', 'p3_d', 'duration', 'max_d', 'min_d',\n",
       "       '#packets', 'Avg_bps', 'Avg_pps', 'Avg_bpp', '#Bytes', '#sp', '#dp',\n",
       "       'first_sp', 'second_sp', 'third_sp', 'first_dp', 'second_dp',\n",
       "       'third_dp', 'p1_ip', 'p2_ip', 'p3_ip', 'p1_ib', 'p2_ib', 'p3_ib',\n",
       "       'Type', 'Cryptocurrency'],\n",
       "      dtype='object')"
      ]
     },
     "execution_count": 23,
     "metadata": {},
     "output_type": "execute_result"
    }
   ],
   "source": [
    "print(colored('Importo el conjunto de datos no puros', attrs=['bold']))\n",
    "dataB = pd.read_csv('./data_no_identificada.csv')\n",
    "dataB.columns"
   ]
  },
  {
   "cell_type": "code",
   "execution_count": 24,
   "metadata": {},
   "outputs": [
    {
     "data": {
      "text/plain": [
       "(39554, 33)"
      ]
     },
     "execution_count": 24,
     "metadata": {},
     "output_type": "execute_result"
    }
   ],
   "source": [
    "dataB.shape"
   ]
  },
  {
   "cell_type": "code",
   "execution_count": 25,
   "metadata": {},
   "outputs": [
    {
     "name": "stdout",
     "output_type": "stream",
     "text": [
      "\u001b[1mValores faltantes del conjunto no puro\u001b[0m\n"
     ]
    },
    {
     "data": {
      "text/plain": [
       "index                  0\n",
       "Name                   0\n",
       "Netflows               0\n",
       "First_Protocol         0\n",
       "Second_Protocol     6133\n",
       "Third_Protocol     18674\n",
       "p1_d                   0\n",
       "p2_d                   0\n",
       "p3_d                   0\n",
       "duration               0\n",
       "max_d                  0\n",
       "min_d                  0\n",
       "#packets               0\n",
       "Avg_bps                0\n",
       "Avg_pps                0\n",
       "Avg_bpp                0\n",
       "#Bytes                 0\n",
       "#sp                    0\n",
       "#dp                    0\n",
       "first_sp               0\n",
       "second_sp           7498\n",
       "third_sp           10993\n",
       "first_dp               0\n",
       "second_dp           1708\n",
       "third_dp            7103\n",
       "p1_ip                  0\n",
       "p2_ip                  0\n",
       "p3_ip                  0\n",
       "p1_ib                  0\n",
       "p2_ib                  0\n",
       "p3_ib                  0\n",
       "Type                   0\n",
       "Cryptocurrency         0\n",
       "dtype: int64"
      ]
     },
     "execution_count": 25,
     "metadata": {},
     "output_type": "execute_result"
    }
   ],
   "source": [
    "print(colored('Valores faltantes del conjunto no puro', attrs=['bold']))\n",
    "dataB.isnull().sum()"
   ]
  },
  {
   "cell_type": "code",
   "execution_count": 26,
   "metadata": {},
   "outputs": [
    {
     "name": "stdout",
     "output_type": "stream",
     "text": [
      "\u001b[1mElimino valores faltantes del conjunto de datos no puros, ya que estamos poniendo a prueba nuestro primer modelo, con datos tomados de ambientes no controlados, con la finalidad de observar como se comporta.\u001b[0m\n"
     ]
    }
   ],
   "source": [
    "print(colored('Elimino valores faltantes del conjunto de datos no puros, ya que estamos poniendo a prueba nuestro primer modelo, con datos tomados de ambientes no controlados, con la finalidad de observar como se comporta.', attrs=['bold']))\n",
    "\n",
    "dataB = dataB.dropna()"
   ]
  },
  {
   "cell_type": "code",
   "execution_count": 27,
   "metadata": {},
   "outputs": [],
   "source": [
    "dataC = dataB"
   ]
  },
  {
   "cell_type": "code",
   "execution_count": 28,
   "metadata": {},
   "outputs": [
    {
     "data": {
      "text/plain": [
       "(19640, 33)"
      ]
     },
     "execution_count": 28,
     "metadata": {},
     "output_type": "execute_result"
    }
   ],
   "source": [
    "dataB.shape"
   ]
  },
  {
   "cell_type": "code",
   "execution_count": 29,
   "metadata": {},
   "outputs": [],
   "source": [
    "X = dataB[best_feature_sel]\n",
    "y = dataB['Type'].replace({'mine':1,'not_mine':0})"
   ]
  },
  {
   "cell_type": "code",
   "execution_count": 30,
   "metadata": {},
   "outputs": [
    {
     "data": {
      "text/plain": [
       "array([0, 0, 0, ..., 0, 0, 0], dtype=uint8)"
      ]
     },
     "execution_count": 30,
     "metadata": {},
     "output_type": "execute_result"
    }
   ],
   "source": [
    "y_pred = model.predict(X)\n",
    "y_pred"
   ]
  },
  {
   "cell_type": "code",
   "execution_count": 31,
   "metadata": {},
   "outputs": [
    {
     "name": "stdout",
     "output_type": "stream",
     "text": [
      "\u001b[1mMatriz de confusión\u001b[0m\n"
     ]
    },
    {
     "data": {
      "image/png": "[encoded data removed]",
      "text/plain": [
       "<Figure size 432x288 with 2 Axes>"
      ]
     },
     "metadata": {
      "needs_background": "light"
     },
     "output_type": "display_data"
    }
   ],
   "source": [
    "churm = matriz_confusion(y, y_pred, plt.cm.Reds)"
   ]
  },
  {
   "cell_type": "code",
   "execution_count": 32,
   "metadata": {},
   "outputs": [
    {
     "data": {
      "text/html": [
       "<div>\n",
       "<style scoped>\n",
       "    .dataframe tbody tr th:only-of-type {\n",
       "        vertical-align: middle;\n",
       "    }\n",
       "\n",
       "    .dataframe tbody tr th {\n",
       "        vertical-align: top;\n",
       "    }\n",
       "\n",
       "    .dataframe thead th {\n",
       "        text-align: right;\n",
       "    }\n",
       "</style>\n",
       "<table border=\"1\" class=\"dataframe\">\n",
       "  <thead>\n",
       "    <tr style=\"text-align: right;\">\n",
       "      <th></th>\n",
       "      <th>0</th>\n",
       "      <th>1</th>\n",
       "    </tr>\n",
       "  </thead>\n",
       "  <tbody>\n",
       "    <tr>\n",
       "      <th>0</th>\n",
       "      <td>129</td>\n",
       "      <td>0</td>\n",
       "    </tr>\n",
       "    <tr>\n",
       "      <th>1</th>\n",
       "      <td>19501</td>\n",
       "      <td>10</td>\n",
       "    </tr>\n",
       "  </tbody>\n",
       "</table>\n",
       "</div>"
      ],
      "text/plain": [
       "       0   1\n",
       "0    129   0\n",
       "1  19501  10"
      ]
     },
     "execution_count": 32,
     "metadata": {},
     "output_type": "execute_result"
    }
   ],
   "source": [
    "pd.DataFrame(churm)"
   ]
  },
  {
   "cell_type": "code",
   "execution_count": 33,
   "metadata": {},
   "outputs": [
    {
     "name": "stdout",
     "output_type": "stream",
     "text": [
      "Exactitud:  0.007077393075356415\n",
      "Kappa:  6.736253382655377e-06\n",
      "\u001b[1mPredicciones de los registros mineros\u001b[0m\n",
      "Precisión:  1.0\n",
      "Recall:  0.0005125313925477935\n",
      "Especificidad :  0.0005125313925477935\n",
      "F1-score      :  0.0010245376773730854\n",
      "\u001b[1mPredicciones de los registros no mineros\u001b[0m\n",
      "Precisión:  0.006571574121242996\n",
      "Recall:  1.0\n",
      "Especificidad :  1.0\n",
      "F1-score      :  0.013057340958550533\n"
     ]
    }
   ],
   "source": [
    "metricas(y, y_pred, churm)"
   ]
  },
  {
   "cell_type": "markdown",
   "metadata": {},
   "source": [
    "# Experimento 2"
   ]
  },
  {
   "cell_type": "code",
   "execution_count": 34,
   "metadata": {},
   "outputs": [
    {
     "name": "stdout",
     "output_type": "stream",
     "text": [
      "\u001b[1mCaracteristicas del conjunto de datos puro\u001b[0m\n",
      "['#dp', '#sp', 'Avg_bpp', 'first_dp', 'first_sp', 'min_d', 'p1_d', 'p1_ip', 'p2_d', 'p2_ib', 'p2_ip', 'p3_ib', 'second_dp', 'second_sp']\n"
     ]
    }
   ],
   "source": [
    "print(colored('Caracteristicas del conjunto de datos puro', attrs=['bold']))\n",
    "print(best_feature_sel)"
   ]
  },
  {
   "cell_type": "code",
   "execution_count": 35,
   "metadata": {},
   "outputs": [
    {
     "name": "stdout",
     "output_type": "stream",
     "text": [
      "\u001b[1mCaracteristicas del conjunto de datos no puro\u001b[0m\n",
      "['#Bytes', '#dp', '#packets', '#sp', 'Avg_bpp', 'Avg_bps', 'Avg_pps', 'duration', 'first_dp', 'p2_d', 'p2_ib', 'p3_d', 'p3_ip', 'second_dp', 'second_sp', 'third_dp', 'third_sp']\n"
     ]
    }
   ],
   "source": [
    "print(colored('Caracteristicas del conjunto de datos no puro', attrs=['bold']))\n",
    "best_feature_noPure = ['#Bytes', '#dp', '#packets', '#sp', 'Avg_bpp', 'Avg_bps',\n",
    "       'Avg_pps', 'duration', 'first_dp', 'p2_d', 'p2_ib', 'p3_d',\n",
    "       'p3_ip', 'second_dp', 'second_sp', 'third_dp', 'third_sp']\n",
    "print(best_feature_noPure)"
   ]
  },
  {
   "cell_type": "code",
   "execution_count": 36,
   "metadata": {
    "scrolled": true
   },
   "outputs": [
    {
     "name": "stdout",
     "output_type": "stream",
     "text": [
      "\u001b[1mCombino las caracteristicas\u001b[0m\n"
     ]
    },
    {
     "data": {
      "text/plain": [
       "array(['#Bytes', '#dp', '#packets', '#sp', 'Avg_bpp', 'Avg_bps',\n",
       "       'Avg_pps', 'duration', 'first_dp', 'first_sp', 'min_d', 'p1_d',\n",
       "       'p1_ip', 'p2_d', 'p2_ib', 'p2_ip', 'p3_d', 'p3_ib', 'p3_ip',\n",
       "       'second_dp', 'second_sp', 'third_dp', 'third_sp'], dtype='<U9')"
      ]
     },
     "execution_count": 36,
     "metadata": {},
     "output_type": "execute_result"
    }
   ],
   "source": [
    "print(colored('Combino las caracteristicas', attrs=['bold']))\n",
    "bestFeature = np.concatenate([best_feature_sel,best_feature_noPure])\n",
    "bestFeature = np.unique(bestFeature)\n",
    "bestFeature"
   ]
  },
  {
   "cell_type": "markdown",
   "metadata": {},
   "source": [
    "### Preprocesamiento"
   ]
  },
  {
   "cell_type": "code",
   "execution_count": 37,
   "metadata": {},
   "outputs": [
    {
     "data": {
      "text/plain": [
       "Index(['Netflows', 'First_Protocol', 'p1_d', 'p2_d', 'p3_d', 'duration',\n",
       "       'max_d', 'min_d', '#packets', 'Avg_bps', 'Avg_pps', 'Avg_bpp', '#Bytes',\n",
       "       '#sp', '#dp', 'first_sp', 'second_sp', 'third_sp', 'first_dp',\n",
       "       'second_dp', 'third_dp', 'p1_ip', 'p2_ip', 'p3_ip', 'p1_ib', 'p2_ib',\n",
       "       'p3_ib', 'Type', 'Cryptocurrency'],\n",
       "      dtype='object')"
      ]
     },
     "execution_count": 37,
     "metadata": {},
     "output_type": "execute_result"
    }
   ],
   "source": [
    "dataB = pd.read_csv('./data_no_identificada.csv').drop(['index','Name','Second_Protocol', 'Third_Protocol'], axis = 1)\n",
    "dataB.columns"
   ]
  },
  {
   "cell_type": "markdown",
   "metadata": {},
   "source": [
    "### Imputar valores"
   ]
  },
  {
   "cell_type": "code",
   "execution_count": 38,
   "metadata": {},
   "outputs": [],
   "source": [
    "punter = pd.concat([dataB['second_sp'],dataB['third_sp'],dataB['second_dp'],dataB['third_dp']], axis = 1)\n",
    "imputer = SimpleImputer(missing_values = np.nan, strategy = 'median')\n",
    "values = imputer.fit_transform(punter)"
   ]
  },
  {
   "cell_type": "code",
   "execution_count": 39,
   "metadata": {},
   "outputs": [],
   "source": [
    "values = pd.DataFrame(values, columns = punter.columns)\n",
    "dataB['second_sp'] = values['second_sp']\n",
    "dataB['third_sp'] = values['third_sp']\n",
    "dataB['second_dp'] = values['second_dp']\n",
    "dataB['third_dp'] = values['third_dp']"
   ]
  },
  {
   "cell_type": "markdown",
   "metadata": {},
   "source": [
    "### OneHotEncoder"
   ]
  },
  {
   "cell_type": "code",
   "execution_count": 40,
   "metadata": {},
   "outputs": [
    {
     "data": {
      "text/html": [
       "<div>\n",
       "<style scoped>\n",
       "    .dataframe tbody tr th:only-of-type {\n",
       "        vertical-align: middle;\n",
       "    }\n",
       "\n",
       "    .dataframe tbody tr th {\n",
       "        vertical-align: top;\n",
       "    }\n",
       "\n",
       "    .dataframe thead th {\n",
       "        text-align: right;\n",
       "    }\n",
       "</style>\n",
       "<table border=\"1\" class=\"dataframe\">\n",
       "  <thead>\n",
       "    <tr style=\"text-align: right;\">\n",
       "      <th></th>\n",
       "      <th>Netflows</th>\n",
       "      <th>p1_d</th>\n",
       "      <th>p2_d</th>\n",
       "      <th>p3_d</th>\n",
       "      <th>duration</th>\n",
       "      <th>max_d</th>\n",
       "      <th>min_d</th>\n",
       "      <th>#packets</th>\n",
       "      <th>Avg_bps</th>\n",
       "      <th>Avg_pps</th>\n",
       "      <th>...</th>\n",
       "      <th>p2_ib</th>\n",
       "      <th>p3_ib</th>\n",
       "      <th>First_Protocol_ICMP</th>\n",
       "      <th>First_Protocol_ICMP6</th>\n",
       "      <th>First_Protocol_TCP</th>\n",
       "      <th>First_Protocol_UDP</th>\n",
       "      <th>Type_mine</th>\n",
       "      <th>Type_not_mine</th>\n",
       "      <th>Cryptocurrency_Does not have</th>\n",
       "      <th>Cryptocurrency_Unidentified</th>\n",
       "    </tr>\n",
       "  </thead>\n",
       "  <tbody>\n",
       "    <tr>\n",
       "      <th>0</th>\n",
       "      <td>17</td>\n",
       "      <td>0.0</td>\n",
       "      <td>3.001</td>\n",
       "      <td>360.024</td>\n",
       "      <td>2790.015</td>\n",
       "      <td>569.693</td>\n",
       "      <td>0.0</td>\n",
       "      <td>95</td>\n",
       "      <td>160</td>\n",
       "      <td>0</td>\n",
       "      <td>...</td>\n",
       "      <td>500.0</td>\n",
       "      <td>700.0</td>\n",
       "      <td>0</td>\n",
       "      <td>0</td>\n",
       "      <td>0</td>\n",
       "      <td>1</td>\n",
       "      <td>1</td>\n",
       "      <td>0</td>\n",
       "      <td>0</td>\n",
       "      <td>1</td>\n",
       "    </tr>\n",
       "  </tbody>\n",
       "</table>\n",
       "<p>1 rows × 34 columns</p>\n",
       "</div>"
      ],
      "text/plain": [
       "   Netflows  p1_d   p2_d     p3_d  duration    max_d  min_d  #packets  \\\n",
       "0        17   0.0  3.001  360.024  2790.015  569.693    0.0        95   \n",
       "\n",
       "   Avg_bps  Avg_pps  ...  p2_ib  p3_ib  First_Protocol_ICMP  \\\n",
       "0      160        0  ...  500.0  700.0                    0   \n",
       "\n",
       "   First_Protocol_ICMP6  First_Protocol_TCP  First_Protocol_UDP  Type_mine  \\\n",
       "0                     0                   0                   1          1   \n",
       "\n",
       "   Type_not_mine  Cryptocurrency_Does not have  Cryptocurrency_Unidentified  \n",
       "0              0                             0                            1  \n",
       "\n",
       "[1 rows x 34 columns]"
      ]
     },
     "execution_count": 40,
     "metadata": {},
     "output_type": "execute_result"
    }
   ],
   "source": [
    "data_categoric = dataB.select_dtypes(['object'])\n",
    "one_hot =  OneHotEncoder()\n",
    "one_hot.fit_transform(data_categoric)\n",
    "dataDummy = pd.get_dummies(data_categoric)\n",
    "dataB = dataB.drop(data_categoric.columns, axis = 1)\n",
    "dataB = pd.concat([dataB,dataDummy],axis = 1)\n",
    "dataB.head(1)"
   ]
  },
  {
   "cell_type": "code",
   "execution_count": 41,
   "metadata": {},
   "outputs": [
    {
     "name": "stdout",
     "output_type": "stream",
     "text": [
      "\u001b[1mAplico una tecnica de submuestreo para equilibrar las clases del conjunto de datos no puros,  con la finalidad de balanciar el conjunto de datos\u001b[0m\n"
     ]
    }
   ],
   "source": [
    "print(colored('Aplico una tecnica de submuestreo para equilibrar las clases del conjunto de datos no puros,  con la finalidad de balanciar el conjunto de datos', attrs=['bold']))\n",
    "data_N_Mineros = dataB[dataB.Type_mine == 1]\n",
    "data_N_Mineros = data_N_NoMineros = dataB.sample(n=dataA[dataA.Type_mine == 1].shape[0])"
   ]
  },
  {
   "cell_type": "code",
   "execution_count": 42,
   "metadata": {},
   "outputs": [
    {
     "name": "stdout",
     "output_type": "stream",
     "text": [
      "\u001b[1mAmbos conjuntos de datos, tienen los mismos registros benignos, se podria conciderar como una tecnica de sobremuestreo\u001b[0m\n"
     ]
    }
   ],
   "source": [
    "print(colored('Ambos conjuntos de datos, tienen los mismos registros benignos, se podria conciderar como una tecnica de sobremuestreo', attrs=['bold']))\n",
    "nueva_dataB = pd.concat([data_N_Mineros, dataB[dataB.Type_mine == 0]], axis = 0)"
   ]
  },
  {
   "cell_type": "code",
   "execution_count": 43,
   "metadata": {},
   "outputs": [
    {
     "name": "stdout",
     "output_type": "stream",
     "text": [
      "\u001b[1mAmbos conjuntos de datos (puros y no puro), se podrian conciderar balanceados \u001b[0m\n"
     ]
    },
    {
     "data": {
      "text/plain": [
       "((4733, 34), (4733, 38))"
      ]
     },
     "execution_count": 43,
     "metadata": {},
     "output_type": "execute_result"
    }
   ],
   "source": [
    "print(colored('Ambos conjuntos de datos (puros y no puro), se podrian conciderar balanceados ', attrs=['bold']))\n",
    "\n",
    "nueva_dataB.shape, dataA.shape"
   ]
  },
  {
   "cell_type": "code",
   "execution_count": 44,
   "metadata": {},
   "outputs": [
    {
     "name": "stdout",
     "output_type": "stream",
     "text": [
      "\u001b[1mUnimos los conjuntos de datos y aplicamos aleatoriedad en la posición de los registros\u001b[0m\n"
     ]
    }
   ],
   "source": [
    "print(colored('Unimos los conjuntos de datos y aplicamos aleatoriedad en la posición de los registros', attrs=['bold']))\n"
   ]
  },
  {
   "cell_type": "code",
   "execution_count": 45,
   "metadata": {},
   "outputs": [
    {
     "name": "stderr",
     "output_type": "stream",
     "text": [
      "C:\\ProgramData\\Anaconda3\\lib\\site-packages\\ipykernel_launcher.py:1: FutureWarning: Sorting because non-concatenation axis is not aligned. A future version\n",
      "of pandas will change to not sort by default.\n",
      "\n",
      "To accept the future behavior, pass 'sort=False'.\n",
      "\n",
      "To retain the current behavior and silence the warning, pass 'sort=True'.\n",
      "\n",
      "  \"\"\"Entry point for launching an IPython kernel.\n"
     ]
    },
    {
     "data": {
      "text/plain": [
       "(9466, 39)"
      ]
     },
     "execution_count": 45,
     "metadata": {},
     "output_type": "execute_result"
    }
   ],
   "source": [
    "data_final = pd.concat([nueva_dataB, dataA], axis = 0)\n",
    "data_final.shape"
   ]
  },
  {
   "cell_type": "code",
   "execution_count": 46,
   "metadata": {
    "scrolled": true
   },
   "outputs": [
    {
     "name": "stdout",
     "output_type": "stream",
     "text": [
      "\u001b[1mAleatoriedad\u001b[0m\n"
     ]
    },
    {
     "data": {
      "text/html": [
       "<div>\n",
       "<style scoped>\n",
       "    .dataframe tbody tr th:only-of-type {\n",
       "        vertical-align: middle;\n",
       "    }\n",
       "\n",
       "    .dataframe tbody tr th {\n",
       "        vertical-align: top;\n",
       "    }\n",
       "\n",
       "    .dataframe thead th {\n",
       "        text-align: right;\n",
       "    }\n",
       "</style>\n",
       "<table border=\"1\" class=\"dataframe\">\n",
       "  <thead>\n",
       "    <tr style=\"text-align: right;\">\n",
       "      <th></th>\n",
       "      <th>index</th>\n",
       "      <th>#Bytes</th>\n",
       "      <th>#dp</th>\n",
       "      <th>#packets</th>\n",
       "      <th>#sp</th>\n",
       "      <th>Avg_bpp</th>\n",
       "      <th>Avg_bps</th>\n",
       "      <th>Avg_pps</th>\n",
       "      <th>Cryptocurrency_Bitcash</th>\n",
       "      <th>Cryptocurrency_Bitcoin</th>\n",
       "      <th>...</th>\n",
       "      <th>p2_d</th>\n",
       "      <th>p2_ib</th>\n",
       "      <th>p2_ip</th>\n",
       "      <th>p3_d</th>\n",
       "      <th>p3_ib</th>\n",
       "      <th>p3_ip</th>\n",
       "      <th>second_dp</th>\n",
       "      <th>second_sp</th>\n",
       "      <th>third_dp</th>\n",
       "      <th>third_sp</th>\n",
       "    </tr>\n",
       "  </thead>\n",
       "  <tbody>\n",
       "    <tr>\n",
       "      <th>4475</th>\n",
       "      <td>35233</td>\n",
       "      <td>215548</td>\n",
       "      <td>113</td>\n",
       "      <td>1753</td>\n",
       "      <td>117</td>\n",
       "      <td>122</td>\n",
       "      <td>5876</td>\n",
       "      <td>5</td>\n",
       "      <td>NaN</td>\n",
       "      <td>NaN</td>\n",
       "      <td>...</td>\n",
       "      <td>42.6085</td>\n",
       "      <td>96.0</td>\n",
       "      <td>4.0</td>\n",
       "      <td>104.08325</td>\n",
       "      <td>192.0</td>\n",
       "      <td>5.0</td>\n",
       "      <td>80.0</td>\n",
       "      <td>80.0</td>\n",
       "      <td>1900.0</td>\n",
       "      <td>49694.0</td>\n",
       "    </tr>\n",
       "    <tr>\n",
       "      <th>920</th>\n",
       "      <td>25894</td>\n",
       "      <td>1058</td>\n",
       "      <td>3</td>\n",
       "      <td>25</td>\n",
       "      <td>1</td>\n",
       "      <td>42</td>\n",
       "      <td>29</td>\n",
       "      <td>0</td>\n",
       "      <td>NaN</td>\n",
       "      <td>NaN</td>\n",
       "      <td>...</td>\n",
       "      <td>0.0000</td>\n",
       "      <td>32.0</td>\n",
       "      <td>1.0</td>\n",
       "      <td>0.00000</td>\n",
       "      <td>32.0</td>\n",
       "      <td>1.0</td>\n",
       "      <td>1281.0</td>\n",
       "      <td>5353.0</td>\n",
       "      <td>34304.0</td>\n",
       "      <td>45560.0</td>\n",
       "    </tr>\n",
       "    <tr>\n",
       "      <th>6954</th>\n",
       "      <td>2221</td>\n",
       "      <td>28756</td>\n",
       "      <td>3</td>\n",
       "      <td>80</td>\n",
       "      <td>3</td>\n",
       "      <td>359</td>\n",
       "      <td>469</td>\n",
       "      <td>0</td>\n",
       "      <td>0.0</td>\n",
       "      <td>1.0</td>\n",
       "      <td>...</td>\n",
       "      <td>244.9375</td>\n",
       "      <td>7189.0</td>\n",
       "      <td>20.0</td>\n",
       "      <td>245.20725</td>\n",
       "      <td>13900.0</td>\n",
       "      <td>24.0</td>\n",
       "      <td>52220.0</td>\n",
       "      <td>52220.0</td>\n",
       "      <td>52224.0</td>\n",
       "      <td>52224.0</td>\n",
       "    </tr>\n",
       "    <tr>\n",
       "      <th>9343</th>\n",
       "      <td>4610</td>\n",
       "      <td>8014556</td>\n",
       "      <td>219</td>\n",
       "      <td>12682</td>\n",
       "      <td>223</td>\n",
       "      <td>631</td>\n",
       "      <td>213639</td>\n",
       "      <td>42</td>\n",
       "      <td>0.0</td>\n",
       "      <td>0.0</td>\n",
       "      <td>...</td>\n",
       "      <td>14.6620</td>\n",
       "      <td>184.0</td>\n",
       "      <td>4.0</td>\n",
       "      <td>91.62250</td>\n",
       "      <td>2429.5</td>\n",
       "      <td>14.0</td>\n",
       "      <td>53.0</td>\n",
       "      <td>53.0</td>\n",
       "      <td>80.0</td>\n",
       "      <td>80.0</td>\n",
       "    </tr>\n",
       "    <tr>\n",
       "      <th>4517</th>\n",
       "      <td>35738</td>\n",
       "      <td>4592505</td>\n",
       "      <td>12</td>\n",
       "      <td>5213</td>\n",
       "      <td>14</td>\n",
       "      <td>880</td>\n",
       "      <td>126767</td>\n",
       "      <td>17</td>\n",
       "      <td>NaN</td>\n",
       "      <td>NaN</td>\n",
       "      <td>...</td>\n",
       "      <td>167.5310</td>\n",
       "      <td>1763.0</td>\n",
       "      <td>21.0</td>\n",
       "      <td>233.86800</td>\n",
       "      <td>9134.0</td>\n",
       "      <td>26.0</td>\n",
       "      <td>443.0</td>\n",
       "      <td>443.0</td>\n",
       "      <td>80.0</td>\n",
       "      <td>80.0</td>\n",
       "    </tr>\n",
       "  </tbody>\n",
       "</table>\n",
       "<p>5 rows × 40 columns</p>\n",
       "</div>"
      ],
      "text/plain": [
       "      index   #Bytes  #dp  #packets  #sp  Avg_bpp  Avg_bps  Avg_pps  \\\n",
       "4475  35233   215548  113      1753  117      122     5876        5   \n",
       "920   25894     1058    3        25    1       42       29        0   \n",
       "6954   2221    28756    3        80    3      359      469        0   \n",
       "9343   4610  8014556  219     12682  223      631   213639       42   \n",
       "4517  35738  4592505   12      5213   14      880   126767       17   \n",
       "\n",
       "      Cryptocurrency_Bitcash  Cryptocurrency_Bitcoin  ...      p2_d   p2_ib  \\\n",
       "4475                     NaN                     NaN  ...   42.6085    96.0   \n",
       "920                      NaN                     NaN  ...    0.0000    32.0   \n",
       "6954                     0.0                     1.0  ...  244.9375  7189.0   \n",
       "9343                     0.0                     0.0  ...   14.6620   184.0   \n",
       "4517                     NaN                     NaN  ...  167.5310  1763.0   \n",
       "\n",
       "      p2_ip       p3_d    p3_ib  p3_ip  second_dp  second_sp  third_dp  \\\n",
       "4475    4.0  104.08325    192.0    5.0       80.0       80.0    1900.0   \n",
       "920     1.0    0.00000     32.0    1.0     1281.0     5353.0   34304.0   \n",
       "6954   20.0  245.20725  13900.0   24.0    52220.0    52220.0   52224.0   \n",
       "9343    4.0   91.62250   2429.5   14.0       53.0       53.0      80.0   \n",
       "4517   21.0  233.86800   9134.0   26.0      443.0      443.0      80.0   \n",
       "\n",
       "      third_sp  \n",
       "4475   49694.0  \n",
       "920    45560.0  \n",
       "6954   52224.0  \n",
       "9343      80.0  \n",
       "4517      80.0  \n",
       "\n",
       "[5 rows x 40 columns]"
      ]
     },
     "execution_count": 46,
     "metadata": {},
     "output_type": "execute_result"
    }
   ],
   "source": [
    "print(colored('Aleatoriedad', attrs=['bold']))\n",
    "data_final = data_final.reset_index()\n",
    "indices = list(data_final.index)\n",
    "random.shuffle(indices)\n",
    "data_final = data_final.reindex(indices)\n",
    "data_final.head()"
   ]
  },
  {
   "cell_type": "code",
   "execution_count": 47,
   "metadata": {},
   "outputs": [
    {
     "data": {
      "text/plain": [
       "index                              0\n",
       "#Bytes                             0\n",
       "#dp                                0\n",
       "#packets                           0\n",
       "#sp                                0\n",
       "Avg_bpp                            0\n",
       "Avg_bps                            0\n",
       "Avg_pps                            0\n",
       "Cryptocurrency_Bitcash          4733\n",
       "Cryptocurrency_Bitcoin          4733\n",
       "Cryptocurrency_Does not have       0\n",
       "Cryptocurrency_Etherium         4733\n",
       "Cryptocurrency_Litecoin         4733\n",
       "Cryptocurrency_Monero           4733\n",
       "Cryptocurrency_Unidentified     4733\n",
       "First_Protocol_ICMP                0\n",
       "First_Protocol_ICMP6               0\n",
       "First_Protocol_TCP                 0\n",
       "First_Protocol_UDP                 0\n",
       "Netflows                           0\n",
       "Type_mine                          0\n",
       "Type_not_mine                      0\n",
       "duration                           0\n",
       "first_dp                           0\n",
       "first_sp                           0\n",
       "max_d                              0\n",
       "min_d                              0\n",
       "p1_d                               0\n",
       "p1_ib                              0\n",
       "p1_ip                              0\n",
       "p2_d                               0\n",
       "p2_ib                              0\n",
       "p2_ip                              0\n",
       "p3_d                               0\n",
       "p3_ib                              0\n",
       "p3_ip                              0\n",
       "second_dp                          0\n",
       "second_sp                          0\n",
       "third_dp                           0\n",
       "third_sp                           0\n",
       "dtype: int64"
      ]
     },
     "execution_count": 47,
     "metadata": {},
     "output_type": "execute_result"
    }
   ],
   "source": [
    "data_final.isnull().sum()"
   ]
  },
  {
   "cell_type": "markdown",
   "metadata": {},
   "source": [
    "### Modelo"
   ]
  },
  {
   "cell_type": "code",
   "execution_count": 48,
   "metadata": {},
   "outputs": [],
   "source": [
    "X = data_final[bestFeature]\n",
    "y = data_final['Type_mine']"
   ]
  },
  {
   "cell_type": "code",
   "execution_count": 49,
   "metadata": {},
   "outputs": [],
   "source": [
    "model = DecisionTreeClassifier(\n",
    "    criterion='entropy', \n",
    "    max_depth=5,      \n",
    "    min_samples_split=2,\n",
    "    min_samples_leaf=1,\n",
    "    random_state=None,  \n",
    "    max_leaf_nodes=None, \n",
    "    min_impurity_decrease=0.0, \n",
    "    class_weight=None)"
   ]
  },
  {
   "cell_type": "code",
   "execution_count": 50,
   "metadata": {},
   "outputs": [
    {
     "name": "stdout",
     "output_type": "stream",
     "text": [
      "fit_time: 0.16 (+/- 0.01)\n",
      "score_time: 0.02 (+/- 0.00)\n",
      "test_accuracy: 1.00 (+/- 0.00)\n",
      "test_precision_weighted: 1.00 (+/- 0.00)\n",
      "test_recall_weighted: 1.00 (+/- 0.00)\n",
      "test_f1_weighted: 1.00 (+/- 0.00)\n"
     ]
    }
   ],
   "source": [
    "scoring = ['accuracy', 'precision_weighted', 'recall_weighted', 'f1_weighted']\n",
    "scores = cross_validate(model, X, y, scoring=scoring, cv=10, return_train_score=False)\n",
    "\n",
    "for key in scores:\n",
    "    score = scores[key]\n",
    "    print(\"%s: %0.2f (+/- %0.2f)\" % (key, score.mean(), score.std() * 2))\n"
   ]
  },
  {
   "cell_type": "code",
   "execution_count": 51,
   "metadata": {},
   "outputs": [],
   "source": [
    "K_fold = KFold(n_splits = 10)"
   ]
  },
  {
   "cell_type": "code",
   "execution_count": 52,
   "metadata": {},
   "outputs": [],
   "source": [
    "resultados_train = []\n",
    "resultados_test = []\n",
    "predicciones = []\n",
    "scores = []\n",
    "modelos = []\n",
    "\n",
    "\n",
    "for result in K_fold.split(X):\n",
    "    resultados_train.append(result[0])\n",
    "    resultados_test.append(result[1])\n",
    "    X_train = X.iloc[result[0]]\n",
    "    X_test =  X.iloc[result[1]]\n",
    "    y_train =  y.iloc[result[0]]\n",
    "    y_test =  y.iloc[result[1]]\n",
    "    model = model.fit(X_train,y_train)\n",
    "    modelos.append(model)\n",
    "    predic = model.predict(X_test)\n",
    "    predicciones.append(predic)\n",
    "    scores.append(model.score(X_test, y_test))"
   ]
  },
  {
   "cell_type": "code",
   "execution_count": 53,
   "metadata": {},
   "outputs": [
    {
     "data": {
      "text/plain": [
       "[1.0,\n",
       " 0.9989440337909187,\n",
       " 1.0,\n",
       " 0.9989440337909187,\n",
       " 0.9978880675818373,\n",
       " 1.0,\n",
       " 0.9968287526427061,\n",
       " 0.9978858350951374,\n",
       " 0.9957716701902748,\n",
       " 0.9989429175475687]"
      ]
     },
     "execution_count": 53,
     "metadata": {},
     "output_type": "execute_result"
    }
   ],
   "source": [
    "scores"
   ]
  },
  {
   "cell_type": "code",
   "execution_count": 66,
   "metadata": {
    "scrolled": true
   },
   "outputs": [
    {
     "name": "stdout",
     "output_type": "stream",
     "text": [
      "\u001b[1mMatriz de confusión\u001b[0m\n"
     ]
    },
    {
     "data": {
      "image/png": "[encoded data removed]",
      "text/plain": [
       "<Figure size 432x288 with 2 Axes>"
      ]
     },
     "metadata": {
      "needs_background": "light"
     },
     "output_type": "display_data"
    }
   ],
   "source": [
    "churm = matriz_confusion(y.iloc[resultados_test[0]], predicciones[0], plt.cm.OrRd)"
   ]
  },
  {
   "cell_type": "code",
   "execution_count": 67,
   "metadata": {},
   "outputs": [
    {
     "data": {
      "text/html": [
       "<div>\n",
       "<style scoped>\n",
       "    .dataframe tbody tr th:only-of-type {\n",
       "        vertical-align: middle;\n",
       "    }\n",
       "\n",
       "    .dataframe tbody tr th {\n",
       "        vertical-align: top;\n",
       "    }\n",
       "\n",
       "    .dataframe thead th {\n",
       "        text-align: right;\n",
       "    }\n",
       "</style>\n",
       "<table border=\"1\" class=\"dataframe\">\n",
       "  <thead>\n",
       "    <tr style=\"text-align: right;\">\n",
       "      <th></th>\n",
       "      <th>0</th>\n",
       "      <th>1</th>\n",
       "    </tr>\n",
       "  </thead>\n",
       "  <tbody>\n",
       "    <tr>\n",
       "      <th>0</th>\n",
       "      <td>519</td>\n",
       "      <td>0</td>\n",
       "    </tr>\n",
       "    <tr>\n",
       "      <th>1</th>\n",
       "      <td>0</td>\n",
       "      <td>428</td>\n",
       "    </tr>\n",
       "  </tbody>\n",
       "</table>\n",
       "</div>"
      ],
      "text/plain": [
       "     0    1\n",
       "0  519    0\n",
       "1    0  428"
      ]
     },
     "execution_count": 67,
     "metadata": {},
     "output_type": "execute_result"
    }
   ],
   "source": [
    "pd.DataFrame(churm)"
   ]
  },
  {
   "cell_type": "code",
   "execution_count": 69,
   "metadata": {},
   "outputs": [
    {
     "name": "stdout",
     "output_type": "stream",
     "text": [
      "Exactitud:  1.0\n",
      "Kappa:  1.0\n",
      "\u001b[1mPredicciones de los registros mineros\u001b[0m\n",
      "Precisión:  1.0\n",
      "Recall:  1.0\n",
      "Especificidad :  1.0\n",
      "F1-score      :  1.0\n",
      "\u001b[1mPredicciones de los registros no mineros\u001b[0m\n",
      "Precisión:  1.0\n",
      "Recall:  1.0\n",
      "Especificidad :  1.0\n",
      "F1-score      :  1.0\n"
     ]
    }
   ],
   "source": [
    "metricas(y.iloc[resultados_test[0]], predicciones[0], churm)"
   ]
  },
  {
   "cell_type": "markdown",
   "metadata": {},
   "source": [
    "### Prueba final"
   ]
  },
  {
   "cell_type": "code",
   "execution_count": 71,
   "metadata": {},
   "outputs": [],
   "source": [
    "X_p = dataC[bestFeature]\n",
    "y_p = dataC['Type'].replace({'mine':1,'not_mine':0})"
   ]
  },
  {
   "cell_type": "code",
   "execution_count": 72,
   "metadata": {},
   "outputs": [],
   "source": [
    "y_pred_proba = modelos[0].predict(X_p)"
   ]
  },
  {
   "cell_type": "code",
   "execution_count": 73,
   "metadata": {},
   "outputs": [
    {
     "name": "stdout",
     "output_type": "stream",
     "text": [
      "\u001b[1mMatriz de confusión\u001b[0m\n"
     ]
    },
    {
     "data": {
      "image/png": "[encoded data removed]",
      "text/plain": [
       "<Figure size 432x288 with 2 Axes>"
      ]
     },
     "metadata": {
      "needs_background": "light"
     },
     "output_type": "display_data"
    }
   ],
   "source": [
    "churm = matriz_confusion(y_p, y_pred_proba, plt.cm.Greens)"
   ]
  },
  {
   "cell_type": "code",
   "execution_count": 74,
   "metadata": {},
   "outputs": [
    {
     "data": {
      "text/html": [
       "<div>\n",
       "<style scoped>\n",
       "    .dataframe tbody tr th:only-of-type {\n",
       "        vertical-align: middle;\n",
       "    }\n",
       "\n",
       "    .dataframe tbody tr th {\n",
       "        vertical-align: top;\n",
       "    }\n",
       "\n",
       "    .dataframe thead th {\n",
       "        text-align: right;\n",
       "    }\n",
       "</style>\n",
       "<table border=\"1\" class=\"dataframe\">\n",
       "  <thead>\n",
       "    <tr style=\"text-align: right;\">\n",
       "      <th></th>\n",
       "      <th>0</th>\n",
       "      <th>1</th>\n",
       "    </tr>\n",
       "  </thead>\n",
       "  <tbody>\n",
       "    <tr>\n",
       "      <th>0</th>\n",
       "      <td>128</td>\n",
       "      <td>1</td>\n",
       "    </tr>\n",
       "    <tr>\n",
       "      <th>1</th>\n",
       "      <td>26</td>\n",
       "      <td>19485</td>\n",
       "    </tr>\n",
       "  </tbody>\n",
       "</table>\n",
       "</div>"
      ],
      "text/plain": [
       "     0      1\n",
       "0  128      1\n",
       "1   26  19485"
      ]
     },
     "execution_count": 74,
     "metadata": {},
     "output_type": "execute_result"
    }
   ],
   "source": [
    "pd.DataFrame(churm)"
   ]
  },
  {
   "cell_type": "code",
   "execution_count": 62,
   "metadata": {},
   "outputs": [
    {
     "data": {
      "text/plain": [
       "(19511, 33)"
      ]
     },
     "execution_count": 62,
     "metadata": {},
     "output_type": "execute_result"
    }
   ],
   "source": [
    "dataC[dataC.Type=='mine'].shape"
   ]
  },
  {
   "cell_type": "code",
   "execution_count": 63,
   "metadata": {},
   "outputs": [
    {
     "data": {
      "text/plain": [
       "(129, 33)"
      ]
     },
     "execution_count": 63,
     "metadata": {},
     "output_type": "execute_result"
    }
   ],
   "source": [
    "dataC[dataC.Type=='not_mine'].shape"
   ]
  },
  {
   "cell_type": "code",
   "execution_count": 75,
   "metadata": {},
   "outputs": [
    {
     "name": "stdout",
     "output_type": "stream",
     "text": [
      "Exactitud:  0.9986252545824847\n",
      "Kappa:  0.9039067205857942\n",
      "\u001b[1mPredicciones de los registros mineros\u001b[0m\n",
      "Precisión:  0.9999486811043826\n",
      "Recall:  0.9986674183793758\n",
      "Especificidad :  0.9986674183793758\n",
      "F1-score      :  0.9993076390491576\n",
      "\u001b[1mPredicciones de los registros no mineros\u001b[0m\n",
      "Precisión:  0.8311688311688312\n",
      "Recall:  0.9922480620155039\n",
      "Especificidad :  0.9922480620155039\n",
      "F1-score      :  0.9045936395759718\n"
     ]
    }
   ],
   "source": [
    "metricas(y_p, y_pred_proba, churm)"
   ]
  },
  {
   "cell_type": "code",
   "execution_count": null,
   "metadata": {},
   "outputs": [],
   "source": []
  },
  {
   "cell_type": "code",
   "execution_count": null,
   "metadata": {},
   "outputs": [],
   "source": []
  },
  {
   "cell_type": "code",
   "execution_count": null,
   "metadata": {},
   "outputs": [],
   "source": []
  },
  {
   "cell_type": "code",
   "execution_count": null,
   "metadata": {},
   "outputs": [],
   "source": []
  },
  {
   "cell_type": "code",
   "execution_count": null,
   "metadata": {},
   "outputs": [],
   "source": []
  },
  {
   "cell_type": "code",
   "execution_count": null,
   "metadata": {},
   "outputs": [],
   "source": [
    "y_pred_proba = model.predict_proba(X_test)"
   ]
  },
  {
   "cell_type": "code",
   "execution_count": null,
   "metadata": {},
   "outputs": [],
   "source": [
    "lr_probs = y_pred_proba[:,1]"
   ]
  },
  {
   "cell_type": "code",
   "execution_count": null,
   "metadata": {},
   "outputs": [],
   "source": [
    "ns_probs = [0 for _ in range(len(y_test))]"
   ]
  },
  {
   "cell_type": "code",
   "execution_count": null,
   "metadata": {},
   "outputs": [],
   "source": [
    "ns_auc = metrics.roc_auc_score(y_test, ns_probs)\n",
    "ns_auc"
   ]
  },
  {
   "cell_type": "code",
   "execution_count": null,
   "metadata": {},
   "outputs": [],
   "source": [
    "lr_auc = metrics.roc_auc_score(y_test, lr_probs)\n",
    "lr_auc"
   ]
  },
  {
   "cell_type": "code",
   "execution_count": null,
   "metadata": {},
   "outputs": [],
   "source": [
    "#Sumo los scores\n",
    "print('No Skill: ROC AUC=%.3f' % (ns_auc))\n",
    "print('Treeb: ROC AUC=%.3f' % (lr_auc))"
   ]
  },
  {
   "cell_type": "code",
   "execution_count": null,
   "metadata": {},
   "outputs": [],
   "source": [
    "ns_fpr, ns_tpr, thresholds  = metrics.roc_curve(y_test,ns_probs)\n",
    "lr_fpr, lr_tpr, thresholds = metrics.roc_curve(y_test, lr_probs)"
   ]
  },
  {
   "cell_type": "code",
   "execution_count": null,
   "metadata": {
    "scrolled": true
   },
   "outputs": [],
   "source": [
    "#Plot la roc curva para el modelo\n",
    "plt.plot(ns_fpr,ns_tpr,linestyle='--', label='No Skill')\n",
    "plt.plot(lr_fpr, lr_tpr, marker='.', label='KNN')\n",
    "plt.xlabel('False Positive Rate')\n",
    "plt.ylabel('True Positive Rate')\n",
    "plt.legend()\n",
    "plt.show()"
   ]
  },
  {
   "cell_type": "markdown",
   "metadata": {},
   "source": [
    "Holdaunt 70% pero debo hacer una validadci{on cruzada en este conjunto de entrenamiento (Puros), de este cruz validation saldra un modelo, y lo testeo con el 30%, con este porcentaje, le saco las metricas"
   ]
  }
 ],
 "metadata": {
  "kernelspec": {
   "display_name": "Python 3",
   "language": "python",
   "name": "python3"
  },
  "language_info": {
   "codemirror_mode": {
    "name": "ipython",
    "version": 3
   },
   "file_extension": ".py",
   "mimetype": "text/x-python",
   "name": "python",
   "nbconvert_exporter": "python",
   "pygments_lexer": "ipython3",
   "version": "3.7.3"
  }
 },
 "nbformat": 4,
 "nbformat_minor": 2
}
