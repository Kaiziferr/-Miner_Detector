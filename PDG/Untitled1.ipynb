{
 "cells": [
  {
   "cell_type": "code",
   "execution_count": 186,
   "metadata": {},
   "outputs": [],
   "source": [
    "import pandas as pd\n",
    "import numpy as np\n",
    "import seaborn as sns\n",
    "import matplotlib.pyplot as plt\n",
    "from sklearn import metrics\n",
    "from sklearn.impute import SimpleImputer\n",
    "from sklearn.feature_selection import VarianceThreshold\n",
    "from sklearn.model_selection import train_test_split\n",
    "from sklearn.compose import ColumnTransformer, make_column_selector\n",
    "from sklearn.preprocessing import OneHotEncoder, StandardScaler\n",
    "from sklearn.neighbors import NearestNeighbors, KNeighborsClassifier"
   ]
  },
  {
   "cell_type": "code",
   "execution_count": 143,
   "metadata": {
    "scrolled": true
   },
   "outputs": [
    {
     "data": {
      "text/html": [
       "<div>\n",
       "<style scoped>\n",
       "    .dataframe tbody tr th:only-of-type {\n",
       "        vertical-align: middle;\n",
       "    }\n",
       "\n",
       "    .dataframe tbody tr th {\n",
       "        vertical-align: top;\n",
       "    }\n",
       "\n",
       "    .dataframe thead th {\n",
       "        text-align: right;\n",
       "    }\n",
       "</style>\n",
       "<table border=\"1\" class=\"dataframe\">\n",
       "  <thead>\n",
       "    <tr style=\"text-align: right;\">\n",
       "      <th></th>\n",
       "      <th>index</th>\n",
       "      <th>Name</th>\n",
       "      <th>Netflows</th>\n",
       "      <th>First_Protocol</th>\n",
       "      <th>Second_Protocol</th>\n",
       "      <th>Third_Protocol</th>\n",
       "      <th>p1_d</th>\n",
       "      <th>p2_d</th>\n",
       "      <th>p3_d</th>\n",
       "      <th>duration</th>\n",
       "      <th>...</th>\n",
       "      <th>second_dp</th>\n",
       "      <th>third_dp</th>\n",
       "      <th>p1_ip</th>\n",
       "      <th>p2_ip</th>\n",
       "      <th>p3_ip</th>\n",
       "      <th>p1_ib</th>\n",
       "      <th>p2_ib</th>\n",
       "      <th>p3_ib</th>\n",
       "      <th>Type</th>\n",
       "      <th>Cryptocurrency</th>\n",
       "    </tr>\n",
       "  </thead>\n",
       "  <tbody>\n",
       "    <tr>\n",
       "      <th>0</th>\n",
       "      <td>2189</td>\n",
       "      <td>1123-csves/1.csv</td>\n",
       "      <td>4</td>\n",
       "      <td>UDP</td>\n",
       "      <td>NaN</td>\n",
       "      <td>NaN</td>\n",
       "      <td>0.0</td>\n",
       "      <td>0.0</td>\n",
       "      <td>0.0</td>\n",
       "      <td>0.0</td>\n",
       "      <td>...</td>\n",
       "      <td>41346.0</td>\n",
       "      <td>58136.0</td>\n",
       "      <td>1.0</td>\n",
       "      <td>1.0</td>\n",
       "      <td>1.0</td>\n",
       "      <td>34.25</td>\n",
       "      <td>41.5</td>\n",
       "      <td>48.75</td>\n",
       "      <td>not_mine</td>\n",
       "      <td>Does_not_have</td>\n",
       "    </tr>\n",
       "  </tbody>\n",
       "</table>\n",
       "<p>1 rows × 33 columns</p>\n",
       "</div>"
      ],
      "text/plain": [
       "   index              Name  Netflows First_Protocol Second_Protocol  \\\n",
       "0   2189  1123-csves/1.csv         4            UDP             NaN   \n",
       "\n",
       "  Third_Protocol  p1_d  p2_d  p3_d  duration  ...  second_dp  third_dp  p1_ip  \\\n",
       "0            NaN   0.0   0.0   0.0       0.0  ...    41346.0   58136.0    1.0   \n",
       "\n",
       "   p2_ip  p3_ip  p1_ib  p2_ib  p3_ib      Type  Cryptocurrency  \n",
       "0    1.0    1.0  34.25   41.5  48.75  not_mine   Does_not_have  \n",
       "\n",
       "[1 rows x 33 columns]"
      ]
     },
     "execution_count": 143,
     "metadata": {},
     "output_type": "execute_result"
    }
   ],
   "source": [
    "data_I = pd.read_csv('./data_identificada.csv')\n",
    "data_I.head(1)"
   ]
  },
  {
   "cell_type": "code",
   "execution_count": 144,
   "metadata": {},
   "outputs": [],
   "source": [
    "data_I = data_I.drop(['index', 'Name'], axis = 1)"
   ]
  },
  {
   "cell_type": "markdown",
   "metadata": {},
   "source": [
    "# Preprocesado"
   ]
  },
  {
   "cell_type": "markdown",
   "metadata": {},
   "source": [
    "### Eliminar valores ausentes no imputables"
   ]
  },
  {
   "cell_type": "code",
   "execution_count": 145,
   "metadata": {},
   "outputs": [],
   "source": [
    "data_I = data_I.drop(['Second_Protocol','Third_Protocol'], axis=1)"
   ]
  },
  {
   "cell_type": "markdown",
   "metadata": {},
   "source": [
    "### Imputación de valores ausentes"
   ]
  },
  {
   "cell_type": "code",
   "execution_count": 146,
   "metadata": {},
   "outputs": [],
   "source": [
    "punter = pd.concat([data_I['second_sp'],data_I['second_dp'],data_I['third_sp'],data_I['third_dp']], axis = 1)\n",
    "imputer = SimpleImputer(missing_values = np.nan, strategy=\"median\")\n",
    "value = imputer.fit_transform(punter)"
   ]
  },
  {
   "cell_type": "code",
   "execution_count": 147,
   "metadata": {},
   "outputs": [],
   "source": [
    "temp = data_I.drop(['second_sp','second_dp','third_sp','third_dp'], axis = 1)\n",
    "punter = pd.DataFrame(value, columns = punter.columns)"
   ]
  },
  {
   "cell_type": "code",
   "execution_count": 148,
   "metadata": {},
   "outputs": [
    {
     "data": {
      "text/html": [
       "<div>\n",
       "<style scoped>\n",
       "    .dataframe tbody tr th:only-of-type {\n",
       "        vertical-align: middle;\n",
       "    }\n",
       "\n",
       "    .dataframe tbody tr th {\n",
       "        vertical-align: top;\n",
       "    }\n",
       "\n",
       "    .dataframe thead th {\n",
       "        text-align: right;\n",
       "    }\n",
       "</style>\n",
       "<table border=\"1\" class=\"dataframe\">\n",
       "  <thead>\n",
       "    <tr style=\"text-align: right;\">\n",
       "      <th></th>\n",
       "      <th>Netflows</th>\n",
       "      <th>First_Protocol</th>\n",
       "      <th>p1_d</th>\n",
       "      <th>p2_d</th>\n",
       "      <th>p3_d</th>\n",
       "      <th>duration</th>\n",
       "      <th>max_d</th>\n",
       "      <th>min_d</th>\n",
       "      <th>#packets</th>\n",
       "      <th>Avg_bps</th>\n",
       "      <th>...</th>\n",
       "      <th>p3_ip</th>\n",
       "      <th>p1_ib</th>\n",
       "      <th>p2_ib</th>\n",
       "      <th>p3_ib</th>\n",
       "      <th>Type</th>\n",
       "      <th>Cryptocurrency</th>\n",
       "      <th>second_sp</th>\n",
       "      <th>second_dp</th>\n",
       "      <th>third_sp</th>\n",
       "      <th>third_dp</th>\n",
       "    </tr>\n",
       "  </thead>\n",
       "  <tbody>\n",
       "    <tr>\n",
       "      <th>0</th>\n",
       "      <td>4</td>\n",
       "      <td>UDP</td>\n",
       "      <td>0.0</td>\n",
       "      <td>0.0</td>\n",
       "      <td>0.0</td>\n",
       "      <td>0.0</td>\n",
       "      <td>0.0</td>\n",
       "      <td>0.0</td>\n",
       "      <td>4</td>\n",
       "      <td>442666</td>\n",
       "      <td>...</td>\n",
       "      <td>1.0</td>\n",
       "      <td>34.25</td>\n",
       "      <td>41.5</td>\n",
       "      <td>48.75</td>\n",
       "      <td>not_mine</td>\n",
       "      <td>Does_not_have</td>\n",
       "      <td>41346.0</td>\n",
       "      <td>41346.0</td>\n",
       "      <td>58136.0</td>\n",
       "      <td>58136.0</td>\n",
       "    </tr>\n",
       "  </tbody>\n",
       "</table>\n",
       "<p>1 rows × 29 columns</p>\n",
       "</div>"
      ],
      "text/plain": [
       "   Netflows First_Protocol  p1_d  p2_d  p3_d  duration  max_d  min_d  \\\n",
       "0         4            UDP   0.0   0.0   0.0       0.0    0.0    0.0   \n",
       "\n",
       "   #packets  Avg_bps  ...  p3_ip  p1_ib  p2_ib  p3_ib      Type  \\\n",
       "0         4   442666  ...    1.0  34.25   41.5  48.75  not_mine   \n",
       "\n",
       "   Cryptocurrency  second_sp  second_dp  third_sp  third_dp  \n",
       "0   Does_not_have    41346.0    41346.0   58136.0   58136.0  \n",
       "\n",
       "[1 rows x 29 columns]"
      ]
     },
     "execution_count": 148,
     "metadata": {},
     "output_type": "execute_result"
    }
   ],
   "source": [
    "data_I = pd.concat([temp,punter], axis = 1)\n",
    "data_I.head(1)"
   ]
  },
  {
   "cell_type": "markdown",
   "metadata": {},
   "source": [
    "### Exclusión de variables con varianza próxima a cero"
   ]
  },
  {
   "cell_type": "code",
   "execution_count": 149,
   "metadata": {
    "scrolled": true
   },
   "outputs": [
    {
     "data": {
      "text/plain": [
       "array([[4.000000e+00, 0.000000e+00, 0.000000e+00, ..., 3.425000e+01,\n",
       "        4.150000e+01, 4.875000e+01],\n",
       "       [1.500000e+01, 7.404000e+00, 2.987600e+01, ..., 3.975000e+02,\n",
       "        8.740000e+02, 3.670500e+03],\n",
       "       [2.000000e+00, 2.002425e+01, 2.003150e+01, ..., 4.302500e+02,\n",
       "        8.005000e+02, 1.170750e+03],\n",
       "       ...,\n",
       "       [2.000000e+00, 2.711955e+02, 2.711970e+02, ..., 2.641750e+03,\n",
       "        4.939500e+03, 7.237250e+03],\n",
       "       [2.090000e+02, 0.000000e+00, 0.000000e+00, ..., 3.200000e+01,\n",
       "        3.700000e+01, 5.420000e+02],\n",
       "       [1.620000e+02, 0.000000e+00, 6.555000e-01, ..., 3.200000e+01,\n",
       "        6.400000e+01, 1.277500e+02]])"
      ]
     },
     "execution_count": 149,
     "metadata": {},
     "output_type": "execute_result"
    }
   ],
   "source": [
    "thresholder  = VarianceThreshold(threshold = 0.5)\n",
    "values = thresholder.fit_transform(data_I[data_numeric])\n",
    "values"
   ]
  },
  {
   "cell_type": "code",
   "execution_count": 151,
   "metadata": {},
   "outputs": [],
   "source": [
    "data_numeric = data_I.select_dtypes(include = ['float64','int64']).columns.to_list()\n",
    "data_categoric = data_I.select_dtypes(include = ['object']).columns.to_list()"
   ]
  },
  {
   "cell_type": "code",
   "execution_count": 152,
   "metadata": {},
   "outputs": [],
   "source": [
    "preprocessor = ColumnTransformer([\n",
    "    ('scale', StandardScaler(), data_numeric), ('onehot', OneHotEncoder(handle_unknown='ignore'), data_categoric)\n",
    "], remainder='passthrough')"
   ]
  },
  {
   "cell_type": "code",
   "execution_count": 158,
   "metadata": {},
   "outputs": [],
   "source": [
    "values = preprocessor.fit_transform(data_I)"
   ]
  },
  {
   "cell_type": "code",
   "execution_count": 161,
   "metadata": {},
   "outputs": [],
   "source": [
    "code = preprocessor.named_transformers_['onehot'].get_feature_names(data_categoric)\n",
    "labels = np.concatenate([data_numeric,code])\n",
    "data_IP = pd.DataFrame(values, columns = labels)"
   ]
  },
  {
   "cell_type": "markdown",
   "metadata": {},
   "source": [
    "### Defino mi variable a predecir y mis predictores"
   ]
  },
  {
   "cell_type": "code",
   "execution_count": 168,
   "metadata": {},
   "outputs": [],
   "source": [
    "y = data_IP.Type_mine\n",
    "X = data_IP.drop(['Type_mine','Type_not_mine'],axis = 1)"
   ]
  },
  {
   "cell_type": "markdown",
   "metadata": {},
   "source": [
    "### Holdout"
   ]
  },
  {
   "cell_type": "code",
   "execution_count": 219,
   "metadata": {},
   "outputs": [],
   "source": [
    "X_train, X_test, y_train, y_test = train_test_split(X,y,train_size = 0.7, test_size=0.3, random_state = 1234)"
   ]
  },
  {
   "cell_type": "code",
   "execution_count": null,
   "metadata": {},
   "outputs": [],
   "source": []
  },
  {
   "cell_type": "markdown",
   "metadata": {},
   "source": [
    "### KNN"
   ]
  },
  {
   "cell_type": "code",
   "execution_count": 220,
   "metadata": {},
   "outputs": [],
   "source": [
    "k_vec = np.arange(1,40,2)"
   ]
  },
  {
   "cell_type": "code",
   "execution_count": 221,
   "metadata": {
    "scrolled": true
   },
   "outputs": [
    {
     "data": {
      "text/html": [
       "<div>\n",
       "<style scoped>\n",
       "    .dataframe tbody tr th:only-of-type {\n",
       "        vertical-align: middle;\n",
       "    }\n",
       "\n",
       "    .dataframe tbody tr th {\n",
       "        vertical-align: top;\n",
       "    }\n",
       "\n",
       "    .dataframe thead th {\n",
       "        text-align: right;\n",
       "    }\n",
       "</style>\n",
       "<table border=\"1\" class=\"dataframe\">\n",
       "  <thead>\n",
       "    <tr style=\"text-align: right;\">\n",
       "      <th></th>\n",
       "      <th>K</th>\n",
       "      <th>vec_train</th>\n",
       "      <th>vec_test</th>\n",
       "    </tr>\n",
       "  </thead>\n",
       "  <tbody>\n",
       "    <tr>\n",
       "      <th>0</th>\n",
       "      <td>1</td>\n",
       "      <td>1.000000</td>\n",
       "      <td>1.000000</td>\n",
       "    </tr>\n",
       "    <tr>\n",
       "      <th>1</th>\n",
       "      <td>3</td>\n",
       "      <td>1.000000</td>\n",
       "      <td>0.999296</td>\n",
       "    </tr>\n",
       "    <tr>\n",
       "      <th>2</th>\n",
       "      <td>5</td>\n",
       "      <td>1.000000</td>\n",
       "      <td>0.999296</td>\n",
       "    </tr>\n",
       "    <tr>\n",
       "      <th>3</th>\n",
       "      <td>7</td>\n",
       "      <td>0.999698</td>\n",
       "      <td>0.999296</td>\n",
       "    </tr>\n",
       "    <tr>\n",
       "      <th>4</th>\n",
       "      <td>9</td>\n",
       "      <td>0.999698</td>\n",
       "      <td>0.999296</td>\n",
       "    </tr>\n",
       "    <tr>\n",
       "      <th>5</th>\n",
       "      <td>11</td>\n",
       "      <td>0.999698</td>\n",
       "      <td>1.000000</td>\n",
       "    </tr>\n",
       "    <tr>\n",
       "      <th>6</th>\n",
       "      <td>13</td>\n",
       "      <td>0.999396</td>\n",
       "      <td>1.000000</td>\n",
       "    </tr>\n",
       "    <tr>\n",
       "      <th>7</th>\n",
       "      <td>15</td>\n",
       "      <td>0.999396</td>\n",
       "      <td>1.000000</td>\n",
       "    </tr>\n",
       "    <tr>\n",
       "      <th>8</th>\n",
       "      <td>17</td>\n",
       "      <td>0.999396</td>\n",
       "      <td>1.000000</td>\n",
       "    </tr>\n",
       "    <tr>\n",
       "      <th>9</th>\n",
       "      <td>19</td>\n",
       "      <td>0.999396</td>\n",
       "      <td>1.000000</td>\n",
       "    </tr>\n",
       "    <tr>\n",
       "      <th>10</th>\n",
       "      <td>21</td>\n",
       "      <td>0.997283</td>\n",
       "      <td>0.997887</td>\n",
       "    </tr>\n",
       "    <tr>\n",
       "      <th>11</th>\n",
       "      <td>23</td>\n",
       "      <td>0.997283</td>\n",
       "      <td>0.997183</td>\n",
       "    </tr>\n",
       "    <tr>\n",
       "      <th>12</th>\n",
       "      <td>25</td>\n",
       "      <td>0.996982</td>\n",
       "      <td>0.997183</td>\n",
       "    </tr>\n",
       "    <tr>\n",
       "      <th>13</th>\n",
       "      <td>27</td>\n",
       "      <td>0.996982</td>\n",
       "      <td>0.997183</td>\n",
       "    </tr>\n",
       "    <tr>\n",
       "      <th>14</th>\n",
       "      <td>29</td>\n",
       "      <td>0.996982</td>\n",
       "      <td>0.997183</td>\n",
       "    </tr>\n",
       "    <tr>\n",
       "      <th>15</th>\n",
       "      <td>31</td>\n",
       "      <td>0.996982</td>\n",
       "      <td>0.996479</td>\n",
       "    </tr>\n",
       "    <tr>\n",
       "      <th>16</th>\n",
       "      <td>33</td>\n",
       "      <td>0.995171</td>\n",
       "      <td>0.990141</td>\n",
       "    </tr>\n",
       "    <tr>\n",
       "      <th>17</th>\n",
       "      <td>35</td>\n",
       "      <td>0.994567</td>\n",
       "      <td>0.989437</td>\n",
       "    </tr>\n",
       "    <tr>\n",
       "      <th>18</th>\n",
       "      <td>37</td>\n",
       "      <td>0.994265</td>\n",
       "      <td>0.989437</td>\n",
       "    </tr>\n",
       "    <tr>\n",
       "      <th>19</th>\n",
       "      <td>39</td>\n",
       "      <td>0.993359</td>\n",
       "      <td>0.989437</td>\n",
       "    </tr>\n",
       "  </tbody>\n",
       "</table>\n",
       "</div>"
      ],
      "text/plain": [
       "     K  vec_train  vec_test\n",
       "0    1   1.000000  1.000000\n",
       "1    3   1.000000  0.999296\n",
       "2    5   1.000000  0.999296\n",
       "3    7   0.999698  0.999296\n",
       "4    9   0.999698  0.999296\n",
       "5   11   0.999698  1.000000\n",
       "6   13   0.999396  1.000000\n",
       "7   15   0.999396  1.000000\n",
       "8   17   0.999396  1.000000\n",
       "9   19   0.999396  1.000000\n",
       "10  21   0.997283  0.997887\n",
       "11  23   0.997283  0.997183\n",
       "12  25   0.996982  0.997183\n",
       "13  27   0.996982  0.997183\n",
       "14  29   0.996982  0.997183\n",
       "15  31   0.996982  0.996479\n",
       "16  33   0.995171  0.990141\n",
       "17  35   0.994567  0.989437\n",
       "18  37   0.994265  0.989437\n",
       "19  39   0.993359  0.989437"
      ]
     },
     "metadata": {},
     "output_type": "display_data"
    }
   ],
   "source": [
    "vec_train = []\n",
    "vec_test =[]\n",
    "\n",
    "for k in k_vec:\n",
    "    knn = KNeighborsClassifier(n_neighbors=k)\n",
    "    knn.fit(X_train, y_train)\n",
    "    y_pred = knn.predict(X_train)\n",
    "    vec_train.append(metrics.accuracy_score(y_train, y_pred))\n",
    "    y_pred = knn.predict(X_test)\n",
    "    vec_test.append(metrics.accuracy_score(y_test, y_pred))\n",
    "v = pd.DataFrame()\n",
    "v['K'] = k_vec\n",
    "v['vec_train'] = vec_train\n",
    "v['vec_test'] = vec_test\n",
    "display(v)"
   ]
  },
  {
   "cell_type": "code",
   "execution_count": 222,
   "metadata": {
    "scrolled": true
   },
   "outputs": [
    {
     "data": {
      "text/plain": [
       "<matplotlib.legend.Legend at 0x1bb575c1da0>"
      ]
     },
     "execution_count": 222,
     "metadata": {},
     "output_type": "execute_result"
    },
    {
     "data": {
      "image/png": "[encoded data removed]",
      "text/plain": [
       "<Figure size 720x360 with 1 Axes>"
      ]
     },
     "metadata": {
      "needs_background": "light"
     },
     "output_type": "display_data"
    }
   ],
   "source": [
    "plt.figure(figsize=(10,5))\n",
    "ax = plt.gca()\n",
    "plt.plot(k_vec, vec_train)\n",
    "plt.plot(k_vec, vec_test)\n",
    "ax.set_xlim(ax.get_xlim()[::-1])\n",
    "plt.axis('tight')\n",
    "plt.xlabel('k')\n",
    "plt.ylabel('accuracy')\n",
    "plt.title('Evolución de le exactitud vs complejidad del modelo k-nn (valor de k más pequeño)')\n",
    "plt.legend(['train', 'test'])"
   ]
  },
  {
   "cell_type": "code",
   "execution_count": 223,
   "metadata": {},
   "outputs": [],
   "source": [
    "k_best = 27"
   ]
  },
  {
   "cell_type": "code",
   "execution_count": 224,
   "metadata": {},
   "outputs": [
    {
     "data": {
      "text/plain": [
       "KNeighborsClassifier(algorithm='auto', leaf_size=30, metric='minkowski',\n",
       "                     metric_params=None, n_jobs=None, n_neighbors=27, p=2,\n",
       "                     weights='uniform')"
      ]
     },
     "execution_count": 224,
     "metadata": {},
     "output_type": "execute_result"
    }
   ],
   "source": [
    "knn = KNeighborsClassifier(n_neighbors=k_best)\n",
    "knn.fit(X_train,y_train)"
   ]
  },
  {
   "cell_type": "code",
   "execution_count": 225,
   "metadata": {},
   "outputs": [],
   "source": [
    "y_pred = knn.predict(X_test)"
   ]
  },
  {
   "cell_type": "code",
   "execution_count": 226,
   "metadata": {},
   "outputs": [
    {
     "name": "stdout",
     "output_type": "stream",
     "text": [
      "Clases reales : 1906    0.0\n",
      "1937    0.0\n",
      "474     0.0\n",
      "1781    1.0\n",
      "4392    0.0\n",
      "4079    1.0\n",
      "672     0.0\n",
      "2333    0.0\n",
      "626     0.0\n",
      "2208    1.0\n",
      "369     0.0\n",
      "1336    0.0\n",
      "4578    0.0\n",
      "302     0.0\n",
      "2221    0.0\n",
      "760     0.0\n",
      "1372    0.0\n",
      "1738    0.0\n",
      "1391    0.0\n",
      "1633    1.0\n",
      "854     0.0\n",
      "1517    1.0\n",
      "4595    0.0\n",
      "1471    1.0\n",
      "3708    0.0\n",
      "3372    1.0\n",
      "4500    1.0\n",
      "4654    0.0\n",
      "2059    0.0\n",
      "3910    0.0\n",
      "       ... \n",
      "1413    1.0\n",
      "1952    0.0\n",
      "4394    1.0\n",
      "3215    1.0\n",
      "1745    1.0\n",
      "891     1.0\n",
      "1221    1.0\n",
      "3108    1.0\n",
      "4533    0.0\n",
      "2661    1.0\n",
      "3500    0.0\n",
      "4083    0.0\n",
      "3117    0.0\n",
      "2280    0.0\n",
      "888     0.0\n",
      "443     0.0\n",
      "3639    0.0\n",
      "738     0.0\n",
      "3231    1.0\n",
      "1364    1.0\n",
      "4290    0.0\n",
      "4553    0.0\n",
      "2577    0.0\n",
      "506     1.0\n",
      "2202    0.0\n",
      "4404    1.0\n",
      "2123    0.0\n",
      "2649    0.0\n",
      "4195    0.0\n",
      "3744    0.0\n",
      "Name: Type_mine, Length: 1420, dtype: float64\n",
      "Clases reales : [0. 0. 0. ... 0. 0. 0.]\n"
     ]
    }
   ],
   "source": [
    "print(\"Clases reales :\", y_test)\n",
    "print(\"Clases reales :\", y_pred)"
   ]
  },
  {
   "cell_type": "markdown",
   "metadata": {},
   "source": [
    "### Métricas y matriz de confusión"
   ]
  },
  {
   "cell_type": "code",
   "execution_count": 227,
   "metadata": {
    "scrolled": true
   },
   "outputs": [
    {
     "data": {
      "text/plain": [
       "([<matplotlib.axis.YTick at 0x1bb5860e6d8>,\n",
       "  <matplotlib.axis.YTick at 0x1bb57594dd8>,\n",
       "  <matplotlib.axis.YTick at 0x1bb585ef748>],\n",
       " <a list of 2 Text yticklabel objects>)"
      ]
     },
     "execution_count": 227,
     "metadata": {},
     "output_type": "execute_result"
    },
    {
     "data": {
      "image/png": "[encoded data removed]",
      "text/plain": [
       "<Figure size 432x288 with 2 Axes>"
      ]
     },
     "metadata": {
      "needs_background": "light"
     },
     "output_type": "display_data"
    }
   ],
   "source": [
    "churm = metrics.confusion_matrix(y_test, y_pred)\n",
    "plt.imshow(churm, cmap=plt.cm.Blues)\n",
    "plt.title(f\"Matriz de confusión para K={k_best}\")\n",
    "plt.colorbar()\n",
    "plt.xticks(tick_marks, data_IP[['Type_mine','Type_not_mine']])\n",
    "plt.yticks(tick_marks, data_IP[['Type_mine','Type_not_mine']])"
   ]
  },
  {
   "cell_type": "code",
   "execution_count": 228,
   "metadata": {},
   "outputs": [
    {
     "data": {
      "text/plain": [
       "array([[758,   4],\n",
       "       [  0, 658]], dtype=int64)"
      ]
     },
     "execution_count": 228,
     "metadata": {},
     "output_type": "execute_result"
    }
   ],
   "source": [
    "churm"
   ]
  },
  {
   "cell_type": "code",
   "execution_count": null,
   "metadata": {},
   "outputs": [],
   "source": [
    "print()"
   ]
  },
  {
   "cell_type": "code",
   "execution_count": null,
   "metadata": {},
   "outputs": [],
   "source": []
  },
  {
   "cell_type": "code",
   "execution_count": null,
   "metadata": {},
   "outputs": [],
   "source": []
  },
  {
   "cell_type": "code",
   "execution_count": null,
   "metadata": {},
   "outputs": [],
   "source": []
  },
  {
   "cell_type": "markdown",
   "metadata": {},
   "source": [
    "### Cross_Val_Score"
   ]
  },
  {
   "cell_type": "code",
   "execution_count": null,
   "metadata": {},
   "outputs": [],
   "source": [
    "knn = neighbors.KNeighborsClassifier(n_neighbors=11)\n",
    "exactitud = cross_val_score(knn, X_cod, y_cod, cv = 10, scoring='accuracy')\n",
    "exactitud"
   ]
  },
  {
   "cell_type": "code",
   "execution_count": null,
   "metadata": {},
   "outputs": [],
   "source": [
    "print(\"Exactitudes: %0.2f (+/- %0.2f)\" % (exactitud.mean(), exactitud.std() * 2), exactitud.mean(), exactitud.std())"
   ]
  },
  {
   "cell_type": "code",
   "execution_count": null,
   "metadata": {},
   "outputs": [],
   "source": []
  },
  {
   "cell_type": "code",
   "execution_count": null,
   "metadata": {},
   "outputs": [],
   "source": []
  },
  {
   "cell_type": "code",
   "execution_count": null,
   "metadata": {},
   "outputs": [],
   "source": [
    "data_no_ident = pd.read_csv('Data_No_Identificada_Tratada.csv', sep=',')"
   ]
  },
  {
   "cell_type": "code",
   "execution_count": null,
   "metadata": {},
   "outputs": [],
   "source": [
    "preprocessor = ColumnTransformer(\n",
    "    transformers=[\n",
    "            ('numeric', numeric_transformer, data_num_c)],remainder='passthrough'\n",
    "                )"
   ]
  },
  {
   "cell_type": "code",
   "execution_count": null,
   "metadata": {},
   "outputs": [],
   "source": [
    "data_scaler2 = data_no_ident[data_num_c]"
   ]
  },
  {
   "cell_type": "code",
   "execution_count": null,
   "metadata": {},
   "outputs": [],
   "source": [
    "preprocessor.fit_transform(data_scaler2)\n",
    "datos_transf2 = preprocessor.transform(data_scaler2)\n",
    "datos_transf2 = pd.DataFrame(datos_transf2, columns=data_scaler2.columns)\n",
    "datos_transf2 = pd.concat([datos_transf2, data_no_ident[data_obje_c]],axis=1)"
   ]
  },
  {
   "cell_type": "code",
   "execution_count": null,
   "metadata": {},
   "outputs": [],
   "source": [
    "X2 = datos_transf2[data_num_c]\n",
    "y2 = datos_transf2['Type']"
   ]
  },
  {
   "cell_type": "code",
   "execution_count": null,
   "metadata": {},
   "outputs": [],
   "source": [
    "X_train2, X_test2, y_train2, y_test2 = train_test_split(X2, y2,stratify=y2)"
   ]
  },
  {
   "cell_type": "code",
   "execution_count": null,
   "metadata": {},
   "outputs": [],
   "source": [
    "k_vec = np.arange(1,40,2)\n",
    "k_vec"
   ]
  },
  {
   "cell_type": "code",
   "execution_count": null,
   "metadata": {},
   "outputs": [],
   "source": [
    "temp = y_test2[0:1184]"
   ]
  },
  {
   "cell_type": "markdown",
   "metadata": {},
   "source": []
  },
  {
   "cell_type": "code",
   "execution_count": 175,
   "metadata": {
    "scrolled": true
   },
   "outputs": [
    {
     "ename": "NameError",
     "evalue": "name 'neighbors' is not defined",
     "output_type": "error",
     "traceback": [
      "\u001b[1;31m---------------------------------------------------------------------------\u001b[0m",
      "\u001b[1;31mNameError\u001b[0m                                 Traceback (most recent call last)",
      "\u001b[1;32m<ipython-input-175-32c134f96d40>\u001b[0m in \u001b[0;36m<module>\u001b[1;34m\u001b[0m\n\u001b[0;32m      3\u001b[0m \u001b[1;33m\u001b[0m\u001b[0m\n\u001b[0;32m      4\u001b[0m \u001b[1;32mfor\u001b[0m \u001b[0mk\u001b[0m \u001b[1;32min\u001b[0m  \u001b[0mk_vec\u001b[0m\u001b[1;33m:\u001b[0m\u001b[1;33m\u001b[0m\u001b[1;33m\u001b[0m\u001b[0m\n\u001b[1;32m----> 5\u001b[1;33m     \u001b[0mknn\u001b[0m \u001b[1;33m=\u001b[0m \u001b[0mneighbors\u001b[0m\u001b[1;33m.\u001b[0m\u001b[0mKNeighborsClassifier\u001b[0m\u001b[1;33m(\u001b[0m\u001b[0mn_neighbors\u001b[0m\u001b[1;33m=\u001b[0m\u001b[0mk\u001b[0m\u001b[1;33m)\u001b[0m\u001b[1;33m\u001b[0m\u001b[1;33m\u001b[0m\u001b[0m\n\u001b[0m\u001b[0;32m      6\u001b[0m     \u001b[0mknn\u001b[0m\u001b[1;33m.\u001b[0m\u001b[0mfit\u001b[0m\u001b[1;33m(\u001b[0m\u001b[0mX_train\u001b[0m\u001b[1;33m,\u001b[0m\u001b[0my_train\u001b[0m\u001b[1;33m)\u001b[0m\u001b[1;33m\u001b[0m\u001b[1;33m\u001b[0m\u001b[0m\n\u001b[0;32m      7\u001b[0m     \u001b[0my_pred\u001b[0m \u001b[1;33m=\u001b[0m \u001b[0mknn\u001b[0m\u001b[1;33m.\u001b[0m\u001b[0mpredict\u001b[0m\u001b[1;33m(\u001b[0m\u001b[0mX_train\u001b[0m\u001b[1;33m)\u001b[0m\u001b[1;33m\u001b[0m\u001b[1;33m\u001b[0m\u001b[0m\n",
      "\u001b[1;31mNameError\u001b[0m: name 'neighbors' is not defined"
     ]
    }
   ],
   "source": [
    "vec_train_2 = []\n",
    "vec_test_2 =[]\n",
    "\n",
    "for k in  k_vec:\n",
    "    knn = neighbors.KNeighborsClassifier(n_neighbors=k)\n",
    "    knn.fit(X_train,y_train)\n",
    "    y_pred = knn.predict(X_train)\n",
    "    vec_train_2.append(metrics.accuracy_score(y_train, y_pred))\n",
    "    y_pred = knn.predict(X_test)\n",
    "    vec_test_2.append(metrics.accuracy_score(temp, y_pred))\n",
    "v = pd.DataFrame()\n",
    "v['k'] = k_vec\n",
    "v['vec_train'] = vec_train_2\n",
    "v['vec_test'] = vec_test_2\n",
    "display(v)"
   ]
  },
  {
   "cell_type": "code",
   "execution_count": null,
   "metadata": {},
   "outputs": [],
   "source": [
    "plt.figure(figsize=(10,5))\n",
    "ax = plt.gca()\n",
    "plt.plot(k_vec, vec_train_2)\n",
    "plt.plot(k_vec, vec_test_2)\n",
    "ax.set_xlim(ax.get_xlim()[::-1])\n",
    "plt.axis('tight')\n",
    "plt.xlabel('k')\n",
    "plt.ylabel('accuracy')\n",
    "plt.title('Evolución de le exactitud vs complejidad del modelo k-nn (valor de k más pequeño)')\n",
    "plt.legend(['train', 'test'])"
   ]
  },
  {
   "cell_type": "markdown",
   "metadata": {},
   "source": [
    "knn = neighbors.KNeighborsClassifier(n_neighbors=3)\n",
    "kf = StratifiedKFold(n_splits=10, shuffle=True, random_state=1234)\n",
    "acc_test_vec=[]\n",
    "for indices_train, indices_test in kf.split(X_cod, y_cod):\n",
    "    knn.fit(X_cod[indices_train], y_cod[indices_train])\n",
    "    y_pred = knn.predict(X_cod[indices_test])\n",
    "    acc_test_vec.append(metrics.accuracy_score(y_cod[indices_test], y_pred))  \n",
    "acc_test_vec"
   ]
  },
  {
   "cell_type": "markdown",
   "metadata": {},
   "source": [
    "https://www.analyticslane.com/2018/07/02/gridsearchcv/#:~:text=GridSearchCV%20es%20una%20clase%20disponible,los%20par%C3%A1metros%20de%20un%20modelo.&text=En%20caso%20de%20que%20se,aleatorios%20existe%20el%20m%C3%A9todo%20RandomizedSearchCV."
   ]
  }
 ],
 "metadata": {
  "kernelspec": {
   "display_name": "Python 3",
   "language": "python",
   "name": "python3"
  },
  "language_info": {
   "codemirror_mode": {
    "name": "ipython",
    "version": 3
   },
   "file_extension": ".py",
   "mimetype": "text/x-python",
   "name": "python",
   "nbconvert_exporter": "python",
   "pygments_lexer": "ipython3",
   "version": "3.7.3"
  }
 },
 "nbformat": 4,
 "nbformat_minor": 2
}
