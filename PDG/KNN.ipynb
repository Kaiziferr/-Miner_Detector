{
 "cells": [
  {
   "cell_type": "code",
   "execution_count": 649,
   "metadata": {},
   "outputs": [],
   "source": [
    "import pandas as pd\n",
    "import numpy as np\n",
    "import seaborn as sns\n",
    "import matplotlib.pyplot as plt\n",
    "from sklearn import metrics\n",
    "from sklearn.impute import SimpleImputer\n",
    "from sklearn.feature_selection import VarianceThreshold\n",
    "from sklearn.model_selection import train_test_split\n",
    "from sklearn.compose import ColumnTransformer, make_column_selector\n",
    "from sklearn.preprocessing import OneHotEncoder, StandardScaler\n",
    "from sklearn.neighbors import NearestNeighbors, KNeighborsClassifier\n",
    "\n",
    "from sklearn.feature_selection import SelectKBest, f_classif, mutual_info_regression, chi2, SelectFromModel\n",
    "from sklearn.ensemble import ExtraTreesClassifier\n",
    "from sklearn.discriminant_analysis import LinearDiscriminantAnalysis\n"
   ]
  },
  {
   "cell_type": "code",
   "execution_count": 650,
   "metadata": {},
   "outputs": [
    {
     "data": {
      "text/html": [
       "<div>\n",
       "<style scoped>\n",
       "    .dataframe tbody tr th:only-of-type {\n",
       "        vertical-align: middle;\n",
       "    }\n",
       "\n",
       "    .dataframe tbody tr th {\n",
       "        vertical-align: top;\n",
       "    }\n",
       "\n",
       "    .dataframe thead th {\n",
       "        text-align: right;\n",
       "    }\n",
       "</style>\n",
       "<table border=\"1\" class=\"dataframe\">\n",
       "  <thead>\n",
       "    <tr style=\"text-align: right;\">\n",
       "      <th></th>\n",
       "      <th>index</th>\n",
       "      <th>Name</th>\n",
       "      <th>Netflows</th>\n",
       "      <th>First_Protocol</th>\n",
       "      <th>Second_Protocol</th>\n",
       "      <th>Third_Protocol</th>\n",
       "      <th>p1_d</th>\n",
       "      <th>p2_d</th>\n",
       "      <th>p3_d</th>\n",
       "      <th>duration</th>\n",
       "      <th>...</th>\n",
       "      <th>second_dp</th>\n",
       "      <th>third_dp</th>\n",
       "      <th>p1_ip</th>\n",
       "      <th>p2_ip</th>\n",
       "      <th>p3_ip</th>\n",
       "      <th>p1_ib</th>\n",
       "      <th>p2_ib</th>\n",
       "      <th>p3_ib</th>\n",
       "      <th>Type</th>\n",
       "      <th>Cryptocurrency</th>\n",
       "    </tr>\n",
       "  </thead>\n",
       "  <tbody>\n",
       "    <tr>\n",
       "      <th>0</th>\n",
       "      <td>2189</td>\n",
       "      <td>1123-csves/1.csv</td>\n",
       "      <td>4</td>\n",
       "      <td>UDP</td>\n",
       "      <td>NaN</td>\n",
       "      <td>NaN</td>\n",
       "      <td>0.0</td>\n",
       "      <td>0.0</td>\n",
       "      <td>0.0</td>\n",
       "      <td>0.0</td>\n",
       "      <td>...</td>\n",
       "      <td>41346.0</td>\n",
       "      <td>58136.0</td>\n",
       "      <td>1.0</td>\n",
       "      <td>1.0</td>\n",
       "      <td>1.0</td>\n",
       "      <td>34.25</td>\n",
       "      <td>41.5</td>\n",
       "      <td>48.75</td>\n",
       "      <td>not_mine</td>\n",
       "      <td>Does_not_have</td>\n",
       "    </tr>\n",
       "  </tbody>\n",
       "</table>\n",
       "<p>1 rows × 33 columns</p>\n",
       "</div>"
      ],
      "text/plain": [
       "   index              Name  Netflows First_Protocol Second_Protocol  \\\n",
       "0   2189  1123-csves/1.csv         4            UDP             NaN   \n",
       "\n",
       "  Third_Protocol  p1_d  p2_d  p3_d  duration  ...  second_dp  third_dp  p1_ip  \\\n",
       "0            NaN   0.0   0.0   0.0       0.0  ...    41346.0   58136.0    1.0   \n",
       "\n",
       "   p2_ip  p3_ip  p1_ib  p2_ib  p3_ib      Type  Cryptocurrency  \n",
       "0    1.0    1.0  34.25   41.5  48.75  not_mine   Does_not_have  \n",
       "\n",
       "[1 rows x 33 columns]"
      ]
     },
     "execution_count": 650,
     "metadata": {},
     "output_type": "execute_result"
    }
   ],
   "source": [
    "data_I = pd.read_csv('./data_identificada.csv')\n",
    "data_I.head(1)"
   ]
  },
  {
   "cell_type": "markdown",
   "metadata": {},
   "source": [
    "# Preprocesado"
   ]
  },
  {
   "cell_type": "markdown",
   "metadata": {},
   "source": [
    "### Eliminar valores que no aportan valor"
   ]
  },
  {
   "cell_type": "code",
   "execution_count": 651,
   "metadata": {},
   "outputs": [],
   "source": [
    "data_I = data_I.drop(['index','Name'], axis = 1)"
   ]
  },
  {
   "cell_type": "markdown",
   "metadata": {},
   "source": [
    "### Eliminar valores ausentes no imputables"
   ]
  },
  {
   "cell_type": "code",
   "execution_count": 652,
   "metadata": {},
   "outputs": [],
   "source": [
    "data_I = data_I.drop(['Second_Protocol','Third_Protocol'], axis = 1)"
   ]
  },
  {
   "cell_type": "markdown",
   "metadata": {},
   "source": [
    "### Imputación de valores ausentes"
   ]
  },
  {
   "cell_type": "code",
   "execution_count": 653,
   "metadata": {},
   "outputs": [],
   "source": [
    "punter = pd.concat([data_I['second_sp'], data_I['second_dp'], data_I['third_sp'], data_I['third_dp']], axis = 1)\n",
    "imputer = SimpleImputer(missing_values = np.nan, strategy = \"median\")\n",
    "value = imputer.fit_transform(punter)"
   ]
  },
  {
   "cell_type": "code",
   "execution_count": 654,
   "metadata": {},
   "outputs": [],
   "source": [
    "temp = data_I.drop(['second_sp','second_dp','third_sp','third_dp'], axis = 1)\n",
    "punter = pd.DataFrame(value, columns = punter.columns)"
   ]
  },
  {
   "cell_type": "code",
   "execution_count": 655,
   "metadata": {},
   "outputs": [
    {
     "data": {
      "text/html": [
       "<div>\n",
       "<style scoped>\n",
       "    .dataframe tbody tr th:only-of-type {\n",
       "        vertical-align: middle;\n",
       "    }\n",
       "\n",
       "    .dataframe tbody tr th {\n",
       "        vertical-align: top;\n",
       "    }\n",
       "\n",
       "    .dataframe thead th {\n",
       "        text-align: right;\n",
       "    }\n",
       "</style>\n",
       "<table border=\"1\" class=\"dataframe\">\n",
       "  <thead>\n",
       "    <tr style=\"text-align: right;\">\n",
       "      <th></th>\n",
       "      <th>second_sp</th>\n",
       "      <th>second_dp</th>\n",
       "      <th>third_sp</th>\n",
       "      <th>third_dp</th>\n",
       "      <th>Netflows</th>\n",
       "      <th>First_Protocol</th>\n",
       "      <th>p1_d</th>\n",
       "      <th>p2_d</th>\n",
       "      <th>p3_d</th>\n",
       "      <th>duration</th>\n",
       "      <th>...</th>\n",
       "      <th>first_sp</th>\n",
       "      <th>first_dp</th>\n",
       "      <th>p1_ip</th>\n",
       "      <th>p2_ip</th>\n",
       "      <th>p3_ip</th>\n",
       "      <th>p1_ib</th>\n",
       "      <th>p2_ib</th>\n",
       "      <th>p3_ib</th>\n",
       "      <th>Type</th>\n",
       "      <th>Cryptocurrency</th>\n",
       "    </tr>\n",
       "  </thead>\n",
       "  <tbody>\n",
       "    <tr>\n",
       "      <th>0</th>\n",
       "      <td>41346.0</td>\n",
       "      <td>41346.0</td>\n",
       "      <td>58136.0</td>\n",
       "      <td>58136.0</td>\n",
       "      <td>4</td>\n",
       "      <td>UDP</td>\n",
       "      <td>0.0</td>\n",
       "      <td>0.0</td>\n",
       "      <td>0.0</td>\n",
       "      <td>0.0</td>\n",
       "      <td>...</td>\n",
       "      <td>53</td>\n",
       "      <td>53</td>\n",
       "      <td>1.0</td>\n",
       "      <td>1.0</td>\n",
       "      <td>1.0</td>\n",
       "      <td>34.25</td>\n",
       "      <td>41.5</td>\n",
       "      <td>48.75</td>\n",
       "      <td>not_mine</td>\n",
       "      <td>Does_not_have</td>\n",
       "    </tr>\n",
       "  </tbody>\n",
       "</table>\n",
       "<p>1 rows × 29 columns</p>\n",
       "</div>"
      ],
      "text/plain": [
       "   second_sp  second_dp  third_sp  third_dp  Netflows First_Protocol  p1_d  \\\n",
       "0    41346.0    41346.0   58136.0   58136.0         4            UDP   0.0   \n",
       "\n",
       "   p2_d  p3_d  duration  ...  first_sp  first_dp  p1_ip  p2_ip  p3_ip  p1_ib  \\\n",
       "0   0.0   0.0       0.0  ...        53        53    1.0    1.0    1.0  34.25   \n",
       "\n",
       "   p2_ib  p3_ib      Type  Cryptocurrency  \n",
       "0   41.5  48.75  not_mine   Does_not_have  \n",
       "\n",
       "[1 rows x 29 columns]"
      ]
     },
     "execution_count": 655,
     "metadata": {},
     "output_type": "execute_result"
    }
   ],
   "source": [
    "data_I = pd.concat([punter, temp], axis = 1)\n",
    "data_I.head(1)"
   ]
  },
  {
   "cell_type": "markdown",
   "metadata": {},
   "source": [
    "### Exclusión de variables con varianza próxima a cero"
   ]
  },
  {
   "cell_type": "code",
   "execution_count": 656,
   "metadata": {},
   "outputs": [],
   "source": [
    "data_numeric = data_I.select_dtypes(include = ['float64', 'int64']).columns.to_list()\n",
    "data_categoric = data_I.select_dtypes(include = ['object']).columns.to_list()"
   ]
  },
  {
   "cell_type": "code",
   "execution_count": 657,
   "metadata": {
    "scrolled": true
   },
   "outputs": [
    {
     "data": {
      "text/plain": [
       "array([[4.13460e+04, 4.13460e+04, 5.81360e+04, ..., 3.42500e+01,\n",
       "        4.15000e+01, 4.87500e+01],\n",
       "       [4.44400e+03, 5.87800e+04, 1.23000e+02, ..., 3.97500e+02,\n",
       "        8.74000e+02, 3.67050e+03],\n",
       "       [5.18800e+04, 5.18800e+04, 1.23000e+02, ..., 4.30250e+02,\n",
       "        8.00500e+02, 1.17075e+03],\n",
       "       ...,\n",
       "       [4.98750e+04, 4.98750e+04, 1.23000e+02, ..., 2.64175e+03,\n",
       "        4.93950e+03, 7.23725e+03],\n",
       "       [8.00000e+01, 8.00000e+01, 5.30000e+01, ..., 3.20000e+01,\n",
       "        3.70000e+01, 5.42000e+02],\n",
       "       [8.00000e+01, 8.00000e+01, 5.35300e+03, ..., 3.20000e+01,\n",
       "        6.40000e+01, 1.27750e+02]])"
      ]
     },
     "execution_count": 657,
     "metadata": {},
     "output_type": "execute_result"
    }
   ],
   "source": [
    "thresholder = VarianceThreshold(threshold = 0.5)\n",
    "values = thresholder.fit_transform(data_I[data_numeric])\n",
    "values"
   ]
  },
  {
   "cell_type": "markdown",
   "metadata": {},
   "source": [
    "### Binarización"
   ]
  },
  {
   "cell_type": "code",
   "execution_count": 658,
   "metadata": {},
   "outputs": [],
   "source": [
    "data_categoric = data_I[data_categoric]"
   ]
  },
  {
   "cell_type": "code",
   "execution_count": 659,
   "metadata": {},
   "outputs": [
    {
     "data": {
      "text/plain": [
       "<4733x12 sparse matrix of type '<class 'numpy.float64'>'\n",
       "\twith 14199 stored elements in Compressed Sparse Row format>"
      ]
     },
     "execution_count": 659,
     "metadata": {},
     "output_type": "execute_result"
    }
   ],
   "source": [
    "one_hot =  OneHotEncoder()\n",
    "one_hot.fit_transform(data_categoric)"
   ]
  },
  {
   "cell_type": "code",
   "execution_count": 660,
   "metadata": {},
   "outputs": [
    {
     "data": {
      "text/plain": [
       "[array(['ICMP', 'ICMP6', 'TCP', 'UDP'], dtype=object),\n",
       " array(['mine', 'not_mine'], dtype=object),\n",
       " array(['Bitcash', 'Bitcoin', 'Does_not_have', 'Etherium', 'Litecoin',\n",
       "        'Monero'], dtype=object)]"
      ]
     },
     "execution_count": 660,
     "metadata": {},
     "output_type": "execute_result"
    }
   ],
   "source": [
    "one_hot.categories_"
   ]
  },
  {
   "cell_type": "code",
   "execution_count": 661,
   "metadata": {
    "scrolled": true
   },
   "outputs": [
    {
     "data": {
      "text/html": [
       "<div>\n",
       "<style scoped>\n",
       "    .dataframe tbody tr th:only-of-type {\n",
       "        vertical-align: middle;\n",
       "    }\n",
       "\n",
       "    .dataframe tbody tr th {\n",
       "        vertical-align: top;\n",
       "    }\n",
       "\n",
       "    .dataframe thead th {\n",
       "        text-align: right;\n",
       "    }\n",
       "</style>\n",
       "<table border=\"1\" class=\"dataframe\">\n",
       "  <thead>\n",
       "    <tr style=\"text-align: right;\">\n",
       "      <th></th>\n",
       "      <th>First_Protocol_ICMP</th>\n",
       "      <th>First_Protocol_ICMP6</th>\n",
       "      <th>First_Protocol_TCP</th>\n",
       "      <th>First_Protocol_UDP</th>\n",
       "      <th>Type_mine</th>\n",
       "      <th>Type_not_mine</th>\n",
       "      <th>Cryptocurrency_Bitcash</th>\n",
       "      <th>Cryptocurrency_Bitcoin</th>\n",
       "      <th>Cryptocurrency_Does_not_have</th>\n",
       "      <th>Cryptocurrency_Etherium</th>\n",
       "      <th>Cryptocurrency_Litecoin</th>\n",
       "      <th>Cryptocurrency_Monero</th>\n",
       "    </tr>\n",
       "  </thead>\n",
       "  <tbody>\n",
       "    <tr>\n",
       "      <th>0</th>\n",
       "      <td>0</td>\n",
       "      <td>0</td>\n",
       "      <td>0</td>\n",
       "      <td>1</td>\n",
       "      <td>0</td>\n",
       "      <td>1</td>\n",
       "      <td>0</td>\n",
       "      <td>0</td>\n",
       "      <td>1</td>\n",
       "      <td>0</td>\n",
       "      <td>0</td>\n",
       "      <td>0</td>\n",
       "    </tr>\n",
       "    <tr>\n",
       "      <th>1</th>\n",
       "      <td>0</td>\n",
       "      <td>0</td>\n",
       "      <td>1</td>\n",
       "      <td>0</td>\n",
       "      <td>1</td>\n",
       "      <td>0</td>\n",
       "      <td>0</td>\n",
       "      <td>0</td>\n",
       "      <td>0</td>\n",
       "      <td>1</td>\n",
       "      <td>0</td>\n",
       "      <td>0</td>\n",
       "    </tr>\n",
       "    <tr>\n",
       "      <th>2</th>\n",
       "      <td>0</td>\n",
       "      <td>0</td>\n",
       "      <td>1</td>\n",
       "      <td>0</td>\n",
       "      <td>1</td>\n",
       "      <td>0</td>\n",
       "      <td>0</td>\n",
       "      <td>1</td>\n",
       "      <td>0</td>\n",
       "      <td>0</td>\n",
       "      <td>0</td>\n",
       "      <td>0</td>\n",
       "    </tr>\n",
       "    <tr>\n",
       "      <th>3</th>\n",
       "      <td>0</td>\n",
       "      <td>0</td>\n",
       "      <td>1</td>\n",
       "      <td>0</td>\n",
       "      <td>1</td>\n",
       "      <td>0</td>\n",
       "      <td>0</td>\n",
       "      <td>0</td>\n",
       "      <td>0</td>\n",
       "      <td>0</td>\n",
       "      <td>1</td>\n",
       "      <td>0</td>\n",
       "    </tr>\n",
       "    <tr>\n",
       "      <th>4</th>\n",
       "      <td>0</td>\n",
       "      <td>0</td>\n",
       "      <td>1</td>\n",
       "      <td>0</td>\n",
       "      <td>1</td>\n",
       "      <td>0</td>\n",
       "      <td>0</td>\n",
       "      <td>0</td>\n",
       "      <td>0</td>\n",
       "      <td>0</td>\n",
       "      <td>1</td>\n",
       "      <td>0</td>\n",
       "    </tr>\n",
       "  </tbody>\n",
       "</table>\n",
       "</div>"
      ],
      "text/plain": [
       "   First_Protocol_ICMP  First_Protocol_ICMP6  First_Protocol_TCP  \\\n",
       "0                    0                     0                   0   \n",
       "1                    0                     0                   1   \n",
       "2                    0                     0                   1   \n",
       "3                    0                     0                   1   \n",
       "4                    0                     0                   1   \n",
       "\n",
       "   First_Protocol_UDP  Type_mine  Type_not_mine  Cryptocurrency_Bitcash  \\\n",
       "0                   1          0              1                       0   \n",
       "1                   0          1              0                       0   \n",
       "2                   0          1              0                       0   \n",
       "3                   0          1              0                       0   \n",
       "4                   0          1              0                       0   \n",
       "\n",
       "   Cryptocurrency_Bitcoin  Cryptocurrency_Does_not_have  \\\n",
       "0                       0                             1   \n",
       "1                       0                             0   \n",
       "2                       1                             0   \n",
       "3                       0                             0   \n",
       "4                       0                             0   \n",
       "\n",
       "   Cryptocurrency_Etherium  Cryptocurrency_Litecoin  Cryptocurrency_Monero  \n",
       "0                        0                        0                      0  \n",
       "1                        1                        0                      0  \n",
       "2                        0                        0                      0  \n",
       "3                        0                        1                      0  \n",
       "4                        0                        1                      0  "
      ]
     },
     "execution_count": 661,
     "metadata": {},
     "output_type": "execute_result"
    }
   ],
   "source": [
    "dataDummy = pd.get_dummies(data_categoric)\n",
    "dataDummy.head()"
   ]
  },
  {
   "cell_type": "markdown",
   "metadata": {},
   "source": [
    "### Estandarización"
   ]
  },
  {
   "cell_type": "code",
   "execution_count": 662,
   "metadata": {},
   "outputs": [],
   "source": [
    "data_numeric = data_I[data_numeric]"
   ]
  },
  {
   "cell_type": "code",
   "execution_count": 663,
   "metadata": {},
   "outputs": [],
   "source": [
    "preprocessor = ColumnTransformer([\n",
    "    ('scale', StandardScaler(), data_numeric.columns), \n",
    "], remainder='passthrough')"
   ]
  },
  {
   "cell_type": "code",
   "execution_count": 664,
   "metadata": {},
   "outputs": [
    {
     "data": {
      "text/plain": [
       "array([[ 0.76618537,  0.80679575,  2.55492638, ..., -0.42446618,\n",
       "        -0.48806031, -0.57401182],\n",
       "       [-0.65658219,  1.48773419, -0.48002628, ..., -0.37100766,\n",
       "        -0.40399733, -0.29557994],\n",
       "       [ 1.17232687,  1.21823349, -0.48002628, ..., -0.36618793,\n",
       "        -0.4114191 , -0.48775502],\n",
       "       ...,\n",
       "       [ 1.0950235 ,  1.13992205, -0.48002628, ..., -0.04072747,\n",
       "         0.00652287, -0.02137634],\n",
       "       [-0.8248375 , -0.80497468, -0.48368833, ..., -0.4247973 ,\n",
       "        -0.4885147 , -0.53609188],\n",
       "       [-0.8248375 , -0.80497468, -0.2064186 , ..., -0.4247973 ,\n",
       "        -0.48578834, -0.56793848]])"
      ]
     },
     "execution_count": 664,
     "metadata": {},
     "output_type": "execute_result"
    }
   ],
   "source": [
    "values = preprocessor.fit_transform(data_numeric)\n",
    "values"
   ]
  },
  {
   "cell_type": "code",
   "execution_count": 665,
   "metadata": {
    "scrolled": true
   },
   "outputs": [
    {
     "data": {
      "text/html": [
       "<div>\n",
       "<style scoped>\n",
       "    .dataframe tbody tr th:only-of-type {\n",
       "        vertical-align: middle;\n",
       "    }\n",
       "\n",
       "    .dataframe tbody tr th {\n",
       "        vertical-align: top;\n",
       "    }\n",
       "\n",
       "    .dataframe thead th {\n",
       "        text-align: right;\n",
       "    }\n",
       "</style>\n",
       "<table border=\"1\" class=\"dataframe\">\n",
       "  <thead>\n",
       "    <tr style=\"text-align: right;\">\n",
       "      <th></th>\n",
       "      <th>second_sp</th>\n",
       "      <th>second_dp</th>\n",
       "      <th>third_sp</th>\n",
       "      <th>third_dp</th>\n",
       "      <th>Netflows</th>\n",
       "      <th>p1_d</th>\n",
       "      <th>p2_d</th>\n",
       "      <th>p3_d</th>\n",
       "      <th>duration</th>\n",
       "      <th>max_d</th>\n",
       "      <th>...</th>\n",
       "      <th>#sp</th>\n",
       "      <th>#dp</th>\n",
       "      <th>first_sp</th>\n",
       "      <th>first_dp</th>\n",
       "      <th>p1_ip</th>\n",
       "      <th>p2_ip</th>\n",
       "      <th>p3_ip</th>\n",
       "      <th>p1_ib</th>\n",
       "      <th>p2_ib</th>\n",
       "      <th>p3_ib</th>\n",
       "    </tr>\n",
       "  </thead>\n",
       "  <tbody>\n",
       "    <tr>\n",
       "      <th>0</th>\n",
       "      <td>0.766185</td>\n",
       "      <td>0.806796</td>\n",
       "      <td>2.554926</td>\n",
       "      <td>3.664399</td>\n",
       "      <td>-0.491983</td>\n",
       "      <td>-0.700949</td>\n",
       "      <td>-0.804477</td>\n",
       "      <td>-0.960618</td>\n",
       "      <td>-0.488545</td>\n",
       "      <td>-1.268557</td>\n",
       "      <td>...</td>\n",
       "      <td>-0.540526</td>\n",
       "      <td>-0.524864</td>\n",
       "      <td>-0.507407</td>\n",
       "      <td>-0.527309</td>\n",
       "      <td>-0.368592</td>\n",
       "      <td>-0.401682</td>\n",
       "      <td>-0.465767</td>\n",
       "      <td>-0.424466</td>\n",
       "      <td>-0.48806</td>\n",
       "      <td>-0.574012</td>\n",
       "    </tr>\n",
       "  </tbody>\n",
       "</table>\n",
       "<p>1 rows × 26 columns</p>\n",
       "</div>"
      ],
      "text/plain": [
       "   second_sp  second_dp  third_sp  third_dp  Netflows      p1_d      p2_d  \\\n",
       "0   0.766185   0.806796  2.554926  3.664399 -0.491983 -0.700949 -0.804477   \n",
       "\n",
       "       p3_d  duration     max_d  ...       #sp       #dp  first_sp  first_dp  \\\n",
       "0 -0.960618 -0.488545 -1.268557  ... -0.540526 -0.524864 -0.507407 -0.527309   \n",
       "\n",
       "      p1_ip     p2_ip     p3_ip     p1_ib    p2_ib     p3_ib  \n",
       "0 -0.368592 -0.401682 -0.465767 -0.424466 -0.48806 -0.574012  \n",
       "\n",
       "[1 rows x 26 columns]"
      ]
     },
     "execution_count": 665,
     "metadata": {},
     "output_type": "execute_result"
    }
   ],
   "source": [
    "data_standarizada =  pd.DataFrame(values, columns = data_numeric.columns)\n",
    "data_standarizada.head(1)"
   ]
  },
  {
   "cell_type": "markdown",
   "metadata": {},
   "source": [
    "### Concatenación de la data estandarizada y la data binarizada"
   ]
  },
  {
   "cell_type": "code",
   "execution_count": 666,
   "metadata": {
    "scrolled": true
   },
   "outputs": [
    {
     "data": {
      "text/plain": [
       "Index(['second_sp', 'second_dp', 'third_sp', 'third_dp', 'Netflows', 'p1_d',\n",
       "       'p2_d', 'p3_d', 'duration', 'max_d', 'min_d', '#packets', 'Avg_bps',\n",
       "       'Avg_pps', 'Avg_bpp', '#Bytes', '#sp', '#dp', 'first_sp', 'first_dp',\n",
       "       'p1_ip', 'p2_ip', 'p3_ip', 'p1_ib', 'p2_ib', 'p3_ib',\n",
       "       'First_Protocol_ICMP', 'First_Protocol_ICMP6', 'First_Protocol_TCP',\n",
       "       'First_Protocol_UDP', 'Type_mine', 'Type_not_mine',\n",
       "       'Cryptocurrency_Bitcash', 'Cryptocurrency_Bitcoin',\n",
       "       'Cryptocurrency_Does_not_have', 'Cryptocurrency_Etherium',\n",
       "       'Cryptocurrency_Litecoin', 'Cryptocurrency_Monero'],\n",
       "      dtype='object')"
      ]
     },
     "execution_count": 666,
     "metadata": {},
     "output_type": "execute_result"
    }
   ],
   "source": [
    "data_p = pd.concat([data_standarizada, dataDummy], axis = 1)\n",
    "data_p.columns"
   ]
  },
  {
   "cell_type": "markdown",
   "metadata": {},
   "source": []
  },
  {
   "cell_type": "code",
   "execution_count": 667,
   "metadata": {},
   "outputs": [
    {
     "data": {
      "text/plain": [
       "(4733, 38)"
      ]
     },
     "execution_count": 667,
     "metadata": {},
     "output_type": "execute_result"
    }
   ],
   "source": [
    "data_p.shape"
   ]
  },
  {
   "cell_type": "code",
   "execution_count": 668,
   "metadata": {},
   "outputs": [],
   "source": [
    "from sklearn import decomposition"
   ]
  },
  {
   "cell_type": "code",
   "execution_count": 669,
   "metadata": {},
   "outputs": [],
   "source": [
    "PCA = decomposition.PCA(n_components=5,random_state  = 123)\n",
    "data_PCA = PCA.fit_transform(data_p)"
   ]
  },
  {
   "cell_type": "code",
   "execution_count": 670,
   "metadata": {},
   "outputs": [
    {
     "data": {
      "text/plain": [
       "array([[ 6.58714866e+00,  8.42747353e+00, -2.21747216e+00,\n",
       "         1.10021598e+01,  5.07635439e+00],\n",
       "       [ 1.09671501e-01, -1.93146446e+00,  8.05275325e-01,\n",
       "         4.30326984e-02,  1.20139551e+00],\n",
       "       [ 4.97645144e-01, -2.14807719e+00, -7.03315250e-01,\n",
       "         9.84036678e-01, -4.64327476e-03],\n",
       "       ...,\n",
       "       [-1.59871615e+00, -9.84374295e-01,  2.56687821e-01,\n",
       "         1.17584072e+00, -1.53229584e+00],\n",
       "       [ 3.34705760e+00,  2.21821169e+00,  4.26172741e-01,\n",
       "         1.28411789e+00,  8.42079135e-01],\n",
       "       [ 2.45660314e+00,  2.43539642e-01,  1.96133022e-01,\n",
       "         1.72678409e-01,  5.13668546e-01]])"
      ]
     },
     "execution_count": 670,
     "metadata": {},
     "output_type": "execute_result"
    }
   ],
   "source": [
    "data_PCA"
   ]
  },
  {
   "cell_type": "code",
   "execution_count": null,
   "metadata": {},
   "outputs": [],
   "source": []
  },
  {
   "cell_type": "markdown",
   "metadata": {},
   "source": [
    "# Selección de características "
   ]
  },
  {
   "cell_type": "code",
   "execution_count": 671,
   "metadata": {},
   "outputs": [],
   "source": [
    "y = data_p['Type_mine']\n",
    "X = data_standarizada"
   ]
  },
  {
   "cell_type": "code",
   "execution_count": 672,
   "metadata": {},
   "outputs": [],
   "source": [
    "f_value = SelectKBest(f_classif)\n",
    "X_best = f_value.fit(X,y)"
   ]
  },
  {
   "cell_type": "code",
   "execution_count": 673,
   "metadata": {},
   "outputs": [
    {
     "data": {
      "text/plain": [
       "(array([-500.,    0.,  500., 1000., 1500., 2000., 2500., 3000., 3500.,\n",
       "        4000., 4500.]), <a list of 11 Text yticklabel objects>)"
      ]
     },
     "execution_count": 673,
     "metadata": {},
     "output_type": "execute_result"
    },
    {
     "data": {
      "image/png": "[encoded data removed]",
      "text/plain": [
       "<Figure size 1728x1296 with 1 Axes>"
      ]
     },
     "metadata": {
      "needs_background": "light"
     },
     "output_type": "display_data"
    }
   ],
   "source": [
    "scores = X_best.scores_\n",
    "fig, ax = plt.subplots()\n",
    "ax = plt.rcParams[\"figure.figsize\"] = [24,18]\n",
    "ax = plt.plot(scores)\n",
    "plt.xticks(np.arange(26),np.arange(26), size = 15 )\n",
    "plt.yticks(size = 15)"
   ]
  },
  {
   "cell_type": "code",
   "execution_count": 674,
   "metadata": {},
   "outputs": [
    {
     "data": {
      "text/plain": [
       "Index(['second_sp', 'second_dp', 'p1_d', 'p3_d', 'min_d', '#sp', 'first_dp',\n",
       "       'p2_ib', 'p3_ib'],\n",
       "      dtype='object')"
      ]
     },
     "execution_count": 674,
     "metadata": {},
     "output_type": "execute_result"
    }
   ],
   "source": [
    "data_standarizada.columns[[0,1,5,7,10,16,19,24,25]]"
   ]
  },
  {
   "cell_type": "code",
   "execution_count": 675,
   "metadata": {},
   "outputs": [],
   "source": [
    "y = data_I['Type']\n",
    "X = data_I[data_numeric.columns]"
   ]
  },
  {
   "cell_type": "code",
   "execution_count": 676,
   "metadata": {},
   "outputs": [],
   "source": [
    "clf = ExtraTreesClassifier(n_estimators = 26)\n",
    "clf = clf.fit(X,y)\n",
    "model = SelectFromModel(clf, prefit=True)"
   ]
  },
  {
   "cell_type": "code",
   "execution_count": 677,
   "metadata": {},
   "outputs": [
    {
     "data": {
      "text/plain": [
       "Index(['second_sp', 'second_dp', 'p1_d', 'p2_d', 'min_d', '#sp', '#dp',\n",
       "       'first_sp', 'first_dp'],\n",
       "      dtype='object')"
      ]
     },
     "execution_count": 677,
     "metadata": {},
     "output_type": "execute_result"
    }
   ],
   "source": [
    "X[X.columns[model.get_support(indices = True)]].columns"
   ]
  },
  {
   "cell_type": "code",
   "execution_count": 678,
   "metadata": {},
   "outputs": [],
   "source": [
    "y = data_p['Type_mine']\n",
    "X = data_standarizada"
   ]
  },
  {
   "cell_type": "code",
   "execution_count": 679,
   "metadata": {},
   "outputs": [],
   "source": [
    "dis_l = LinearDiscriminantAnalysis(n_components=None)"
   ]
  },
  {
   "cell_type": "code",
   "execution_count": 680,
   "metadata": {},
   "outputs": [
    {
     "data": {
      "text/plain": [
       "LinearDiscriminantAnalysis(n_components=None, priors=None, shrinkage=None,\n",
       "                           solver='svd', store_covariance=False, tol=0.0001)"
      ]
     },
     "execution_count": 680,
     "metadata": {},
     "output_type": "execute_result"
    }
   ],
   "source": [
    "X_disl = dis_l.fit(X, y)\n",
    "X_disl"
   ]
  },
  {
   "cell_type": "code",
   "execution_count": 681,
   "metadata": {},
   "outputs": [
    {
     "data": {
      "text/plain": [
       "Index(['second_sp', 'second_dp', '#sp', '#dp', 'first_sp', 'first_dp', 'p1_ip',\n",
       "       'p2_ip', 'p3_ib'],\n",
       "      dtype='object')"
      ]
     },
     "execution_count": 681,
     "metadata": {},
     "output_type": "execute_result"
    }
   ],
   "source": [
    "model = SelectFromModel(X_disl, prefit=True)\n",
    "X[X.columns[model.get_support(indices = True)]].columns"
   ]
  },
  {
   "cell_type": "code",
   "execution_count": 682,
   "metadata": {},
   "outputs": [],
   "source": [
    "feature_seleccionadas = ['first_sp','first_dp','second_sp', 'second_dp','p1_d', 'p3_d','min_d','#sp','#dp','p1_ip',\n",
    "       'p2_ip', 'p3_ib']"
   ]
  },
  {
   "cell_type": "code",
   "execution_count": 683,
   "metadata": {
    "scrolled": false
   },
   "outputs": [],
   "source": [
    "feature_seleccionadas = data_standarizada[feature_seleccionadas]"
   ]
  },
  {
   "cell_type": "code",
   "execution_count": 684,
   "metadata": {},
   "outputs": [],
   "source": [
    "X = feature_seleccionadas\n",
    "y = data_I['Type']"
   ]
  },
  {
   "cell_type": "markdown",
   "metadata": {},
   "source": [
    "### Holdout"
   ]
  },
  {
   "cell_type": "code",
   "execution_count": 685,
   "metadata": {},
   "outputs": [],
   "source": [
    "X_train, X_test, y_train, y_test = train_test_split(X,y,train_size = 0.7, test_size=0.3, random_state = 0)"
   ]
  },
  {
   "cell_type": "markdown",
   "metadata": {},
   "source": [
    "# KNN"
   ]
  },
  {
   "cell_type": "code",
   "execution_count": 686,
   "metadata": {},
   "outputs": [
    {
     "data": {
      "text/html": [
       "<div>\n",
       "<style scoped>\n",
       "    .dataframe tbody tr th:only-of-type {\n",
       "        vertical-align: middle;\n",
       "    }\n",
       "\n",
       "    .dataframe tbody tr th {\n",
       "        vertical-align: top;\n",
       "    }\n",
       "\n",
       "    .dataframe thead th {\n",
       "        text-align: right;\n",
       "    }\n",
       "</style>\n",
       "<table border=\"1\" class=\"dataframe\">\n",
       "  <thead>\n",
       "    <tr style=\"text-align: right;\">\n",
       "      <th></th>\n",
       "      <th>K</th>\n",
       "      <th>vec_train</th>\n",
       "      <th>vec_test</th>\n",
       "    </tr>\n",
       "  </thead>\n",
       "  <tbody>\n",
       "    <tr>\n",
       "      <th>0</th>\n",
       "      <td>1</td>\n",
       "      <td>1.000000</td>\n",
       "      <td>0.999296</td>\n",
       "    </tr>\n",
       "    <tr>\n",
       "      <th>1</th>\n",
       "      <td>3</td>\n",
       "      <td>0.998793</td>\n",
       "      <td>0.999296</td>\n",
       "    </tr>\n",
       "    <tr>\n",
       "      <th>2</th>\n",
       "      <td>5</td>\n",
       "      <td>0.998189</td>\n",
       "      <td>0.999296</td>\n",
       "    </tr>\n",
       "    <tr>\n",
       "      <th>3</th>\n",
       "      <td>7</td>\n",
       "      <td>0.996982</td>\n",
       "      <td>0.997183</td>\n",
       "    </tr>\n",
       "    <tr>\n",
       "      <th>4</th>\n",
       "      <td>9</td>\n",
       "      <td>0.995774</td>\n",
       "      <td>0.996479</td>\n",
       "    </tr>\n",
       "    <tr>\n",
       "      <th>5</th>\n",
       "      <td>11</td>\n",
       "      <td>0.994567</td>\n",
       "      <td>0.995775</td>\n",
       "    </tr>\n",
       "    <tr>\n",
       "      <th>6</th>\n",
       "      <td>13</td>\n",
       "      <td>0.994265</td>\n",
       "      <td>0.995070</td>\n",
       "    </tr>\n",
       "    <tr>\n",
       "      <th>7</th>\n",
       "      <td>15</td>\n",
       "      <td>0.994265</td>\n",
       "      <td>0.995070</td>\n",
       "    </tr>\n",
       "    <tr>\n",
       "      <th>8</th>\n",
       "      <td>17</td>\n",
       "      <td>0.995774</td>\n",
       "      <td>0.995070</td>\n",
       "    </tr>\n",
       "    <tr>\n",
       "      <th>9</th>\n",
       "      <td>19</td>\n",
       "      <td>0.995774</td>\n",
       "      <td>0.994366</td>\n",
       "    </tr>\n",
       "    <tr>\n",
       "      <th>10</th>\n",
       "      <td>21</td>\n",
       "      <td>0.995774</td>\n",
       "      <td>0.993662</td>\n",
       "    </tr>\n",
       "    <tr>\n",
       "      <th>11</th>\n",
       "      <td>23</td>\n",
       "      <td>0.995774</td>\n",
       "      <td>0.993662</td>\n",
       "    </tr>\n",
       "    <tr>\n",
       "      <th>12</th>\n",
       "      <td>25</td>\n",
       "      <td>0.995774</td>\n",
       "      <td>0.993662</td>\n",
       "    </tr>\n",
       "    <tr>\n",
       "      <th>13</th>\n",
       "      <td>27</td>\n",
       "      <td>0.995472</td>\n",
       "      <td>0.992958</td>\n",
       "    </tr>\n",
       "    <tr>\n",
       "      <th>14</th>\n",
       "      <td>29</td>\n",
       "      <td>0.992152</td>\n",
       "      <td>0.990845</td>\n",
       "    </tr>\n",
       "    <tr>\n",
       "      <th>15</th>\n",
       "      <td>31</td>\n",
       "      <td>0.991850</td>\n",
       "      <td>0.990845</td>\n",
       "    </tr>\n",
       "    <tr>\n",
       "      <th>16</th>\n",
       "      <td>33</td>\n",
       "      <td>0.991850</td>\n",
       "      <td>0.990845</td>\n",
       "    </tr>\n",
       "    <tr>\n",
       "      <th>17</th>\n",
       "      <td>35</td>\n",
       "      <td>0.991850</td>\n",
       "      <td>0.990845</td>\n",
       "    </tr>\n",
       "    <tr>\n",
       "      <th>18</th>\n",
       "      <td>37</td>\n",
       "      <td>0.991548</td>\n",
       "      <td>0.990845</td>\n",
       "    </tr>\n",
       "    <tr>\n",
       "      <th>19</th>\n",
       "      <td>39</td>\n",
       "      <td>0.991548</td>\n",
       "      <td>0.990845</td>\n",
       "    </tr>\n",
       "  </tbody>\n",
       "</table>\n",
       "</div>"
      ],
      "text/plain": [
       "     K  vec_train  vec_test\n",
       "0    1   1.000000  0.999296\n",
       "1    3   0.998793  0.999296\n",
       "2    5   0.998189  0.999296\n",
       "3    7   0.996982  0.997183\n",
       "4    9   0.995774  0.996479\n",
       "5   11   0.994567  0.995775\n",
       "6   13   0.994265  0.995070\n",
       "7   15   0.994265  0.995070\n",
       "8   17   0.995774  0.995070\n",
       "9   19   0.995774  0.994366\n",
       "10  21   0.995774  0.993662\n",
       "11  23   0.995774  0.993662\n",
       "12  25   0.995774  0.993662\n",
       "13  27   0.995472  0.992958\n",
       "14  29   0.992152  0.990845\n",
       "15  31   0.991850  0.990845\n",
       "16  33   0.991850  0.990845\n",
       "17  35   0.991850  0.990845\n",
       "18  37   0.991548  0.990845\n",
       "19  39   0.991548  0.990845"
      ]
     },
     "metadata": {},
     "output_type": "display_data"
    }
   ],
   "source": [
    "k_vec = np.arange(1,40,2)\n",
    "vec_train = []\n",
    "vec_test =[]\n",
    "\n",
    "for k in k_vec:\n",
    "    knn = KNeighborsClassifier(n_neighbors = k)\n",
    "    knn.fit(X_train, y_train)\n",
    "    y_pred = knn.predict(X_train)\n",
    "    vec_train.append(metrics.accuracy_score(y_train, y_pred))\n",
    "    y_pred = knn.predict(X_test)\n",
    "    vec_test.append(metrics.accuracy_score(y_test, y_pred))\n",
    "v = pd.DataFrame()\n",
    "v['K'] = k_vec\n",
    "v['vec_train'] = vec_train\n",
    "v['vec_test'] = vec_test\n",
    "display(v)"
   ]
  },
  {
   "cell_type": "code",
   "execution_count": 687,
   "metadata": {},
   "outputs": [
    {
     "data": {
      "text/plain": [
       "<matplotlib.legend.Legend at 0x16b8dda2fd0>"
      ]
     },
     "execution_count": 687,
     "metadata": {},
     "output_type": "execute_result"
    },
    {
     "data": {
      "image/png": "[encoded data removed]",
      "text/plain": [
       "<Figure size 720x360 with 1 Axes>"
      ]
     },
     "metadata": {
      "needs_background": "light"
     },
     "output_type": "display_data"
    }
   ],
   "source": [
    "plt.figure(figsize=(10,5))\n",
    "ax = plt.gca()\n",
    "plt.plot(k_vec, vec_train)\n",
    "plt.plot(k_vec, vec_test)\n",
    "ax.set_xlim(ax.get_xlim()[::-1])\n",
    "plt.axis('tight')\n",
    "plt.xlabel('k')\n",
    "plt.ylabel('accuracy')\n",
    "plt.title('Evolución de le exactitud vs complejidad del modelo k-nn (valor de k más pequeño)')\n",
    "plt.legend(['train', 'test'])"
   ]
  },
  {
   "cell_type": "code",
   "execution_count": 688,
   "metadata": {},
   "outputs": [],
   "source": [
    "k_best = 9"
   ]
  },
  {
   "cell_type": "code",
   "execution_count": 689,
   "metadata": {},
   "outputs": [
    {
     "data": {
      "text/plain": [
       "KNeighborsClassifier(algorithm='auto', leaf_size=30, metric='minkowski',\n",
       "                     metric_params=None, n_jobs=None, n_neighbors=9, p=2,\n",
       "                     weights='uniform')"
      ]
     },
     "execution_count": 689,
     "metadata": {},
     "output_type": "execute_result"
    }
   ],
   "source": [
    "knn = KNeighborsClassifier(n_neighbors=k_best)\n",
    "knn.fit(X_train,y_train)"
   ]
  },
  {
   "cell_type": "code",
   "execution_count": 690,
   "metadata": {},
   "outputs": [],
   "source": [
    "y_pred = knn.predict(X_test)"
   ]
  },
  {
   "cell_type": "markdown",
   "metadata": {},
   "source": [
    "### Métricas y matriz de confusión"
   ]
  },
  {
   "cell_type": "code",
   "execution_count": 691,
   "metadata": {},
   "outputs": [
    {
     "data": {
      "text/plain": [
       "array(['not_mine', 'mine', 'mine', ..., 'mine', 'not_mine', 'not_mine'],\n",
       "      dtype=object)"
      ]
     },
     "execution_count": 691,
     "metadata": {},
     "output_type": "execute_result"
    }
   ],
   "source": [
    "data_I['Type'].values"
   ]
  },
  {
   "cell_type": "code",
   "execution_count": 692,
   "metadata": {},
   "outputs": [
    {
     "data": {
      "text/plain": [
       "((1420,), (1420,))"
      ]
     },
     "execution_count": 692,
     "metadata": {},
     "output_type": "execute_result"
    }
   ],
   "source": [
    "y_test.shape, y_pred.shape"
   ]
  },
  {
   "cell_type": "code",
   "execution_count": 693,
   "metadata": {
    "scrolled": true
   },
   "outputs": [
    {
     "data": {
      "text/plain": [
       "([<matplotlib.axis.YTick at 0x16b8f9470f0>,\n",
       "  <matplotlib.axis.YTick at 0x16b8f9439e8>,\n",
       "  <matplotlib.axis.YTick at 0x16b8f9272b0>],\n",
       " <a list of 2 Text yticklabel objects>)"
      ]
     },
     "execution_count": 693,
     "metadata": {},
     "output_type": "execute_result"
    },
    {
     "data": {
      "image/png": "[encoded data removed]",
      "text/plain": [
       "<Figure size 1728x1296 with 2 Axes>"
      ]
     },
     "metadata": {
      "needs_background": "light"
     },
     "output_type": "display_data"
    }
   ],
   "source": [
    "churm = metrics.confusion_matrix(y_test, y_pred)\n",
    "plt.imshow(churm, cmap=plt.cm.Blues)\n",
    "plt.title(f\"Matriz de confusión para K={k_best}\")\n",
    "plt.colorbar()\n",
    "tick_marks = np.arange(3)\n",
    "plt.xticks(tick_marks, ['Not_mine','Mine'])\n",
    "plt.yticks(tick_marks, ['Not_mine','Mine'])"
   ]
  },
  {
   "cell_type": "code",
   "execution_count": 694,
   "metadata": {},
   "outputs": [
    {
     "data": {
      "text/plain": [
       "array([[662,   0],\n",
       "       [  5, 753]], dtype=int64)"
      ]
     },
     "execution_count": 694,
     "metadata": {},
     "output_type": "execute_result"
    }
   ],
   "source": [
    "churm"
   ]
  },
  {
   "cell_type": "code",
   "execution_count": 695,
   "metadata": {},
   "outputs": [
    {
     "name": "stdout",
     "output_type": "stream",
     "text": [
      "Exactitud:  0.9964788732394366\n",
      "Kappa:  0.9964788732394366\n"
     ]
    }
   ],
   "source": [
    "print(\"Exactitud: \", metrics.accuracy_score(y_test, y_pred))\n",
    "print(\"Kappa: \", metrics.accuracy_score(y_test, y_pred))"
   ]
  },
  {
   "cell_type": "code",
   "execution_count": 696,
   "metadata": {},
   "outputs": [
    {
     "name": "stdout",
     "output_type": "stream",
     "text": [
      "Precisión     :  0.992503748125937\n",
      "Recall        :  1.0\n",
      "Especificidad :  1.0\n",
      "F1-score      :  0.9962377727614748\n"
     ]
    }
   ],
   "source": [
    "print(\"Precisión     : \", metrics.precision_score(y_test, y_pred, labels=['mine'], average='macro'))\n",
    "print(\"Recall        : \", metrics.recall_score(y_test, y_pred, labels=['mine'], average='macro'))\n",
    "\n",
    "VN = np.sum(churm[1:3,1:3])\n",
    "FP = np.sum(churm[0,1:3])\n",
    "specificity = VN/(VN+FP)\n",
    "\n",
    "print(\"Especificidad : \", specificity)\n",
    "\n",
    "print(\"F1-score      : \", metrics.f1_score(y_test, y_pred, labels=['mine'], average='macro'))\n"
   ]
  },
  {
   "cell_type": "code",
   "execution_count": 697,
   "metadata": {},
   "outputs": [
    {
     "name": "stdout",
     "output_type": "stream",
     "text": [
      "Precisión     :  1.0\n",
      "Recall        :  0.9934036939313984\n",
      "Especificidad :  1.0\n",
      "F1-score      :  0.9966909331568498\n"
     ]
    }
   ],
   "source": [
    "print(\"Precisión     : \", metrics.precision_score(y_test, y_pred, labels=['not_mine'], average='macro'))\n",
    "print(\"Recall        : \", metrics.recall_score(y_test, y_pred, labels=['not_mine'], average='macro'))\n",
    "\n",
    "VN = np.sum(churm[1:3,1:3])\n",
    "FP = np.sum(churm[0,1:3])\n",
    "specificity = VN/(VN+FP)\n",
    "\n",
    "print(\"Especificidad : \", specificity)\n",
    "\n",
    "print(\"F1-score      : \", metrics.f1_score(y_test, y_pred, labels=['not_mine'], average='macro'))"
   ]
  },
  {
   "cell_type": "code",
   "execution_count": null,
   "metadata": {},
   "outputs": [],
   "source": []
  },
  {
   "cell_type": "code",
   "execution_count": 698,
   "metadata": {},
   "outputs": [
    {
     "data": {
      "text/html": [
       "<div>\n",
       "<style scoped>\n",
       "    .dataframe tbody tr th:only-of-type {\n",
       "        vertical-align: middle;\n",
       "    }\n",
       "\n",
       "    .dataframe tbody tr th {\n",
       "        vertical-align: top;\n",
       "    }\n",
       "\n",
       "    .dataframe thead th {\n",
       "        text-align: right;\n",
       "    }\n",
       "</style>\n",
       "<table border=\"1\" class=\"dataframe\">\n",
       "  <thead>\n",
       "    <tr style=\"text-align: right;\">\n",
       "      <th></th>\n",
       "      <th>index</th>\n",
       "      <th>Name</th>\n",
       "      <th>Netflows</th>\n",
       "      <th>First_Protocol</th>\n",
       "      <th>Second_Protocol</th>\n",
       "      <th>Third_Protocol</th>\n",
       "      <th>p1_d</th>\n",
       "      <th>p2_d</th>\n",
       "      <th>p3_d</th>\n",
       "      <th>duration</th>\n",
       "      <th>...</th>\n",
       "      <th>second_dp</th>\n",
       "      <th>third_dp</th>\n",
       "      <th>p1_ip</th>\n",
       "      <th>p2_ip</th>\n",
       "      <th>p3_ip</th>\n",
       "      <th>p1_ib</th>\n",
       "      <th>p2_ib</th>\n",
       "      <th>p3_ib</th>\n",
       "      <th>Type</th>\n",
       "      <th>Cryptocurrency</th>\n",
       "    </tr>\n",
       "  </thead>\n",
       "  <tbody>\n",
       "    <tr>\n",
       "      <th>0</th>\n",
       "      <td>8992</td>\n",
       "      <td>18-csves/1435.csv</td>\n",
       "      <td>5</td>\n",
       "      <td>ICMP</td>\n",
       "      <td>NaN</td>\n",
       "      <td>NaN</td>\n",
       "      <td>0.0</td>\n",
       "      <td>0.0</td>\n",
       "      <td>0.0</td>\n",
       "      <td>0.0</td>\n",
       "      <td>...</td>\n",
       "      <td>NaN</td>\n",
       "      <td>NaN</td>\n",
       "      <td>1.0</td>\n",
       "      <td>1.0</td>\n",
       "      <td>1.0</td>\n",
       "      <td>40.0</td>\n",
       "      <td>286.0</td>\n",
       "      <td>286.0</td>\n",
       "      <td>mine</td>\n",
       "      <td>Unclassified</td>\n",
       "    </tr>\n",
       "  </tbody>\n",
       "</table>\n",
       "<p>1 rows × 33 columns</p>\n",
       "</div>"
      ],
      "text/plain": [
       "   index               Name  Netflows First_Protocol Second_Protocol  \\\n",
       "0   8992  18-csves/1435.csv         5           ICMP             NaN   \n",
       "\n",
       "  Third_Protocol  p1_d  p2_d  p3_d  duration  ...  second_dp  third_dp  p1_ip  \\\n",
       "0            NaN   0.0   0.0   0.0       0.0  ...        NaN       NaN    1.0   \n",
       "\n",
       "   p2_ip  p3_ip  p1_ib  p2_ib  p3_ib  Type  Cryptocurrency  \n",
       "0    1.0    1.0   40.0  286.0  286.0  mine    Unclassified  \n",
       "\n",
       "[1 rows x 33 columns]"
      ]
     },
     "execution_count": 698,
     "metadata": {},
     "output_type": "execute_result"
    }
   ],
   "source": [
    "data_N = pd.read_csv('./data_no_identificada.csv')\n",
    "data_N.head(1)"
   ]
  },
  {
   "cell_type": "code",
   "execution_count": 699,
   "metadata": {},
   "outputs": [],
   "source": [
    "from sklearn.pipeline import Pipeline"
   ]
  },
  {
   "cell_type": "code",
   "execution_count": 700,
   "metadata": {},
   "outputs": [],
   "source": [
    "numeric_transformer = Pipeline(\n",
    "                        steps=[\n",
    "                            ('imputer', SimpleImputer(missing_values = np.nan, strategy = \"median\")),\n",
    "                            ('scaler', StandardScaler())\n",
    "                        ]\n",
    "                      )"
   ]
  },
  {
   "cell_type": "code",
   "execution_count": 701,
   "metadata": {},
   "outputs": [],
   "source": [
    "data_numeric = data_I.select_dtypes(include = ['float64', 'int64']).columns.to_list()"
   ]
  },
  {
   "cell_type": "code",
   "execution_count": 702,
   "metadata": {},
   "outputs": [],
   "source": [
    "preprocessor = ColumnTransformer(\n",
    "                    transformers=[\n",
    "                        ('numeric', numeric_transformer, data_numeric),\n",
    "                    ],\n",
    "                    remainder='passthrough'\n",
    "                )"
   ]
  },
  {
   "cell_type": "code",
   "execution_count": 704,
   "metadata": {
    "scrolled": true
   },
   "outputs": [],
   "source": [
    "data_numeric = data_N[data_numeric]"
   ]
  },
  {
   "cell_type": "code",
   "execution_count": 705,
   "metadata": {},
   "outputs": [],
   "source": [
    "va_N = preprocessor.fit_transform(data_numeric)\n",
    "temp = pd.DataFrame(va_N, columns = data_numeric.columns)"
   ]
  },
  {
   "cell_type": "code",
   "execution_count": 720,
   "metadata": {},
   "outputs": [
    {
     "data": {
      "text/plain": [
       "(39554, 26)"
      ]
     },
     "execution_count": 720,
     "metadata": {},
     "output_type": "execute_result"
    }
   ],
   "source": [
    "temp.shape"
   ]
  },
  {
   "cell_type": "code",
   "execution_count": 750,
   "metadata": {},
   "outputs": [],
   "source": [
    "temp2 = temp.loc[0:3312]"
   ]
  },
  {
   "cell_type": "code",
   "execution_count": 751,
   "metadata": {},
   "outputs": [
    {
     "data": {
      "text/plain": [
       "(3313, 26)"
      ]
     },
     "execution_count": 751,
     "metadata": {},
     "output_type": "execute_result"
    }
   ],
   "source": [
    "temp2.shape"
   ]
  },
  {
   "cell_type": "code",
   "execution_count": 752,
   "metadata": {},
   "outputs": [
    {
     "ename": "ValueError",
     "evalue": "query data dimension must match training data dimension",
     "output_type": "error",
     "traceback": [
      "\u001b[1;31m---------------------------------------------------------------------------\u001b[0m",
      "\u001b[1;31mValueError\u001b[0m                                Traceback (most recent call last)",
      "\u001b[1;32m<ipython-input-752-b06c2b7e672e>\u001b[0m in \u001b[0;36m<module>\u001b[1;34m\u001b[0m\n\u001b[1;32m----> 1\u001b[1;33m \u001b[0my_pred\u001b[0m \u001b[1;33m=\u001b[0m \u001b[0mknn\u001b[0m\u001b[1;33m.\u001b[0m\u001b[0mpredict\u001b[0m\u001b[1;33m(\u001b[0m\u001b[0mtemp2\u001b[0m\u001b[1;33m)\u001b[0m\u001b[1;33m\u001b[0m\u001b[1;33m\u001b[0m\u001b[0m\n\u001b[0m",
      "\u001b[1;32m~\\AppData\\Roaming\\Python\\Python37\\site-packages\\sklearn\\neighbors\\_classification.py\u001b[0m in \u001b[0;36mpredict\u001b[1;34m(self, X)\u001b[0m\n\u001b[0;32m    171\u001b[0m         \u001b[0mX\u001b[0m \u001b[1;33m=\u001b[0m \u001b[0mcheck_array\u001b[0m\u001b[1;33m(\u001b[0m\u001b[0mX\u001b[0m\u001b[1;33m,\u001b[0m \u001b[0maccept_sparse\u001b[0m\u001b[1;33m=\u001b[0m\u001b[1;34m'csr'\u001b[0m\u001b[1;33m)\u001b[0m\u001b[1;33m\u001b[0m\u001b[1;33m\u001b[0m\u001b[0m\n\u001b[0;32m    172\u001b[0m \u001b[1;33m\u001b[0m\u001b[0m\n\u001b[1;32m--> 173\u001b[1;33m         \u001b[0mneigh_dist\u001b[0m\u001b[1;33m,\u001b[0m \u001b[0mneigh_ind\u001b[0m \u001b[1;33m=\u001b[0m \u001b[0mself\u001b[0m\u001b[1;33m.\u001b[0m\u001b[0mkneighbors\u001b[0m\u001b[1;33m(\u001b[0m\u001b[0mX\u001b[0m\u001b[1;33m)\u001b[0m\u001b[1;33m\u001b[0m\u001b[1;33m\u001b[0m\u001b[0m\n\u001b[0m\u001b[0;32m    174\u001b[0m         \u001b[0mclasses_\u001b[0m \u001b[1;33m=\u001b[0m \u001b[0mself\u001b[0m\u001b[1;33m.\u001b[0m\u001b[0mclasses_\u001b[0m\u001b[1;33m\u001b[0m\u001b[1;33m\u001b[0m\u001b[0m\n\u001b[0;32m    175\u001b[0m         \u001b[0m_y\u001b[0m \u001b[1;33m=\u001b[0m \u001b[0mself\u001b[0m\u001b[1;33m.\u001b[0m\u001b[0m_y\u001b[0m\u001b[1;33m\u001b[0m\u001b[1;33m\u001b[0m\u001b[0m\n",
      "\u001b[1;32m~\\AppData\\Roaming\\Python\\Python37\\site-packages\\sklearn\\neighbors\\_base.py\u001b[0m in \u001b[0;36mkneighbors\u001b[1;34m(self, X, n_neighbors, return_distance)\u001b[0m\n\u001b[0;32m    661\u001b[0m                 delayed_query(\n\u001b[0;32m    662\u001b[0m                     self._tree, X[s], n_neighbors, return_distance)\n\u001b[1;32m--> 663\u001b[1;33m                 \u001b[1;32mfor\u001b[0m \u001b[0ms\u001b[0m \u001b[1;32min\u001b[0m \u001b[0mgen_even_slices\u001b[0m\u001b[1;33m(\u001b[0m\u001b[0mX\u001b[0m\u001b[1;33m.\u001b[0m\u001b[0mshape\u001b[0m\u001b[1;33m[\u001b[0m\u001b[1;36m0\u001b[0m\u001b[1;33m]\u001b[0m\u001b[1;33m,\u001b[0m \u001b[0mn_jobs\u001b[0m\u001b[1;33m)\u001b[0m\u001b[1;33m\u001b[0m\u001b[1;33m\u001b[0m\u001b[0m\n\u001b[0m\u001b[0;32m    664\u001b[0m             )\n\u001b[0;32m    665\u001b[0m         \u001b[1;32melse\u001b[0m\u001b[1;33m:\u001b[0m\u001b[1;33m\u001b[0m\u001b[1;33m\u001b[0m\u001b[0m\n",
      "\u001b[1;32mC:\\ProgramData\\Anaconda3\\lib\\site-packages\\joblib\\parallel.py\u001b[0m in \u001b[0;36m__call__\u001b[1;34m(self, iterable)\u001b[0m\n\u001b[0;32m    919\u001b[0m             \u001b[1;31m# remaining jobs.\u001b[0m\u001b[1;33m\u001b[0m\u001b[1;33m\u001b[0m\u001b[1;33m\u001b[0m\u001b[0m\n\u001b[0;32m    920\u001b[0m             \u001b[0mself\u001b[0m\u001b[1;33m.\u001b[0m\u001b[0m_iterating\u001b[0m \u001b[1;33m=\u001b[0m \u001b[1;32mFalse\u001b[0m\u001b[1;33m\u001b[0m\u001b[1;33m\u001b[0m\u001b[0m\n\u001b[1;32m--> 921\u001b[1;33m             \u001b[1;32mif\u001b[0m \u001b[0mself\u001b[0m\u001b[1;33m.\u001b[0m\u001b[0mdispatch_one_batch\u001b[0m\u001b[1;33m(\u001b[0m\u001b[0miterator\u001b[0m\u001b[1;33m)\u001b[0m\u001b[1;33m:\u001b[0m\u001b[1;33m\u001b[0m\u001b[1;33m\u001b[0m\u001b[0m\n\u001b[0m\u001b[0;32m    922\u001b[0m                 \u001b[0mself\u001b[0m\u001b[1;33m.\u001b[0m\u001b[0m_iterating\u001b[0m \u001b[1;33m=\u001b[0m \u001b[0mself\u001b[0m\u001b[1;33m.\u001b[0m\u001b[0m_original_iterator\u001b[0m \u001b[1;32mis\u001b[0m \u001b[1;32mnot\u001b[0m \u001b[1;32mNone\u001b[0m\u001b[1;33m\u001b[0m\u001b[1;33m\u001b[0m\u001b[0m\n\u001b[0;32m    923\u001b[0m \u001b[1;33m\u001b[0m\u001b[0m\n",
      "\u001b[1;32mC:\\ProgramData\\Anaconda3\\lib\\site-packages\\joblib\\parallel.py\u001b[0m in \u001b[0;36mdispatch_one_batch\u001b[1;34m(self, iterator)\u001b[0m\n\u001b[0;32m    757\u001b[0m                 \u001b[1;32mreturn\u001b[0m \u001b[1;32mFalse\u001b[0m\u001b[1;33m\u001b[0m\u001b[1;33m\u001b[0m\u001b[0m\n\u001b[0;32m    758\u001b[0m             \u001b[1;32melse\u001b[0m\u001b[1;33m:\u001b[0m\u001b[1;33m\u001b[0m\u001b[1;33m\u001b[0m\u001b[0m\n\u001b[1;32m--> 759\u001b[1;33m                 \u001b[0mself\u001b[0m\u001b[1;33m.\u001b[0m\u001b[0m_dispatch\u001b[0m\u001b[1;33m(\u001b[0m\u001b[0mtasks\u001b[0m\u001b[1;33m)\u001b[0m\u001b[1;33m\u001b[0m\u001b[1;33m\u001b[0m\u001b[0m\n\u001b[0m\u001b[0;32m    760\u001b[0m                 \u001b[1;32mreturn\u001b[0m \u001b[1;32mTrue\u001b[0m\u001b[1;33m\u001b[0m\u001b[1;33m\u001b[0m\u001b[0m\n\u001b[0;32m    761\u001b[0m \u001b[1;33m\u001b[0m\u001b[0m\n",
      "\u001b[1;32mC:\\ProgramData\\Anaconda3\\lib\\site-packages\\joblib\\parallel.py\u001b[0m in \u001b[0;36m_dispatch\u001b[1;34m(self, batch)\u001b[0m\n\u001b[0;32m    714\u001b[0m         \u001b[1;32mwith\u001b[0m \u001b[0mself\u001b[0m\u001b[1;33m.\u001b[0m\u001b[0m_lock\u001b[0m\u001b[1;33m:\u001b[0m\u001b[1;33m\u001b[0m\u001b[1;33m\u001b[0m\u001b[0m\n\u001b[0;32m    715\u001b[0m             \u001b[0mjob_idx\u001b[0m \u001b[1;33m=\u001b[0m \u001b[0mlen\u001b[0m\u001b[1;33m(\u001b[0m\u001b[0mself\u001b[0m\u001b[1;33m.\u001b[0m\u001b[0m_jobs\u001b[0m\u001b[1;33m)\u001b[0m\u001b[1;33m\u001b[0m\u001b[1;33m\u001b[0m\u001b[0m\n\u001b[1;32m--> 716\u001b[1;33m             \u001b[0mjob\u001b[0m \u001b[1;33m=\u001b[0m \u001b[0mself\u001b[0m\u001b[1;33m.\u001b[0m\u001b[0m_backend\u001b[0m\u001b[1;33m.\u001b[0m\u001b[0mapply_async\u001b[0m\u001b[1;33m(\u001b[0m\u001b[0mbatch\u001b[0m\u001b[1;33m,\u001b[0m \u001b[0mcallback\u001b[0m\u001b[1;33m=\u001b[0m\u001b[0mcb\u001b[0m\u001b[1;33m)\u001b[0m\u001b[1;33m\u001b[0m\u001b[1;33m\u001b[0m\u001b[0m\n\u001b[0m\u001b[0;32m    717\u001b[0m             \u001b[1;31m# A job can complete so quickly than its callback is\u001b[0m\u001b[1;33m\u001b[0m\u001b[1;33m\u001b[0m\u001b[1;33m\u001b[0m\u001b[0m\n\u001b[0;32m    718\u001b[0m             \u001b[1;31m# called before we get here, causing self._jobs to\u001b[0m\u001b[1;33m\u001b[0m\u001b[1;33m\u001b[0m\u001b[1;33m\u001b[0m\u001b[0m\n",
      "\u001b[1;32mC:\\ProgramData\\Anaconda3\\lib\\site-packages\\joblib\\_parallel_backends.py\u001b[0m in \u001b[0;36mapply_async\u001b[1;34m(self, func, callback)\u001b[0m\n\u001b[0;32m    180\u001b[0m     \u001b[1;32mdef\u001b[0m \u001b[0mapply_async\u001b[0m\u001b[1;33m(\u001b[0m\u001b[0mself\u001b[0m\u001b[1;33m,\u001b[0m \u001b[0mfunc\u001b[0m\u001b[1;33m,\u001b[0m \u001b[0mcallback\u001b[0m\u001b[1;33m=\u001b[0m\u001b[1;32mNone\u001b[0m\u001b[1;33m)\u001b[0m\u001b[1;33m:\u001b[0m\u001b[1;33m\u001b[0m\u001b[1;33m\u001b[0m\u001b[0m\n\u001b[0;32m    181\u001b[0m         \u001b[1;34m\"\"\"Schedule a func to be run\"\"\"\u001b[0m\u001b[1;33m\u001b[0m\u001b[1;33m\u001b[0m\u001b[0m\n\u001b[1;32m--> 182\u001b[1;33m         \u001b[0mresult\u001b[0m \u001b[1;33m=\u001b[0m \u001b[0mImmediateResult\u001b[0m\u001b[1;33m(\u001b[0m\u001b[0mfunc\u001b[0m\u001b[1;33m)\u001b[0m\u001b[1;33m\u001b[0m\u001b[1;33m\u001b[0m\u001b[0m\n\u001b[0m\u001b[0;32m    183\u001b[0m         \u001b[1;32mif\u001b[0m \u001b[0mcallback\u001b[0m\u001b[1;33m:\u001b[0m\u001b[1;33m\u001b[0m\u001b[1;33m\u001b[0m\u001b[0m\n\u001b[0;32m    184\u001b[0m             \u001b[0mcallback\u001b[0m\u001b[1;33m(\u001b[0m\u001b[0mresult\u001b[0m\u001b[1;33m)\u001b[0m\u001b[1;33m\u001b[0m\u001b[1;33m\u001b[0m\u001b[0m\n",
      "\u001b[1;32mC:\\ProgramData\\Anaconda3\\lib\\site-packages\\joblib\\_parallel_backends.py\u001b[0m in \u001b[0;36m__init__\u001b[1;34m(self, batch)\u001b[0m\n\u001b[0;32m    547\u001b[0m         \u001b[1;31m# Don't delay the application, to avoid keeping the input\u001b[0m\u001b[1;33m\u001b[0m\u001b[1;33m\u001b[0m\u001b[1;33m\u001b[0m\u001b[0m\n\u001b[0;32m    548\u001b[0m         \u001b[1;31m# arguments in memory\u001b[0m\u001b[1;33m\u001b[0m\u001b[1;33m\u001b[0m\u001b[1;33m\u001b[0m\u001b[0m\n\u001b[1;32m--> 549\u001b[1;33m         \u001b[0mself\u001b[0m\u001b[1;33m.\u001b[0m\u001b[0mresults\u001b[0m \u001b[1;33m=\u001b[0m \u001b[0mbatch\u001b[0m\u001b[1;33m(\u001b[0m\u001b[1;33m)\u001b[0m\u001b[1;33m\u001b[0m\u001b[1;33m\u001b[0m\u001b[0m\n\u001b[0m\u001b[0;32m    550\u001b[0m \u001b[1;33m\u001b[0m\u001b[0m\n\u001b[0;32m    551\u001b[0m     \u001b[1;32mdef\u001b[0m \u001b[0mget\u001b[0m\u001b[1;33m(\u001b[0m\u001b[0mself\u001b[0m\u001b[1;33m)\u001b[0m\u001b[1;33m:\u001b[0m\u001b[1;33m\u001b[0m\u001b[1;33m\u001b[0m\u001b[0m\n",
      "\u001b[1;32mC:\\ProgramData\\Anaconda3\\lib\\site-packages\\joblib\\parallel.py\u001b[0m in \u001b[0;36m__call__\u001b[1;34m(self)\u001b[0m\n\u001b[0;32m    223\u001b[0m         \u001b[1;32mwith\u001b[0m \u001b[0mparallel_backend\u001b[0m\u001b[1;33m(\u001b[0m\u001b[0mself\u001b[0m\u001b[1;33m.\u001b[0m\u001b[0m_backend\u001b[0m\u001b[1;33m,\u001b[0m \u001b[0mn_jobs\u001b[0m\u001b[1;33m=\u001b[0m\u001b[0mself\u001b[0m\u001b[1;33m.\u001b[0m\u001b[0m_n_jobs\u001b[0m\u001b[1;33m)\u001b[0m\u001b[1;33m:\u001b[0m\u001b[1;33m\u001b[0m\u001b[1;33m\u001b[0m\u001b[0m\n\u001b[0;32m    224\u001b[0m             return [func(*args, **kwargs)\n\u001b[1;32m--> 225\u001b[1;33m                     for func, args, kwargs in self.items]\n\u001b[0m\u001b[0;32m    226\u001b[0m \u001b[1;33m\u001b[0m\u001b[0m\n\u001b[0;32m    227\u001b[0m     \u001b[1;32mdef\u001b[0m \u001b[0m__len__\u001b[0m\u001b[1;33m(\u001b[0m\u001b[0mself\u001b[0m\u001b[1;33m)\u001b[0m\u001b[1;33m:\u001b[0m\u001b[1;33m\u001b[0m\u001b[1;33m\u001b[0m\u001b[0m\n",
      "\u001b[1;32mC:\\ProgramData\\Anaconda3\\lib\\site-packages\\joblib\\parallel.py\u001b[0m in \u001b[0;36m<listcomp>\u001b[1;34m(.0)\u001b[0m\n\u001b[0;32m    223\u001b[0m         \u001b[1;32mwith\u001b[0m \u001b[0mparallel_backend\u001b[0m\u001b[1;33m(\u001b[0m\u001b[0mself\u001b[0m\u001b[1;33m.\u001b[0m\u001b[0m_backend\u001b[0m\u001b[1;33m,\u001b[0m \u001b[0mn_jobs\u001b[0m\u001b[1;33m=\u001b[0m\u001b[0mself\u001b[0m\u001b[1;33m.\u001b[0m\u001b[0m_n_jobs\u001b[0m\u001b[1;33m)\u001b[0m\u001b[1;33m:\u001b[0m\u001b[1;33m\u001b[0m\u001b[1;33m\u001b[0m\u001b[0m\n\u001b[0;32m    224\u001b[0m             return [func(*args, **kwargs)\n\u001b[1;32m--> 225\u001b[1;33m                     for func, args, kwargs in self.items]\n\u001b[0m\u001b[0;32m    226\u001b[0m \u001b[1;33m\u001b[0m\u001b[0m\n\u001b[0;32m    227\u001b[0m     \u001b[1;32mdef\u001b[0m \u001b[0m__len__\u001b[0m\u001b[1;33m(\u001b[0m\u001b[0mself\u001b[0m\u001b[1;33m)\u001b[0m\u001b[1;33m:\u001b[0m\u001b[1;33m\u001b[0m\u001b[1;33m\u001b[0m\u001b[0m\n",
      "\u001b[1;32m~\\AppData\\Roaming\\Python\\Python37\\site-packages\\sklearn\\neighbors\\_base.py\u001b[0m in \u001b[0;36m_tree_query_parallel_helper\u001b[1;34m(tree, *args, **kwargs)\u001b[0m\n\u001b[0;32m    488\u001b[0m     \u001b[0munder\u001b[0m \u001b[0mPyPy\u001b[0m\u001b[1;33m.\u001b[0m\u001b[1;33m\u001b[0m\u001b[1;33m\u001b[0m\u001b[0m\n\u001b[0;32m    489\u001b[0m     \"\"\"\n\u001b[1;32m--> 490\u001b[1;33m     \u001b[1;32mreturn\u001b[0m \u001b[0mtree\u001b[0m\u001b[1;33m.\u001b[0m\u001b[0mquery\u001b[0m\u001b[1;33m(\u001b[0m\u001b[1;33m*\u001b[0m\u001b[0margs\u001b[0m\u001b[1;33m,\u001b[0m \u001b[1;33m**\u001b[0m\u001b[0mkwargs\u001b[0m\u001b[1;33m)\u001b[0m\u001b[1;33m\u001b[0m\u001b[1;33m\u001b[0m\u001b[0m\n\u001b[0m\u001b[0;32m    491\u001b[0m \u001b[1;33m\u001b[0m\u001b[0m\n\u001b[0;32m    492\u001b[0m \u001b[1;33m\u001b[0m\u001b[0m\n",
      "\u001b[1;32msklearn\\neighbors\\_binary_tree.pxi\u001b[0m in \u001b[0;36msklearn.neighbors._kd_tree.BinaryTree.query\u001b[1;34m()\u001b[0m\n",
      "\u001b[1;31mValueError\u001b[0m: query data dimension must match training data dimension"
     ]
    }
   ],
   "source": [
    "\n",
    "y_pred = knn.predict(temp2)"
   ]
  },
  {
   "cell_type": "code",
   "execution_count": null,
   "metadata": {},
   "outputs": [],
   "source": []
  },
  {
   "cell_type": "code",
   "execution_count": null,
   "metadata": {},
   "outputs": [],
   "source": []
  },
  {
   "cell_type": "markdown",
   "metadata": {},
   "source": [
    "### Cross_Val_Score"
   ]
  },
  {
   "cell_type": "code",
   "execution_count": null,
   "metadata": {},
   "outputs": [],
   "source": [
    "knn = KNeighborsClassifier(n_neighbors=9)\n",
    "exactitud = cross_val_score(knn, X_cod, y_cod, cv = 10, scoring='accuracy')\n",
    "exactitud"
   ]
  },
  {
   "cell_type": "code",
   "execution_count": null,
   "metadata": {},
   "outputs": [],
   "source": [
    "print(\"Exactitudes: %0.2f (+/- %0.2f)\" % (exactitud.mean(), exactitud.std() * 2), exactitud.mean(), exactitud.std())"
   ]
  },
  {
   "cell_type": "code",
   "execution_count": null,
   "metadata": {},
   "outputs": [],
   "source": []
  },
  {
   "cell_type": "code",
   "execution_count": null,
   "metadata": {},
   "outputs": [],
   "source": []
  },
  {
   "cell_type": "code",
   "execution_count": null,
   "metadata": {},
   "outputs": [],
   "source": [
    "data_no_ident = pd.read_csv('Data_No_Identificada_Tratada.csv', sep=',')"
   ]
  },
  {
   "cell_type": "code",
   "execution_count": null,
   "metadata": {},
   "outputs": [],
   "source": [
    "preprocessor = ColumnTransformer(\n",
    "    transformers=[\n",
    "            ('numeric', numeric_transformer, data_num_c)],remainder='passthrough'\n",
    "                )"
   ]
  },
  {
   "cell_type": "code",
   "execution_count": null,
   "metadata": {},
   "outputs": [],
   "source": [
    "data_scaler2 = data_no_ident[data_num_c]"
   ]
  },
  {
   "cell_type": "code",
   "execution_count": null,
   "metadata": {},
   "outputs": [],
   "source": [
    "preprocessor.fit_transform(data_scaler2)\n",
    "datos_transf2 = preprocessor.transform(data_scaler2)\n",
    "datos_transf2 = pd.DataFrame(datos_transf2, columns=data_scaler2.columns)\n",
    "datos_transf2 = pd.concat([datos_transf2, data_no_ident[data_obje_c]],axis=1)"
   ]
  },
  {
   "cell_type": "code",
   "execution_count": null,
   "metadata": {},
   "outputs": [],
   "source": [
    "X2 = datos_transf2[data_num_c]\n",
    "y2 = datos_transf2['Type']"
   ]
  },
  {
   "cell_type": "code",
   "execution_count": null,
   "metadata": {},
   "outputs": [],
   "source": [
    "X_train2, X_test2, y_train2, y_test2 = train_test_split(X2, y2,stratify=y2)"
   ]
  },
  {
   "cell_type": "code",
   "execution_count": null,
   "metadata": {},
   "outputs": [],
   "source": [
    "k_vec = np.arange(1,40,2)\n",
    "k_vec"
   ]
  },
  {
   "cell_type": "code",
   "execution_count": null,
   "metadata": {},
   "outputs": [],
   "source": [
    "temp = y_test2[0:1184]"
   ]
  },
  {
   "cell_type": "markdown",
   "metadata": {},
   "source": []
  },
  {
   "cell_type": "code",
   "execution_count": null,
   "metadata": {
    "scrolled": true
   },
   "outputs": [],
   "source": [
    "vec_train_2 = []\n",
    "vec_test_2 =[]\n",
    "\n",
    "for k in  k_vec:\n",
    "    knn = neighbors.KNeighborsClassifier(n_neighbors=k)\n",
    "    knn.fit(X_train,y_train)\n",
    "    y_pred = knn.predict(X_train)\n",
    "    vec_train_2.append(metrics.accuracy_score(y_train, y_pred))\n",
    "    y_pred = knn.predict(X_test)\n",
    "    vec_test_2.append(metrics.accuracy_score(temp, y_pred))\n",
    "v = pd.DataFrame()\n",
    "v['k'] = k_vec\n",
    "v['vec_train'] = vec_train_2\n",
    "v['vec_test'] = vec_test_2\n",
    "display(v)"
   ]
  },
  {
   "cell_type": "code",
   "execution_count": null,
   "metadata": {},
   "outputs": [],
   "source": [
    "plt.figure(figsize=(10,5))\n",
    "ax = plt.gca()\n",
    "plt.plot(k_vec, vec_train_2)\n",
    "plt.plot(k_vec, vec_test_2)\n",
    "ax.set_xlim(ax.get_xlim()[::-1])\n",
    "plt.axis('tight')\n",
    "plt.xlabel('k')\n",
    "plt.ylabel('accuracy')\n",
    "plt.title('Evolución de le exactitud vs complejidad del modelo k-nn (valor de k más pequeño)')\n",
    "plt.legend(['train', 'test'])"
   ]
  },
  {
   "cell_type": "markdown",
   "metadata": {},
   "source": [
    "knn = neighbors.KNeighborsClassifier(n_neighbors=3)\n",
    "kf = StratifiedKFold(n_splits=10, shuffle=True, random_state=1234)\n",
    "acc_test_vec=[]\n",
    "for indices_train, indices_test in kf.split(X_cod, y_cod):\n",
    "    knn.fit(X_cod[indices_train], y_cod[indices_train])\n",
    "    y_pred = knn.predict(X_cod[indices_test])\n",
    "    acc_test_vec.append(metrics.accuracy_score(y_cod[indices_test], y_pred))  \n",
    "acc_test_vec"
   ]
  },
  {
   "cell_type": "markdown",
   "metadata": {},
   "source": [
    "https://www.analyticslane.com/2018/07/02/gridsearchcv/#:~:text=GridSearchCV%20es%20una%20clase%20disponible,los%20par%C3%A1metros%20de%20un%20modelo.&text=En%20caso%20de%20que%20se,aleatorios%20existe%20el%20m%C3%A9todo%20RandomizedSearchCV."
   ]
  }
 ],
 "metadata": {
  "kernelspec": {
   "display_name": "Python 3",
   "language": "python",
   "name": "python3"
  },
  "language_info": {
   "codemirror_mode": {
    "name": "ipython",
    "version": 3
   },
   "file_extension": ".py",
   "mimetype": "text/x-python",
   "name": "python",
   "nbconvert_exporter": "python",
   "pygments_lexer": "ipython3",
   "version": "3.7.3"
  }
 },
 "nbformat": 4,
 "nbformat_minor": 2
}
