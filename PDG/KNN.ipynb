{
 "cells": [
  {
   "cell_type": "code",
   "execution_count": 138,
   "metadata": {},
   "outputs": [],
   "source": [
    "# pip install mlxtend"
   ]
  },
  {
   "cell_type": "code",
   "execution_count": 139,
   "metadata": {},
   "outputs": [],
   "source": [
    "import pandas as pd\n",
    "import numpy as np\n",
    "import seaborn as sns\n",
    "import matplotlib.pyplot as plt\n",
    "from termcolor import colored\n",
    "from mlxtend.evaluate import bias_variance_decomp\n",
    "from sklearn.model_selection import learning_curve\n",
    "\n",
    "# Model\n",
    "# --------------------------------------------------------------------\n",
    "from sklearn.model_selection import train_test_split, cross_val_score\n",
    "from sklearn.neighbors import NearestNeighbors, KNeighborsClassifier\n",
    "from sklearn import metrics"
   ]
  },
  {
   "cell_type": "code",
   "execution_count": 140,
   "metadata": {},
   "outputs": [],
   "source": [
    "def ROC(X_test,y_test,model):\n",
    "    y_pred_proba = model.predict_proba(X_test)\n",
    "    lr_probs = y_pred_proba[:,1]\n",
    "    ns_probs = [0 for _ in range(len(y_test))]\n",
    "    ns_auc = metrics.roc_auc_score(y_test, ns_probs)\n",
    "    lr_auc = metrics.roc_auc_score(y_test, lr_probs)\n",
    "    ns_fpr, ns_tpr, thresholds  = metrics.roc_curve(y_test,ns_probs)\n",
    "    lr_fpr, lr_tpr, thresholds = metrics.roc_curve(y_test, lr_probs)\n",
    "    plt.plot(ns_fpr,ns_tpr,linestyle='--', label='No Skill')\n",
    "    plt.plot(lr_fpr, lr_tpr, marker='.', label='DT')\n",
    "    plt.xlabel('False Positive Rate')\n",
    "    plt.ylabel('True Positive Rate')\n",
    "    plt.legend()\n",
    "    plt.show()\n",
    "    print('No Skill: ROC AUC=%.3f' % (ns_auc))\n",
    "    print('Treeb: ROC AUC=%.3f' % (lr_auc))"
   ]
  },
  {
   "cell_type": "markdown",
   "metadata": {},
   "source": [
    "# Importar datos Puros Tratados"
   ]
  },
  {
   "cell_type": "code",
   "execution_count": 141,
   "metadata": {},
   "outputs": [
    {
     "data": {
      "text/html": [
       "<div>\n",
       "<style scoped>\n",
       "    .dataframe tbody tr th:only-of-type {\n",
       "        vertical-align: middle;\n",
       "    }\n",
       "\n",
       "    .dataframe tbody tr th {\n",
       "        vertical-align: top;\n",
       "    }\n",
       "\n",
       "    .dataframe thead th {\n",
       "        text-align: right;\n",
       "    }\n",
       "</style>\n",
       "<table border=\"1\" class=\"dataframe\">\n",
       "  <thead>\n",
       "    <tr style=\"text-align: right;\">\n",
       "      <th></th>\n",
       "      <th>Netflows</th>\n",
       "      <th>p1_d</th>\n",
       "      <th>p2_d</th>\n",
       "      <th>p3_d</th>\n",
       "      <th>duration</th>\n",
       "      <th>max_d</th>\n",
       "      <th>min_d</th>\n",
       "      <th>#packets</th>\n",
       "      <th>Avg_bps</th>\n",
       "      <th>Avg_pps</th>\n",
       "      <th>...</th>\n",
       "      <th>p2_ip</th>\n",
       "      <th>p3_ip</th>\n",
       "      <th>p1_ib</th>\n",
       "      <th>p2_ib</th>\n",
       "      <th>p3_ib</th>\n",
       "      <th>First_Protocol_ICMP</th>\n",
       "      <th>First_Protocol_ICMP6</th>\n",
       "      <th>First_Protocol_TCP</th>\n",
       "      <th>First_Protocol_UDP</th>\n",
       "      <th>Type_mine</th>\n",
       "    </tr>\n",
       "  </thead>\n",
       "  <tbody>\n",
       "    <tr>\n",
       "      <th>0</th>\n",
       "      <td>-0.084787</td>\n",
       "      <td>-0.685410</td>\n",
       "      <td>-0.244709</td>\n",
       "      <td>-0.196223</td>\n",
       "      <td>0.361252</td>\n",
       "      <td>-0.132463</td>\n",
       "      <td>-0.625504</td>\n",
       "      <td>-0.317443</td>\n",
       "      <td>-0.359303</td>\n",
       "      <td>-0.336093</td>\n",
       "      <td>...</td>\n",
       "      <td>-0.343648</td>\n",
       "      <td>-0.398552</td>\n",
       "      <td>-0.417145</td>\n",
       "      <td>-0.476095</td>\n",
       "      <td>-0.558694</td>\n",
       "      <td>0</td>\n",
       "      <td>0</td>\n",
       "      <td>1</td>\n",
       "      <td>0</td>\n",
       "      <td>0</td>\n",
       "    </tr>\n",
       "    <tr>\n",
       "      <th>1</th>\n",
       "      <td>0.097929</td>\n",
       "      <td>-0.396662</td>\n",
       "      <td>-0.458780</td>\n",
       "      <td>-0.451115</td>\n",
       "      <td>0.409764</td>\n",
       "      <td>-0.352407</td>\n",
       "      <td>-0.625504</td>\n",
       "      <td>-0.309740</td>\n",
       "      <td>-0.359148</td>\n",
       "      <td>-0.308138</td>\n",
       "      <td>...</td>\n",
       "      <td>-0.372665</td>\n",
       "      <td>-0.423315</td>\n",
       "      <td>-0.417145</td>\n",
       "      <td>-0.482557</td>\n",
       "      <td>-0.565459</td>\n",
       "      <td>0</td>\n",
       "      <td>0</td>\n",
       "      <td>1</td>\n",
       "      <td>0</td>\n",
       "      <td>0</td>\n",
       "    </tr>\n",
       "    <tr>\n",
       "      <th>2</th>\n",
       "      <td>-0.022141</td>\n",
       "      <td>-0.632190</td>\n",
       "      <td>-0.074370</td>\n",
       "      <td>-0.007831</td>\n",
       "      <td>0.791878</td>\n",
       "      <td>0.572379</td>\n",
       "      <td>-0.625504</td>\n",
       "      <td>0.899656</td>\n",
       "      <td>0.216184</td>\n",
       "      <td>0.446664</td>\n",
       "      <td>...</td>\n",
       "      <td>-0.358157</td>\n",
       "      <td>-0.313647</td>\n",
       "      <td>-0.410669</td>\n",
       "      <td>-0.473671</td>\n",
       "      <td>-0.423312</td>\n",
       "      <td>0</td>\n",
       "      <td>0</td>\n",
       "      <td>1</td>\n",
       "      <td>0</td>\n",
       "      <td>0</td>\n",
       "    </tr>\n",
       "    <tr>\n",
       "      <th>3</th>\n",
       "      <td>-0.502423</td>\n",
       "      <td>2.149904</td>\n",
       "      <td>2.128327</td>\n",
       "      <td>2.109300</td>\n",
       "      <td>-0.351008</td>\n",
       "      <td>2.077954</td>\n",
       "      <td>2.160192</td>\n",
       "      <td>-0.369684</td>\n",
       "      <td>-0.364646</td>\n",
       "      <td>-0.392005</td>\n",
       "      <td>...</td>\n",
       "      <td>-0.169549</td>\n",
       "      <td>-0.239356</td>\n",
       "      <td>-0.221081</td>\n",
       "      <td>-0.274899</td>\n",
       "      <td>-0.355679</td>\n",
       "      <td>0</td>\n",
       "      <td>0</td>\n",
       "      <td>1</td>\n",
       "      <td>0</td>\n",
       "      <td>1</td>\n",
       "    </tr>\n",
       "  </tbody>\n",
       "</table>\n",
       "<p>4 rows × 31 columns</p>\n",
       "</div>"
      ],
      "text/plain": [
       "   Netflows      p1_d      p2_d      p3_d  duration     max_d     min_d  \\\n",
       "0 -0.084787 -0.685410 -0.244709 -0.196223  0.361252 -0.132463 -0.625504   \n",
       "1  0.097929 -0.396662 -0.458780 -0.451115  0.409764 -0.352407 -0.625504   \n",
       "2 -0.022141 -0.632190 -0.074370 -0.007831  0.791878  0.572379 -0.625504   \n",
       "3 -0.502423  2.149904  2.128327  2.109300 -0.351008  2.077954  2.160192   \n",
       "\n",
       "   #packets   Avg_bps   Avg_pps  ...     p2_ip     p3_ip     p1_ib     p2_ib  \\\n",
       "0 -0.317443 -0.359303 -0.336093  ... -0.343648 -0.398552 -0.417145 -0.476095   \n",
       "1 -0.309740 -0.359148 -0.308138  ... -0.372665 -0.423315 -0.417145 -0.482557   \n",
       "2  0.899656  0.216184  0.446664  ... -0.358157 -0.313647 -0.410669 -0.473671   \n",
       "3 -0.369684 -0.364646 -0.392005  ... -0.169549 -0.239356 -0.221081 -0.274899   \n",
       "\n",
       "      p3_ib  First_Protocol_ICMP  First_Protocol_ICMP6  First_Protocol_TCP  \\\n",
       "0 -0.558694                    0                     0                   1   \n",
       "1 -0.565459                    0                     0                   1   \n",
       "2 -0.423312                    0                     0                   1   \n",
       "3 -0.355679                    0                     0                   1   \n",
       "\n",
       "   First_Protocol_UDP  Type_mine  \n",
       "0                   0          0  \n",
       "1                   0          0  \n",
       "2                   0          0  \n",
       "3                   0          1  \n",
       "\n",
       "[4 rows x 31 columns]"
      ]
     },
     "execution_count": 141,
     "metadata": {},
     "output_type": "execute_result"
    }
   ],
   "source": [
    "data = pd.read_csv('./dataA.csv')\n",
    "data.head(4)"
   ]
  },
  {
   "cell_type": "markdown",
   "metadata": {},
   "source": [
    "# Modelo"
   ]
  },
  {
   "cell_type": "markdown",
   "metadata": {},
   "source": [
    "### Holdout"
   ]
  },
  {
   "cell_type": "code",
   "execution_count": 142,
   "metadata": {
    "scrolled": true
   },
   "outputs": [],
   "source": [
    "best_feature_pure = ['Avg_bps','Avg_bpp' ,'Avg_pps','p3_ip','p3_ib']\n",
    "y = data['Type_mine']\n",
    "X = data[best_feature_pure]"
   ]
  },
  {
   "cell_type": "code",
   "execution_count": 143,
   "metadata": {},
   "outputs": [],
   "source": [
    "X_train, X_test, y_train, y_test = train_test_split(X,y,train_size = 0.7, test_size=0.3, random_state = 1234)"
   ]
  },
  {
   "cell_type": "markdown",
   "metadata": {},
   "source": [
    "### KNN"
   ]
  },
  {
   "cell_type": "code",
   "execution_count": 144,
   "metadata": {},
   "outputs": [
    {
     "data": {
      "text/html": [
       "<div>\n",
       "<style scoped>\n",
       "    .dataframe tbody tr th:only-of-type {\n",
       "        vertical-align: middle;\n",
       "    }\n",
       "\n",
       "    .dataframe tbody tr th {\n",
       "        vertical-align: top;\n",
       "    }\n",
       "\n",
       "    .dataframe thead th {\n",
       "        text-align: right;\n",
       "    }\n",
       "</style>\n",
       "<table border=\"1\" class=\"dataframe\">\n",
       "  <thead>\n",
       "    <tr style=\"text-align: right;\">\n",
       "      <th></th>\n",
       "      <th>K</th>\n",
       "      <th>vec_train</th>\n",
       "      <th>vec_test</th>\n",
       "    </tr>\n",
       "  </thead>\n",
       "  <tbody>\n",
       "    <tr>\n",
       "      <th>0</th>\n",
       "      <td>1</td>\n",
       "      <td>1.000000</td>\n",
       "      <td>0.996479</td>\n",
       "    </tr>\n",
       "    <tr>\n",
       "      <th>1</th>\n",
       "      <td>3</td>\n",
       "      <td>0.994869</td>\n",
       "      <td>0.996479</td>\n",
       "    </tr>\n",
       "    <tr>\n",
       "      <th>2</th>\n",
       "      <td>5</td>\n",
       "      <td>0.993359</td>\n",
       "      <td>0.995775</td>\n",
       "    </tr>\n",
       "    <tr>\n",
       "      <th>3</th>\n",
       "      <td>7</td>\n",
       "      <td>0.991247</td>\n",
       "      <td>0.995775</td>\n",
       "    </tr>\n",
       "    <tr>\n",
       "      <th>4</th>\n",
       "      <td>9</td>\n",
       "      <td>0.992152</td>\n",
       "      <td>0.995070</td>\n",
       "    </tr>\n",
       "    <tr>\n",
       "      <th>5</th>\n",
       "      <td>11</td>\n",
       "      <td>0.988832</td>\n",
       "      <td>0.994366</td>\n",
       "    </tr>\n",
       "    <tr>\n",
       "      <th>6</th>\n",
       "      <td>13</td>\n",
       "      <td>0.987625</td>\n",
       "      <td>0.994366</td>\n",
       "    </tr>\n",
       "    <tr>\n",
       "      <th>7</th>\n",
       "      <td>15</td>\n",
       "      <td>0.987323</td>\n",
       "      <td>0.993662</td>\n",
       "    </tr>\n",
       "    <tr>\n",
       "      <th>8</th>\n",
       "      <td>17</td>\n",
       "      <td>0.985813</td>\n",
       "      <td>0.992958</td>\n",
       "    </tr>\n",
       "    <tr>\n",
       "      <th>9</th>\n",
       "      <td>19</td>\n",
       "      <td>0.985512</td>\n",
       "      <td>0.992254</td>\n",
       "    </tr>\n",
       "    <tr>\n",
       "      <th>10</th>\n",
       "      <td>21</td>\n",
       "      <td>0.985512</td>\n",
       "      <td>0.991549</td>\n",
       "    </tr>\n",
       "    <tr>\n",
       "      <th>11</th>\n",
       "      <td>23</td>\n",
       "      <td>0.985813</td>\n",
       "      <td>0.990845</td>\n",
       "    </tr>\n",
       "    <tr>\n",
       "      <th>12</th>\n",
       "      <td>25</td>\n",
       "      <td>0.985512</td>\n",
       "      <td>0.991549</td>\n",
       "    </tr>\n",
       "    <tr>\n",
       "      <th>13</th>\n",
       "      <td>27</td>\n",
       "      <td>0.985813</td>\n",
       "      <td>0.991549</td>\n",
       "    </tr>\n",
       "    <tr>\n",
       "      <th>14</th>\n",
       "      <td>29</td>\n",
       "      <td>0.984908</td>\n",
       "      <td>0.991549</td>\n",
       "    </tr>\n",
       "    <tr>\n",
       "      <th>15</th>\n",
       "      <td>31</td>\n",
       "      <td>0.985210</td>\n",
       "      <td>0.991549</td>\n",
       "    </tr>\n",
       "    <tr>\n",
       "      <th>16</th>\n",
       "      <td>33</td>\n",
       "      <td>0.984002</td>\n",
       "      <td>0.991549</td>\n",
       "    </tr>\n",
       "    <tr>\n",
       "      <th>17</th>\n",
       "      <td>35</td>\n",
       "      <td>0.983399</td>\n",
       "      <td>0.991549</td>\n",
       "    </tr>\n",
       "    <tr>\n",
       "      <th>18</th>\n",
       "      <td>37</td>\n",
       "      <td>0.983399</td>\n",
       "      <td>0.991549</td>\n",
       "    </tr>\n",
       "    <tr>\n",
       "      <th>19</th>\n",
       "      <td>39</td>\n",
       "      <td>0.983399</td>\n",
       "      <td>0.990845</td>\n",
       "    </tr>\n",
       "  </tbody>\n",
       "</table>\n",
       "</div>"
      ],
      "text/plain": [
       "     K  vec_train  vec_test\n",
       "0    1   1.000000  0.996479\n",
       "1    3   0.994869  0.996479\n",
       "2    5   0.993359  0.995775\n",
       "3    7   0.991247  0.995775\n",
       "4    9   0.992152  0.995070\n",
       "5   11   0.988832  0.994366\n",
       "6   13   0.987625  0.994366\n",
       "7   15   0.987323  0.993662\n",
       "8   17   0.985813  0.992958\n",
       "9   19   0.985512  0.992254\n",
       "10  21   0.985512  0.991549\n",
       "11  23   0.985813  0.990845\n",
       "12  25   0.985512  0.991549\n",
       "13  27   0.985813  0.991549\n",
       "14  29   0.984908  0.991549\n",
       "15  31   0.985210  0.991549\n",
       "16  33   0.984002  0.991549\n",
       "17  35   0.983399  0.991549\n",
       "18  37   0.983399  0.991549\n",
       "19  39   0.983399  0.990845"
      ]
     },
     "metadata": {},
     "output_type": "display_data"
    }
   ],
   "source": [
    "k_vec = np.arange(1,40,2)\n",
    "vec_train = []\n",
    "vec_test =[]\n",
    "\n",
    "for k in k_vec:\n",
    "    knn = KNeighborsClassifier(n_neighbors = k)\n",
    "    knn.fit(X_train, y_train)\n",
    "    y_pred = knn.predict(X_train)\n",
    "    vec_train.append(metrics.accuracy_score(y_train, y_pred))\n",
    "    y_pred = knn.predict(X_test)\n",
    "    vec_test.append(metrics.accuracy_score(y_test, y_pred))\n",
    "v = pd.DataFrame()\n",
    "v['K'] = k_vec\n",
    "v['vec_train'] = vec_train\n",
    "v['vec_test'] = vec_test\n",
    "display(v)"
   ]
  },
  {
   "cell_type": "code",
   "execution_count": 145,
   "metadata": {},
   "outputs": [
    {
     "data": {
      "text/plain": [
       "<matplotlib.legend.Legend at 0x1e7df7d1f98>"
      ]
     },
     "execution_count": 145,
     "metadata": {},
     "output_type": "execute_result"
    },
    {
     "data": {
      "image/png": "[encoded data removed]",
      "text/plain": [
       "<Figure size 720x360 with 1 Axes>"
      ]
     },
     "metadata": {
      "needs_background": "light"
     },
     "output_type": "display_data"
    }
   ],
   "source": [
    "plt.figure(figsize=(10,5))\n",
    "ax = plt.gca()\n",
    "plt.plot(k_vec, vec_train)\n",
    "plt.plot(k_vec, vec_test)\n",
    "ax.set_xlim(ax.get_xlim()[::-1])\n",
    "plt.axis('tight')\n",
    "plt.xlabel('k')\n",
    "plt.ylabel('accuracy')\n",
    "plt.title('Evolución de le exactitud vs complejidad del modelo k-nn (valor de k más pequeño)')\n",
    "plt.legend(['train', 'test'])"
   ]
  },
  {
   "cell_type": "code",
   "execution_count": 146,
   "metadata": {},
   "outputs": [],
   "source": [
    "k_best = 5"
   ]
  },
  {
   "cell_type": "code",
   "execution_count": 147,
   "metadata": {},
   "outputs": [
    {
     "data": {
      "text/plain": [
       "KNeighborsClassifier(algorithm='auto', leaf_size=30, metric='minkowski',\n",
       "                     metric_params=None, n_jobs=None, n_neighbors=5, p=2,\n",
       "                     weights='uniform')"
      ]
     },
     "execution_count": 147,
     "metadata": {},
     "output_type": "execute_result"
    }
   ],
   "source": [
    "knn = KNeighborsClassifier(n_neighbors=k_best)\n",
    "knn.fit(X_train,y_train)"
   ]
  },
  {
   "cell_type": "code",
   "execution_count": 148,
   "metadata": {},
   "outputs": [
    {
     "data": {
      "text/plain": [
       "array([1, 1, 0, ..., 1, 1, 0], dtype=int64)"
      ]
     },
     "execution_count": 148,
     "metadata": {},
     "output_type": "execute_result"
    }
   ],
   "source": [
    "y_pred = knn.predict(X_test)\n",
    "y_pred"
   ]
  },
  {
   "cell_type": "markdown",
   "metadata": {},
   "source": [
    "### Evaluación del modelo"
   ]
  },
  {
   "cell_type": "code",
   "execution_count": 149,
   "metadata": {},
   "outputs": [
    {
     "data": {
      "text/plain": [
       "((1420,), (1420,))"
      ]
     },
     "execution_count": 149,
     "metadata": {},
     "output_type": "execute_result"
    }
   ],
   "source": [
    "y_test.shape, y_pred.shape"
   ]
  },
  {
   "cell_type": "code",
   "execution_count": 150,
   "metadata": {
    "scrolled": true
   },
   "outputs": [
    {
     "data": {
      "text/plain": [
       "([<matplotlib.axis.YTick at 0x1e7df6a06d8>,\n",
       "  <matplotlib.axis.YTick at 0x1e7df829198>],\n",
       " <a list of 2 Text yticklabel objects>)"
      ]
     },
     "execution_count": 150,
     "metadata": {},
     "output_type": "execute_result"
    },
    {
     "data": {
      "image/png": "[encoded data removed]",
      "text/plain": [
       "<Figure size 432x288 with 2 Axes>"
      ]
     },
     "metadata": {
      "needs_background": "light"
     },
     "output_type": "display_data"
    }
   ],
   "source": [
    "churm = metrics.confusion_matrix(y_test, y_pred)\n",
    "plt.imshow(churm, cmap=plt.cm.Blues)\n",
    "plt.title(f\"Matriz de confusión para K={k_best}\")\n",
    "plt.colorbar()\n",
    "tick_marks = np.arange(2)\n",
    "plt.xticks(tick_marks, ['Not_mine','Mine'])\n",
    "plt.yticks(tick_marks, ['Not_mine','Mine'])"
   ]
  },
  {
   "cell_type": "code",
   "execution_count": 151,
   "metadata": {},
   "outputs": [
    {
     "data": {
      "text/html": [
       "<div>\n",
       "<style scoped>\n",
       "    .dataframe tbody tr th:only-of-type {\n",
       "        vertical-align: middle;\n",
       "    }\n",
       "\n",
       "    .dataframe tbody tr th {\n",
       "        vertical-align: top;\n",
       "    }\n",
       "\n",
       "    .dataframe thead th {\n",
       "        text-align: right;\n",
       "    }\n",
       "</style>\n",
       "<table border=\"1\" class=\"dataframe\">\n",
       "  <thead>\n",
       "    <tr style=\"text-align: right;\">\n",
       "      <th></th>\n",
       "      <th>0</th>\n",
       "      <th>1</th>\n",
       "    </tr>\n",
       "  </thead>\n",
       "  <tbody>\n",
       "    <tr>\n",
       "      <th>0</th>\n",
       "      <td>752</td>\n",
       "      <td>3</td>\n",
       "    </tr>\n",
       "    <tr>\n",
       "      <th>1</th>\n",
       "      <td>3</td>\n",
       "      <td>662</td>\n",
       "    </tr>\n",
       "  </tbody>\n",
       "</table>\n",
       "</div>"
      ],
      "text/plain": [
       "     0    1\n",
       "0  752    3\n",
       "1    3  662"
      ]
     },
     "execution_count": 151,
     "metadata": {},
     "output_type": "execute_result"
    }
   ],
   "source": [
    "pd.DataFrame(churm)"
   ]
  },
  {
   "cell_type": "code",
   "execution_count": 152,
   "metadata": {},
   "outputs": [
    {
     "name": "stdout",
     "output_type": "stream",
     "text": [
      "El modelo de KNN se equivocó en 6 de los 4733 registros que componen el dataset original\n"
     ]
    }
   ],
   "source": [
    "print(\"El modelo de KNN se equivocó en %d de los %d registros que componen el dataset original\"\n",
    "      % ((y_test != y_pred).sum(), data.shape[0]))"
   ]
  },
  {
   "cell_type": "code",
   "execution_count": 153,
   "metadata": {},
   "outputs": [
    {
     "name": "stdout",
     "output_type": "stream",
     "text": [
      "Exactitud:  0.995774647887324\n",
      "Kappa:  0.9915152118707364\n"
     ]
    }
   ],
   "source": [
    "print(\"Exactitud: \", metrics.accuracy_score(y_test, y_pred))\n",
    "print(\"Kappa: \", metrics.cohen_kappa_score(y_test, y_pred))"
   ]
  },
  {
   "cell_type": "code",
   "execution_count": 154,
   "metadata": {},
   "outputs": [
    {
     "name": "stdout",
     "output_type": "stream",
     "text": [
      "\u001b[1mMetricas de los registros mineros\u001b[0m\n",
      "Precisión     :  0.9954887218045113\n",
      "Recall        :  0.9954887218045113\n",
      "Especificidad :  0.9960264900662251\n",
      "F1-score      :  0.9954887218045113\n"
     ]
    }
   ],
   "source": [
    "print(colored('Metricas de los registros mineros', attrs=['bold']))\n",
    "print(\"Precisión     : \", metrics.precision_score(y_test, y_pred, labels=[1], average='macro'))\n",
    "print(\"Recall        : \", metrics.recall_score(y_test, y_pred, labels=[1], average='macro'))\n",
    "\n",
    "VN = churm[0,0]\n",
    "FP = churm[0,1]\n",
    "specificity = VN/(VN+FP)\n",
    "\n",
    "\n",
    "print(\"Especificidad : \", specificity)\n",
    "\n",
    "print(\"F1-score      : \", metrics.f1_score(y_test, y_pred, labels=[1], average='macro'))\n"
   ]
  },
  {
   "cell_type": "code",
   "execution_count": 155,
   "metadata": {
    "scrolled": false
   },
   "outputs": [
    {
     "name": "stdout",
     "output_type": "stream",
     "text": [
      "\u001b[1mMetricas de los registros no mineros\u001b[0m\n",
      "Precisión     :  0.9960264900662251\n",
      "Recall        :  0.9960264900662251\n",
      "Especificidad :  0.9954887218045113\n",
      "F1-score      :  0.9960264900662251\n"
     ]
    }
   ],
   "source": [
    "print(colored('Metricas de los registros no mineros', attrs=['bold']))\n",
    "print(\"Precisión     : \", metrics.precision_score(y_test, y_pred, labels=[0], average='macro'))\n",
    "print(\"Recall        : \", metrics.recall_score(y_test, y_pred, labels=[0], average='macro'))\n",
    "\n",
    "VN = churm[1,1]\n",
    "FP = churm[1,0]\n",
    "specificity = VN/(VN+FP)\n",
    "\n",
    "print(\"Especificidad : \", specificity)\n",
    "\n",
    "print(\"F1-score      : \", metrics.f1_score(y_test, y_pred, labels=[0], average='macro'))"
   ]
  },
  {
   "cell_type": "code",
   "execution_count": 156,
   "metadata": {},
   "outputs": [],
   "source": [
    "mse, bias, var =  bias_variance_decomp(knn, np.array(X_train), np.array(y_train), np.array(X_test), np.array(y_test), loss='mse', num_rounds=200)"
   ]
  },
  {
   "cell_type": "code",
   "execution_count": 157,
   "metadata": {},
   "outputs": [
    {
     "name": "stdout",
     "output_type": "stream",
     "text": [
      "MSE: 0.005\n",
      "Bias: 0.004\n",
      "Variance: 0.002\n"
     ]
    }
   ],
   "source": [
    "print('MSE: %.3f' % mse)\n",
    "print('Bias: %.3f' % bias)\n",
    "print('Variance: %.3f' % var)"
   ]
  },
  {
   "cell_type": "code",
   "execution_count": 158,
   "metadata": {},
   "outputs": [],
   "source": [
    "train_sizes, train_scores, test_scores = learning_curve(KNeighborsClassifier(n_neighbors=8), \n",
    "                                                        X, y,cv=10,scoring='accuracy')"
   ]
  },
  {
   "cell_type": "code",
   "execution_count": 159,
   "metadata": {},
   "outputs": [
    {
     "data": {
      "image/png": "[encoded data removed]",
      "text/plain": [
       "<Figure size 432x288 with 1 Axes>"
      ]
     },
     "metadata": {
      "needs_background": "light"
     },
     "output_type": "display_data"
    }
   ],
   "source": [
    "train_mean = np.mean(train_scores, axis=1)\n",
    "train_std = np.std(train_scores, axis=1)\n",
    "\n",
    "test_mean = np.mean(test_scores, axis=1)\n",
    "test_std = np.std(test_scores, axis=1)\n",
    "\n",
    "plt.plot(train_sizes, train_mean, '--', color=\"red\",  label=\"Training score\")\n",
    "plt.plot(train_sizes, test_mean, color=\"blue\", label=\"Cross-validation score\")\n",
    "\n",
    "#plt.fill_between(train_sizes, train_mean - train_std, train_mean + train_std, color=\"gray\")\n",
    "#plt.fill_between(train_sizes, test_mean - test_std, test_mean + test_std, color=\"gray\")\n",
    "\n",
    "plt.title(\"Curva de aprendizaje\")\n",
    "plt.xlabel(\"Training Set Size\"), plt.ylabel(\"Accuracy Score\"), plt.legend(loc=\"best\")\n",
    "plt.tight_layout()\n",
    "plt.show()"
   ]
  },
  {
   "cell_type": "markdown",
   "metadata": {},
   "source": [
    "# Curva ROC"
   ]
  },
  {
   "cell_type": "code",
   "execution_count": 160,
   "metadata": {},
   "outputs": [
    {
     "data": {
      "image/png": "[encoded data removed]",
      "text/plain": [
       "<Figure size 432x288 with 1 Axes>"
      ]
     },
     "metadata": {
      "needs_background": "light"
     },
     "output_type": "display_data"
    },
    {
     "name": "stdout",
     "output_type": "stream",
     "text": [
      "No Skill: ROC AUC=0.500\n",
      "Treeb: ROC AUC=0.998\n"
     ]
    }
   ],
   "source": [
    "ROC(X_test,y_test,knn)"
   ]
  }
 ],
 "metadata": {
  "kernelspec": {
   "display_name": "Python 3",
   "language": "python",
   "name": "python3"
  },
  "language_info": {
   "codemirror_mode": {
    "name": "ipython",
    "version": 3
   },
   "file_extension": ".py",
   "mimetype": "text/x-python",
   "name": "python",
   "nbconvert_exporter": "python",
   "pygments_lexer": "ipython3",
   "version": "3.7.3"
  }
 },
 "nbformat": 4,
 "nbformat_minor": 2
}
