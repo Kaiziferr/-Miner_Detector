{
 "cells": [
  {
   "cell_type": "code",
   "execution_count": 1,
   "metadata": {},
   "outputs": [],
   "source": [
    "import pandas as pd\n",
    "import numpy as np\n",
    "import seaborn as sns\n",
    "import matplotlib.pyplot as plt\n",
    "import random\n",
    "\n",
    "\n",
    "from termcolor import colored\n",
    "\n",
    "from sklearn.model_selection import train_test_split, cross_validate, KFold\n",
    "from sklearn.preprocessing import OneHotEncoder\n",
    "from sklearn.impute import SimpleImputer\n",
    "\n",
    "\n",
    "from mlxtend.evaluate import bias_variance_decomp\n",
    "\n",
    "# Model\n",
    "# --------------------------------------------------------------------\n",
    "from sklearn.tree import DecisionTreeClassifier, plot_tree\n",
    "from sklearn import metrics"
   ]
  },
  {
   "cell_type": "markdown",
   "metadata": {},
   "source": [
    "Imprime las metricas de los modelos"
   ]
  },
  {
   "cell_type": "code",
   "execution_count": 2,
   "metadata": {},
   "outputs": [],
   "source": [
    "def metricas(validacion, prediccion, churm):\n",
    "    \n",
    "    print(\"Exactitud: \", metrics.accuracy_score(validacion, prediccion))\n",
    "    print(\"Kappa: \", metrics.cohen_kappa_score(validacion, prediccion))\n",
    "    \n",
    "    print(colored('Metricas de los registros mineros', attrs=['bold']))\n",
    "    \n",
    "    print(\"Precisión: \",  metrics.precision_score(validacion, prediccion, labels=[1], average='macro'))\n",
    "    print(\"Recall: \",  metrics.recall_score(validacion, prediccion, labels=[1], average='macro'))\n",
    "    \n",
    "    VN = churm[0,0]\n",
    "    FP = churm[0,1]\n",
    "    specificity = VN/(VN+FP)\n",
    "    \n",
    "    print(\"Especificidad : \", specificity)\n",
    "    print(\"F1-score      : \", metrics.f1_score(validacion, prediccion, labels=[1], average='macro'))\n",
    "    \n",
    "    \n",
    "    print(colored('Metricas de los registros no mineros', attrs=['bold']))\n",
    "    \n",
    "    print(\"Precisión: \",  metrics.precision_score(validacion, prediccion, labels=[0], average='macro'))\n",
    "    print(\"Recall: \",  metrics.recall_score(validacion, prediccion, labels=[0], average='macro'))\n",
    "    \n",
    "    VN = churm[1,1]\n",
    "    FP = churm[1,0]\n",
    "    specificity = VN/(VN+FP)\n",
    "    \n",
    "    print(\"Especificidad : \", specificity)\n",
    "    print(\"F1-score      : \", metrics.f1_score(validacion, prediccion, labels=[0], average='macro'))"
   ]
  },
  {
   "cell_type": "code",
   "execution_count": 3,
   "metadata": {
    "scrolled": true
   },
   "outputs": [],
   "source": [
    "def matriz_confusion(validacion, prediccion, cmap):\n",
    "    print(colored('Matriz de confusión', attrs=['bold']))\n",
    "    churm = metrics.confusion_matrix(validacion, prediccion)\n",
    "    plt.imshow(churm, cmap=cmap)\n",
    "    plt.colorbar()\n",
    "    tick_marks = np.arange(2)\n",
    "    plt.xticks(tick_marks, ['Not_mine','Mine'])\n",
    "    plt.yticks(tick_marks, ['Not_mine','Mine'])\n",
    "    return churm"
   ]
  },
  {
   "cell_type": "markdown",
   "metadata": {},
   "source": [
    "# Importar datos Puros"
   ]
  },
  {
   "cell_type": "code",
   "execution_count": 4,
   "metadata": {},
   "outputs": [
    {
     "data": {
      "text/html": [
       "<div>\n",
       "<style scoped>\n",
       "    .dataframe tbody tr th:only-of-type {\n",
       "        vertical-align: middle;\n",
       "    }\n",
       "\n",
       "    .dataframe tbody tr th {\n",
       "        vertical-align: top;\n",
       "    }\n",
       "\n",
       "    .dataframe thead th {\n",
       "        text-align: right;\n",
       "    }\n",
       "</style>\n",
       "<table border=\"1\" class=\"dataframe\">\n",
       "  <thead>\n",
       "    <tr style=\"text-align: right;\">\n",
       "      <th></th>\n",
       "      <th>Netflows</th>\n",
       "      <th>First_Protocol</th>\n",
       "      <th>p1_d</th>\n",
       "      <th>p2_d</th>\n",
       "      <th>p3_d</th>\n",
       "      <th>duration</th>\n",
       "      <th>max_d</th>\n",
       "      <th>min_d</th>\n",
       "      <th>#packets</th>\n",
       "      <th>Avg_bps</th>\n",
       "      <th>...</th>\n",
       "      <th>first_dp</th>\n",
       "      <th>second_dp</th>\n",
       "      <th>third_dp</th>\n",
       "      <th>p1_ip</th>\n",
       "      <th>p2_ip</th>\n",
       "      <th>p3_ip</th>\n",
       "      <th>p1_ib</th>\n",
       "      <th>p2_ib</th>\n",
       "      <th>p3_ib</th>\n",
       "      <th>Type</th>\n",
       "    </tr>\n",
       "  </thead>\n",
       "  <tbody>\n",
       "    <tr>\n",
       "      <th>0</th>\n",
       "      <td>82</td>\n",
       "      <td>TCP</td>\n",
       "      <td>2.9595</td>\n",
       "      <td>103.6315</td>\n",
       "      <td>135.19425</td>\n",
       "      <td>6709.539</td>\n",
       "      <td>184.327</td>\n",
       "      <td>0.0</td>\n",
       "      <td>407</td>\n",
       "      <td>1266</td>\n",
       "      <td>...</td>\n",
       "      <td>443</td>\n",
       "      <td>5355.0</td>\n",
       "      <td>80.0</td>\n",
       "      <td>3.0</td>\n",
       "      <td>5.0</td>\n",
       "      <td>5.75</td>\n",
       "      <td>84.0</td>\n",
       "      <td>160.0</td>\n",
       "      <td>248.0</td>\n",
       "      <td>not_mine</td>\n",
       "    </tr>\n",
       "  </tbody>\n",
       "</table>\n",
       "<p>1 rows × 28 columns</p>\n",
       "</div>"
      ],
      "text/plain": [
       "   Netflows First_Protocol    p1_d      p2_d       p3_d  duration    max_d  \\\n",
       "0        82            TCP  2.9595  103.6315  135.19425  6709.539  184.327   \n",
       "\n",
       "   min_d  #packets  Avg_bps  ...  first_dp  second_dp  third_dp  p1_ip  p2_ip  \\\n",
       "0    0.0       407     1266  ...       443     5355.0      80.0    3.0    5.0   \n",
       "\n",
       "   p3_ip  p1_ib  p2_ib  p3_ib      Type  \n",
       "0   5.75   84.0  160.0  248.0  not_mine  \n",
       "\n",
       "[1 rows x 28 columns]"
      ]
     },
     "execution_count": 4,
     "metadata": {},
     "output_type": "execute_result"
    }
   ],
   "source": [
    "dataA = pd.read_csv('./data_identificada.csv').drop(['Second_Protocol', 'Third_Protocol','Cryptocurrency'], axis = 1)\n",
    "dataA.head(1)"
   ]
  },
  {
   "cell_type": "markdown",
   "metadata": {},
   "source": [
    "# Preprocesamiento"
   ]
  },
  {
   "cell_type": "markdown",
   "metadata": {},
   "source": [
    "### Imputación de valores ausentes"
   ]
  },
  {
   "cell_type": "code",
   "execution_count": 5,
   "metadata": {},
   "outputs": [],
   "source": [
    "punter = pd.concat([dataA['second_sp'],dataA['second_dp'],dataA['third_sp'],dataA['third_dp']],axis=1)\n",
    "imputer = SimpleImputer(missing_values = np.nan, strategy = \"median\")\n",
    "values = imputer.fit_transform(punter)"
   ]
  },
  {
   "cell_type": "code",
   "execution_count": 6,
   "metadata": {},
   "outputs": [],
   "source": [
    "punter = pd.DataFrame(values, columns = punter.columns)\n",
    "dataA['second_sp'] = punter['second_sp']\n",
    "dataA['second_dp'] = punter['second_dp']\n",
    "dataA['third_sp'] = punter['third_sp']\n",
    "dataA['third_dp'] = punter['third_dp']"
   ]
  },
  {
   "cell_type": "code",
   "execution_count": 7,
   "metadata": {},
   "outputs": [
    {
     "data": {
      "text/plain": [
       "(4733, 28)"
      ]
     },
     "execution_count": 7,
     "metadata": {},
     "output_type": "execute_result"
    }
   ],
   "source": [
    "dataCopyA = dataA\n",
    "dataA.shape"
   ]
  },
  {
   "cell_type": "code",
   "execution_count": 8,
   "metadata": {},
   "outputs": [
    {
     "name": "stdout",
     "output_type": "stream",
     "text": [
      "\u001b[1mComo los registros benignos son los mismos para cada conjunto de datos, sacare aleatoriamente el 70% para utilizarlos para el entreno de modelos posteriores, y emular con el 30% datos de testeo\u001b[0m\n"
     ]
    }
   ],
   "source": [
    "print(colored('Como los registros benignos son los mismos para cada conjunto de datos, sacare aleatoriamente el 70% para utilizarlos para el entreno de modelos posteriores, y emular con el 30% datos de testeo', attrs=['bold']))\n",
    "porcion_no_minera_conjuntoA = dataCopyA[dataCopyA.Type == \"not_mine\"]\n",
    "porcion_no_minera_conjuntoA = porcion_no_minera_conjuntoA.sample(n=750)"
   ]
  },
  {
   "cell_type": "code",
   "execution_count": 9,
   "metadata": {},
   "outputs": [
    {
     "data": {
      "text/plain": [
       "(750, 28)"
      ]
     },
     "execution_count": 9,
     "metadata": {},
     "output_type": "execute_result"
    }
   ],
   "source": [
    "porcion_no_minera_conjuntoA.shape"
   ]
  },
  {
   "cell_type": "code",
   "execution_count": 10,
   "metadata": {},
   "outputs": [
    {
     "data": {
      "text/plain": [
       "(4733, 28)"
      ]
     },
     "execution_count": 10,
     "metadata": {},
     "output_type": "execute_result"
    }
   ],
   "source": [
    "dataA.shape"
   ]
  },
  {
   "cell_type": "code",
   "execution_count": 11,
   "metadata": {},
   "outputs": [],
   "source": [
    "dataA = dataA[~dataA.index.isin(porcion_no_minera_conjuntoA.index)]"
   ]
  },
  {
   "cell_type": "code",
   "execution_count": 12,
   "metadata": {},
   "outputs": [
    {
     "name": "stdout",
     "output_type": "stream",
     "text": [
      "\u001b[1mBalance del conjunto de datos\u001b[0m\n"
     ]
    },
    {
     "data": {
      "image/png": "[encoded data removed]",
      "text/plain": [
       "<Figure size 576x288 with 1 Axes>"
      ]
     },
     "metadata": {
      "needs_background": "light"
     },
     "output_type": "display_data"
    }
   ],
   "source": [
    "print(colored(f'Balance del conjunto de datos', attrs=['bold']))\n",
    "fig, ax = plt.subplots(figsize=(8,4))\n",
    "ax = sns.countplot(x='Type', data=dataA, palette=\"Set1\")\n",
    "ax.set_title(\"Diagrama de barras Tipo de trafico\", size=15)\n",
    "ax.set_xlabel('Tipo de trafico', size = 12)\n",
    "ax.set_ylabel('Cantidad de observaciones',  size = 12)\n",
    "ax.tick_params(labelsize = 12)"
   ]
  },
  {
   "cell_type": "markdown",
   "metadata": {},
   "source": [
    "### OneHotEncoder"
   ]
  },
  {
   "cell_type": "code",
   "execution_count": 13,
   "metadata": {},
   "outputs": [
    {
     "data": {
      "text/plain": [
       "<3983x6 sparse matrix of type '<class 'numpy.float64'>'\n",
       "\twith 7966 stored elements in Compressed Sparse Row format>"
      ]
     },
     "execution_count": 13,
     "metadata": {},
     "output_type": "execute_result"
    }
   ],
   "source": [
    "data_categoric = dataA[dataA.select_dtypes(include = ['object']).columns.to_list()]\n",
    "one_hot = OneHotEncoder()\n",
    "one_hot.fit_transform(data_categoric)"
   ]
  },
  {
   "cell_type": "code",
   "execution_count": 14,
   "metadata": {},
   "outputs": [
    {
     "data": {
      "text/html": [
       "<div>\n",
       "<style scoped>\n",
       "    .dataframe tbody tr th:only-of-type {\n",
       "        vertical-align: middle;\n",
       "    }\n",
       "\n",
       "    .dataframe tbody tr th {\n",
       "        vertical-align: top;\n",
       "    }\n",
       "\n",
       "    .dataframe thead th {\n",
       "        text-align: right;\n",
       "    }\n",
       "</style>\n",
       "<table border=\"1\" class=\"dataframe\">\n",
       "  <thead>\n",
       "    <tr style=\"text-align: right;\">\n",
       "      <th></th>\n",
       "      <th>First_Protocol_ICMP</th>\n",
       "      <th>First_Protocol_ICMP6</th>\n",
       "      <th>First_Protocol_TCP</th>\n",
       "      <th>First_Protocol_UDP</th>\n",
       "      <th>Type_mine</th>\n",
       "      <th>Type_not_mine</th>\n",
       "    </tr>\n",
       "  </thead>\n",
       "  <tbody>\n",
       "    <tr>\n",
       "      <th>0</th>\n",
       "      <td>0</td>\n",
       "      <td>0</td>\n",
       "      <td>1</td>\n",
       "      <td>0</td>\n",
       "      <td>0</td>\n",
       "      <td>1</td>\n",
       "    </tr>\n",
       "    <tr>\n",
       "      <th>3</th>\n",
       "      <td>0</td>\n",
       "      <td>0</td>\n",
       "      <td>1</td>\n",
       "      <td>0</td>\n",
       "      <td>1</td>\n",
       "      <td>0</td>\n",
       "    </tr>\n",
       "  </tbody>\n",
       "</table>\n",
       "</div>"
      ],
      "text/plain": [
       "   First_Protocol_ICMP  First_Protocol_ICMP6  First_Protocol_TCP  \\\n",
       "0                    0                     0                   1   \n",
       "3                    0                     0                   1   \n",
       "\n",
       "   First_Protocol_UDP  Type_mine  Type_not_mine  \n",
       "0                   0          0              1  \n",
       "3                   0          1              0  "
      ]
     },
     "execution_count": 14,
     "metadata": {},
     "output_type": "execute_result"
    }
   ],
   "source": [
    "data_dummy = pd.get_dummies(data_categoric)\n",
    "data_dummy.head(2)"
   ]
  },
  {
   "cell_type": "code",
   "execution_count": 15,
   "metadata": {},
   "outputs": [],
   "source": [
    "dataA = dataA.drop(['First_Protocol','Type'],axis = 1)"
   ]
  },
  {
   "cell_type": "code",
   "execution_count": 16,
   "metadata": {},
   "outputs": [
    {
     "data": {
      "text/plain": [
       "Index(['Netflows', 'p1_d', 'p2_d', 'p3_d', 'duration', 'max_d', 'min_d',\n",
       "       '#packets', 'Avg_bps', 'Avg_pps', 'Avg_bpp', '#Bytes', '#sp', '#dp',\n",
       "       'first_sp', 'second_sp', 'third_sp', 'first_dp', 'second_dp',\n",
       "       'third_dp', 'p1_ip', 'p2_ip', 'p3_ip', 'p1_ib', 'p2_ib', 'p3_ib',\n",
       "       'First_Protocol_ICMP', 'First_Protocol_ICMP6', 'First_Protocol_TCP',\n",
       "       'First_Protocol_UDP', 'Type_mine', 'Type_not_mine'],\n",
       "      dtype='object')"
      ]
     },
     "execution_count": 16,
     "metadata": {},
     "output_type": "execute_result"
    }
   ],
   "source": [
    "dataA = pd.concat([dataA,data_dummy], axis = 1)\n",
    "dataA.columns"
   ]
  },
  {
   "cell_type": "markdown",
   "metadata": {},
   "source": [
    "# Árbol de decisión"
   ]
  },
  {
   "cell_type": "code",
   "execution_count": null,
   "metadata": {},
   "outputs": [],
   "source": []
  },
  {
   "cell_type": "code",
   "execution_count": 17,
   "metadata": {},
   "outputs": [],
   "source": [
    "y = dataA['Type_mine']\n",
    "X = dataA.drop(['Type_mine','Type_not_mine'],axis = 1)"
   ]
  },
  {
   "cell_type": "markdown",
   "metadata": {},
   "source": [
    "### Holdout"
   ]
  },
  {
   "cell_type": "code",
   "execution_count": 18,
   "metadata": {},
   "outputs": [],
   "source": [
    "X_train, X_test, y_train, y_test = train_test_split(X,y, train_size = 0.7)"
   ]
  },
  {
   "cell_type": "markdown",
   "metadata": {},
   "source": [
    "### Modelo"
   ]
  },
  {
   "cell_type": "code",
   "execution_count": 19,
   "metadata": {},
   "outputs": [
    {
     "name": "stdout",
     "output_type": "stream",
     "text": [
      "\u001b[1mInstancio el modelo de arbol de decisión\u001b[0m\n"
     ]
    }
   ],
   "source": [
    "print(colored('Instancio el modelo de arbol de decisión', attrs=['bold']))\n",
    "model = DecisionTreeClassifier(\n",
    "    criterion='entropy', \n",
    "    max_depth=5,      \n",
    "    min_samples_split=2,\n",
    "    min_samples_leaf=1,\n",
    "    random_state=None,  \n",
    "    max_leaf_nodes=None, \n",
    "    min_impurity_decrease=0.0, \n",
    "    class_weight=None)"
   ]
  },
  {
   "cell_type": "code",
   "execution_count": 20,
   "metadata": {},
   "outputs": [
    {
     "name": "stdout",
     "output_type": "stream",
     "text": [
      "\u001b[1mEntreno el modelo\u001b[0m\n"
     ]
    },
    {
     "data": {
      "text/plain": [
       "DecisionTreeClassifier(ccp_alpha=0.0, class_weight=None, criterion='entropy',\n",
       "                       max_depth=5, max_features=None, max_leaf_nodes=None,\n",
       "                       min_impurity_decrease=0.0, min_impurity_split=None,\n",
       "                       min_samples_leaf=1, min_samples_split=2,\n",
       "                       min_weight_fraction_leaf=0.0, presort='deprecated',\n",
       "                       random_state=None, splitter='best')"
      ]
     },
     "execution_count": 20,
     "metadata": {},
     "output_type": "execute_result"
    }
   ],
   "source": [
    "print(colored('Entreno el modelo', attrs=['bold']))\n",
    "model.fit(X_train,y_train)"
   ]
  },
  {
   "cell_type": "code",
   "execution_count": 21,
   "metadata": {
    "scrolled": false
   },
   "outputs": [
    {
     "name": "stdout",
     "output_type": "stream",
     "text": [
      "\u001b[1mGrafico el modelo\u001b[0m\n",
      "\u001b[1mProfundidad del árbol: 2\u001b[0m\n",
      "\u001b[1mNúmero de nodos terminales: 3\u001b[0m\n"
     ]
    },
    {
     "data": {
      "text/plain": [
       "[Text(223.2, 453.0, 'first_sp <= 1887.5\\nsamples = 2788\\nvalue = [1212, 1576]\\nclass = i'),\n",
       " Text(111.6, 271.8, 'samples = 1191\\nvalue = [1191, 0]\\nclass = T'),\n",
       " Text(334.79999999999995, 271.8, 'First_Protocol_TCP <= 0.5\\nsamples = 1597\\nvalue = [21, 1576]\\nclass = i'),\n",
       " Text(223.2, 90.59999999999997, 'samples = 21\\nvalue = [21, 0]\\nclass = T'),\n",
       " Text(446.4, 90.59999999999997, 'samples = 1576\\nvalue = [0, 1576]\\nclass = i')]"
      ]
     },
     "execution_count": 21,
     "metadata": {},
     "output_type": "execute_result"
    },
    {
     "data": {
      "image/png": "[encoded data removed]",
      "text/plain": [
       "<Figure size 720x720 with 1 Axes>"
      ]
     },
     "metadata": {
      "needs_background": "light"
     },
     "output_type": "display_data"
    }
   ],
   "source": [
    "print(colored('Grafico el modelo', attrs=['bold']))\n",
    "fig, ax = plt.subplots(figsize = (10,10))\n",
    "\n",
    "print(colored(f'Profundidad del árbol: {model.get_depth()}', attrs=['bold']))\n",
    "print(colored(f'Número de nodos terminales: {model.get_n_leaves()}', attrs=['bold']))\n",
    "\n",
    "\n",
    "plot_tree(\n",
    "    decision_tree = model,\n",
    "    feature_names = X_train.columns.tolist(),\n",
    "    class_names   = 'Tipo de trafico minero',\n",
    "    filled        = True,\n",
    "    impurity      = False,\n",
    "    fontsize      = 17,\n",
    "    ax            = ax\n",
    ")"
   ]
  },
  {
   "cell_type": "code",
   "execution_count": 23,
   "metadata": {},
   "outputs": [
    {
     "name": "stdout",
     "output_type": "stream",
     "text": [
      "\u001b[1mRealizo la predicción del modelo con la porción de prueba\u001b[0m\n"
     ]
    },
    {
     "data": {
      "text/plain": [
       "array([1, 0, 1, ..., 0, 1, 0], dtype=uint8)"
      ]
     },
     "execution_count": 23,
     "metadata": {},
     "output_type": "execute_result"
    }
   ],
   "source": [
    "print(colored('Realizo la predicción del modelo con la porción de prueba', attrs=['bold']))\n",
    "y_pred = model.predict(X_test)\n",
    "y_pred"
   ]
  },
  {
   "cell_type": "code",
   "execution_count": 24,
   "metadata": {},
   "outputs": [
    {
     "data": {
      "text/plain": [
       "539"
      ]
     },
     "execution_count": 24,
     "metadata": {},
     "output_type": "execute_result"
    }
   ],
   "source": [
    "len(y_pred[y_pred == 0])"
   ]
  },
  {
   "cell_type": "code",
   "execution_count": 25,
   "metadata": {},
   "outputs": [
    {
     "data": {
      "text/plain": [
       "656"
      ]
     },
     "execution_count": 25,
     "metadata": {},
     "output_type": "execute_result"
    }
   ],
   "source": [
    "len(y_pred[y_pred == 1])"
   ]
  },
  {
   "cell_type": "code",
   "execution_count": 38,
   "metadata": {},
   "outputs": [
    {
     "name": "stdout",
     "output_type": "stream",
     "text": [
      "Average expected loss: 0.000\n",
      "Average bias: 0.000\n",
      "Average variance: 0.000\n"
     ]
    }
   ],
   "source": [
    "avg_expected_loss, avg_bias, avg_var = bias_variance_decomp(model, np.array(X_train), np.array(y_train), np.array(X_test), np.array(y_test), loss='0-1_loss')\n",
    "\n",
    "print('Average expected loss: %.3f' % avg_expected_loss)\n",
    "print('Average bias: %.3f' % avg_bias)\n",
    "print('Average variance: %.3f' % avg_var)"
   ]
  },
  {
   "cell_type": "markdown",
   "metadata": {},
   "source": [
    "### Métricas y matriz de confusión"
   ]
  },
  {
   "cell_type": "code",
   "execution_count": 520,
   "metadata": {
    "scrolled": true
   },
   "outputs": [
    {
     "name": "stdout",
     "output_type": "stream",
     "text": [
      "\u001b[1mMatriz de confusión\u001b[0m\n"
     ]
    },
    {
     "data": {
      "image/png": "[encoded data removed]",
      "text/plain": [
       "<Figure size 432x288 with 2 Axes>"
      ]
     },
     "metadata": {
      "needs_background": "light"
     },
     "output_type": "display_data"
    }
   ],
   "source": [
    "churm = matriz_confusion(y_test, y_pred, plt.cm.Blues)"
   ]
  },
  {
   "cell_type": "code",
   "execution_count": 521,
   "metadata": {},
   "outputs": [
    {
     "data": {
      "text/html": [
       "<div>\n",
       "<style scoped>\n",
       "    .dataframe tbody tr th:only-of-type {\n",
       "        vertical-align: middle;\n",
       "    }\n",
       "\n",
       "    .dataframe tbody tr th {\n",
       "        vertical-align: top;\n",
       "    }\n",
       "\n",
       "    .dataframe thead th {\n",
       "        text-align: right;\n",
       "    }\n",
       "</style>\n",
       "<table border=\"1\" class=\"dataframe\">\n",
       "  <thead>\n",
       "    <tr style=\"text-align: right;\">\n",
       "      <th></th>\n",
       "      <th>0</th>\n",
       "      <th>1</th>\n",
       "    </tr>\n",
       "  </thead>\n",
       "  <tbody>\n",
       "    <tr>\n",
       "      <th>0</th>\n",
       "      <td>518</td>\n",
       "      <td>0</td>\n",
       "    </tr>\n",
       "    <tr>\n",
       "      <th>1</th>\n",
       "      <td>0</td>\n",
       "      <td>677</td>\n",
       "    </tr>\n",
       "  </tbody>\n",
       "</table>\n",
       "</div>"
      ],
      "text/plain": [
       "     0    1\n",
       "0  518    0\n",
       "1    0  677"
      ]
     },
     "execution_count": 521,
     "metadata": {},
     "output_type": "execute_result"
    }
   ],
   "source": [
    "pd.DataFrame(churm)"
   ]
  },
  {
   "cell_type": "code",
   "execution_count": 522,
   "metadata": {},
   "outputs": [
    {
     "name": "stdout",
     "output_type": "stream",
     "text": [
      "El modelo arbol de dicición se equivocó en 0 de los 3983 registros que componen el dataset de mineria no pura\n"
     ]
    }
   ],
   "source": [
    "print(\"El modelo arbol de dicición se equivocó en %d de los %d registros que componen el dataset de mineria no pura\"\n",
    "      % ((y_test != y_pred).sum(), dataA.shape[0]))"
   ]
  },
  {
   "cell_type": "code",
   "execution_count": 523,
   "metadata": {
    "scrolled": true
   },
   "outputs": [
    {
     "name": "stdout",
     "output_type": "stream",
     "text": [
      "Exactitud:  1.0\n",
      "Kappa:  1.0\n",
      "\u001b[1mMetricas de los registros mineros\u001b[0m\n",
      "Precisión:  1.0\n",
      "Recall:  1.0\n",
      "Especificidad :  1.0\n",
      "F1-score      :  1.0\n",
      "\u001b[1mMetricas de los registros no mineros\u001b[0m\n",
      "Precisión:  1.0\n",
      "Recall:  1.0\n",
      "Especificidad :  1.0\n",
      "F1-score      :  1.0\n"
     ]
    }
   ],
   "source": [
    "metricas(y_test, y_pred, churm)"
   ]
  },
  {
   "cell_type": "markdown",
   "metadata": {},
   "source": [
    "# Experimento 1"
   ]
  },
  {
   "cell_type": "code",
   "execution_count": 524,
   "metadata": {
    "scrolled": true
   },
   "outputs": [
    {
     "name": "stdout",
     "output_type": "stream",
     "text": [
      "\u001b[1mImporto el conjunto de datos no puros\u001b[0m\n"
     ]
    },
    {
     "data": {
      "text/plain": [
       "Index(['Netflows', 'First_Protocol', 'p1_d', 'p2_d', 'p3_d', 'duration',\n",
       "       'max_d', 'min_d', '#packets', 'Avg_bps', 'Avg_pps', 'Avg_bpp', '#Bytes',\n",
       "       '#sp', '#dp', 'first_sp', 'second_sp', 'third_sp', 'first_dp',\n",
       "       'second_dp', 'third_dp', 'p1_ip', 'p2_ip', 'p3_ip', 'p1_ib', 'p2_ib',\n",
       "       'p3_ib', 'Type'],\n",
       "      dtype='object')"
      ]
     },
     "execution_count": 524,
     "metadata": {},
     "output_type": "execute_result"
    }
   ],
   "source": [
    "print(colored('Importo el conjunto de datos no puros', attrs=['bold']))\n",
    "dataB = pd.read_csv('./data_no_identificada.csv').drop(['Name','Second_Protocol', 'Third_Protocol'], axis = 1)\n",
    "dataB.columns"
   ]
  },
  {
   "cell_type": "code",
   "execution_count": 525,
   "metadata": {},
   "outputs": [],
   "source": [
    "dataB = pd.concat([dataB[dataB.Type == 'mine'],porcion_no_minera_conjuntoA], axis = 0)"
   ]
  },
  {
   "cell_type": "markdown",
   "metadata": {},
   "source": [
    "### Imputar valores"
   ]
  },
  {
   "cell_type": "code",
   "execution_count": 526,
   "metadata": {},
   "outputs": [],
   "source": [
    "punter = pd.concat([dataB['second_sp'],dataB['third_sp'],dataB['second_dp'],dataB['third_dp']], axis = 1)\n",
    "imputer = SimpleImputer(missing_values = np.nan, strategy = 'median')\n",
    "values = imputer.fit_transform(punter)"
   ]
  },
  {
   "cell_type": "code",
   "execution_count": 527,
   "metadata": {
    "scrolled": true
   },
   "outputs": [],
   "source": [
    "punter = pd.DataFrame(values, columns = punter.columns)\n",
    "dataB['second_sp'] = punter['second_sp']\n",
    "dataB['second_dp'] = punter['second_dp']\n",
    "dataB['third_sp'] = punter['third_sp']\n",
    "dataB['third_dp'] = punter['third_dp']"
   ]
  },
  {
   "cell_type": "markdown",
   "metadata": {},
   "source": [
    "### OneHotEncoder"
   ]
  },
  {
   "cell_type": "code",
   "execution_count": 528,
   "metadata": {},
   "outputs": [
    {
     "data": {
      "text/plain": [
       "<37803x6 sparse matrix of type '<class 'numpy.float64'>'\n",
       "\twith 75606 stored elements in Compressed Sparse Row format>"
      ]
     },
     "execution_count": 528,
     "metadata": {},
     "output_type": "execute_result"
    }
   ],
   "source": [
    "data_categoric = dataB[dataB.select_dtypes(include = ['object']).columns.to_list()]\n",
    "one_hot = OneHotEncoder()\n",
    "one_hot.fit_transform(data_categoric)"
   ]
  },
  {
   "cell_type": "code",
   "execution_count": 529,
   "metadata": {},
   "outputs": [
    {
     "data": {
      "text/html": [
       "<div>\n",
       "<style scoped>\n",
       "    .dataframe tbody tr th:only-of-type {\n",
       "        vertical-align: middle;\n",
       "    }\n",
       "\n",
       "    .dataframe tbody tr th {\n",
       "        vertical-align: top;\n",
       "    }\n",
       "\n",
       "    .dataframe thead th {\n",
       "        text-align: right;\n",
       "    }\n",
       "</style>\n",
       "<table border=\"1\" class=\"dataframe\">\n",
       "  <thead>\n",
       "    <tr style=\"text-align: right;\">\n",
       "      <th></th>\n",
       "      <th>First_Protocol_ICMP</th>\n",
       "      <th>First_Protocol_ICMP6</th>\n",
       "      <th>First_Protocol_TCP</th>\n",
       "      <th>First_Protocol_UDP</th>\n",
       "      <th>Type_mine</th>\n",
       "    </tr>\n",
       "  </thead>\n",
       "  <tbody>\n",
       "    <tr>\n",
       "      <th>0</th>\n",
       "      <td>0</td>\n",
       "      <td>0</td>\n",
       "      <td>1</td>\n",
       "      <td>0</td>\n",
       "      <td>1</td>\n",
       "    </tr>\n",
       "    <tr>\n",
       "      <th>1</th>\n",
       "      <td>0</td>\n",
       "      <td>0</td>\n",
       "      <td>1</td>\n",
       "      <td>0</td>\n",
       "      <td>1</td>\n",
       "    </tr>\n",
       "  </tbody>\n",
       "</table>\n",
       "</div>"
      ],
      "text/plain": [
       "   First_Protocol_ICMP  First_Protocol_ICMP6  First_Protocol_TCP  \\\n",
       "0                    0                     0                   1   \n",
       "1                    0                     0                   1   \n",
       "\n",
       "   First_Protocol_UDP  Type_mine  \n",
       "0                   0          1  \n",
       "1                   0          1  "
      ]
     },
     "execution_count": 529,
     "metadata": {},
     "output_type": "execute_result"
    }
   ],
   "source": [
    "data_dummy = pd.get_dummies(data_categoric).drop('Type_not_mine',axis=1)\n",
    "data_dummy.head(2)"
   ]
  },
  {
   "cell_type": "code",
   "execution_count": null,
   "metadata": {},
   "outputs": [],
   "source": []
  },
  {
   "cell_type": "code",
   "execution_count": 530,
   "metadata": {},
   "outputs": [
    {
     "data": {
      "text/plain": [
       "Index(['Netflows', 'p1_d', 'p2_d', 'p3_d', 'duration', 'max_d', 'min_d',\n",
       "       '#packets', 'Avg_bps', 'Avg_pps', 'Avg_bpp', '#Bytes', '#sp', '#dp',\n",
       "       'first_sp', 'second_sp', 'third_sp', 'first_dp', 'second_dp',\n",
       "       'third_dp', 'p1_ip', 'p2_ip', 'p3_ip', 'p1_ib', 'p2_ib', 'p3_ib',\n",
       "       'First_Protocol_ICMP', 'First_Protocol_ICMP6', 'First_Protocol_TCP',\n",
       "       'First_Protocol_UDP', 'Type_mine'],\n",
       "      dtype='object')"
      ]
     },
     "execution_count": 530,
     "metadata": {},
     "output_type": "execute_result"
    }
   ],
   "source": [
    "dataB = pd.concat([dataB,data_dummy], axis = 1).drop(['First_Protocol','Type'],axis=1)\n",
    "dataB.columns"
   ]
  },
  {
   "cell_type": "code",
   "execution_count": 531,
   "metadata": {},
   "outputs": [
    {
     "data": {
      "text/plain": [
       "Index(['Netflows', 'p1_d', 'p2_d', 'p3_d', 'duration', 'max_d', 'min_d',\n",
       "       '#packets', 'Avg_bps', 'Avg_pps', 'Avg_bpp', '#Bytes', '#sp', '#dp',\n",
       "       'first_sp', 'second_sp', 'third_sp', 'first_dp', 'second_dp',\n",
       "       'third_dp', 'p1_ip', 'p2_ip', 'p3_ip', 'p1_ib', 'p2_ib', 'p3_ib',\n",
       "       'First_Protocol_ICMP', 'First_Protocol_ICMP6', 'First_Protocol_TCP',\n",
       "       'First_Protocol_UDP'],\n",
       "      dtype='object')"
      ]
     },
     "execution_count": 531,
     "metadata": {},
     "output_type": "execute_result"
    }
   ],
   "source": [
    "X_train.columns"
   ]
  },
  {
   "cell_type": "code",
   "execution_count": 532,
   "metadata": {},
   "outputs": [],
   "source": [
    "X = dataB.drop(['Type_mine'],axis=1)\n",
    "y = dataB['Type_mine']"
   ]
  },
  {
   "cell_type": "markdown",
   "metadata": {},
   "source": [
    "### Realizo la predicción"
   ]
  },
  {
   "cell_type": "code",
   "execution_count": 533,
   "metadata": {
    "scrolled": true
   },
   "outputs": [
    {
     "data": {
      "text/plain": [
       "array([0, 0, 0, ..., 0, 0, 0], dtype=uint8)"
      ]
     },
     "execution_count": 533,
     "metadata": {},
     "output_type": "execute_result"
    }
   ],
   "source": [
    "y_pred = model.predict(X)\n",
    "y_pred"
   ]
  },
  {
   "cell_type": "code",
   "execution_count": 534,
   "metadata": {},
   "outputs": [
    {
     "name": "stdout",
     "output_type": "stream",
     "text": [
      "\u001b[1mMatriz de confusión\u001b[0m\n"
     ]
    },
    {
     "data": {
      "image/png": "[encoded data removed]",
      "text/plain": [
       "<Figure size 432x288 with 2 Axes>"
      ]
     },
     "metadata": {
      "needs_background": "light"
     },
     "output_type": "display_data"
    }
   ],
   "source": [
    "churm = matriz_confusion(y, y_pred, plt.cm.Reds)"
   ]
  },
  {
   "cell_type": "code",
   "execution_count": 535,
   "metadata": {},
   "outputs": [
    {
     "data": {
      "text/html": [
       "<div>\n",
       "<style scoped>\n",
       "    .dataframe tbody tr th:only-of-type {\n",
       "        vertical-align: middle;\n",
       "    }\n",
       "\n",
       "    .dataframe tbody tr th {\n",
       "        vertical-align: top;\n",
       "    }\n",
       "\n",
       "    .dataframe thead th {\n",
       "        text-align: right;\n",
       "    }\n",
       "</style>\n",
       "<table border=\"1\" class=\"dataframe\">\n",
       "  <thead>\n",
       "    <tr style=\"text-align: right;\">\n",
       "      <th></th>\n",
       "      <th>0</th>\n",
       "      <th>1</th>\n",
       "    </tr>\n",
       "  </thead>\n",
       "  <tbody>\n",
       "    <tr>\n",
       "      <th>0</th>\n",
       "      <td>750</td>\n",
       "      <td>0</td>\n",
       "    </tr>\n",
       "    <tr>\n",
       "      <th>1</th>\n",
       "      <td>37052</td>\n",
       "      <td>1</td>\n",
       "    </tr>\n",
       "  </tbody>\n",
       "</table>\n",
       "</div>"
      ],
      "text/plain": [
       "       0  1\n",
       "0    750  0\n",
       "1  37052  1"
      ]
     },
     "execution_count": 535,
     "metadata": {},
     "output_type": "execute_result"
    }
   ],
   "source": [
    "pd.DataFrame(churm)"
   ]
  },
  {
   "cell_type": "code",
   "execution_count": 536,
   "metadata": {},
   "outputs": [
    {
     "name": "stdout",
     "output_type": "stream",
     "text": [
      "El modelo de en el experimento 1 se equivocó en 37052 de los 37803 registros que componen el dataset de mineria no pura\n"
     ]
    }
   ],
   "source": [
    "print(\"El modelo de en el experimento 1 se equivocó en %d de los %d registros que componen el dataset de mineria no pura\"\n",
    "      % ((y != y_pred).sum(), dataB.shape[0]))"
   ]
  },
  {
   "cell_type": "code",
   "execution_count": 537,
   "metadata": {},
   "outputs": [
    {
     "name": "stdout",
     "output_type": "stream",
     "text": [
      "Exactitud:  0.019866148189297144\n",
      "Kappa:  1.0709097493233344e-06\n",
      "\u001b[1mMetricas de los registros mineros\u001b[0m\n",
      "Precisión:  1.0\n",
      "Recall:  2.698836801338623e-05\n",
      "Especificidad :  1.0\n",
      "F1-score      :  5.3975279322070496e-05\n",
      "\u001b[1mMetricas de los registros no mineros\u001b[0m\n",
      "Precisión:  0.019840220094174913\n",
      "Recall:  1.0\n",
      "Especificidad :  2.698836801338623e-05\n",
      "F1-score      :  0.03890848723801619\n"
     ]
    }
   ],
   "source": [
    "metricas(y, y_pred, churm)"
   ]
  },
  {
   "cell_type": "markdown",
   "metadata": {},
   "source": [
    "# Experimento 2"
   ]
  },
  {
   "cell_type": "code",
   "execution_count": 538,
   "metadata": {},
   "outputs": [
    {
     "name": "stdout",
     "output_type": "stream",
     "text": [
      "\u001b[1mCaracteristicas del conjunto de datos de mineria pura\u001b[0m\n",
      "['#dp', '#sp', 'First_Protocol_ICMP6', 'First_Protocol_TCP', 'First_Protocol_UDP', 'first_dp', 'first_sp', 'min_d', 'p1_d', 'p1_ip', 'p2_ib', 'p3_d', 'p3_ib', 'second_dp', 'second_sp']\n"
     ]
    }
   ],
   "source": [
    "print(colored('Caracteristicas del conjunto de datos de mineria pura', attrs=['bold']))\n",
    "best_feature_sel = ['#dp', '#sp', 'First_Protocol_ICMP6', 'First_Protocol_TCP',\n",
    "       'First_Protocol_UDP', 'first_dp', 'first_sp', 'min_d', 'p1_d',\n",
    "       'p1_ip', 'p2_ib', 'p3_d', 'p3_ib', 'second_dp', 'second_sp']\n",
    "print(best_feature_sel)"
   ]
  },
  {
   "cell_type": "markdown",
   "metadata": {},
   "source": [
    "# II Árbol de decisión"
   ]
  },
  {
   "cell_type": "code",
   "execution_count": 539,
   "metadata": {},
   "outputs": [],
   "source": [
    "y = dataA['Type_mine']\n",
    "X = dataA[best_feature_sel]"
   ]
  },
  {
   "cell_type": "markdown",
   "metadata": {},
   "source": [
    "# Hodount"
   ]
  },
  {
   "cell_type": "code",
   "execution_count": 540,
   "metadata": {},
   "outputs": [],
   "source": [
    "X_train, X_test, y_train, y_test = train_test_split(X,y, train_size = 0.7)"
   ]
  },
  {
   "cell_type": "markdown",
   "metadata": {},
   "source": [
    "# Modelo"
   ]
  },
  {
   "cell_type": "code",
   "execution_count": 541,
   "metadata": {},
   "outputs": [
    {
     "name": "stdout",
     "output_type": "stream",
     "text": [
      "\u001b[1mInstancio el modelo de arbol de decisión\u001b[0m\n"
     ]
    }
   ],
   "source": [
    "print(colored('Instancio el modelo de arbol de decisión', attrs=['bold']))\n",
    "model_II = DecisionTreeClassifier(\n",
    "    criterion='entropy', \n",
    "    max_depth=5,      \n",
    "    min_samples_split=2,\n",
    "    min_samples_leaf=1,\n",
    "    random_state=None,  \n",
    "    max_leaf_nodes=None, \n",
    "    min_impurity_decrease=0.0, \n",
    "    class_weight=None)"
   ]
  },
  {
   "cell_type": "code",
   "execution_count": 542,
   "metadata": {},
   "outputs": [
    {
     "name": "stdout",
     "output_type": "stream",
     "text": [
      "\u001b[1mEntreno el modelo\u001b[0m\n"
     ]
    },
    {
     "data": {
      "text/plain": [
       "DecisionTreeClassifier(ccp_alpha=0.0, class_weight=None, criterion='entropy',\n",
       "                       max_depth=5, max_features=None, max_leaf_nodes=None,\n",
       "                       min_impurity_decrease=0.0, min_impurity_split=None,\n",
       "                       min_samples_leaf=1, min_samples_split=2,\n",
       "                       min_weight_fraction_leaf=0.0, presort='deprecated',\n",
       "                       random_state=None, splitter='best')"
      ]
     },
     "execution_count": 542,
     "metadata": {},
     "output_type": "execute_result"
    }
   ],
   "source": [
    "print(colored('Entreno el modelo', attrs=['bold']))\n",
    "model_II.fit(X_train,y_train)"
   ]
  },
  {
   "cell_type": "code",
   "execution_count": 543,
   "metadata": {},
   "outputs": [
    {
     "name": "stdout",
     "output_type": "stream",
     "text": [
      "\u001b[1mGrafico el modelo\u001b[0m\n",
      "\u001b[1mProfundidad del árbol: 2\u001b[0m\n",
      "\u001b[1mNúmero de nodos terminales: 3\u001b[0m\n"
     ]
    },
    {
     "data": {
      "text/plain": [
       "[Text(223.2, 453.0, 'first_sp <= 1887.5\\nsamples = 2788\\nvalue = [1229, 1559]\\nclass = i'),\n",
       " Text(111.6, 271.8, 'samples = 1218\\nvalue = [1218, 0]\\nclass = T'),\n",
       " Text(334.79999999999995, 271.8, 'First_Protocol_UDP <= 0.5\\nsamples = 1570\\nvalue = [11, 1559]\\nclass = i'),\n",
       " Text(223.2, 90.59999999999997, 'samples = 1559\\nvalue = [0, 1559]\\nclass = i'),\n",
       " Text(446.4, 90.59999999999997, 'samples = 11\\nvalue = [11, 0]\\nclass = T')]"
      ]
     },
     "execution_count": 543,
     "metadata": {},
     "output_type": "execute_result"
    },
    {
     "data": {
      "image/png": "[encoded data removed]",
      "text/plain": [
       "<Figure size 720x720 with 1 Axes>"
      ]
     },
     "metadata": {
      "needs_background": "light"
     },
     "output_type": "display_data"
    }
   ],
   "source": [
    "print(colored('Grafico el modelo', attrs=['bold']))\n",
    "fig, ax = plt.subplots(figsize = (10,10))\n",
    "\n",
    "print(colored(f'Profundidad del árbol: {model_II.get_depth()}', attrs=['bold']))\n",
    "print(colored(f'Número de nodos terminales: {model_II.get_n_leaves()}', attrs=['bold']))\n",
    "\n",
    "\n",
    "plot_tree(\n",
    "    decision_tree = model_II,\n",
    "    feature_names = X_train.columns.tolist(),\n",
    "    class_names   = 'Tipo de trafico minero',\n",
    "    filled        = True,\n",
    "    impurity      = False,\n",
    "    fontsize      = 17,\n",
    "    ax            = ax\n",
    ")"
   ]
  },
  {
   "cell_type": "code",
   "execution_count": 544,
   "metadata": {},
   "outputs": [],
   "source": [
    "X = dataB[best_feature_sel]\n",
    "y = dataB['Type_mine']"
   ]
  },
  {
   "cell_type": "code",
   "execution_count": 545,
   "metadata": {},
   "outputs": [
    {
     "data": {
      "text/plain": [
       "array([0, 0, 0, ..., 0, 0, 0], dtype=uint8)"
      ]
     },
     "execution_count": 545,
     "metadata": {},
     "output_type": "execute_result"
    }
   ],
   "source": [
    "y_pred = model_II.predict(X)\n",
    "y_pred"
   ]
  },
  {
   "cell_type": "code",
   "execution_count": 546,
   "metadata": {},
   "outputs": [
    {
     "name": "stdout",
     "output_type": "stream",
     "text": [
      "\u001b[1mMatriz de confusión\u001b[0m\n"
     ]
    },
    {
     "data": {
      "image/png": "[encoded data removed]",
      "text/plain": [
       "<Figure size 432x288 with 2 Axes>"
      ]
     },
     "metadata": {
      "needs_background": "light"
     },
     "output_type": "display_data"
    }
   ],
   "source": [
    "churm = matriz_confusion(y, y_pred, plt.cm.Reds)"
   ]
  },
  {
   "cell_type": "code",
   "execution_count": 547,
   "metadata": {},
   "outputs": [
    {
     "data": {
      "text/html": [
       "<div>\n",
       "<style scoped>\n",
       "    .dataframe tbody tr th:only-of-type {\n",
       "        vertical-align: middle;\n",
       "    }\n",
       "\n",
       "    .dataframe tbody tr th {\n",
       "        vertical-align: top;\n",
       "    }\n",
       "\n",
       "    .dataframe thead th {\n",
       "        text-align: right;\n",
       "    }\n",
       "</style>\n",
       "<table border=\"1\" class=\"dataframe\">\n",
       "  <thead>\n",
       "    <tr style=\"text-align: right;\">\n",
       "      <th></th>\n",
       "      <th>0</th>\n",
       "      <th>1</th>\n",
       "    </tr>\n",
       "  </thead>\n",
       "  <tbody>\n",
       "    <tr>\n",
       "      <th>0</th>\n",
       "      <td>750</td>\n",
       "      <td>0</td>\n",
       "    </tr>\n",
       "    <tr>\n",
       "      <th>1</th>\n",
       "      <td>37052</td>\n",
       "      <td>1</td>\n",
       "    </tr>\n",
       "  </tbody>\n",
       "</table>\n",
       "</div>"
      ],
      "text/plain": [
       "       0  1\n",
       "0    750  0\n",
       "1  37052  1"
      ]
     },
     "execution_count": 547,
     "metadata": {},
     "output_type": "execute_result"
    }
   ],
   "source": [
    "pd.DataFrame(churm)"
   ]
  },
  {
   "cell_type": "code",
   "execution_count": 548,
   "metadata": {},
   "outputs": [
    {
     "name": "stdout",
     "output_type": "stream",
     "text": [
      "Exactitud:  0.019866148189297144\n",
      "Kappa:  1.0709097493233344e-06\n",
      "\u001b[1mMetricas de los registros mineros\u001b[0m\n",
      "Precisión:  1.0\n",
      "Recall:  2.698836801338623e-05\n",
      "Especificidad :  1.0\n",
      "F1-score      :  5.3975279322070496e-05\n",
      "\u001b[1mMetricas de los registros no mineros\u001b[0m\n",
      "Precisión:  0.019840220094174913\n",
      "Recall:  1.0\n",
      "Especificidad :  2.698836801338623e-05\n",
      "F1-score      :  0.03890848723801619\n"
     ]
    }
   ],
   "source": [
    "metricas(y, y_pred, churm)"
   ]
  },
  {
   "cell_type": "markdown",
   "metadata": {},
   "source": [
    "# Experimento 3"
   ]
  },
  {
   "cell_type": "code",
   "execution_count": 549,
   "metadata": {},
   "outputs": [
    {
     "name": "stdout",
     "output_type": "stream",
     "text": [
      "\u001b[1mCaracteristicas del conjunto de datos puro\u001b[0m\n",
      "['#dp', '#sp', 'First_Protocol_ICMP6', 'First_Protocol_TCP', 'First_Protocol_UDP', 'first_dp', 'first_sp', 'min_d', 'p1_d', 'p1_ip', 'p2_ib', 'p3_d', 'p3_ib', 'second_dp', 'second_sp']\n"
     ]
    }
   ],
   "source": [
    "print(colored('Caracteristicas del conjunto de datos puro', attrs=['bold']))\n",
    "print(best_feature_sel)"
   ]
  },
  {
   "cell_type": "code",
   "execution_count": 550,
   "metadata": {},
   "outputs": [
    {
     "name": "stdout",
     "output_type": "stream",
     "text": [
      "\u001b[1mCaracteristicas del conjunto de datos no puro\u001b[0m\n",
      "['First_Protocol_ICMP6', 'First_Protocol_TCP', 'First_Protocol_UDP', 'first_dp', 'first_sp', 'min_d', 'p1_ib', 'second_dp', 'Type_mine']\n"
     ]
    }
   ],
   "source": [
    "print(colored('Caracteristicas del conjunto de datos no puro', attrs=['bold']))\n",
    "best_feature_noPure = ['First_Protocol_ICMP6', 'First_Protocol_TCP', 'First_Protocol_UDP',\n",
    "       'first_dp', 'first_sp', 'min_d', 'p1_ib', 'second_dp','Type_mine']\n",
    "print(best_feature_noPure)"
   ]
  },
  {
   "cell_type": "code",
   "execution_count": 551,
   "metadata": {
    "scrolled": true
   },
   "outputs": [
    {
     "name": "stdout",
     "output_type": "stream",
     "text": [
      "\u001b[1mCombino las caracteristicas\u001b[0m\n"
     ]
    },
    {
     "data": {
      "text/plain": [
       "array(['#dp', '#sp', 'First_Protocol_ICMP6', 'First_Protocol_TCP',\n",
       "       'First_Protocol_UDP', 'Type_mine', 'first_dp', 'first_sp', 'min_d',\n",
       "       'p1_d', 'p1_ib', 'p1_ip', 'p2_ib', 'p3_d', 'p3_ib', 'second_dp',\n",
       "       'second_sp'], dtype='<U20')"
      ]
     },
     "execution_count": 551,
     "metadata": {},
     "output_type": "execute_result"
    }
   ],
   "source": [
    "print(colored('Combino las caracteristicas', attrs=['bold']))\n",
    "bestFeature = np.concatenate([best_feature_sel,best_feature_noPure])\n",
    "bestFeature = np.unique(bestFeature)\n",
    "bestFeature"
   ]
  },
  {
   "cell_type": "code",
   "execution_count": 552,
   "metadata": {},
   "outputs": [
    {
     "name": "stdout",
     "output_type": "stream",
     "text": [
      "\u001b[1mAplico una tecnica de submuestreo para equilibrar las clases del conjunto de datos no puros,  con la finalidad de balanciar el conjunto de datos\u001b[0m\n"
     ]
    }
   ],
   "source": [
    "print(colored('Aplico una tecnica de submuestreo para equilibrar las clases del conjunto de datos no puros,  con la finalidad de balanciar el conjunto de datos', attrs=['bold']))\n",
    "porcion_minera_conjuntoB = dataB[dataB.Type_mine == 1]\n",
    "porcion_minera_conjuntoB = porcion_minera_conjuntoB.sample(n=dataCopyA[dataCopyA.Type == \"mine\"].shape[0])"
   ]
  },
  {
   "cell_type": "code",
   "execution_count": 553,
   "metadata": {},
   "outputs": [
    {
     "name": "stdout",
     "output_type": "stream",
     "text": [
      "\u001b[1mUnimos los conjuntos de datos y aplicamos aleatoriedad en la posición de los registros\u001b[0m\n"
     ]
    }
   ],
   "source": [
    "print(colored('Unimos los conjuntos de datos y aplicamos aleatoriedad en la posición de los registros', attrs=['bold']))\n"
   ]
  },
  {
   "cell_type": "code",
   "execution_count": 554,
   "metadata": {},
   "outputs": [],
   "source": [
    "copy_porcion_minera_conjuntoB = porcion_minera_conjuntoB "
   ]
  },
  {
   "cell_type": "code",
   "execution_count": 555,
   "metadata": {},
   "outputs": [
    {
     "data": {
      "text/plain": [
       "(6215, 17)"
      ]
     },
     "execution_count": 555,
     "metadata": {},
     "output_type": "execute_result"
    }
   ],
   "source": [
    "data_final = pd.concat([dataA[bestFeature], porcion_minera_conjuntoB[bestFeature], ], axis = 0)\n",
    "data_final.shape"
   ]
  },
  {
   "cell_type": "code",
   "execution_count": 556,
   "metadata": {},
   "outputs": [
    {
     "name": "stdout",
     "output_type": "stream",
     "text": [
      "\u001b[1mBalance del conjunto de datos\u001b[0m\n"
     ]
    },
    {
     "data": {
      "image/png": "[encoded data removed]",
      "text/plain": [
       "<Figure size 576x288 with 1 Axes>"
      ]
     },
     "metadata": {
      "needs_background": "light"
     },
     "output_type": "display_data"
    }
   ],
   "source": [
    "print(colored(f'Balance del conjunto de datos', attrs=['bold']))\n",
    "fig, ax = plt.subplots(figsize=(8,4))\n",
    "ax = sns.countplot(x='Type_mine', data=data_final, palette=\"Set1\")\n",
    "ax.set_title(\"Diagrama de barras Tipo de trafico\", size=15)\n",
    "ax.set_xlabel('Tipo de trafico', size = 12)\n",
    "ax.set_ylabel('Cantidad de observaciones',  size = 12)\n",
    "ax.tick_params(labelsize = 12)"
   ]
  },
  {
   "cell_type": "code",
   "execution_count": 557,
   "metadata": {},
   "outputs": [
    {
     "data": {
      "text/plain": [
       "(7966, 17)"
      ]
     },
     "execution_count": 557,
     "metadata": {},
     "output_type": "execute_result"
    }
   ],
   "source": [
    "sobre_muestreo_no_minera = data_final[data_final.Type_mine == 0]\n",
    "data_final = pd.concat([data_final, sobre_muestreo_no_minera], axis = 0)\n",
    "data_final.shape"
   ]
  },
  {
   "cell_type": "code",
   "execution_count": 558,
   "metadata": {},
   "outputs": [
    {
     "name": "stdout",
     "output_type": "stream",
     "text": [
      "\u001b[1mBalance del conjunto de datos\u001b[0m\n"
     ]
    },
    {
     "data": {
      "image/png": "[encoded data removed]",
      "text/plain": [
       "<Figure size 576x288 with 1 Axes>"
      ]
     },
     "metadata": {
      "needs_background": "light"
     },
     "output_type": "display_data"
    }
   ],
   "source": [
    "\n",
    "print(colored(f'Balance del conjunto de datos', attrs=['bold']))\n",
    "fig, ax = plt.subplots(figsize=(8,4))\n",
    "ax = sns.countplot(x='Type_mine', data=data_final, palette=\"Set1\")\n",
    "ax.set_title(\"Diagrama de barras Tipo de trafico\", size=15)\n",
    "ax.set_xlabel('Tipo de trafico', size = 12)\n",
    "ax.set_ylabel('Cantidad de observaciones',  size = 12)\n",
    "ax.tick_params(labelsize = 12)"
   ]
  },
  {
   "cell_type": "code",
   "execution_count": 559,
   "metadata": {
    "scrolled": true
   },
   "outputs": [
    {
     "name": "stdout",
     "output_type": "stream",
     "text": [
      "\u001b[1mAleatoriedad\u001b[0m\n"
     ]
    },
    {
     "data": {
      "text/html": [
       "<div>\n",
       "<style scoped>\n",
       "    .dataframe tbody tr th:only-of-type {\n",
       "        vertical-align: middle;\n",
       "    }\n",
       "\n",
       "    .dataframe tbody tr th {\n",
       "        vertical-align: top;\n",
       "    }\n",
       "\n",
       "    .dataframe thead th {\n",
       "        text-align: right;\n",
       "    }\n",
       "</style>\n",
       "<table border=\"1\" class=\"dataframe\">\n",
       "  <thead>\n",
       "    <tr style=\"text-align: right;\">\n",
       "      <th></th>\n",
       "      <th>index</th>\n",
       "      <th>#dp</th>\n",
       "      <th>#sp</th>\n",
       "      <th>First_Protocol_ICMP6</th>\n",
       "      <th>First_Protocol_TCP</th>\n",
       "      <th>First_Protocol_UDP</th>\n",
       "      <th>Type_mine</th>\n",
       "      <th>first_dp</th>\n",
       "      <th>first_sp</th>\n",
       "      <th>min_d</th>\n",
       "      <th>p1_d</th>\n",
       "      <th>p1_ib</th>\n",
       "      <th>p1_ip</th>\n",
       "      <th>p2_ib</th>\n",
       "      <th>p3_d</th>\n",
       "      <th>p3_ib</th>\n",
       "      <th>second_dp</th>\n",
       "      <th>second_sp</th>\n",
       "    </tr>\n",
       "  </thead>\n",
       "  <tbody>\n",
       "    <tr>\n",
       "      <th>1663</th>\n",
       "      <td>1965</td>\n",
       "      <td>2</td>\n",
       "      <td>2</td>\n",
       "      <td>0</td>\n",
       "      <td>1</td>\n",
       "      <td>0</td>\n",
       "      <td>1</td>\n",
       "      <td>59090</td>\n",
       "      <td>59090</td>\n",
       "      <td>555.393</td>\n",
       "      <td>555.39300</td>\n",
       "      <td>5932.25</td>\n",
       "      <td>26.25</td>\n",
       "      <td>11219.5</td>\n",
       "      <td>555.3930</td>\n",
       "      <td>16506.75</td>\n",
       "      <td>3337.0</td>\n",
       "      <td>3337.0</td>\n",
       "    </tr>\n",
       "    <tr>\n",
       "      <th>7952</th>\n",
       "      <td>4688</td>\n",
       "      <td>34</td>\n",
       "      <td>36</td>\n",
       "      <td>0</td>\n",
       "      <td>1</td>\n",
       "      <td>0</td>\n",
       "      <td>0</td>\n",
       "      <td>443</td>\n",
       "      <td>443</td>\n",
       "      <td>3.002</td>\n",
       "      <td>103.22800</td>\n",
       "      <td>128.00</td>\n",
       "      <td>4.00</td>\n",
       "      <td>160.0</td>\n",
       "      <td>137.2180</td>\n",
       "      <td>248.00</td>\n",
       "      <td>80.0</td>\n",
       "      <td>80.0</td>\n",
       "    </tr>\n",
       "    <tr>\n",
       "      <th>5821</th>\n",
       "      <td>32966</td>\n",
       "      <td>1</td>\n",
       "      <td>1</td>\n",
       "      <td>1</td>\n",
       "      <td>0</td>\n",
       "      <td>0</td>\n",
       "      <td>1</td>\n",
       "      <td>34560</td>\n",
       "      <td>0</td>\n",
       "      <td>0.000</td>\n",
       "      <td>0.00000</td>\n",
       "      <td>32.00</td>\n",
       "      <td>1.00</td>\n",
       "      <td>32.0</td>\n",
       "      <td>0.0000</td>\n",
       "      <td>32.00</td>\n",
       "      <td>1281.0</td>\n",
       "      <td>5353.0</td>\n",
       "    </tr>\n",
       "    <tr>\n",
       "      <th>6696</th>\n",
       "      <td>1297</td>\n",
       "      <td>44</td>\n",
       "      <td>48</td>\n",
       "      <td>0</td>\n",
       "      <td>1</td>\n",
       "      <td>0</td>\n",
       "      <td>0</td>\n",
       "      <td>443</td>\n",
       "      <td>443</td>\n",
       "      <td>0.000</td>\n",
       "      <td>0.00000</td>\n",
       "      <td>32.00</td>\n",
       "      <td>1.00</td>\n",
       "      <td>64.0</td>\n",
       "      <td>45.0695</td>\n",
       "      <td>98.00</td>\n",
       "      <td>80.0</td>\n",
       "      <td>80.0</td>\n",
       "    </tr>\n",
       "    <tr>\n",
       "      <th>2505</th>\n",
       "      <td>2961</td>\n",
       "      <td>2</td>\n",
       "      <td>2</td>\n",
       "      <td>0</td>\n",
       "      <td>1</td>\n",
       "      <td>0</td>\n",
       "      <td>1</td>\n",
       "      <td>56731</td>\n",
       "      <td>56731</td>\n",
       "      <td>8.575</td>\n",
       "      <td>45.40225</td>\n",
       "      <td>1502.00</td>\n",
       "      <td>20.50</td>\n",
       "      <td>2868.5</td>\n",
       "      <td>105.5125</td>\n",
       "      <td>8104.00</td>\n",
       "      <td>4444.0</td>\n",
       "      <td>4444.0</td>\n",
       "    </tr>\n",
       "  </tbody>\n",
       "</table>\n",
       "</div>"
      ],
      "text/plain": [
       "      index  #dp  #sp  First_Protocol_ICMP6  First_Protocol_TCP  \\\n",
       "1663   1965    2    2                     0                   1   \n",
       "7952   4688   34   36                     0                   1   \n",
       "5821  32966    1    1                     1                   0   \n",
       "6696   1297   44   48                     0                   1   \n",
       "2505   2961    2    2                     0                   1   \n",
       "\n",
       "      First_Protocol_UDP  Type_mine  first_dp  first_sp    min_d       p1_d  \\\n",
       "1663                   0          1     59090     59090  555.393  555.39300   \n",
       "7952                   0          0       443       443    3.002  103.22800   \n",
       "5821                   0          1     34560         0    0.000    0.00000   \n",
       "6696                   0          0       443       443    0.000    0.00000   \n",
       "2505                   0          1     56731     56731    8.575   45.40225   \n",
       "\n",
       "        p1_ib  p1_ip    p2_ib      p3_d     p3_ib  second_dp  second_sp  \n",
       "1663  5932.25  26.25  11219.5  555.3930  16506.75     3337.0     3337.0  \n",
       "7952   128.00   4.00    160.0  137.2180    248.00       80.0       80.0  \n",
       "5821    32.00   1.00     32.0    0.0000     32.00     1281.0     5353.0  \n",
       "6696    32.00   1.00     64.0   45.0695     98.00       80.0       80.0  \n",
       "2505  1502.00  20.50   2868.5  105.5125   8104.00     4444.0     4444.0  "
      ]
     },
     "execution_count": 559,
     "metadata": {},
     "output_type": "execute_result"
    }
   ],
   "source": [
    "print(colored('Aleatoriedad', attrs=['bold']))\n",
    "data_final = data_final.reset_index()\n",
    "indices = list(data_final.index)\n",
    "random.shuffle(indices)\n",
    "data_final = data_final.reindex(indices)\n",
    "data_final.head()"
   ]
  },
  {
   "cell_type": "code",
   "execution_count": 560,
   "metadata": {},
   "outputs": [],
   "source": [
    "data_final.drop(['index'],axis =1, inplace=True)"
   ]
  },
  {
   "cell_type": "code",
   "execution_count": 561,
   "metadata": {},
   "outputs": [],
   "source": [
    "data_final['Type_mine'] = data_final['Type_mine'].astype('int')"
   ]
  },
  {
   "cell_type": "code",
   "execution_count": 562,
   "metadata": {},
   "outputs": [
    {
     "data": {
      "text/plain": [
       "(7966, 17)"
      ]
     },
     "execution_count": 562,
     "metadata": {},
     "output_type": "execute_result"
    }
   ],
   "source": [
    "data_final.shape"
   ]
  },
  {
   "cell_type": "markdown",
   "metadata": {},
   "source": [
    "### Modelo"
   ]
  },
  {
   "cell_type": "code",
   "execution_count": 563,
   "metadata": {},
   "outputs": [],
   "source": [
    "X = data_final.drop('Type_mine', axis = 1)\n",
    "y = data_final['Type_mine']"
   ]
  },
  {
   "cell_type": "code",
   "execution_count": 564,
   "metadata": {},
   "outputs": [],
   "source": [
    "model = DecisionTreeClassifier(\n",
    "    criterion='entropy', \n",
    "    max_depth=5,      \n",
    "    min_samples_split=2,\n",
    "    min_samples_leaf=1,\n",
    "    random_state=None,  \n",
    "    max_leaf_nodes=None, \n",
    "    min_impurity_decrease=0.0, \n",
    "    class_weight=None)"
   ]
  },
  {
   "cell_type": "code",
   "execution_count": 565,
   "metadata": {},
   "outputs": [
    {
     "name": "stdout",
     "output_type": "stream",
     "text": [
      "fit_time: 0.11 (+/- 0.11)\n",
      "score_time: 0.02 (+/- 0.01)\n",
      "test_accuracy: 1.00 (+/- 0.00)\n",
      "test_precision_weighted: 1.00 (+/- 0.00)\n",
      "test_recall_weighted: 1.00 (+/- 0.00)\n",
      "test_f1_weighted: 1.00 (+/- 0.00)\n"
     ]
    }
   ],
   "source": [
    "scoring = ['accuracy', 'precision_weighted', 'recall_weighted', 'f1_weighted']\n",
    "scores = cross_validate(model, X, y, scoring=scoring, cv=10, return_train_score=False)\n",
    "\n",
    "for key in scores:\n",
    "    score = scores[key]\n",
    "    print(\"%s: %0.2f (+/- %0.2f)\" % (key, score.mean(), score.std() * 2))\n"
   ]
  },
  {
   "cell_type": "code",
   "execution_count": 566,
   "metadata": {},
   "outputs": [],
   "source": [
    "K_fold = KFold(n_splits = 10)"
   ]
  },
  {
   "cell_type": "code",
   "execution_count": 567,
   "metadata": {},
   "outputs": [],
   "source": [
    "resultados_train = []\n",
    "resultados_test = []\n",
    "predicciones = []\n",
    "scores = []\n",
    "modelos = []\n",
    "\n",
    "\n",
    "for result in K_fold.split(X):\n",
    "    resultados_train.append(result[0])\n",
    "    resultados_test.append(result[1])\n",
    "    X_train = X.iloc[result[0]]\n",
    "    X_test =  X.iloc[result[1]]\n",
    "    y_train =  y.iloc[result[0]]\n",
    "    y_test =  y.iloc[result[1]]\n",
    "    model = model.fit(X_train,y_train)\n",
    "    modelos.append(model)\n",
    "    predic = model.predict(X_test)\n",
    "    predicciones.append(predic)\n",
    "    scores.append(model.score(X_test, y_test))"
   ]
  },
  {
   "cell_type": "code",
   "execution_count": 568,
   "metadata": {},
   "outputs": [
    {
     "data": {
      "text/plain": [
       "[0.998745294855709,\n",
       " 1.0,\n",
       " 1.0,\n",
       " 0.9962358845671268,\n",
       " 0.9937264742785445,\n",
       " 0.9962358845671268,\n",
       " 1.0,\n",
       " 1.0,\n",
       " 0.9974874371859297,\n",
       " 0.9962311557788944]"
      ]
     },
     "execution_count": 568,
     "metadata": {},
     "output_type": "execute_result"
    }
   ],
   "source": [
    "scores"
   ]
  },
  {
   "cell_type": "code",
   "execution_count": 591,
   "metadata": {},
   "outputs": [
    {
     "name": "stdout",
     "output_type": "stream",
     "text": [
      "\u001b[1mMatriz de confusión\u001b[0m\n"
     ]
    },
    {
     "data": {
      "image/png": "[encoded data removed]",
      "text/plain": [
       "<Figure size 432x288 with 2 Axes>"
      ]
     },
     "metadata": {
      "needs_background": "light"
     },
     "output_type": "display_data"
    }
   ],
   "source": [
    "churm = matriz_confusion(y.iloc[resultados_test[1]], predicciones[1], plt.cm.OrRd)"
   ]
  },
  {
   "cell_type": "code",
   "execution_count": 592,
   "metadata": {},
   "outputs": [
    {
     "data": {
      "text/html": [
       "<div>\n",
       "<style scoped>\n",
       "    .dataframe tbody tr th:only-of-type {\n",
       "        vertical-align: middle;\n",
       "    }\n",
       "\n",
       "    .dataframe tbody tr th {\n",
       "        vertical-align: top;\n",
       "    }\n",
       "\n",
       "    .dataframe thead th {\n",
       "        text-align: right;\n",
       "    }\n",
       "</style>\n",
       "<table border=\"1\" class=\"dataframe\">\n",
       "  <thead>\n",
       "    <tr style=\"text-align: right;\">\n",
       "      <th></th>\n",
       "      <th>0</th>\n",
       "      <th>1</th>\n",
       "    </tr>\n",
       "  </thead>\n",
       "  <tbody>\n",
       "    <tr>\n",
       "      <th>0</th>\n",
       "      <td>337</td>\n",
       "      <td>0</td>\n",
       "    </tr>\n",
       "    <tr>\n",
       "      <th>1</th>\n",
       "      <td>0</td>\n",
       "      <td>460</td>\n",
       "    </tr>\n",
       "  </tbody>\n",
       "</table>\n",
       "</div>"
      ],
      "text/plain": [
       "     0    1\n",
       "0  337    0\n",
       "1    0  460"
      ]
     },
     "execution_count": 592,
     "metadata": {},
     "output_type": "execute_result"
    }
   ],
   "source": [
    "pd.DataFrame(churm)"
   ]
  },
  {
   "cell_type": "code",
   "execution_count": 594,
   "metadata": {},
   "outputs": [
    {
     "name": "stdout",
     "output_type": "stream",
     "text": [
      "Exactitud:  1.0\n",
      "Kappa:  1.0\n",
      "\u001b[1mMetricas de los registros mineros\u001b[0m\n",
      "Precisión:  1.0\n",
      "Recall:  1.0\n",
      "Especificidad :  1.0\n",
      "F1-score      :  1.0\n",
      "\u001b[1mMetricas de los registros no mineros\u001b[0m\n",
      "Precisión:  1.0\n",
      "Recall:  1.0\n",
      "Especificidad :  1.0\n",
      "F1-score      :  1.0\n"
     ]
    }
   ],
   "source": [
    "metricas(y.iloc[resultados_test[1]], predicciones[1], churm)"
   ]
  },
  {
   "cell_type": "markdown",
   "metadata": {},
   "source": [
    "### Prueba final"
   ]
  },
  {
   "cell_type": "code",
   "execution_count": 572,
   "metadata": {
    "scrolled": true
   },
   "outputs": [
    {
     "data": {
      "text/plain": [
       "Index(['Netflows', 'First_Protocol', 'p1_d', 'p2_d', 'p3_d', 'duration',\n",
       "       'max_d', 'min_d', '#packets', 'Avg_bps', 'Avg_pps', 'Avg_bpp', '#Bytes',\n",
       "       '#sp', '#dp', 'first_sp', 'second_sp', 'third_sp', 'first_dp',\n",
       "       'second_dp', 'third_dp', 'p1_ip', 'p2_ip', 'p3_ip', 'p1_ib', 'p2_ib',\n",
       "       'p3_ib', 'Type'],\n",
       "      dtype='object')"
      ]
     },
     "execution_count": 572,
     "metadata": {},
     "output_type": "execute_result"
    }
   ],
   "source": [
    "porcion_no_minera_conjuntoA.columns"
   ]
  },
  {
   "cell_type": "code",
   "execution_count": 573,
   "metadata": {},
   "outputs": [
    {
     "data": {
      "text/plain": [
       "Index(['Netflows', 'p1_d', 'p2_d', 'p3_d', 'duration', 'max_d', 'min_d',\n",
       "       '#packets', 'Avg_bps', 'Avg_pps', 'Avg_bpp', '#Bytes', '#sp', '#dp',\n",
       "       'first_sp', 'second_sp', 'third_sp', 'first_dp', 'second_dp',\n",
       "       'third_dp', 'p1_ip', 'p2_ip', 'p3_ip', 'p1_ib', 'p2_ib', 'p3_ib',\n",
       "       'First_Protocol_ICMP', 'First_Protocol_ICMP6', 'First_Protocol_TCP',\n",
       "       'First_Protocol_UDP', 'Type_mine'],\n",
       "      dtype='object')"
      ]
     },
     "execution_count": 573,
     "metadata": {},
     "output_type": "execute_result"
    }
   ],
   "source": [
    "copy_porcion_minera_conjuntoB.columns"
   ]
  },
  {
   "cell_type": "code",
   "execution_count": 574,
   "metadata": {},
   "outputs": [
    {
     "data": {
      "text/html": [
       "<div>\n",
       "<style scoped>\n",
       "    .dataframe tbody tr th:only-of-type {\n",
       "        vertical-align: middle;\n",
       "    }\n",
       "\n",
       "    .dataframe tbody tr th {\n",
       "        vertical-align: top;\n",
       "    }\n",
       "\n",
       "    .dataframe thead th {\n",
       "        text-align: right;\n",
       "    }\n",
       "</style>\n",
       "<table border=\"1\" class=\"dataframe\">\n",
       "  <thead>\n",
       "    <tr style=\"text-align: right;\">\n",
       "      <th></th>\n",
       "      <th>First_Protocol_TCP</th>\n",
       "      <th>First_Protocol_UDP</th>\n",
       "      <th>Type_not_mine</th>\n",
       "    </tr>\n",
       "  </thead>\n",
       "  <tbody>\n",
       "    <tr>\n",
       "      <th>3797</th>\n",
       "      <td>1</td>\n",
       "      <td>0</td>\n",
       "      <td>1</td>\n",
       "    </tr>\n",
       "    <tr>\n",
       "      <th>2202</th>\n",
       "      <td>1</td>\n",
       "      <td>0</td>\n",
       "      <td>1</td>\n",
       "    </tr>\n",
       "  </tbody>\n",
       "</table>\n",
       "</div>"
      ],
      "text/plain": [
       "      First_Protocol_TCP  First_Protocol_UDP  Type_not_mine\n",
       "3797                   1                   0              1\n",
       "2202                   1                   0              1"
      ]
     },
     "execution_count": 574,
     "metadata": {},
     "output_type": "execute_result"
    }
   ],
   "source": [
    "data_categoric = porcion_no_minera_conjuntoA[porcion_no_minera_conjuntoA.select_dtypes(include = ['object']).columns.to_list()]\n",
    "one_hot = OneHotEncoder()\n",
    "one_hot.fit_transform(data_categoric)\n",
    "data_dummy = pd.get_dummies(data_categoric)\n",
    "data_dummy.head(2)"
   ]
  },
  {
   "cell_type": "code",
   "execution_count": 575,
   "metadata": {},
   "outputs": [],
   "source": [
    "porcion_no_minera_conjuntoA = pd.concat([porcion_no_minera_conjuntoA,data_dummy], axis = 1).drop(['First_Protocol','Type_not_mine'], axis = 1)"
   ]
  },
  {
   "cell_type": "code",
   "execution_count": 576,
   "metadata": {},
   "outputs": [],
   "source": [
    "dataB = dataB[~dataB.index.isin(porcion_minera_conjuntoB.index)]"
   ]
  },
  {
   "cell_type": "code",
   "execution_count": 577,
   "metadata": {},
   "outputs": [
    {
     "name": "stderr",
     "output_type": "stream",
     "text": [
      "C:\\ProgramData\\Anaconda3\\lib\\site-packages\\ipykernel_launcher.py:1: FutureWarning: Sorting because non-concatenation axis is not aligned. A future version\n",
      "of pandas will change to not sort by default.\n",
      "\n",
      "To accept the future behavior, pass 'sort=False'.\n",
      "\n",
      "To retain the current behavior and silence the warning, pass 'sort=True'.\n",
      "\n",
      "  \"\"\"Entry point for launching an IPython kernel.\n"
     ]
    }
   ],
   "source": [
    "prueba_final = pd.concat([porcion_no_minera_conjuntoA,dataB], axis = 0).replace({np.nan:0})"
   ]
  },
  {
   "cell_type": "code",
   "execution_count": 578,
   "metadata": {},
   "outputs": [],
   "source": [
    "X_p = prueba_final[bestFeature].drop('Type_mine',axis = 1)\n",
    "y_p = prueba_final['Type_mine']"
   ]
  },
  {
   "cell_type": "code",
   "execution_count": 595,
   "metadata": {},
   "outputs": [],
   "source": [
    "y_pred_proba = modelos[1].predict(X_p)"
   ]
  },
  {
   "cell_type": "code",
   "execution_count": 596,
   "metadata": {},
   "outputs": [
    {
     "name": "stdout",
     "output_type": "stream",
     "text": [
      "\u001b[1mMatriz de confusión\u001b[0m\n"
     ]
    },
    {
     "data": {
      "image/png": "[encoded data removed]",
      "text/plain": [
       "<Figure size 432x288 with 2 Axes>"
      ]
     },
     "metadata": {
      "needs_background": "light"
     },
     "output_type": "display_data"
    }
   ],
   "source": [
    "churm = matriz_confusion(y_p, y_pred_proba, plt.cm.Greens)"
   ]
  },
  {
   "cell_type": "code",
   "execution_count": 597,
   "metadata": {},
   "outputs": [
    {
     "data": {
      "text/html": [
       "<div>\n",
       "<style scoped>\n",
       "    .dataframe tbody tr th:only-of-type {\n",
       "        vertical-align: middle;\n",
       "    }\n",
       "\n",
       "    .dataframe tbody tr th {\n",
       "        vertical-align: top;\n",
       "    }\n",
       "\n",
       "    .dataframe thead th {\n",
       "        text-align: right;\n",
       "    }\n",
       "</style>\n",
       "<table border=\"1\" class=\"dataframe\">\n",
       "  <thead>\n",
       "    <tr style=\"text-align: right;\">\n",
       "      <th></th>\n",
       "      <th>0</th>\n",
       "      <th>1</th>\n",
       "    </tr>\n",
       "  </thead>\n",
       "  <tbody>\n",
       "    <tr>\n",
       "      <th>0</th>\n",
       "      <td>1414</td>\n",
       "      <td>43</td>\n",
       "    </tr>\n",
       "    <tr>\n",
       "      <th>1</th>\n",
       "      <td>149</td>\n",
       "      <td>34672</td>\n",
       "    </tr>\n",
       "  </tbody>\n",
       "</table>\n",
       "</div>"
      ],
      "text/plain": [
       "      0      1\n",
       "0  1414     43\n",
       "1   149  34672"
      ]
     },
     "execution_count": 597,
     "metadata": {},
     "output_type": "execute_result"
    }
   ],
   "source": [
    "pd.DataFrame(churm)"
   ]
  },
  {
   "cell_type": "code",
   "execution_count": 598,
   "metadata": {},
   "outputs": [
    {
     "name": "stdout",
     "output_type": "stream",
     "text": [
      "Exactitud:  0.9947075362478637\n",
      "Kappa:  0.9336662305667071\n",
      "\u001b[1mMetricas de los registros mineros\u001b[0m\n",
      "Precisión:  0.9987613423592108\n",
      "Recall:  0.9957209729760776\n",
      "Especificidad :  0.970487302676733\n",
      "F1-score      :  0.9972388403129314\n",
      "\u001b[1mMetricas de los registros no mineros\u001b[0m\n",
      "Precisión:  0.9046705054382598\n",
      "Recall:  0.970487302676733\n",
      "Especificidad :  0.9957209729760776\n",
      "F1-score      :  0.9364238410596025\n"
     ]
    }
   ],
   "source": [
    "metricas(y_p, y_pred_proba, churm)"
   ]
  },
  {
   "cell_type": "code",
   "execution_count": null,
   "metadata": {},
   "outputs": [],
   "source": []
  },
  {
   "cell_type": "code",
   "execution_count": null,
   "metadata": {},
   "outputs": [],
   "source": []
  },
  {
   "cell_type": "code",
   "execution_count": null,
   "metadata": {},
   "outputs": [],
   "source": []
  },
  {
   "cell_type": "code",
   "execution_count": null,
   "metadata": {},
   "outputs": [],
   "source": []
  },
  {
   "cell_type": "code",
   "execution_count": null,
   "metadata": {},
   "outputs": [],
   "source": []
  },
  {
   "cell_type": "code",
   "execution_count": null,
   "metadata": {},
   "outputs": [],
   "source": []
  },
  {
   "cell_type": "code",
   "execution_count": null,
   "metadata": {},
   "outputs": [],
   "source": []
  },
  {
   "cell_type": "code",
   "execution_count": null,
   "metadata": {},
   "outputs": [],
   "source": []
  },
  {
   "cell_type": "code",
   "execution_count": null,
   "metadata": {},
   "outputs": [],
   "source": []
  },
  {
   "cell_type": "code",
   "execution_count": null,
   "metadata": {},
   "outputs": [],
   "source": []
  },
  {
   "cell_type": "code",
   "execution_count": null,
   "metadata": {},
   "outputs": [],
   "source": []
  },
  {
   "cell_type": "code",
   "execution_count": null,
   "metadata": {},
   "outputs": [],
   "source": []
  },
  {
   "cell_type": "code",
   "execution_count": null,
   "metadata": {},
   "outputs": [],
   "source": []
  },
  {
   "cell_type": "code",
   "execution_count": 583,
   "metadata": {},
   "outputs": [],
   "source": [
    "y_pred_proba = model.predict_proba(X_test)"
   ]
  },
  {
   "cell_type": "code",
   "execution_count": 584,
   "metadata": {},
   "outputs": [],
   "source": [
    "lr_probs = y_pred_proba[:,1]"
   ]
  },
  {
   "cell_type": "code",
   "execution_count": 585,
   "metadata": {},
   "outputs": [],
   "source": [
    "ns_probs = [0 for _ in range(len(y_test))]"
   ]
  },
  {
   "cell_type": "code",
   "execution_count": 586,
   "metadata": {},
   "outputs": [
    {
     "data": {
      "text/plain": [
       "0.5"
      ]
     },
     "execution_count": 586,
     "metadata": {},
     "output_type": "execute_result"
    }
   ],
   "source": [
    "ns_auc = metrics.roc_auc_score(y_test, ns_probs)\n",
    "ns_auc"
   ]
  },
  {
   "cell_type": "code",
   "execution_count": 587,
   "metadata": {},
   "outputs": [
    {
     "data": {
      "text/plain": [
       "0.9976119594097123"
      ]
     },
     "execution_count": 587,
     "metadata": {},
     "output_type": "execute_result"
    }
   ],
   "source": [
    "lr_auc = metrics.roc_auc_score(y_test, lr_probs)\n",
    "lr_auc"
   ]
  },
  {
   "cell_type": "code",
   "execution_count": 588,
   "metadata": {},
   "outputs": [
    {
     "name": "stdout",
     "output_type": "stream",
     "text": [
      "No Skill: ROC AUC=0.500\n",
      "Treeb: ROC AUC=0.998\n"
     ]
    }
   ],
   "source": [
    "#Sumo los scores\n",
    "print('No Skill: ROC AUC=%.3f' % (ns_auc))\n",
    "print('Treeb: ROC AUC=%.3f' % (lr_auc))"
   ]
  },
  {
   "cell_type": "code",
   "execution_count": 589,
   "metadata": {},
   "outputs": [],
   "source": [
    "ns_fpr, ns_tpr, thresholds  = metrics.roc_curve(y_test,ns_probs)\n",
    "lr_fpr, lr_tpr, thresholds = metrics.roc_curve(y_test, lr_probs)"
   ]
  },
  {
   "cell_type": "code",
   "execution_count": 590,
   "metadata": {
    "scrolled": true
   },
   "outputs": [
    {
     "data": {
      "image/png": "[encoded data removed]",
      "text/plain": [
       "<Figure size 432x288 with 1 Axes>"
      ]
     },
     "metadata": {
      "needs_background": "light"
     },
     "output_type": "display_data"
    }
   ],
   "source": [
    "#Plot la roc curva para el modelo\n",
    "plt.plot(ns_fpr,ns_tpr,linestyle='--', label='No Skill')\n",
    "plt.plot(lr_fpr, lr_tpr, marker='.', label='KNN')\n",
    "plt.xlabel('False Positive Rate')\n",
    "plt.ylabel('True Positive Rate')\n",
    "plt.legend()\n",
    "plt.show()"
   ]
  },
  {
   "cell_type": "markdown",
   "metadata": {},
   "source": [
    "Holdaunt 70% pero debo hacer una validadci{on cruzada en este conjunto de entrenamiento (Puros), de este cruz validation saldra un modelo, y lo testeo con el 30%, con este porcentaje, le saco las metricas"
   ]
  }
 ],
 "metadata": {
  "kernelspec": {
   "display_name": "Python 3",
   "language": "python",
   "name": "python3"
  },
  "language_info": {
   "codemirror_mode": {
    "name": "ipython",
    "version": 3
   },
   "file_extension": ".py",
   "mimetype": "text/x-python",
   "name": "python",
   "nbconvert_exporter": "python",
   "pygments_lexer": "ipython3",
   "version": "3.7.3"
  }
 },
 "nbformat": 4,
 "nbformat_minor": 2
}
