{
 "cells": [
  {
   "cell_type": "code",
   "execution_count": 81,
   "metadata": {},
   "outputs": [],
   "source": [
    "import pandas as pd\n",
    "import numpy as np\n",
    "import matplotlib.pyplot as plt\n",
    "\n",
    "from sklearn.feature_selection import SelectKBest, f_classif, mutual_info_regression, chi2, SelectFromModel\n",
    "from sklearn.ensemble import ExtraTreesClassifier\n",
    "from sklearn.discriminant_analysis import LinearDiscriminantAnalysis"
   ]
  },
  {
   "cell_type": "markdown",
   "metadata": {},
   "source": [
    "# ANOVA F-value For Feature Selection Data Pure"
   ]
  },
  {
   "cell_type": "code",
   "execution_count": 82,
   "metadata": {},
   "outputs": [],
   "source": [
    "def anovaF(X,y,umbral):\n",
    "    f_value = SelectKBest(f_classif)\n",
    "    X_best = f_value.fit(X,y)\n",
    "    fig, ax = plt.subplots(figsize = (20,10))\n",
    "    scores = X_best.scores_\n",
    "    print(scores)\n",
    "    ax = plt.rcParams[\"figure.figsize\"] = [24,18]\n",
    "    ax = plt.plot(scores)\n",
    "    plt.xticks(np.arange(36),np.arange(36), size = 15 )\n",
    "    plt.yticks(size = 15)\n",
    "    bestScore = lambda x: x >= umbral\n",
    "    bestScore = pd.Series(bestScore(scores))\n",
    "    return bestScore[bestScore].index\n"
   ]
  },
  {
   "cell_type": "markdown",
   "metadata": {},
   "source": [
    "# ExtraTreesClassifier Data Pure"
   ]
  },
  {
   "cell_type": "code",
   "execution_count": 83,
   "metadata": {},
   "outputs": [],
   "source": [
    "def treesClassifierData(X,y):\n",
    "    clf = ExtraTreesClassifier(n_estimators = 36)\n",
    "    clf = clf.fit(X,y)\n",
    "    model = SelectFromModel(clf, prefit=True)\n",
    "    best_features_segundo_metodo = X[X.columns[model.get_support(indices = True)]].columns\n",
    "    return best_features_segundo_metodo"
   ]
  },
  {
   "cell_type": "markdown",
   "metadata": {},
   "source": [
    "# LDA Data Pure"
   ]
  },
  {
   "cell_type": "code",
   "execution_count": 84,
   "metadata": {},
   "outputs": [],
   "source": [
    "def ldaData(X,y):\n",
    "    lda = LinearDiscriminantAnalysis(n_components=None)\n",
    "    X_lda = lda.fit(X, y)\n",
    "    X_lda\n",
    "    model = SelectFromModel(X_lda, prefit=True)\n",
    "    best_features_tercer_metodo = X[X.columns[model.get_support(indices = True)]].columns\n",
    "    return best_features_tercer_metodo"
   ]
  },
  {
   "cell_type": "markdown",
   "metadata": {},
   "source": [
    "# Load Data"
   ]
  },
  {
   "cell_type": "markdown",
   "metadata": {},
   "source": [
    "### Data Pure"
   ]
  },
  {
   "cell_type": "code",
   "execution_count": 85,
   "metadata": {
    "scrolled": true
   },
   "outputs": [
    {
     "data": {
      "text/html": [
       "<div>\n",
       "<style scoped>\n",
       "    .dataframe tbody tr th:only-of-type {\n",
       "        vertical-align: middle;\n",
       "    }\n",
       "\n",
       "    .dataframe tbody tr th {\n",
       "        vertical-align: top;\n",
       "    }\n",
       "\n",
       "    .dataframe thead th {\n",
       "        text-align: right;\n",
       "    }\n",
       "</style>\n",
       "<table border=\"1\" class=\"dataframe\">\n",
       "  <thead>\n",
       "    <tr style=\"text-align: right;\">\n",
       "      <th></th>\n",
       "      <th>Netflows</th>\n",
       "      <th>p1_d</th>\n",
       "      <th>p2_d</th>\n",
       "      <th>p3_d</th>\n",
       "      <th>duration</th>\n",
       "      <th>max_d</th>\n",
       "      <th>min_d</th>\n",
       "      <th>#packets</th>\n",
       "      <th>Avg_bps</th>\n",
       "      <th>Avg_pps</th>\n",
       "      <th>...</th>\n",
       "      <th>First_Protocol_TCP</th>\n",
       "      <th>First_Protocol_UDP</th>\n",
       "      <th>Type_mine</th>\n",
       "      <th>Type_not_mine</th>\n",
       "      <th>Cryptocurrency_Bitcash</th>\n",
       "      <th>Cryptocurrency_Bitcoin</th>\n",
       "      <th>Cryptocurrency_Does not have</th>\n",
       "      <th>Cryptocurrency_Etherium</th>\n",
       "      <th>Cryptocurrency_Litecoin</th>\n",
       "      <th>Cryptocurrency_Monero</th>\n",
       "    </tr>\n",
       "  </thead>\n",
       "  <tbody>\n",
       "    <tr>\n",
       "      <th>0</th>\n",
       "      <td>0.364172</td>\n",
       "      <td>-0.700949</td>\n",
       "      <td>-0.804477</td>\n",
       "      <td>-0.943635</td>\n",
       "      <td>-0.31695</td>\n",
       "      <td>-0.898724</td>\n",
       "      <td>-0.625504</td>\n",
       "      <td>0.37276</td>\n",
       "      <td>0.580955</td>\n",
       "      <td>0.446664</td>\n",
       "      <td>...</td>\n",
       "      <td>1</td>\n",
       "      <td>0</td>\n",
       "      <td>0</td>\n",
       "      <td>1</td>\n",
       "      <td>0</td>\n",
       "      <td>0</td>\n",
       "      <td>1</td>\n",
       "      <td>0</td>\n",
       "      <td>0</td>\n",
       "      <td>0</td>\n",
       "    </tr>\n",
       "  </tbody>\n",
       "</table>\n",
       "<p>1 rows × 38 columns</p>\n",
       "</div>"
      ],
      "text/plain": [
       "   Netflows      p1_d      p2_d      p3_d  duration     max_d     min_d  \\\n",
       "0  0.364172 -0.700949 -0.804477 -0.943635  -0.31695 -0.898724 -0.625504   \n",
       "\n",
       "   #packets   Avg_bps   Avg_pps  ...  First_Protocol_TCP  First_Protocol_UDP  \\\n",
       "0   0.37276  0.580955  0.446664  ...                   1                   0   \n",
       "\n",
       "   Type_mine  Type_not_mine  Cryptocurrency_Bitcash  Cryptocurrency_Bitcoin  \\\n",
       "0          0              1                       0                       0   \n",
       "\n",
       "   Cryptocurrency_Does not have  Cryptocurrency_Etherium  \\\n",
       "0                             1                        0   \n",
       "\n",
       "   Cryptocurrency_Litecoin  Cryptocurrency_Monero  \n",
       "0                        0                      0  \n",
       "\n",
       "[1 rows x 38 columns]"
      ]
     },
     "execution_count": 85,
     "metadata": {},
     "output_type": "execute_result"
    }
   ],
   "source": [
    "data_i = pd.read_csv('dataA.csv')\n",
    "data_i.head(1)"
   ]
  },
  {
   "cell_type": "markdown",
   "metadata": {},
   "source": [
    "Anova, chi2, forward selection, backward selection, Recursive Feature Elimination, Lasso, Ridge"
   ]
  },
  {
   "cell_type": "code",
   "execution_count": 86,
   "metadata": {},
   "outputs": [],
   "source": [
    "temp = data_i.select_dtypes(['float64'])\n",
    "y = data_i['Type_mine']\n",
    "X = temp"
   ]
  },
  {
   "cell_type": "markdown",
   "metadata": {},
   "source": [
    "### Select Feature\n"
   ]
  },
  {
   "cell_type": "code",
   "execution_count": 87,
   "metadata": {},
   "outputs": [
    {
     "name": "stdout",
     "output_type": "stream",
     "text": [
      "[1239.96745042 3241.39110214 2953.15608804 2577.67611238  797.0659192\n",
      " 1725.15470738 3681.46940604  571.82900553  619.52643777  677.53082168\n",
      "  707.8752932   367.86393493 1801.15924089 1667.80763403 1475.30990268\n",
      " 1616.21012706  762.57854378  828.56238456  840.76184689 1139.85254764\n",
      " 1535.9378902  1696.27160765 3992.55589511 3802.17718051  604.89966563\n",
      "  128.2655685 ]\n"
     ]
    },
    {
     "data": {
      "text/plain": [
       "Index(['p1_d', 'p2_d', 'min_d', 'second_sp', 'second_dp'], dtype='object')"
      ]
     },
     "execution_count": 87,
     "metadata": {},
     "output_type": "execute_result"
    },
    {
     "data": {
      "image/png": "[encoded data removed]",
      "text/plain": [
       "<Figure size 1440x720 with 1 Axes>"
      ]
     },
     "metadata": {
      "needs_background": "light"
     },
     "output_type": "display_data"
    }
   ],
   "source": [
    "bestF1Me = anovaF(X,y,2700)\n",
    "bestF1Me = temp.columns[bestF1Me]\n",
    "bestF1Me"
   ]
  },
  {
   "cell_type": "code",
   "execution_count": 88,
   "metadata": {},
   "outputs": [
    {
     "data": {
      "text/plain": [
       "Index(['p2_d', 'p3_d', 'min_d', 'first_sp', 'first_dp', 'p2_ib', 'second_sp',\n",
       "       'second_dp'],\n",
       "      dtype='object')"
      ]
     },
     "execution_count": 88,
     "metadata": {},
     "output_type": "execute_result"
    }
   ],
   "source": [
    "bestF2Me = treesClassifierData(X,y)\n",
    "bestF2Me"
   ]
  },
  {
   "cell_type": "code",
   "execution_count": 89,
   "metadata": {},
   "outputs": [
    {
     "data": {
      "text/plain": [
       "Index(['#sp', '#dp', 'first_sp', 'first_dp', 'p1_ip', 'p2_ip', 'p3_ib',\n",
       "       'second_sp', 'second_dp'],\n",
       "      dtype='object')"
      ]
     },
     "execution_count": 89,
     "metadata": {},
     "output_type": "execute_result"
    }
   ],
   "source": [
    "bestF3Me = ldaData(X,y)\n",
    "bestF3Me"
   ]
  },
  {
   "cell_type": "code",
   "execution_count": 90,
   "metadata": {},
   "outputs": [
    {
     "data": {
      "text/plain": [
       "array(['#dp', '#sp', 'first_dp', 'first_sp', 'min_d', 'p1_d', 'p1_ip',\n",
       "       'p2_d', 'p2_ib', 'p2_ip', 'p3_d', 'p3_ib', 'second_dp',\n",
       "       'second_sp'], dtype=object)"
      ]
     },
     "execution_count": 90,
     "metadata": {},
     "output_type": "execute_result"
    }
   ],
   "source": [
    "best_pure = np.concatenate([bestF1Me,bestF2Me,bestF3Me])\n",
    "best_pure = np.unique(best_pure)\n",
    "best_pure"
   ]
  },
  {
   "cell_type": "markdown",
   "metadata": {},
   "source": [
    "### Data No Pure"
   ]
  },
  {
   "cell_type": "code",
   "execution_count": 92,
   "metadata": {
    "scrolled": true
   },
   "outputs": [
    {
     "data": {
      "text/html": [
       "<div>\n",
       "<style scoped>\n",
       "    .dataframe tbody tr th:only-of-type {\n",
       "        vertical-align: middle;\n",
       "    }\n",
       "\n",
       "    .dataframe tbody tr th {\n",
       "        vertical-align: top;\n",
       "    }\n",
       "\n",
       "    .dataframe thead th {\n",
       "        text-align: right;\n",
       "    }\n",
       "</style>\n",
       "<table border=\"1\" class=\"dataframe\">\n",
       "  <thead>\n",
       "    <tr style=\"text-align: right;\">\n",
       "      <th></th>\n",
       "      <th>Netflows</th>\n",
       "      <th>p1_d</th>\n",
       "      <th>p2_d</th>\n",
       "      <th>p3_d</th>\n",
       "      <th>duration</th>\n",
       "      <th>max_d</th>\n",
       "      <th>min_d</th>\n",
       "      <th>#packets</th>\n",
       "      <th>Avg_bps</th>\n",
       "      <th>Avg_pps</th>\n",
       "      <th>...</th>\n",
       "      <th>p2_ip</th>\n",
       "      <th>p3_ip</th>\n",
       "      <th>p1_ib</th>\n",
       "      <th>p2_ib</th>\n",
       "      <th>p3_ib</th>\n",
       "      <th>First_Protocol_ICMP</th>\n",
       "      <th>First_Protocol_ICMP6</th>\n",
       "      <th>First_Protocol_TCP</th>\n",
       "      <th>First_Protocol_UDP</th>\n",
       "      <th>Type_mine</th>\n",
       "    </tr>\n",
       "  </thead>\n",
       "  <tbody>\n",
       "    <tr>\n",
       "      <th>0</th>\n",
       "      <td>4.553656</td>\n",
       "      <td>-0.037927</td>\n",
       "      <td>-0.055406</td>\n",
       "      <td>-0.142137</td>\n",
       "      <td>15.85042</td>\n",
       "      <td>-0.126105</td>\n",
       "      <td>-0.01812</td>\n",
       "      <td>43.732192</td>\n",
       "      <td>127.789591</td>\n",
       "      <td>32.184816</td>\n",
       "      <td>...</td>\n",
       "      <td>0.725482</td>\n",
       "      <td>5.594429</td>\n",
       "      <td>-0.046617</td>\n",
       "      <td>0.189553</td>\n",
       "      <td>3.916348</td>\n",
       "      <td>0</td>\n",
       "      <td>0</td>\n",
       "      <td>1</td>\n",
       "      <td>0</td>\n",
       "      <td>1</td>\n",
       "    </tr>\n",
       "  </tbody>\n",
       "</table>\n",
       "<p>1 rows × 31 columns</p>\n",
       "</div>"
      ],
      "text/plain": [
       "   Netflows      p1_d      p2_d      p3_d  duration     max_d    min_d  \\\n",
       "0  4.553656 -0.037927 -0.055406 -0.142137  15.85042 -0.126105 -0.01812   \n",
       "\n",
       "    #packets     Avg_bps    Avg_pps  ...     p2_ip     p3_ip     p1_ib  \\\n",
       "0  43.732192  127.789591  32.184816  ...  0.725482  5.594429 -0.046617   \n",
       "\n",
       "      p2_ib     p3_ib  First_Protocol_ICMP  First_Protocol_ICMP6  \\\n",
       "0  0.189553  3.916348                    0                     0   \n",
       "\n",
       "   First_Protocol_TCP  First_Protocol_UDP  Type_mine  \n",
       "0                   1                   0          1  \n",
       "\n",
       "[1 rows x 31 columns]"
      ]
     },
     "execution_count": 92,
     "metadata": {},
     "output_type": "execute_result"
    }
   ],
   "source": [
    "data_n = pd.read_csv('dataB.csv')\n",
    "data_n.head(1)"
   ]
  },
  {
   "cell_type": "code",
   "execution_count": 96,
   "metadata": {},
   "outputs": [
    {
     "data": {
      "text/plain": [
       "Index(['Netflows', 'p1_d', 'p2_d', 'p3_d', 'duration', 'max_d', 'min_d',\n",
       "       '#packets', 'Avg_bps', 'Avg_pps', 'Avg_bpp', '#Bytes', '#sp', '#dp',\n",
       "       'first_sp', 'second_sp', 'third_sp', 'first_dp', 'second_dp',\n",
       "       'third_dp', 'p1_ip', 'p2_ip', 'p3_ip', 'p1_ib', 'p2_ib', 'p3_ib',\n",
       "       'First_Protocol_ICMP', 'First_Protocol_ICMP6', 'First_Protocol_TCP',\n",
       "       'First_Protocol_UDP', 'Type_mine'],\n",
       "      dtype='object')"
      ]
     },
     "execution_count": 96,
     "metadata": {},
     "output_type": "execute_result"
    }
   ],
   "source": [
    "data_n.columns"
   ]
  },
  {
   "cell_type": "code",
   "execution_count": 100,
   "metadata": {},
   "outputs": [
    {
     "data": {
      "text/plain": [
       "Index(['Netflows', 'p1_d', 'p2_d', 'p3_d', 'duration', 'max_d', 'min_d',\n",
       "       '#packets', 'Avg_bps', 'Avg_pps', 'Avg_bpp', '#Bytes', '#sp', '#dp',\n",
       "       'first_sp', 'second_sp', 'third_sp', 'first_dp', 'second_dp',\n",
       "       'third_dp', 'p1_ip', 'p2_ip', 'p3_ip', 'p1_ib', 'p2_ib', 'p3_ib',\n",
       "       'First_Protocol_ICMP', 'First_Protocol_ICMP6', 'First_Protocol_TCP',\n",
       "       'First_Protocol_UDP', 'Type_mine'],\n",
       "      dtype='object')"
      ]
     },
     "execution_count": 100,
     "metadata": {},
     "output_type": "execute_result"
    }
   ],
   "source": [
    "temp = temp.reindex(columns=['Netflows', 'p1_d', 'p2_d', 'p3_d', 'duration', 'max_d', 'min_d',\n",
    "       '#packets', 'Avg_bps', 'Avg_pps', 'Avg_bpp', '#Bytes', '#sp', '#dp',\n",
    "       'first_sp', 'second_sp', 'third_sp', 'first_dp', 'second_dp',\n",
    "       'third_dp', 'p1_ip', 'p2_ip', 'p3_ip', 'p1_ib', 'p2_ib', 'p3_ib',\n",
    "       'First_Protocol_ICMP', 'First_Protocol_ICMP6', 'First_Protocol_TCP',\n",
    "       'First_Protocol_UDP', 'Type_mine'])\n",
    "temp.columns"
   ]
  },
  {
   "cell_type": "code",
   "execution_count": 94,
   "metadata": {},
   "outputs": [],
   "source": [
    "temp = data_i.drop(['Cryptocurrency_Bitcash', 'Cryptocurrency_Bitcoin',\n",
    "       'Cryptocurrency_Does not have', 'Cryptocurrency_Etherium',\n",
    "       'Cryptocurrency_Litecoin', 'Cryptocurrency_Monero','Type_not_mine'], axis = 1)"
   ]
  },
  {
   "cell_type": "code",
   "execution_count": 101,
   "metadata": {
    "scrolled": false
   },
   "outputs": [],
   "source": [
    "data_n = pd.concat([data_n, temp[temp['Type_mine'] == 0]], axis = 0)"
   ]
  },
  {
   "cell_type": "code",
   "execution_count": 102,
   "metadata": {},
   "outputs": [
    {
     "data": {
      "text/html": [
       "<div>\n",
       "<style scoped>\n",
       "    .dataframe tbody tr th:only-of-type {\n",
       "        vertical-align: middle;\n",
       "    }\n",
       "\n",
       "    .dataframe tbody tr th {\n",
       "        vertical-align: top;\n",
       "    }\n",
       "\n",
       "    .dataframe thead th {\n",
       "        text-align: right;\n",
       "    }\n",
       "</style>\n",
       "<table border=\"1\" class=\"dataframe\">\n",
       "  <thead>\n",
       "    <tr style=\"text-align: right;\">\n",
       "      <th></th>\n",
       "      <th>index</th>\n",
       "      <th>Netflows</th>\n",
       "      <th>p1_d</th>\n",
       "      <th>p2_d</th>\n",
       "      <th>p3_d</th>\n",
       "      <th>duration</th>\n",
       "      <th>max_d</th>\n",
       "      <th>min_d</th>\n",
       "      <th>#packets</th>\n",
       "      <th>Avg_bps</th>\n",
       "      <th>...</th>\n",
       "      <th>p2_ip</th>\n",
       "      <th>p3_ip</th>\n",
       "      <th>p1_ib</th>\n",
       "      <th>p2_ib</th>\n",
       "      <th>p3_ib</th>\n",
       "      <th>First_Protocol_ICMP</th>\n",
       "      <th>First_Protocol_ICMP6</th>\n",
       "      <th>First_Protocol_TCP</th>\n",
       "      <th>First_Protocol_UDP</th>\n",
       "      <th>Type_mine</th>\n",
       "    </tr>\n",
       "  </thead>\n",
       "  <tbody>\n",
       "    <tr>\n",
       "      <th>6557</th>\n",
       "      <td>6557</td>\n",
       "      <td>-0.033373</td>\n",
       "      <td>-0.037927</td>\n",
       "      <td>-0.064791</td>\n",
       "      <td>0.025588</td>\n",
       "      <td>-0.100731</td>\n",
       "      <td>0.029758</td>\n",
       "      <td>-0.01812</td>\n",
       "      <td>-0.049162</td>\n",
       "      <td>-0.023033</td>\n",
       "      <td>...</td>\n",
       "      <td>-0.188257</td>\n",
       "      <td>0.489591</td>\n",
       "      <td>-0.095017</td>\n",
       "      <td>-0.082918</td>\n",
       "      <td>-0.224718</td>\n",
       "      <td>0</td>\n",
       "      <td>1</td>\n",
       "      <td>0</td>\n",
       "      <td>0</td>\n",
       "      <td>1</td>\n",
       "    </tr>\n",
       "  </tbody>\n",
       "</table>\n",
       "<p>1 rows × 32 columns</p>\n",
       "</div>"
      ],
      "text/plain": [
       "      index  Netflows      p1_d      p2_d      p3_d  duration     max_d  \\\n",
       "6557   6557 -0.033373 -0.037927 -0.064791  0.025588 -0.100731  0.029758   \n",
       "\n",
       "        min_d  #packets   Avg_bps  ...     p2_ip     p3_ip     p1_ib  \\\n",
       "6557 -0.01812 -0.049162 -0.023033  ... -0.188257  0.489591 -0.095017   \n",
       "\n",
       "         p2_ib     p3_ib  First_Protocol_ICMP  First_Protocol_ICMP6  \\\n",
       "6557 -0.082918 -0.224718                    0                     1   \n",
       "\n",
       "      First_Protocol_TCP  First_Protocol_UDP  Type_mine  \n",
       "6557                   0                   0          1  \n",
       "\n",
       "[1 rows x 32 columns]"
      ]
     },
     "execution_count": 102,
     "metadata": {},
     "output_type": "execute_result"
    }
   ],
   "source": [
    "import random\n",
    "data_n = data_n.reset_index()\n",
    "indices = list(data_n.index)\n",
    "random.shuffle(indices)\n",
    "data_n = data_n.reindex(indices)\n",
    "data_n.head(1)"
   ]
  },
  {
   "cell_type": "code",
   "execution_count": 105,
   "metadata": {},
   "outputs": [],
   "source": [
    "temp = data_n.select_dtypes(['float64'])\n",
    "y = data_n['Type_mine']\n",
    "X = temp"
   ]
  },
  {
   "cell_type": "markdown",
   "metadata": {},
   "source": [
    "### Select Feature"
   ]
  },
  {
   "cell_type": "code",
   "execution_count": 107,
   "metadata": {},
   "outputs": [
    {
     "name": "stdout",
     "output_type": "stream",
     "text": [
      "[ 420.92457812  904.7487895   851.89911986  778.45431807  290.11523557\n",
      "  585.12980178  976.71783277  216.0623241   232.20752455  251.59230445\n",
      "  264.85020514  143.96019777  563.30155575  531.5287672   527.79651599\n",
      " 1000.44541346  231.31297321  565.4983826   975.83412066   54.03158633\n",
      "  309.79725178  332.56344286  336.34253978  433.30594684  546.87303629\n",
      "  587.65993184]\n"
     ]
    },
    {
     "data": {
      "text/plain": [
       "Index(['p1_d', 'p2_d', 'p3_d', 'max_d', 'min_d', '#sp', '#dp', 'first_sp',\n",
       "       'second_sp', 'first_dp', 'second_dp', 'p2_ib', 'p3_ib'],\n",
       "      dtype='object')"
      ]
     },
     "execution_count": 107,
     "metadata": {},
     "output_type": "execute_result"
    },
    {
     "data": {
      "image/png": "[encoded data removed]",
      "text/plain": [
       "<Figure size 1440x720 with 1 Axes>"
      ]
     },
     "metadata": {
      "needs_background": "light"
     },
     "output_type": "display_data"
    }
   ],
   "source": [
    "bestF1Me = anovaF(X,y,500)\n",
    "bestF1Me = temp.columns[bestF1Me]\n",
    "bestF1Me"
   ]
  },
  {
   "cell_type": "code",
   "execution_count": 108,
   "metadata": {},
   "outputs": [
    {
     "data": {
      "text/plain": [
       "Index(['p2_d', 'min_d', 'first_sp', 'third_sp', 'first_dp', 'second_dp',\n",
       "       'p1_ib', 'p2_ib'],\n",
       "      dtype='object')"
      ]
     },
     "execution_count": 108,
     "metadata": {},
     "output_type": "execute_result"
    }
   ],
   "source": [
    "bestF2Me = treesClassifierData(X,y)\n",
    "bestF2Me"
   ]
  },
  {
   "cell_type": "code",
   "execution_count": 109,
   "metadata": {},
   "outputs": [
    {
     "data": {
      "text/plain": [
       "Index(['duration', 'max_d', '#packets', '#sp', '#dp'], dtype='object')"
      ]
     },
     "execution_count": 109,
     "metadata": {},
     "output_type": "execute_result"
    }
   ],
   "source": [
    "bestF3Me = ldaData(X,y)\n",
    "bestF3Me"
   ]
  },
  {
   "cell_type": "code",
   "execution_count": 110,
   "metadata": {
    "scrolled": true
   },
   "outputs": [
    {
     "data": {
      "text/plain": [
       "array(['#dp', '#packets', '#sp', 'duration', 'first_dp', 'first_sp',\n",
       "       'max_d', 'min_d', 'p1_d', 'p1_ib', 'p2_d', 'p2_ib', 'p3_d',\n",
       "       'p3_ib', 'second_dp', 'second_sp', 'third_sp'], dtype=object)"
      ]
     },
     "execution_count": 110,
     "metadata": {},
     "output_type": "execute_result"
    }
   ],
   "source": [
    "best_n_pure = np.concatenate([bestF1Me,bestF2Me,bestF3Me])\n",
    "best_n_pure = np.unique(best_n_pure)\n",
    "best_n_pure"
   ]
  },
  {
   "cell_type": "code",
   "execution_count": 111,
   "metadata": {},
   "outputs": [
    {
     "data": {
      "text/plain": [
       "array(['#dp', '#sp', 'first_dp', 'first_sp', 'min_d', 'p1_d', 'p1_ip',\n",
       "       'p2_d', 'p2_ib', 'p2_ip', 'p3_d', 'p3_ib', 'second_dp',\n",
       "       'second_sp'], dtype=object)"
      ]
     },
     "execution_count": 111,
     "metadata": {},
     "output_type": "execute_result"
    }
   ],
   "source": [
    "best_pure"
   ]
  },
  {
   "cell_type": "code",
   "execution_count": 112,
   "metadata": {},
   "outputs": [
    {
     "data": {
      "text/plain": [
       "array(['#dp', '#packets', '#sp', 'duration', 'first_dp', 'first_sp',\n",
       "       'max_d', 'min_d', 'p1_d', 'p1_ib', 'p2_d', 'p2_ib', 'p3_d',\n",
       "       'p3_ib', 'second_dp', 'second_sp', 'third_sp'], dtype=object)"
      ]
     },
     "execution_count": 112,
     "metadata": {},
     "output_type": "execute_result"
    }
   ],
   "source": [
    "best_n_pure"
   ]
  }
 ],
 "metadata": {
  "kernelspec": {
   "display_name": "Python 3",
   "language": "python",
   "name": "python3"
  },
  "language_info": {
   "codemirror_mode": {
    "name": "ipython",
    "version": 3
   },
   "file_extension": ".py",
   "mimetype": "text/x-python",
   "name": "python",
   "nbconvert_exporter": "python",
   "pygments_lexer": "ipython3",
   "version": "3.7.3"
  }
 },
 "nbformat": 4,
 "nbformat_minor": 2
}
