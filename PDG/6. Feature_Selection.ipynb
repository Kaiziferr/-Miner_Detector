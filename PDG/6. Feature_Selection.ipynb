{
 "cells": [
  {
   "cell_type": "code",
   "execution_count": 1,
   "metadata": {},
   "outputs": [],
   "source": [
    "import pandas as pd\n",
    "import numpy as np\n",
    "import matplotlib.pyplot as plt\n",
    "\n",
    "from sklearn.feature_selection import SelectKBest, f_classif, mutual_info_regression, chi2, SelectFromModel\n",
    "from sklearn.ensemble import ExtraTreesClassifier\n",
    "from sklearn.discriminant_analysis import LinearDiscriminantAnalysis"
   ]
  },
  {
   "cell_type": "markdown",
   "metadata": {},
   "source": [
    "# ANOVA F-value For Feature Selection Data Pure"
   ]
  },
  {
   "cell_type": "code",
   "execution_count": 2,
   "metadata": {},
   "outputs": [],
   "source": [
    "def anovaF(X,y,umbral):\n",
    "    f_value = SelectKBest(f_classif)\n",
    "    X_best = f_value.fit(X,y)\n",
    "    fig, ax = plt.subplots(figsize = (20,10))\n",
    "    scores = X_best.scores_\n",
    "    print(scores)\n",
    "    ax = plt.rcParams[\"figure.figsize\"] = [24,18]\n",
    "    ax = plt.plot(scores)\n",
    "    plt.xticks(np.arange(30),np.arange(30), size = 15 )\n",
    "    plt.yticks(size = 15)\n",
    "    bestScore = lambda x: x >= umbral\n",
    "    bestScore = pd.Series(bestScore(scores))\n",
    "    return bestScore[bestScore].index\n"
   ]
  },
  {
   "cell_type": "markdown",
   "metadata": {},
   "source": [
    "# ExtraTreesClassifier Data Pure"
   ]
  },
  {
   "cell_type": "code",
   "execution_count": 3,
   "metadata": {},
   "outputs": [],
   "source": [
    "def treesClassifierData(X,y):\n",
    "    clf = ExtraTreesClassifier(n_estimators = 36)\n",
    "    clf = clf.fit(X,y)\n",
    "    model = SelectFromModel(clf, prefit=True)\n",
    "    best_features_segundo_metodo = X[X.columns[model.get_support(indices = True)]].columns\n",
    "    return best_features_segundo_metodo"
   ]
  },
  {
   "cell_type": "markdown",
   "metadata": {},
   "source": [
    "# LDA Data Pure"
   ]
  },
  {
   "cell_type": "code",
   "execution_count": 4,
   "metadata": {},
   "outputs": [],
   "source": [
    "def ldaData(X,y):\n",
    "    lda = LinearDiscriminantAnalysis(n_components=None)\n",
    "    X_lda = lda.fit(X, y)\n",
    "    X_lda\n",
    "    model = SelectFromModel(X_lda, prefit=True)\n",
    "    best_features_tercer_metodo = X[X.columns[model.get_support(indices = True)]].columns\n",
    "    return best_features_tercer_metodo"
   ]
  },
  {
   "cell_type": "markdown",
   "metadata": {},
   "source": [
    "# Load Data"
   ]
  },
  {
   "cell_type": "markdown",
   "metadata": {},
   "source": [
    "### Data Pure"
   ]
  },
  {
   "cell_type": "code",
   "execution_count": 5,
   "metadata": {
    "scrolled": true
   },
   "outputs": [
    {
     "data": {
      "text/html": [
       "<div>\n",
       "<style scoped>\n",
       "    .dataframe tbody tr th:only-of-type {\n",
       "        vertical-align: middle;\n",
       "    }\n",
       "\n",
       "    .dataframe tbody tr th {\n",
       "        vertical-align: top;\n",
       "    }\n",
       "\n",
       "    .dataframe thead th {\n",
       "        text-align: right;\n",
       "    }\n",
       "</style>\n",
       "<table border=\"1\" class=\"dataframe\">\n",
       "  <thead>\n",
       "    <tr style=\"text-align: right;\">\n",
       "      <th></th>\n",
       "      <th>Netflows</th>\n",
       "      <th>p1_d</th>\n",
       "      <th>p2_d</th>\n",
       "      <th>p3_d</th>\n",
       "      <th>duration</th>\n",
       "      <th>max_d</th>\n",
       "      <th>min_d</th>\n",
       "      <th>#packets</th>\n",
       "      <th>Avg_bps</th>\n",
       "      <th>Avg_pps</th>\n",
       "      <th>...</th>\n",
       "      <th>p2_ip</th>\n",
       "      <th>p3_ip</th>\n",
       "      <th>p1_ib</th>\n",
       "      <th>p2_ib</th>\n",
       "      <th>p3_ib</th>\n",
       "      <th>First_Protocol_ICMP</th>\n",
       "      <th>First_Protocol_ICMP6</th>\n",
       "      <th>First_Protocol_TCP</th>\n",
       "      <th>First_Protocol_UDP</th>\n",
       "      <th>Type_mine</th>\n",
       "    </tr>\n",
       "  </thead>\n",
       "  <tbody>\n",
       "    <tr>\n",
       "      <th>0</th>\n",
       "      <td>-0.084787</td>\n",
       "      <td>-0.68541</td>\n",
       "      <td>-0.244709</td>\n",
       "      <td>-0.196223</td>\n",
       "      <td>0.361252</td>\n",
       "      <td>-0.132463</td>\n",
       "      <td>-0.625504</td>\n",
       "      <td>-0.317443</td>\n",
       "      <td>-0.359303</td>\n",
       "      <td>-0.336093</td>\n",
       "      <td>...</td>\n",
       "      <td>-0.343648</td>\n",
       "      <td>-0.398552</td>\n",
       "      <td>-0.417145</td>\n",
       "      <td>-0.476095</td>\n",
       "      <td>-0.558694</td>\n",
       "      <td>0</td>\n",
       "      <td>0</td>\n",
       "      <td>1</td>\n",
       "      <td>0</td>\n",
       "      <td>0</td>\n",
       "    </tr>\n",
       "  </tbody>\n",
       "</table>\n",
       "<p>1 rows × 31 columns</p>\n",
       "</div>"
      ],
      "text/plain": [
       "   Netflows     p1_d      p2_d      p3_d  duration     max_d     min_d  \\\n",
       "0 -0.084787 -0.68541 -0.244709 -0.196223  0.361252 -0.132463 -0.625504   \n",
       "\n",
       "   #packets   Avg_bps   Avg_pps  ...     p2_ip     p3_ip     p1_ib     p2_ib  \\\n",
       "0 -0.317443 -0.359303 -0.336093  ... -0.343648 -0.398552 -0.417145 -0.476095   \n",
       "\n",
       "      p3_ib  First_Protocol_ICMP  First_Protocol_ICMP6  First_Protocol_TCP  \\\n",
       "0 -0.558694                    0                     0                   1   \n",
       "\n",
       "   First_Protocol_UDP  Type_mine  \n",
       "0                   0          0  \n",
       "\n",
       "[1 rows x 31 columns]"
      ]
     },
     "execution_count": 5,
     "metadata": {},
     "output_type": "execute_result"
    }
   ],
   "source": [
    "data_i = pd.read_csv('dataA.csv')\n",
    "data_i.head(1)"
   ]
  },
  {
   "cell_type": "markdown",
   "metadata": {},
   "source": [
    "Anova, chi2, forward selection, backward selection, Recursive Feature Elimination, Lasso, Ridge"
   ]
  },
  {
   "cell_type": "code",
   "execution_count": 6,
   "metadata": {},
   "outputs": [],
   "source": [
    "y = data_i['Type_mine']\n",
    "X = data_i.drop(['Type_mine'],axis = 1)"
   ]
  },
  {
   "cell_type": "markdown",
   "metadata": {},
   "source": [
    "### Select Feature\n"
   ]
  },
  {
   "cell_type": "code",
   "execution_count": 7,
   "metadata": {},
   "outputs": [
    {
     "name": "stdout",
     "output_type": "stream",
     "text": [
      "[1.23996745e+03 3.24139110e+03 2.95315609e+03 2.57767611e+03\n",
      " 7.97065919e+02 1.72515471e+03 3.68146941e+03 5.71829006e+02\n",
      " 6.19526438e+02 6.77530822e+02 7.07875293e+02 3.67863935e+02\n",
      " 1.80115924e+03 1.66780763e+03 1.47530990e+03 3.99255590e+03\n",
      " 6.04899666e+02 1.61621013e+03 3.80217718e+03 1.28265568e+02\n",
      " 7.62578544e+02 8.28562385e+02 8.40761847e+02 1.13985255e+03\n",
      " 1.53593789e+03 1.69627161e+03 8.92422734e-01 8.92422734e-01\n",
      " 5.65872059e+02 5.63070929e+02]\n"
     ]
    },
    {
     "data": {
      "text/plain": [
       "Index(['p1_d', 'min_d', 'second_sp', 'second_dp'], dtype='object')"
      ]
     },
     "execution_count": 7,
     "metadata": {},
     "output_type": "execute_result"
    },
    {
     "data": {
      "image/png": "[encoded data removed]",
      "text/plain": [
       "<Figure size 1440x720 with 1 Axes>"
      ]
     },
     "metadata": {
      "needs_background": "light"
     },
     "output_type": "display_data"
    }
   ],
   "source": [
    "bestF1Me = anovaF(X,y,3000)\n",
    "bestF1Me = data_i.columns[bestF1Me]\n",
    "bestF1Me"
   ]
  },
  {
   "cell_type": "code",
   "execution_count": 8,
   "metadata": {},
   "outputs": [
    {
     "data": {
      "text/plain": [
       "Index(['p1_d', 'p3_d', 'min_d', '#dp', 'first_sp', 'second_sp', 'first_dp',\n",
       "       'second_dp', 'p2_ib', 'First_Protocol_UDP'],\n",
       "      dtype='object')"
      ]
     },
     "execution_count": 8,
     "metadata": {},
     "output_type": "execute_result"
    }
   ],
   "source": [
    "bestF2Me = treesClassifierData(X,y)\n",
    "bestF2Me"
   ]
  },
  {
   "cell_type": "code",
   "execution_count": 9,
   "metadata": {},
   "outputs": [
    {
     "data": {
      "text/plain": [
       "Index(['min_d', '#sp', '#dp', 'first_sp', 'second_sp', 'first_dp', 'second_dp',\n",
       "       'p1_ip', 'p3_ib', 'First_Protocol_ICMP6', 'First_Protocol_TCP',\n",
       "       'First_Protocol_UDP'],\n",
       "      dtype='object')"
      ]
     },
     "execution_count": 9,
     "metadata": {},
     "output_type": "execute_result"
    }
   ],
   "source": [
    "bestF3Me = ldaData(X,y)\n",
    "bestF3Me"
   ]
  },
  {
   "cell_type": "code",
   "execution_count": 10,
   "metadata": {},
   "outputs": [
    {
     "data": {
      "text/plain": [
       "array(['#dp', '#sp', 'First_Protocol_ICMP6', 'First_Protocol_TCP',\n",
       "       'First_Protocol_UDP', 'first_dp', 'first_sp', 'min_d', 'p1_d',\n",
       "       'p1_ip', 'p2_ib', 'p3_d', 'p3_ib', 'second_dp', 'second_sp'],\n",
       "      dtype=object)"
      ]
     },
     "execution_count": 10,
     "metadata": {},
     "output_type": "execute_result"
    }
   ],
   "source": [
    "best_pure = np.concatenate([bestF1Me,bestF2Me,bestF3Me])\n",
    "best_pure = np.unique(best_pure)\n",
    "best_pure"
   ]
  },
  {
   "cell_type": "markdown",
   "metadata": {},
   "source": [
    "### Data No Pure"
   ]
  },
  {
   "cell_type": "code",
   "execution_count": 11,
   "metadata": {
    "scrolled": true
   },
   "outputs": [
    {
     "data": {
      "text/html": [
       "<div>\n",
       "<style scoped>\n",
       "    .dataframe tbody tr th:only-of-type {\n",
       "        vertical-align: middle;\n",
       "    }\n",
       "\n",
       "    .dataframe tbody tr th {\n",
       "        vertical-align: top;\n",
       "    }\n",
       "\n",
       "    .dataframe thead th {\n",
       "        text-align: right;\n",
       "    }\n",
       "</style>\n",
       "<table border=\"1\" class=\"dataframe\">\n",
       "  <thead>\n",
       "    <tr style=\"text-align: right;\">\n",
       "      <th></th>\n",
       "      <th>Netflows</th>\n",
       "      <th>p1_d</th>\n",
       "      <th>p2_d</th>\n",
       "      <th>p3_d</th>\n",
       "      <th>duration</th>\n",
       "      <th>max_d</th>\n",
       "      <th>min_d</th>\n",
       "      <th>#packets</th>\n",
       "      <th>Avg_bps</th>\n",
       "      <th>Avg_pps</th>\n",
       "      <th>...</th>\n",
       "      <th>p2_ip</th>\n",
       "      <th>p3_ip</th>\n",
       "      <th>p1_ib</th>\n",
       "      <th>p2_ib</th>\n",
       "      <th>p3_ib</th>\n",
       "      <th>First_Protocol_ICMP</th>\n",
       "      <th>First_Protocol_ICMP6</th>\n",
       "      <th>First_Protocol_TCP</th>\n",
       "      <th>First_Protocol_UDP</th>\n",
       "      <th>Type_mine</th>\n",
       "    </tr>\n",
       "  </thead>\n",
       "  <tbody>\n",
       "    <tr>\n",
       "      <th>0</th>\n",
       "      <td>4.553656</td>\n",
       "      <td>-0.037927</td>\n",
       "      <td>-0.055406</td>\n",
       "      <td>-0.142137</td>\n",
       "      <td>15.85042</td>\n",
       "      <td>-0.126105</td>\n",
       "      <td>-0.01812</td>\n",
       "      <td>43.732192</td>\n",
       "      <td>127.789591</td>\n",
       "      <td>32.184816</td>\n",
       "      <td>...</td>\n",
       "      <td>0.725482</td>\n",
       "      <td>5.594429</td>\n",
       "      <td>-0.046617</td>\n",
       "      <td>0.189553</td>\n",
       "      <td>3.916348</td>\n",
       "      <td>0</td>\n",
       "      <td>0</td>\n",
       "      <td>1</td>\n",
       "      <td>0</td>\n",
       "      <td>1</td>\n",
       "    </tr>\n",
       "  </tbody>\n",
       "</table>\n",
       "<p>1 rows × 31 columns</p>\n",
       "</div>"
      ],
      "text/plain": [
       "   Netflows      p1_d      p2_d      p3_d  duration     max_d    min_d  \\\n",
       "0  4.553656 -0.037927 -0.055406 -0.142137  15.85042 -0.126105 -0.01812   \n",
       "\n",
       "    #packets     Avg_bps    Avg_pps  ...     p2_ip     p3_ip     p1_ib  \\\n",
       "0  43.732192  127.789591  32.184816  ...  0.725482  5.594429 -0.046617   \n",
       "\n",
       "      p2_ib     p3_ib  First_Protocol_ICMP  First_Protocol_ICMP6  \\\n",
       "0  0.189553  3.916348                    0                     0   \n",
       "\n",
       "   First_Protocol_TCP  First_Protocol_UDP  Type_mine  \n",
       "0                   1                   0          1  \n",
       "\n",
       "[1 rows x 31 columns]"
      ]
     },
     "execution_count": 11,
     "metadata": {},
     "output_type": "execute_result"
    }
   ],
   "source": [
    "data_n = pd.read_csv('dataB.csv')\n",
    "data_n.head(1)"
   ]
  },
  {
   "cell_type": "code",
   "execution_count": 13,
   "metadata": {
    "scrolled": false
   },
   "outputs": [],
   "source": [
    "data_n = pd.concat([data_n, data_i[data_i['Type_mine'] == 0]], axis = 0)"
   ]
  },
  {
   "cell_type": "code",
   "execution_count": 14,
   "metadata": {},
   "outputs": [
    {
     "data": {
      "text/html": [
       "<div>\n",
       "<style scoped>\n",
       "    .dataframe tbody tr th:only-of-type {\n",
       "        vertical-align: middle;\n",
       "    }\n",
       "\n",
       "    .dataframe tbody tr th {\n",
       "        vertical-align: top;\n",
       "    }\n",
       "\n",
       "    .dataframe thead th {\n",
       "        text-align: right;\n",
       "    }\n",
       "</style>\n",
       "<table border=\"1\" class=\"dataframe\">\n",
       "  <thead>\n",
       "    <tr style=\"text-align: right;\">\n",
       "      <th></th>\n",
       "      <th>index</th>\n",
       "      <th>Netflows</th>\n",
       "      <th>p1_d</th>\n",
       "      <th>p2_d</th>\n",
       "      <th>p3_d</th>\n",
       "      <th>duration</th>\n",
       "      <th>max_d</th>\n",
       "      <th>min_d</th>\n",
       "      <th>#packets</th>\n",
       "      <th>Avg_bps</th>\n",
       "      <th>...</th>\n",
       "      <th>p2_ip</th>\n",
       "      <th>p3_ip</th>\n",
       "      <th>p1_ib</th>\n",
       "      <th>p2_ib</th>\n",
       "      <th>p3_ib</th>\n",
       "      <th>First_Protocol_ICMP</th>\n",
       "      <th>First_Protocol_ICMP6</th>\n",
       "      <th>First_Protocol_TCP</th>\n",
       "      <th>First_Protocol_UDP</th>\n",
       "      <th>Type_mine</th>\n",
       "    </tr>\n",
       "  </thead>\n",
       "  <tbody>\n",
       "    <tr>\n",
       "      <th>30713</th>\n",
       "      <td>30713</td>\n",
       "      <td>-0.027435</td>\n",
       "      <td>-0.037927</td>\n",
       "      <td>-0.064791</td>\n",
       "      <td>-0.181777</td>\n",
       "      <td>-0.811166</td>\n",
       "      <td>-0.979657</td>\n",
       "      <td>-0.01812</td>\n",
       "      <td>-0.076155</td>\n",
       "      <td>-0.034248</td>\n",
       "      <td>...</td>\n",
       "      <td>-0.188257</td>\n",
       "      <td>-0.295768</td>\n",
       "      <td>-0.095017</td>\n",
       "      <td>-0.168736</td>\n",
       "      <td>-0.363409</td>\n",
       "      <td>0</td>\n",
       "      <td>1</td>\n",
       "      <td>0</td>\n",
       "      <td>0</td>\n",
       "      <td>1</td>\n",
       "    </tr>\n",
       "  </tbody>\n",
       "</table>\n",
       "<p>1 rows × 32 columns</p>\n",
       "</div>"
      ],
      "text/plain": [
       "       index  Netflows      p1_d      p2_d      p3_d  duration     max_d  \\\n",
       "30713  30713 -0.027435 -0.037927 -0.064791 -0.181777 -0.811166 -0.979657   \n",
       "\n",
       "         min_d  #packets   Avg_bps  ...     p2_ip     p3_ip     p1_ib  \\\n",
       "30713 -0.01812 -0.076155 -0.034248  ... -0.188257 -0.295768 -0.095017   \n",
       "\n",
       "          p2_ib     p3_ib  First_Protocol_ICMP  First_Protocol_ICMP6  \\\n",
       "30713 -0.168736 -0.363409                    0                     1   \n",
       "\n",
       "       First_Protocol_TCP  First_Protocol_UDP  Type_mine  \n",
       "30713                   0                   0          1  \n",
       "\n",
       "[1 rows x 32 columns]"
      ]
     },
     "execution_count": 14,
     "metadata": {},
     "output_type": "execute_result"
    }
   ],
   "source": [
    "import random\n",
    "data_n = data_n.reset_index()\n",
    "indices = list(data_n.index)\n",
    "random.shuffle(indices)\n",
    "data_n = data_n.reindex(indices)\n",
    "data_n.head(1)"
   ]
  },
  {
   "cell_type": "code",
   "execution_count": 15,
   "metadata": {},
   "outputs": [],
   "source": [
    "y = data_n['Type_mine']\n",
    "X = data_n.drop(['Type_mine','index'],axis = 1)"
   ]
  },
  {
   "cell_type": "markdown",
   "metadata": {},
   "source": [
    "### Select Feature"
   ]
  },
  {
   "cell_type": "code",
   "execution_count": 20,
   "metadata": {},
   "outputs": [
    {
     "name": "stdout",
     "output_type": "stream",
     "text": [
      "[4.20924578e+02 9.04748790e+02 8.51899120e+02 7.78454318e+02\n",
      " 2.90115236e+02 5.85129802e+02 9.76717833e+02 2.16062324e+02\n",
      " 2.32207525e+02 2.51592304e+02 2.64850205e+02 1.43960198e+02\n",
      " 5.63301556e+02 5.31528767e+02 5.27796516e+02 1.00044541e+03\n",
      " 2.31312973e+02 5.65498383e+02 9.75834121e+02 5.40315863e+01\n",
      " 3.09797252e+02 3.32563443e+02 3.36342540e+02 4.33305947e+02\n",
      " 5.46873036e+02 5.87659932e+02 1.89324348e+01 1.69837209e+04\n",
      " 1.22080021e+05 1.52562418e+02]\n"
     ]
    },
    {
     "data": {
      "text/plain": [
       "Index(['First_Protocol_ICMP6'], dtype='object')"
      ]
     },
     "execution_count": 20,
     "metadata": {},
     "output_type": "execute_result"
    },
    {
     "data": {
      "image/png": "[encoded data removed]",
      "text/plain": [
       "<Figure size 1440x720 with 1 Axes>"
      ]
     },
     "metadata": {
      "needs_background": "light"
     },
     "output_type": "display_data"
    }
   ],
   "source": [
    "bestF1Me = anovaF(X,y,80000)\n",
    "bestF1Me = data_n.columns[bestF1Me]\n",
    "bestF1Me"
   ]
  },
  {
   "cell_type": "code",
   "execution_count": 17,
   "metadata": {},
   "outputs": [
    {
     "data": {
      "text/plain": [
       "Index(['min_d', 'first_sp', 'first_dp', 'second_dp', 'p1_ib',\n",
       "       'First_Protocol_ICMP6', 'First_Protocol_TCP', 'First_Protocol_UDP'],\n",
       "      dtype='object')"
      ]
     },
     "execution_count": 17,
     "metadata": {},
     "output_type": "execute_result"
    }
   ],
   "source": [
    "bestF2Me = treesClassifierData(X,y)\n",
    "bestF2Me"
   ]
  },
  {
   "cell_type": "code",
   "execution_count": 18,
   "metadata": {},
   "outputs": [
    {
     "data": {
      "text/plain": [
       "Index(['First_Protocol_ICMP6', 'First_Protocol_TCP', 'First_Protocol_UDP'], dtype='object')"
      ]
     },
     "execution_count": 18,
     "metadata": {},
     "output_type": "execute_result"
    }
   ],
   "source": [
    "bestF3Me = ldaData(X,y)\n",
    "bestF3Me"
   ]
  },
  {
   "cell_type": "code",
   "execution_count": 21,
   "metadata": {
    "scrolled": true
   },
   "outputs": [
    {
     "data": {
      "text/plain": [
       "array(['First_Protocol_ICMP6', 'First_Protocol_TCP', 'First_Protocol_UDP',\n",
       "       'first_dp', 'first_sp', 'min_d', 'p1_ib', 'second_dp'],\n",
       "      dtype=object)"
      ]
     },
     "execution_count": 21,
     "metadata": {},
     "output_type": "execute_result"
    }
   ],
   "source": [
    "best_n_pure = np.concatenate([bestF1Me,bestF2Me,bestF3Me])\n",
    "best_n_pure = np.unique(best_n_pure)\n",
    "best_n_pure"
   ]
  },
  {
   "cell_type": "code",
   "execution_count": 22,
   "metadata": {},
   "outputs": [
    {
     "data": {
      "text/plain": [
       "array(['#dp', '#sp', 'First_Protocol_ICMP6', 'First_Protocol_TCP',\n",
       "       'First_Protocol_UDP', 'first_dp', 'first_sp', 'min_d', 'p1_d',\n",
       "       'p1_ip', 'p2_ib', 'p3_d', 'p3_ib', 'second_dp', 'second_sp'],\n",
       "      dtype=object)"
      ]
     },
     "execution_count": 22,
     "metadata": {},
     "output_type": "execute_result"
    }
   ],
   "source": [
    "best_pure"
   ]
  },
  {
   "cell_type": "code",
   "execution_count": 23,
   "metadata": {},
   "outputs": [
    {
     "data": {
      "text/plain": [
       "array(['First_Protocol_ICMP6', 'First_Protocol_TCP', 'First_Protocol_UDP',\n",
       "       'first_dp', 'first_sp', 'min_d', 'p1_ib', 'second_dp'],\n",
       "      dtype=object)"
      ]
     },
     "execution_count": 23,
     "metadata": {},
     "output_type": "execute_result"
    }
   ],
   "source": [
    "best_n_pure"
   ]
  }
 ],
 "metadata": {
  "kernelspec": {
   "display_name": "Python 3",
   "language": "python",
   "name": "python3"
  },
  "language_info": {
   "codemirror_mode": {
    "name": "ipython",
    "version": 3
   },
   "file_extension": ".py",
   "mimetype": "text/x-python",
   "name": "python",
   "nbconvert_exporter": "python",
   "pygments_lexer": "ipython3",
   "version": "3.7.3"
  }
 },
 "nbformat": 4,
 "nbformat_minor": 2
}
