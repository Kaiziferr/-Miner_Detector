{
 "cells": [
  {
   "cell_type": "code",
   "execution_count": 272,
   "metadata": {},
   "outputs": [],
   "source": [
    "import pandas as pd\n",
    "import numpy as np\n",
    "import matplotlib.pyplot as plt\n",
    "import seaborn as sns\n",
    "from termcolor import colored\n",
    "from sklearn.preprocessing import OneHotEncoder, StandardScaler\n",
    "from sklearn.impute import SimpleImputer\n",
    "\n",
    "\n",
    "\n",
    "from sklearn.model_selection import train_test_split\n",
    "from sklearn.ensemble import RandomForestClassifier\n",
    "from sklearn.experimental import enable_iterative_imputer\n",
    "from sklearn.impute import IterativeImputer\n",
    "from sklearn.model_selection import cross_val_score, RepeatedStratifiedKFold\n",
    "from sklearn.pipeline import Pipeline"
   ]
  },
  {
   "cell_type": "markdown",
   "metadata": {},
   "source": [
    "# Preparación de los datos"
   ]
  },
  {
   "cell_type": "code",
   "execution_count": 273,
   "metadata": {
    "scrolled": true
   },
   "outputs": [
    {
     "name": "stdout",
     "output_type": "stream",
     "text": [
      "\u001b[1mCargamos los datos\u001b[0m\n"
     ]
    },
    {
     "data": {
      "text/html": [
       "<div>\n",
       "<style scoped>\n",
       "    .dataframe tbody tr th:only-of-type {\n",
       "        vertical-align: middle;\n",
       "    }\n",
       "\n",
       "    .dataframe tbody tr th {\n",
       "        vertical-align: top;\n",
       "    }\n",
       "\n",
       "    .dataframe thead th {\n",
       "        text-align: right;\n",
       "    }\n",
       "</style>\n",
       "<table border=\"1\" class=\"dataframe\">\n",
       "  <thead>\n",
       "    <tr style=\"text-align: right;\">\n",
       "      <th></th>\n",
       "      <th>index</th>\n",
       "      <th>Name</th>\n",
       "      <th>Netflows</th>\n",
       "      <th>First_Protocol</th>\n",
       "      <th>Second_Protocol</th>\n",
       "      <th>Third_Protocol</th>\n",
       "      <th>p1_d</th>\n",
       "      <th>p2_d</th>\n",
       "      <th>p3_d</th>\n",
       "      <th>duration</th>\n",
       "      <th>...</th>\n",
       "      <th>second_dp</th>\n",
       "      <th>third_dp</th>\n",
       "      <th>p1_ip</th>\n",
       "      <th>p2_ip</th>\n",
       "      <th>p3_ip</th>\n",
       "      <th>p1_ib</th>\n",
       "      <th>p2_ib</th>\n",
       "      <th>p3_ib</th>\n",
       "      <th>Type</th>\n",
       "      <th>Cryptocurrency</th>\n",
       "    </tr>\n",
       "  </thead>\n",
       "  <tbody>\n",
       "    <tr>\n",
       "      <th>0</th>\n",
       "      <td>2169</td>\n",
       "      <td>1113-csves/1.csv</td>\n",
       "      <td>400</td>\n",
       "      <td>TCP</td>\n",
       "      <td>UDP</td>\n",
       "      <td>NaN</td>\n",
       "      <td>0.0</td>\n",
       "      <td>0.0</td>\n",
       "      <td>9.04175</td>\n",
       "      <td>4287.992</td>\n",
       "      <td>...</td>\n",
       "      <td>53.0</td>\n",
       "      <td>80.0</td>\n",
       "      <td>1.0</td>\n",
       "      <td>1.0</td>\n",
       "      <td>5.5</td>\n",
       "      <td>32.0</td>\n",
       "      <td>33.0</td>\n",
       "      <td>873.00</td>\n",
       "      <td>not_mine</td>\n",
       "      <td>Does not have</td>\n",
       "    </tr>\n",
       "    <tr>\n",
       "      <th>1</th>\n",
       "      <td>418</td>\n",
       "      <td>214-csves/1.csv</td>\n",
       "      <td>46</td>\n",
       "      <td>UDP</td>\n",
       "      <td>NaN</td>\n",
       "      <td>NaN</td>\n",
       "      <td>0.0</td>\n",
       "      <td>0.0</td>\n",
       "      <td>0.00000</td>\n",
       "      <td>0.000</td>\n",
       "      <td>...</td>\n",
       "      <td>49129.0</td>\n",
       "      <td>47733.0</td>\n",
       "      <td>1.0</td>\n",
       "      <td>1.0</td>\n",
       "      <td>1.0</td>\n",
       "      <td>33.0</td>\n",
       "      <td>49.0</td>\n",
       "      <td>110.75</td>\n",
       "      <td>not_mine</td>\n",
       "      <td>Does not have</td>\n",
       "    </tr>\n",
       "  </tbody>\n",
       "</table>\n",
       "<p>2 rows × 33 columns</p>\n",
       "</div>"
      ],
      "text/plain": [
       "   index              Name  Netflows First_Protocol Second_Protocol  \\\n",
       "0   2169  1113-csves/1.csv       400            TCP             UDP   \n",
       "1    418   214-csves/1.csv        46            UDP             NaN   \n",
       "\n",
       "  Third_Protocol  p1_d  p2_d     p3_d  duration  ...  second_dp  third_dp  \\\n",
       "0            NaN   0.0   0.0  9.04175  4287.992  ...       53.0      80.0   \n",
       "1            NaN   0.0   0.0  0.00000     0.000  ...    49129.0   47733.0   \n",
       "\n",
       "   p1_ip  p2_ip  p3_ip  p1_ib  p2_ib   p3_ib      Type  Cryptocurrency  \n",
       "0    1.0    1.0    5.5   32.0   33.0  873.00  not_mine   Does not have  \n",
       "1    1.0    1.0    1.0   33.0   49.0  110.75  not_mine   Does not have  \n",
       "\n",
       "[2 rows x 33 columns]"
      ]
     },
     "execution_count": 273,
     "metadata": {},
     "output_type": "execute_result"
    }
   ],
   "source": [
    "print(colored(f'Cargamos los datos', attrs=['bold']))\n",
    "data = pd.read_csv('./data_identificada.csv')\n",
    "data.head(2)"
   ]
  },
  {
   "cell_type": "code",
   "execution_count": 274,
   "metadata": {},
   "outputs": [],
   "source": [
    "data = data.drop(['Second_Protocol', 'Third_Protocol'], axis = 1)"
   ]
  },
  {
   "cell_type": "markdown",
   "metadata": {},
   "source": [
    "# Eliminar caracteristicas que no aportan valor"
   ]
  },
  {
   "cell_type": "code",
   "execution_count": 275,
   "metadata": {},
   "outputs": [],
   "source": [
    "data = data.drop(['index', 'Name'], axis = 1)"
   ]
  },
  {
   "cell_type": "markdown",
   "metadata": {},
   "source": [
    "# Imputación de valores ausentes"
   ]
  },
  {
   "cell_type": "code",
   "execution_count": 276,
   "metadata": {},
   "outputs": [],
   "source": [
    "punter = pd.concat([data['second_sp'],data['second_dp'],data['third_sp'],data['third_dp']], axis = 1)\n",
    "imputer = SimpleImputer(missing_values = np.nan, strategy = \"median\")\n",
    "values = imputer.fit_transform(punter)"
   ]
  },
  {
   "cell_type": "code",
   "execution_count": 277,
   "metadata": {
    "scrolled": true
   },
   "outputs": [
    {
     "data": {
      "text/html": [
       "<div>\n",
       "<style scoped>\n",
       "    .dataframe tbody tr th:only-of-type {\n",
       "        vertical-align: middle;\n",
       "    }\n",
       "\n",
       "    .dataframe tbody tr th {\n",
       "        vertical-align: top;\n",
       "    }\n",
       "\n",
       "    .dataframe thead th {\n",
       "        text-align: right;\n",
       "    }\n",
       "</style>\n",
       "<table border=\"1\" class=\"dataframe\">\n",
       "  <thead>\n",
       "    <tr style=\"text-align: right;\">\n",
       "      <th></th>\n",
       "      <th>Netflows</th>\n",
       "      <th>First_Protocol</th>\n",
       "      <th>p1_d</th>\n",
       "      <th>p2_d</th>\n",
       "      <th>p3_d</th>\n",
       "      <th>duration</th>\n",
       "      <th>max_d</th>\n",
       "      <th>min_d</th>\n",
       "      <th>#packets</th>\n",
       "      <th>Avg_bps</th>\n",
       "      <th>...</th>\n",
       "      <th>p3_ip</th>\n",
       "      <th>p1_ib</th>\n",
       "      <th>p2_ib</th>\n",
       "      <th>p3_ib</th>\n",
       "      <th>Type</th>\n",
       "      <th>Cryptocurrency</th>\n",
       "      <th>second_sp</th>\n",
       "      <th>second_dp</th>\n",
       "      <th>third_sp</th>\n",
       "      <th>third_dp</th>\n",
       "    </tr>\n",
       "  </thead>\n",
       "  <tbody>\n",
       "    <tr>\n",
       "      <th>0</th>\n",
       "      <td>400</td>\n",
       "      <td>TCP</td>\n",
       "      <td>0.0</td>\n",
       "      <td>0.0</td>\n",
       "      <td>9.04175</td>\n",
       "      <td>4287.992</td>\n",
       "      <td>65.519</td>\n",
       "      <td>0.0</td>\n",
       "      <td>6750</td>\n",
       "      <td>360512</td>\n",
       "      <td>...</td>\n",
       "      <td>5.5</td>\n",
       "      <td>32.0</td>\n",
       "      <td>33.0</td>\n",
       "      <td>873.00</td>\n",
       "      <td>not_mine</td>\n",
       "      <td>Does not have</td>\n",
       "      <td>53.0</td>\n",
       "      <td>53.0</td>\n",
       "      <td>80.0</td>\n",
       "      <td>80.0</td>\n",
       "    </tr>\n",
       "    <tr>\n",
       "      <th>1</th>\n",
       "      <td>46</td>\n",
       "      <td>UDP</td>\n",
       "      <td>0.0</td>\n",
       "      <td>0.0</td>\n",
       "      <td>0.00000</td>\n",
       "      <td>0.000</td>\n",
       "      <td>0.000</td>\n",
       "      <td>0.0</td>\n",
       "      <td>46</td>\n",
       "      <td>1296</td>\n",
       "      <td>...</td>\n",
       "      <td>1.0</td>\n",
       "      <td>33.0</td>\n",
       "      <td>49.0</td>\n",
       "      <td>110.75</td>\n",
       "      <td>not_mine</td>\n",
       "      <td>Does not have</td>\n",
       "      <td>49129.0</td>\n",
       "      <td>49129.0</td>\n",
       "      <td>47733.0</td>\n",
       "      <td>47733.0</td>\n",
       "    </tr>\n",
       "  </tbody>\n",
       "</table>\n",
       "<p>2 rows × 29 columns</p>\n",
       "</div>"
      ],
      "text/plain": [
       "   Netflows First_Protocol  p1_d  p2_d     p3_d  duration   max_d  min_d  \\\n",
       "0       400            TCP   0.0   0.0  9.04175  4287.992  65.519    0.0   \n",
       "1        46            UDP   0.0   0.0  0.00000     0.000   0.000    0.0   \n",
       "\n",
       "   #packets  Avg_bps  ...  p3_ip  p1_ib  p2_ib   p3_ib      Type  \\\n",
       "0      6750   360512  ...    5.5   32.0   33.0  873.00  not_mine   \n",
       "1        46     1296  ...    1.0   33.0   49.0  110.75  not_mine   \n",
       "\n",
       "   Cryptocurrency  second_sp  second_dp  third_sp  third_dp  \n",
       "0   Does not have       53.0       53.0      80.0      80.0  \n",
       "1   Does not have    49129.0    49129.0   47733.0   47733.0  \n",
       "\n",
       "[2 rows x 29 columns]"
      ]
     },
     "execution_count": 277,
     "metadata": {},
     "output_type": "execute_result"
    }
   ],
   "source": [
    "temp = data.drop(['second_sp','second_dp','third_sp','third_dp'], axis = 1)\n",
    "punter = pd.DataFrame(values, columns = punter.columns)\n",
    "data = pd.concat([temp,punter], axis = 1)\n",
    "data.head(2)"
   ]
  },
  {
   "cell_type": "markdown",
   "metadata": {},
   "source": [
    "# Exclusión de variables con varianza próxima a cero"
   ]
  },
  {
   "cell_type": "markdown",
   "metadata": {},
   "source": [
    "# Eliminar la multicolinialidad"
   ]
  },
  {
   "cell_type": "markdown",
   "metadata": {},
   "source": [
    "# OneHotEncoder"
   ]
  },
  {
   "cell_type": "code",
   "execution_count": 278,
   "metadata": {},
   "outputs": [
    {
     "data": {
      "text/plain": [
       "<4733x9 sparse matrix of type '<class 'numpy.float64'>'\n",
       "\twith 11481 stored elements in Compressed Sparse Row format>"
      ]
     },
     "execution_count": 278,
     "metadata": {},
     "output_type": "execute_result"
    }
   ],
   "source": [
    "data_categoric = data[data.select_dtypes(include=['object']).columns.to_list()]\n",
    "one_hot =  OneHotEncoder(drop=\"first\")\n",
    "one_hot.fit_transform(data_categoric)"
   ]
  },
  {
   "cell_type": "code",
   "execution_count": 279,
   "metadata": {},
   "outputs": [
    {
     "data": {
      "text/plain": [
       "[array(['ICMP', 'ICMP6', 'TCP', 'UDP'], dtype=object),\n",
       " array(['mine', 'not_mine'], dtype=object),\n",
       " array(['Bitcash', 'Bitcoin', 'Does not have', 'Etherium', 'Litecoin',\n",
       "        'Monero'], dtype=object)]"
      ]
     },
     "execution_count": 279,
     "metadata": {},
     "output_type": "execute_result"
    }
   ],
   "source": [
    "one_hot.categories_"
   ]
  },
  {
   "cell_type": "code",
   "execution_count": 280,
   "metadata": {},
   "outputs": [
    {
     "data": {
      "text/html": [
       "<div>\n",
       "<style scoped>\n",
       "    .dataframe tbody tr th:only-of-type {\n",
       "        vertical-align: middle;\n",
       "    }\n",
       "\n",
       "    .dataframe tbody tr th {\n",
       "        vertical-align: top;\n",
       "    }\n",
       "\n",
       "    .dataframe thead th {\n",
       "        text-align: right;\n",
       "    }\n",
       "</style>\n",
       "<table border=\"1\" class=\"dataframe\">\n",
       "  <thead>\n",
       "    <tr style=\"text-align: right;\">\n",
       "      <th></th>\n",
       "      <th>First_Protocol_ICMP</th>\n",
       "      <th>First_Protocol_ICMP6</th>\n",
       "      <th>First_Protocol_TCP</th>\n",
       "      <th>First_Protocol_UDP</th>\n",
       "      <th>Type_mine</th>\n",
       "      <th>Type_not_mine</th>\n",
       "      <th>Cryptocurrency_Bitcash</th>\n",
       "      <th>Cryptocurrency_Bitcoin</th>\n",
       "      <th>Cryptocurrency_Does not have</th>\n",
       "      <th>Cryptocurrency_Etherium</th>\n",
       "      <th>Cryptocurrency_Litecoin</th>\n",
       "      <th>Cryptocurrency_Monero</th>\n",
       "    </tr>\n",
       "  </thead>\n",
       "  <tbody>\n",
       "    <tr>\n",
       "      <th>0</th>\n",
       "      <td>0</td>\n",
       "      <td>0</td>\n",
       "      <td>1</td>\n",
       "      <td>0</td>\n",
       "      <td>0</td>\n",
       "      <td>1</td>\n",
       "      <td>0</td>\n",
       "      <td>0</td>\n",
       "      <td>1</td>\n",
       "      <td>0</td>\n",
       "      <td>0</td>\n",
       "      <td>0</td>\n",
       "    </tr>\n",
       "    <tr>\n",
       "      <th>1</th>\n",
       "      <td>0</td>\n",
       "      <td>0</td>\n",
       "      <td>0</td>\n",
       "      <td>1</td>\n",
       "      <td>0</td>\n",
       "      <td>1</td>\n",
       "      <td>0</td>\n",
       "      <td>0</td>\n",
       "      <td>1</td>\n",
       "      <td>0</td>\n",
       "      <td>0</td>\n",
       "      <td>0</td>\n",
       "    </tr>\n",
       "    <tr>\n",
       "      <th>2</th>\n",
       "      <td>0</td>\n",
       "      <td>0</td>\n",
       "      <td>1</td>\n",
       "      <td>0</td>\n",
       "      <td>0</td>\n",
       "      <td>1</td>\n",
       "      <td>0</td>\n",
       "      <td>0</td>\n",
       "      <td>1</td>\n",
       "      <td>0</td>\n",
       "      <td>0</td>\n",
       "      <td>0</td>\n",
       "    </tr>\n",
       "    <tr>\n",
       "      <th>3</th>\n",
       "      <td>0</td>\n",
       "      <td>0</td>\n",
       "      <td>1</td>\n",
       "      <td>0</td>\n",
       "      <td>1</td>\n",
       "      <td>0</td>\n",
       "      <td>0</td>\n",
       "      <td>1</td>\n",
       "      <td>0</td>\n",
       "      <td>0</td>\n",
       "      <td>0</td>\n",
       "      <td>0</td>\n",
       "    </tr>\n",
       "    <tr>\n",
       "      <th>4</th>\n",
       "      <td>0</td>\n",
       "      <td>0</td>\n",
       "      <td>1</td>\n",
       "      <td>0</td>\n",
       "      <td>0</td>\n",
       "      <td>1</td>\n",
       "      <td>0</td>\n",
       "      <td>0</td>\n",
       "      <td>1</td>\n",
       "      <td>0</td>\n",
       "      <td>0</td>\n",
       "      <td>0</td>\n",
       "    </tr>\n",
       "  </tbody>\n",
       "</table>\n",
       "</div>"
      ],
      "text/plain": [
       "   First_Protocol_ICMP  First_Protocol_ICMP6  First_Protocol_TCP  \\\n",
       "0                    0                     0                   1   \n",
       "1                    0                     0                   0   \n",
       "2                    0                     0                   1   \n",
       "3                    0                     0                   1   \n",
       "4                    0                     0                   1   \n",
       "\n",
       "   First_Protocol_UDP  Type_mine  Type_not_mine  Cryptocurrency_Bitcash  \\\n",
       "0                   0          0              1                       0   \n",
       "1                   1          0              1                       0   \n",
       "2                   0          0              1                       0   \n",
       "3                   0          1              0                       0   \n",
       "4                   0          0              1                       0   \n",
       "\n",
       "   Cryptocurrency_Bitcoin  Cryptocurrency_Does not have  \\\n",
       "0                       0                             1   \n",
       "1                       0                             1   \n",
       "2                       0                             1   \n",
       "3                       1                             0   \n",
       "4                       0                             1   \n",
       "\n",
       "   Cryptocurrency_Etherium  Cryptocurrency_Litecoin  Cryptocurrency_Monero  \n",
       "0                        0                        0                      0  \n",
       "1                        0                        0                      0  \n",
       "2                        0                        0                      0  \n",
       "3                        0                        0                      0  \n",
       "4                        0                        0                      0  "
      ]
     },
     "execution_count": 280,
     "metadata": {},
     "output_type": "execute_result"
    }
   ],
   "source": [
    "dataDummy = pd.get_dummies(data_categoric)\n",
    "dataDummy.head()"
   ]
  },
  {
   "cell_type": "markdown",
   "metadata": {},
   "source": [
    "# Estandarización"
   ]
  },
  {
   "cell_type": "code",
   "execution_count": 281,
   "metadata": {},
   "outputs": [],
   "source": [
    "data_numeric = data[data.select_dtypes(include=['float64', 'int64']).columns.to_list()]"
   ]
  },
  {
   "cell_type": "code",
   "execution_count": 282,
   "metadata": {},
   "outputs": [],
   "source": [
    "preprocessor = ColumnTransformer([\n",
    "    ('scale', StandardScaler(), data_numeric.columns), \n",
    "], remainder='passthrough')"
   ]
  },
  {
   "cell_type": "code",
   "execution_count": 283,
   "metadata": {
    "scrolled": true
   },
   "outputs": [
    {
     "data": {
      "text/plain": [
       "array([[ 1.5753182 , -0.70094869, -0.80447685, ..., -0.80602925,\n",
       "        -0.48227582, -0.36157031],\n",
       "       [-0.27272335, -0.70094869, -0.80447685, ...,  1.11078473,\n",
       "         2.01069298,  2.94298939],\n",
       "       [ 0.47380191, -0.15963957, -0.24099573, ..., -0.80329519,\n",
       "        -0.48227582, -0.36157031],\n",
       "       ...,\n",
       "       [-0.50242342,  0.70358428,  0.64043234, ...,  1.3982912 ,\n",
       "        -0.48002628, -0.3363976 ],\n",
       "       [-0.50242342,  2.11540637,  2.09284154, ..., -0.67776254,\n",
       "        -0.48002628, -0.3363976 ],\n",
       "       [-0.50242342,  2.43640092,  2.42316607, ...,  1.48773419,\n",
       "        -0.48002628, -0.3363976 ]])"
      ]
     },
     "execution_count": 283,
     "metadata": {},
     "output_type": "execute_result"
    }
   ],
   "source": [
    "values = preprocessor.fit_transform(data_numeric)\n",
    "values"
   ]
  },
  {
   "cell_type": "code",
   "execution_count": 284,
   "metadata": {},
   "outputs": [
    {
     "data": {
      "text/html": [
       "<div>\n",
       "<style scoped>\n",
       "    .dataframe tbody tr th:only-of-type {\n",
       "        vertical-align: middle;\n",
       "    }\n",
       "\n",
       "    .dataframe tbody tr th {\n",
       "        vertical-align: top;\n",
       "    }\n",
       "\n",
       "    .dataframe thead th {\n",
       "        text-align: right;\n",
       "    }\n",
       "</style>\n",
       "<table border=\"1\" class=\"dataframe\">\n",
       "  <thead>\n",
       "    <tr style=\"text-align: right;\">\n",
       "      <th></th>\n",
       "      <th>Netflows</th>\n",
       "      <th>p1_d</th>\n",
       "      <th>p2_d</th>\n",
       "      <th>p3_d</th>\n",
       "      <th>duration</th>\n",
       "      <th>max_d</th>\n",
       "      <th>min_d</th>\n",
       "      <th>#packets</th>\n",
       "      <th>Avg_bps</th>\n",
       "      <th>Avg_pps</th>\n",
       "      <th>...</th>\n",
       "      <th>p1_ip</th>\n",
       "      <th>p2_ip</th>\n",
       "      <th>p3_ip</th>\n",
       "      <th>p1_ib</th>\n",
       "      <th>p2_ib</th>\n",
       "      <th>p3_ib</th>\n",
       "      <th>second_sp</th>\n",
       "      <th>second_dp</th>\n",
       "      <th>third_sp</th>\n",
       "      <th>third_dp</th>\n",
       "    </tr>\n",
       "  </thead>\n",
       "  <tbody>\n",
       "    <tr>\n",
       "      <th>0</th>\n",
       "      <td>1.575318</td>\n",
       "      <td>-0.700949</td>\n",
       "      <td>-0.804477</td>\n",
       "      <td>-0.909496</td>\n",
       "      <td>0.054551</td>\n",
       "      <td>-0.864733</td>\n",
       "      <td>-0.625504</td>\n",
       "      <td>0.570941</td>\n",
       "      <td>1.236305</td>\n",
       "      <td>1.285332</td>\n",
       "      <td>...</td>\n",
       "      <td>-0.368592</td>\n",
       "      <td>-0.401682</td>\n",
       "      <td>-0.402089</td>\n",
       "      <td>-0.424797</td>\n",
       "      <td>-0.488919</td>\n",
       "      <td>-0.510645</td>\n",
       "      <td>-0.825878</td>\n",
       "      <td>-0.806029</td>\n",
       "      <td>-0.482276</td>\n",
       "      <td>-0.36157</td>\n",
       "    </tr>\n",
       "  </tbody>\n",
       "</table>\n",
       "<p>1 rows × 26 columns</p>\n",
       "</div>"
      ],
      "text/plain": [
       "   Netflows      p1_d      p2_d      p3_d  duration     max_d     min_d  \\\n",
       "0  1.575318 -0.700949 -0.804477 -0.909496  0.054551 -0.864733 -0.625504   \n",
       "\n",
       "   #packets   Avg_bps   Avg_pps  ...     p1_ip     p2_ip     p3_ip     p1_ib  \\\n",
       "0  0.570941  1.236305  1.285332  ... -0.368592 -0.401682 -0.402089 -0.424797   \n",
       "\n",
       "      p2_ib     p3_ib  second_sp  second_dp  third_sp  third_dp  \n",
       "0 -0.488919 -0.510645  -0.825878  -0.806029 -0.482276  -0.36157  \n",
       "\n",
       "[1 rows x 26 columns]"
      ]
     },
     "execution_count": 284,
     "metadata": {},
     "output_type": "execute_result"
    }
   ],
   "source": [
    "data_standarizada =  pd.DataFrame(values, columns = data_numeric.columns)\n",
    "data_standarizada.head(1)"
   ]
  },
  {
   "cell_type": "markdown",
   "metadata": {},
   "source": [
    "### Concatenación de los conjuntos de datos\n"
   ]
  },
  {
   "cell_type": "code",
   "execution_count": 285,
   "metadata": {},
   "outputs": [
    {
     "data": {
      "text/plain": [
       "Index(['Netflows', 'p1_d', 'p2_d', 'p3_d', 'duration', 'max_d', 'min_d',\n",
       "       '#packets', 'Avg_bps', 'Avg_pps', 'Avg_bpp', '#Bytes', '#sp', '#dp',\n",
       "       'first_sp', 'first_dp', 'p1_ip', 'p2_ip', 'p3_ip', 'p1_ib', 'p2_ib',\n",
       "       'p3_ib', 'second_sp', 'second_dp', 'third_sp', 'third_dp',\n",
       "       'First_Protocol_ICMP', 'First_Protocol_ICMP6', 'First_Protocol_TCP',\n",
       "       'First_Protocol_UDP', 'Type_mine', 'Type_not_mine',\n",
       "       'Cryptocurrency_Bitcash', 'Cryptocurrency_Bitcoin',\n",
       "       'Cryptocurrency_Does not have', 'Cryptocurrency_Etherium',\n",
       "       'Cryptocurrency_Litecoin', 'Cryptocurrency_Monero'],\n",
       "      dtype='object')"
      ]
     },
     "execution_count": 285,
     "metadata": {},
     "output_type": "execute_result"
    }
   ],
   "source": [
    "data_p = pd.concat([data_standarizada, dataDummy], axis = 1)\n",
    "data_p.columns"
   ]
  },
  {
   "cell_type": "code",
   "execution_count": 286,
   "metadata": {},
   "outputs": [],
   "source": [
    "data_p.to_csv('data_i.csv', index=False)"
   ]
  },
  {
   "cell_type": "markdown",
   "metadata": {},
   "source": [
    "https://machinelearningmastery.com/iterative-imputation-for-missing-values-in-machine-learning/"
   ]
  }
 ],
 "metadata": {
  "kernelspec": {
   "display_name": "Python 3",
   "language": "python",
   "name": "python3"
  },
  "language_info": {
   "codemirror_mode": {
    "name": "ipython",
    "version": 3
   },
   "file_extension": ".py",
   "mimetype": "text/x-python",
   "name": "python",
   "nbconvert_exporter": "python",
   "pygments_lexer": "ipython3",
   "version": "3.7.3"
  }
 },
 "nbformat": 4,
 "nbformat_minor": 2
}
