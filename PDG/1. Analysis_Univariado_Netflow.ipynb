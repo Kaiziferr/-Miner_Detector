{
 "cells": [
  {
   "cell_type": "code",
   "execution_count": 2,
   "metadata": {},
   "outputs": [],
   "source": [
    "import pandas as pd\n",
    "import numpy as np\n",
    "import matplotlib.pyplot as plt\n",
    "import seaborn as sns\n",
    "import random\n",
    "from numpy import log as ln\n",
    "from termcolor import colored\n",
    "from scipy.stats.mstats import gmean "
   ]
  },
  {
   "cell_type": "markdown",
   "metadata": {},
   "source": [
    "Método que grafica un diagrama de barras"
   ]
  },
  {
   "cell_type": "code",
   "execution_count": 3,
   "metadata": {},
   "outputs": [],
   "source": [
    "def bar_plot(x,name):\n",
    "    plt.figure(figsize=(12,5))\n",
    "    ax = plt.subplot()\n",
    "    ax = sns.barplot(x=data[x].value_counts().index, y=data[x].value_counts(), data=data,edgecolor='black', color='gray')\n",
    "    ax.set_xlabel(name,size=20)\n",
    "    ax.set_ylabel('frecuencia ni',size=15)\n",
    "    ax.set_title(f'Diagrama de barras {name}',size=15)\n",
    "    plt.show()"
   ]
  },
  {
   "cell_type": "markdown",
   "metadata": {},
   "source": [
    "Método que grafica una ojiva y el histograma"
   ]
  },
  {
   "cell_type": "code",
   "execution_count": 4,
   "metadata": {},
   "outputs": [],
   "source": [
    "def hist_Ogive_plot(x,m,name):\n",
    "    plt.figure(figsize=(25,15))\n",
    "    ax = plt.subplot(231)\n",
    "    sns.distplot(data[x], bins=m,color='gray', kde=False)\n",
    "    ax.axvline(data[x].mean(), c='r', linestyle = '--', label = 'Promedio')\n",
    "    ax.axvline(data[x].median(), c='b', linestyle = '--', label = 'Mediana')\n",
    "    ax.set_title(f\"Histograma de {name}\",size=18)\n",
    "    ax.set_ylabel('Frecuencia Absoluta ni',size=15)\n",
    "    ax.set_xlabel(name,size=15)\n",
    "    ax.legend()\n",
    "    ax = plt.subplot(232)\n",
    "    sns.kdeplot(data[x], color='gray', shade=True)\n",
    "    ax.axvline(data[x].mean(), c='r', linestyle = '--', label = 'Promedio')\n",
    "    ax.axvline(data[x].median(), c='b', linestyle = '--', label = 'Mediana')\n",
    "    ax.set_title(f\"Diagrama de densidad {name}\",size=18)\n",
    "    ax.set_ylabel('Frecuencia Absoluta fi',size=15)\n",
    "    ax.set_xlabel(name,size=15)\n",
    "    ax.legend()\n",
    "\n",
    "    ax = plt.subplot(233)\n",
    "    sns.distplot(data[x], bins=m, hist_kws=dict(cumulative=True), color='gray')\n",
    "    ax.set_title(f\"Diagrama de Ojiva de {name}\",size=18)\n",
    "    ax.set_ylabel('Freacuencia Relativa Acumulada Fi',size=15)\n",
    "    ax.set_xlabel(name,size=12)"
   ]
  },
  {
   "cell_type": "code",
   "execution_count": 5,
   "metadata": {},
   "outputs": [],
   "source": [
    "def box_plot_B(name,serie):\n",
    "    ax = sns.boxplot(x=serie,color='red')\n",
    "    ax.set_title(f'Diagrama de cajas de {name}')\n",
    "    ax.set_xlabel(name)"
   ]
  },
  {
   "cell_type": "markdown",
   "metadata": {},
   "source": [
    "Grafica un digrama de caja"
   ]
  },
  {
   "cell_type": "code",
   "execution_count": 6,
   "metadata": {},
   "outputs": [],
   "source": [
    "def box_plot(x,name):\n",
    "    plt.figure(figsize=(10,5))\n",
    "    ax = plt.subplot()\n",
    "    ax = sns.boxplot(x=data[x], color='gray')\n",
    "    ax.set_title(f'Diagrama de cajas de {name}',size=20)\n",
    "    ax.set_xlabel(name,size=15)"
   ]
  },
  {
   "cell_type": "markdown",
   "metadata": {},
   "source": [
    "Determina el número de intervalos que debe tener la tabla de frecuencias"
   ]
  },
  {
   "cell_type": "code",
   "execution_count": 7,
   "metadata": {},
   "outputs": [],
   "source": [
    "def intervals_class(N):\n",
    "    m1 = np.sqrt(N)\n",
    "    m2 = 1+3.3*np.log10(N)\n",
    "    m3 = ln(N)/ln(2)\n",
    "    return [m1,m2,m3] "
   ]
  },
  {
   "cell_type": "markdown",
   "metadata": {},
   "source": [
    "Método que crea los intervalos que debe tener la tabla de frecuencias"
   ]
  },
  {
   "cell_type": "code",
   "execution_count": 8,
   "metadata": {},
   "outputs": [],
   "source": [
    "def made_intervals_class(x, m,date,t):\n",
    "    range_i =  date[x].max() - date[x].min()\n",
    "    amplitude = range_i/m\n",
    "    tupla = (range_i,np.rint(amplitude)) \n",
    "    if t == 1:\n",
    "        tupla = (range_i,np.round(amplitude,5))\n",
    "    return tupla"
   ]
  },
  {
   "cell_type": "markdown",
   "metadata": {},
   "source": [
    "Método que crea la marca de clase"
   ]
  },
  {
   "cell_type": "code",
   "execution_count": 9,
   "metadata": {},
   "outputs": [],
   "source": [
    "def class_mark(intervale,c):\n",
    "    f_value = np.round((intervale[0][1]+intervale[0][0])/2,5)\n",
    "    m_values = []\n",
    "    m_values.append(f_value)\n",
    "    for i in range(len(intervale)-1):\n",
    "        f_value = np.round(f_value + c,5)\n",
    "        m_values.append(f_value)\n",
    "    return m_values"
   ]
  },
  {
   "cell_type": "markdown",
   "metadata": {},
   "source": [
    "Crea tabla de frecuencia para datos cuantitativos"
   ]
  },
  {
   "cell_type": "code",
   "execution_count": 10,
   "metadata": {},
   "outputs": [],
   "source": [
    "def made_frequency_table_A(x, date,t,name):\n",
    "    \n",
    "    m = int(np.rint(np.array(intervals_class(date[x].shape[0])).min()))\n",
    "    temp = made_intervals_class(x, m,date,t)\n",
    "    r = temp[0]\n",
    "    c = temp[1]\n",
    "    intervale = []\n",
    "    n = data[x].min()\n",
    "    for i in range(m):\n",
    "        if i < m-1:\n",
    "            intervale.append((n,np.around(n+c,5)))\n",
    "            n = np.around(n+c,5)\n",
    "        else:\n",
    "            intervale.append((n,np.around(n+c,5)+(data[x].max()-(np.around(n+c,5)))))\n",
    "    \n",
    "    alfa = date[x]\n",
    "    alfa = alfa.sort_values()\n",
    "    \n",
    "    ni = []\n",
    "    for i in range(m):\n",
    "        if i==0:\n",
    "            a = alfa[alfa <= intervale[i][1]]\n",
    "            ni.append(len(a))\n",
    "        else:\n",
    "            a = alfa[(alfa > intervale[i][0]) & (alfa<=intervale[i][1])]\n",
    "            ni.append(len(a))\n",
    "    dic = {name:intervale,'ni':ni}\n",
    "    dic = pd.DataFrame(dic)\n",
    "    total = dic['ni'].sum()\n",
    "    dic['fi'] = dic['ni']/total\n",
    "    dic['Ni'] = np.cumsum(dic['ni'])\n",
    "    dic['Fi'] = np.cumsum(dic['fi'])\n",
    "    dic['Xí'] = class_mark(intervale,c)\n",
    "    dic.loc[str(m)] = ['Total',total,' ',' ',' ',' ']\n",
    "    return dic    "
   ]
  },
  {
   "cell_type": "markdown",
   "metadata": {},
   "source": [
    "Crea tabla de frecuencia para datos categoricos"
   ]
  },
  {
   "cell_type": "code",
   "execution_count": 11,
   "metadata": {},
   "outputs": [],
   "source": [
    "def made_frequency_table_B(x,date,m):\n",
    "    \n",
    "    intervale = []\n",
    "    ni = []\n",
    "    intervale = list(date[x].unique())\n",
    "    ni = list(date[x].value_counts(dropna = False).values)\n",
    "    dic = pd.DataFrame()\n",
    "    total = np.sum(ni)\n",
    "    dic[m] = intervale\n",
    "    dic['ni'] = ni\n",
    "    dic['fi'] = np.round(dic['ni']/total,5)\n",
    "    dic['Ni'] = np.cumsum(dic['ni'])\n",
    "    dic['Fi'] = np.cumsum(dic['fi'])\n",
    "    dic.loc[len(ni)+1] = ['Total',total,' ',' ',' ']\n",
    "    return dic"
   ]
  },
  {
   "cell_type": "markdown",
   "metadata": {},
   "source": [
    "Calcula el coeficiente de asimetria y de curtosis de la distribución"
   ]
  },
  {
   "cell_type": "code",
   "execution_count": 12,
   "metadata": {},
   "outputs": [],
   "source": [
    "def is_asimetric_curtosis(columna):\n",
    "    asimetria = columna.skew()\n",
    "    curtosis = columna.kurt()\n",
    "    message = ''\n",
    "    message_2 = ''\n",
    "    if asimetria == 0:\n",
    "        message = 'Asimetrica'\n",
    "    elif asimetria > 0:\n",
    "        message = 'Asimetrica con cola hacia la derecha'\n",
    "    else:\n",
    "        message = 'Asimetrica con cola hacia la izquierda'\n",
    "    \n",
    "    if curtosis == 3:\n",
    "        message_2 = 'Mesocúrtica'\n",
    "    elif asimetria > 3:\n",
    "        message_2 = 'Leptocúrtica'\n",
    "    else:\n",
    "        message_2 = 'Platicúrtica'\n",
    "    return asimetria, curtosis, message, message_2"
   ]
  },
  {
   "cell_type": "code",
   "execution_count": 13,
   "metadata": {},
   "outputs": [
    {
     "name": "stdout",
     "output_type": "stream",
     "text": [
      "\u001b[1mIntaciamos data data frame de los indicadores para datos\u001b[0m\n"
     ]
    }
   ],
   "source": [
    "print(colored(f'Intaciamos data data frame de los indicadores para datos', attrs=['bold']))\n",
    "columns = ['X','Me','Mg','Mo','Fr','R','Min','Max','§2','S','CV','Q1','Q2','Q3','Ls','Li','RIC','Outliers','per_out','A','CK']\n",
    "indices = ['type','pr','flg', 'cryptocurrency','td','sp', 'dp', 'ipkt', 'ibyt']\n",
    "features_No_Agrupadas = pd.DataFrame(0,columns = columns, index=indices)\n",
    "features_Agrupadas =  pd.DataFrame(0,columns = columns, index=indices)"
   ]
  },
  {
   "cell_type": "code",
   "execution_count": 14,
   "metadata": {},
   "outputs": [],
   "source": [
    "def summary_descriptivo(ind,col,val):\n",
    "    features_No_Agrupadas.loc[ind,col] = val"
   ]
  },
  {
   "cell_type": "code",
   "execution_count": 15,
   "metadata": {},
   "outputs": [],
   "source": [
    "def summary_descriptivo_Agrupy(ind,col,val):\n",
    "    features_Agrupadas.loc[ind,col] = val"
   ]
  },
  {
   "cell_type": "markdown",
   "metadata": {},
   "source": [
    "# Preparación de los datos\n",
    "#### Descripción de las caracteristicas ('features')\n",
    "- ts:     Hora de inicio del flujo\n",
    "- te:     Hora de finalización del flujo\n",
    "- td:     Duración del flujo\n",
    "- sa:     Dirección IP origen\n",
    "- da:     Dirección IP de destino\n",
    "- sp:     Puerto de origen\n",
    "- dp:     Puerto de destino\n",
    "- pr:     Protocolo\n",
    "- flg:    Banderas\n",
    "- fwd:    Estado de reenvío\n",
    "- stos:   Tipo de servicio de origen\n",
    "- ipkt:   Paquetes de entrada\n",
    "- ibyt:   Bytes de entrada\n",
    "- opkt:   Paquetes de salida\n",
    "- obyt:   Bytes de salida\n",
    "- in:     Interfaz de entrada\n",
    "- out:    Interfaz de salida\n",
    "- sas:    Número de sistema autónomo BGP de origen\n",
    "- das:    Número de sistema autónomo BGP de destino\n",
    "- smk:    Máscara de red de origen\n",
    "- dmk:    Máscara de red de destino\n",
    "- dtos:   Tipo de servicio de destino\n",
    "- dir:    Dirección del flujo\n",
    "- nh:     Enrutador de siguiente salto\n",
    "- nhb:    Enrutador de siguiente salto BGP\n",
    "- svln:   VLAN de origen\n",
    "- dvln:   VLAN de destino\n",
    "- ismc:   Dirección MAC de la fuente de entrada   \n",
    "- odmc:   Dirección MAC de destino de salida\n",
    "- idmc:   Introduzca la dirección MAC de destino\n",
    "- osmc:   Dirección MAC de la fuente de salida\n",
    "- mpls1:  Etiqueta MPLS 1\n",
    "- mpls2:  Etiqueta MPLS 2\n",
    "- mpls3:  Etiqueta MPLS 3\n",
    "- mpls4:  Etiqueta MPLS 4\n",
    "- mpls5:  Etiqueta MPLS 5\n",
    "- mpls6:  Etiqueta MPLS 6\n",
    "- mpls7:  Etiqueta MPLS 7\n",
    "- mpls8:  Etiqueta MPLS 8\n",
    "- mpls9:  Etiqueta MPLS 9\n",
    "- mpls10: Etiqueta MPLS 10\n",
    "- cl:     Latencia del cliente\n",
    "- sl:     Latencia del servidor\n",
    "- al:     Latencia de la aplicación\n",
    "- ra:     Exportando la dirección IP del sistema (enrutador)\n",
    "- eng:    Tipo / ID de motor\n",
    "- exid:   Exportando el ID del sistema\n",
    "- tr:     Marca de tiempo de flujo recibido\n",
    "- type:   Tipo de registro Mina/ no Mina \n",
    "- cryptocurrency: : Tipo criptomoneda\n",
    "- id_Cryptocurrency:: Id Criptomoneda"
   ]
  },
  {
   "cell_type": "code",
   "execution_count": 16,
   "metadata": {
    "scrolled": true
   },
   "outputs": [
    {
     "name": "stdout",
     "output_type": "stream",
     "text": [
      "\u001b[1mCargamos los datos\u001b[0m\n"
     ]
    },
    {
     "ename": "FileNotFoundError",
     "evalue": "[Errno 2] File b'./dataA.csv' does not exist: b'./dataA.csv'",
     "output_type": "error",
     "traceback": [
      "\u001b[1;31m---------------------------------------------------------------------------\u001b[0m",
      "\u001b[1;31mFileNotFoundError\u001b[0m                         Traceback (most recent call last)",
      "\u001b[1;32m<ipython-input-16-cd51cdf0a5bc>\u001b[0m in \u001b[0;36m<module>\u001b[1;34m\u001b[0m\n\u001b[0;32m      1\u001b[0m \u001b[0mprint\u001b[0m\u001b[1;33m(\u001b[0m\u001b[0mcolored\u001b[0m\u001b[1;33m(\u001b[0m\u001b[1;34mf'Cargamos los datos'\u001b[0m\u001b[1;33m,\u001b[0m \u001b[0mattrs\u001b[0m\u001b[1;33m=\u001b[0m\u001b[1;33m[\u001b[0m\u001b[1;34m'bold'\u001b[0m\u001b[1;33m]\u001b[0m\u001b[1;33m)\u001b[0m\u001b[1;33m)\u001b[0m\u001b[1;33m\u001b[0m\u001b[1;33m\u001b[0m\u001b[0m\n\u001b[1;32m----> 2\u001b[1;33m \u001b[0mdata\u001b[0m \u001b[1;33m=\u001b[0m \u001b[0mpd\u001b[0m\u001b[1;33m.\u001b[0m\u001b[0mread_csv\u001b[0m\u001b[1;33m(\u001b[0m\u001b[1;34m'./dataA.csv'\u001b[0m\u001b[1;33m)\u001b[0m\u001b[1;33m\u001b[0m\u001b[1;33m\u001b[0m\u001b[0m\n\u001b[0m\u001b[0;32m      3\u001b[0m \u001b[0mdata\u001b[0m\u001b[1;33m.\u001b[0m\u001b[0mhead\u001b[0m\u001b[1;33m(\u001b[0m\u001b[1;33m)\u001b[0m\u001b[1;33m\u001b[0m\u001b[1;33m\u001b[0m\u001b[0m\n",
      "\u001b[1;32mC:\\ProgramData\\Anaconda3\\lib\\site-packages\\pandas\\io\\parsers.py\u001b[0m in \u001b[0;36mparser_f\u001b[1;34m(filepath_or_buffer, sep, delimiter, header, names, index_col, usecols, squeeze, prefix, mangle_dupe_cols, dtype, engine, converters, true_values, false_values, skipinitialspace, skiprows, skipfooter, nrows, na_values, keep_default_na, na_filter, verbose, skip_blank_lines, parse_dates, infer_datetime_format, keep_date_col, date_parser, dayfirst, iterator, chunksize, compression, thousands, decimal, lineterminator, quotechar, quoting, doublequote, escapechar, comment, encoding, dialect, tupleize_cols, error_bad_lines, warn_bad_lines, delim_whitespace, low_memory, memory_map, float_precision)\u001b[0m\n\u001b[0;32m    700\u001b[0m                     skip_blank_lines=skip_blank_lines)\n\u001b[0;32m    701\u001b[0m \u001b[1;33m\u001b[0m\u001b[0m\n\u001b[1;32m--> 702\u001b[1;33m         \u001b[1;32mreturn\u001b[0m \u001b[0m_read\u001b[0m\u001b[1;33m(\u001b[0m\u001b[0mfilepath_or_buffer\u001b[0m\u001b[1;33m,\u001b[0m \u001b[0mkwds\u001b[0m\u001b[1;33m)\u001b[0m\u001b[1;33m\u001b[0m\u001b[1;33m\u001b[0m\u001b[0m\n\u001b[0m\u001b[0;32m    703\u001b[0m \u001b[1;33m\u001b[0m\u001b[0m\n\u001b[0;32m    704\u001b[0m     \u001b[0mparser_f\u001b[0m\u001b[1;33m.\u001b[0m\u001b[0m__name__\u001b[0m \u001b[1;33m=\u001b[0m \u001b[0mname\u001b[0m\u001b[1;33m\u001b[0m\u001b[1;33m\u001b[0m\u001b[0m\n",
      "\u001b[1;32mC:\\ProgramData\\Anaconda3\\lib\\site-packages\\pandas\\io\\parsers.py\u001b[0m in \u001b[0;36m_read\u001b[1;34m(filepath_or_buffer, kwds)\u001b[0m\n\u001b[0;32m    427\u001b[0m \u001b[1;33m\u001b[0m\u001b[0m\n\u001b[0;32m    428\u001b[0m     \u001b[1;31m# Create the parser.\u001b[0m\u001b[1;33m\u001b[0m\u001b[1;33m\u001b[0m\u001b[1;33m\u001b[0m\u001b[0m\n\u001b[1;32m--> 429\u001b[1;33m     \u001b[0mparser\u001b[0m \u001b[1;33m=\u001b[0m \u001b[0mTextFileReader\u001b[0m\u001b[1;33m(\u001b[0m\u001b[0mfilepath_or_buffer\u001b[0m\u001b[1;33m,\u001b[0m \u001b[1;33m**\u001b[0m\u001b[0mkwds\u001b[0m\u001b[1;33m)\u001b[0m\u001b[1;33m\u001b[0m\u001b[1;33m\u001b[0m\u001b[0m\n\u001b[0m\u001b[0;32m    430\u001b[0m \u001b[1;33m\u001b[0m\u001b[0m\n\u001b[0;32m    431\u001b[0m     \u001b[1;32mif\u001b[0m \u001b[0mchunksize\u001b[0m \u001b[1;32mor\u001b[0m \u001b[0miterator\u001b[0m\u001b[1;33m:\u001b[0m\u001b[1;33m\u001b[0m\u001b[1;33m\u001b[0m\u001b[0m\n",
      "\u001b[1;32mC:\\ProgramData\\Anaconda3\\lib\\site-packages\\pandas\\io\\parsers.py\u001b[0m in \u001b[0;36m__init__\u001b[1;34m(self, f, engine, **kwds)\u001b[0m\n\u001b[0;32m    893\u001b[0m             \u001b[0mself\u001b[0m\u001b[1;33m.\u001b[0m\u001b[0moptions\u001b[0m\u001b[1;33m[\u001b[0m\u001b[1;34m'has_index_names'\u001b[0m\u001b[1;33m]\u001b[0m \u001b[1;33m=\u001b[0m \u001b[0mkwds\u001b[0m\u001b[1;33m[\u001b[0m\u001b[1;34m'has_index_names'\u001b[0m\u001b[1;33m]\u001b[0m\u001b[1;33m\u001b[0m\u001b[1;33m\u001b[0m\u001b[0m\n\u001b[0;32m    894\u001b[0m \u001b[1;33m\u001b[0m\u001b[0m\n\u001b[1;32m--> 895\u001b[1;33m         \u001b[0mself\u001b[0m\u001b[1;33m.\u001b[0m\u001b[0m_make_engine\u001b[0m\u001b[1;33m(\u001b[0m\u001b[0mself\u001b[0m\u001b[1;33m.\u001b[0m\u001b[0mengine\u001b[0m\u001b[1;33m)\u001b[0m\u001b[1;33m\u001b[0m\u001b[1;33m\u001b[0m\u001b[0m\n\u001b[0m\u001b[0;32m    896\u001b[0m \u001b[1;33m\u001b[0m\u001b[0m\n\u001b[0;32m    897\u001b[0m     \u001b[1;32mdef\u001b[0m \u001b[0mclose\u001b[0m\u001b[1;33m(\u001b[0m\u001b[0mself\u001b[0m\u001b[1;33m)\u001b[0m\u001b[1;33m:\u001b[0m\u001b[1;33m\u001b[0m\u001b[1;33m\u001b[0m\u001b[0m\n",
      "\u001b[1;32mC:\\ProgramData\\Anaconda3\\lib\\site-packages\\pandas\\io\\parsers.py\u001b[0m in \u001b[0;36m_make_engine\u001b[1;34m(self, engine)\u001b[0m\n\u001b[0;32m   1120\u001b[0m     \u001b[1;32mdef\u001b[0m \u001b[0m_make_engine\u001b[0m\u001b[1;33m(\u001b[0m\u001b[0mself\u001b[0m\u001b[1;33m,\u001b[0m \u001b[0mengine\u001b[0m\u001b[1;33m=\u001b[0m\u001b[1;34m'c'\u001b[0m\u001b[1;33m)\u001b[0m\u001b[1;33m:\u001b[0m\u001b[1;33m\u001b[0m\u001b[1;33m\u001b[0m\u001b[0m\n\u001b[0;32m   1121\u001b[0m         \u001b[1;32mif\u001b[0m \u001b[0mengine\u001b[0m \u001b[1;33m==\u001b[0m \u001b[1;34m'c'\u001b[0m\u001b[1;33m:\u001b[0m\u001b[1;33m\u001b[0m\u001b[1;33m\u001b[0m\u001b[0m\n\u001b[1;32m-> 1122\u001b[1;33m             \u001b[0mself\u001b[0m\u001b[1;33m.\u001b[0m\u001b[0m_engine\u001b[0m \u001b[1;33m=\u001b[0m \u001b[0mCParserWrapper\u001b[0m\u001b[1;33m(\u001b[0m\u001b[0mself\u001b[0m\u001b[1;33m.\u001b[0m\u001b[0mf\u001b[0m\u001b[1;33m,\u001b[0m \u001b[1;33m**\u001b[0m\u001b[0mself\u001b[0m\u001b[1;33m.\u001b[0m\u001b[0moptions\u001b[0m\u001b[1;33m)\u001b[0m\u001b[1;33m\u001b[0m\u001b[1;33m\u001b[0m\u001b[0m\n\u001b[0m\u001b[0;32m   1123\u001b[0m         \u001b[1;32melse\u001b[0m\u001b[1;33m:\u001b[0m\u001b[1;33m\u001b[0m\u001b[1;33m\u001b[0m\u001b[0m\n\u001b[0;32m   1124\u001b[0m             \u001b[1;32mif\u001b[0m \u001b[0mengine\u001b[0m \u001b[1;33m==\u001b[0m \u001b[1;34m'python'\u001b[0m\u001b[1;33m:\u001b[0m\u001b[1;33m\u001b[0m\u001b[1;33m\u001b[0m\u001b[0m\n",
      "\u001b[1;32mC:\\ProgramData\\Anaconda3\\lib\\site-packages\\pandas\\io\\parsers.py\u001b[0m in \u001b[0;36m__init__\u001b[1;34m(self, src, **kwds)\u001b[0m\n\u001b[0;32m   1851\u001b[0m         \u001b[0mkwds\u001b[0m\u001b[1;33m[\u001b[0m\u001b[1;34m'usecols'\u001b[0m\u001b[1;33m]\u001b[0m \u001b[1;33m=\u001b[0m \u001b[0mself\u001b[0m\u001b[1;33m.\u001b[0m\u001b[0musecols\u001b[0m\u001b[1;33m\u001b[0m\u001b[1;33m\u001b[0m\u001b[0m\n\u001b[0;32m   1852\u001b[0m \u001b[1;33m\u001b[0m\u001b[0m\n\u001b[1;32m-> 1853\u001b[1;33m         \u001b[0mself\u001b[0m\u001b[1;33m.\u001b[0m\u001b[0m_reader\u001b[0m \u001b[1;33m=\u001b[0m \u001b[0mparsers\u001b[0m\u001b[1;33m.\u001b[0m\u001b[0mTextReader\u001b[0m\u001b[1;33m(\u001b[0m\u001b[0msrc\u001b[0m\u001b[1;33m,\u001b[0m \u001b[1;33m**\u001b[0m\u001b[0mkwds\u001b[0m\u001b[1;33m)\u001b[0m\u001b[1;33m\u001b[0m\u001b[1;33m\u001b[0m\u001b[0m\n\u001b[0m\u001b[0;32m   1854\u001b[0m         \u001b[0mself\u001b[0m\u001b[1;33m.\u001b[0m\u001b[0munnamed_cols\u001b[0m \u001b[1;33m=\u001b[0m \u001b[0mself\u001b[0m\u001b[1;33m.\u001b[0m\u001b[0m_reader\u001b[0m\u001b[1;33m.\u001b[0m\u001b[0munnamed_cols\u001b[0m\u001b[1;33m\u001b[0m\u001b[1;33m\u001b[0m\u001b[0m\n\u001b[0;32m   1855\u001b[0m \u001b[1;33m\u001b[0m\u001b[0m\n",
      "\u001b[1;32mpandas/_libs/parsers.pyx\u001b[0m in \u001b[0;36mpandas._libs.parsers.TextReader.__cinit__\u001b[1;34m()\u001b[0m\n",
      "\u001b[1;32mpandas/_libs/parsers.pyx\u001b[0m in \u001b[0;36mpandas._libs.parsers.TextReader._setup_parser_source\u001b[1;34m()\u001b[0m\n",
      "\u001b[1;31mFileNotFoundError\u001b[0m: [Errno 2] File b'./dataA.csv' does not exist: b'./dataA.csv'"
     ]
    }
   ],
   "source": [
    "print(colored(f'Cargamos los datos', attrs=['bold']))\n",
    "data = pd.read_csv('./dataA.csv')\n",
    "data.head()"
   ]
  },
  {
   "cell_type": "markdown",
   "metadata": {},
   "source": [
    "# Análisis inicial"
   ]
  },
  {
   "cell_type": "code",
   "execution_count": null,
   "metadata": {},
   "outputs": [],
   "source": [
    "print(colored(f'Observamos el número de registros en total, cuantos valores hay por columnas, así como sus valores nulos y el tipo de dato de cada columna', attrs=['bold']))\n",
    "data.info()"
   ]
  },
  {
   "cell_type": "code",
   "execution_count": null,
   "metadata": {},
   "outputs": [],
   "source": [
    "print(colored(f'El conjunto de datos consta de {len(data.index)} registros y {len(data.columns)} columnas', attrs=['bold']))"
   ]
  },
  {
   "cell_type": "markdown",
   "metadata": {},
   "source": [
    "### Inspección datos faltantes"
   ]
  },
  {
   "cell_type": "code",
   "execution_count": null,
   "metadata": {
    "scrolled": false
   },
   "outputs": [],
   "source": [
    "print(colored(f'Valores faltantes por columnas, (False: Valores no nulos), (True: Valores nulos)', attrs=['bold']))\n",
    "avaliable = data.isnull()\n",
    "avaliable.apply(pd.Series.value_counts).T"
   ]
  },
  {
   "cell_type": "code",
   "execution_count": null,
   "metadata": {},
   "outputs": [],
   "source": [
    "d = ['te', 'td', 'sa', 'da', 'sp', 'dp', 'pr','flg', 'fwd', 'stos', 'ipkt', 'ibyt', 'opkt', 'obyt', 'in', 'out','sas', 'das', 'smk', 'dmk', 'dtos', 'dir', 'nh', 'nhb', 'svln', 'dvln','ismc', 'odmc', 'idmc', 'osmc', 'mpls1', 'mpls2', 'mpls3', 'mpls4',\n",
    "'mpls5', 'mpls6', 'mpls7', 'mpls8', 'mpls9', 'mpls10', 'cl', 'sl', 'al','ra', 'eng', 'exid', 'tr']"
   ]
  },
  {
   "cell_type": "code",
   "execution_count": null,
   "metadata": {
    "scrolled": true
   },
   "outputs": [],
   "source": [
    "data_concidencias = []\n",
    "for i in range(len(d)):\n",
    "    if i < len(d)-1:\n",
    "        v = (data[data[d[i]].isnull()].index == data[data[d[i+1]].isnull()].index).all()\n",
    "        t = (d[i],d[i+1], v)\n",
    "        data_concidencias.append(t)\n",
    "\n",
    "print(colored(f'Los valores nulos se distribullen en los mismos registros', attrs=['bold']))\n",
    "data_concidencias"
   ]
  },
  {
   "cell_type": "code",
   "execution_count": null,
   "metadata": {},
   "outputs": [],
   "source": [
    "avaliable =  data.notnull()\n",
    "avaliable = avaliable.all(axis=1).value_counts()"
   ]
  },
  {
   "cell_type": "code",
   "execution_count": null,
   "metadata": {},
   "outputs": [],
   "source": [
    "print(colored(f'Eliminamos los datos faltantes, ya que se concentran en los mismos registros y tan solo representan un {(avaliable[0]/avaliable[1])*100}% de los datos. Quedaron {data.shape[0] - avaliable[0]} registros', attrs=['bold']))"
   ]
  },
  {
   "cell_type": "code",
   "execution_count": null,
   "metadata": {},
   "outputs": [],
   "source": [
    "data = data.dropna()"
   ]
  },
  {
   "cell_type": "markdown",
   "metadata": {},
   "source": [
    "### Inspección de tipo de dato incorrecto\n",
    "Analizo que las columnas tuvieran un tipo de dato acorde a su naturaleza. Me concentrare en datos que tengan por lo menos dos valores en los registros, puesto que hay varias categorías con un solo valor."
   ]
  },
  {
   "cell_type": "markdown",
   "metadata": {},
   "source": [
    "<font color=\"blue\"><b><h2> Análisis</h2> </font>\n",
    "Las variables: puerto de origen (sp), puerto de destino (dp), paquetes de entrada(ipkt) y número de bytes de entrada (ibyte), son de naturaleza discreta y no continuas. Por el motivo anterior le cambio el tipo de dato a un discreto."
   ]
  },
  {
   "cell_type": "code",
   "execution_count": null,
   "metadata": {},
   "outputs": [],
   "source": [
    "data = data.astype({'sp':'int64'})\n",
    "data = data.astype({'dp':'int64'})\n",
    "data = data.astype({'ipkt':'int64'})\n",
    "data = data.astype({'ibyt':'int64'})"
   ]
  },
  {
   "cell_type": "markdown",
   "metadata": {},
   "source": [
    "### Estructuración del conjunto de datos\n",
    "Agrupo las columnas de tipo discretas(int64), continuas(float64) y categóricas(object) por separado, para hacer una análisis más organizado"
   ]
  },
  {
   "cell_type": "code",
   "execution_count": null,
   "metadata": {},
   "outputs": [],
   "source": [
    "data_numeric_int = (data.dtypes == \"int64\")\n",
    "data_numeric_float = (data.dtypes == \"float64\")\n",
    "data_object  = (data.dtypes == \"object\")\n",
    "data_numeric_int = [c for c in data_numeric_int.index if data_numeric_int[c]]\n",
    "data_numeric_float = [c for c in data_numeric_float.index if data_numeric_float[c]]\n",
    "data_object = [c for c in data_object.index if data_object[c]]"
   ]
  },
  {
   "cell_type": "markdown",
   "metadata": {},
   "source": [
    "Variables cuantitativas discretas"
   ]
  },
  {
   "cell_type": "code",
   "execution_count": null,
   "metadata": {},
   "outputs": [],
   "source": [
    "data_numeric_int"
   ]
  },
  {
   "cell_type": "markdown",
   "metadata": {},
   "source": [
    "Variables cuantitativas continuas"
   ]
  },
  {
   "cell_type": "code",
   "execution_count": null,
   "metadata": {},
   "outputs": [],
   "source": [
    "print(data_numeric_float)"
   ]
  },
  {
   "cell_type": "markdown",
   "metadata": {},
   "source": [
    "Variables categoricas"
   ]
  },
  {
   "cell_type": "code",
   "execution_count": null,
   "metadata": {},
   "outputs": [],
   "source": [
    "print(data_object)"
   ]
  },
  {
   "cell_type": "markdown",
   "metadata": {},
   "source": [
    "### Balance del conjunto de datos\n",
    "Analizare si la data esta balanceada"
   ]
  },
  {
   "cell_type": "code",
   "execution_count": null,
   "metadata": {
    "scrolled": true
   },
   "outputs": [],
   "source": [
    "ax = sns.countplot(x='type', data=data, color='gray')\n",
    "ax.set_title(\"Diagrama de barras del Tipo de trafico\")\n",
    "ax.set_xlabel('Tipo de trafico')\n",
    "ax.set_ylabel('Cantidad de observaciones')"
   ]
  },
  {
   "cell_type": "code",
   "execution_count": null,
   "metadata": {},
   "outputs": [],
   "source": [
    "print(colored(f'Hacemos una copia del conjunto de datos original, para conservar la integridad de los datos originales', attrs=['bold']))\n",
    "dataOr = data"
   ]
  },
  {
   "cell_type": "markdown",
   "metadata": {},
   "source": [
    "<font color=\"Red\"><b><h2> Análisis</h2> </font>\n",
    "El conjunto de datos A como se aprecia no esta balanceada, esto es debido a que en un principio se trato de balancear el conjunto de datos B que tiene trafico minero no identificado, por tal razón el conjunto benigno se le añadió más registros. **Para remediar lo anterior, agrupare de manera pseudoaletoria registros no mineros con la finalidad de balancear el conjunto de datos A**."
   ]
  },
  {
   "cell_type": "code",
   "execution_count": null,
   "metadata": {},
   "outputs": [],
   "source": [
    "data_M = data[data['type'] == 'mine']\n",
    "data_NM = data[data['type'] == 'not_mine']\n",
    "dataNM_i = list(data_NM.index)\n",
    "random.shuffle(dataNM_i)\n",
    "ind_G = dataNM_i[0:data_M.shape[0]]"
   ]
  },
  {
   "cell_type": "code",
   "execution_count": null,
   "metadata": {},
   "outputs": [],
   "source": [
    "print(colored(f'Concatenamos', attrs=['bold']))\n",
    "data_agrupada = data_NM[data_NM.index.isin(ind_G)]\n",
    "data = pd.concat([data_agrupada,data_M], axis=0)\n",
    "print(colored(f'Genero un rango de valores', attrs=['bold']))\n",
    "indices = list(data.index)\n",
    "print(colored(f'El rango de valores se le aplico aleatoriedad de manera pseudoaleatoria', attrs=['bold']))\n",
    "random.shuffle(indices)\n",
    "print(colored(f'Reacomodo los registros del conjunto con los indices aleatorios', attrs=['bold']))\n",
    "data = data.reindex(indices)\n",
    "data.head()"
   ]
  },
  {
   "cell_type": "code",
   "execution_count": null,
   "metadata": {},
   "outputs": [],
   "source": [
    "ax = sns.countplot(x='type', data=data, color='gray')\n",
    "ax.set_title(\"Diagrama de barras del Tipo de trafico\")\n",
    "ax.set_xlabel('Tipo de trafico')\n",
    "ax.set_ylabel('Cantidad de observaciones')"
   ]
  },
  {
   "cell_type": "code",
   "execution_count": null,
   "metadata": {},
   "outputs": [],
   "source": [
    "print(colored(f'El conjunto de datos agrupados quedo con {data.shape[0]} registros, con respecto al original perdimos un {(data.shape[0]/dataOr.shape[0])*100}% con respecto al conjunto de datos original. ', attrs=['bold']))"
   ]
  },
  {
   "cell_type": "markdown",
   "metadata": {},
   "source": [
    "# Inspección de datos no agrupados"
   ]
  },
  {
   "cell_type": "markdown",
   "metadata": {},
   "source": [
    "### Datos categoricos "
   ]
  },
  {
   "cell_type": "markdown",
   "metadata": {},
   "source": [
    "No tengo en cuenta a 'references', ya que solo hace referencia a los nombres de los flujos. La moda(top) indica que hay elementos con la misma referencia, dado que concatenamos varios registros de diferentes conjuntos de datos, pero no significa que los registros sean repetidos."
   ]
  },
  {
   "cell_type": "code",
   "execution_count": null,
   "metadata": {
    "scrolled": true
   },
   "outputs": [],
   "source": [
    "print(colored(f'Variables categoricas', attrs=['bold']))\n",
    "data[data_object].describe().T"
   ]
  },
  {
   "cell_type": "code",
   "execution_count": null,
   "metadata": {},
   "outputs": [],
   "source": [
    "print(colored(f'Agregue el indicador de Moda de mis variables a mi tabla de resumen', attrs=['bold']))\n",
    "\n",
    "summary_descriptivo('type','Mo',data['type'].mode()[0])\n",
    "summary_descriptivo('pr','Mo',data['pr'].mode()[0])\n",
    "summary_descriptivo('flg','Mo',data['flg'].mode()[0])\n",
    "summary_descriptivo('cryptocurrency','Mo',data['cryptocurrency'].mode()[0])"
   ]
  },
  {
   "cell_type": "markdown",
   "metadata": {},
   "source": [
    "<font color=\"Red\"><b><h2> Análisis</h2> </font>\n",
    "- Las Hora de inicio (ts) y la hora final(te) tienen la misma moda, con la misma frecuencia.\n",
    "- La dirección ip de origen (sa) y la dirección ip de origen (da) tienen la misma moda. Con frecuencias distintas\n",
    "- La moda en el protocolo es TCP.\n",
    "- La flag con mas iteraciones es __A__.\n",
    "- Tanto el enrutador de salto y de salto BGP tienen la misma intrfaz para todos sus registros.\n",
    "- La dirección Mac (idmc) de entrada y la dirección mac(odmc) no fueron registradas por la herramienta"
   ]
  },
  {
   "cell_type": "markdown",
   "metadata": {},
   "source": [
    "### Datos continuos"
   ]
  },
  {
   "cell_type": "code",
   "execution_count": null,
   "metadata": {},
   "outputs": [],
   "source": [
    "print(colored(f'Variables continuas', attrs=['bold']))\n",
    "data[data_numeric_float].describe().T"
   ]
  },
  {
   "cell_type": "markdown",
   "metadata": {},
   "source": [
    "<font color=\"Red\"><b><h2> Análisis</h2> </font>"
   ]
  },
  {
   "cell_type": "markdown",
   "metadata": {},
   "source": [
    "- La variable de tiempo es la unica variable, cuyo valor es distinto a 0\n",
    "- La mayoria de los datos se encuentran entre el cuartil 2 y el cuartil 3"
   ]
  },
  {
   "cell_type": "markdown",
   "metadata": {},
   "source": [
    "### Datos discretos"
   ]
  },
  {
   "cell_type": "code",
   "execution_count": null,
   "metadata": {},
   "outputs": [],
   "source": [
    "print(colored(f'Variables continuas', attrs=['bold']))\n",
    "data[data_numeric_int].describe().T"
   ]
  },
  {
   "cell_type": "markdown",
   "metadata": {},
   "source": [
    "<font color=\"Red\"><b><h2> Análisis</h2> </font>"
   ]
  },
  {
   "cell_type": "markdown",
   "metadata": {},
   "source": [
    "- No tomo encuenta la columna index, puesto que solo hace referencia a los indices\n",
    "- Puerto de origen (sp) tiene la mayoria de datos distribuidos en el segundo y tercer cuartil\n",
    "- Puerto de destino (dp) tiene la mayoria de los datos en el primer y tercer cuartil, mayoritariamente en el tercero\n",
    "- El flujo de paquetes parece tener la mayoria de datos por encima del tercer cuartil\n",
    "- Flujo de bytes tambien parece tener la mayoria de datos por encima del tercer cuartil"
   ]
  },
  {
   "cell_type": "markdown",
   "metadata": {},
   "source": [
    "# Datos atipicos"
   ]
  },
  {
   "cell_type": "code",
   "execution_count": null,
   "metadata": {},
   "outputs": [],
   "source": [
    "data_numeric_int_list = ['sp', 'dp', 'ipkt', 'ibyt']\n",
    "name = ['Puerto origen', 'Puerto destino','Paquetes de entrada','Bytes de entrada']"
   ]
  },
  {
   "cell_type": "code",
   "execution_count": null,
   "metadata": {},
   "outputs": [],
   "source": [
    "def box_plot(x,name):\n",
    "    plt.figure(figsize=(12,5))\n",
    "    ax = plt.subplot()\n",
    "    ax = sns.boxplot(x=data[x], color='gray')\n",
    "    ax.set_title(f'Diagrama de cajas de {name}',size=20)\n",
    "    ax.set_xlabel(name,size=15)"
   ]
  },
  {
   "cell_type": "markdown",
   "metadata": {},
   "source": [
    "### Variables discretas"
   ]
  },
  {
   "cell_type": "code",
   "execution_count": null,
   "metadata": {
    "scrolled": true
   },
   "outputs": [],
   "source": [
    "m = data_numeric_int_list[0]\n",
    "box_plot(m,name[0])\n",
    "q1 = data[m].quantile(0.25)\n",
    "q3 = data[m].quantile(0.75)\n",
    "q2 = data[m].quantile(0.5)\n",
    "ric = q3-q1\n",
    "borde_s = q3 + 1.5*ric\n",
    "borde_i = q1-1.5*ric\n",
    "atip_s = data[data[m]>borde_s].shape[0]\n",
    "atip_i = data[data[m]<borde_i].shape[0]\n",
    "porc = ((atip_s+atip_i)/data[m].shape[0]) * 100\n",
    "\n",
    "\n",
    "summary_descriptivo(m,'Q1',q1)\n",
    "summary_descriptivo(m,'Q2',q2)\n",
    "summary_descriptivo(m,'Q3',q3)\n",
    "summary_descriptivo(m,'Ls',borde_s)\n",
    "summary_descriptivo(m,'Li',borde_i)\n",
    "summary_descriptivo(m,'RIC',ric)\n",
    "summary_descriptivo(m,'Outliers', (atip_i+atip_s))\n",
    "summary_descriptivo(m,'per_out',porc)\n",
    "\n",
    "\n",
    "print(colored(f'Hay {atip_s} valores atipicos en el limite superior', attrs=['bold']))\n",
    "print(colored(f'Hay {atip_i} valores atipicos en el limite inferior', attrs=['bold']))\n",
    "print(colored(f'Hay {porc}% datos atipicos', attrs=['bold']))"
   ]
  },
  {
   "cell_type": "code",
   "execution_count": null,
   "metadata": {},
   "outputs": [],
   "source": [
    "m = data_numeric_int_list[1]\n",
    "box_plot(m,name[1])\n",
    "q1 = data[m].quantile(0.25)\n",
    "q3 = data[m].quantile(0.75)\n",
    "ric = q3-q1\n",
    "borde_s = q3 + 1.5*ric\n",
    "borde_i = q1-1.5*ric\n",
    "atip_s = data[data[m]>borde_s].shape[0]\n",
    "atip_i = data[data[m]<borde_i].shape[0]\n",
    "porc = ((atip_s+atip_i)/data[m].shape[0]) * 100 \n",
    "\n",
    "summary_descriptivo(m,'Q1',q1)\n",
    "summary_descriptivo(m,'Q2',q2)\n",
    "summary_descriptivo(m,'Q3',q3)\n",
    "summary_descriptivo(m,'Ls',borde_s)\n",
    "summary_descriptivo(m,'Li',borde_i)\n",
    "summary_descriptivo(m,'RIC',ric)\n",
    "summary_descriptivo(m,'Outliers', (atip_i+atip_s))\n",
    "summary_descriptivo(m,'per_out',porc)\n",
    "\n",
    "print(colored(f'Hay {atip_s} valores atipicos en el limite superior', attrs=['bold']))\n",
    "print(colored(f'Hay {atip_i} valores atipicos en el limite inferior', attrs=['bold']))\n",
    "print(colored(f'Hay {porc}% datos atipicos', attrs=['bold']))"
   ]
  },
  {
   "cell_type": "code",
   "execution_count": null,
   "metadata": {},
   "outputs": [],
   "source": [
    "m = data_numeric_int_list[2]\n",
    "box_plot(m,name[2])\n",
    "q1 = data[m].quantile(0.25)\n",
    "q3 = data[m].quantile(0.75)\n",
    "ric = q3-q1\n",
    "borde_s = q3 + 1.5*ric\n",
    "borde_i = q1-1.5*ric\n",
    "atip_s = data[data[m]>borde_s].shape[0]\n",
    "atip_i = data[data[m]<borde_i].shape[0]\n",
    "porc = ((atip_s+atip_i)/data[m].shape[0]) * 100 \n",
    "\n",
    "summary_descriptivo(m,'Q1',q1)\n",
    "summary_descriptivo(m,'Q2',q2)\n",
    "summary_descriptivo(m,'Q3',q3)\n",
    "summary_descriptivo(m,'Ls',borde_s)\n",
    "summary_descriptivo(m,'Li',borde_i)\n",
    "summary_descriptivo(m,'RIC',ric)\n",
    "summary_descriptivo(m,'Outliers', (atip_i+atip_s))\n",
    "summary_descriptivo(m,'per_out',porc)\n",
    "\n",
    "print(colored(f'Hay {atip_s} valores atipicos en el limite superior', attrs=['bold']))\n",
    "print(colored(f'Hay {atip_i} valores atipicos en el limite inferior', attrs=['bold']))\n",
    "print(colored(f'Hay {porc}% datos atipicos', attrs=['bold']))"
   ]
  },
  {
   "cell_type": "code",
   "execution_count": null,
   "metadata": {},
   "outputs": [],
   "source": [
    "m = data_numeric_int_list[3]\n",
    "box_plot(m,name[3])\n",
    "q1 = data[m].quantile(0.25)\n",
    "q3 = data[m].quantile(0.75)\n",
    "ric = q3-q1\n",
    "borde_s = q3 + 1.5*ric\n",
    "borde_i = q1-1.5*ric\n",
    "atip_s = data[data[m]>borde_s].shape[0]\n",
    "atip_i = data[data[m]<borde_i].shape[0]\n",
    "porc = ((atip_s+atip_i)/data[m].shape[0]) * 100 \n",
    "\n",
    "summary_descriptivo(m,'Q1',q1)\n",
    "summary_descriptivo(m,'Q2',q2)\n",
    "summary_descriptivo(m,'Q3',q3)\n",
    "summary_descriptivo(m,'Ls',borde_s)\n",
    "summary_descriptivo(m,'Li',borde_i)\n",
    "summary_descriptivo(m,'RIC',ric)\n",
    "summary_descriptivo(m,'Outliers', (atip_i+atip_s))\n",
    "summary_descriptivo(m,'per_out',porc)\n",
    "\n",
    "print(colored(f'Hay {atip_s} valores atipicos en el limite superior', attrs=['bold']))\n",
    "print(colored(f'Hay {atip_i} valores atipicos en el limite inferior', attrs=['bold']))\n",
    "print(colored(f'Hay {porc}% datos atipicos', attrs=['bold']))"
   ]
  },
  {
   "cell_type": "code",
   "execution_count": null,
   "metadata": {},
   "outputs": [],
   "source": [
    "data_numeric_float_list = ['td']\n",
    "name = ['Duración del flujo']"
   ]
  },
  {
   "cell_type": "markdown",
   "metadata": {},
   "source": [
    "### Variable continua"
   ]
  },
  {
   "cell_type": "code",
   "execution_count": null,
   "metadata": {},
   "outputs": [],
   "source": [
    "m = data_numeric_float_list[0]\n",
    "box_plot(m,name[0])\n",
    "q1 = data[m].quantile(0.25)\n",
    "q3 = data[m].quantile(0.75)\n",
    "ric = q3-q1\n",
    "borde_s = q3 + 1.5*ric\n",
    "borde_i = q1-1.5*ric\n",
    "atip_s = data[data[m]>borde_s].shape[0]\n",
    "atip_i = data[data[m]<borde_i].shape[0]\n",
    "porc = ((atip_s+atip_i)/data[m].shape[0]) * 100 \n",
    "\n",
    "summary_descriptivo(m,'Q1',q1)\n",
    "summary_descriptivo(m,'Q2',q2)\n",
    "summary_descriptivo(m,'Q3',q3)\n",
    "summary_descriptivo(m,'Ls',borde_s)\n",
    "summary_descriptivo(m,'Li',borde_i)\n",
    "summary_descriptivo(m,'RIC',ric)\n",
    "summary_descriptivo(m,'Outliers', (atip_i+atip_s))\n",
    "summary_descriptivo(m,'per_out',porc)\n",
    "\n",
    "print(colored(f'Hay {atip_s} valores atipicos en el limite superior', attrs=['bold']))\n",
    "print(colored(f'Hay {atip_i} valores atipicos en el limite inferior', attrs=['bold']))\n",
    "print(colored(f'Hay {porc}% datos atipicos', attrs=['bold']))"
   ]
  },
  {
   "cell_type": "markdown",
   "metadata": {},
   "source": [
    "# Análisis datos Agrupados"
   ]
  },
  {
   "cell_type": "markdown",
   "metadata": {},
   "source": [
    "### Datos categoricos"
   ]
  },
  {
   "cell_type": "markdown",
   "metadata": {},
   "source": [
    "- No tengo en cuenta a las variables 'nh', 'nhb', 'ismc', 'odmc', 'idmc', 'osmc', 'mpls1', 'mpls2', 'mpls3', 'mpls4', 'mpls5', 'mpls6', 'mpls7', 'mpls8', 'mpls9', 'mpls10', 'ra', 'eng' y 'tr' en esta etapa del análisis, puesto que solamente hay un valor y es el mismo para todos los registros."
   ]
  },
  {
   "cell_type": "code",
   "execution_count": null,
   "metadata": {},
   "outputs": [],
   "source": [
    "data_object_list = ['pr','flg', 'cryptocurrency', 'type']\n",
    "tables_frequency_cualitative = []\n",
    "namess = ['Protocolo','Banderas','Criptomonedas','Tipo']\n",
    "for j, i in enumerate(data_object_list):\n",
    "    tables_frequency_cualitative.append(made_frequency_table_B(i, data,namess[j]))"
   ]
  },
  {
   "cell_type": "code",
   "execution_count": null,
   "metadata": {
    "scrolled": true
   },
   "outputs": [],
   "source": [
    "print(colored(f'Tabla de frecuencia {namess[0]}',attrs=['bold']))\n",
    "table_f = pd.DataFrame(tables_frequency_cualitative[0])\n",
    "display(table_f)\n",
    "bar_plot(data_object_list[0],namess[0])\n",
    "v = data[data_object_list[0]].value_counts()\n",
    "\n",
    "print(v)\n",
    "print(colored(f'El protocolo con mas observaciones (Moda) en el conjunto de datos es el {v.index[0]} con {v[0]} registros.',attrs=['bold']))"
   ]
  },
  {
   "cell_type": "code",
   "execution_count": null,
   "metadata": {},
   "outputs": [],
   "source": [
    "print(colored(f'Tabla de frecuencia {namess[1]}',attrs=['bold']))\n",
    "table_f = pd.DataFrame(tables_frequency_cualitative[1])\n",
    "display(table_f)\n",
    "bar_plot(data_object_list[1],namess[1])\n",
    "v = data[data_object_list[1]].value_counts()\n",
    "print(v)\n",
    "print(colored(f'El protocolo con mas observaciones (Moda) en el conjunto de datos es el {v.index[0]} con {v[0]} registros.',attrs=['bold']))"
   ]
  },
  {
   "cell_type": "code",
   "execution_count": null,
   "metadata": {},
   "outputs": [],
   "source": [
    "print(colored(f'Tabla de frecuencia {namess[2]}',attrs=['bold']))\n",
    "table_f = pd.DataFrame(tables_frequency_cualitative[2])\n",
    "display(table_f)\n",
    "bar_plot(data_object_list[2],namess[2])\n",
    "v = data[data_object_list[2]].value_counts()\n",
    "print(v)\n",
    "print(colored(f'El protocolo con mas observaciones (Moda) en el conjunto de datos es el {v.index[0]} con {v[0]} registros.',attrs=['bold']))"
   ]
  },
  {
   "cell_type": "code",
   "execution_count": null,
   "metadata": {},
   "outputs": [],
   "source": [
    "print(colored(f'Tabla de frecuencia {namess[3]}',attrs=['bold']))\n",
    "table_f = pd.DataFrame(tables_frequency_cualitative[3])\n",
    "display(table_f)\n",
    "bar_plot(data_object_list[3],namess[3])\n",
    "v = data[data_object_list[3]].value_counts()\n",
    "print(v)\n",
    "print(colored(f'El protocolo con mas observaciones (Moda) en el conjunto de datos es el {v.index[0]} con {v[0]} registros.',attrs=['bold']))"
   ]
  },
  {
   "cell_type": "markdown",
   "metadata": {},
   "source": [
    "### Datos continuos"
   ]
  },
  {
   "cell_type": "markdown",
   "metadata": {},
   "source": [
    "Las variables 'fwd', 'stos', 'opkt', 'obyt', 'in', 'out', 'sas', 'das', 'smk', 'dmk', 'dtos', 'dir', 'svln', 'dvln', 'cl', 'sl','al' y 'exid' son descartadas para esta etapa del analisis exploratorio, puesto que su valor es 0 en sus registros."
   ]
  },
  {
   "cell_type": "code",
   "execution_count": null,
   "metadata": {},
   "outputs": [],
   "source": [
    "data_numeric_float_list = ['td']\n",
    "name_f = ['Duración del flujo']\n",
    "tables_frequency_fl = []\n",
    "for j, i in enumerate(data_numeric_float_list):\n",
    "    tables_frequency_fl.append(made_frequency_table_A(i, data,1, name_f[j]))"
   ]
  },
  {
   "cell_type": "code",
   "execution_count": null,
   "metadata": {},
   "outputs": [],
   "source": [
    "m = intervals_class(data.shape[0])\n",
    "m = int(np.rint(np.min(m)))\n",
    "m"
   ]
  },
  {
   "cell_type": "code",
   "execution_count": null,
   "metadata": {
    "scrolled": true
   },
   "outputs": [],
   "source": [
    "print(colored(f'Tabla de frecuencia de {name_f[0]}',attrs=['bold']))\n",
    "table_f = pd.DataFrame(tables_frequency_fl[0])\n",
    "display(table_f)\n",
    "hist_Ogive_plot(data_numeric_float_list[0],m,name_f[0])\n",
    "fila = data[data_numeric_float_list[0]]\n",
    "asimetria, curtosis, message, message_2 = is_asimetric_curtosis(fila)\n",
    "print(colored(f'El coeficiente de asimetria es de {asimetria}, la distribución es {message}.',attrs=['bold']))\n",
    "print(colored(f'El coeficiente de curtosis es de {curtosis}, la distribución es {message_2}.',attrs=['bold']))"
   ]
  },
  {
   "cell_type": "markdown",
   "metadata": {},
   "source": [
    "### Datos discretos"
   ]
  },
  {
   "cell_type": "code",
   "execution_count": null,
   "metadata": {},
   "outputs": [],
   "source": [
    "data_numeric_int_list = ['sp', 'dp', 'ipkt', 'ibyt']        \n",
    "tables_frequency_int = []\n",
    "name = ['Puerto origen', 'Puerto destino','Paquetes de entrada','Bytes de entrada']\n",
    "for j,i in enumerate(data_numeric_int_list):\n",
    "    tables_frequency_int.append(made_frequency_table_A(i, data,1,name[j]))"
   ]
  },
  {
   "cell_type": "code",
   "execution_count": null,
   "metadata": {
    "scrolled": true
   },
   "outputs": [],
   "source": [
    "print(colored(f'Tabla de frecuencia de {name[0]}',attrs=['bold']))\n",
    "table_f = pd.DataFrame(tables_frequency_fl[0])\n",
    "display(table_f)\n",
    "hist_Ogive_plot(data_numeric_int_list[0],m,name[0])\n",
    "fila = data[data_numeric_int_list[0]]\n",
    "asimetria, curtosis, message, message_2 = is_asimetric_curtosis(fila)\n",
    "print(colored(f'El coeficiente de asimetria es de {asimetria}, la distribución es {message}.',attrs=['bold']))\n",
    "print(colored(f'El coeficiente de curtosis es de {curtosis}, la distribución es {message_2}.',attrs=['bold']))"
   ]
  },
  {
   "cell_type": "code",
   "execution_count": null,
   "metadata": {
    "scrolled": true
   },
   "outputs": [],
   "source": [
    "print(colored(f'Tabla de frecuencia de {name[1]}',attrs=['bold']))\n",
    "table_f = pd.DataFrame(tables_frequency_int[1])\n",
    "display(table_f)\n",
    "hist_Ogive_plot(data_numeric_int_list[1],m,name[1])\n",
    "fila = data[data_numeric_int_list[1]]\n",
    "asimetria, curtosis, message, message_2 = is_asimetric_curtosis(fila)\n",
    "print(colored(f'El coeficiente de asimetria es de {asimetria}, la distribución es {message}.',attrs=['bold']))\n",
    "print(colored(f'El coeficiente de curtosis es de {curtosis}, la distribución es {message_2}.',attrs=['bold']))"
   ]
  },
  {
   "cell_type": "code",
   "execution_count": null,
   "metadata": {
    "scrolled": true
   },
   "outputs": [],
   "source": [
    "print(colored(f'Tabla de frecuencia de {name[2]}',attrs=['bold']))\n",
    "table_f = pd.DataFrame(tables_frequency_int[2])\n",
    "display(table_f)\n",
    "hist_Ogive_plot(data_numeric_int_list[2],m,name[2])\n",
    "fila = data[data_numeric_int_list[2]]\n",
    "asimetria, curtosis, message, message_2 = is_asimetric_curtosis(fila)\n",
    "print(colored(f'El coeficiente de asimetria es de {asimetria}, la distribución es {message}.',attrs=['bold']))\n",
    "print(colored(f'El coeficiente de curtosis es de {curtosis}, la distribución es {message_2}.',attrs=['bold']))"
   ]
  },
  {
   "cell_type": "code",
   "execution_count": null,
   "metadata": {
    "scrolled": false
   },
   "outputs": [],
   "source": [
    "print(colored(f'Tabla de frecuencia de {name[3]}',attrs=['bold']))\n",
    "table_f = pd.DataFrame(tables_frequency_int[3])\n",
    "display(table_f)\n",
    "hist_Ogive_plot(data_numeric_int_list[3],m,name[3])\n",
    "fila = data[data_numeric_int_list[3]]\n",
    "asimetria, curtosis, message, message_2 = is_asimetric_curtosis(fila)\n",
    "print(colored(f'El coeficiente de asimetria es de {asimetria}, la distribución es {message}.',attrs=['bold']))\n",
    "print(colored(f'El coeficiente de curtosis es de {curtosis}, la distribución es {message_2}.',attrs=['bold']))"
   ]
  },
  {
   "cell_type": "markdown",
   "metadata": {},
   "source": [
    "<font color='red'><h1>Resumen</h1></font>"
   ]
  },
  {
   "cell_type": "markdown",
   "metadata": {},
   "source": [
    "### Diccionario de datos\n",
    "- $\\overline{X}$ = Media Aritmetica\n",
    "- Me: Mediana\n",
    "- Mg: Media Geometrica\n",
    "- Mo: Moda\n",
    "- Fr: Frecuencia de la moda\n",
    "- R: Rango\n",
    "- Min: Minimo\n",
    "- Max: Maximo\n",
    "- $\\S^{2}$: Varianza\n",
    "- S: Desviación\n",
    "- CV: Coeficiente de variación\n",
    "- Q1: Cuartil 1\n",
    "- Q2: Cuartil 2\n",
    "- Q3: Cuartil 3\n",
    "- Ls: Limite Superior\n",
    "- Li: Limite Inferior\n",
    "- RIC: Rango intercuartilico\n",
    "- Outliers: Datos atipicos\n",
    "- A: Coeficiente de simetria\n",
    "- CK: Coeficiente de curtosis"
   ]
  },
  {
   "cell_type": "code",
   "execution_count": null,
   "metadata": {
    "scrolled": true
   },
   "outputs": [],
   "source": [
    "features_No_Agrupadas.T"
   ]
  },
  {
   "cell_type": "code",
   "execution_count": null,
   "metadata": {},
   "outputs": [],
   "source": [
    "data.to_csv('DataA_Tratada.csv',index=False)"
   ]
  }
 ],
 "metadata": {
  "kernelspec": {
   "display_name": "Python 3",
   "language": "python",
   "name": "python3"
  },
  "language_info": {
   "codemirror_mode": {
    "name": "ipython",
    "version": 3
   },
   "file_extension": ".py",
   "mimetype": "text/x-python",
   "name": "python",
   "nbconvert_exporter": "python",
   "pygments_lexer": "ipython3",
   "version": "3.7.3"
  }
 },
 "nbformat": 4,
 "nbformat_minor": 2
}
