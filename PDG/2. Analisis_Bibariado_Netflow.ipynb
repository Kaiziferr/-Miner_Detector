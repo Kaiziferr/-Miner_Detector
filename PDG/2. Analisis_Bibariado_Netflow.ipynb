{
 "cells": [
  {
   "cell_type": "code",
   "execution_count": 1,
   "metadata": {},
   "outputs": [],
   "source": [
    "import pandas as pd\n",
    "import numpy as np\n",
    "from statsmodels.discrete.discrete_model import Probit\n",
    "import statsmodels.api as sm\n",
    "from sklearn.impute import SimpleImputer\n",
    "import matplotlib.pyplot as plt\n",
    "from statsmodels.graphics.mosaicplot import mosaic\n",
    "from itertools import product\n",
    "from termcolor import colored"
   ]
  },
  {
   "cell_type": "markdown",
   "metadata": {},
   "source": [
    "# Preparación de los datos\n",
    "#### Descripción de las caracteristicas ('features')\n",
    "- ts:     Hora de inicio del flujo\n",
    "- te:     Hora de finalización del flujo\n",
    "- td:     Duración del flujo\n",
    "- sa:     Dirección IP origen\n",
    "- da:     Dirección IP de destino\n",
    "- sp:     Puerto de origen\n",
    "- dp:     Puerto de destino\n",
    "- pr:     Protocolo\n",
    "- flg:    Banderas\n",
    "- fwd:    Estado de reenvío\n",
    "- stos:   Tipo de servicio de origen\n",
    "- ipkt:   Paquetes de entrada\n",
    "- ibyt:   Bytes de entrada\n",
    "- opkt:   Paquetes de salida\n",
    "- obyt:   Bytes de salida\n",
    "- in:     Interfaz de entrada\n",
    "- out:    Interfaz de salida\n",
    "- sas:    Número de sistema autónomo BGP de origen\n",
    "- das:    Número de sistema autónomo BGP de destino\n",
    "- smk:    Máscara de red de origen\n",
    "- dmk:    Máscara de red de destino\n",
    "- dtos:   Tipo de servicio de destino\n",
    "- dir:    Dirección del flujo\n",
    "- nh:     Enrutador de siguiente salto\n",
    "- nhb:    Enrutador de siguiente salto BGP\n",
    "- svln:   VLAN de origen\n",
    "- dvln:   VLAN de destino\n",
    "- ismc:   Dirección MAC de la fuente de entrada   \n",
    "- odmc:   Dirección MAC de destino de salida\n",
    "- idmc:   Introduzca la dirección MAC de destino\n",
    "- osmc:   Dirección MAC de la fuente de salida\n",
    "- mpls1:  Etiqueta MPLS 1\n",
    "- mpls2:  Etiqueta MPLS 2\n",
    "- mpls3:  Etiqueta MPLS 3\n",
    "- mpls4:  Etiqueta MPLS 4\n",
    "- mpls5:  Etiqueta MPLS 5\n",
    "- mpls6:  Etiqueta MPLS 6\n",
    "- mpls7:  Etiqueta MPLS 7\n",
    "- mpls8:  Etiqueta MPLS 8\n",
    "- mpls9:  Etiqueta MPLS 9\n",
    "- mpls10: Etiqueta MPLS 10\n",
    "- cl:     Latencia del cliente\n",
    "- sl:     Latencia del servidor\n",
    "- al:     Latencia de la aplicación\n",
    "- ra:     Exportando la dirección IP del sistema (enrutador)\n",
    "- eng:    Tipo / ID de motor\n",
    "- exid:   Exportando el ID del sistema\n",
    "- tr:     Marca de tiempo de flujo recibido\n",
    "- type:   Tipo de registro Mina/ no Mina \n",
    "- cryptocurrency: : Tipo criptomoneda\n",
    "- id_Cryptocurrency:: Id Criptomoneda"
   ]
  },
  {
   "cell_type": "code",
   "execution_count": 125,
   "metadata": {
    "scrolled": true
   },
   "outputs": [
    {
     "data": {
      "text/html": [
       "<div>\n",
       "<style scoped>\n",
       "    .dataframe tbody tr th:only-of-type {\n",
       "        vertical-align: middle;\n",
       "    }\n",
       "\n",
       "    .dataframe tbody tr th {\n",
       "        vertical-align: top;\n",
       "    }\n",
       "\n",
       "    .dataframe thead th {\n",
       "        text-align: right;\n",
       "    }\n",
       "</style>\n",
       "<table border=\"1\" class=\"dataframe\">\n",
       "  <thead>\n",
       "    <tr style=\"text-align: right;\">\n",
       "      <th></th>\n",
       "      <th>index</th>\n",
       "      <th>References</th>\n",
       "      <th>ts</th>\n",
       "      <th>te</th>\n",
       "      <th>td</th>\n",
       "      <th>sa</th>\n",
       "      <th>da</th>\n",
       "      <th>sp</th>\n",
       "      <th>dp</th>\n",
       "      <th>pr</th>\n",
       "      <th>...</th>\n",
       "      <th>cl</th>\n",
       "      <th>sl</th>\n",
       "      <th>al</th>\n",
       "      <th>ra</th>\n",
       "      <th>eng</th>\n",
       "      <th>exid</th>\n",
       "      <th>tr</th>\n",
       "      <th>cryptocurrency</th>\n",
       "      <th>id_Cryptocurrency</th>\n",
       "      <th>type</th>\n",
       "    </tr>\n",
       "  </thead>\n",
       "  <tbody>\n",
       "    <tr>\n",
       "      <th>0</th>\n",
       "      <td>33812</td>\n",
       "      <td>134-csves/0.csv</td>\n",
       "      <td>2020-09-10 08:48:49</td>\n",
       "      <td>2020-09-10 08:48:59</td>\n",
       "      <td>9.557</td>\n",
       "      <td>120.55.220.55</td>\n",
       "      <td>192.168.0.13</td>\n",
       "      <td>443.0</td>\n",
       "      <td>56780.0</td>\n",
       "      <td>TCP</td>\n",
       "      <td>...</td>\n",
       "      <td>0.0</td>\n",
       "      <td>0.0</td>\n",
       "      <td>0.0</td>\n",
       "      <td>0.0.0.0</td>\n",
       "      <td>0/0</td>\n",
       "      <td>0.0</td>\n",
       "      <td>1969-12-31 19:00:00.000</td>\n",
       "      <td>NaN</td>\n",
       "      <td>0</td>\n",
       "      <td>not_mine</td>\n",
       "    </tr>\n",
       "    <tr>\n",
       "      <th>1</th>\n",
       "      <td>227478</td>\n",
       "      <td>653-csves/0.csv</td>\n",
       "      <td>2020-09-15 19:33:50</td>\n",
       "      <td>2020-09-15 19:33:50</td>\n",
       "      <td>0.000</td>\n",
       "      <td>104.91.165.202</td>\n",
       "      <td>192.168.0.13</td>\n",
       "      <td>80.0</td>\n",
       "      <td>45158.0</td>\n",
       "      <td>TCP</td>\n",
       "      <td>...</td>\n",
       "      <td>0.0</td>\n",
       "      <td>0.0</td>\n",
       "      <td>0.0</td>\n",
       "      <td>0.0.0.0</td>\n",
       "      <td>0/0</td>\n",
       "      <td>0.0</td>\n",
       "      <td>1969-12-31 19:00:00.000</td>\n",
       "      <td>NaN</td>\n",
       "      <td>0</td>\n",
       "      <td>not_mine</td>\n",
       "    </tr>\n",
       "    <tr>\n",
       "      <th>2</th>\n",
       "      <td>287057</td>\n",
       "      <td>834-csves/0.csv</td>\n",
       "      <td>2020-09-17 16:16:41</td>\n",
       "      <td>2020-09-17 16:19:42</td>\n",
       "      <td>180.220</td>\n",
       "      <td>192.168.0.13</td>\n",
       "      <td>23.52.112.10</td>\n",
       "      <td>58542.0</td>\n",
       "      <td>443.0</td>\n",
       "      <td>TCP</td>\n",
       "      <td>...</td>\n",
       "      <td>0.0</td>\n",
       "      <td>0.0</td>\n",
       "      <td>0.0</td>\n",
       "      <td>0.0.0.0</td>\n",
       "      <td>0/0</td>\n",
       "      <td>0.0</td>\n",
       "      <td>1969-12-31 19:00:00.000</td>\n",
       "      <td>NaN</td>\n",
       "      <td>0</td>\n",
       "      <td>not_mine</td>\n",
       "    </tr>\n",
       "    <tr>\n",
       "      <th>3</th>\n",
       "      <td>387249</td>\n",
       "      <td>1121-csves/0.csv</td>\n",
       "      <td>2020-09-20 12:20:12</td>\n",
       "      <td>2020-09-20 12:20:12</td>\n",
       "      <td>0.000</td>\n",
       "      <td>192.168.0.13</td>\n",
       "      <td>13.35.111.67</td>\n",
       "      <td>58192.0</td>\n",
       "      <td>443.0</td>\n",
       "      <td>TCP</td>\n",
       "      <td>...</td>\n",
       "      <td>0.0</td>\n",
       "      <td>0.0</td>\n",
       "      <td>0.0</td>\n",
       "      <td>0.0.0.0</td>\n",
       "      <td>0/0</td>\n",
       "      <td>0.0</td>\n",
       "      <td>1969-12-31 19:00:00.000</td>\n",
       "      <td>NaN</td>\n",
       "      <td>0</td>\n",
       "      <td>not_mine</td>\n",
       "    </tr>\n",
       "    <tr>\n",
       "      <th>4</th>\n",
       "      <td>236501</td>\n",
       "      <td>682-csves/0.csv</td>\n",
       "      <td>2020-09-16 14:09:03</td>\n",
       "      <td>2020-09-16 14:09:52</td>\n",
       "      <td>49.616</td>\n",
       "      <td>192.168.0.13</td>\n",
       "      <td>200.196.225.98</td>\n",
       "      <td>60108.0</td>\n",
       "      <td>443.0</td>\n",
       "      <td>TCP</td>\n",
       "      <td>...</td>\n",
       "      <td>0.0</td>\n",
       "      <td>0.0</td>\n",
       "      <td>0.0</td>\n",
       "      <td>0.0.0.0</td>\n",
       "      <td>0/0</td>\n",
       "      <td>0.0</td>\n",
       "      <td>1969-12-31 19:00:00.000</td>\n",
       "      <td>NaN</td>\n",
       "      <td>0</td>\n",
       "      <td>not_mine</td>\n",
       "    </tr>\n",
       "  </tbody>\n",
       "</table>\n",
       "<p>5 rows × 53 columns</p>\n",
       "</div>"
      ],
      "text/plain": [
       "    index        References                   ts                   te  \\\n",
       "0   33812   134-csves/0.csv  2020-09-10 08:48:49  2020-09-10 08:48:59   \n",
       "1  227478   653-csves/0.csv  2020-09-15 19:33:50  2020-09-15 19:33:50   \n",
       "2  287057   834-csves/0.csv  2020-09-17 16:16:41  2020-09-17 16:19:42   \n",
       "3  387249  1121-csves/0.csv  2020-09-20 12:20:12  2020-09-20 12:20:12   \n",
       "4  236501   682-csves/0.csv  2020-09-16 14:09:03  2020-09-16 14:09:52   \n",
       "\n",
       "        td              sa              da       sp       dp   pr  ...   cl  \\\n",
       "0    9.557   120.55.220.55    192.168.0.13    443.0  56780.0  TCP  ...  0.0   \n",
       "1    0.000  104.91.165.202    192.168.0.13     80.0  45158.0  TCP  ...  0.0   \n",
       "2  180.220    192.168.0.13    23.52.112.10  58542.0    443.0  TCP  ...  0.0   \n",
       "3    0.000    192.168.0.13    13.35.111.67  58192.0    443.0  TCP  ...  0.0   \n",
       "4   49.616    192.168.0.13  200.196.225.98  60108.0    443.0  TCP  ...  0.0   \n",
       "\n",
       "    sl   al       ra  eng  exid                       tr  cryptocurrency  \\\n",
       "0  0.0  0.0  0.0.0.0  0/0   0.0  1969-12-31 19:00:00.000             NaN   \n",
       "1  0.0  0.0  0.0.0.0  0/0   0.0  1969-12-31 19:00:00.000             NaN   \n",
       "2  0.0  0.0  0.0.0.0  0/0   0.0  1969-12-31 19:00:00.000             NaN   \n",
       "3  0.0  0.0  0.0.0.0  0/0   0.0  1969-12-31 19:00:00.000             NaN   \n",
       "4  0.0  0.0  0.0.0.0  0/0   0.0  1969-12-31 19:00:00.000             NaN   \n",
       "\n",
       "   id_Cryptocurrency      type  \n",
       "0                  0  not_mine  \n",
       "1                  0  not_mine  \n",
       "2                  0  not_mine  \n",
       "3                  0  not_mine  \n",
       "4                  0  not_mine  \n",
       "\n",
       "[5 rows x 53 columns]"
      ]
     },
     "execution_count": 125,
     "metadata": {},
     "output_type": "execute_result"
    }
   ],
   "source": [
    "# Importamos el conjunto de datos\n",
    "data = pd.read_csv('./dataA.csv')\n",
    "data.head()"
   ]
  },
  {
   "cell_type": "markdown",
   "metadata": {},
   "source": [
    "### Estructuración del conjunto de datos\n",
    "Agrupo las columnas de tipo int64, float64 y object por separado, para hacer una analisis mas organizado"
   ]
  },
  {
   "cell_type": "code",
   "execution_count": 126,
   "metadata": {},
   "outputs": [],
   "source": [
    "data_numeric_int = (data.dtypes == \"int64\")\n",
    "data_numeric_float = (data.dtypes == \"float64\")\n",
    "data_object  = (data.dtypes == \"object\")\n",
    "data_numeric_int = [c for c in data_numeric_int.index if data_numeric_int[c]]\n",
    "data_numeric_float = [c for c in data_numeric_float.index if data_numeric_float[c]]\n",
    "data_object = [c for c in data_object.index if data_object[c]]"
   ]
  },
  {
   "cell_type": "code",
   "execution_count": 127,
   "metadata": {},
   "outputs": [
    {
     "data": {
      "text/html": [
       "<div>\n",
       "<style scoped>\n",
       "    .dataframe tbody tr th:only-of-type {\n",
       "        vertical-align: middle;\n",
       "    }\n",
       "\n",
       "    .dataframe tbody tr th {\n",
       "        vertical-align: top;\n",
       "    }\n",
       "\n",
       "    .dataframe thead th {\n",
       "        text-align: right;\n",
       "    }\n",
       "</style>\n",
       "<table border=\"1\" class=\"dataframe\">\n",
       "  <thead>\n",
       "    <tr style=\"text-align: right;\">\n",
       "      <th></th>\n",
       "      <th>td</th>\n",
       "      <th>sp</th>\n",
       "      <th>dp</th>\n",
       "      <th>fwd</th>\n",
       "      <th>stos</th>\n",
       "      <th>ipkt</th>\n",
       "      <th>ibyt</th>\n",
       "      <th>opkt</th>\n",
       "      <th>obyt</th>\n",
       "      <th>in</th>\n",
       "      <th>...</th>\n",
       "      <th>smk</th>\n",
       "      <th>dmk</th>\n",
       "      <th>dtos</th>\n",
       "      <th>dir</th>\n",
       "      <th>svln</th>\n",
       "      <th>dvln</th>\n",
       "      <th>cl</th>\n",
       "      <th>sl</th>\n",
       "      <th>al</th>\n",
       "      <th>exid</th>\n",
       "    </tr>\n",
       "  </thead>\n",
       "  <tbody>\n",
       "    <tr>\n",
       "      <th>0</th>\n",
       "      <td>9.557</td>\n",
       "      <td>443.0</td>\n",
       "      <td>56780.0</td>\n",
       "      <td>0.0</td>\n",
       "      <td>0.0</td>\n",
       "      <td>13.0</td>\n",
       "      <td>9974.0</td>\n",
       "      <td>0.0</td>\n",
       "      <td>0.0</td>\n",
       "      <td>0.0</td>\n",
       "      <td>...</td>\n",
       "      <td>0.0</td>\n",
       "      <td>0.0</td>\n",
       "      <td>0.0</td>\n",
       "      <td>0.0</td>\n",
       "      <td>0.0</td>\n",
       "      <td>0.0</td>\n",
       "      <td>0.0</td>\n",
       "      <td>0.0</td>\n",
       "      <td>0.0</td>\n",
       "      <td>0.0</td>\n",
       "    </tr>\n",
       "    <tr>\n",
       "      <th>1</th>\n",
       "      <td>0.000</td>\n",
       "      <td>80.0</td>\n",
       "      <td>45158.0</td>\n",
       "      <td>0.0</td>\n",
       "      <td>0.0</td>\n",
       "      <td>1.0</td>\n",
       "      <td>32.0</td>\n",
       "      <td>0.0</td>\n",
       "      <td>0.0</td>\n",
       "      <td>0.0</td>\n",
       "      <td>...</td>\n",
       "      <td>0.0</td>\n",
       "      <td>0.0</td>\n",
       "      <td>0.0</td>\n",
       "      <td>0.0</td>\n",
       "      <td>0.0</td>\n",
       "      <td>0.0</td>\n",
       "      <td>0.0</td>\n",
       "      <td>0.0</td>\n",
       "      <td>0.0</td>\n",
       "      <td>0.0</td>\n",
       "    </tr>\n",
       "    <tr>\n",
       "      <th>2</th>\n",
       "      <td>180.220</td>\n",
       "      <td>58542.0</td>\n",
       "      <td>443.0</td>\n",
       "      <td>0.0</td>\n",
       "      <td>0.0</td>\n",
       "      <td>5.0</td>\n",
       "      <td>160.0</td>\n",
       "      <td>0.0</td>\n",
       "      <td>0.0</td>\n",
       "      <td>0.0</td>\n",
       "      <td>...</td>\n",
       "      <td>0.0</td>\n",
       "      <td>0.0</td>\n",
       "      <td>0.0</td>\n",
       "      <td>0.0</td>\n",
       "      <td>0.0</td>\n",
       "      <td>0.0</td>\n",
       "      <td>0.0</td>\n",
       "      <td>0.0</td>\n",
       "      <td>0.0</td>\n",
       "      <td>0.0</td>\n",
       "    </tr>\n",
       "    <tr>\n",
       "      <th>3</th>\n",
       "      <td>0.000</td>\n",
       "      <td>58192.0</td>\n",
       "      <td>443.0</td>\n",
       "      <td>0.0</td>\n",
       "      <td>0.0</td>\n",
       "      <td>1.0</td>\n",
       "      <td>32.0</td>\n",
       "      <td>0.0</td>\n",
       "      <td>0.0</td>\n",
       "      <td>0.0</td>\n",
       "      <td>...</td>\n",
       "      <td>0.0</td>\n",
       "      <td>0.0</td>\n",
       "      <td>0.0</td>\n",
       "      <td>0.0</td>\n",
       "      <td>0.0</td>\n",
       "      <td>0.0</td>\n",
       "      <td>0.0</td>\n",
       "      <td>0.0</td>\n",
       "      <td>0.0</td>\n",
       "      <td>0.0</td>\n",
       "    </tr>\n",
       "    <tr>\n",
       "      <th>4</th>\n",
       "      <td>49.616</td>\n",
       "      <td>60108.0</td>\n",
       "      <td>443.0</td>\n",
       "      <td>0.0</td>\n",
       "      <td>0.0</td>\n",
       "      <td>114.0</td>\n",
       "      <td>2566.0</td>\n",
       "      <td>0.0</td>\n",
       "      <td>0.0</td>\n",
       "      <td>0.0</td>\n",
       "      <td>...</td>\n",
       "      <td>0.0</td>\n",
       "      <td>0.0</td>\n",
       "      <td>0.0</td>\n",
       "      <td>0.0</td>\n",
       "      <td>0.0</td>\n",
       "      <td>0.0</td>\n",
       "      <td>0.0</td>\n",
       "      <td>0.0</td>\n",
       "      <td>0.0</td>\n",
       "      <td>0.0</td>\n",
       "    </tr>\n",
       "  </tbody>\n",
       "</table>\n",
       "<p>5 rows × 23 columns</p>\n",
       "</div>"
      ],
      "text/plain": [
       "        td       sp       dp  fwd  stos   ipkt    ibyt  opkt  obyt   in  ...  \\\n",
       "0    9.557    443.0  56780.0  0.0   0.0   13.0  9974.0   0.0   0.0  0.0  ...   \n",
       "1    0.000     80.0  45158.0  0.0   0.0    1.0    32.0   0.0   0.0  0.0  ...   \n",
       "2  180.220  58542.0    443.0  0.0   0.0    5.0   160.0   0.0   0.0  0.0  ...   \n",
       "3    0.000  58192.0    443.0  0.0   0.0    1.0    32.0   0.0   0.0  0.0  ...   \n",
       "4   49.616  60108.0    443.0  0.0   0.0  114.0  2566.0   0.0   0.0  0.0  ...   \n",
       "\n",
       "   smk  dmk  dtos  dir  svln  dvln   cl   sl   al  exid  \n",
       "0  0.0  0.0   0.0  0.0   0.0   0.0  0.0  0.0  0.0   0.0  \n",
       "1  0.0  0.0   0.0  0.0   0.0   0.0  0.0  0.0  0.0   0.0  \n",
       "2  0.0  0.0   0.0  0.0   0.0   0.0  0.0  0.0  0.0   0.0  \n",
       "3  0.0  0.0   0.0  0.0   0.0   0.0  0.0  0.0  0.0   0.0  \n",
       "4  0.0  0.0   0.0  0.0   0.0   0.0  0.0  0.0  0.0   0.0  \n",
       "\n",
       "[5 rows x 23 columns]"
      ]
     },
     "execution_count": 127,
     "metadata": {},
     "output_type": "execute_result"
    }
   ],
   "source": [
    "y = data['type']\n",
    "X = data.drop('type', axis=1)\n",
    "X_Continua = data[data_numeric_float]\n",
    "X_Continua.head()"
   ]
  },
  {
   "cell_type": "code",
   "execution_count": 128,
   "metadata": {},
   "outputs": [],
   "source": [
    "X_Continua = X_Continua[['td','ipkt','ibyt','sp','dp']]"
   ]
  },
  {
   "cell_type": "code",
   "execution_count": 129,
   "metadata": {},
   "outputs": [],
   "source": [
    "imputer = SimpleImputer(missing_values = np.nan, strategy = 'mean')\n",
    "values = imputer.fit_transform(X_Continua)"
   ]
  },
  {
   "cell_type": "code",
   "execution_count": 130,
   "metadata": {
    "scrolled": true
   },
   "outputs": [
    {
     "data": {
      "text/html": [
       "<div>\n",
       "<style scoped>\n",
       "    .dataframe tbody tr th:only-of-type {\n",
       "        vertical-align: middle;\n",
       "    }\n",
       "\n",
       "    .dataframe tbody tr th {\n",
       "        vertical-align: top;\n",
       "    }\n",
       "\n",
       "    .dataframe thead th {\n",
       "        text-align: right;\n",
       "    }\n",
       "</style>\n",
       "<table border=\"1\" class=\"dataframe\">\n",
       "  <thead>\n",
       "    <tr style=\"text-align: right;\">\n",
       "      <th></th>\n",
       "      <th>0</th>\n",
       "      <th>1</th>\n",
       "      <th>2</th>\n",
       "      <th>3</th>\n",
       "      <th>4</th>\n",
       "    </tr>\n",
       "  </thead>\n",
       "  <tbody>\n",
       "    <tr>\n",
       "      <th>td</th>\n",
       "      <td>9.557</td>\n",
       "      <td>0.0</td>\n",
       "      <td>180.22</td>\n",
       "      <td>0.0</td>\n",
       "      <td>49.616</td>\n",
       "    </tr>\n",
       "    <tr>\n",
       "      <th>ipkt</th>\n",
       "      <td>13.000</td>\n",
       "      <td>1.0</td>\n",
       "      <td>5.00</td>\n",
       "      <td>1.0</td>\n",
       "      <td>114.000</td>\n",
       "    </tr>\n",
       "    <tr>\n",
       "      <th>ibyt</th>\n",
       "      <td>9974.000</td>\n",
       "      <td>32.0</td>\n",
       "      <td>160.00</td>\n",
       "      <td>32.0</td>\n",
       "      <td>2566.000</td>\n",
       "    </tr>\n",
       "    <tr>\n",
       "      <th>sp</th>\n",
       "      <td>443.000</td>\n",
       "      <td>80.0</td>\n",
       "      <td>58542.00</td>\n",
       "      <td>58192.0</td>\n",
       "      <td>60108.000</td>\n",
       "    </tr>\n",
       "    <tr>\n",
       "      <th>dp</th>\n",
       "      <td>56780.000</td>\n",
       "      <td>45158.0</td>\n",
       "      <td>443.00</td>\n",
       "      <td>443.0</td>\n",
       "      <td>443.000</td>\n",
       "    </tr>\n",
       "  </tbody>\n",
       "</table>\n",
       "</div>"
      ],
      "text/plain": [
       "              0        1         2        3          4\n",
       "td        9.557      0.0    180.22      0.0     49.616\n",
       "ipkt     13.000      1.0      5.00      1.0    114.000\n",
       "ibyt   9974.000     32.0    160.00     32.0   2566.000\n",
       "sp      443.000     80.0  58542.00  58192.0  60108.000\n",
       "dp    56780.000  45158.0    443.00    443.0    443.000"
      ]
     },
     "execution_count": 130,
     "metadata": {},
     "output_type": "execute_result"
    }
   ],
   "source": [
    "X_Continua = pd.DataFrame(values, columns = X_Continua.columns, index = X_Continua.index)\n",
    "X_Continua.head().T"
   ]
  },
  {
   "cell_type": "code",
   "execution_count": 131,
   "metadata": {},
   "outputs": [],
   "source": [
    "y = y.replace({'not_mine': 0, 'mine': 1})"
   ]
  },
  {
   "cell_type": "code",
   "execution_count": 132,
   "metadata": {
    "scrolled": true
   },
   "outputs": [
    {
     "name": "stdout",
     "output_type": "stream",
     "text": [
      "Optimization terminated successfully.\n",
      "         Current function value: 0.189522\n",
      "         Iterations 10\n",
      "                          Probit Regression Results                           \n",
      "==============================================================================\n",
      "Dep. Variable:                   type   No. Observations:               465084\n",
      "Model:                         Probit   Df Residuals:                   465079\n",
      "Method:                           MLE   Df Model:                            4\n",
      "Date:                Thu, 01 Oct 2020   Pseudo R-squ.:                 -0.4780\n",
      "Time:                        17:55:41   Log-Likelihood:                -88144.\n",
      "converged:                       True   LL-Null:                       -59637.\n",
      "Covariance Type:            nonrobust   LLR p-value:                     1.000\n",
      "==============================================================================\n",
      "                 coef    std err          z      P>|z|      [0.025      0.975]\n",
      "------------------------------------------------------------------------------\n",
      "td             0.0027   3.77e-05     71.871      0.000       0.003       0.003\n",
      "ipkt         7.98e-05   1.81e-05      4.402      0.000    4.43e-05       0.000\n",
      "ibyt       -2.627e-06   2.57e-07    -10.241      0.000   -3.13e-06   -2.12e-06\n",
      "sp         -3.928e-05   1.14e-07   -345.086      0.000   -3.95e-05   -3.91e-05\n",
      "dp         -3.843e-05   1.14e-07   -336.095      0.000   -3.87e-05   -3.82e-05\n",
      "==============================================================================\n"
     ]
    }
   ],
   "source": [
    "probit_model = Probit(y,X_Continua.astype(float)).fit()\n",
    "print(probit_model.summary())"
   ]
  },
  {
   "cell_type": "code",
   "execution_count": 133,
   "metadata": {},
   "outputs": [],
   "source": [
    "def accounts(name_x, name_y,tuples):\n",
    "    acounts = []\n",
    "    for i in range(len(tuples)):\n",
    "        acounts.append(data[(data[name_x] == tuples[i][0]) & (data[name_y] == tuples[i][1])].shape[0])\n",
    "    \n",
    "    return acounts"
   ]
  },
  {
   "cell_type": "code",
   "execution_count": 134,
   "metadata": {},
   "outputs": [],
   "source": [
    "def table_contingency(timon):\n",
    "    temp_value = []\n",
    "    for i in timon.index.levels[0]:\n",
    "        temp_value.append(timon[i][0])\n",
    "        temp_value.append(timon[i][1])\n",
    "    temp_value = np.array(temp_value).reshape(2,len(timon.index.levels[0].values),order='F')\n",
    "    temp_value = pd.DataFrame(temp_value, index = timon.index.levels[1].values[::-1], columns = timon.index.levels[0].values)\n",
    "    return temp_value"
   ]
  },
  {
   "cell_type": "code",
   "execution_count": 135,
   "metadata": {},
   "outputs": [],
   "source": [
    "def mosaic_plot(timon, titulo):\n",
    "    mosaic(timon, title=titulo)\n",
    "    plt.show()"
   ]
  },
  {
   "cell_type": "code",
   "execution_count": 196,
   "metadata": {},
   "outputs": [],
   "source": [
    "def parametros(c_x,c_y):\n",
    "    temp_x = list(data[c_x].unique())\n",
    "    temp_x = pd.Series(temp_x).dropna()\n",
    "    temp_x = list(temp_x)\n",
    "    temp_y = list(data[c_y].unique())\n",
    "    tuples = list(product(temp_x, temp_y))\n",
    "    acoun = accounts(c_x, c_y,tuples)\n",
    "    index = pd.MultiIndex.from_tuples(tuples, names=['first', 'second'])\n",
    "    return acoun, tuples, index"
   ]
  },
  {
   "cell_type": "code",
   "execution_count": 193,
   "metadata": {},
   "outputs": [
    {
     "name": "stdout",
     "output_type": "stream",
     "text": [
      "['TCP', 'UDP', 'ICMP', 'ICMP6']\n",
      "\u001b[1mTabla de contingencia\u001b[0m\n",
      "          ICMP  ICMP6     TCP     UDP\n",
      "not_mine   195    386  333601  117762\n",
      "mine         0      0   13032       0\n"
     ]
    },
    {
     "data": {
      "image/png": "[encoded data removed]",
      "text/plain": [
       "<Figure size 432x288 with 3 Axes>"
      ]
     },
     "metadata": {
      "needs_background": "light"
     },
     "output_type": "display_data"
    }
   ],
   "source": [
    "acoun, tuples, index = parametros('pr','type')\n",
    "timon = pd.Series(acoun, index=index)\n",
    "print(colored(f'Tabla de contingencia',attrs=['bold']))\n",
    "print(table_contingency(timon))\n",
    "mosaic_plot(timon, \"Tipo trafico(target) Protocolo\")"
   ]
  },
  {
   "cell_type": "code",
   "execution_count": 194,
   "metadata": {},
   "outputs": [
    {
     "name": "stdout",
     "output_type": "stream",
     "text": [
      "['Monero', 'Etherium', 'Litecoin', 'Bitcoin', 'Bitcash']\n",
      "\u001b[1mTabla de contingencia\u001b[0m\n",
      "          Bitcash  Bitcoin  Etherium  Litecoin  Monero\n",
      "not_mine        0        0         0         0       0\n",
      "mine         1010      762     10147       756     414\n"
     ]
    },
    {
     "data": {
      "image/png": "[encoded data removed]",
      "text/plain": [
       "<Figure size 432x288 with 3 Axes>"
      ]
     },
     "metadata": {
      "needs_background": "light"
     },
     "output_type": "display_data"
    }
   ],
   "source": [
    "acoun, tuples, index = parametros('cryptocurrency','type')\n",
    "timon = pd.Series(acoun, index=index)\n",
    "print(colored(f'Tabla de contingencia',attrs=['bold']))\n",
    "print(table_contingency(timon))\n",
    "mosaic_plot(timon, \"Tipo trafico(target) Protocolo\")"
   ]
  },
  {
   "cell_type": "code",
   "execution_count": 195,
   "metadata": {},
   "outputs": [
    {
     "name": "stdout",
     "output_type": "stream",
     "text": [
      "['...AP.SF', '...A....', '...AP...', '........', '...APRSF', '...A...F', '...APR.F', '...A.R..', '...AP..F', '...AP.S.', '...A.R.F', '...A..S.', '...APRS.', '.....R..', '...A..SF', '...A.RSF', '...APR..', '......S.', '.....RS.', '...A.RS.']\n",
      "\u001b[1mTabla de contingencia\u001b[0m\n",
      "          ........  ......S.  .....R..  .....RS.  ...A....  ...A...F  \\\n",
      "not_mine    118343       357      2697       274    130156     29398   \n",
      "mine             0         1         0         0      1011        58   \n",
      "\n",
      "          ...A..S.  ...A..SF  ...A.R..  ...A.R.F  ...A.RS.  ...A.RSF  \\\n",
      "not_mine       440       299      5392      8412         7        29   \n",
      "mine             8         7         0         0         0         0   \n",
      "\n",
      "          ...AP...  ...AP..F  ...AP.S.  ...AP.SF  ...APR..  ...APR.F  \\\n",
      "not_mine     15311     34100     48679     38399       817      1546   \n",
      "mine         11250        63       134       496         2         0   \n",
      "\n",
      "          ...APRS.  ...APRSF  \n",
      "not_mine      9619      7669  \n",
      "mine             2         0  \n"
     ]
    },
    {
     "data": {
      "image/png": "[encoded data removed]",
      "text/plain": [
       "<Figure size 432x288 with 3 Axes>"
      ]
     },
     "metadata": {
      "needs_background": "light"
     },
     "output_type": "display_data"
    }
   ],
   "source": [
    "acoun, tuples, index = parametros('flg','type')\n",
    "timon = pd.Series(acoun, index=index)\n",
    "print(colored(f'Tabla de contingencia',attrs=['bold']))\n",
    "print(table_contingency(timon))\n",
    "mosaic_plot(timon, \"Tipo trafico(target) Protocolo\")"
   ]
  },
  {
   "cell_type": "code",
   "execution_count": 199,
   "metadata": {},
   "outputs": [
    {
     "name": "stdout",
     "output_type": "stream",
     "text": [
      "\u001b[1mTabla de contingencia\u001b[0m\n",
      "          0.0.0.0\n",
      "not_mine   451944\n",
      "mine        13032\n"
     ]
    },
    {
     "data": {
      "image/png": "[encoded data removed]",
      "text/plain": [
       "<Figure size 432x288 with 3 Axes>"
      ]
     },
     "metadata": {
      "needs_background": "light"
     },
     "output_type": "display_data"
    }
   ],
   "source": [
    "acoun, tuples, index = parametros('nh','type')\n",
    "timon = pd.Series(acoun, index=index)\n",
    "print(colored(f'Tabla de contingencia',attrs=['bold']))\n",
    "print(table_contingency(timon))\n",
    "mosaic_plot(timon, \"Tipo trafico(target) Protocolo\")"
   ]
  },
  {
   "cell_type": "code",
   "execution_count": null,
   "metadata": {},
   "outputs": [],
   "source": []
  }
 ],
 "metadata": {
  "kernelspec": {
   "display_name": "Python 3",
   "language": "python",
   "name": "python3"
  },
  "language_info": {
   "codemirror_mode": {
    "name": "ipython",
    "version": 3
   },
   "file_extension": ".py",
   "mimetype": "text/x-python",
   "name": "python",
   "nbconvert_exporter": "python",
   "pygments_lexer": "ipython3",
   "version": "3.7.3"
  }
 },
 "nbformat": 4,
 "nbformat_minor": 2
}
